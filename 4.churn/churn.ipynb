{
 "cells": [
  {
   "cell_type": "markdown",
   "metadata": {
    "toc": true
   },
   "source": [
    "<h1>Содержание<span class=\"tocSkip\"></span></h1>\n",
    "<div class=\"toc\"><ul class=\"toc-item\"><li><span><a href=\"#Подготовка-данных\" data-toc-modified-id=\"Подготовка-данных-1\"><span class=\"toc-item-num\">1&nbsp;&nbsp;</span>Подготовка данных</a></span><ul class=\"toc-item\"><li><span><a href=\"#Импорт,-знакомство-с-данными.\" data-toc-modified-id=\"Импорт,-знакомство-с-данными.-1.1\"><span class=\"toc-item-num\">1.1&nbsp;&nbsp;</span>Импорт, знакомство с данными.</a></span></li><li><span><a href=\"#Предобработка-данных\" data-toc-modified-id=\"Предобработка-данных-1.2\"><span class=\"toc-item-num\">1.2&nbsp;&nbsp;</span>Предобработка данных</a></span></li></ul></li><li><span><a href=\"#Исследование-задачи\" data-toc-modified-id=\"Исследование-задачи-2\"><span class=\"toc-item-num\">2&nbsp;&nbsp;</span>Исследование задачи</a></span><ul class=\"toc-item\"><li><span><a href=\"#Логистическая-регрессия\" data-toc-modified-id=\"Логистическая-регрессия-2.1\"><span class=\"toc-item-num\">2.1&nbsp;&nbsp;</span>Логистическая регрессия</a></span></li><li><span><a href=\"#Случайное-дерево\" data-toc-modified-id=\"Случайное-дерево-2.2\"><span class=\"toc-item-num\">2.2&nbsp;&nbsp;</span>Случайное дерево</a></span></li><li><span><a href=\"#Случайный-лес\" data-toc-modified-id=\"Случайный-лес-2.3\"><span class=\"toc-item-num\">2.3&nbsp;&nbsp;</span>Случайный лес</a></span></li><li><span><a href=\"#Общий-вывод-по-работе-с-несбалансированной-выборкой\" data-toc-modified-id=\"Общий-вывод-по-работе-с-несбалансированной-выборкой-2.4\"><span class=\"toc-item-num\">2.4&nbsp;&nbsp;</span>Общий вывод по работе с несбалансированной выборкой</a></span></li></ul></li><li><span><a href=\"#Борьба-с-дисбалансом\" data-toc-modified-id=\"Борьба-с-дисбалансом-3\"><span class=\"toc-item-num\">3&nbsp;&nbsp;</span>Борьба с дисбалансом</a></span><ul class=\"toc-item\"><li><span><a href=\"#Апсэмплинг\" data-toc-modified-id=\"Апсэмплинг-3.1\"><span class=\"toc-item-num\">3.1&nbsp;&nbsp;</span>Апсэмплинг</a></span></li><li><span><a href=\"#Даунсэмплинг\" data-toc-modified-id=\"Даунсэмплинг-3.2\"><span class=\"toc-item-num\">3.2&nbsp;&nbsp;</span>Даунсэмплинг</a></span></li><li><span><a href=\"#Изменение-порога\" data-toc-modified-id=\"Изменение-порога-3.3\"><span class=\"toc-item-num\">3.3&nbsp;&nbsp;</span>Изменение порога</a></span></li><li><span><a href=\"#Изменение-порога-+-апсэмплинг\" data-toc-modified-id=\"Изменение-порога-+-апсэмплинг-3.4\"><span class=\"toc-item-num\">3.4&nbsp;&nbsp;</span>Изменение порога + апсэмплинг</a></span></li><li><span><a href=\"#Изменение-порога-+-даунсэмплинг\" data-toc-modified-id=\"Изменение-порога-+-даунсэмплинг-3.5\"><span class=\"toc-item-num\">3.5&nbsp;&nbsp;</span>Изменение порога + даунсэмплинг</a></span></li><li><span><a href=\"#Общий-вывод-по-борьбе-с-дисбалансом\" data-toc-modified-id=\"Общий-вывод-по-борьбе-с-дисбалансом-3.6\"><span class=\"toc-item-num\">3.6&nbsp;&nbsp;</span>Общий вывод по борьбе с дисбалансом</a></span></li></ul></li><li><span><a href=\"#Тестирование-модели\" data-toc-modified-id=\"Тестирование-модели-4\"><span class=\"toc-item-num\">4&nbsp;&nbsp;</span>Тестирование модели</a></span></li><li><span><a href=\"#Общий-вывод:\" data-toc-modified-id=\"Общий-вывод:-5\"><span class=\"toc-item-num\">5&nbsp;&nbsp;</span>Общий вывод:</a></span></li></ul></div>"
   ]
  },
  {
   "cell_type": "markdown",
   "metadata": {},
   "source": [
    "# Отток клиентов"
   ]
  },
  {
   "cell_type": "markdown",
   "metadata": {},
   "source": [
    "Из «Бета-Банка» стали уходить клиенты. Каждый месяц. Немного, но заметно. Банковские маркетологи посчитали: сохранять текущих клиентов дешевле, чем привлекать новых.\n",
    "\n",
    "Нужно спрогнозировать, уйдёт клиент из банка в ближайшее время или нет. Вам предоставлены исторические данные о поведении клиентов и расторжении договоров с банком. \n",
    "\n",
    "Постройте модель с предельно большим значением *F1*-меры. Чтобы сдать проект успешно, нужно довести метрику до 0.59. Проверьте *F1*-меру на тестовой выборке самостоятельно.\n",
    "\n",
    "Дополнительно измеряйте *AUC-ROC*, сравнивайте её значение с *F1*-мерой.\n",
    "\n",
    "Источник данных: [https://www.kaggle.com/barelydedicated/bank-customer-churn-modeling](https://www.kaggle.com/barelydedicated/bank-customer-churn-modeling)"
   ]
  },
  {
   "cell_type": "markdown",
   "metadata": {},
   "source": [
    "**План исследования:**  \n",
    "* Ознакомиться с данными\n",
    "* Осуществить предобработку данных\n",
    "* Разбить данные на выборки (Обучающая, валидационная, тестовая)\n",
    "* Оценить эффективность разных моделей на несбалансированной выборке\n",
    "* Сбалансировать выборку различными способами (апсэмплинг, даунсэмплинг, изменение порогового значения)\n",
    "* Подбор оптимальной модели (метод, гиперпараметры)\n",
    "* Проверить модели с наилучшими гиперпараметрами на тестовой выборке"
   ]
  },
  {
   "cell_type": "markdown",
   "metadata": {},
   "source": [
    "## Подготовка данных"
   ]
  },
  {
   "cell_type": "markdown",
   "metadata": {},
   "source": [
    "### Импорт, знакомство с данными."
   ]
  },
  {
   "cell_type": "markdown",
   "metadata": {},
   "source": [
    "Импортируем библиотеки и функции, взглянем на данные."
   ]
  },
  {
   "cell_type": "code",
   "execution_count": 32,
   "metadata": {
    "scrolled": false
   },
   "outputs": [],
   "source": [
    "import time\n",
    "from tqdm.auto import tqdm \n",
    "\n",
    "import pandas as pd\n",
    "import matplotlib.pyplot as plt \n",
    "import numpy as np\n",
    "\n",
    "from sklearn.metrics import accuracy_score, classification_report, confusion_matrix,\\\n",
    "roc_auc_score, roc_curve, f1_score\n",
    "from sklearn.preprocessing import OneHotEncoder, StandardScaler\n",
    "from sklearn.model_selection import train_test_split, GridSearchCV\n",
    "\n",
    "from sklearn.tree import DecisionTreeClassifier \n",
    "from sklearn.ensemble import RandomForestClassifier\n",
    "from sklearn.linear_model import LogisticRegression\n",
    "\n",
    "from sklearn.utils import shuffle\n",
    "from sklearn.preprocessing import StandardScaler"
   ]
  },
  {
   "cell_type": "code",
   "execution_count": 2,
   "metadata": {},
   "outputs": [
    {
     "name": "stdout",
     "output_type": "stream",
     "text": [
      "<class 'pandas.core.frame.DataFrame'>\n",
      "RangeIndex: 10000 entries, 0 to 9999\n",
      "Data columns (total 14 columns):\n",
      " #   Column           Non-Null Count  Dtype  \n",
      "---  ------           --------------  -----  \n",
      " 0   RowNumber        10000 non-null  int64  \n",
      " 1   CustomerId       10000 non-null  int64  \n",
      " 2   Surname          10000 non-null  object \n",
      " 3   CreditScore      10000 non-null  int64  \n",
      " 4   Geography        10000 non-null  object \n",
      " 5   Gender           10000 non-null  object \n",
      " 6   Age              10000 non-null  int64  \n",
      " 7   Tenure           9091 non-null   float64\n",
      " 8   Balance          10000 non-null  float64\n",
      " 9   NumOfProducts    10000 non-null  int64  \n",
      " 10  HasCrCard        10000 non-null  int64  \n",
      " 11  IsActiveMember   10000 non-null  int64  \n",
      " 12  EstimatedSalary  10000 non-null  float64\n",
      " 13  Exited           10000 non-null  int64  \n",
      "dtypes: float64(3), int64(8), object(3)\n",
      "memory usage: 1.1+ MB\n"
     ]
    },
    {
     "data": {
      "text/html": [
       "<div>\n",
       "<style scoped>\n",
       "    .dataframe tbody tr th:only-of-type {\n",
       "        vertical-align: middle;\n",
       "    }\n",
       "\n",
       "    .dataframe tbody tr th {\n",
       "        vertical-align: top;\n",
       "    }\n",
       "\n",
       "    .dataframe thead th {\n",
       "        text-align: right;\n",
       "    }\n",
       "</style>\n",
       "<table border=\"1\" class=\"dataframe\">\n",
       "  <thead>\n",
       "    <tr style=\"text-align: right;\">\n",
       "      <th></th>\n",
       "      <th>RowNumber</th>\n",
       "      <th>CustomerId</th>\n",
       "      <th>Surname</th>\n",
       "      <th>CreditScore</th>\n",
       "      <th>Geography</th>\n",
       "      <th>Gender</th>\n",
       "      <th>Age</th>\n",
       "      <th>Tenure</th>\n",
       "      <th>Balance</th>\n",
       "      <th>NumOfProducts</th>\n",
       "      <th>HasCrCard</th>\n",
       "      <th>IsActiveMember</th>\n",
       "      <th>EstimatedSalary</th>\n",
       "      <th>Exited</th>\n",
       "    </tr>\n",
       "  </thead>\n",
       "  <tbody>\n",
       "    <tr>\n",
       "      <th>0</th>\n",
       "      <td>1</td>\n",
       "      <td>15634602</td>\n",
       "      <td>Hargrave</td>\n",
       "      <td>619</td>\n",
       "      <td>France</td>\n",
       "      <td>Female</td>\n",
       "      <td>42</td>\n",
       "      <td>2.0</td>\n",
       "      <td>0.00</td>\n",
       "      <td>1</td>\n",
       "      <td>1</td>\n",
       "      <td>1</td>\n",
       "      <td>101348.88</td>\n",
       "      <td>1</td>\n",
       "    </tr>\n",
       "    <tr>\n",
       "      <th>1</th>\n",
       "      <td>2</td>\n",
       "      <td>15647311</td>\n",
       "      <td>Hill</td>\n",
       "      <td>608</td>\n",
       "      <td>Spain</td>\n",
       "      <td>Female</td>\n",
       "      <td>41</td>\n",
       "      <td>1.0</td>\n",
       "      <td>83807.86</td>\n",
       "      <td>1</td>\n",
       "      <td>0</td>\n",
       "      <td>1</td>\n",
       "      <td>112542.58</td>\n",
       "      <td>0</td>\n",
       "    </tr>\n",
       "    <tr>\n",
       "      <th>2</th>\n",
       "      <td>3</td>\n",
       "      <td>15619304</td>\n",
       "      <td>Onio</td>\n",
       "      <td>502</td>\n",
       "      <td>France</td>\n",
       "      <td>Female</td>\n",
       "      <td>42</td>\n",
       "      <td>8.0</td>\n",
       "      <td>159660.80</td>\n",
       "      <td>3</td>\n",
       "      <td>1</td>\n",
       "      <td>0</td>\n",
       "      <td>113931.57</td>\n",
       "      <td>1</td>\n",
       "    </tr>\n",
       "    <tr>\n",
       "      <th>3</th>\n",
       "      <td>4</td>\n",
       "      <td>15701354</td>\n",
       "      <td>Boni</td>\n",
       "      <td>699</td>\n",
       "      <td>France</td>\n",
       "      <td>Female</td>\n",
       "      <td>39</td>\n",
       "      <td>1.0</td>\n",
       "      <td>0.00</td>\n",
       "      <td>2</td>\n",
       "      <td>0</td>\n",
       "      <td>0</td>\n",
       "      <td>93826.63</td>\n",
       "      <td>0</td>\n",
       "    </tr>\n",
       "    <tr>\n",
       "      <th>4</th>\n",
       "      <td>5</td>\n",
       "      <td>15737888</td>\n",
       "      <td>Mitchell</td>\n",
       "      <td>850</td>\n",
       "      <td>Spain</td>\n",
       "      <td>Female</td>\n",
       "      <td>43</td>\n",
       "      <td>2.0</td>\n",
       "      <td>125510.82</td>\n",
       "      <td>1</td>\n",
       "      <td>1</td>\n",
       "      <td>1</td>\n",
       "      <td>79084.10</td>\n",
       "      <td>0</td>\n",
       "    </tr>\n",
       "  </tbody>\n",
       "</table>\n",
       "</div>"
      ],
      "text/plain": [
       "   RowNumber  CustomerId   Surname  CreditScore Geography  Gender  Age  \\\n",
       "0          1    15634602  Hargrave          619    France  Female   42   \n",
       "1          2    15647311      Hill          608     Spain  Female   41   \n",
       "2          3    15619304      Onio          502    France  Female   42   \n",
       "3          4    15701354      Boni          699    France  Female   39   \n",
       "4          5    15737888  Mitchell          850     Spain  Female   43   \n",
       "\n",
       "   Tenure    Balance  NumOfProducts  HasCrCard  IsActiveMember  \\\n",
       "0     2.0       0.00              1          1               1   \n",
       "1     1.0   83807.86              1          0               1   \n",
       "2     8.0  159660.80              3          1               0   \n",
       "3     1.0       0.00              2          0               0   \n",
       "4     2.0  125510.82              1          1               1   \n",
       "\n",
       "   EstimatedSalary  Exited  \n",
       "0        101348.88       1  \n",
       "1        112542.58       0  \n",
       "2        113931.57       1  \n",
       "3         93826.63       0  \n",
       "4         79084.10       0  "
      ]
     },
     "execution_count": 2,
     "metadata": {},
     "output_type": "execute_result"
    }
   ],
   "source": [
    "df = pd.read_csv('/datasets/Churn.csv')\n",
    "df.info()\n",
    "df.head()"
   ]
  },
  {
   "cell_type": "markdown",
   "metadata": {},
   "source": [
    "Из сопровождающих данных известно: \n",
    "\n",
    "* **RowNumber** — индекс строки в данных\n",
    "* **CustomerId** — уникальный идентификатор клиента\n",
    "* **Surname** — фамилия\n",
    "* **CreditScore** — кредитный рейтинг\n",
    "* **Geography** — страна проживания\n",
    "* **Gender** — пол\n",
    "* **Age** — возраст\n",
    "* **Tenure** — сколько лет человек является клиентом банка\n",
    "* **Balance** — баланс на счёте\n",
    "* **NumOfProducts** — количество продуктов банка, используемых клиентом\n",
    "* **HasCrCard** — наличие кредитной карты\n",
    "* **IsActiveMember** — активность клиента\n",
    "* **EstimatedSalary** — предполагаемая зарплата\n",
    "* **Exited** — факт ухода клиента\n",
    "\n",
    "Целевой признак - ***Excited***."
   ]
  },
  {
   "cell_type": "markdown",
   "metadata": {},
   "source": [
    "Для начала переименуем столбцы датафрейма."
   ]
  },
  {
   "cell_type": "code",
   "execution_count": 3,
   "metadata": {},
   "outputs": [],
   "source": [
    "def change_column_names(df):\n",
    "    \n",
    "    orig_columns_list = df.columns.tolist()\n",
    "    new_columns_list = []\n",
    "    \n",
    "    for column_name in orig_columns_list:\n",
    "        new_column_name=\"\"\n",
    "        new_column_name+=column_name[0].lower()\n",
    "        for i in range(1,len(column_name)):\n",
    "            if(column_name[i].isupper()):\n",
    "                new_column_name+=\"_\"+column_name[i].lower()\n",
    "            else:\n",
    "                new_column_name+=column_name[i]\n",
    "        new_columns_list.append(new_column_name)\n",
    "        \n",
    "    rename_dict = {}    \n",
    "    for i in range(len(orig_columns_list)):\n",
    "        rename_dict[orig_columns_list[i]] = new_columns_list[i]\n",
    "    return rename_dict"
   ]
  },
  {
   "cell_type": "code",
   "execution_count": 4,
   "metadata": {},
   "outputs": [
    {
     "data": {
      "text/plain": [
       "Index(['row_number', 'customer_id', 'surname', 'credit_score', 'geography',\n",
       "       'gender', 'age', 'tenure', 'balance', 'num_of_products', 'has_cr_card',\n",
       "       'is_active_member', 'estimated_salary', 'exited'],\n",
       "      dtype='object')"
      ]
     },
     "execution_count": 4,
     "metadata": {},
     "output_type": "execute_result"
    }
   ],
   "source": [
    "df = df.rename(columns = change_column_names(df))\n",
    "df.columns"
   ]
  },
  {
   "cell_type": "code",
   "execution_count": 5,
   "metadata": {},
   "outputs": [
    {
     "data": {
      "text/plain": [
       "0    0.7963\n",
       "1    0.2037\n",
       "Name: exited, dtype: float64"
      ]
     },
     "execution_count": 5,
     "metadata": {},
     "output_type": "execute_result"
    }
   ],
   "source": [
    "df['exited'].value_counts(normalize=True)"
   ]
  },
  {
   "cell_type": "markdown",
   "metadata": {},
   "source": [
    "**Выводы:**  \n",
    "* Одна строка - один пользователь\n",
    "* Целевой параметр - exited\n",
    "* Доля покинувших банк клиентов - ~20%. Выборка несбалансирована.\n",
    "* Содержатся пропуски в столбце tenure."
   ]
  },
  {
   "cell_type": "markdown",
   "metadata": {},
   "source": [
    "### Предобработка данных"
   ]
  },
  {
   "cell_type": "markdown",
   "metadata": {},
   "source": [
    "Данные в столбцах 'row_number', 'customer_id', 'surname' нам не потребуются -  отбросим лишние колонки."
   ]
  },
  {
   "cell_type": "code",
   "execution_count": 6,
   "metadata": {},
   "outputs": [
    {
     "name": "stdout",
     "output_type": "stream",
     "text": [
      "<class 'pandas.core.frame.DataFrame'>\n",
      "RangeIndex: 10000 entries, 0 to 9999\n",
      "Data columns (total 11 columns):\n",
      " #   Column            Non-Null Count  Dtype  \n",
      "---  ------            --------------  -----  \n",
      " 0   credit_score      10000 non-null  int64  \n",
      " 1   geography         10000 non-null  object \n",
      " 2   gender            10000 non-null  object \n",
      " 3   age               10000 non-null  int64  \n",
      " 4   tenure            9091 non-null   float64\n",
      " 5   balance           10000 non-null  float64\n",
      " 6   num_of_products   10000 non-null  int64  \n",
      " 7   has_cr_card       10000 non-null  int64  \n",
      " 8   is_active_member  10000 non-null  int64  \n",
      " 9   estimated_salary  10000 non-null  float64\n",
      " 10  exited            10000 non-null  int64  \n",
      "dtypes: float64(3), int64(6), object(2)\n",
      "memory usage: 859.5+ KB\n"
     ]
    }
   ],
   "source": [
    "df = df.drop(columns = ['row_number', 'customer_id', 'surname'])\n",
    "df.info()"
   ]
  },
  {
   "cell_type": "markdown",
   "metadata": {},
   "source": [
    "Проверим данные на дубликаты."
   ]
  },
  {
   "cell_type": "code",
   "execution_count": 7,
   "metadata": {},
   "outputs": [
    {
     "data": {
      "text/plain": [
       "0"
      ]
     },
     "execution_count": 7,
     "metadata": {},
     "output_type": "execute_result"
    }
   ],
   "source": [
    "df.duplicated().sum()"
   ]
  },
  {
   "cell_type": "markdown",
   "metadata": {},
   "source": [
    "Теперь поработаем со столбцом tenure. Во-первых, ознакомимся с пропусками, во-вторых, определимся, можем ли мы сконвертировать эти данные в целочисленные"
   ]
  },
  {
   "cell_type": "code",
   "execution_count": 8,
   "metadata": {},
   "outputs": [
    {
     "data": {
      "text/html": [
       "<div>\n",
       "<style scoped>\n",
       "    .dataframe tbody tr th:only-of-type {\n",
       "        vertical-align: middle;\n",
       "    }\n",
       "\n",
       "    .dataframe tbody tr th {\n",
       "        vertical-align: top;\n",
       "    }\n",
       "\n",
       "    .dataframe thead th {\n",
       "        text-align: right;\n",
       "    }\n",
       "</style>\n",
       "<table border=\"1\" class=\"dataframe\">\n",
       "  <thead>\n",
       "    <tr style=\"text-align: right;\">\n",
       "      <th></th>\n",
       "      <th>credit_score</th>\n",
       "      <th>geography</th>\n",
       "      <th>gender</th>\n",
       "      <th>age</th>\n",
       "      <th>tenure</th>\n",
       "      <th>balance</th>\n",
       "      <th>num_of_products</th>\n",
       "      <th>has_cr_card</th>\n",
       "      <th>is_active_member</th>\n",
       "      <th>estimated_salary</th>\n",
       "      <th>exited</th>\n",
       "    </tr>\n",
       "  </thead>\n",
       "  <tbody>\n",
       "    <tr>\n",
       "      <th>30</th>\n",
       "      <td>591</td>\n",
       "      <td>Spain</td>\n",
       "      <td>Female</td>\n",
       "      <td>39</td>\n",
       "      <td>NaN</td>\n",
       "      <td>0.00</td>\n",
       "      <td>3</td>\n",
       "      <td>1</td>\n",
       "      <td>0</td>\n",
       "      <td>140469.38</td>\n",
       "      <td>1</td>\n",
       "    </tr>\n",
       "    <tr>\n",
       "      <th>48</th>\n",
       "      <td>550</td>\n",
       "      <td>Germany</td>\n",
       "      <td>Male</td>\n",
       "      <td>38</td>\n",
       "      <td>NaN</td>\n",
       "      <td>103391.38</td>\n",
       "      <td>1</td>\n",
       "      <td>0</td>\n",
       "      <td>1</td>\n",
       "      <td>90878.13</td>\n",
       "      <td>0</td>\n",
       "    </tr>\n",
       "    <tr>\n",
       "      <th>51</th>\n",
       "      <td>585</td>\n",
       "      <td>Germany</td>\n",
       "      <td>Male</td>\n",
       "      <td>36</td>\n",
       "      <td>NaN</td>\n",
       "      <td>146050.97</td>\n",
       "      <td>2</td>\n",
       "      <td>0</td>\n",
       "      <td>0</td>\n",
       "      <td>86424.57</td>\n",
       "      <td>0</td>\n",
       "    </tr>\n",
       "    <tr>\n",
       "      <th>53</th>\n",
       "      <td>655</td>\n",
       "      <td>Germany</td>\n",
       "      <td>Male</td>\n",
       "      <td>41</td>\n",
       "      <td>NaN</td>\n",
       "      <td>125561.97</td>\n",
       "      <td>1</td>\n",
       "      <td>0</td>\n",
       "      <td>0</td>\n",
       "      <td>164040.94</td>\n",
       "      <td>1</td>\n",
       "    </tr>\n",
       "    <tr>\n",
       "      <th>60</th>\n",
       "      <td>742</td>\n",
       "      <td>Germany</td>\n",
       "      <td>Male</td>\n",
       "      <td>35</td>\n",
       "      <td>NaN</td>\n",
       "      <td>136857.00</td>\n",
       "      <td>1</td>\n",
       "      <td>0</td>\n",
       "      <td>0</td>\n",
       "      <td>84509.57</td>\n",
       "      <td>0</td>\n",
       "    </tr>\n",
       "    <tr>\n",
       "      <th>82</th>\n",
       "      <td>543</td>\n",
       "      <td>France</td>\n",
       "      <td>Female</td>\n",
       "      <td>36</td>\n",
       "      <td>NaN</td>\n",
       "      <td>0.00</td>\n",
       "      <td>2</td>\n",
       "      <td>0</td>\n",
       "      <td>0</td>\n",
       "      <td>26019.59</td>\n",
       "      <td>0</td>\n",
       "    </tr>\n",
       "    <tr>\n",
       "      <th>85</th>\n",
       "      <td>652</td>\n",
       "      <td>Spain</td>\n",
       "      <td>Female</td>\n",
       "      <td>75</td>\n",
       "      <td>NaN</td>\n",
       "      <td>0.00</td>\n",
       "      <td>2</td>\n",
       "      <td>1</td>\n",
       "      <td>1</td>\n",
       "      <td>114675.75</td>\n",
       "      <td>0</td>\n",
       "    </tr>\n",
       "    <tr>\n",
       "      <th>94</th>\n",
       "      <td>730</td>\n",
       "      <td>Spain</td>\n",
       "      <td>Male</td>\n",
       "      <td>42</td>\n",
       "      <td>NaN</td>\n",
       "      <td>0.00</td>\n",
       "      <td>2</td>\n",
       "      <td>0</td>\n",
       "      <td>1</td>\n",
       "      <td>85982.47</td>\n",
       "      <td>0</td>\n",
       "    </tr>\n",
       "    <tr>\n",
       "      <th>99</th>\n",
       "      <td>413</td>\n",
       "      <td>France</td>\n",
       "      <td>Male</td>\n",
       "      <td>34</td>\n",
       "      <td>NaN</td>\n",
       "      <td>0.00</td>\n",
       "      <td>2</td>\n",
       "      <td>0</td>\n",
       "      <td>0</td>\n",
       "      <td>6534.18</td>\n",
       "      <td>0</td>\n",
       "    </tr>\n",
       "    <tr>\n",
       "      <th>111</th>\n",
       "      <td>538</td>\n",
       "      <td>Germany</td>\n",
       "      <td>Male</td>\n",
       "      <td>39</td>\n",
       "      <td>NaN</td>\n",
       "      <td>108055.10</td>\n",
       "      <td>2</td>\n",
       "      <td>1</td>\n",
       "      <td>0</td>\n",
       "      <td>27231.26</td>\n",
       "      <td>0</td>\n",
       "    </tr>\n",
       "    <tr>\n",
       "      <th>123</th>\n",
       "      <td>684</td>\n",
       "      <td>Germany</td>\n",
       "      <td>Female</td>\n",
       "      <td>48</td>\n",
       "      <td>NaN</td>\n",
       "      <td>126384.42</td>\n",
       "      <td>1</td>\n",
       "      <td>1</td>\n",
       "      <td>1</td>\n",
       "      <td>198129.36</td>\n",
       "      <td>0</td>\n",
       "    </tr>\n",
       "    <tr>\n",
       "      <th>125</th>\n",
       "      <td>432</td>\n",
       "      <td>France</td>\n",
       "      <td>Male</td>\n",
       "      <td>42</td>\n",
       "      <td>NaN</td>\n",
       "      <td>152603.45</td>\n",
       "      <td>1</td>\n",
       "      <td>1</td>\n",
       "      <td>0</td>\n",
       "      <td>110265.24</td>\n",
       "      <td>1</td>\n",
       "    </tr>\n",
       "    <tr>\n",
       "      <th>146</th>\n",
       "      <td>635</td>\n",
       "      <td>Spain</td>\n",
       "      <td>Female</td>\n",
       "      <td>29</td>\n",
       "      <td>NaN</td>\n",
       "      <td>138296.94</td>\n",
       "      <td>2</td>\n",
       "      <td>1</td>\n",
       "      <td>0</td>\n",
       "      <td>141075.51</td>\n",
       "      <td>0</td>\n",
       "    </tr>\n",
       "    <tr>\n",
       "      <th>162</th>\n",
       "      <td>800</td>\n",
       "      <td>France</td>\n",
       "      <td>Female</td>\n",
       "      <td>49</td>\n",
       "      <td>NaN</td>\n",
       "      <td>108007.36</td>\n",
       "      <td>1</td>\n",
       "      <td>0</td>\n",
       "      <td>0</td>\n",
       "      <td>47125.11</td>\n",
       "      <td>0</td>\n",
       "    </tr>\n",
       "    <tr>\n",
       "      <th>173</th>\n",
       "      <td>578</td>\n",
       "      <td>France</td>\n",
       "      <td>Male</td>\n",
       "      <td>30</td>\n",
       "      <td>NaN</td>\n",
       "      <td>169462.09</td>\n",
       "      <td>1</td>\n",
       "      <td>1</td>\n",
       "      <td>0</td>\n",
       "      <td>112187.11</td>\n",
       "      <td>0</td>\n",
       "    </tr>\n",
       "  </tbody>\n",
       "</table>\n",
       "</div>"
      ],
      "text/plain": [
       "     credit_score geography  gender  age  tenure    balance  num_of_products  \\\n",
       "30            591     Spain  Female   39     NaN       0.00                3   \n",
       "48            550   Germany    Male   38     NaN  103391.38                1   \n",
       "51            585   Germany    Male   36     NaN  146050.97                2   \n",
       "53            655   Germany    Male   41     NaN  125561.97                1   \n",
       "60            742   Germany    Male   35     NaN  136857.00                1   \n",
       "82            543    France  Female   36     NaN       0.00                2   \n",
       "85            652     Spain  Female   75     NaN       0.00                2   \n",
       "94            730     Spain    Male   42     NaN       0.00                2   \n",
       "99            413    France    Male   34     NaN       0.00                2   \n",
       "111           538   Germany    Male   39     NaN  108055.10                2   \n",
       "123           684   Germany  Female   48     NaN  126384.42                1   \n",
       "125           432    France    Male   42     NaN  152603.45                1   \n",
       "146           635     Spain  Female   29     NaN  138296.94                2   \n",
       "162           800    France  Female   49     NaN  108007.36                1   \n",
       "173           578    France    Male   30     NaN  169462.09                1   \n",
       "\n",
       "     has_cr_card  is_active_member  estimated_salary  exited  \n",
       "30             1                 0         140469.38       1  \n",
       "48             0                 1          90878.13       0  \n",
       "51             0                 0          86424.57       0  \n",
       "53             0                 0         164040.94       1  \n",
       "60             0                 0          84509.57       0  \n",
       "82             0                 0          26019.59       0  \n",
       "85             1                 1         114675.75       0  \n",
       "94             0                 1          85982.47       0  \n",
       "99             0                 0           6534.18       0  \n",
       "111            1                 0          27231.26       0  \n",
       "123            1                 1         198129.36       0  \n",
       "125            1                 0         110265.24       1  \n",
       "146            1                 0         141075.51       0  \n",
       "162            0                 0          47125.11       0  \n",
       "173            1                 0         112187.11       0  "
      ]
     },
     "execution_count": 8,
     "metadata": {},
     "output_type": "execute_result"
    }
   ],
   "source": [
    "df[df['tenure'].isna() == True].head(15)"
   ]
  },
  {
   "cell_type": "code",
   "execution_count": 9,
   "metadata": {},
   "outputs": [
    {
     "data": {
      "text/plain": [
       "0    0.79868\n",
       "1    0.20132\n",
       "Name: exited, dtype: float64"
      ]
     },
     "execution_count": 9,
     "metadata": {},
     "output_type": "execute_result"
    }
   ],
   "source": [
    "df[df['tenure'].isna() == True]['exited'].value_counts(normalize = True)"
   ]
  },
  {
   "cell_type": "code",
   "execution_count": 10,
   "metadata": {},
   "outputs": [
    {
     "data": {
      "text/plain": [
       "credit_score       -0.000062\n",
       "age                -0.013134\n",
       "tenure              1.000000\n",
       "balance            -0.007911\n",
       "num_of_products     0.011979\n",
       "has_cr_card         0.027232\n",
       "is_active_member   -0.032178\n",
       "estimated_salary    0.010520\n",
       "exited             -0.016761\n",
       "Name: tenure, dtype: float64"
      ]
     },
     "execution_count": 10,
     "metadata": {},
     "output_type": "execute_result"
    }
   ],
   "source": [
    "df.corr()['tenure']"
   ]
  },
  {
   "cell_type": "markdown",
   "metadata": {},
   "source": [
    "У нас нет возможности восстановить эти данные из каких-либо других данных, содержащихся в датафрейме: нет ни одного параметра с сильной корреляцией.\n",
    "\n",
    "Доля покинувших банк клиентов, о которых нет информации в исследуемом столбце, сопоставима с долей по всему датафрейму. \n",
    "\n",
    "Мы можем спокойно их отбросить, либо заполнить медианным значением. Выберем второй подход - он наиболее деликатен к реальности.\n",
    "Заодно сконвертируем данные в соответствующий тип."
   ]
  },
  {
   "cell_type": "code",
   "execution_count": 11,
   "metadata": {},
   "outputs": [
    {
     "name": "stdout",
     "output_type": "stream",
     "text": [
      "<class 'pandas.core.frame.DataFrame'>\n",
      "RangeIndex: 10000 entries, 0 to 9999\n",
      "Data columns (total 11 columns):\n",
      " #   Column            Non-Null Count  Dtype  \n",
      "---  ------            --------------  -----  \n",
      " 0   credit_score      10000 non-null  int64  \n",
      " 1   geography         10000 non-null  object \n",
      " 2   gender            10000 non-null  object \n",
      " 3   age               10000 non-null  int64  \n",
      " 4   tenure            10000 non-null  int64  \n",
      " 5   balance           10000 non-null  float64\n",
      " 6   num_of_products   10000 non-null  int64  \n",
      " 7   has_cr_card       10000 non-null  int64  \n",
      " 8   is_active_member  10000 non-null  int64  \n",
      " 9   estimated_salary  10000 non-null  float64\n",
      " 10  exited            10000 non-null  int64  \n",
      "dtypes: float64(2), int64(7), object(2)\n",
      "memory usage: 859.5+ KB\n"
     ]
    }
   ],
   "source": [
    "df.loc[df['tenure'].isna() == True,'tenure'] = \\\n",
    "df.loc[df['tenure'].isna() == False,'tenure'].median()\n",
    "\n",
    "df['tenure'] = df['tenure'].astype(int)\n",
    "\n",
    "df.info()"
   ]
  },
  {
   "cell_type": "markdown",
   "metadata": {},
   "source": [
    "Быстро и непристально оглядим данные на предмет выбросов."
   ]
  },
  {
   "cell_type": "code",
   "execution_count": 12,
   "metadata": {},
   "outputs": [
    {
     "data": {
      "image/png": "[encoded data removed]",
      "text/plain": [
       "<Figure size 1080x576 with 9 Axes>"
      ]
     },
     "metadata": {
      "needs_background": "light"
     },
     "output_type": "display_data"
    }
   ],
   "source": [
    "df.hist(figsize = (15,8));"
   ]
  },
  {
   "cell_type": "markdown",
   "metadata": {},
   "source": [
    "За счёт заполнения пропусков в tenure медианным значением основная масса клиентов сконцентрировалась в этой области.  \n",
    "Других аномалий не замечено. Приступим к подготовке данных к построению моделей: разбиение на выборки, OHE."
   ]
  },
  {
   "cell_type": "markdown",
   "metadata": {},
   "source": [
    "Разобью данные на  обучающую, валидационную и тестовую выборки в соотношении 3:1:1 со стратификацией по exited.\n",
    "Сначала разделю датасет на параметры и целевой параметр, затем разобью каждый из наборов на выборки."
   ]
  },
  {
   "cell_type": "code",
   "execution_count": 13,
   "metadata": {},
   "outputs": [
    {
     "name": "stdout",
     "output_type": "stream",
     "text": [
      "Features \n",
      "    credit_score geography  gender  age  tenure    balance  num_of_products  \\\n",
      "0           619    France  Female   42       2       0.00                1   \n",
      "1           608     Spain  Female   41       1   83807.86                1   \n",
      "2           502    France  Female   42       8  159660.80                3   \n",
      "\n",
      "   has_cr_card  is_active_member  estimated_salary  \n",
      "0            1                 1         101348.88  \n",
      "1            0                 1         112542.58  \n",
      "2            1                 0         113931.57   \n",
      " Target \n",
      " 0    1\n",
      "1    0\n",
      "2    1\n",
      "Name: exited, dtype: int64\n"
     ]
    }
   ],
   "source": [
    "df_features = df.drop(columns = 'exited')\n",
    "df_target = df['exited']\n",
    "print(F\"Features \\n {df_features.head(3)} \\n Target \\n {df_target.head(3)}\")"
   ]
  },
  {
   "cell_type": "code",
   "execution_count": 14,
   "metadata": {},
   "outputs": [],
   "source": [
    "features_train, features_test, target_train, target_test = train_test_split(df_features,\n",
    "                                                                df_target,     \n",
    "                                                                test_size=0.2,\n",
    "                                                                random_state=1234, \n",
    "                                                                stratify=df_target\n",
    "                                                                           )"
   ]
  },
  {
   "cell_type": "code",
   "execution_count": 15,
   "metadata": {},
   "outputs": [],
   "source": [
    "features_train, features_valid, target_train, target_valid = train_test_split(features_train,\n",
    "                                                                target_train,     \n",
    "                                                                test_size=0.25,\n",
    "                                                                random_state=1234, \n",
    "                                                                stratify=target_train\n",
    "                                                                             )"
   ]
  },
  {
   "cell_type": "code",
   "execution_count": 16,
   "metadata": {},
   "outputs": [],
   "source": [
    "categorial = df.select_dtypes('object').columns.tolist()\n",
    "OHE = OneHotEncoder(drop = 'first', handle_unknown='ignore')"
   ]
  },
  {
   "cell_type": "code",
   "execution_count": 17,
   "metadata": {},
   "outputs": [],
   "source": [
    "def OHE_apply(df_name):\n",
    "    \n",
    "    data = eval(df_name)\n",
    "    if df_name == 'features_train':\n",
    "        features_transformed = OHE.fit_transform(data[categorial]).toarray()\n",
    "    else:\n",
    "        features_transformed = OHE.transform(data[categorial]).toarray()\n",
    "        \n",
    "    data[OHE.get_feature_names_out().tolist()] = features_transformed\n",
    "    \n",
    "    data = data.drop(columns = categorial)\n",
    "    \n",
    "    print(f\"Columns in {df_name}:\")\n",
    "    print(data.columns.tolist())\n",
    "    \n",
    "    return data"
   ]
  },
  {
   "cell_type": "code",
   "execution_count": 18,
   "metadata": {},
   "outputs": [
    {
     "name": "stdout",
     "output_type": "stream",
     "text": [
      "Columns in features_train:\n",
      "['credit_score', 'age', 'tenure', 'balance', 'num_of_products', 'has_cr_card', 'is_active_member', 'estimated_salary', 'geography_Germany', 'geography_Spain', 'gender_Male']\n",
      "Columns in features_valid:\n",
      "['credit_score', 'age', 'tenure', 'balance', 'num_of_products', 'has_cr_card', 'is_active_member', 'estimated_salary', 'geography_Germany', 'geography_Spain', 'gender_Male']\n",
      "Columns in features_test:\n",
      "['credit_score', 'age', 'tenure', 'balance', 'num_of_products', 'has_cr_card', 'is_active_member', 'estimated_salary', 'geography_Germany', 'geography_Spain', 'gender_Male']\n"
     ]
    }
   ],
   "source": [
    "features_train = OHE_apply('features_train')\n",
    "features_valid = OHE_apply('features_valid')\n",
    "features_test = OHE_apply('features_test')"
   ]
  },
  {
   "cell_type": "markdown",
   "metadata": {},
   "source": [
    "Проверю размеры выборок:"
   ]
  },
  {
   "cell_type": "code",
   "execution_count": 19,
   "metadata": {},
   "outputs": [
    {
     "name": "stdout",
     "output_type": "stream",
     "text": [
      "Length of features_train: 6000 \n",
      "\n",
      "Length of target_train: 6000 \n",
      "\n",
      "Length of features_valid: 2000 \n",
      "\n",
      "Length of target_valid: 2000 \n",
      "\n",
      "Length of features_test: 2000 \n",
      "\n",
      "Length of target_test: 2000 \n",
      "\n"
     ]
    }
   ],
   "source": [
    "sample_list = ['train','valid','test']\n",
    "split_list = ['features', 'target']\n",
    "\n",
    "for sample in sample_list:\n",
    "    for split in split_list:\n",
    "        print (f'Length of {split}_{sample}:', len(eval(''.join([split,'_',sample]))),'\\n')"
   ]
  },
  {
   "cell_type": "markdown",
   "metadata": {},
   "source": [
    "Разделение прошло успешно! Осталось стандартизовать численные параметры."
   ]
  },
  {
   "cell_type": "code",
   "execution_count": 21,
   "metadata": {},
   "outputs": [],
   "source": [
    "numeric_features = features_train.select_dtypes(exclude = 'object').columns.tolist()\n",
    "\n",
    "scaler = StandardScaler()\n",
    "scaler.fit(features_train[numeric_features]) \n",
    "features_train[numeric_features] = scaler.transform(features_train[numeric_features])\n",
    "features_valid[numeric_features] = scaler.transform(features_valid[numeric_features])\n",
    "features_test[numeric_features] = scaler.transform(features_test[numeric_features])"
   ]
  },
  {
   "cell_type": "markdown",
   "metadata": {},
   "source": [
    "Теперь данные готовы к построению моделей на несбалансированных выборках."
   ]
  },
  {
   "cell_type": "markdown",
   "metadata": {},
   "source": [
    "## Исследование задачи"
   ]
  },
  {
   "cell_type": "markdown",
   "metadata": {},
   "source": [
    "Для начала определим функцию построения ROC-кривой и подсчета площади под ней."
   ]
  },
  {
   "cell_type": "code",
   "execution_count": 22,
   "metadata": {},
   "outputs": [],
   "source": [
    "def auc_roc_curve_plot (model, features_valid = features_valid, target_valid = target_valid):\n",
    "    probabilities_valid = model.predict_proba(features_valid)\n",
    "    probabilities_one_valid = probabilities_valid[:, 1]\n",
    "    fpr, tpr, thresholds = roc_curve(target_valid, probabilities_one_valid)\n",
    "    plt.figure()\n",
    "    plt.plot(fpr,tpr)\n",
    "    plt.plot([0, 1], [0, 1], linestyle='--')# - ROC-curve\n",
    "    plt.xlim([0.0,1.0])\n",
    "    plt.ylim([0.0,1.0])\n",
    "    plt.xlabel(\"False Positive Rate\")\n",
    "    plt.ylabel (\"True Positive Rate\")\n",
    "    plt.title ('ROC-curve')\n",
    "    plt.figtext (s = f\"AUC-ROC = {roc_auc_score(target_valid, probabilities_one_valid):,.4}\",\\\n",
    "                 x = 0.5, y = 0.2)\n",
    "    plt.show()"
   ]
  },
  {
   "cell_type": "markdown",
   "metadata": {},
   "source": [
    "### Логистическая регрессия"
   ]
  },
  {
   "cell_type": "markdown",
   "metadata": {},
   "source": [
    "Используем для построения модели метод логистической регрессии. Выведем значения всех ключевых метрик, построим ROC-кривую, вычислим AUC-ROC."
   ]
  },
  {
   "cell_type": "code",
   "execution_count": 24,
   "metadata": {},
   "outputs": [
    {
     "data": {
      "text/html": [
       "<div>\n",
       "<style scoped>\n",
       "    .dataframe tbody tr th:only-of-type {\n",
       "        vertical-align: middle;\n",
       "    }\n",
       "\n",
       "    .dataframe tbody tr th {\n",
       "        vertical-align: top;\n",
       "    }\n",
       "\n",
       "    .dataframe thead th {\n",
       "        text-align: right;\n",
       "    }\n",
       "</style>\n",
       "<table border=\"1\" class=\"dataframe\">\n",
       "  <thead>\n",
       "    <tr style=\"text-align: right;\">\n",
       "      <th></th>\n",
       "      <th>no exit</th>\n",
       "      <th>exit</th>\n",
       "      <th>accuracy</th>\n",
       "      <th>macro avg</th>\n",
       "      <th>weighted avg</th>\n",
       "    </tr>\n",
       "  </thead>\n",
       "  <tbody>\n",
       "    <tr>\n",
       "      <th>precision</th>\n",
       "      <td>0.828863</td>\n",
       "      <td>0.654412</td>\n",
       "      <td>0.817</td>\n",
       "      <td>0.741637</td>\n",
       "      <td>0.793275</td>\n",
       "    </tr>\n",
       "    <tr>\n",
       "      <th>recall</th>\n",
       "      <td>0.970477</td>\n",
       "      <td>0.218137</td>\n",
       "      <td>0.817</td>\n",
       "      <td>0.594307</td>\n",
       "      <td>0.817000</td>\n",
       "    </tr>\n",
       "    <tr>\n",
       "      <th>f1-score</th>\n",
       "      <td>0.894097</td>\n",
       "      <td>0.327206</td>\n",
       "      <td>0.817</td>\n",
       "      <td>0.610652</td>\n",
       "      <td>0.778451</td>\n",
       "    </tr>\n",
       "    <tr>\n",
       "      <th>support</th>\n",
       "      <td>1592.000000</td>\n",
       "      <td>408.000000</td>\n",
       "      <td>0.817</td>\n",
       "      <td>2000.000000</td>\n",
       "      <td>2000.000000</td>\n",
       "    </tr>\n",
       "  </tbody>\n",
       "</table>\n",
       "</div>"
      ],
      "text/plain": [
       "               no exit        exit  accuracy    macro avg  weighted avg\n",
       "precision     0.828863    0.654412     0.817     0.741637      0.793275\n",
       "recall        0.970477    0.218137     0.817     0.594307      0.817000\n",
       "f1-score      0.894097    0.327206     0.817     0.610652      0.778451\n",
       "support    1592.000000  408.000000     0.817  2000.000000   2000.000000"
      ]
     },
     "execution_count": 24,
     "metadata": {},
     "output_type": "execute_result"
    }
   ],
   "source": [
    "model_log = LogisticRegression(random_state = 1234, solver = 'liblinear')\n",
    "model_log.fit(features_train,target_train)\n",
    "predictions = model_log.predict(features_valid)\n",
    "\n",
    "pd.DataFrame(classification_report(target_valid, predictions,\\\n",
    "                                   target_names=['no exit', 'exit'], output_dict=True))"
   ]
  },
  {
   "cell_type": "code",
   "execution_count": 25,
   "metadata": {},
   "outputs": [
    {
     "data": {
      "image/png": "[encoded data removed]",
      "text/plain": [
       "<Figure size 432x288 with 1 Axes>"
      ]
     },
     "metadata": {
      "needs_background": "light"
     },
     "output_type": "display_data"
    }
   ],
   "source": [
    "auc_roc_curve_plot(model_log)"
   ]
  },
  {
   "cell_type": "markdown",
   "metadata": {},
   "source": [
    "**Выводы:**  \n",
    "* F1-score для этой модели - 0,327. Ниже целевого 0,59.\n",
    "* Площадь под кривой ROC - 0,7798.\n",
    "\n",
    "Качество модели неудовлетворительно."
   ]
  },
  {
   "cell_type": "markdown",
   "metadata": {},
   "source": [
    "### Случайное дерево"
   ]
  },
  {
   "cell_type": "code",
   "execution_count": 26,
   "metadata": {},
   "outputs": [
    {
     "name": "stdout",
     "output_type": "stream",
     "text": [
      "Depth = 5\n"
     ]
    },
    {
     "data": {
      "text/html": [
       "<div>\n",
       "<style scoped>\n",
       "    .dataframe tbody tr th:only-of-type {\n",
       "        vertical-align: middle;\n",
       "    }\n",
       "\n",
       "    .dataframe tbody tr th {\n",
       "        vertical-align: top;\n",
       "    }\n",
       "\n",
       "    .dataframe thead th {\n",
       "        text-align: right;\n",
       "    }\n",
       "</style>\n",
       "<table border=\"1\" class=\"dataframe\">\n",
       "  <thead>\n",
       "    <tr style=\"text-align: right;\">\n",
       "      <th></th>\n",
       "      <th>no exit</th>\n",
       "      <th>exit</th>\n",
       "      <th>accuracy</th>\n",
       "      <th>macro avg</th>\n",
       "      <th>weighted avg</th>\n",
       "    </tr>\n",
       "  </thead>\n",
       "  <tbody>\n",
       "    <tr>\n",
       "      <th>precision</th>\n",
       "      <td>0.870912</td>\n",
       "      <td>0.712062</td>\n",
       "      <td>0.8505</td>\n",
       "      <td>0.791487</td>\n",
       "      <td>0.838507</td>\n",
       "    </tr>\n",
       "    <tr>\n",
       "      <th>recall</th>\n",
       "      <td>0.953518</td>\n",
       "      <td>0.448529</td>\n",
       "      <td>0.8505</td>\n",
       "      <td>0.701023</td>\n",
       "      <td>0.850500</td>\n",
       "    </tr>\n",
       "    <tr>\n",
       "      <th>f1-score</th>\n",
       "      <td>0.910345</td>\n",
       "      <td>0.550376</td>\n",
       "      <td>0.8505</td>\n",
       "      <td>0.730360</td>\n",
       "      <td>0.836911</td>\n",
       "    </tr>\n",
       "    <tr>\n",
       "      <th>support</th>\n",
       "      <td>1592.000000</td>\n",
       "      <td>408.000000</td>\n",
       "      <td>0.8505</td>\n",
       "      <td>2000.000000</td>\n",
       "      <td>2000.000000</td>\n",
       "    </tr>\n",
       "  </tbody>\n",
       "</table>\n",
       "</div>"
      ],
      "text/plain": [
       "               no exit        exit  accuracy    macro avg  weighted avg\n",
       "precision     0.870912    0.712062    0.8505     0.791487      0.838507\n",
       "recall        0.953518    0.448529    0.8505     0.701023      0.850500\n",
       "f1-score      0.910345    0.550376    0.8505     0.730360      0.836911\n",
       "support    1592.000000  408.000000    0.8505  2000.000000   2000.000000"
      ]
     },
     "execution_count": 26,
     "metadata": {},
     "output_type": "execute_result"
    }
   ],
   "source": [
    "model = DecisionTreeClassifier()\n",
    "\n",
    "parametrs = {'max_depth': range (1,16),\n",
    "             'random_state': [1234]}\n",
    "\n",
    "grid = GridSearchCV(model, parametrs, scoring = 'roc_auc')\n",
    "grid.fit(features_train, target_train)\n",
    "tree_params = grid.best_params_\n",
    "\n",
    "model_tree = DecisionTreeClassifier(max_depth = tree_params['max_depth'],\\\n",
    "                               random_state =tree_params['random_state'])\n",
    "model_tree.fit(features_train, target_train)\n",
    "predictions = model_tree.predict(features_valid)\n",
    "\n",
    "print(f\"Depth = {grid.best_params_['max_depth']}\")\n",
    "pd.DataFrame(classification_report(target_valid, predictions,\\\n",
    "                                   target_names=['no exit', 'exit'], output_dict=True))"
   ]
  },
  {
   "cell_type": "code",
   "execution_count": 29,
   "metadata": {},
   "outputs": [
    {
     "data": {
      "image/png": "[encoded data removed]",
      "text/plain": [
       "<Figure size 432x288 with 1 Axes>"
      ]
     },
     "metadata": {
      "needs_background": "light"
     },
     "output_type": "display_data"
    }
   ],
   "source": [
    "auc_roc_curve_plot(model_tree)"
   ]
  },
  {
   "cell_type": "markdown",
   "metadata": {},
   "source": [
    "**Выводы:**  \n",
    "* F1-score для этой модели - 0,55. Ниже целевого 0,59, выше, чем у логистической регрессии\n",
    "* Модель менее склонна к ложноотрицательной ошибке. \n",
    "* Площадь под кривой ROC - 0,8398.\n",
    "\n",
    "Качество модели неудовлетворительно, в сравнении с предыдущей эта модель более убедительна, но всё ещё недостаточно точна."
   ]
  },
  {
   "cell_type": "markdown",
   "metadata": {},
   "source": [
    "### Случайный лес"
   ]
  },
  {
   "cell_type": "code",
   "execution_count": 30,
   "metadata": {
    "scrolled": true
   },
   "outputs": [
    {
     "name": "stdout",
     "output_type": "stream",
     "text": [
      "No. of estimators = 35 , depth = 15\n"
     ]
    },
    {
     "data": {
      "text/html": [
       "<div>\n",
       "<style scoped>\n",
       "    .dataframe tbody tr th:only-of-type {\n",
       "        vertical-align: middle;\n",
       "    }\n",
       "\n",
       "    .dataframe tbody tr th {\n",
       "        vertical-align: top;\n",
       "    }\n",
       "\n",
       "    .dataframe thead th {\n",
       "        text-align: right;\n",
       "    }\n",
       "</style>\n",
       "<table border=\"1\" class=\"dataframe\">\n",
       "  <thead>\n",
       "    <tr style=\"text-align: right;\">\n",
       "      <th></th>\n",
       "      <th>no exit</th>\n",
       "      <th>exit</th>\n",
       "      <th>accuracy</th>\n",
       "      <th>macro avg</th>\n",
       "      <th>weighted avg</th>\n",
       "    </tr>\n",
       "  </thead>\n",
       "  <tbody>\n",
       "    <tr>\n",
       "      <th>precision</th>\n",
       "      <td>0.868287</td>\n",
       "      <td>0.757576</td>\n",
       "      <td>0.8555</td>\n",
       "      <td>0.812931</td>\n",
       "      <td>0.845702</td>\n",
       "    </tr>\n",
       "    <tr>\n",
       "      <th>recall</th>\n",
       "      <td>0.964824</td>\n",
       "      <td>0.428922</td>\n",
       "      <td>0.8555</td>\n",
       "      <td>0.696873</td>\n",
       "      <td>0.855500</td>\n",
       "    </tr>\n",
       "    <tr>\n",
       "      <th>f1-score</th>\n",
       "      <td>0.914014</td>\n",
       "      <td>0.547731</td>\n",
       "      <td>0.8555</td>\n",
       "      <td>0.730872</td>\n",
       "      <td>0.839292</td>\n",
       "    </tr>\n",
       "    <tr>\n",
       "      <th>support</th>\n",
       "      <td>1592.000000</td>\n",
       "      <td>408.000000</td>\n",
       "      <td>0.8555</td>\n",
       "      <td>2000.000000</td>\n",
       "      <td>2000.000000</td>\n",
       "    </tr>\n",
       "  </tbody>\n",
       "</table>\n",
       "</div>"
      ],
      "text/plain": [
       "               no exit        exit  accuracy    macro avg  weighted avg\n",
       "precision     0.868287    0.757576    0.8555     0.812931      0.845702\n",
       "recall        0.964824    0.428922    0.8555     0.696873      0.855500\n",
       "f1-score      0.914014    0.547731    0.8555     0.730872      0.839292\n",
       "support    1592.000000  408.000000    0.8555  2000.000000   2000.000000"
      ]
     },
     "execution_count": 30,
     "metadata": {},
     "output_type": "execute_result"
    }
   ],
   "source": [
    "model = RandomForestClassifier()\n",
    "\n",
    "parametrs = {'n_estimators': range (25,36),\n",
    "             'max_depth': range (14,19),\n",
    "             'random_state': [1234]}\n",
    "#Последовательно n_estimators: (5,100,5) -> (25,36),max_depth': range (11,21,2) -> (14,19)\n",
    "grid = GridSearchCV(model, parametrs, scoring = 'roc_auc')\n",
    "grid.fit(features_train, target_train)\n",
    "forest_params = grid.best_params_\n",
    "\n",
    "model_forest = RandomForestClassifier(n_estimators = forest_params['n_estimators'],\\\n",
    "                               max_depth = forest_params['max_depth'],\\\n",
    "                               random_state =forest_params['random_state'])\n",
    "\n",
    "model_forest.fit(features_train, target_train)\n",
    "predictions = model_forest.predict(features_valid)\n",
    "\n",
    "print(f\"No. of estimators = {forest_params['n_estimators']} , depth = {forest_params['max_depth']}\")\n",
    "pd.DataFrame(classification_report(target_valid, predictions,\\\n",
    "                                   target_names=['no exit', 'exit'], output_dict=True))"
   ]
  },
  {
   "cell_type": "code",
   "execution_count": 31,
   "metadata": {},
   "outputs": [
    {
     "data": {
      "image/png": "[encoded data removed]",
      "text/plain": [
       "<Figure size 432x288 with 1 Axes>"
      ]
     },
     "metadata": {
      "needs_background": "light"
     },
     "output_type": "display_data"
    }
   ],
   "source": [
    "auc_roc_curve_plot(model_forest)"
   ]
  },
  {
   "cell_type": "markdown",
   "metadata": {},
   "source": [
    "**Выводы:**  \n",
    "* F1-score для этой модели - 0,548. Ниже целевого 0,59, ниже, чем у случайного дерева.\n",
    "* Модель склонна к ложноотрицательной ошибке. \n",
    "* Площадь под кривой ROC - 0,8556, максимальная из трех методов.\n",
    "\n",
    "Качество модели всё ещё неудовлетворительно, модель - наиболее точная из трёх."
   ]
  },
  {
   "cell_type": "markdown",
   "metadata": {},
   "source": [
    "### Общий вывод по работе с несбалансированной выборкой\n",
    "* Наиболее точная из трёх моделей - модель случайного дерева (F1-score = 0,548, AUC-ROC = 0,8556)\n",
    "* Для улучшения модели требуется устранение дисбаланса."
   ]
  },
  {
   "cell_type": "markdown",
   "metadata": {},
   "source": [
    "## Борьба с дисбалансом"
   ]
  },
  {
   "cell_type": "markdown",
   "metadata": {},
   "source": [
    "Для начала упрощу себе жизнь: для каждого метода устранения дисбаланса в выборке буду строить сразу все три модели. Для этого напишу функцию."
   ]
  },
  {
   "cell_type": "code",
   "execution_count": 33,
   "metadata": {},
   "outputs": [],
   "source": [
    "method_list=['log','tree','forest']\n",
    "\n",
    "def multi_model(features_train, target_train, features_valid = features_valid, target_valid = target_valid):\n",
    "    for method in tqdm(method_list):\n",
    "        if method == 'log':\n",
    "            model = LogisticRegression(random_state = 1234, solver = 'liblinear')\n",
    "        elif method == 'tree':\n",
    "            model = DecisionTreeClassifier()\n",
    "            parametrs = {'max_depth': range (2,21),\n",
    "                         'random_state': [1234]}\n",
    "            grid = GridSearchCV(model, parametrs, scoring = 'roc_auc')\n",
    "            grid.fit(features_train, target_train)\n",
    "            model = DecisionTreeClassifier(max_depth = grid.best_params_['max_depth'],\\\n",
    "                               random_state =grid.best_params_['random_state'])\n",
    "            tree_params = grid.best_params_\n",
    "        elif method == 'forest':\n",
    "            model = RandomForestClassifier()\n",
    "            parametrs = {'n_estimators': range (10,50,5),\n",
    "                         'max_depth': range(2,11),\n",
    "                         'random_state': [1234]}\n",
    "            grid = GridSearchCV(model, parametrs, scoring = 'roc_auc')\n",
    "            grid.fit(features_train, target_train)\n",
    "            model = RandomForestClassifier(n_estimators = grid.best_params_['n_estimators'],\\\n",
    "                               max_depth = grid.best_params_['max_depth'],\\\n",
    "                               random_state =grid.best_params_['random_state'])\n",
    "            forest_params = grid.best_params_\n",
    "        model.fit(features_train, target_train)\n",
    "        predictions = model.predict(features_valid)\n",
    "        print (method)\n",
    "        print (pd.DataFrame(classification_report(target_valid, predictions,\\\n",
    "                                   target_names=['no exit', 'exit'], output_dict=True)))\n",
    "        auc_roc_curve_plot(model)\n",
    "    print(f'Tree best parameters: {tree_params}')\n",
    "    print(f'Forest best parameters: {forest_params}')     "
   ]
  },
  {
   "cell_type": "markdown",
   "metadata": {},
   "source": [
    "### Апсэмплинг"
   ]
  },
  {
   "cell_type": "markdown",
   "metadata": {},
   "source": [
    "Объявим функцию апсэмплинга:"
   ]
  },
  {
   "cell_type": "code",
   "execution_count": 34,
   "metadata": {},
   "outputs": [],
   "source": [
    "def upsample(features, target):\n",
    "    features_zeros = features[target == 0]\n",
    "    features_ones = features[target == 1]\n",
    "    target_zeros = target[target == 0]\n",
    "    target_ones = target[target == 1]\n",
    "    \n",
    "    repeat = int(round(1/(len(features_ones)/len(features_zeros))))\n",
    "\n",
    "    features_upsampled = pd.concat([features_zeros] + [features_ones] * repeat)\n",
    "    target_upsampled = pd.concat([target_zeros] + [target_ones] * repeat)\n",
    "    \n",
    "    features_upsampled, target_upsampled = shuffle(\n",
    "        features_upsampled, target_upsampled, random_state=1234)\n",
    "    \n",
    "    return features_upsampled, target_upsampled"
   ]
  },
  {
   "cell_type": "markdown",
   "metadata": {},
   "source": [
    "Применим её на нашей тренировочной выборке"
   ]
  },
  {
   "cell_type": "code",
   "execution_count": 35,
   "metadata": {},
   "outputs": [
    {
     "name": "stdout",
     "output_type": "stream",
     "text": [
      "(9666, 11)\n"
     ]
    },
    {
     "data": {
      "text/plain": [
       "(9666,)"
      ]
     },
     "execution_count": 35,
     "metadata": {},
     "output_type": "execute_result"
    }
   ],
   "source": [
    "features_train_up, target_train_up = upsample(features_train, target_train)\n",
    "print(features_train_up.shape)\n",
    "target_train_up.shape"
   ]
  },
  {
   "cell_type": "markdown",
   "metadata": {},
   "source": [
    "Обучим модели на новых выборках. "
   ]
  },
  {
   "cell_type": "code",
   "execution_count": 36,
   "metadata": {
    "scrolled": false
   },
   "outputs": [
    {
     "data": {
      "application/vnd.jupyter.widget-view+json": {
       "model_id": "2965f63986e94adfb0ec0dd43a201166",
       "version_major": 2,
       "version_minor": 0
      },
      "text/plain": [
       "  0%|          | 0/3 [00:00<?, ?it/s]"
      ]
     },
     "metadata": {},
     "output_type": "display_data"
    },
    {
     "name": "stdout",
     "output_type": "stream",
     "text": [
      "log\n",
      "               no exit        exit  accuracy    macro avg  weighted avg\n",
      "precision     0.906447    0.396978     0.721     0.651712      0.802515\n",
      "recall        0.724246    0.708333     0.721     0.716290      0.721000\n",
      "f1-score      0.805168    0.508803     0.721     0.656985      0.744709\n",
      "support    1592.000000  408.000000     0.721  2000.000000   2000.000000\n"
     ]
    },
    {
     "data": {
      "image/png": "[encoded data removed]",
      "text/plain": [
       "<Figure size 432x288 with 1 Axes>"
      ]
     },
     "metadata": {
      "needs_background": "light"
     },
     "output_type": "display_data"
    },
    {
     "name": "stdout",
     "output_type": "stream",
     "text": [
      "tree\n",
      "               no exit        exit  accuracy    macro avg  weighted avg\n",
      "precision     0.861323    0.443925     0.772     0.652624      0.776174\n",
      "recall        0.850503    0.465686     0.772     0.658094      0.772000\n",
      "f1-score      0.855879    0.454545     0.772     0.655212      0.774007\n",
      "support    1592.000000  408.000000     0.772  2000.000000   2000.000000\n"
     ]
    },
    {
     "data": {
      "image/png": "[encoded data removed]",
      "text/plain": [
       "<Figure size 432x288 with 1 Axes>"
      ]
     },
     "metadata": {
      "needs_background": "light"
     },
     "output_type": "display_data"
    },
    {
     "name": "stdout",
     "output_type": "stream",
     "text": [
      "forest\n",
      "               no exit        exit  accuracy    macro avg  weighted avg\n",
      "precision     0.910098    0.580645    0.8335     0.745371      0.842889\n",
      "recall        0.877513    0.661765    0.8335     0.769639      0.833500\n",
      "f1-score      0.893508    0.618557    0.8335     0.756032      0.837418\n",
      "support    1592.000000  408.000000    0.8335  2000.000000   2000.000000\n"
     ]
    },
    {
     "data": {
      "image/png": "[encoded data removed]",
      "text/plain": [
       "<Figure size 432x288 with 1 Axes>"
      ]
     },
     "metadata": {
      "needs_background": "light"
     },
     "output_type": "display_data"
    },
    {
     "name": "stdout",
     "output_type": "stream",
     "text": [
      "Tree best parameters: {'max_depth': 15, 'random_state': 1234}\n",
      "Forest best parameters: {'max_depth': 10, 'n_estimators': 40, 'random_state': 1234}\n"
     ]
    }
   ],
   "source": [
    "multi_model (features_train_up, target_train_up )"
   ]
  },
  {
   "cell_type": "markdown",
   "metadata": {},
   "source": [
    "**Выводы:**  \n",
    "* F1-score и Recall улучшились для случайного леса и логистической регрессии.\n",
    "* Ухудшилась precision для случайного дерева и случайного леса\n",
    "* Площадь под кривой ROC заметно упала для случайного дерева\n",
    "* Модель случайного леса показала f1-score выше целевого: 0,619 > 0.59 - потенциально берём в дальнейшее исследование."
   ]
  },
  {
   "cell_type": "markdown",
   "metadata": {},
   "source": [
    "### Даунсэмплинг"
   ]
  },
  {
   "cell_type": "markdown",
   "metadata": {},
   "source": [
    "Объявим функцию даунсэмплинга:"
   ]
  },
  {
   "cell_type": "code",
   "execution_count": 37,
   "metadata": {},
   "outputs": [],
   "source": [
    "def downsample(features, target):\n",
    "    features_zeros = features[target == 0]\n",
    "    features_ones = features[target == 1]\n",
    "    target_zeros = target[target == 0]\n",
    "    target_ones = target[target == 1]\n",
    "    \n",
    "    fraction = len(features_ones)/len(features_zeros)\n",
    "\n",
    "    features_downsampled = pd.concat(\n",
    "        [features_zeros.sample(frac=fraction, random_state=1234)] + [features_ones])\n",
    "    target_downsampled = pd.concat(\n",
    "        [target_zeros.sample(frac=fraction, random_state=1234)] + [target_ones])\n",
    "    \n",
    "    features_downsampled, target_downsampled = shuffle(\n",
    "        features_downsampled, target_downsampled, random_state=1234)\n",
    "    \n",
    "    return features_downsampled, target_downsampled"
   ]
  },
  {
   "cell_type": "markdown",
   "metadata": {},
   "source": [
    "Применим её на нашей тренировочной выборке"
   ]
  },
  {
   "cell_type": "code",
   "execution_count": 38,
   "metadata": {},
   "outputs": [
    {
     "name": "stdout",
     "output_type": "stream",
     "text": [
      "(2444, 11)\n"
     ]
    },
    {
     "data": {
      "text/plain": [
       "(2444,)"
      ]
     },
     "execution_count": 38,
     "metadata": {},
     "output_type": "execute_result"
    }
   ],
   "source": [
    "features_train_down, target_train_down = downsample(features_train, target_train)\n",
    "print(features_train_down.shape)\n",
    "target_train_down.shape"
   ]
  },
  {
   "cell_type": "markdown",
   "metadata": {},
   "source": [
    "Обучим модели на новых выборках. "
   ]
  },
  {
   "cell_type": "code",
   "execution_count": 39,
   "metadata": {
    "scrolled": false
   },
   "outputs": [
    {
     "data": {
      "application/vnd.jupyter.widget-view+json": {
       "model_id": "7c3032261b304c40b85289745c7d9bca",
       "version_major": 2,
       "version_minor": 0
      },
      "text/plain": [
       "  0%|          | 0/3 [00:00<?, ?it/s]"
      ]
     },
     "metadata": {},
     "output_type": "display_data"
    },
    {
     "name": "stdout",
     "output_type": "stream",
     "text": [
      "log\n",
      "               no exit        exit  accuracy    macro avg  weighted avg\n",
      "precision     0.904429    0.399719    0.7245     0.652074      0.801468\n",
      "recall        0.731156    0.698529    0.7245     0.714843      0.724500\n",
      "f1-score      0.808614    0.508475    0.7245     0.658544      0.747386\n",
      "support    1592.000000  408.000000    0.7245  2000.000000   2000.000000\n"
     ]
    },
    {
     "data": {
      "image/png": "[encoded data removed]",
      "text/plain": [
       "<Figure size 432x288 with 1 Axes>"
      ]
     },
     "metadata": {
      "needs_background": "light"
     },
     "output_type": "display_data"
    },
    {
     "name": "stdout",
     "output_type": "stream",
     "text": [
      "tree\n",
      "               no exit        exit  accuracy    macro avg  weighted avg\n",
      "precision     0.925781    0.434722     0.749     0.680252      0.825605\n",
      "recall        0.744347    0.767157     0.749     0.755752      0.749000\n",
      "f1-score      0.825209    0.554965     0.749     0.690087      0.770079\n",
      "support    1592.000000  408.000000     0.749  2000.000000   2000.000000\n"
     ]
    },
    {
     "data": {
      "image/png": "[encoded data removed]",
      "text/plain": [
       "<Figure size 432x288 with 1 Axes>"
      ]
     },
     "metadata": {
      "needs_background": "light"
     },
     "output_type": "display_data"
    },
    {
     "name": "stdout",
     "output_type": "stream",
     "text": [
      "forest\n",
      "               no exit        exit  accuracy    macro avg  weighted avg\n",
      "precision     0.931507    0.510604    0.8025     0.721055      0.845643\n",
      "recall        0.811558    0.767157    0.8025     0.789357      0.802500\n",
      "f1-score      0.867405    0.613124    0.8025     0.740265      0.815532\n",
      "support    1592.000000  408.000000    0.8025  2000.000000   2000.000000\n"
     ]
    },
    {
     "data": {
      "image/png": "[encoded data removed]",
      "text/plain": [
       "<Figure size 432x288 with 1 Axes>"
      ]
     },
     "metadata": {
      "needs_background": "light"
     },
     "output_type": "display_data"
    },
    {
     "name": "stdout",
     "output_type": "stream",
     "text": [
      "Tree best parameters: {'max_depth': 5, 'random_state': 1234}\n",
      "Forest best parameters: {'max_depth': 10, 'n_estimators': 45, 'random_state': 1234}\n"
     ]
    }
   ],
   "source": [
    "multi_model (features_train_down, target_train_down)"
   ]
  },
  {
   "cell_type": "markdown",
   "metadata": {},
   "source": [
    "**Выводы:**  \n",
    "* F1-score для случайного дерева заметно вырос.\n",
    "* У всех моделей случайного леса и случаного дерева сильно упала precision - они склонны к ложноотрицательной ошибке.\n",
    "* Площадь под кривой ROC максимальна из всех имплементаций случайного дерева и случайного леса.\n",
    "* Модель случайного леса показала f1-score выше целевого: 0,613 > 0.59, но меньший, чем в случае апсэмплинга (0,619). Считаем пригодной для дальнейшего исследования."
   ]
  },
  {
   "cell_type": "markdown",
   "metadata": {},
   "source": [
    "### Изменение порога"
   ]
  },
  {
   "cell_type": "markdown",
   "metadata": {},
   "source": [
    "Создадим функцию подбора порога."
   ]
  },
  {
   "cell_type": "code",
   "execution_count": 41,
   "metadata": {},
   "outputs": [],
   "source": [
    "def threshold_move (model, features_valid = features_valid, target_valid = target_valid):\n",
    "    probabilities_valid = model.predict_proba(features_valid)\n",
    "    probabilities_one_valid = probabilities_valid[:, 1]\n",
    "    \n",
    "    f1_best = 0\n",
    "    predicted_best = []\n",
    "    threshold_best = 0\n",
    "    \n",
    "    for threshold in np.arange(0, 1.01, 0.02):\n",
    "        predicted_valid = probabilities_one_valid > threshold\n",
    "        f1 = f1_score(target_valid, predicted_valid)\n",
    "        if f1 > f1_best:\n",
    "            f1_best = f1\n",
    "            predicted_best = predicted_valid\n",
    "            threshold_best = threshold\n",
    "    return predicted_best, threshold_best      "
   ]
  },
  {
   "cell_type": "markdown",
   "metadata": {},
   "source": [
    "Применим её на всех наших моделях."
   ]
  },
  {
   "cell_type": "code",
   "execution_count": 42,
   "metadata": {},
   "outputs": [
    {
     "name": "stdout",
     "output_type": "stream",
     "text": [
      "log , threshold = 0.26\n",
      "               no exit        exit  accuracy    macro avg  weighted avg\n",
      "precision     0.886856    0.459924     0.775     0.673390      0.799762\n",
      "recall        0.822236    0.590686     0.775     0.706461      0.775000\n",
      "f1-score      0.853325    0.517167     0.775     0.685246      0.784749\n",
      "support    1592.000000  408.000000     0.775  2000.000000   2000.000000\n"
     ]
    },
    {
     "data": {
      "image/png": "[encoded data removed]",
      "text/plain": [
       "<Figure size 432x288 with 1 Axes>"
      ]
     },
     "metadata": {
      "needs_background": "light"
     },
     "output_type": "display_data"
    },
    {
     "name": "stdout",
     "output_type": "stream",
     "text": [
      "tree , threshold = 0.24\n",
      "               no exit        exit  accuracy    macro avg  weighted avg\n",
      "precision     0.903910    0.535642    0.8135     0.719776      0.828783\n",
      "recall        0.856784    0.644608    0.8135     0.750696      0.813500\n",
      "f1-score      0.879716    0.585095    0.8135     0.732405      0.819613\n",
      "support    1592.000000  408.000000    0.8135  2000.000000   2000.000000\n"
     ]
    },
    {
     "data": {
      "image/png": "[encoded data removed]",
      "text/plain": [
       "<Figure size 432x288 with 1 Axes>"
      ]
     },
     "metadata": {
      "needs_background": "light"
     },
     "output_type": "display_data"
    },
    {
     "name": "stdout",
     "output_type": "stream",
     "text": [
      "forest , threshold = 0.32\n",
      "               no exit        exit  accuracy    macro avg  weighted avg\n",
      "precision     0.902317    0.625310    0.8465     0.763814      0.845807\n",
      "recall        0.905151    0.617647    0.8465     0.761399      0.846500\n",
      "f1-score      0.903732    0.621455    0.8465     0.762593      0.846147\n",
      "support    1592.000000  408.000000    0.8465  2000.000000   2000.000000\n"
     ]
    },
    {
     "data": {
      "image/png": "[encoded data removed]",
      "text/plain": [
       "<Figure size 432x288 with 1 Axes>"
      ]
     },
     "metadata": {
      "needs_background": "light"
     },
     "output_type": "display_data"
    }
   ],
   "source": [
    "for method in method_list:\n",
    "    model = eval(\"\".join(['model_',method]))\n",
    "    model.fit(features_train, target_train)\n",
    "    predicted_best, threshold = threshold_move(model)\n",
    "    print (method, f', threshold = {threshold}')\n",
    "    print (pd.DataFrame(classification_report(target_valid, predicted_best,\\\n",
    "                                              target_names=['no exit', 'exit'], output_dict=True)))\n",
    "    auc_roc_curve_plot(model)"
   ]
  },
  {
   "cell_type": "markdown",
   "metadata": {},
   "source": [
    "**Выводы:**  \n",
    "* F1-score максимальный для каждой из моделей.\n",
    "* Площадь под кривой ROC идентична несбалансированной выборке - т.к. модель обучалась на ней же.\n",
    "* Модель случайного леса с измененным порогом показала максимальный до сих пор f1-score: 0,621 - приемлема для дальнейшего исследования."
   ]
  },
  {
   "cell_type": "markdown",
   "metadata": {},
   "source": [
    "### Изменение порога + апсэмплинг"
   ]
  },
  {
   "cell_type": "markdown",
   "metadata": {},
   "source": [
    "Попробуем скомбинировать подходы. Для начала попробуем обучить модели на увеличенной выборке без перебора гиперпараметров."
   ]
  },
  {
   "cell_type": "code",
   "execution_count": 44,
   "metadata": {},
   "outputs": [
    {
     "name": "stdout",
     "output_type": "stream",
     "text": [
      "log , threshold = 0.56\n",
      "               no exit        exit  accuracy    macro avg  weighted avg\n",
      "precision     0.895804    0.454386      0.77     0.675095      0.805755\n",
      "recall        0.804648    0.634804      0.77     0.719726      0.770000\n",
      "f1-score      0.847783    0.529652      0.77     0.688718      0.782884\n",
      "support    1592.000000  408.000000      0.77  2000.000000   2000.000000\n"
     ]
    },
    {
     "data": {
      "image/png": "[encoded data removed]",
      "text/plain": [
       "<Figure size 432x288 with 1 Axes>"
      ]
     },
     "metadata": {
      "needs_background": "light"
     },
     "output_type": "display_data"
    },
    {
     "name": "stdout",
     "output_type": "stream",
     "text": [
      "tree , threshold = 0.54\n",
      "               no exit        exit  accuracy    macro avg  weighted avg\n",
      "precision     0.901575    0.542017     0.816     0.721796      0.828225\n",
      "recall        0.863065    0.632353     0.816     0.747709      0.816000\n",
      "f1-score      0.881900    0.583710     0.816     0.732805      0.821069\n",
      "support    1592.000000  408.000000     0.816  2000.000000   2000.000000\n"
     ]
    },
    {
     "data": {
      "image/png": "[encoded data removed]",
      "text/plain": [
       "<Figure size 432x288 with 1 Axes>"
      ]
     },
     "metadata": {
      "needs_background": "light"
     },
     "output_type": "display_data"
    },
    {
     "name": "stdout",
     "output_type": "stream",
     "text": [
      "forest , threshold = 0.48\n",
      "               no exit        exit  accuracy    macro avg  weighted avg\n",
      "precision     0.890587    0.629121     0.843     0.759854      0.837248\n",
      "recall        0.915201    0.561275     0.843     0.738238      0.843000\n",
      "f1-score      0.902726    0.593264     0.843     0.747995      0.839596\n",
      "support    1592.000000  408.000000     0.843  2000.000000   2000.000000\n"
     ]
    },
    {
     "data": {
      "image/png": "[encoded data removed]",
      "text/plain": [
       "<Figure size 432x288 with 1 Axes>"
      ]
     },
     "metadata": {
      "needs_background": "light"
     },
     "output_type": "display_data"
    }
   ],
   "source": [
    "for method in method_list:\n",
    "    model = eval(\"\".join(['model_',method]))\n",
    "    model.fit(features_train_up, target_train_up)\n",
    "    predicted_best, threshold = threshold_move(model)\n",
    "    print (method, f', threshold = {threshold}')\n",
    "    print (pd.DataFrame(classification_report(target_valid, predicted_best,\\\n",
    "                                              target_names=['no exit', 'exit'], output_dict=True)))\n",
    "    auc_roc_curve_plot(model)"
   ]
  },
  {
   "cell_type": "markdown",
   "metadata": {},
   "source": [
    "Затем объявим функцию для перебора гиперпараметров с подбором порога."
   ]
  },
  {
   "cell_type": "code",
   "execution_count": 45,
   "metadata": {},
   "outputs": [],
   "source": [
    "def multi_model_threshold(features_train, target_train, features_valid = features_valid, target_valid = target_valid):\n",
    "    for method in method_list:\n",
    "        if method == 'log':\n",
    "            model = LogisticRegression(random_state = 1234, solver = 'liblinear')\n",
    "        elif method == 'tree':\n",
    "            model = DecisionTreeClassifier()\n",
    "            parametrs = {'max_depth': range (2,21),\n",
    "                         'random_state': [1234]}\n",
    "            grid = GridSearchCV(model, parametrs, scoring = 'roc_auc')\n",
    "            grid.fit(features_train, target_train)\n",
    "            model = DecisionTreeClassifier(max_depth = grid.best_params_['max_depth'],\\\n",
    "                               random_state =grid.best_params_['random_state'])\n",
    "            tree_params = grid.best_params_\n",
    "        elif method == 'forest':\n",
    "            model = RandomForestClassifier()\n",
    "            parametrs = {'n_estimators': range (10,50,5),\n",
    "                         'max_depth': range(2,11),\n",
    "                         'random_state': [1234]}\n",
    "            grid = GridSearchCV(model, parametrs, scoring = 'roc_auc')\n",
    "            grid.fit(features_train, target_train)\n",
    "            model = RandomForestClassifier(n_estimators = grid.best_params_['n_estimators'],\\\n",
    "                               max_depth = grid.best_params_['max_depth'],\\\n",
    "                               random_state =grid.best_params_['random_state'])\n",
    "            forest_params = grid.best_params_\n",
    "        model.fit(features_train, target_train)\n",
    "        predictions, threshold = threshold_move(model)\n",
    "        print (method, f', threshold = {threshold}')\n",
    "        print (pd.DataFrame(classification_report(target_valid, predictions,\\\n",
    "                                   target_names=['no exit', 'exit'], output_dict=True)))\n",
    "        auc_roc_curve_plot(model)\n",
    "    print(f'Tree best parameters: {tree_params}')\n",
    "    print(f'Forest best parameters: {forest_params}') "
   ]
  },
  {
   "cell_type": "markdown",
   "metadata": {},
   "source": [
    "Применим эту функцию на увеличенную выборку и посмотрим, как меняются метрики."
   ]
  },
  {
   "cell_type": "code",
   "execution_count": 46,
   "metadata": {},
   "outputs": [
    {
     "name": "stdout",
     "output_type": "stream",
     "text": [
      "log , threshold = 0.56\n",
      "               no exit        exit  accuracy    macro avg  weighted avg\n",
      "precision     0.895804    0.454386      0.77     0.675095      0.805755\n",
      "recall        0.804648    0.634804      0.77     0.719726      0.770000\n",
      "f1-score      0.847783    0.529652      0.77     0.688718      0.782884\n",
      "support    1592.000000  408.000000      0.77  2000.000000   2000.000000\n"
     ]
    },
    {
     "data": {
      "image/png": "[encoded data removed]",
      "text/plain": [
       "<Figure size 432x288 with 1 Axes>"
      ]
     },
     "metadata": {
      "needs_background": "light"
     },
     "output_type": "display_data"
    },
    {
     "name": "stdout",
     "output_type": "stream",
     "text": [
      "tree , threshold = 0.72\n",
      "               no exit        exit  accuracy    macro avg  weighted avg\n",
      "precision     0.861577    0.475578    0.7865     0.668578      0.782833\n",
      "recall        0.871859    0.453431    0.7865     0.662645      0.786500\n",
      "f1-score      0.866687    0.464241    0.7865     0.665464      0.784588\n",
      "support    1592.000000  408.000000    0.7865  2000.000000   2000.000000\n"
     ]
    },
    {
     "data": {
      "image/png": "[encoded data removed]",
      "text/plain": [
       "<Figure size 432x288 with 1 Axes>"
      ]
     },
     "metadata": {
      "needs_background": "light"
     },
     "output_type": "display_data"
    },
    {
     "name": "stdout",
     "output_type": "stream",
     "text": [
      "forest , threshold = 0.54\n",
      "               no exit        exit  accuracy    macro avg  weighted avg\n",
      "precision     0.901691    0.622829    0.8455     0.762260      0.844803\n",
      "recall        0.904523    0.615196    0.8455     0.759859      0.845500\n",
      "f1-score      0.903104    0.618989    0.8455     0.761047      0.845145\n",
      "support    1592.000000  408.000000    0.8455  2000.000000   2000.000000\n"
     ]
    },
    {
     "data": {
      "image/png": "[encoded data removed]",
      "text/plain": [
       "<Figure size 432x288 with 1 Axes>"
      ]
     },
     "metadata": {
      "needs_background": "light"
     },
     "output_type": "display_data"
    },
    {
     "name": "stdout",
     "output_type": "stream",
     "text": [
      "Tree best parameters: {'max_depth': 15, 'random_state': 1234}\n",
      "Forest best parameters: {'max_depth': 10, 'n_estimators': 40, 'random_state': 1234}\n"
     ]
    }
   ],
   "source": [
    "multi_model_threshold (features_train_up, target_train_up)"
   ]
  },
  {
   "cell_type": "markdown",
   "metadata": {},
   "source": [
    "**Выводы:**  \n",
    "* Модели линейной регрессии ожидаемо идентичны.\n",
    "* Ни одна из двух моделей случайного дерева не пробила минимальный порог f1-скоринга\n",
    "* Модель случайного леса показала приемлемый результат в обоих случаях, на увеличенной выборке c подбором гиперпараметров показала максимальный из двух f1-score: 0,619 - приемлема для дальнейшего исследования."
   ]
  },
  {
   "cell_type": "markdown",
   "metadata": {},
   "source": [
    "### Изменение порога + даунсэмплинг"
   ]
  },
  {
   "cell_type": "markdown",
   "metadata": {},
   "source": [
    "Аналогично поступим и с уменьшенной выборкой."
   ]
  },
  {
   "cell_type": "code",
   "execution_count": 47,
   "metadata": {},
   "outputs": [
    {
     "name": "stdout",
     "output_type": "stream",
     "text": [
      "log , threshold = 0.58\n",
      "               no exit        exit  accuracy    macro avg  weighted avg\n",
      "precision     0.888070    0.474409     0.783     0.681240      0.803683\n",
      "recall        0.832286    0.590686     0.783     0.711486      0.783000\n",
      "f1-score      0.859274    0.526201     0.783     0.692737      0.791327\n",
      "support    1592.000000  408.000000     0.783  2000.000000   2000.000000\n"
     ]
    },
    {
     "data": {
      "image/png": "[encoded data removed]",
      "text/plain": [
       "<Figure size 432x288 with 1 Axes>"
      ]
     },
     "metadata": {
      "needs_background": "light"
     },
     "output_type": "display_data"
    },
    {
     "name": "stdout",
     "output_type": "stream",
     "text": [
      "tree , threshold = 0.56\n",
      "               no exit        exit  accuracy    macro avg  weighted avg\n",
      "precision     0.907859    0.519084     0.806     0.713472      0.828549\n",
      "recall        0.841709    0.666667     0.806     0.754188      0.806000\n",
      "f1-score      0.873533    0.583691     0.806     0.728612      0.814405\n",
      "support    1592.000000  408.000000     0.806  2000.000000   2000.000000\n"
     ]
    },
    {
     "data": {
      "image/png": "[encoded data removed]",
      "text/plain": [
       "<Figure size 432x288 with 1 Axes>"
      ]
     },
     "metadata": {
      "needs_background": "light"
     },
     "output_type": "display_data"
    },
    {
     "name": "stdout",
     "output_type": "stream",
     "text": [
      "forest , threshold = 0.68\n",
      "               no exit        exit  accuracy    macro avg  weighted avg\n",
      "precision     0.888554    0.655882     0.849     0.772218      0.841089\n",
      "recall        0.926508    0.546569     0.849     0.736538      0.849000\n",
      "f1-score      0.907134    0.596257     0.849     0.751695      0.843715\n",
      "support    1592.000000  408.000000     0.849  2000.000000   2000.000000\n"
     ]
    },
    {
     "data": {
      "image/png": "[encoded data removed]",
      "text/plain": [
       "<Figure size 432x288 with 1 Axes>"
      ]
     },
     "metadata": {
      "needs_background": "light"
     },
     "output_type": "display_data"
    }
   ],
   "source": [
    "for method in method_list:\n",
    "    model = eval(\"\".join(['model_',method]))\n",
    "    model.fit(features_train_down, target_train_down)\n",
    "    predicted_best, threshold = threshold_move(model)\n",
    "    print (method, f', threshold = {threshold}')\n",
    "    print (pd.DataFrame(classification_report(target_valid, predicted_best,\\\n",
    "                                              target_names=['no exit', 'exit'], output_dict=True)))\n",
    "    auc_roc_curve_plot(model)"
   ]
  },
  {
   "cell_type": "markdown",
   "metadata": {},
   "source": [
    "Теперь переберём гиперпараметры у случайного дерева и случайного леса."
   ]
  },
  {
   "cell_type": "code",
   "execution_count": 48,
   "metadata": {},
   "outputs": [
    {
     "name": "stdout",
     "output_type": "stream",
     "text": [
      "log , threshold = 0.58\n",
      "               no exit        exit  accuracy    macro avg  weighted avg\n",
      "precision     0.888070    0.474409     0.783     0.681240      0.803683\n",
      "recall        0.832286    0.590686     0.783     0.711486      0.783000\n",
      "f1-score      0.859274    0.526201     0.783     0.692737      0.791327\n",
      "support    1592.000000  408.000000     0.783  2000.000000   2000.000000\n"
     ]
    },
    {
     "data": {
      "image/png": "[encoded data removed]",
      "text/plain": [
       "<Figure size 432x288 with 1 Axes>"
      ]
     },
     "metadata": {
      "needs_background": "light"
     },
     "output_type": "display_data"
    },
    {
     "name": "stdout",
     "output_type": "stream",
     "text": [
      "tree , threshold = 0.56\n",
      "               no exit        exit  accuracy    macro avg  weighted avg\n",
      "precision     0.907859    0.519084     0.806     0.713472      0.828549\n",
      "recall        0.841709    0.666667     0.806     0.754188      0.806000\n",
      "f1-score      0.873533    0.583691     0.806     0.728612      0.814405\n",
      "support    1592.000000  408.000000     0.806  2000.000000   2000.000000\n"
     ]
    },
    {
     "data": {
      "image/png": "[encoded data removed]",
      "text/plain": [
       "<Figure size 432x288 with 1 Axes>"
      ]
     },
     "metadata": {
      "needs_background": "light"
     },
     "output_type": "display_data"
    },
    {
     "name": "stdout",
     "output_type": "stream",
     "text": [
      "forest , threshold = 0.56\n",
      "               no exit        exit  accuracy    macro avg  weighted avg\n",
      "precision     0.918846    0.563851    0.8285     0.741349      0.846427\n",
      "recall        0.860553    0.703431    0.8285     0.781992      0.828500\n",
      "f1-score      0.888745    0.625954    0.8285     0.757349      0.835135\n",
      "support    1592.000000  408.000000    0.8285  2000.000000   2000.000000\n"
     ]
    },
    {
     "data": {
      "image/png": "[encoded data removed]",
      "text/plain": [
       "<Figure size 432x288 with 1 Axes>"
      ]
     },
     "metadata": {
      "needs_background": "light"
     },
     "output_type": "display_data"
    },
    {
     "name": "stdout",
     "output_type": "stream",
     "text": [
      "Tree best parameters: {'max_depth': 5, 'random_state': 1234}\n",
      "Forest best parameters: {'max_depth': 10, 'n_estimators': 45, 'random_state': 1234}\n"
     ]
    }
   ],
   "source": [
    "multi_model_threshold (features_train_down, target_train_down)"
   ]
  },
  {
   "cell_type": "markdown",
   "metadata": {},
   "source": [
    "**Выводы:**  \n",
    "* Модели линейной регрессии вновь ожидаемо идентичны.\n",
    "* Ни одна из двух моделей случайного дерева не пробила минимальный порог f1-скоринга, в сравнении с апсэмплингом + изменением порога показывают лучший результат.\n",
    "* Модель случайного леса показала приемлемый результат в обоих случаях, на увеличенной выборке и с подбором гиперпараметров показала максимальный из всех исследований f1-score: 0,626 - приоритетна для дальнейшего исследования.\n",
    "* Модели склонны к ложноотрицательным ошибкам."
   ]
  },
  {
   "cell_type": "markdown",
   "metadata": {},
   "source": [
    "### Общий вывод по борьбе с дисбалансом"
   ]
  },
  {
   "cell_type": "markdown",
   "metadata": {},
   "source": [
    "* Протестировано 5 подходов к борьбе с дисбалансом.\n",
    "* Определены модели, пригодные для тестирования на тестовой выборке, зафиксированы их параметры:\n",
    "  - Модель случайного леса, обученная на увеличенной выборке\n",
    "  - Модель случайного леса, обученная на уменьшенной выборке\n",
    "  - Модель случайного леса с изменённым порогом чувствительности, обученная на стандартной выборке\n",
    "  - Модель случайного леса с изменённым порогом чувствительности, обученная на увеличенной выборке\n",
    "  - Модель случайного леса с изменённым порогом чувствительности, обученная на уменьшенной выборке\n",
    "\n",
    "Остановим выбор на модели, показавшей наилучший результат."
   ]
  },
  {
   "cell_type": "markdown",
   "metadata": {},
   "source": [
    "\n",
    "## Тестирование модели"
   ]
  },
  {
   "cell_type": "code",
   "execution_count": 49,
   "metadata": {},
   "outputs": [
    {
     "name": "stdout",
     "output_type": "stream",
     "text": [
      "               no exit        exit  accuracy    macro avg  weighted avg\n",
      "precision     0.910547    0.543825    0.8185     0.727186      0.835919\n",
      "recall        0.856246    0.670762    0.8185     0.763504      0.818500\n",
      "f1-score      0.882562    0.600660    0.8185     0.741611      0.825195\n",
      "support    1593.000000  407.000000    0.8185  2000.000000   2000.000000\n"
     ]
    },
    {
     "data": {
      "image/png": "[encoded data removed]",
      "text/plain": [
       "<Figure size 432x288 with 1 Axes>"
      ]
     },
     "metadata": {
      "needs_background": "light"
     },
     "output_type": "display_data"
    }
   ],
   "source": [
    "model = RandomForestClassifier(n_estimators =  45,\\\n",
    "                                max_depth = 10,\\\n",
    "                                random_state = 1234)\n",
    "model.fit(features_train_down,target_train_down)\n",
    "probabilities_test = model.predict_proba(features_test)\n",
    "probabilities_one_test = probabilities_test[:, 1]\n",
    "predictions = probabilities_one_test > 0.56\n",
    "print (pd.DataFrame(classification_report(target_test, predictions,\\\n",
    "                                              target_names=['no exit', 'exit'], output_dict=True)))\n",
    "auc_roc_curve_plot(model, features_test, target_test)"
   ]
  },
  {
   "cell_type": "markdown",
   "metadata": {},
   "source": [
    "**Выводы:**\n",
    "- Модель прошла тестирование, но погранично\n",
    "- Вдобавок, так, как она склонна к ложноотрицательной ошибке, и с точки зрения банковского бизнеса лучше попытаться сохранить клиента, который не очень-то собирался уходить, чем упустить из внимания того, кто планирует отказаться от услуг, имеет смысл отдельно исследовать прочие модели."
   ]
  },
  {
   "cell_type": "markdown",
   "metadata": {},
   "source": [
    "## Общий вывод:\n",
    "* Была проведена предобработка данных: заполнение пропусков, изменение типов данных, OHE-преобразование, стандартизация.\n",
    "* Данные были оценены и разбиты на выборки со стратификацией по целевому признаку.\n",
    "* Были построены предиктивные модели разных видов с подбором оптимальных гиперпараметров на несбалансированной выборке.\n",
    "* Были оценены различные способы борьбы с дисбалансом с помощью моделей разных видов с подбором оптимальных параметров\n",
    "* Наилучшие комбинации методов моделирования и подходов к дисбалансу были проверены на тестовой выборке.  \n",
    "Определен  подход - применять модель случайного леса:\n",
    "  * с 45 эстиматорами\n",
    "  * c наибольшей глубиной дерева = 10\n",
    "  * обучениe на уменьшенной выборке\n",
    "  * скоректированный порог чувствительности = 0.56.\n",
    "  \n",
    "* Метрики наилучшей модели: \n",
    "  * Precision = 0,544\n",
    "  * Recall = 0,671\n",
    "  * Accuracy = 0,819\n",
    "  * F1-score = 0,601\n",
    "  * AUC-ROC = 0,839"
   ]
  }
 ],
 "metadata": {
  "ExecuteTimeLog": [
   {
    "duration": 1134,
    "start_time": "2023-01-16T15:34:34.978Z"
   },
   {
    "duration": 466,
    "start_time": "2023-01-16T15:36:34.063Z"
   },
   {
    "duration": 132,
    "start_time": "2023-01-16T15:37:21.939Z"
   },
   {
    "duration": 71,
    "start_time": "2023-01-16T15:54:11.214Z"
   },
   {
    "duration": 5,
    "start_time": "2023-01-16T15:54:29.691Z"
   },
   {
    "duration": 5,
    "start_time": "2023-01-16T15:54:50.481Z"
   },
   {
    "duration": 123,
    "start_time": "2023-01-16T15:55:11.056Z"
   },
   {
    "duration": 14,
    "start_time": "2023-01-16T15:55:52.727Z"
   },
   {
    "duration": 4,
    "start_time": "2023-01-16T15:56:46.773Z"
   },
   {
    "duration": 4,
    "start_time": "2023-01-16T15:56:54.541Z"
   },
   {
    "duration": 13,
    "start_time": "2023-01-16T15:57:05.261Z"
   },
   {
    "duration": 5,
    "start_time": "2023-01-16T15:57:29.422Z"
   },
   {
    "duration": 18,
    "start_time": "2023-01-16T15:57:30.930Z"
   },
   {
    "duration": 4,
    "start_time": "2023-01-16T15:57:53.006Z"
   },
   {
    "duration": 5,
    "start_time": "2023-01-16T15:57:54.926Z"
   },
   {
    "duration": 5,
    "start_time": "2023-01-16T15:58:03.433Z"
   },
   {
    "duration": 5,
    "start_time": "2023-01-16T15:58:15.744Z"
   },
   {
    "duration": 5,
    "start_time": "2023-01-16T15:58:42.043Z"
   },
   {
    "duration": 5,
    "start_time": "2023-01-16T15:59:02.825Z"
   },
   {
    "duration": 5,
    "start_time": "2023-01-16T15:59:04.342Z"
   },
   {
    "duration": 4,
    "start_time": "2023-01-16T15:59:05.624Z"
   },
   {
    "duration": 29,
    "start_time": "2023-01-16T15:59:42.164Z"
   },
   {
    "duration": 18,
    "start_time": "2023-01-16T15:59:48.123Z"
   },
   {
    "duration": 3,
    "start_time": "2023-01-16T16:00:12.992Z"
   },
   {
    "duration": 15,
    "start_time": "2023-01-16T16:00:27.275Z"
   },
   {
    "duration": 4,
    "start_time": "2023-01-16T16:07:53.694Z"
   },
   {
    "duration": 6,
    "start_time": "2023-01-16T16:07:54.841Z"
   },
   {
    "duration": 5,
    "start_time": "2023-01-16T16:08:17.691Z"
   },
   {
    "duration": 4,
    "start_time": "2023-01-16T16:08:43.613Z"
   },
   {
    "duration": 6,
    "start_time": "2023-01-16T16:08:47.421Z"
   },
   {
    "duration": 14,
    "start_time": "2023-01-16T16:10:28.543Z"
   },
   {
    "duration": 1167,
    "start_time": "2023-01-16T16:11:40.000Z"
   },
   {
    "duration": 11,
    "start_time": "2023-01-16T16:11:46.633Z"
   },
   {
    "duration": 20,
    "start_time": "2023-01-16T16:17:50.324Z"
   },
   {
    "duration": 9,
    "start_time": "2023-01-16T16:18:29.616Z"
   },
   {
    "duration": 19,
    "start_time": "2023-01-16T16:21:47.833Z"
   },
   {
    "duration": 12,
    "start_time": "2023-01-16T16:22:25.170Z"
   },
   {
    "duration": 9,
    "start_time": "2023-01-16T16:22:33.892Z"
   },
   {
    "duration": 18,
    "start_time": "2023-01-16T16:22:39.304Z"
   },
   {
    "duration": 9,
    "start_time": "2023-01-16T16:22:44.819Z"
   },
   {
    "duration": 9,
    "start_time": "2023-01-16T16:24:53.740Z"
   },
   {
    "duration": 22,
    "start_time": "2023-01-16T16:24:59.694Z"
   },
   {
    "duration": 18,
    "start_time": "2023-01-16T16:25:30.191Z"
   },
   {
    "duration": 781,
    "start_time": "2023-01-16T16:26:55.738Z"
   },
   {
    "duration": 1029,
    "start_time": "2023-01-16T16:27:09.857Z"
   },
   {
    "duration": 978,
    "start_time": "2023-01-16T16:27:15.566Z"
   },
   {
    "duration": 10,
    "start_time": "2023-01-16T16:31:47.420Z"
   },
   {
    "duration": 1552,
    "start_time": "2023-01-16T16:32:35.899Z"
   },
   {
    "duration": 4,
    "start_time": "2023-01-16T16:32:37.453Z"
   },
   {
    "duration": 41,
    "start_time": "2023-01-16T16:32:37.459Z"
   },
   {
    "duration": 60,
    "start_time": "2023-01-16T16:32:37.502Z"
   },
   {
    "duration": 28,
    "start_time": "2023-01-16T16:32:37.565Z"
   },
   {
    "duration": 28,
    "start_time": "2023-01-16T16:32:37.595Z"
   },
   {
    "duration": 32,
    "start_time": "2023-01-16T16:32:37.624Z"
   },
   {
    "duration": 36,
    "start_time": "2023-01-16T16:32:37.658Z"
   },
   {
    "duration": 25,
    "start_time": "2023-01-16T16:32:37.696Z"
   },
   {
    "duration": 35,
    "start_time": "2023-01-16T16:32:37.723Z"
   },
   {
    "duration": 1041,
    "start_time": "2023-01-16T16:32:37.760Z"
   },
   {
    "duration": 21,
    "start_time": "2023-01-16T16:33:31.579Z"
   },
   {
    "duration": 10,
    "start_time": "2023-01-16T16:35:27.226Z"
   },
   {
    "duration": 8,
    "start_time": "2023-01-16T16:36:27.339Z"
   },
   {
    "duration": 9,
    "start_time": "2023-01-16T16:36:37.626Z"
   },
   {
    "duration": 11,
    "start_time": "2023-01-16T16:36:40.139Z"
   },
   {
    "duration": 10,
    "start_time": "2023-01-16T16:37:06.388Z"
   },
   {
    "duration": 8,
    "start_time": "2023-01-16T16:37:22.336Z"
   },
   {
    "duration": 8,
    "start_time": "2023-01-16T16:37:50.791Z"
   },
   {
    "duration": 13,
    "start_time": "2023-01-16T16:39:34.239Z"
   },
   {
    "duration": 159,
    "start_time": "2023-01-16T16:41:27.053Z"
   },
   {
    "duration": 26,
    "start_time": "2023-01-16T16:42:16.867Z"
   },
   {
    "duration": 141,
    "start_time": "2023-01-16T17:10:01.216Z"
   },
   {
    "duration": 16,
    "start_time": "2023-01-16T17:10:04.482Z"
   },
   {
    "duration": 83,
    "start_time": "2023-01-16T17:10:19.220Z"
   },
   {
    "duration": 1592,
    "start_time": "2023-01-16T17:10:27.803Z"
   },
   {
    "duration": 7,
    "start_time": "2023-01-16T17:10:29.397Z"
   },
   {
    "duration": 34,
    "start_time": "2023-01-16T17:10:29.407Z"
   },
   {
    "duration": 32,
    "start_time": "2023-01-16T17:10:29.444Z"
   },
   {
    "duration": 27,
    "start_time": "2023-01-16T17:10:29.479Z"
   },
   {
    "duration": 33,
    "start_time": "2023-01-16T17:10:29.508Z"
   },
   {
    "duration": 32,
    "start_time": "2023-01-16T17:10:29.543Z"
   },
   {
    "duration": 35,
    "start_time": "2023-01-16T17:10:29.577Z"
   },
   {
    "duration": 42,
    "start_time": "2023-01-16T17:10:29.614Z"
   },
   {
    "duration": 45,
    "start_time": "2023-01-16T17:10:29.659Z"
   },
   {
    "duration": 1208,
    "start_time": "2023-01-16T17:10:29.707Z"
   },
   {
    "duration": 35,
    "start_time": "2023-01-16T17:10:30.918Z"
   },
   {
    "duration": 42,
    "start_time": "2023-01-16T17:10:30.955Z"
   },
   {
    "duration": 40,
    "start_time": "2023-01-16T17:10:31.000Z"
   },
   {
    "duration": 57,
    "start_time": "2023-01-16T17:10:31.042Z"
   },
   {
    "duration": 80,
    "start_time": "2023-01-16T17:10:31.101Z"
   },
   {
    "duration": 44,
    "start_time": "2023-01-16T17:10:31.183Z"
   },
   {
    "duration": 299,
    "start_time": "2023-01-16T17:17:52.088Z"
   },
   {
    "duration": 29,
    "start_time": "2023-01-16T17:18:34.031Z"
   },
   {
    "duration": 168,
    "start_time": "2023-01-16T17:18:39.783Z"
   },
   {
    "duration": 52,
    "start_time": "2023-01-16T17:18:43.000Z"
   },
   {
    "duration": 139,
    "start_time": "2023-01-16T17:18:53.624Z"
   },
   {
    "duration": 330,
    "start_time": "2023-01-16T17:19:09.525Z"
   },
   {
    "duration": 221,
    "start_time": "2023-01-16T17:19:41.130Z"
   },
   {
    "duration": 10,
    "start_time": "2023-01-16T17:19:44.385Z"
   },
   {
    "duration": 134,
    "start_time": "2023-01-16T17:21:07.319Z"
   },
   {
    "duration": 7,
    "start_time": "2023-01-16T17:24:01.065Z"
   },
   {
    "duration": 69,
    "start_time": "2023-01-16T17:32:25.321Z"
   },
   {
    "duration": 5,
    "start_time": "2023-01-16T17:32:29.558Z"
   },
   {
    "duration": 6,
    "start_time": "2023-01-16T17:32:36.014Z"
   },
   {
    "duration": 5,
    "start_time": "2023-01-16T17:32:58.318Z"
   },
   {
    "duration": 308,
    "start_time": "2023-01-16T17:33:45.072Z"
   },
   {
    "duration": 4,
    "start_time": "2023-01-16T17:34:46.846Z"
   },
   {
    "duration": 329,
    "start_time": "2023-01-16T17:34:50.353Z"
   },
   {
    "duration": 4,
    "start_time": "2023-01-16T17:35:04.508Z"
   },
   {
    "duration": 267,
    "start_time": "2023-01-16T17:35:07.902Z"
   },
   {
    "duration": 5,
    "start_time": "2023-01-16T17:35:28.209Z"
   },
   {
    "duration": 273,
    "start_time": "2023-01-16T17:35:30.897Z"
   },
   {
    "duration": 4,
    "start_time": "2023-01-16T17:35:36.695Z"
   },
   {
    "duration": 293,
    "start_time": "2023-01-16T17:35:38.977Z"
   },
   {
    "duration": 83,
    "start_time": "2023-01-16T17:37:17.603Z"
   },
   {
    "duration": 5,
    "start_time": "2023-01-16T17:37:24.060Z"
   },
   {
    "duration": 301,
    "start_time": "2023-01-16T17:37:28.053Z"
   },
   {
    "duration": 5,
    "start_time": "2023-01-16T17:37:48.900Z"
   },
   {
    "duration": 282,
    "start_time": "2023-01-16T17:37:52.358Z"
   },
   {
    "duration": 5,
    "start_time": "2023-01-16T17:39:42.021Z"
   },
   {
    "duration": 251,
    "start_time": "2023-01-16T17:39:46.514Z"
   },
   {
    "duration": 74,
    "start_time": "2023-01-16T17:40:23.065Z"
   },
   {
    "duration": 6,
    "start_time": "2023-01-16T17:40:30.541Z"
   },
   {
    "duration": 277,
    "start_time": "2023-01-16T17:40:33.603Z"
   },
   {
    "duration": 7,
    "start_time": "2023-01-16T17:42:01.389Z"
   },
   {
    "duration": 297,
    "start_time": "2023-01-16T17:42:04.698Z"
   },
   {
    "duration": 266,
    "start_time": "2023-01-16T17:42:13.821Z"
   },
   {
    "duration": 5,
    "start_time": "2023-01-16T17:42:34.868Z"
   },
   {
    "duration": 331,
    "start_time": "2023-01-16T17:42:38.231Z"
   },
   {
    "duration": 250,
    "start_time": "2023-01-16T17:42:43.014Z"
   },
   {
    "duration": 5,
    "start_time": "2023-01-16T17:43:18.802Z"
   },
   {
    "duration": 256,
    "start_time": "2023-01-16T17:43:22.403Z"
   },
   {
    "duration": 5,
    "start_time": "2023-01-16T17:45:39.917Z"
   },
   {
    "duration": 365,
    "start_time": "2023-01-16T17:45:43.783Z"
   },
   {
    "duration": 4,
    "start_time": "2023-01-16T17:46:07.454Z"
   },
   {
    "duration": 138,
    "start_time": "2023-01-16T17:46:11.022Z"
   },
   {
    "duration": 5,
    "start_time": "2023-01-16T17:46:40.273Z"
   },
   {
    "duration": 245,
    "start_time": "2023-01-16T17:46:43.617Z"
   },
   {
    "duration": 7,
    "start_time": "2023-01-16T17:48:31.867Z"
   },
   {
    "duration": 85,
    "start_time": "2023-01-16T17:49:20.367Z"
   },
   {
    "duration": 73,
    "start_time": "2023-01-16T17:49:28.131Z"
   },
   {
    "duration": 75,
    "start_time": "2023-01-16T17:49:32.368Z"
   },
   {
    "duration": 225,
    "start_time": "2023-01-16T17:49:39.826Z"
   },
   {
    "duration": 63,
    "start_time": "2023-01-16T17:51:49.562Z"
   },
   {
    "duration": 77,
    "start_time": "2023-01-16T17:51:56.937Z"
   },
   {
    "duration": 15,
    "start_time": "2023-01-16T17:55:43.932Z"
   },
   {
    "duration": 802,
    "start_time": "2023-01-16T17:56:00.573Z"
   },
   {
    "duration": 749,
    "start_time": "2023-01-16T17:57:33.038Z"
   },
   {
    "duration": 880,
    "start_time": "2023-01-16T17:58:15.633Z"
   },
   {
    "duration": 858,
    "start_time": "2023-01-16T17:58:25.705Z"
   },
   {
    "duration": 134,
    "start_time": "2023-01-16T17:58:51.728Z"
   },
   {
    "duration": 7,
    "start_time": "2023-01-16T17:59:58.059Z"
   },
   {
    "duration": 1660,
    "start_time": "2023-01-16T18:00:58.424Z"
   },
   {
    "duration": 158,
    "start_time": "2023-01-16T18:01:02.207Z"
   },
   {
    "duration": 1569,
    "start_time": "2023-01-16T18:01:52.793Z"
   },
   {
    "duration": 138,
    "start_time": "2023-01-16T18:01:56.777Z"
   },
   {
    "duration": 35,
    "start_time": "2023-01-16T18:06:03.649Z"
   },
   {
    "duration": 9,
    "start_time": "2023-01-16T18:06:14.303Z"
   },
   {
    "duration": 16,
    "start_time": "2023-01-16T18:06:21.213Z"
   },
   {
    "duration": 31,
    "start_time": "2023-01-16T18:06:23.498Z"
   },
   {
    "duration": 191,
    "start_time": "2023-01-16T18:06:34.362Z"
   },
   {
    "duration": 279,
    "start_time": "2023-01-16T18:06:36.124Z"
   },
   {
    "duration": 1459,
    "start_time": "2023-01-16T18:06:44.790Z"
   },
   {
    "duration": 164,
    "start_time": "2023-01-16T18:06:49.882Z"
   },
   {
    "duration": 1488,
    "start_time": "2023-01-16T18:07:30.511Z"
   },
   {
    "duration": 133,
    "start_time": "2023-01-16T18:07:36.497Z"
   },
   {
    "duration": 1515,
    "start_time": "2023-01-16T18:08:41.806Z"
   },
   {
    "duration": 5,
    "start_time": "2023-01-16T18:08:43.324Z"
   },
   {
    "duration": 16,
    "start_time": "2023-01-16T18:08:43.331Z"
   },
   {
    "duration": 9,
    "start_time": "2023-01-16T18:08:43.349Z"
   },
   {
    "duration": 18,
    "start_time": "2023-01-16T18:08:43.361Z"
   },
   {
    "duration": 12,
    "start_time": "2023-01-16T18:08:43.381Z"
   },
   {
    "duration": 21,
    "start_time": "2023-01-16T18:08:43.395Z"
   },
   {
    "duration": 39,
    "start_time": "2023-01-16T18:08:43.418Z"
   },
   {
    "duration": 9,
    "start_time": "2023-01-16T18:08:43.459Z"
   },
   {
    "duration": 16,
    "start_time": "2023-01-16T18:08:43.469Z"
   },
   {
    "duration": 1045,
    "start_time": "2023-01-16T18:08:43.488Z"
   },
   {
    "duration": 28,
    "start_time": "2023-01-16T18:08:44.535Z"
   },
   {
    "duration": 10,
    "start_time": "2023-01-16T18:08:44.564Z"
   },
   {
    "duration": 9,
    "start_time": "2023-01-16T18:08:44.577Z"
   },
   {
    "duration": 9,
    "start_time": "2023-01-16T18:08:44.588Z"
   },
   {
    "duration": 6,
    "start_time": "2023-01-16T18:08:44.599Z"
   },
   {
    "duration": 147,
    "start_time": "2023-01-16T18:08:44.607Z"
   },
   {
    "duration": 5,
    "start_time": "2023-01-16T18:08:44.756Z"
   },
   {
    "duration": 94,
    "start_time": "2023-01-16T18:08:44.763Z"
   },
   {
    "duration": 396,
    "start_time": "2023-01-16T18:08:44.859Z"
   },
   {
    "duration": 1469,
    "start_time": "2023-01-16T18:08:45.257Z"
   },
   {
    "duration": 135,
    "start_time": "2023-01-16T18:08:46.728Z"
   },
   {
    "duration": 18392,
    "start_time": "2023-01-16T18:09:34.288Z"
   },
   {
    "duration": 17777,
    "start_time": "2023-01-16T18:11:19.795Z"
   },
   {
    "duration": 49207,
    "start_time": "2023-01-16T18:12:30.079Z"
   },
   {
    "duration": 7205,
    "start_time": "2023-01-16T18:13:46.901Z"
   },
   {
    "duration": 110534,
    "start_time": "2023-01-16T18:14:23.319Z"
   },
   {
    "duration": 30860,
    "start_time": "2023-01-16T18:16:33.904Z"
   },
   {
    "duration": 18954,
    "start_time": "2023-01-16T18:18:14.140Z"
   },
   {
    "duration": 19906,
    "start_time": "2023-01-16T18:20:05.185Z"
   },
   {
    "duration": 20464,
    "start_time": "2023-01-16T18:20:50.953Z"
   },
   {
    "duration": 1533,
    "start_time": "2023-01-16T18:23:57.868Z"
   },
   {
    "duration": 6,
    "start_time": "2023-01-16T18:23:59.404Z"
   },
   {
    "duration": 13,
    "start_time": "2023-01-16T18:23:59.412Z"
   },
   {
    "duration": 10,
    "start_time": "2023-01-16T18:23:59.427Z"
   },
   {
    "duration": 17,
    "start_time": "2023-01-16T18:23:59.450Z"
   },
   {
    "duration": 15,
    "start_time": "2023-01-16T18:23:59.469Z"
   },
   {
    "duration": 26,
    "start_time": "2023-01-16T18:23:59.487Z"
   },
   {
    "duration": 37,
    "start_time": "2023-01-16T18:23:59.516Z"
   },
   {
    "duration": 11,
    "start_time": "2023-01-16T18:23:59.556Z"
   },
   {
    "duration": 25,
    "start_time": "2023-01-16T18:23:59.569Z"
   },
   {
    "duration": 1229,
    "start_time": "2023-01-16T18:23:59.599Z"
   },
   {
    "duration": 28,
    "start_time": "2023-01-16T18:24:00.830Z"
   },
   {
    "duration": 11,
    "start_time": "2023-01-16T18:24:00.860Z"
   },
   {
    "duration": 28,
    "start_time": "2023-01-16T18:24:00.875Z"
   },
   {
    "duration": 11,
    "start_time": "2023-01-16T18:24:00.905Z"
   },
   {
    "duration": 20,
    "start_time": "2023-01-16T18:24:00.918Z"
   },
   {
    "duration": 130,
    "start_time": "2023-01-16T18:24:00.940Z"
   },
   {
    "duration": 12,
    "start_time": "2023-01-16T18:24:01.072Z"
   },
   {
    "duration": 171,
    "start_time": "2023-01-16T18:24:01.087Z"
   },
   {
    "duration": 321,
    "start_time": "2023-01-16T18:24:01.260Z"
   },
   {
    "duration": 1553,
    "start_time": "2023-01-16T18:24:01.583Z"
   },
   {
    "duration": 162,
    "start_time": "2023-01-16T18:24:03.139Z"
   },
   {
    "duration": 1548,
    "start_time": "2023-01-16T18:24:32.671Z"
   },
   {
    "duration": 6,
    "start_time": "2023-01-16T18:24:34.221Z"
   },
   {
    "duration": 15,
    "start_time": "2023-01-16T18:24:34.228Z"
   },
   {
    "duration": 14,
    "start_time": "2023-01-16T18:24:34.246Z"
   },
   {
    "duration": 25,
    "start_time": "2023-01-16T18:24:34.262Z"
   },
   {
    "duration": 17,
    "start_time": "2023-01-16T18:24:34.288Z"
   },
   {
    "duration": 36,
    "start_time": "2023-01-16T18:24:34.306Z"
   },
   {
    "duration": 9,
    "start_time": "2023-01-16T18:24:34.344Z"
   },
   {
    "duration": 9,
    "start_time": "2023-01-16T18:24:34.355Z"
   },
   {
    "duration": 17,
    "start_time": "2023-01-16T18:24:34.366Z"
   },
   {
    "duration": 1039,
    "start_time": "2023-01-16T18:24:34.385Z"
   },
   {
    "duration": 33,
    "start_time": "2023-01-16T18:24:35.425Z"
   },
   {
    "duration": 10,
    "start_time": "2023-01-16T18:24:35.459Z"
   },
   {
    "duration": 14,
    "start_time": "2023-01-16T18:24:35.471Z"
   },
   {
    "duration": 9,
    "start_time": "2023-01-16T18:24:35.486Z"
   },
   {
    "duration": 137,
    "start_time": "2023-01-16T18:24:35.496Z"
   },
   {
    "duration": 38,
    "start_time": "2023-01-16T18:24:35.635Z"
   },
   {
    "duration": 6,
    "start_time": "2023-01-16T18:24:35.675Z"
   },
   {
    "duration": 170,
    "start_time": "2023-01-16T18:24:35.683Z"
   },
   {
    "duration": 314,
    "start_time": "2023-01-16T18:24:35.855Z"
   },
   {
    "duration": 1482,
    "start_time": "2023-01-16T18:24:36.172Z"
   },
   {
    "duration": 147,
    "start_time": "2023-01-16T18:24:37.656Z"
   },
   {
    "duration": 1598,
    "start_time": "2023-01-16T18:25:08.446Z"
   },
   {
    "duration": 5,
    "start_time": "2023-01-16T18:25:10.047Z"
   },
   {
    "duration": 70,
    "start_time": "2023-01-16T18:25:10.055Z"
   },
   {
    "duration": 42,
    "start_time": "2023-01-16T18:25:10.127Z"
   },
   {
    "duration": 40,
    "start_time": "2023-01-16T18:25:10.172Z"
   },
   {
    "duration": 42,
    "start_time": "2023-01-16T18:25:10.214Z"
   },
   {
    "duration": 39,
    "start_time": "2023-01-16T18:25:10.258Z"
   },
   {
    "duration": 11,
    "start_time": "2023-01-16T18:25:10.300Z"
   },
   {
    "duration": 26,
    "start_time": "2023-01-16T18:25:10.313Z"
   },
   {
    "duration": 46,
    "start_time": "2023-01-16T18:25:10.342Z"
   },
   {
    "duration": 1014,
    "start_time": "2023-01-16T18:25:10.390Z"
   },
   {
    "duration": 28,
    "start_time": "2023-01-16T18:25:11.406Z"
   },
   {
    "duration": 35,
    "start_time": "2023-01-16T18:25:11.436Z"
   },
   {
    "duration": 19,
    "start_time": "2023-01-16T18:25:11.474Z"
   },
   {
    "duration": 26,
    "start_time": "2023-01-16T18:25:11.495Z"
   },
   {
    "duration": 29,
    "start_time": "2023-01-16T18:25:11.523Z"
   },
   {
    "duration": 119,
    "start_time": "2023-01-16T18:25:11.554Z"
   },
   {
    "duration": 6,
    "start_time": "2023-01-16T18:25:11.675Z"
   },
   {
    "duration": 180,
    "start_time": "2023-01-16T18:25:11.682Z"
   },
   {
    "duration": 346,
    "start_time": "2023-01-16T18:25:11.865Z"
   },
   {
    "duration": 1484,
    "start_time": "2023-01-16T18:25:12.214Z"
   },
   {
    "duration": 134,
    "start_time": "2023-01-16T18:25:13.700Z"
   },
   {
    "duration": 53345,
    "start_time": "2023-01-16T18:25:13.837Z"
   },
   {
    "duration": 145,
    "start_time": "2023-01-16T18:26:07.184Z"
   },
   {
    "duration": 53431,
    "start_time": "2023-01-16T18:26:26.699Z"
   },
   {
    "duration": 162,
    "start_time": "2023-01-16T18:27:49.971Z"
   },
   {
    "duration": 49490,
    "start_time": "2023-01-16T18:29:11.986Z"
   },
   {
    "duration": 163,
    "start_time": "2023-01-16T18:30:40.826Z"
   },
   {
    "duration": 10619,
    "start_time": "2023-01-16T18:30:48.183Z"
   },
   {
    "duration": 177,
    "start_time": "2023-01-16T18:31:36.180Z"
   },
   {
    "duration": 7,
    "start_time": "2023-01-16T18:46:15.337Z"
   },
   {
    "duration": 77,
    "start_time": "2023-01-16T18:48:28.640Z"
   },
   {
    "duration": 7,
    "start_time": "2023-01-16T18:48:37.211Z"
   },
   {
    "duration": 5,
    "start_time": "2023-01-16T18:51:10.540Z"
   },
   {
    "duration": 12,
    "start_time": "2023-01-16T18:55:42.617Z"
   },
   {
    "duration": 12,
    "start_time": "2023-01-16T18:59:34.725Z"
   },
   {
    "duration": 4,
    "start_time": "2023-01-16T18:59:36.539Z"
   },
   {
    "duration": 7,
    "start_time": "2023-01-16T18:59:37.962Z"
   },
   {
    "duration": 9,
    "start_time": "2023-01-16T18:59:51.642Z"
   },
   {
    "duration": 8,
    "start_time": "2023-01-16T19:00:25.819Z"
   },
   {
    "duration": 3,
    "start_time": "2023-01-16T19:00:27.237Z"
   },
   {
    "duration": 8,
    "start_time": "2023-01-16T19:00:28.577Z"
   },
   {
    "duration": 10,
    "start_time": "2023-01-16T19:00:53.471Z"
   },
   {
    "duration": 4,
    "start_time": "2023-01-16T19:00:54.558Z"
   },
   {
    "duration": 8,
    "start_time": "2023-01-16T19:00:55.957Z"
   },
   {
    "duration": 4,
    "start_time": "2023-01-16T19:01:01.517Z"
   },
   {
    "duration": 7,
    "start_time": "2023-01-16T19:01:03.141Z"
   },
   {
    "duration": 4,
    "start_time": "2023-01-16T19:01:40.729Z"
   },
   {
    "duration": 9,
    "start_time": "2023-01-16T19:01:42.580Z"
   },
   {
    "duration": 15,
    "start_time": "2023-01-16T19:02:48.213Z"
   },
   {
    "duration": 5,
    "start_time": "2023-01-16T19:02:50.701Z"
   },
   {
    "duration": 12,
    "start_time": "2023-01-16T19:02:52.271Z"
   },
   {
    "duration": 13,
    "start_time": "2023-01-16T19:03:17.169Z"
   },
   {
    "duration": 13,
    "start_time": "2023-01-16T19:03:25.960Z"
   },
   {
    "duration": 14,
    "start_time": "2023-01-16T19:03:35.332Z"
   },
   {
    "duration": 7,
    "start_time": "2023-01-16T19:04:20.983Z"
   },
   {
    "duration": 757,
    "start_time": "2023-01-16T19:04:45.693Z"
   },
   {
    "duration": 7,
    "start_time": "2023-01-16T19:05:24.251Z"
   },
   {
    "duration": 7,
    "start_time": "2023-01-16T19:05:27.937Z"
   },
   {
    "duration": 16330,
    "start_time": "2023-01-16T19:05:34.040Z"
   },
   {
    "duration": 8,
    "start_time": "2023-01-16T19:06:05.006Z"
   },
   {
    "duration": 16498,
    "start_time": "2023-01-16T19:06:12.373Z"
   },
   {
    "duration": 11,
    "start_time": "2023-01-16T19:11:52.145Z"
   },
   {
    "duration": 13733,
    "start_time": "2023-01-16T19:11:55.452Z"
   },
   {
    "duration": 8,
    "start_time": "2023-01-16T19:13:22.238Z"
   },
   {
    "duration": 26423,
    "start_time": "2023-01-16T19:13:26.287Z"
   },
   {
    "duration": 7,
    "start_time": "2023-01-16T19:14:43.731Z"
   },
   {
    "duration": 26625,
    "start_time": "2023-01-16T19:14:47.091Z"
   },
   {
    "duration": 7,
    "start_time": "2023-01-16T19:15:42.073Z"
   },
   {
    "duration": 33802,
    "start_time": "2023-01-16T19:15:46.706Z"
   },
   {
    "duration": 8,
    "start_time": "2023-01-16T19:16:56.356Z"
   },
   {
    "duration": 17756,
    "start_time": "2023-01-16T19:17:01.211Z"
   },
   {
    "duration": 9,
    "start_time": "2023-01-16T19:18:02.170Z"
   },
   {
    "duration": 10156,
    "start_time": "2023-01-16T19:18:07.186Z"
   },
   {
    "duration": 8,
    "start_time": "2023-01-16T19:18:31.898Z"
   },
   {
    "duration": 12268,
    "start_time": "2023-01-16T19:18:38.730Z"
   },
   {
    "duration": 8,
    "start_time": "2023-01-16T19:19:10.447Z"
   },
   {
    "duration": 10,
    "start_time": "2023-01-16T19:19:57.822Z"
   },
   {
    "duration": 16359,
    "start_time": "2023-01-16T19:20:07.267Z"
   },
   {
    "duration": 6,
    "start_time": "2023-01-16T19:22:43.644Z"
   },
   {
    "duration": 1671,
    "start_time": "2023-01-16T19:22:50.515Z"
   },
   {
    "duration": 152,
    "start_time": "2023-01-16T19:22:54.808Z"
   },
   {
    "duration": 9514,
    "start_time": "2023-01-16T19:23:51.053Z"
   },
   {
    "duration": 8561,
    "start_time": "2023-01-16T19:24:24.849Z"
   },
   {
    "duration": 8933,
    "start_time": "2023-01-16T19:24:49.498Z"
   },
   {
    "duration": 153273,
    "start_time": "2023-01-16T19:26:08.130Z"
   },
   {
    "duration": 53961,
    "start_time": "2023-01-16T19:29:27.734Z"
   },
   {
    "duration": 184,
    "start_time": "2023-01-16T19:30:43.049Z"
   },
   {
    "duration": 52951,
    "start_time": "2023-01-16T19:32:59.126Z"
   },
   {
    "duration": 167,
    "start_time": "2023-01-16T19:34:16.535Z"
   },
   {
    "duration": 7,
    "start_time": "2023-01-16T19:36:32.049Z"
   },
   {
    "duration": 190131,
    "start_time": "2023-01-16T19:36:37.158Z"
   },
   {
    "duration": 188314,
    "start_time": "2023-01-16T19:40:48.328Z"
   },
   {
    "duration": 12,
    "start_time": "2023-01-16T19:51:13.804Z"
   },
   {
    "duration": 453808,
    "start_time": "2023-01-16T19:51:24.801Z"
   },
   {
    "duration": 1626,
    "start_time": "2023-01-16T20:02:05.845Z"
   },
   {
    "duration": 197,
    "start_time": "2023-01-16T20:02:09.754Z"
   },
   {
    "duration": 53623,
    "start_time": "2023-01-16T20:02:58.623Z"
   },
   {
    "duration": 5,
    "start_time": "2023-01-16T20:05:30.419Z"
   },
   {
    "duration": 1570,
    "start_time": "2023-01-16T20:05:34.541Z"
   },
   {
    "duration": 4,
    "start_time": "2023-01-16T20:05:52.452Z"
   },
   {
    "duration": 1111,
    "start_time": "2023-01-16T20:05:56.305Z"
   },
   {
    "duration": 5,
    "start_time": "2023-01-16T20:06:20.118Z"
   },
   {
    "duration": 10,
    "start_time": "2023-01-16T20:11:05.116Z"
   },
   {
    "duration": 10,
    "start_time": "2023-01-16T20:12:20.642Z"
   },
   {
    "duration": 2254,
    "start_time": "2023-01-16T20:12:30.192Z"
   },
   {
    "duration": 6,
    "start_time": "2023-01-16T20:12:32.448Z"
   },
   {
    "duration": 22,
    "start_time": "2023-01-16T20:12:32.456Z"
   },
   {
    "duration": 24,
    "start_time": "2023-01-16T20:12:32.481Z"
   },
   {
    "duration": 35,
    "start_time": "2023-01-16T20:12:32.508Z"
   },
   {
    "duration": 22,
    "start_time": "2023-01-16T20:12:32.545Z"
   },
   {
    "duration": 20,
    "start_time": "2023-01-16T20:12:32.570Z"
   },
   {
    "duration": 9,
    "start_time": "2023-01-16T20:12:32.592Z"
   },
   {
    "duration": 31,
    "start_time": "2023-01-16T20:12:32.603Z"
   },
   {
    "duration": 25,
    "start_time": "2023-01-16T20:12:32.637Z"
   },
   {
    "duration": 1075,
    "start_time": "2023-01-16T20:12:32.664Z"
   },
   {
    "duration": 33,
    "start_time": "2023-01-16T20:12:33.741Z"
   },
   {
    "duration": 32,
    "start_time": "2023-01-16T20:12:33.776Z"
   },
   {
    "duration": 37,
    "start_time": "2023-01-16T20:12:33.810Z"
   },
   {
    "duration": 29,
    "start_time": "2023-01-16T20:12:33.849Z"
   },
   {
    "duration": 113,
    "start_time": "2023-01-16T20:12:33.880Z"
   },
   {
    "duration": 50,
    "start_time": "2023-01-16T20:12:33.995Z"
   },
   {
    "duration": 6,
    "start_time": "2023-01-16T20:12:34.048Z"
   },
   {
    "duration": 203,
    "start_time": "2023-01-16T20:12:34.056Z"
   },
   {
    "duration": 334,
    "start_time": "2023-01-16T20:12:34.261Z"
   },
   {
    "duration": 1664,
    "start_time": "2023-01-16T20:12:34.596Z"
   },
   {
    "duration": 150,
    "start_time": "2023-01-16T20:12:36.262Z"
   },
   {
    "duration": 53674,
    "start_time": "2023-01-16T20:12:36.414Z"
   },
   {
    "duration": 179,
    "start_time": "2023-01-16T20:13:30.090Z"
   },
   {
    "duration": 8,
    "start_time": "2023-01-16T20:13:30.271Z"
   },
   {
    "duration": 15,
    "start_time": "2023-01-16T20:13:30.281Z"
   },
   {
    "duration": 21,
    "start_time": "2023-01-16T20:13:30.298Z"
   },
   {
    "duration": 59013,
    "start_time": "2023-01-16T20:13:30.324Z"
   },
   {
    "duration": 1763,
    "start_time": "2023-01-16T20:14:52.058Z"
   },
   {
    "duration": 5,
    "start_time": "2023-01-16T20:14:53.824Z"
   },
   {
    "duration": 34,
    "start_time": "2023-01-16T20:14:53.830Z"
   },
   {
    "duration": 43,
    "start_time": "2023-01-16T20:14:53.866Z"
   },
   {
    "duration": 61,
    "start_time": "2023-01-16T20:14:53.910Z"
   },
   {
    "duration": 49,
    "start_time": "2023-01-16T20:14:53.973Z"
   },
   {
    "duration": 50,
    "start_time": "2023-01-16T20:14:54.024Z"
   },
   {
    "duration": 37,
    "start_time": "2023-01-16T20:14:54.075Z"
   },
   {
    "duration": 45,
    "start_time": "2023-01-16T20:14:54.115Z"
   },
   {
    "duration": 36,
    "start_time": "2023-01-16T20:14:54.163Z"
   },
   {
    "duration": 1069,
    "start_time": "2023-01-16T20:14:54.200Z"
   },
   {
    "duration": 22,
    "start_time": "2023-01-16T20:14:55.271Z"
   },
   {
    "duration": 41,
    "start_time": "2023-01-16T20:14:55.294Z"
   },
   {
    "duration": 29,
    "start_time": "2023-01-16T20:14:55.337Z"
   },
   {
    "duration": 39,
    "start_time": "2023-01-16T20:14:55.369Z"
   },
   {
    "duration": 140,
    "start_time": "2023-01-16T20:14:55.410Z"
   },
   {
    "duration": 60,
    "start_time": "2023-01-16T20:14:55.552Z"
   },
   {
    "duration": 46,
    "start_time": "2023-01-16T20:14:55.614Z"
   },
   {
    "duration": 188,
    "start_time": "2023-01-16T20:14:55.662Z"
   },
   {
    "duration": 320,
    "start_time": "2023-01-16T20:14:55.853Z"
   },
   {
    "duration": 1685,
    "start_time": "2023-01-16T20:14:56.175Z"
   },
   {
    "duration": 148,
    "start_time": "2023-01-16T20:14:57.862Z"
   },
   {
    "duration": 52111,
    "start_time": "2023-01-16T20:14:58.013Z"
   },
   {
    "duration": 186,
    "start_time": "2023-01-16T20:15:50.126Z"
   },
   {
    "duration": 8,
    "start_time": "2023-01-16T20:15:50.313Z"
   },
   {
    "duration": 41,
    "start_time": "2023-01-16T20:15:50.323Z"
   },
   {
    "duration": 52,
    "start_time": "2023-01-16T20:15:50.367Z"
   },
   {
    "duration": 58607,
    "start_time": "2023-01-16T20:15:50.423Z"
   },
   {
    "duration": 5,
    "start_time": "2023-01-16T20:21:25.286Z"
   },
   {
    "duration": 13,
    "start_time": "2023-01-16T20:21:57.067Z"
   },
   {
    "duration": 14,
    "start_time": "2023-01-16T20:22:17.670Z"
   },
   {
    "duration": 5,
    "start_time": "2023-01-16T20:22:24.825Z"
   },
   {
    "duration": 12,
    "start_time": "2023-01-16T20:22:25.774Z"
   },
   {
    "duration": 25,
    "start_time": "2023-01-16T20:22:32.634Z"
   },
   {
    "duration": 7,
    "start_time": "2023-01-16T20:22:34.778Z"
   },
   {
    "duration": 11,
    "start_time": "2023-01-16T20:22:42.182Z"
   },
   {
    "duration": 4,
    "start_time": "2023-01-16T20:22:50.345Z"
   },
   {
    "duration": 9,
    "start_time": "2023-01-16T20:22:52.005Z"
   },
   {
    "duration": 7,
    "start_time": "2023-01-16T20:23:04.136Z"
   },
   {
    "duration": 17,
    "start_time": "2023-01-16T20:23:27.480Z"
   },
   {
    "duration": 60375,
    "start_time": "2023-01-16T20:23:40.096Z"
   },
   {
    "duration": 6,
    "start_time": "2023-01-16T20:24:51.498Z"
   },
   {
    "duration": 15,
    "start_time": "2023-01-16T20:24:52.527Z"
   },
   {
    "duration": 29011,
    "start_time": "2023-01-16T20:24:59.342Z"
   },
   {
    "duration": 85,
    "start_time": "2023-01-16T20:42:51.525Z"
   },
   {
    "duration": 95,
    "start_time": "2023-01-16T20:45:09.779Z"
   },
   {
    "duration": 4,
    "start_time": "2023-01-16T20:45:27.521Z"
   },
   {
    "duration": 97,
    "start_time": "2023-01-16T20:47:12.059Z"
   },
   {
    "duration": 294,
    "start_time": "2023-01-16T20:47:14.004Z"
   },
   {
    "duration": 8,
    "start_time": "2023-01-16T20:47:31.203Z"
   },
   {
    "duration": 61970,
    "start_time": "2023-01-16T20:47:39.604Z"
   },
   {
    "duration": 6,
    "start_time": "2023-01-16T20:51:16.831Z"
   },
   {
    "duration": 1299,
    "start_time": "2023-01-16T20:51:51.751Z"
   },
   {
    "duration": 404,
    "start_time": "2023-01-16T20:52:27.969Z"
   },
   {
    "duration": 4,
    "start_time": "2023-01-16T20:52:32.990Z"
   },
   {
    "duration": 258,
    "start_time": "2023-01-16T20:52:46.569Z"
   },
   {
    "duration": 283,
    "start_time": "2023-01-16T20:52:54.218Z"
   },
   {
    "duration": 1320,
    "start_time": "2023-01-16T20:53:11.081Z"
   },
   {
    "duration": 4,
    "start_time": "2023-01-16T20:53:13.690Z"
   },
   {
    "duration": 1510,
    "start_time": "2023-01-16T20:53:14.867Z"
   },
   {
    "duration": 1403,
    "start_time": "2023-01-16T20:58:14.772Z"
   },
   {
    "duration": 1184,
    "start_time": "2023-01-16T20:58:51.150Z"
   },
   {
    "duration": 9,
    "start_time": "2023-01-16T21:01:07.781Z"
   },
   {
    "duration": 29533,
    "start_time": "2023-01-16T21:02:13.815Z"
   },
   {
    "duration": 62240,
    "start_time": "2023-01-16T21:03:07.059Z"
   },
   {
    "duration": 28719,
    "start_time": "2023-01-16T21:04:45.146Z"
   },
   {
    "duration": 6,
    "start_time": "2023-01-16T21:21:50.794Z"
   },
   {
    "duration": 77,
    "start_time": "2023-01-16T21:21:56.241Z"
   },
   {
    "duration": 1423,
    "start_time": "2023-01-16T21:22:08.979Z"
   },
   {
    "duration": 1377,
    "start_time": "2023-01-16T21:22:37.121Z"
   },
   {
    "duration": 1327,
    "start_time": "2023-01-16T21:22:47.303Z"
   },
   {
    "duration": 5,
    "start_time": "2023-01-16T21:24:25.049Z"
   },
   {
    "duration": 1480,
    "start_time": "2023-01-16T21:24:26.771Z"
   },
   {
    "duration": 299,
    "start_time": "2023-01-16T21:24:39.130Z"
   },
   {
    "duration": 1538,
    "start_time": "2023-01-16T21:25:11.168Z"
   },
   {
    "duration": 8,
    "start_time": "2023-01-16T21:25:22.552Z"
   },
   {
    "duration": 295,
    "start_time": "2023-01-16T21:26:51.617Z"
   },
   {
    "duration": 8,
    "start_time": "2023-01-16T21:27:19.360Z"
   },
   {
    "duration": 61105,
    "start_time": "2023-01-16T21:27:21.648Z"
   },
   {
    "duration": 71,
    "start_time": "2023-01-16T21:28:42.992Z"
   },
   {
    "duration": 321,
    "start_time": "2023-01-16T21:28:50.055Z"
   },
   {
    "duration": 1199,
    "start_time": "2023-01-16T21:28:59.292Z"
   },
   {
    "duration": 29438,
    "start_time": "2023-01-16T21:29:07.248Z"
   },
   {
    "duration": 4,
    "start_time": "2023-01-16T21:36:36.897Z"
   },
   {
    "duration": 5,
    "start_time": "2023-01-16T21:36:45.507Z"
   },
   {
    "duration": 1372,
    "start_time": "2023-01-16T21:45:26.710Z"
   },
   {
    "duration": 69,
    "start_time": "2023-01-16T21:49:15.250Z"
   },
   {
    "duration": 10,
    "start_time": "2023-01-16T21:49:22.864Z"
   },
   {
    "duration": 15,
    "start_time": "2023-01-16T21:49:34.073Z"
   },
   {
    "duration": 5,
    "start_time": "2023-01-16T21:49:40.136Z"
   },
   {
    "duration": 2148,
    "start_time": "2023-01-16T21:51:38.047Z"
   },
   {
    "duration": 6,
    "start_time": "2023-01-16T21:53:12.215Z"
   },
   {
    "duration": 2159,
    "start_time": "2023-01-16T21:53:14.079Z"
   },
   {
    "duration": 2226,
    "start_time": "2023-01-16T21:54:45.900Z"
   },
   {
    "duration": 2259,
    "start_time": "2023-01-16T21:56:09.279Z"
   },
   {
    "duration": 2021,
    "start_time": "2023-01-16T21:59:14.736Z"
   },
   {
    "duration": 14,
    "start_time": "2023-01-16T22:02:50.457Z"
   },
   {
    "duration": 5,
    "start_time": "2023-01-16T22:02:53.336Z"
   },
   {
    "duration": 2239,
    "start_time": "2023-01-16T22:02:55.501Z"
   },
   {
    "duration": 2147,
    "start_time": "2023-01-16T22:03:22.665Z"
   },
   {
    "duration": 1580,
    "start_time": "2023-01-16T22:17:30.349Z"
   },
   {
    "duration": 7,
    "start_time": "2023-01-16T22:17:31.933Z"
   },
   {
    "duration": 13,
    "start_time": "2023-01-16T22:17:31.942Z"
   },
   {
    "duration": 23,
    "start_time": "2023-01-16T22:17:31.958Z"
   },
   {
    "duration": 27,
    "start_time": "2023-01-16T22:17:31.983Z"
   },
   {
    "duration": 24,
    "start_time": "2023-01-16T22:17:32.012Z"
   },
   {
    "duration": 23,
    "start_time": "2023-01-16T22:17:32.037Z"
   },
   {
    "duration": 19,
    "start_time": "2023-01-16T22:17:32.062Z"
   },
   {
    "duration": 9,
    "start_time": "2023-01-16T22:17:32.084Z"
   },
   {
    "duration": 17,
    "start_time": "2023-01-16T22:17:32.096Z"
   },
   {
    "duration": 1065,
    "start_time": "2023-01-16T22:17:32.115Z"
   },
   {
    "duration": 22,
    "start_time": "2023-01-16T22:17:33.182Z"
   },
   {
    "duration": 39,
    "start_time": "2023-01-16T22:17:33.206Z"
   },
   {
    "duration": 34,
    "start_time": "2023-01-16T22:17:33.250Z"
   },
   {
    "duration": 41,
    "start_time": "2023-01-16T22:17:33.286Z"
   },
   {
    "duration": 125,
    "start_time": "2023-01-16T22:17:33.329Z"
   },
   {
    "duration": 74,
    "start_time": "2023-01-16T22:17:33.456Z"
   },
   {
    "duration": 10,
    "start_time": "2023-01-16T22:17:33.532Z"
   },
   {
    "duration": 112,
    "start_time": "2023-01-16T22:17:33.544Z"
   },
   {
    "duration": 399,
    "start_time": "2023-01-16T22:17:33.659Z"
   },
   {
    "duration": 1585,
    "start_time": "2023-01-16T22:17:34.060Z"
   },
   {
    "duration": 136,
    "start_time": "2023-01-16T22:17:35.651Z"
   },
   {
    "duration": 53535,
    "start_time": "2023-01-16T22:17:35.789Z"
   },
   {
    "duration": 177,
    "start_time": "2023-01-16T22:18:29.326Z"
   },
   {
    "duration": 8,
    "start_time": "2023-01-16T22:18:29.505Z"
   },
   {
    "duration": 8,
    "start_time": "2023-01-16T22:18:29.515Z"
   },
   {
    "duration": 36,
    "start_time": "2023-01-16T22:18:29.525Z"
   },
   {
    "duration": 60651,
    "start_time": "2023-01-16T22:18:29.564Z"
   },
   {
    "duration": 5,
    "start_time": "2023-01-16T22:19:30.217Z"
   },
   {
    "duration": 41,
    "start_time": "2023-01-16T22:19:30.224Z"
   },
   {
    "duration": 28691,
    "start_time": "2023-01-16T22:19:30.267Z"
   },
   {
    "duration": 5,
    "start_time": "2023-01-16T22:19:58.960Z"
   },
   {
    "duration": 404,
    "start_time": "2023-01-16T22:19:58.966Z"
   },
   {
    "duration": 0,
    "start_time": "2023-01-16T22:19:59.372Z"
   },
   {
    "duration": 0,
    "start_time": "2023-01-16T22:19:59.373Z"
   },
   {
    "duration": 0,
    "start_time": "2023-01-16T22:19:59.375Z"
   },
   {
    "duration": 0,
    "start_time": "2023-01-16T22:19:59.376Z"
   },
   {
    "duration": 0,
    "start_time": "2023-01-16T22:19:59.377Z"
   },
   {
    "duration": 0,
    "start_time": "2023-01-16T22:19:59.378Z"
   },
   {
    "duration": 0,
    "start_time": "2023-01-16T22:19:59.379Z"
   },
   {
    "duration": 0,
    "start_time": "2023-01-16T22:19:59.380Z"
   },
   {
    "duration": 1452,
    "start_time": "2023-01-16T22:20:08.583Z"
   },
   {
    "duration": 1775,
    "start_time": "2023-01-16T22:20:18.820Z"
   },
   {
    "duration": 15,
    "start_time": "2023-01-16T22:20:20.602Z"
   },
   {
    "duration": 64006,
    "start_time": "2023-01-16T22:20:20.619Z"
   },
   {
    "duration": 1276,
    "start_time": "2023-01-16T22:21:24.628Z"
   },
   {
    "duration": 29514,
    "start_time": "2023-01-16T22:21:25.907Z"
   },
   {
    "duration": 34,
    "start_time": "2023-01-16T22:21:55.423Z"
   },
   {
    "duration": 6,
    "start_time": "2023-01-16T22:21:55.460Z"
   },
   {
    "duration": 2269,
    "start_time": "2023-01-16T22:21:55.468Z"
   },
   {
    "duration": 53,
    "start_time": "2023-02-22T14:03:27.248Z"
   },
   {
    "duration": 1700,
    "start_time": "2023-02-22T14:03:32.747Z"
   },
   {
    "duration": 4,
    "start_time": "2023-02-22T14:03:34.449Z"
   },
   {
    "duration": 9,
    "start_time": "2023-02-22T14:03:34.455Z"
   },
   {
    "duration": 7,
    "start_time": "2023-02-22T14:03:34.466Z"
   },
   {
    "duration": 13,
    "start_time": "2023-02-22T14:03:34.475Z"
   },
   {
    "duration": 9,
    "start_time": "2023-02-22T14:03:34.490Z"
   },
   {
    "duration": 16,
    "start_time": "2023-02-22T14:03:34.500Z"
   },
   {
    "duration": 7,
    "start_time": "2023-02-22T14:03:34.518Z"
   },
   {
    "duration": 10,
    "start_time": "2023-02-22T14:03:34.526Z"
   },
   {
    "duration": 14,
    "start_time": "2023-02-22T14:03:34.538Z"
   },
   {
    "duration": 970,
    "start_time": "2023-02-22T14:03:39.866Z"
   },
   {
    "duration": 1243,
    "start_time": "2023-03-27T21:24:31.071Z"
   },
   {
    "duration": 197,
    "start_time": "2023-03-27T21:24:36.401Z"
   },
   {
    "duration": 4,
    "start_time": "2023-03-27T21:29:05.197Z"
   },
   {
    "duration": 82,
    "start_time": "2023-03-27T21:29:05.203Z"
   },
   {
    "duration": 5,
    "start_time": "2023-03-27T21:29:05.286Z"
   },
   {
    "duration": 16,
    "start_time": "2023-03-27T21:29:05.293Z"
   },
   {
    "duration": 21,
    "start_time": "2023-03-27T21:29:05.310Z"
   },
   {
    "duration": 30,
    "start_time": "2023-03-27T21:29:05.333Z"
   },
   {
    "duration": 21,
    "start_time": "2023-03-27T21:29:05.364Z"
   },
   {
    "duration": 32,
    "start_time": "2023-03-27T21:29:05.387Z"
   },
   {
    "duration": 21,
    "start_time": "2023-03-27T21:29:05.421Z"
   },
   {
    "duration": 36,
    "start_time": "2023-03-27T21:29:05.444Z"
   },
   {
    "duration": 26,
    "start_time": "2023-03-27T21:29:05.482Z"
   },
   {
    "duration": 981,
    "start_time": "2023-03-27T21:29:05.509Z"
   },
   {
    "duration": 9,
    "start_time": "2023-03-27T21:29:06.491Z"
   },
   {
    "duration": 32,
    "start_time": "2023-03-27T21:29:06.501Z"
   },
   {
    "duration": 30,
    "start_time": "2023-03-27T21:29:06.535Z"
   },
   {
    "duration": 4,
    "start_time": "2023-03-27T21:29:17.870Z"
   },
   {
    "duration": 5,
    "start_time": "2023-03-27T21:29:22.669Z"
   },
   {
    "duration": 5,
    "start_time": "2023-03-27T21:29:31.941Z"
   },
   {
    "duration": 5,
    "start_time": "2023-03-27T21:30:30.323Z"
   },
   {
    "duration": 123,
    "start_time": "2023-03-27T21:31:32.735Z"
   },
   {
    "duration": 15,
    "start_time": "2023-03-27T21:31:42.088Z"
   },
   {
    "duration": 14,
    "start_time": "2023-03-27T21:32:04.343Z"
   },
   {
    "duration": 14,
    "start_time": "2023-03-27T21:32:39.256Z"
   },
   {
    "duration": 14,
    "start_time": "2023-03-27T21:33:22.640Z"
   },
   {
    "duration": 15,
    "start_time": "2023-03-27T21:34:21.472Z"
   },
   {
    "duration": 17,
    "start_time": "2023-03-27T21:36:07.748Z"
   },
   {
    "duration": 18,
    "start_time": "2023-03-27T21:36:15.701Z"
   },
   {
    "duration": 14,
    "start_time": "2023-03-27T21:36:19.412Z"
   },
   {
    "duration": 14,
    "start_time": "2023-03-27T21:36:23.579Z"
   },
   {
    "duration": 1146,
    "start_time": "2023-03-27T21:37:47.884Z"
   },
   {
    "duration": 64,
    "start_time": "2023-03-27T21:37:49.032Z"
   },
   {
    "duration": 5,
    "start_time": "2023-03-27T21:37:49.097Z"
   },
   {
    "duration": 29,
    "start_time": "2023-03-27T21:37:49.103Z"
   },
   {
    "duration": 14,
    "start_time": "2023-03-27T21:37:49.135Z"
   },
   {
    "duration": 15,
    "start_time": "2023-03-27T21:37:49.151Z"
   },
   {
    "duration": 16,
    "start_time": "2023-03-27T21:37:49.168Z"
   },
   {
    "duration": 21,
    "start_time": "2023-03-27T21:37:49.185Z"
   },
   {
    "duration": 12,
    "start_time": "2023-03-27T21:37:49.208Z"
   },
   {
    "duration": 16,
    "start_time": "2023-03-27T21:37:49.223Z"
   },
   {
    "duration": 17,
    "start_time": "2023-03-27T21:37:49.241Z"
   },
   {
    "duration": 1053,
    "start_time": "2023-03-27T21:37:49.259Z"
   },
   {
    "duration": 10,
    "start_time": "2023-03-27T21:37:50.314Z"
   },
   {
    "duration": 22,
    "start_time": "2023-03-27T21:37:50.327Z"
   },
   {
    "duration": 10,
    "start_time": "2023-03-27T21:37:50.351Z"
   },
   {
    "duration": 124,
    "start_time": "2023-03-27T21:38:02.671Z"
   },
   {
    "duration": 16,
    "start_time": "2023-03-27T21:38:17.746Z"
   },
   {
    "duration": 18,
    "start_time": "2023-03-27T21:38:23.000Z"
   },
   {
    "duration": 13,
    "start_time": "2023-03-27T21:38:25.675Z"
   },
   {
    "duration": 21,
    "start_time": "2023-03-27T21:38:49.677Z"
   },
   {
    "duration": 17,
    "start_time": "2023-03-27T21:39:07.221Z"
   },
   {
    "duration": 17,
    "start_time": "2023-03-27T21:39:10.737Z"
   },
   {
    "duration": 17,
    "start_time": "2023-03-27T21:39:34.972Z"
   },
   {
    "duration": 8,
    "start_time": "2023-03-27T21:39:44.435Z"
   },
   {
    "duration": 8,
    "start_time": "2023-03-27T21:39:45.924Z"
   },
   {
    "duration": 7,
    "start_time": "2023-03-27T21:39:47.005Z"
   },
   {
    "duration": 28,
    "start_time": "2023-03-27T21:39:48.932Z"
   },
   {
    "duration": 1239,
    "start_time": "2023-03-27T21:44:36.041Z"
   },
   {
    "duration": 65,
    "start_time": "2023-03-27T21:44:37.282Z"
   },
   {
    "duration": 5,
    "start_time": "2023-03-27T21:44:37.348Z"
   },
   {
    "duration": 30,
    "start_time": "2023-03-27T21:44:37.355Z"
   },
   {
    "duration": 20,
    "start_time": "2023-03-27T21:44:37.387Z"
   },
   {
    "duration": 20,
    "start_time": "2023-03-27T21:44:37.409Z"
   },
   {
    "duration": 11,
    "start_time": "2023-03-27T21:44:37.431Z"
   },
   {
    "duration": 21,
    "start_time": "2023-03-27T21:44:37.444Z"
   },
   {
    "duration": 17,
    "start_time": "2023-03-27T21:44:37.467Z"
   },
   {
    "duration": 16,
    "start_time": "2023-03-27T21:44:37.486Z"
   },
   {
    "duration": 30,
    "start_time": "2023-03-27T21:44:37.504Z"
   },
   {
    "duration": 1020,
    "start_time": "2023-03-27T21:44:37.536Z"
   },
   {
    "duration": 9,
    "start_time": "2023-03-27T21:44:38.557Z"
   },
   {
    "duration": 23,
    "start_time": "2023-03-27T21:44:38.569Z"
   },
   {
    "duration": 7,
    "start_time": "2023-03-27T21:44:38.594Z"
   },
   {
    "duration": 5,
    "start_time": "2023-03-27T21:44:46.673Z"
   },
   {
    "duration": 63,
    "start_time": "2023-03-27T21:44:49.443Z"
   },
   {
    "duration": 135,
    "start_time": "2023-03-27T21:44:54.153Z"
   },
   {
    "duration": 11,
    "start_time": "2023-03-27T21:45:14.876Z"
   },
   {
    "duration": 10,
    "start_time": "2023-03-27T21:45:16.055Z"
   },
   {
    "duration": 9,
    "start_time": "2023-03-27T21:45:17.304Z"
   },
   {
    "duration": 5,
    "start_time": "2023-03-27T21:45:18.043Z"
   },
   {
    "duration": 40,
    "start_time": "2023-03-27T21:45:22.372Z"
   },
   {
    "duration": 5,
    "start_time": "2023-03-27T21:45:36.846Z"
   },
   {
    "duration": 28,
    "start_time": "2023-03-27T21:46:03.458Z"
   },
   {
    "duration": 1186,
    "start_time": "2023-03-27T21:46:21.785Z"
   },
   {
    "duration": 67,
    "start_time": "2023-03-27T21:46:22.973Z"
   },
   {
    "duration": 5,
    "start_time": "2023-03-27T21:46:23.042Z"
   },
   {
    "duration": 26,
    "start_time": "2023-03-27T21:46:23.048Z"
   },
   {
    "duration": 36,
    "start_time": "2023-03-27T21:46:23.076Z"
   },
   {
    "duration": 30,
    "start_time": "2023-03-27T21:46:23.113Z"
   },
   {
    "duration": 19,
    "start_time": "2023-03-27T21:46:23.144Z"
   },
   {
    "duration": 16,
    "start_time": "2023-03-27T21:46:23.164Z"
   },
   {
    "duration": 25,
    "start_time": "2023-03-27T21:46:23.181Z"
   },
   {
    "duration": 30,
    "start_time": "2023-03-27T21:46:23.207Z"
   },
   {
    "duration": 39,
    "start_time": "2023-03-27T21:46:23.239Z"
   },
   {
    "duration": 1011,
    "start_time": "2023-03-27T21:46:23.280Z"
   },
   {
    "duration": 9,
    "start_time": "2023-03-27T21:46:24.293Z"
   },
   {
    "duration": 17,
    "start_time": "2023-03-27T21:46:24.304Z"
   },
   {
    "duration": 19,
    "start_time": "2023-03-27T21:46:24.323Z"
   },
   {
    "duration": 6,
    "start_time": "2023-03-27T21:46:24.343Z"
   },
   {
    "duration": 38,
    "start_time": "2023-03-27T21:46:24.350Z"
   },
   {
    "duration": 5,
    "start_time": "2023-03-27T21:46:24.390Z"
   },
   {
    "duration": 34,
    "start_time": "2023-03-27T21:46:24.397Z"
   },
   {
    "duration": 5,
    "start_time": "2023-03-27T21:46:24.432Z"
   },
   {
    "duration": 143,
    "start_time": "2023-03-27T21:46:24.438Z"
   },
   {
    "duration": 0,
    "start_time": "2023-03-27T21:46:24.582Z"
   },
   {
    "duration": 0,
    "start_time": "2023-03-27T21:46:24.584Z"
   },
   {
    "duration": 0,
    "start_time": "2023-03-27T21:46:24.585Z"
   },
   {
    "duration": 0,
    "start_time": "2023-03-27T21:46:24.586Z"
   },
   {
    "duration": 0,
    "start_time": "2023-03-27T21:46:24.587Z"
   },
   {
    "duration": 25,
    "start_time": "2023-03-27T21:47:01.656Z"
   },
   {
    "duration": 6,
    "start_time": "2023-03-27T21:47:05.535Z"
   },
   {
    "duration": 22,
    "start_time": "2023-03-27T21:47:08.964Z"
   },
   {
    "duration": 1186,
    "start_time": "2023-03-27T21:47:28.490Z"
   },
   {
    "duration": 68,
    "start_time": "2023-03-27T21:47:29.678Z"
   },
   {
    "duration": 6,
    "start_time": "2023-03-27T21:47:29.747Z"
   },
   {
    "duration": 14,
    "start_time": "2023-03-27T21:47:29.755Z"
   },
   {
    "duration": 8,
    "start_time": "2023-03-27T21:47:29.770Z"
   },
   {
    "duration": 16,
    "start_time": "2023-03-27T21:47:29.779Z"
   },
   {
    "duration": 11,
    "start_time": "2023-03-27T21:47:29.797Z"
   },
   {
    "duration": 17,
    "start_time": "2023-03-27T21:47:29.810Z"
   },
   {
    "duration": 8,
    "start_time": "2023-03-27T21:47:29.829Z"
   },
   {
    "duration": 50,
    "start_time": "2023-03-27T21:47:29.839Z"
   },
   {
    "duration": 17,
    "start_time": "2023-03-27T21:47:29.891Z"
   },
   {
    "duration": 991,
    "start_time": "2023-03-27T21:47:29.909Z"
   },
   {
    "duration": 9,
    "start_time": "2023-03-27T21:47:30.901Z"
   },
   {
    "duration": 44,
    "start_time": "2023-03-27T21:47:30.912Z"
   },
   {
    "duration": 32,
    "start_time": "2023-03-27T21:47:30.958Z"
   },
   {
    "duration": 39,
    "start_time": "2023-03-27T21:47:30.991Z"
   },
   {
    "duration": 56,
    "start_time": "2023-03-27T21:47:31.032Z"
   },
   {
    "duration": 36,
    "start_time": "2023-03-27T21:47:31.090Z"
   },
   {
    "duration": 44,
    "start_time": "2023-03-27T21:47:31.128Z"
   },
   {
    "duration": 5,
    "start_time": "2023-03-27T21:47:55.897Z"
   },
   {
    "duration": 125,
    "start_time": "2023-03-27T21:48:00.856Z"
   },
   {
    "duration": 1205,
    "start_time": "2023-03-27T21:48:46.022Z"
   },
   {
    "duration": 65,
    "start_time": "2023-03-27T21:48:47.229Z"
   },
   {
    "duration": 4,
    "start_time": "2023-03-27T21:48:47.296Z"
   },
   {
    "duration": 15,
    "start_time": "2023-03-27T21:48:47.302Z"
   },
   {
    "duration": 10,
    "start_time": "2023-03-27T21:48:47.320Z"
   },
   {
    "duration": 23,
    "start_time": "2023-03-27T21:48:47.331Z"
   },
   {
    "duration": 9,
    "start_time": "2023-03-27T21:48:47.356Z"
   },
   {
    "duration": 23,
    "start_time": "2023-03-27T21:48:47.366Z"
   },
   {
    "duration": 7,
    "start_time": "2023-03-27T21:48:47.390Z"
   },
   {
    "duration": 14,
    "start_time": "2023-03-27T21:48:47.399Z"
   },
   {
    "duration": 18,
    "start_time": "2023-03-27T21:48:47.415Z"
   },
   {
    "duration": 951,
    "start_time": "2023-03-27T21:48:47.435Z"
   },
   {
    "duration": 137,
    "start_time": "2023-03-27T21:48:48.388Z"
   },
   {
    "duration": 0,
    "start_time": "2023-03-27T21:48:48.529Z"
   },
   {
    "duration": 0,
    "start_time": "2023-03-27T21:48:48.530Z"
   },
   {
    "duration": 0,
    "start_time": "2023-03-27T21:48:48.531Z"
   },
   {
    "duration": 0,
    "start_time": "2023-03-27T21:48:48.532Z"
   },
   {
    "duration": 0,
    "start_time": "2023-03-27T21:48:48.533Z"
   },
   {
    "duration": 0,
    "start_time": "2023-03-27T21:48:48.533Z"
   },
   {
    "duration": 0,
    "start_time": "2023-03-27T21:48:48.534Z"
   },
   {
    "duration": 0,
    "start_time": "2023-03-27T21:48:48.535Z"
   },
   {
    "duration": 0,
    "start_time": "2023-03-27T21:48:48.536Z"
   },
   {
    "duration": 0,
    "start_time": "2023-03-27T21:48:48.537Z"
   },
   {
    "duration": 0,
    "start_time": "2023-03-27T21:48:48.537Z"
   },
   {
    "duration": 1,
    "start_time": "2023-03-27T21:48:48.538Z"
   },
   {
    "duration": 0,
    "start_time": "2023-03-27T21:48:48.540Z"
   },
   {
    "duration": 1,
    "start_time": "2023-03-27T21:48:48.540Z"
   },
   {
    "duration": 0,
    "start_time": "2023-03-27T21:48:48.541Z"
   },
   {
    "duration": 0,
    "start_time": "2023-03-27T21:48:48.542Z"
   },
   {
    "duration": 0,
    "start_time": "2023-03-27T21:48:48.544Z"
   },
   {
    "duration": 1,
    "start_time": "2023-03-27T21:48:48.544Z"
   },
   {
    "duration": 0,
    "start_time": "2023-03-27T21:48:48.546Z"
   },
   {
    "duration": 0,
    "start_time": "2023-03-27T21:48:48.547Z"
   },
   {
    "duration": 1,
    "start_time": "2023-03-27T21:48:48.547Z"
   },
   {
    "duration": 0,
    "start_time": "2023-03-27T21:48:48.548Z"
   },
   {
    "duration": 0,
    "start_time": "2023-03-27T21:48:48.550Z"
   },
   {
    "duration": 0,
    "start_time": "2023-03-27T21:48:48.551Z"
   },
   {
    "duration": 0,
    "start_time": "2023-03-27T21:48:48.584Z"
   },
   {
    "duration": 0,
    "start_time": "2023-03-27T21:48:48.585Z"
   },
   {
    "duration": 0,
    "start_time": "2023-03-27T21:48:48.586Z"
   },
   {
    "duration": 0,
    "start_time": "2023-03-27T21:48:48.587Z"
   },
   {
    "duration": 0,
    "start_time": "2023-03-27T21:48:48.588Z"
   },
   {
    "duration": 0,
    "start_time": "2023-03-27T21:48:48.589Z"
   },
   {
    "duration": 4,
    "start_time": "2023-03-27T21:49:01.961Z"
   },
   {
    "duration": 81,
    "start_time": "2023-03-27T21:49:01.968Z"
   },
   {
    "duration": 5,
    "start_time": "2023-03-27T21:49:02.051Z"
   },
   {
    "duration": 46,
    "start_time": "2023-03-27T21:49:02.058Z"
   },
   {
    "duration": 44,
    "start_time": "2023-03-27T21:49:02.106Z"
   },
   {
    "duration": 33,
    "start_time": "2023-03-27T21:49:02.153Z"
   },
   {
    "duration": 32,
    "start_time": "2023-03-27T21:49:02.188Z"
   },
   {
    "duration": 34,
    "start_time": "2023-03-27T21:49:02.221Z"
   },
   {
    "duration": 15,
    "start_time": "2023-03-27T21:49:02.256Z"
   },
   {
    "duration": 24,
    "start_time": "2023-03-27T21:49:02.273Z"
   },
   {
    "duration": 31,
    "start_time": "2023-03-27T21:49:02.298Z"
   },
   {
    "duration": 1011,
    "start_time": "2023-03-27T21:49:02.331Z"
   },
   {
    "duration": 9,
    "start_time": "2023-03-27T21:49:03.343Z"
   },
   {
    "duration": 26,
    "start_time": "2023-03-27T21:49:03.353Z"
   },
   {
    "duration": 34,
    "start_time": "2023-03-27T21:49:03.382Z"
   },
   {
    "duration": 25,
    "start_time": "2023-03-27T21:49:03.418Z"
   },
   {
    "duration": 48,
    "start_time": "2023-03-27T21:49:03.444Z"
   },
   {
    "duration": 0,
    "start_time": "2023-03-27T21:49:03.494Z"
   },
   {
    "duration": 0,
    "start_time": "2023-03-27T21:49:03.495Z"
   },
   {
    "duration": 0,
    "start_time": "2023-03-27T21:49:03.496Z"
   },
   {
    "duration": 0,
    "start_time": "2023-03-27T21:49:03.497Z"
   },
   {
    "duration": 0,
    "start_time": "2023-03-27T21:49:03.498Z"
   },
   {
    "duration": 0,
    "start_time": "2023-03-27T21:49:03.500Z"
   },
   {
    "duration": 0,
    "start_time": "2023-03-27T21:49:03.501Z"
   },
   {
    "duration": 49,
    "start_time": "2023-03-27T21:49:56.868Z"
   },
   {
    "duration": 23,
    "start_time": "2023-03-27T21:50:33.460Z"
   },
   {
    "duration": 29,
    "start_time": "2023-03-27T21:50:46.301Z"
   },
   {
    "duration": 49,
    "start_time": "2023-03-27T21:50:55.926Z"
   },
   {
    "duration": 45,
    "start_time": "2023-03-27T21:51:01.661Z"
   },
   {
    "duration": 23,
    "start_time": "2023-03-27T21:51:07.499Z"
   },
   {
    "duration": 13,
    "start_time": "2023-03-27T21:52:28.672Z"
   },
   {
    "duration": 12,
    "start_time": "2023-03-27T21:52:36.381Z"
   },
   {
    "duration": 42,
    "start_time": "2023-03-27T21:54:09.213Z"
   },
   {
    "duration": 26,
    "start_time": "2023-03-27T21:54:13.682Z"
   },
   {
    "duration": 5,
    "start_time": "2023-03-27T21:54:20.484Z"
   },
   {
    "duration": 26,
    "start_time": "2023-03-27T21:54:22.454Z"
   },
   {
    "duration": 5,
    "start_time": "2023-03-27T21:54:24.545Z"
   },
   {
    "duration": 21,
    "start_time": "2023-03-27T21:54:35.130Z"
   },
   {
    "duration": 9,
    "start_time": "2023-03-27T21:55:10.448Z"
   },
   {
    "duration": 4,
    "start_time": "2023-03-27T21:55:14.651Z"
   },
   {
    "duration": 4,
    "start_time": "2023-03-27T21:59:01.597Z"
   },
   {
    "duration": 1146,
    "start_time": "2023-03-27T21:59:23.693Z"
   },
   {
    "duration": 78,
    "start_time": "2023-03-27T21:59:24.841Z"
   },
   {
    "duration": 6,
    "start_time": "2023-03-27T21:59:24.921Z"
   },
   {
    "duration": 22,
    "start_time": "2023-03-27T21:59:24.931Z"
   },
   {
    "duration": 30,
    "start_time": "2023-03-27T21:59:24.956Z"
   },
   {
    "duration": 49,
    "start_time": "2023-03-27T21:59:24.989Z"
   },
   {
    "duration": 16,
    "start_time": "2023-03-27T21:59:25.040Z"
   },
   {
    "duration": 34,
    "start_time": "2023-03-27T21:59:25.058Z"
   },
   {
    "duration": 19,
    "start_time": "2023-03-27T21:59:25.093Z"
   },
   {
    "duration": 51,
    "start_time": "2023-03-27T21:59:25.114Z"
   },
   {
    "duration": 16,
    "start_time": "2023-03-27T21:59:25.167Z"
   },
   {
    "duration": 964,
    "start_time": "2023-03-27T21:59:25.184Z"
   },
   {
    "duration": 8,
    "start_time": "2023-03-27T21:59:26.151Z"
   },
   {
    "duration": 24,
    "start_time": "2023-03-27T21:59:26.161Z"
   },
   {
    "duration": 27,
    "start_time": "2023-03-27T21:59:26.188Z"
   },
   {
    "duration": 15,
    "start_time": "2023-03-27T21:59:26.217Z"
   },
   {
    "duration": 4,
    "start_time": "2023-03-27T21:59:29.786Z"
   },
   {
    "duration": 15,
    "start_time": "2023-03-27T21:59:52.447Z"
   },
   {
    "duration": 111,
    "start_time": "2023-03-27T22:00:31.313Z"
   },
   {
    "duration": 1174,
    "start_time": "2023-03-27T22:00:50.188Z"
   },
   {
    "duration": 63,
    "start_time": "2023-03-27T22:00:51.364Z"
   },
   {
    "duration": 5,
    "start_time": "2023-03-27T22:00:51.428Z"
   },
   {
    "duration": 27,
    "start_time": "2023-03-27T22:00:51.434Z"
   },
   {
    "duration": 13,
    "start_time": "2023-03-27T22:00:51.464Z"
   },
   {
    "duration": 23,
    "start_time": "2023-03-27T22:00:51.478Z"
   },
   {
    "duration": 18,
    "start_time": "2023-03-27T22:00:51.503Z"
   },
   {
    "duration": 25,
    "start_time": "2023-03-27T22:00:51.523Z"
   },
   {
    "duration": 8,
    "start_time": "2023-03-27T22:00:51.551Z"
   },
   {
    "duration": 32,
    "start_time": "2023-03-27T22:00:51.561Z"
   },
   {
    "duration": 20,
    "start_time": "2023-03-27T22:00:51.595Z"
   },
   {
    "duration": 1001,
    "start_time": "2023-03-27T22:00:51.616Z"
   },
   {
    "duration": 10,
    "start_time": "2023-03-27T22:00:52.619Z"
   },
   {
    "duration": 20,
    "start_time": "2023-03-27T22:00:52.632Z"
   },
   {
    "duration": 26,
    "start_time": "2023-03-27T22:00:52.654Z"
   },
   {
    "duration": 14,
    "start_time": "2023-03-27T22:00:52.682Z"
   },
   {
    "duration": 23,
    "start_time": "2023-03-27T22:00:52.697Z"
   },
   {
    "duration": 36,
    "start_time": "2023-03-27T22:00:52.722Z"
   },
   {
    "duration": 8,
    "start_time": "2023-03-27T22:00:52.760Z"
   },
   {
    "duration": 33,
    "start_time": "2023-03-27T22:00:52.769Z"
   },
   {
    "duration": 20,
    "start_time": "2023-03-27T22:00:52.804Z"
   },
   {
    "duration": 10,
    "start_time": "2023-03-27T22:01:15.092Z"
   },
   {
    "duration": 10,
    "start_time": "2023-03-27T22:01:16.282Z"
   },
   {
    "duration": 9,
    "start_time": "2023-03-27T22:01:17.001Z"
   },
   {
    "duration": 4,
    "start_time": "2023-03-27T22:01:18.360Z"
   },
   {
    "duration": 6,
    "start_time": "2023-03-27T22:01:20.027Z"
   },
   {
    "duration": 28,
    "start_time": "2023-03-27T22:01:20.744Z"
   },
   {
    "duration": 6,
    "start_time": "2023-03-27T22:01:26.482Z"
   },
   {
    "duration": 19,
    "start_time": "2023-03-27T22:01:28.155Z"
   },
   {
    "duration": 118,
    "start_time": "2023-03-27T22:02:09.561Z"
   },
   {
    "duration": 1152,
    "start_time": "2023-03-27T22:02:26.493Z"
   },
   {
    "duration": 63,
    "start_time": "2023-03-27T22:02:27.647Z"
   },
   {
    "duration": 5,
    "start_time": "2023-03-27T22:02:27.711Z"
   },
   {
    "duration": 34,
    "start_time": "2023-03-27T22:02:27.717Z"
   },
   {
    "duration": 21,
    "start_time": "2023-03-27T22:02:27.753Z"
   },
   {
    "duration": 35,
    "start_time": "2023-03-27T22:02:27.776Z"
   },
   {
    "duration": 23,
    "start_time": "2023-03-27T22:02:27.813Z"
   },
   {
    "duration": 41,
    "start_time": "2023-03-27T22:02:27.838Z"
   },
   {
    "duration": 21,
    "start_time": "2023-03-27T22:02:27.881Z"
   },
   {
    "duration": 40,
    "start_time": "2023-03-27T22:02:27.904Z"
   },
   {
    "duration": 40,
    "start_time": "2023-03-27T22:02:27.946Z"
   },
   {
    "duration": 972,
    "start_time": "2023-03-27T22:02:27.988Z"
   },
   {
    "duration": 9,
    "start_time": "2023-03-27T22:02:28.962Z"
   },
   {
    "duration": 31,
    "start_time": "2023-03-27T22:02:28.983Z"
   },
   {
    "duration": 41,
    "start_time": "2023-03-27T22:02:29.016Z"
   },
   {
    "duration": 35,
    "start_time": "2023-03-27T22:02:29.059Z"
   },
   {
    "duration": 25,
    "start_time": "2023-03-27T22:02:29.095Z"
   },
   {
    "duration": 62,
    "start_time": "2023-03-27T22:02:29.122Z"
   },
   {
    "duration": 30,
    "start_time": "2023-03-27T22:02:29.186Z"
   },
   {
    "duration": 141,
    "start_time": "2023-03-27T22:02:29.217Z"
   },
   {
    "duration": 0,
    "start_time": "2023-03-27T22:02:29.360Z"
   },
   {
    "duration": 42,
    "start_time": "2023-03-27T22:03:44.957Z"
   },
   {
    "duration": 5,
    "start_time": "2023-03-27T22:03:47.042Z"
   },
   {
    "duration": 4,
    "start_time": "2023-03-27T22:03:49.281Z"
   },
   {
    "duration": 105,
    "start_time": "2023-03-27T22:03:57.086Z"
   },
   {
    "duration": 272,
    "start_time": "2023-03-27T22:04:02.617Z"
   },
   {
    "duration": 1450,
    "start_time": "2023-03-27T22:04:28.243Z"
   },
   {
    "duration": 37,
    "start_time": "2023-03-27T22:04:47.731Z"
   },
   {
    "duration": 4,
    "start_time": "2023-03-27T22:04:58.059Z"
   },
   {
    "duration": 130,
    "start_time": "2023-03-27T22:05:02.031Z"
   },
   {
    "duration": 51942,
    "start_time": "2023-03-27T22:05:08.618Z"
   },
   {
    "duration": 174,
    "start_time": "2023-03-27T22:06:08.901Z"
   },
   {
    "duration": 4,
    "start_time": "2023-03-27T22:06:31.139Z"
   },
   {
    "duration": 7,
    "start_time": "2023-03-27T22:06:51.637Z"
   },
   {
    "duration": 4,
    "start_time": "2023-03-27T22:06:55.341Z"
   },
   {
    "duration": 12,
    "start_time": "2023-03-27T22:07:24.449Z"
   },
   {
    "duration": 54689,
    "start_time": "2023-03-27T22:07:29.629Z"
   },
   {
    "duration": 4,
    "start_time": "2023-03-27T22:08:55.255Z"
   },
   {
    "duration": 10,
    "start_time": "2023-03-27T22:09:20.443Z"
   },
   {
    "duration": 26911,
    "start_time": "2023-03-27T22:09:27.414Z"
   },
   {
    "duration": 4,
    "start_time": "2023-03-27T22:10:28.917Z"
   },
   {
    "duration": 3,
    "start_time": "2023-03-27T22:10:37.189Z"
   },
   {
    "duration": 1175,
    "start_time": "2023-03-27T22:10:41.638Z"
   },
   {
    "duration": 17,
    "start_time": "2023-03-27T22:11:18.044Z"
   },
   {
    "duration": 1540,
    "start_time": "2023-03-27T22:11:42.875Z"
   },
   {
    "duration": 7,
    "start_time": "2023-03-27T22:11:57.761Z"
   },
   {
    "duration": 54732,
    "start_time": "2023-03-27T22:12:27.931Z"
   },
   {
    "duration": 1117,
    "start_time": "2023-03-27T22:13:43.911Z"
   },
   {
    "duration": 27622,
    "start_time": "2023-03-27T22:13:51.766Z"
   },
   {
    "duration": 300,
    "start_time": "2023-03-27T22:17:58.982Z"
   }
  ],
  "kernelspec": {
   "display_name": "Python 3 (ipykernel)",
   "language": "python",
   "name": "python3"
  },
  "language_info": {
   "codemirror_mode": {
    "name": "ipython",
    "version": 3
   },
   "file_extension": ".py",
   "mimetype": "text/x-python",
   "name": "python",
   "nbconvert_exporter": "python",
   "pygments_lexer": "ipython3",
   "version": "3.9.5"
  },
  "toc": {
   "base_numbering": 1,
   "nav_menu": {},
   "number_sections": true,
   "sideBar": true,
   "skip_h1_title": true,
   "title_cell": "Содержание",
   "title_sidebar": "Contents",
   "toc_cell": true,
   "toc_position": {},
   "toc_section_display": true,
   "toc_window_display": true
  }
 },
 "nbformat": 4,
 "nbformat_minor": 2
}
