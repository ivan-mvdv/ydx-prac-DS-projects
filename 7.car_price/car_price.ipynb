{
 "cells": [
  {
   "cell_type": "markdown",
   "metadata": {},
   "source": [
    "# Определение стоимости автомобилей"
   ]
  },
  {
   "cell_type": "markdown",
   "metadata": {},
   "source": [
    "Сервис по продаже автомобилей с пробегом «Не бит, не крашен» разрабатывает приложение для привлечения новых клиентов. В нём можно быстро узнать рыночную стоимость своего автомобиля. В вашем распоряжении исторические данные: технические характеристики, комплектации и цены автомобилей. Вам нужно построить модель для определения стоимости. \n",
    "\n",
    "Заказчику важны:\n",
    "\n",
    "- качество предсказания (RMSE не более 2500);\n",
    "- скорость предсказания;\n",
    "- время обучения."
   ]
  },
  {
   "cell_type": "markdown",
   "metadata": {},
   "source": [
    "## Подготовка данных"
   ]
  },
  {
   "cell_type": "markdown",
   "metadata": {},
   "source": [
    "Импортируем библиотеки, функции, откроем на данные и взглянем на них."
   ]
  },
  {
   "cell_type": "code",
   "execution_count": 4,
   "metadata": {},
   "outputs": [],
   "source": [
    "!pip install -q category_encoders\n",
    "!pip install -q scikit-optimize"
   ]
  },
  {
   "cell_type": "code",
   "execution_count": 5,
   "metadata": {},
   "outputs": [],
   "source": [
    "import time\n",
    "from tqdm.auto import tqdm\n",
    "\n",
    "import pandas as pd\n",
    "import numpy as np\n",
    "from scipy import stats\n",
    "\n",
    "from sklearn.metrics import mean_squared_error as mse\n",
    "\n",
    "from sklearn.experimental import enable_halving_search_cv\n",
    "\n",
    "from skopt import BayesSearchCV\n",
    "from skopt.callbacks import DeltaYStopper\n",
    "from sklearn.model_selection import train_test_split\n",
    "from category_encoders.binary import BinaryEncoder\n",
    "\n",
    "from sklearn.linear_model import LinearRegression\n",
    "from sklearn.tree import DecisionTreeRegressor\n",
    "from sklearn.ensemble import RandomForestRegressor\n",
    "from sklearn.dummy import DummyRegressor\n",
    "import lightgbm as lgb\n",
    "\n",
    "STATE = np.random.RandomState(1234)"
   ]
  },
  {
   "cell_type": "code",
   "execution_count": 6,
   "metadata": {},
   "outputs": [
    {
     "name": "stdout",
     "output_type": "stream",
     "text": [
      "<class 'pandas.core.frame.DataFrame'>\n",
      "RangeIndex: 354369 entries, 0 to 354368\n",
      "Data columns (total 16 columns):\n",
      " #   Column             Non-Null Count   Dtype \n",
      "---  ------             --------------   ----- \n",
      " 0   DateCrawled        354369 non-null  object\n",
      " 1   Price              354369 non-null  int64 \n",
      " 2   VehicleType        316879 non-null  object\n",
      " 3   RegistrationYear   354369 non-null  int64 \n",
      " 4   Gearbox            334536 non-null  object\n",
      " 5   Power              354369 non-null  int64 \n",
      " 6   Model              334664 non-null  object\n",
      " 7   Kilometer          354369 non-null  int64 \n",
      " 8   RegistrationMonth  354369 non-null  int64 \n",
      " 9   FuelType           321474 non-null  object\n",
      " 10  Brand              354369 non-null  object\n",
      " 11  Repaired           283215 non-null  object\n",
      " 12  DateCreated        354369 non-null  object\n",
      " 13  NumberOfPictures   354369 non-null  int64 \n",
      " 14  PostalCode         354369 non-null  int64 \n",
      " 15  LastSeen           354369 non-null  object\n",
      "dtypes: int64(7), object(9)\n",
      "memory usage: 43.3+ MB\n"
     ]
    },
    {
     "data": {
      "text/html": [
       "<div>\n",
       "<style scoped>\n",
       "    .dataframe tbody tr th:only-of-type {\n",
       "        vertical-align: middle;\n",
       "    }\n",
       "\n",
       "    .dataframe tbody tr th {\n",
       "        vertical-align: top;\n",
       "    }\n",
       "\n",
       "    .dataframe thead th {\n",
       "        text-align: right;\n",
       "    }\n",
       "</style>\n",
       "<table border=\"1\" class=\"dataframe\">\n",
       "  <thead>\n",
       "    <tr style=\"text-align: right;\">\n",
       "      <th></th>\n",
       "      <th>DateCrawled</th>\n",
       "      <th>Price</th>\n",
       "      <th>VehicleType</th>\n",
       "      <th>RegistrationYear</th>\n",
       "      <th>Gearbox</th>\n",
       "      <th>Power</th>\n",
       "      <th>Model</th>\n",
       "      <th>Kilometer</th>\n",
       "      <th>RegistrationMonth</th>\n",
       "      <th>FuelType</th>\n",
       "      <th>Brand</th>\n",
       "      <th>Repaired</th>\n",
       "      <th>DateCreated</th>\n",
       "      <th>NumberOfPictures</th>\n",
       "      <th>PostalCode</th>\n",
       "      <th>LastSeen</th>\n",
       "    </tr>\n",
       "  </thead>\n",
       "  <tbody>\n",
       "    <tr>\n",
       "      <th>0</th>\n",
       "      <td>2016-03-24 11:52:17</td>\n",
       "      <td>480</td>\n",
       "      <td>NaN</td>\n",
       "      <td>1993</td>\n",
       "      <td>manual</td>\n",
       "      <td>0</td>\n",
       "      <td>golf</td>\n",
       "      <td>150000</td>\n",
       "      <td>0</td>\n",
       "      <td>petrol</td>\n",
       "      <td>volkswagen</td>\n",
       "      <td>NaN</td>\n",
       "      <td>2016-03-24 00:00:00</td>\n",
       "      <td>0</td>\n",
       "      <td>70435</td>\n",
       "      <td>2016-04-07 03:16:57</td>\n",
       "    </tr>\n",
       "    <tr>\n",
       "      <th>1</th>\n",
       "      <td>2016-03-24 10:58:45</td>\n",
       "      <td>18300</td>\n",
       "      <td>coupe</td>\n",
       "      <td>2011</td>\n",
       "      <td>manual</td>\n",
       "      <td>190</td>\n",
       "      <td>NaN</td>\n",
       "      <td>125000</td>\n",
       "      <td>5</td>\n",
       "      <td>gasoline</td>\n",
       "      <td>audi</td>\n",
       "      <td>yes</td>\n",
       "      <td>2016-03-24 00:00:00</td>\n",
       "      <td>0</td>\n",
       "      <td>66954</td>\n",
       "      <td>2016-04-07 01:46:50</td>\n",
       "    </tr>\n",
       "    <tr>\n",
       "      <th>2</th>\n",
       "      <td>2016-03-14 12:52:21</td>\n",
       "      <td>9800</td>\n",
       "      <td>suv</td>\n",
       "      <td>2004</td>\n",
       "      <td>auto</td>\n",
       "      <td>163</td>\n",
       "      <td>grand</td>\n",
       "      <td>125000</td>\n",
       "      <td>8</td>\n",
       "      <td>gasoline</td>\n",
       "      <td>jeep</td>\n",
       "      <td>NaN</td>\n",
       "      <td>2016-03-14 00:00:00</td>\n",
       "      <td>0</td>\n",
       "      <td>90480</td>\n",
       "      <td>2016-04-05 12:47:46</td>\n",
       "    </tr>\n",
       "    <tr>\n",
       "      <th>3</th>\n",
       "      <td>2016-03-17 16:54:04</td>\n",
       "      <td>1500</td>\n",
       "      <td>small</td>\n",
       "      <td>2001</td>\n",
       "      <td>manual</td>\n",
       "      <td>75</td>\n",
       "      <td>golf</td>\n",
       "      <td>150000</td>\n",
       "      <td>6</td>\n",
       "      <td>petrol</td>\n",
       "      <td>volkswagen</td>\n",
       "      <td>no</td>\n",
       "      <td>2016-03-17 00:00:00</td>\n",
       "      <td>0</td>\n",
       "      <td>91074</td>\n",
       "      <td>2016-03-17 17:40:17</td>\n",
       "    </tr>\n",
       "    <tr>\n",
       "      <th>4</th>\n",
       "      <td>2016-03-31 17:25:20</td>\n",
       "      <td>3600</td>\n",
       "      <td>small</td>\n",
       "      <td>2008</td>\n",
       "      <td>manual</td>\n",
       "      <td>69</td>\n",
       "      <td>fabia</td>\n",
       "      <td>90000</td>\n",
       "      <td>7</td>\n",
       "      <td>gasoline</td>\n",
       "      <td>skoda</td>\n",
       "      <td>no</td>\n",
       "      <td>2016-03-31 00:00:00</td>\n",
       "      <td>0</td>\n",
       "      <td>60437</td>\n",
       "      <td>2016-04-06 10:17:21</td>\n",
       "    </tr>\n",
       "    <tr>\n",
       "      <th>5</th>\n",
       "      <td>2016-04-04 17:36:23</td>\n",
       "      <td>650</td>\n",
       "      <td>sedan</td>\n",
       "      <td>1995</td>\n",
       "      <td>manual</td>\n",
       "      <td>102</td>\n",
       "      <td>3er</td>\n",
       "      <td>150000</td>\n",
       "      <td>10</td>\n",
       "      <td>petrol</td>\n",
       "      <td>bmw</td>\n",
       "      <td>yes</td>\n",
       "      <td>2016-04-04 00:00:00</td>\n",
       "      <td>0</td>\n",
       "      <td>33775</td>\n",
       "      <td>2016-04-06 19:17:07</td>\n",
       "    </tr>\n",
       "    <tr>\n",
       "      <th>6</th>\n",
       "      <td>2016-04-01 20:48:51</td>\n",
       "      <td>2200</td>\n",
       "      <td>convertible</td>\n",
       "      <td>2004</td>\n",
       "      <td>manual</td>\n",
       "      <td>109</td>\n",
       "      <td>2_reihe</td>\n",
       "      <td>150000</td>\n",
       "      <td>8</td>\n",
       "      <td>petrol</td>\n",
       "      <td>peugeot</td>\n",
       "      <td>no</td>\n",
       "      <td>2016-04-01 00:00:00</td>\n",
       "      <td>0</td>\n",
       "      <td>67112</td>\n",
       "      <td>2016-04-05 18:18:39</td>\n",
       "    </tr>\n",
       "    <tr>\n",
       "      <th>7</th>\n",
       "      <td>2016-03-21 18:54:38</td>\n",
       "      <td>0</td>\n",
       "      <td>sedan</td>\n",
       "      <td>1980</td>\n",
       "      <td>manual</td>\n",
       "      <td>50</td>\n",
       "      <td>other</td>\n",
       "      <td>40000</td>\n",
       "      <td>7</td>\n",
       "      <td>petrol</td>\n",
       "      <td>volkswagen</td>\n",
       "      <td>no</td>\n",
       "      <td>2016-03-21 00:00:00</td>\n",
       "      <td>0</td>\n",
       "      <td>19348</td>\n",
       "      <td>2016-03-25 16:47:58</td>\n",
       "    </tr>\n",
       "    <tr>\n",
       "      <th>8</th>\n",
       "      <td>2016-04-04 23:42:13</td>\n",
       "      <td>14500</td>\n",
       "      <td>bus</td>\n",
       "      <td>2014</td>\n",
       "      <td>manual</td>\n",
       "      <td>125</td>\n",
       "      <td>c_max</td>\n",
       "      <td>30000</td>\n",
       "      <td>8</td>\n",
       "      <td>petrol</td>\n",
       "      <td>ford</td>\n",
       "      <td>NaN</td>\n",
       "      <td>2016-04-04 00:00:00</td>\n",
       "      <td>0</td>\n",
       "      <td>94505</td>\n",
       "      <td>2016-04-04 23:42:13</td>\n",
       "    </tr>\n",
       "    <tr>\n",
       "      <th>9</th>\n",
       "      <td>2016-03-17 10:53:50</td>\n",
       "      <td>999</td>\n",
       "      <td>small</td>\n",
       "      <td>1998</td>\n",
       "      <td>manual</td>\n",
       "      <td>101</td>\n",
       "      <td>golf</td>\n",
       "      <td>150000</td>\n",
       "      <td>0</td>\n",
       "      <td>NaN</td>\n",
       "      <td>volkswagen</td>\n",
       "      <td>NaN</td>\n",
       "      <td>2016-03-17 00:00:00</td>\n",
       "      <td>0</td>\n",
       "      <td>27472</td>\n",
       "      <td>2016-03-31 17:17:06</td>\n",
       "    </tr>\n",
       "  </tbody>\n",
       "</table>\n",
       "</div>"
      ],
      "text/plain": [
       "           DateCrawled  Price  VehicleType  RegistrationYear Gearbox  Power  \\\n",
       "0  2016-03-24 11:52:17    480          NaN              1993  manual      0   \n",
       "1  2016-03-24 10:58:45  18300        coupe              2011  manual    190   \n",
       "2  2016-03-14 12:52:21   9800          suv              2004    auto    163   \n",
       "3  2016-03-17 16:54:04   1500        small              2001  manual     75   \n",
       "4  2016-03-31 17:25:20   3600        small              2008  manual     69   \n",
       "5  2016-04-04 17:36:23    650        sedan              1995  manual    102   \n",
       "6  2016-04-01 20:48:51   2200  convertible              2004  manual    109   \n",
       "7  2016-03-21 18:54:38      0        sedan              1980  manual     50   \n",
       "8  2016-04-04 23:42:13  14500          bus              2014  manual    125   \n",
       "9  2016-03-17 10:53:50    999        small              1998  manual    101   \n",
       "\n",
       "     Model  Kilometer  RegistrationMonth  FuelType       Brand Repaired  \\\n",
       "0     golf     150000                  0    petrol  volkswagen      NaN   \n",
       "1      NaN     125000                  5  gasoline        audi      yes   \n",
       "2    grand     125000                  8  gasoline        jeep      NaN   \n",
       "3     golf     150000                  6    petrol  volkswagen       no   \n",
       "4    fabia      90000                  7  gasoline       skoda       no   \n",
       "5      3er     150000                 10    petrol         bmw      yes   \n",
       "6  2_reihe     150000                  8    petrol     peugeot       no   \n",
       "7    other      40000                  7    petrol  volkswagen       no   \n",
       "8    c_max      30000                  8    petrol        ford      NaN   \n",
       "9     golf     150000                  0       NaN  volkswagen      NaN   \n",
       "\n",
       "           DateCreated  NumberOfPictures  PostalCode             LastSeen  \n",
       "0  2016-03-24 00:00:00                 0       70435  2016-04-07 03:16:57  \n",
       "1  2016-03-24 00:00:00                 0       66954  2016-04-07 01:46:50  \n",
       "2  2016-03-14 00:00:00                 0       90480  2016-04-05 12:47:46  \n",
       "3  2016-03-17 00:00:00                 0       91074  2016-03-17 17:40:17  \n",
       "4  2016-03-31 00:00:00                 0       60437  2016-04-06 10:17:21  \n",
       "5  2016-04-04 00:00:00                 0       33775  2016-04-06 19:17:07  \n",
       "6  2016-04-01 00:00:00                 0       67112  2016-04-05 18:18:39  \n",
       "7  2016-03-21 00:00:00                 0       19348  2016-03-25 16:47:58  \n",
       "8  2016-04-04 00:00:00                 0       94505  2016-04-04 23:42:13  \n",
       "9  2016-03-17 00:00:00                 0       27472  2016-03-31 17:17:06  "
      ]
     },
     "execution_count": 6,
     "metadata": {},
     "output_type": "execute_result"
    }
   ],
   "source": [
    "data = pd.read_csv(\"/datasets/autos.csv\")\n",
    "\n",
    "data.info()\n",
    "data.head(10)"
   ]
  },
  {
   "cell_type": "markdown",
   "metadata": {},
   "source": [
    "Из сопроводительной информации:  \n",
    "\n",
    "**Признаки**\n",
    "  - DateCrawled — дата скачивания анкеты из базы  \n",
    "  - VehicleType — тип автомобильного кузова  \n",
    "  - RegistrationYear — год регистрации автомобиля  \n",
    "  - Gearbox — тип коробки передач  \n",
    "  - Power — мощность (л. с.)  \n",
    "  - Model — модель автомобиля  \n",
    "  - Kilometer — пробег (км)  \n",
    "  - RegistrationMonth — месяц регистрации автомобиля  \n",
    "  - FuelType — тип топлива  \n",
    "  - Brand — марка автомобиля  \n",
    "  - Repaired — была машина в ремонте или нет  \n",
    "  - DateCreated — дата создания анкеты  \n",
    "  - NumberOfPictures — количество фотографий автомобиля  \n",
    "  - PostalCode — почтовый индекс владельца анкеты (пользователя)  \n",
    "  - LastSeen — дата последней активности пользователя  \n",
    "  \n",
    "**Целевой признак**\n",
    "  - Price — цена (евро)"
   ]
  },
  {
   "cell_type": "markdown",
   "metadata": {},
   "source": [
    "Приведём названия колонок к snake_case."
   ]
  },
  {
   "cell_type": "code",
   "execution_count": 7,
   "metadata": {},
   "outputs": [],
   "source": [
    "def change_column_names(df):\n",
    "    \n",
    "    orig_columns_list = df.columns.tolist()\n",
    "    new_columns_list = []\n",
    "    \n",
    "    for column_name in orig_columns_list:\n",
    "        new_column_name=\"\"\n",
    "        new_column_name+=column_name[0].lower()\n",
    "        for i in range(1,len(column_name)):\n",
    "            if(column_name[i].isupper()):\n",
    "                new_column_name+=\"_\"+column_name[i].lower()\n",
    "            else:\n",
    "                new_column_name+=column_name[i]\n",
    "        new_columns_list.append(new_column_name)\n",
    "        \n",
    "    rename_dict = {}    \n",
    "    for i in range(len(orig_columns_list)):\n",
    "        rename_dict[orig_columns_list[i]] = new_columns_list[i]\n",
    "    return rename_dict"
   ]
  },
  {
   "cell_type": "code",
   "execution_count": 8,
   "metadata": {},
   "outputs": [
    {
     "data": {
      "text/plain": [
       "Index(['date_crawled', 'price', 'vehicle_type', 'registration_year', 'gearbox',\n",
       "       'power', 'model', 'kilometer', 'registration_month', 'fuel_type',\n",
       "       'brand', 'repaired', 'date_created', 'number_of_pictures',\n",
       "       'postal_code', 'last_seen'],\n",
       "      dtype='object')"
      ]
     },
     "execution_count": 8,
     "metadata": {},
     "output_type": "execute_result"
    }
   ],
   "source": [
    "data = data.rename(columns = change_column_names(data))\n",
    "\n",
    "data.columns"
   ]
  },
  {
   "cell_type": "markdown",
   "metadata": {},
   "source": [
    "Проверим наличие дубликатов, и устраним, если найдём."
   ]
  },
  {
   "cell_type": "code",
   "execution_count": 9,
   "metadata": {},
   "outputs": [
    {
     "data": {
      "text/plain": [
       "4"
      ]
     },
     "execution_count": 9,
     "metadata": {},
     "output_type": "execute_result"
    }
   ],
   "source": [
    "data.duplicated().sum()"
   ]
  },
  {
   "cell_type": "code",
   "execution_count": 10,
   "metadata": {},
   "outputs": [],
   "source": [
    "data=data.drop_duplicates().reset_index(drop=True)"
   ]
  },
  {
   "cell_type": "markdown",
   "metadata": {},
   "source": [
    "Приведём даты к datetime."
   ]
  },
  {
   "cell_type": "code",
   "execution_count": 11,
   "metadata": {},
   "outputs": [
    {
     "name": "stdout",
     "output_type": "stream",
     "text": [
      "<class 'pandas.core.frame.DataFrame'>\n",
      "RangeIndex: 354365 entries, 0 to 354364\n",
      "Data columns (total 16 columns):\n",
      " #   Column              Non-Null Count   Dtype         \n",
      "---  ------              --------------   -----         \n",
      " 0   date_crawled        354365 non-null  datetime64[ns]\n",
      " 1   price               354365 non-null  int64         \n",
      " 2   vehicle_type        316875 non-null  object        \n",
      " 3   registration_year   354365 non-null  int64         \n",
      " 4   gearbox             334532 non-null  object        \n",
      " 5   power               354365 non-null  int64         \n",
      " 6   model               334660 non-null  object        \n",
      " 7   kilometer           354365 non-null  int64         \n",
      " 8   registration_month  354365 non-null  int64         \n",
      " 9   fuel_type           321470 non-null  object        \n",
      " 10  brand               354365 non-null  object        \n",
      " 11  repaired            283211 non-null  object        \n",
      " 12  date_created        354365 non-null  datetime64[ns]\n",
      " 13  number_of_pictures  354365 non-null  int64         \n",
      " 14  postal_code         354365 non-null  int64         \n",
      " 15  last_seen           354365 non-null  datetime64[ns]\n",
      "dtypes: datetime64[ns](3), int64(7), object(6)\n",
      "memory usage: 43.3+ MB\n"
     ]
    }
   ],
   "source": [
    "for column in ['date_crawled', 'date_created', 'last_seen']:\n",
    "    data[column] = pd.to_datetime(data[column], format='%Y-%m-%d %H:%M:%S')\n",
    "data.info()    "
   ]
  },
  {
   "cell_type": "markdown",
   "metadata": {},
   "source": [
    "Видим наличие пропусков, выведем на экран их количества."
   ]
  },
  {
   "cell_type": "code",
   "execution_count": 12,
   "metadata": {},
   "outputs": [
    {
     "data": {
      "text/plain": [
       "date_crawled              0\n",
       "price                     0\n",
       "vehicle_type          37490\n",
       "registration_year         0\n",
       "gearbox               19833\n",
       "power                     0\n",
       "model                 19705\n",
       "kilometer                 0\n",
       "registration_month        0\n",
       "fuel_type             32895\n",
       "brand                     0\n",
       "repaired              71154\n",
       "date_created              0\n",
       "number_of_pictures        0\n",
       "postal_code               0\n",
       "last_seen                 0\n",
       "dtype: int64"
      ]
     },
     "execution_count": 12,
     "metadata": {},
     "output_type": "execute_result"
    }
   ],
   "source": [
    "data.isna().sum()"
   ]
  },
  {
   "cell_type": "markdown",
   "metadata": {},
   "source": [
    "Наибольшее количество пропусков - в пункте, касающемся ремонтов."
   ]
  },
  {
   "cell_type": "code",
   "execution_count": 13,
   "metadata": {},
   "outputs": [
    {
     "data": {
      "text/plain": [
       "no     0.697467\n",
       "NaN    0.200793\n",
       "yes    0.101740\n",
       "Name: repaired, dtype: float64"
      ]
     },
     "execution_count": 13,
     "metadata": {},
     "output_type": "execute_result"
    }
   ],
   "source": [
    "data['repaired'].value_counts(normalize = True, dropna = False)"
   ]
  },
  {
   "cell_type": "markdown",
   "metadata": {},
   "source": [
    "Заполним их значением unknown - мы не можем достоверно установить, была ли машина в ремонте, из данных фрейма. Предположение \"если машина была в ремонте, об этом бы написали\" не очень вероятно."
   ]
  },
  {
   "cell_type": "code",
   "execution_count": 14,
   "metadata": {
    "scrolled": true
   },
   "outputs": [
    {
     "data": {
      "text/plain": [
       "no         0.697467\n",
       "unknown    0.200793\n",
       "yes        0.101740\n",
       "Name: repaired, dtype: float64"
      ]
     },
     "execution_count": 14,
     "metadata": {},
     "output_type": "execute_result"
    }
   ],
   "source": [
    "data.loc[data['repaired'].isna() == True, 'repaired'] = 'unknown'\n",
    "data['repaired'].value_counts(normalize = True, dropna = False)"
   ]
  },
  {
   "cell_type": "markdown",
   "metadata": {},
   "source": [
    "Теперь посмотрим на строчки с пропуском в vehicle_type: может, мы сможем заполнить их из данных фрейма, ссылаясь на похожие строки?"
   ]
  },
  {
   "cell_type": "code",
   "execution_count": 15,
   "metadata": {},
   "outputs": [
    {
     "data": {
      "text/html": [
       "<div>\n",
       "<style scoped>\n",
       "    .dataframe tbody tr th:only-of-type {\n",
       "        vertical-align: middle;\n",
       "    }\n",
       "\n",
       "    .dataframe tbody tr th {\n",
       "        vertical-align: top;\n",
       "    }\n",
       "\n",
       "    .dataframe thead th {\n",
       "        text-align: right;\n",
       "    }\n",
       "</style>\n",
       "<table border=\"1\" class=\"dataframe\">\n",
       "  <thead>\n",
       "    <tr style=\"text-align: right;\">\n",
       "      <th></th>\n",
       "      <th>date_crawled</th>\n",
       "      <th>price</th>\n",
       "      <th>vehicle_type</th>\n",
       "      <th>registration_year</th>\n",
       "      <th>gearbox</th>\n",
       "      <th>power</th>\n",
       "      <th>model</th>\n",
       "      <th>kilometer</th>\n",
       "      <th>registration_month</th>\n",
       "      <th>fuel_type</th>\n",
       "      <th>brand</th>\n",
       "      <th>repaired</th>\n",
       "      <th>date_created</th>\n",
       "      <th>number_of_pictures</th>\n",
       "      <th>postal_code</th>\n",
       "      <th>last_seen</th>\n",
       "    </tr>\n",
       "  </thead>\n",
       "  <tbody>\n",
       "    <tr>\n",
       "      <th>0</th>\n",
       "      <td>2016-03-24 11:52:17</td>\n",
       "      <td>480</td>\n",
       "      <td>NaN</td>\n",
       "      <td>1993</td>\n",
       "      <td>manual</td>\n",
       "      <td>0</td>\n",
       "      <td>golf</td>\n",
       "      <td>150000</td>\n",
       "      <td>0</td>\n",
       "      <td>petrol</td>\n",
       "      <td>volkswagen</td>\n",
       "      <td>unknown</td>\n",
       "      <td>2016-03-24</td>\n",
       "      <td>0</td>\n",
       "      <td>70435</td>\n",
       "      <td>2016-04-07 03:16:57</td>\n",
       "    </tr>\n",
       "    <tr>\n",
       "      <th>16</th>\n",
       "      <td>2016-04-01 12:46:46</td>\n",
       "      <td>300</td>\n",
       "      <td>NaN</td>\n",
       "      <td>2016</td>\n",
       "      <td>NaN</td>\n",
       "      <td>60</td>\n",
       "      <td>polo</td>\n",
       "      <td>150000</td>\n",
       "      <td>0</td>\n",
       "      <td>petrol</td>\n",
       "      <td>volkswagen</td>\n",
       "      <td>unknown</td>\n",
       "      <td>2016-04-01</td>\n",
       "      <td>0</td>\n",
       "      <td>38871</td>\n",
       "      <td>2016-04-01 12:46:46</td>\n",
       "    </tr>\n",
       "    <tr>\n",
       "      <th>22</th>\n",
       "      <td>2016-03-23 14:52:51</td>\n",
       "      <td>2900</td>\n",
       "      <td>NaN</td>\n",
       "      <td>2018</td>\n",
       "      <td>manual</td>\n",
       "      <td>90</td>\n",
       "      <td>meriva</td>\n",
       "      <td>150000</td>\n",
       "      <td>5</td>\n",
       "      <td>petrol</td>\n",
       "      <td>opel</td>\n",
       "      <td>no</td>\n",
       "      <td>2016-03-23</td>\n",
       "      <td>0</td>\n",
       "      <td>49716</td>\n",
       "      <td>2016-03-31 01:16:33</td>\n",
       "    </tr>\n",
       "    <tr>\n",
       "      <th>26</th>\n",
       "      <td>2016-03-10 19:38:18</td>\n",
       "      <td>5555</td>\n",
       "      <td>NaN</td>\n",
       "      <td>2017</td>\n",
       "      <td>manual</td>\n",
       "      <td>125</td>\n",
       "      <td>c4</td>\n",
       "      <td>125000</td>\n",
       "      <td>4</td>\n",
       "      <td>NaN</td>\n",
       "      <td>citroen</td>\n",
       "      <td>no</td>\n",
       "      <td>2016-03-10</td>\n",
       "      <td>0</td>\n",
       "      <td>31139</td>\n",
       "      <td>2016-03-16 09:16:46</td>\n",
       "    </tr>\n",
       "    <tr>\n",
       "      <th>31</th>\n",
       "      <td>2016-03-29 16:57:02</td>\n",
       "      <td>899</td>\n",
       "      <td>NaN</td>\n",
       "      <td>2016</td>\n",
       "      <td>manual</td>\n",
       "      <td>60</td>\n",
       "      <td>clio</td>\n",
       "      <td>150000</td>\n",
       "      <td>6</td>\n",
       "      <td>petrol</td>\n",
       "      <td>renault</td>\n",
       "      <td>unknown</td>\n",
       "      <td>2016-03-29</td>\n",
       "      <td>0</td>\n",
       "      <td>37075</td>\n",
       "      <td>2016-03-29 17:43:07</td>\n",
       "    </tr>\n",
       "    <tr>\n",
       "      <th>...</th>\n",
       "      <td>...</td>\n",
       "      <td>...</td>\n",
       "      <td>...</td>\n",
       "      <td>...</td>\n",
       "      <td>...</td>\n",
       "      <td>...</td>\n",
       "      <td>...</td>\n",
       "      <td>...</td>\n",
       "      <td>...</td>\n",
       "      <td>...</td>\n",
       "      <td>...</td>\n",
       "      <td>...</td>\n",
       "      <td>...</td>\n",
       "      <td>...</td>\n",
       "      <td>...</td>\n",
       "      <td>...</td>\n",
       "    </tr>\n",
       "    <tr>\n",
       "      <th>354342</th>\n",
       "      <td>2016-03-07 17:06:35</td>\n",
       "      <td>2600</td>\n",
       "      <td>NaN</td>\n",
       "      <td>2005</td>\n",
       "      <td>auto</td>\n",
       "      <td>0</td>\n",
       "      <td>c_klasse</td>\n",
       "      <td>150000</td>\n",
       "      <td>9</td>\n",
       "      <td>NaN</td>\n",
       "      <td>mercedes_benz</td>\n",
       "      <td>unknown</td>\n",
       "      <td>2016-03-07</td>\n",
       "      <td>0</td>\n",
       "      <td>61169</td>\n",
       "      <td>2016-03-08 21:28:38</td>\n",
       "    </tr>\n",
       "    <tr>\n",
       "      <th>354347</th>\n",
       "      <td>2016-03-11 23:40:32</td>\n",
       "      <td>1900</td>\n",
       "      <td>NaN</td>\n",
       "      <td>2000</td>\n",
       "      <td>manual</td>\n",
       "      <td>110</td>\n",
       "      <td>NaN</td>\n",
       "      <td>150000</td>\n",
       "      <td>7</td>\n",
       "      <td>NaN</td>\n",
       "      <td>volkswagen</td>\n",
       "      <td>no</td>\n",
       "      <td>2016-03-11</td>\n",
       "      <td>0</td>\n",
       "      <td>87700</td>\n",
       "      <td>2016-03-12 14:16:51</td>\n",
       "    </tr>\n",
       "    <tr>\n",
       "      <th>354357</th>\n",
       "      <td>2016-03-09 13:37:43</td>\n",
       "      <td>5250</td>\n",
       "      <td>NaN</td>\n",
       "      <td>2016</td>\n",
       "      <td>auto</td>\n",
       "      <td>150</td>\n",
       "      <td>159</td>\n",
       "      <td>150000</td>\n",
       "      <td>12</td>\n",
       "      <td>NaN</td>\n",
       "      <td>alfa_romeo</td>\n",
       "      <td>no</td>\n",
       "      <td>2016-03-09</td>\n",
       "      <td>0</td>\n",
       "      <td>51371</td>\n",
       "      <td>2016-03-13 01:44:13</td>\n",
       "    </tr>\n",
       "    <tr>\n",
       "      <th>354360</th>\n",
       "      <td>2016-03-21 09:50:58</td>\n",
       "      <td>0</td>\n",
       "      <td>NaN</td>\n",
       "      <td>2005</td>\n",
       "      <td>manual</td>\n",
       "      <td>0</td>\n",
       "      <td>colt</td>\n",
       "      <td>150000</td>\n",
       "      <td>7</td>\n",
       "      <td>petrol</td>\n",
       "      <td>mitsubishi</td>\n",
       "      <td>yes</td>\n",
       "      <td>2016-03-21</td>\n",
       "      <td>0</td>\n",
       "      <td>2694</td>\n",
       "      <td>2016-03-21 10:42:49</td>\n",
       "    </tr>\n",
       "    <tr>\n",
       "      <th>354361</th>\n",
       "      <td>2016-03-14 17:48:27</td>\n",
       "      <td>2200</td>\n",
       "      <td>NaN</td>\n",
       "      <td>2005</td>\n",
       "      <td>NaN</td>\n",
       "      <td>0</td>\n",
       "      <td>NaN</td>\n",
       "      <td>20000</td>\n",
       "      <td>1</td>\n",
       "      <td>NaN</td>\n",
       "      <td>sonstige_autos</td>\n",
       "      <td>unknown</td>\n",
       "      <td>2016-03-14</td>\n",
       "      <td>0</td>\n",
       "      <td>39576</td>\n",
       "      <td>2016-04-06 00:46:52</td>\n",
       "    </tr>\n",
       "  </tbody>\n",
       "</table>\n",
       "<p>37490 rows × 16 columns</p>\n",
       "</div>"
      ],
      "text/plain": [
       "              date_crawled  price vehicle_type  registration_year gearbox  \\\n",
       "0      2016-03-24 11:52:17    480          NaN               1993  manual   \n",
       "16     2016-04-01 12:46:46    300          NaN               2016     NaN   \n",
       "22     2016-03-23 14:52:51   2900          NaN               2018  manual   \n",
       "26     2016-03-10 19:38:18   5555          NaN               2017  manual   \n",
       "31     2016-03-29 16:57:02    899          NaN               2016  manual   \n",
       "...                    ...    ...          ...                ...     ...   \n",
       "354342 2016-03-07 17:06:35   2600          NaN               2005    auto   \n",
       "354347 2016-03-11 23:40:32   1900          NaN               2000  manual   \n",
       "354357 2016-03-09 13:37:43   5250          NaN               2016    auto   \n",
       "354360 2016-03-21 09:50:58      0          NaN               2005  manual   \n",
       "354361 2016-03-14 17:48:27   2200          NaN               2005     NaN   \n",
       "\n",
       "        power     model  kilometer  registration_month fuel_type  \\\n",
       "0           0      golf     150000                   0    petrol   \n",
       "16         60      polo     150000                   0    petrol   \n",
       "22         90    meriva     150000                   5    petrol   \n",
       "26        125        c4     125000                   4       NaN   \n",
       "31         60      clio     150000                   6    petrol   \n",
       "...       ...       ...        ...                 ...       ...   \n",
       "354342      0  c_klasse     150000                   9       NaN   \n",
       "354347    110       NaN     150000                   7       NaN   \n",
       "354357    150       159     150000                  12       NaN   \n",
       "354360      0      colt     150000                   7    petrol   \n",
       "354361      0       NaN      20000                   1       NaN   \n",
       "\n",
       "                 brand repaired date_created  number_of_pictures  postal_code  \\\n",
       "0           volkswagen  unknown   2016-03-24                   0        70435   \n",
       "16          volkswagen  unknown   2016-04-01                   0        38871   \n",
       "22                opel       no   2016-03-23                   0        49716   \n",
       "26             citroen       no   2016-03-10                   0        31139   \n",
       "31             renault  unknown   2016-03-29                   0        37075   \n",
       "...                ...      ...          ...                 ...          ...   \n",
       "354342   mercedes_benz  unknown   2016-03-07                   0        61169   \n",
       "354347      volkswagen       no   2016-03-11                   0        87700   \n",
       "354357      alfa_romeo       no   2016-03-09                   0        51371   \n",
       "354360      mitsubishi      yes   2016-03-21                   0         2694   \n",
       "354361  sonstige_autos  unknown   2016-03-14                   0        39576   \n",
       "\n",
       "                 last_seen  \n",
       "0      2016-04-07 03:16:57  \n",
       "16     2016-04-01 12:46:46  \n",
       "22     2016-03-31 01:16:33  \n",
       "26     2016-03-16 09:16:46  \n",
       "31     2016-03-29 17:43:07  \n",
       "...                    ...  \n",
       "354342 2016-03-08 21:28:38  \n",
       "354347 2016-03-12 14:16:51  \n",
       "354357 2016-03-13 01:44:13  \n",
       "354360 2016-03-21 10:42:49  \n",
       "354361 2016-04-06 00:46:52  \n",
       "\n",
       "[37490 rows x 16 columns]"
      ]
     },
     "execution_count": 15,
     "metadata": {},
     "output_type": "execute_result"
    }
   ],
   "source": [
    "data[data['vehicle_type'].isna() == True]"
   ]
  },
  {
   "cell_type": "markdown",
   "metadata": {},
   "source": [
    "Посмотрим на строки, похоже на первую, у которых отсутствуют пропуски в vehicle type."
   ]
  },
  {
   "cell_type": "code",
   "execution_count": 16,
   "metadata": {},
   "outputs": [
    {
     "data": {
      "text/html": [
       "<div>\n",
       "<style scoped>\n",
       "    .dataframe tbody tr th:only-of-type {\n",
       "        vertical-align: middle;\n",
       "    }\n",
       "\n",
       "    .dataframe tbody tr th {\n",
       "        vertical-align: top;\n",
       "    }\n",
       "\n",
       "    .dataframe thead th {\n",
       "        text-align: right;\n",
       "    }\n",
       "</style>\n",
       "<table border=\"1\" class=\"dataframe\">\n",
       "  <thead>\n",
       "    <tr style=\"text-align: right;\">\n",
       "      <th></th>\n",
       "      <th>date_crawled</th>\n",
       "      <th>price</th>\n",
       "      <th>vehicle_type</th>\n",
       "      <th>registration_year</th>\n",
       "      <th>gearbox</th>\n",
       "      <th>power</th>\n",
       "      <th>model</th>\n",
       "      <th>kilometer</th>\n",
       "      <th>registration_month</th>\n",
       "      <th>fuel_type</th>\n",
       "      <th>brand</th>\n",
       "      <th>repaired</th>\n",
       "      <th>date_created</th>\n",
       "      <th>number_of_pictures</th>\n",
       "      <th>postal_code</th>\n",
       "      <th>last_seen</th>\n",
       "    </tr>\n",
       "  </thead>\n",
       "  <tbody>\n",
       "    <tr>\n",
       "      <th>158</th>\n",
       "      <td>2016-04-01 16:06:24</td>\n",
       "      <td>800</td>\n",
       "      <td>sedan</td>\n",
       "      <td>1993</td>\n",
       "      <td>manual</td>\n",
       "      <td>0</td>\n",
       "      <td>golf</td>\n",
       "      <td>10000</td>\n",
       "      <td>9</td>\n",
       "      <td>petrol</td>\n",
       "      <td>volkswagen</td>\n",
       "      <td>yes</td>\n",
       "      <td>2016-04-01</td>\n",
       "      <td>0</td>\n",
       "      <td>65929</td>\n",
       "      <td>2016-04-07 11:17:07</td>\n",
       "    </tr>\n",
       "    <tr>\n",
       "      <th>253</th>\n",
       "      <td>2016-03-25 08:52:58</td>\n",
       "      <td>300</td>\n",
       "      <td>small</td>\n",
       "      <td>1993</td>\n",
       "      <td>manual</td>\n",
       "      <td>90</td>\n",
       "      <td>golf</td>\n",
       "      <td>150000</td>\n",
       "      <td>8</td>\n",
       "      <td>petrol</td>\n",
       "      <td>volkswagen</td>\n",
       "      <td>unknown</td>\n",
       "      <td>2016-03-25</td>\n",
       "      <td>0</td>\n",
       "      <td>27412</td>\n",
       "      <td>2016-04-04 06:22:54</td>\n",
       "    </tr>\n",
       "    <tr>\n",
       "      <th>2117</th>\n",
       "      <td>2016-04-02 10:52:34</td>\n",
       "      <td>270</td>\n",
       "      <td>small</td>\n",
       "      <td>1993</td>\n",
       "      <td>manual</td>\n",
       "      <td>75</td>\n",
       "      <td>golf</td>\n",
       "      <td>150000</td>\n",
       "      <td>4</td>\n",
       "      <td>petrol</td>\n",
       "      <td>volkswagen</td>\n",
       "      <td>no</td>\n",
       "      <td>2016-04-02</td>\n",
       "      <td>0</td>\n",
       "      <td>49152</td>\n",
       "      <td>2016-04-04 07:51:01</td>\n",
       "    </tr>\n",
       "    <tr>\n",
       "      <th>2881</th>\n",
       "      <td>2016-03-15 19:46:26</td>\n",
       "      <td>650</td>\n",
       "      <td>sedan</td>\n",
       "      <td>1993</td>\n",
       "      <td>auto</td>\n",
       "      <td>75</td>\n",
       "      <td>golf</td>\n",
       "      <td>150000</td>\n",
       "      <td>3</td>\n",
       "      <td>petrol</td>\n",
       "      <td>volkswagen</td>\n",
       "      <td>no</td>\n",
       "      <td>2016-03-15</td>\n",
       "      <td>0</td>\n",
       "      <td>84186</td>\n",
       "      <td>2016-04-06 23:46:51</td>\n",
       "    </tr>\n",
       "    <tr>\n",
       "      <th>3186</th>\n",
       "      <td>2016-03-28 17:44:12</td>\n",
       "      <td>150</td>\n",
       "      <td>small</td>\n",
       "      <td>1993</td>\n",
       "      <td>manual</td>\n",
       "      <td>60</td>\n",
       "      <td>golf</td>\n",
       "      <td>150000</td>\n",
       "      <td>2</td>\n",
       "      <td>petrol</td>\n",
       "      <td>volkswagen</td>\n",
       "      <td>yes</td>\n",
       "      <td>2016-03-28</td>\n",
       "      <td>0</td>\n",
       "      <td>9456</td>\n",
       "      <td>2016-03-30 08:46:52</td>\n",
       "    </tr>\n",
       "    <tr>\n",
       "      <th>...</th>\n",
       "      <td>...</td>\n",
       "      <td>...</td>\n",
       "      <td>...</td>\n",
       "      <td>...</td>\n",
       "      <td>...</td>\n",
       "      <td>...</td>\n",
       "      <td>...</td>\n",
       "      <td>...</td>\n",
       "      <td>...</td>\n",
       "      <td>...</td>\n",
       "      <td>...</td>\n",
       "      <td>...</td>\n",
       "      <td>...</td>\n",
       "      <td>...</td>\n",
       "      <td>...</td>\n",
       "      <td>...</td>\n",
       "    </tr>\n",
       "    <tr>\n",
       "      <th>352360</th>\n",
       "      <td>2016-03-29 20:55:59</td>\n",
       "      <td>750</td>\n",
       "      <td>sedan</td>\n",
       "      <td>1993</td>\n",
       "      <td>manual</td>\n",
       "      <td>0</td>\n",
       "      <td>golf</td>\n",
       "      <td>150000</td>\n",
       "      <td>0</td>\n",
       "      <td>petrol</td>\n",
       "      <td>volkswagen</td>\n",
       "      <td>unknown</td>\n",
       "      <td>2016-03-29</td>\n",
       "      <td>0</td>\n",
       "      <td>23562</td>\n",
       "      <td>2016-04-06 07:17:26</td>\n",
       "    </tr>\n",
       "    <tr>\n",
       "      <th>352730</th>\n",
       "      <td>2016-03-17 16:56:40</td>\n",
       "      <td>900</td>\n",
       "      <td>small</td>\n",
       "      <td>1993</td>\n",
       "      <td>manual</td>\n",
       "      <td>60</td>\n",
       "      <td>golf</td>\n",
       "      <td>125000</td>\n",
       "      <td>8</td>\n",
       "      <td>petrol</td>\n",
       "      <td>volkswagen</td>\n",
       "      <td>no</td>\n",
       "      <td>2016-03-17</td>\n",
       "      <td>0</td>\n",
       "      <td>44359</td>\n",
       "      <td>2016-03-20 19:19:18</td>\n",
       "    </tr>\n",
       "    <tr>\n",
       "      <th>352862</th>\n",
       "      <td>2016-03-31 12:57:08</td>\n",
       "      <td>250</td>\n",
       "      <td>sedan</td>\n",
       "      <td>1993</td>\n",
       "      <td>manual</td>\n",
       "      <td>60</td>\n",
       "      <td>golf</td>\n",
       "      <td>150000</td>\n",
       "      <td>3</td>\n",
       "      <td>petrol</td>\n",
       "      <td>volkswagen</td>\n",
       "      <td>no</td>\n",
       "      <td>2016-03-31</td>\n",
       "      <td>0</td>\n",
       "      <td>31712</td>\n",
       "      <td>2016-04-06 05:44:26</td>\n",
       "    </tr>\n",
       "    <tr>\n",
       "      <th>354043</th>\n",
       "      <td>2016-03-05 14:18:10</td>\n",
       "      <td>1000</td>\n",
       "      <td>sedan</td>\n",
       "      <td>1993</td>\n",
       "      <td>manual</td>\n",
       "      <td>75</td>\n",
       "      <td>golf</td>\n",
       "      <td>150000</td>\n",
       "      <td>2</td>\n",
       "      <td>petrol</td>\n",
       "      <td>volkswagen</td>\n",
       "      <td>no</td>\n",
       "      <td>2016-03-04</td>\n",
       "      <td>0</td>\n",
       "      <td>35767</td>\n",
       "      <td>2016-03-06 04:45:43</td>\n",
       "    </tr>\n",
       "    <tr>\n",
       "      <th>354200</th>\n",
       "      <td>2016-03-20 14:54:38</td>\n",
       "      <td>250</td>\n",
       "      <td>wagon</td>\n",
       "      <td>1993</td>\n",
       "      <td>manual</td>\n",
       "      <td>75</td>\n",
       "      <td>golf</td>\n",
       "      <td>150000</td>\n",
       "      <td>0</td>\n",
       "      <td>petrol</td>\n",
       "      <td>volkswagen</td>\n",
       "      <td>no</td>\n",
       "      <td>2016-03-20</td>\n",
       "      <td>0</td>\n",
       "      <td>91359</td>\n",
       "      <td>2016-03-20 14:54:38</td>\n",
       "    </tr>\n",
       "  </tbody>\n",
       "</table>\n",
       "<p>544 rows × 16 columns</p>\n",
       "</div>"
      ],
      "text/plain": [
       "              date_crawled  price vehicle_type  registration_year gearbox  \\\n",
       "158    2016-04-01 16:06:24    800        sedan               1993  manual   \n",
       "253    2016-03-25 08:52:58    300        small               1993  manual   \n",
       "2117   2016-04-02 10:52:34    270        small               1993  manual   \n",
       "2881   2016-03-15 19:46:26    650        sedan               1993    auto   \n",
       "3186   2016-03-28 17:44:12    150        small               1993  manual   \n",
       "...                    ...    ...          ...                ...     ...   \n",
       "352360 2016-03-29 20:55:59    750        sedan               1993  manual   \n",
       "352730 2016-03-17 16:56:40    900        small               1993  manual   \n",
       "352862 2016-03-31 12:57:08    250        sedan               1993  manual   \n",
       "354043 2016-03-05 14:18:10   1000        sedan               1993  manual   \n",
       "354200 2016-03-20 14:54:38    250        wagon               1993  manual   \n",
       "\n",
       "        power model  kilometer  registration_month fuel_type       brand  \\\n",
       "158         0  golf      10000                   9    petrol  volkswagen   \n",
       "253        90  golf     150000                   8    petrol  volkswagen   \n",
       "2117       75  golf     150000                   4    petrol  volkswagen   \n",
       "2881       75  golf     150000                   3    petrol  volkswagen   \n",
       "3186       60  golf     150000                   2    petrol  volkswagen   \n",
       "...       ...   ...        ...                 ...       ...         ...   \n",
       "352360      0  golf     150000                   0    petrol  volkswagen   \n",
       "352730     60  golf     125000                   8    petrol  volkswagen   \n",
       "352862     60  golf     150000                   3    petrol  volkswagen   \n",
       "354043     75  golf     150000                   2    petrol  volkswagen   \n",
       "354200     75  golf     150000                   0    petrol  volkswagen   \n",
       "\n",
       "       repaired date_created  number_of_pictures  postal_code  \\\n",
       "158         yes   2016-04-01                   0        65929   \n",
       "253     unknown   2016-03-25                   0        27412   \n",
       "2117         no   2016-04-02                   0        49152   \n",
       "2881         no   2016-03-15                   0        84186   \n",
       "3186        yes   2016-03-28                   0         9456   \n",
       "...         ...          ...                 ...          ...   \n",
       "352360  unknown   2016-03-29                   0        23562   \n",
       "352730       no   2016-03-17                   0        44359   \n",
       "352862       no   2016-03-31                   0        31712   \n",
       "354043       no   2016-03-04                   0        35767   \n",
       "354200       no   2016-03-20                   0        91359   \n",
       "\n",
       "                 last_seen  \n",
       "158    2016-04-07 11:17:07  \n",
       "253    2016-04-04 06:22:54  \n",
       "2117   2016-04-04 07:51:01  \n",
       "2881   2016-04-06 23:46:51  \n",
       "3186   2016-03-30 08:46:52  \n",
       "...                    ...  \n",
       "352360 2016-04-06 07:17:26  \n",
       "352730 2016-03-20 19:19:18  \n",
       "352862 2016-04-06 05:44:26  \n",
       "354043 2016-03-06 04:45:43  \n",
       "354200 2016-03-20 14:54:38  \n",
       "\n",
       "[544 rows x 16 columns]"
      ]
     },
     "execution_count": 16,
     "metadata": {},
     "output_type": "execute_result"
    }
   ],
   "source": [
    "data[(data['vehicle_type'].isna() == False) & (data['model'] == 'golf') & (data['registration_year'] == 1993)]"
   ]
  },
  {
   "cell_type": "markdown",
   "metadata": {},
   "source": [
    "Однозначно установить тип кузова по данным фрейма не получится. Заполним все пропуски в фрейме значением unknown."
   ]
  },
  {
   "cell_type": "code",
   "execution_count": 17,
   "metadata": {},
   "outputs": [
    {
     "data": {
      "text/plain": [
       "date_crawled          0\n",
       "price                 0\n",
       "vehicle_type          0\n",
       "registration_year     0\n",
       "gearbox               0\n",
       "power                 0\n",
       "model                 0\n",
       "kilometer             0\n",
       "registration_month    0\n",
       "fuel_type             0\n",
       "brand                 0\n",
       "repaired              0\n",
       "date_created          0\n",
       "number_of_pictures    0\n",
       "postal_code           0\n",
       "last_seen             0\n",
       "dtype: int64"
      ]
     },
     "execution_count": 17,
     "metadata": {},
     "output_type": "execute_result"
    }
   ],
   "source": [
    "data = data.fillna('unknown')\n",
    "data.isna().sum()"
   ]
  },
  {
   "cell_type": "markdown",
   "metadata": {},
   "source": [
    "Сделаем список категориальных переменных и посчитаем на будущее, сколько же у нас получится столбцов при использовании OHE.\n",
    "Обратим внимание - почтовый код, по сути - категориальная переменная. "
   ]
  },
  {
   "cell_type": "code",
   "execution_count": 18,
   "metadata": {},
   "outputs": [
    {
     "name": "stdout",
     "output_type": "stream",
     "text": [
      "9 уникальных значений в столбце vehicle_type\n",
      "3 уникальных значений в столбце gearbox\n",
      "251 уникальных значений в столбце model\n",
      "8 уникальных значений в столбце fuel_type\n",
      "40 уникальных значений в столбце brand\n",
      "3 уникальных значений в столбце repaired\n",
      "8143 уникальных значений в столбце postal_code\n",
      "\n",
      "Из 7 столбцов получится 8450 столбцов при использовании OHE\n"
     ]
    }
   ],
   "source": [
    "cat_features = ['vehicle_type','gearbox','model','fuel_type','brand','repaired', 'postal_code']\n",
    "\n",
    "sum_unique = 0\n",
    "for column in cat_features:\n",
    "    sum_unique += len(data[column].unique())\n",
    "    print(f\"{len(data[column].unique())} уникальных значений в столбце {column}\")\n",
    "    \n",
    "print()\n",
    "print(f\"Из {len(cat_features)} столбцов получится {sum_unique - len(cat_features)} столбцов при использовании OHE\")"
   ]
  },
  {
   "cell_type": "markdown",
   "metadata": {},
   "source": [
    "Это означает, что мы не будем пользоваться OHE.  \n",
    "Воспользуемся Binary Encoder из библиотеки category_encoders."
   ]
  },
  {
   "cell_type": "markdown",
   "metadata": {},
   "source": [
    "Посмотрим на распределение числовых переменных."
   ]
  },
  {
   "cell_type": "code",
   "execution_count": 19,
   "metadata": {},
   "outputs": [
    {
     "data": {
      "text/html": [
       "<div>\n",
       "<style scoped>\n",
       "    .dataframe tbody tr th:only-of-type {\n",
       "        vertical-align: middle;\n",
       "    }\n",
       "\n",
       "    .dataframe tbody tr th {\n",
       "        vertical-align: top;\n",
       "    }\n",
       "\n",
       "    .dataframe thead th {\n",
       "        text-align: right;\n",
       "    }\n",
       "</style>\n",
       "<table border=\"1\" class=\"dataframe\">\n",
       "  <thead>\n",
       "    <tr style=\"text-align: right;\">\n",
       "      <th></th>\n",
       "      <th>price</th>\n",
       "      <th>registration_year</th>\n",
       "      <th>power</th>\n",
       "      <th>kilometer</th>\n",
       "      <th>registration_month</th>\n",
       "      <th>number_of_pictures</th>\n",
       "      <th>postal_code</th>\n",
       "    </tr>\n",
       "  </thead>\n",
       "  <tbody>\n",
       "    <tr>\n",
       "      <th>count</th>\n",
       "      <td>354365.000000</td>\n",
       "      <td>354365.000000</td>\n",
       "      <td>354365.000000</td>\n",
       "      <td>354365.000000</td>\n",
       "      <td>354365.000000</td>\n",
       "      <td>354365.0</td>\n",
       "      <td>354365.000000</td>\n",
       "    </tr>\n",
       "    <tr>\n",
       "      <th>mean</th>\n",
       "      <td>4416.679830</td>\n",
       "      <td>2004.234481</td>\n",
       "      <td>110.093816</td>\n",
       "      <td>128211.363989</td>\n",
       "      <td>5.714650</td>\n",
       "      <td>0.0</td>\n",
       "      <td>50508.503800</td>\n",
       "    </tr>\n",
       "    <tr>\n",
       "      <th>std</th>\n",
       "      <td>4514.176349</td>\n",
       "      <td>90.228466</td>\n",
       "      <td>189.851330</td>\n",
       "      <td>37905.083858</td>\n",
       "      <td>3.726432</td>\n",
       "      <td>0.0</td>\n",
       "      <td>25783.100078</td>\n",
       "    </tr>\n",
       "    <tr>\n",
       "      <th>min</th>\n",
       "      <td>0.000000</td>\n",
       "      <td>1000.000000</td>\n",
       "      <td>0.000000</td>\n",
       "      <td>5000.000000</td>\n",
       "      <td>0.000000</td>\n",
       "      <td>0.0</td>\n",
       "      <td>1067.000000</td>\n",
       "    </tr>\n",
       "    <tr>\n",
       "      <th>25%</th>\n",
       "      <td>1050.000000</td>\n",
       "      <td>1999.000000</td>\n",
       "      <td>69.000000</td>\n",
       "      <td>125000.000000</td>\n",
       "      <td>3.000000</td>\n",
       "      <td>0.0</td>\n",
       "      <td>30165.000000</td>\n",
       "    </tr>\n",
       "    <tr>\n",
       "      <th>50%</th>\n",
       "      <td>2700.000000</td>\n",
       "      <td>2003.000000</td>\n",
       "      <td>105.000000</td>\n",
       "      <td>150000.000000</td>\n",
       "      <td>6.000000</td>\n",
       "      <td>0.0</td>\n",
       "      <td>49413.000000</td>\n",
       "    </tr>\n",
       "    <tr>\n",
       "      <th>75%</th>\n",
       "      <td>6400.000000</td>\n",
       "      <td>2008.000000</td>\n",
       "      <td>143.000000</td>\n",
       "      <td>150000.000000</td>\n",
       "      <td>9.000000</td>\n",
       "      <td>0.0</td>\n",
       "      <td>71083.000000</td>\n",
       "    </tr>\n",
       "    <tr>\n",
       "      <th>90%</th>\n",
       "      <td>11450.000000</td>\n",
       "      <td>2012.000000</td>\n",
       "      <td>179.000000</td>\n",
       "      <td>150000.000000</td>\n",
       "      <td>11.000000</td>\n",
       "      <td>0.0</td>\n",
       "      <td>87776.000000</td>\n",
       "    </tr>\n",
       "    <tr>\n",
       "      <th>95%</th>\n",
       "      <td>14600.000000</td>\n",
       "      <td>2016.000000</td>\n",
       "      <td>218.000000</td>\n",
       "      <td>150000.000000</td>\n",
       "      <td>12.000000</td>\n",
       "      <td>0.0</td>\n",
       "      <td>93109.000000</td>\n",
       "    </tr>\n",
       "    <tr>\n",
       "      <th>99%</th>\n",
       "      <td>18800.000000</td>\n",
       "      <td>2018.000000</td>\n",
       "      <td>300.000000</td>\n",
       "      <td>150000.000000</td>\n",
       "      <td>12.000000</td>\n",
       "      <td>0.0</td>\n",
       "      <td>98596.000000</td>\n",
       "    </tr>\n",
       "    <tr>\n",
       "      <th>max</th>\n",
       "      <td>20000.000000</td>\n",
       "      <td>9999.000000</td>\n",
       "      <td>20000.000000</td>\n",
       "      <td>150000.000000</td>\n",
       "      <td>12.000000</td>\n",
       "      <td>0.0</td>\n",
       "      <td>99998.000000</td>\n",
       "    </tr>\n",
       "  </tbody>\n",
       "</table>\n",
       "</div>"
      ],
      "text/plain": [
       "               price  registration_year          power      kilometer  \\\n",
       "count  354365.000000      354365.000000  354365.000000  354365.000000   \n",
       "mean     4416.679830        2004.234481     110.093816  128211.363989   \n",
       "std      4514.176349          90.228466     189.851330   37905.083858   \n",
       "min         0.000000        1000.000000       0.000000    5000.000000   \n",
       "25%      1050.000000        1999.000000      69.000000  125000.000000   \n",
       "50%      2700.000000        2003.000000     105.000000  150000.000000   \n",
       "75%      6400.000000        2008.000000     143.000000  150000.000000   \n",
       "90%     11450.000000        2012.000000     179.000000  150000.000000   \n",
       "95%     14600.000000        2016.000000     218.000000  150000.000000   \n",
       "99%     18800.000000        2018.000000     300.000000  150000.000000   \n",
       "max     20000.000000        9999.000000   20000.000000  150000.000000   \n",
       "\n",
       "       registration_month  number_of_pictures    postal_code  \n",
       "count       354365.000000            354365.0  354365.000000  \n",
       "mean             5.714650                 0.0   50508.503800  \n",
       "std              3.726432                 0.0   25783.100078  \n",
       "min              0.000000                 0.0    1067.000000  \n",
       "25%              3.000000                 0.0   30165.000000  \n",
       "50%              6.000000                 0.0   49413.000000  \n",
       "75%              9.000000                 0.0   71083.000000  \n",
       "90%             11.000000                 0.0   87776.000000  \n",
       "95%             12.000000                 0.0   93109.000000  \n",
       "99%             12.000000                 0.0   98596.000000  \n",
       "max             12.000000                 0.0   99998.000000  "
      ]
     },
     "execution_count": 19,
     "metadata": {},
     "output_type": "execute_result"
    },
    {
     "data": {
      "image/png": "[encoded data removed]",
      "text/plain": [
       "<Figure size 1296x864 with 12 Axes>"
      ]
     },
     "metadata": {
      "needs_background": "light"
     },
     "output_type": "display_data"
    }
   ],
   "source": [
    "data.hist(figsize = (18,12));\n",
    "data.describe(percentiles = [0.25,0.5,0.75,0.9,0.95,0.99])"
   ]
  },
  {
   "cell_type": "markdown",
   "metadata": {},
   "source": [
    "Колонка number_of_pictures пустая. Исключим её из датафрейма и из перечня числовых переменных."
   ]
  },
  {
   "cell_type": "code",
   "execution_count": 20,
   "metadata": {},
   "outputs": [],
   "source": [
    "data = data.drop(columns = 'number_of_pictures')"
   ]
  },
  {
   "cell_type": "markdown",
   "metadata": {},
   "source": [
    "Значения цен слишком близко распределены около нуля и есть нулевые. Хочу их отбросить, если их не очень много: нулевых продаж не бывает. Посмотрим на их долю."
   ]
  },
  {
   "cell_type": "code",
   "execution_count": 21,
   "metadata": {},
   "outputs": [
    {
     "data": {
      "text/plain": [
       "0    0.030398\n",
       "Name: price, dtype: float64"
      ]
     },
     "execution_count": 21,
     "metadata": {},
     "output_type": "execute_result"
    }
   ],
   "source": [
    "data['price'].value_counts(normalize = True)[[0]]"
   ]
  },
  {
   "cell_type": "markdown",
   "metadata": {},
   "source": [
    "Определим функцию для условного отбрасывания нежелательных строк, это ещё пригодится."
   ]
  },
  {
   "cell_type": "code",
   "execution_count": 22,
   "metadata": {},
   "outputs": [],
   "source": [
    "def drop_by_query(df, query):\n",
    "    display(df.shape[0])\n",
    "    df = df.query(query)\n",
    "    display(df.shape[0])\n",
    "    return df"
   ]
  },
  {
   "cell_type": "markdown",
   "metadata": {},
   "source": [
    "Отбросим строки с нулевыми значениями."
   ]
  },
  {
   "cell_type": "code",
   "execution_count": 23,
   "metadata": {
    "scrolled": true
   },
   "outputs": [
    {
     "data": {
      "text/plain": [
       "354365"
      ]
     },
     "metadata": {},
     "output_type": "display_data"
    },
    {
     "data": {
      "text/plain": [
       "343593"
      ]
     },
     "metadata": {},
     "output_type": "display_data"
    }
   ],
   "source": [
    "data = drop_by_query(data, 'price > 0')"
   ]
  },
  {
   "cell_type": "markdown",
   "metadata": {},
   "source": [
    "Кажется, есть нулевые значения в поле месяц регистрации. Проверим, правда ли у нас в датафрейме 13 месяцев."
   ]
  },
  {
   "cell_type": "code",
   "execution_count": 24,
   "metadata": {},
   "outputs": [
    {
     "data": {
      "text/plain": [
       "13"
      ]
     },
     "execution_count": 24,
     "metadata": {},
     "output_type": "execute_result"
    }
   ],
   "source": [
    "len(data['registration_month'].unique())"
   ]
  },
  {
   "cell_type": "markdown",
   "metadata": {},
   "source": [
    "А в нулевой месяц платят тринадцатую зарплату? Шутка.  \n",
    "\n",
    "Сделаем список случайных значений месяцев на основе нашего фрейма, для того, чтобы сохранить распределение, и перезапишем ими нулевые значения."
   ]
  },
  {
   "cell_type": "code",
   "execution_count": 25,
   "metadata": {},
   "outputs": [
    {
     "data": {
      "application/vnd.jupyter.widget-view+json": {
       "model_id": "bafaa6d1caf9471b9079ac2ab4578484",
       "version_major": 2,
       "version_minor": 0
      },
      "text/plain": [
       "  0%|          | 0/32881 [00:00<?, ?it/s]"
      ]
     },
     "metadata": {},
     "output_type": "display_data"
    },
    {
     "data": {
      "text/plain": [
       "count    343593.000000\n",
       "mean          6.392071\n",
       "std           3.349784\n",
       "min           1.000000\n",
       "25%           4.000000\n",
       "50%           6.000000\n",
       "75%           9.000000\n",
       "max          12.000000\n",
       "Name: registration_month, dtype: float64"
      ]
     },
     "execution_count": 25,
     "metadata": {},
     "output_type": "execute_result"
    }
   ],
   "source": [
    "random_month_list = data.query('registration_month != 0')['registration_month']\\\n",
    ".sample(n=len(data.loc[data['registration_month'] == 0])).tolist()\n",
    "\n",
    "index_list = data.loc[data['registration_month'] == 0].index.tolist()\n",
    "\n",
    "for i in tqdm(range(len(random_month_list))):\n",
    "    data.loc[index_list[i],'registration_month'] = random_month_list[i]\n",
    "\n",
    "data['registration_month'].describe()"
   ]
  },
  {
   "cell_type": "markdown",
   "metadata": {},
   "source": [
    "Напишем функцию для исследования выбросов. Применим её последовательно на годе регистрации и мощности авто."
   ]
  },
  {
   "cell_type": "code",
   "execution_count": 26,
   "metadata": {},
   "outputs": [],
   "source": [
    "def outlier_frame(df, column, lower = 0.1, higher=99.9):\n",
    "    outlier_frame = df[(df[column] < np.percentile(df[column], lower)) | \\\n",
    "     (df[column] > np.percentile(df[column], higher))][column].value_counts()\\\n",
    ".to_frame(name='count').reset_index().rename(columns = {'index':column}).sort_values(by=column)\n",
    "    display(f\"Значений-выбросов: {outlier_frame.shape[0]}\")\n",
    "    return outlier_frame"
   ]
  },
  {
   "cell_type": "code",
   "execution_count": 27,
   "metadata": {},
   "outputs": [
    {
     "data": {
      "text/plain": [
       "'Значений-выбросов: 81'"
      ]
     },
     "metadata": {},
     "output_type": "display_data"
    }
   ],
   "source": [
    "outlier_year = outlier_frame(data,'registration_year')"
   ]
  },
  {
   "cell_type": "markdown",
   "metadata": {},
   "source": [
    "Посмотрим на выбросы: какие у нас есть минимальные и максимальные годы. Минимальные посмотрим через .head(), максимальные - через срез: вытянем из date_crawled год и выберем максимальный, его и используем."
   ]
  },
  {
   "cell_type": "code",
   "execution_count": 28,
   "metadata": {},
   "outputs": [
    {
     "data": {
      "text/html": [
       "<div>\n",
       "<style scoped>\n",
       "    .dataframe tbody tr th:only-of-type {\n",
       "        vertical-align: middle;\n",
       "    }\n",
       "\n",
       "    .dataframe tbody tr th {\n",
       "        vertical-align: top;\n",
       "    }\n",
       "\n",
       "    .dataframe thead th {\n",
       "        text-align: right;\n",
       "    }\n",
       "</style>\n",
       "<table border=\"1\" class=\"dataframe\">\n",
       "  <thead>\n",
       "    <tr style=\"text-align: right;\">\n",
       "      <th></th>\n",
       "      <th>registration_year</th>\n",
       "      <th>count</th>\n",
       "    </tr>\n",
       "  </thead>\n",
       "  <tbody>\n",
       "    <tr>\n",
       "      <th>1</th>\n",
       "      <td>1000</td>\n",
       "      <td>31</td>\n",
       "    </tr>\n",
       "    <tr>\n",
       "      <th>80</th>\n",
       "      <td>1001</td>\n",
       "      <td>1</td>\n",
       "    </tr>\n",
       "    <tr>\n",
       "      <th>57</th>\n",
       "      <td>1039</td>\n",
       "      <td>1</td>\n",
       "    </tr>\n",
       "    <tr>\n",
       "      <th>60</th>\n",
       "      <td>1111</td>\n",
       "      <td>1</td>\n",
       "    </tr>\n",
       "    <tr>\n",
       "      <th>24</th>\n",
       "      <td>1234</td>\n",
       "      <td>4</td>\n",
       "    </tr>\n",
       "    <tr>\n",
       "      <th>70</th>\n",
       "      <td>1255</td>\n",
       "      <td>1</td>\n",
       "    </tr>\n",
       "    <tr>\n",
       "      <th>45</th>\n",
       "      <td>1300</td>\n",
       "      <td>2</td>\n",
       "    </tr>\n",
       "    <tr>\n",
       "      <th>78</th>\n",
       "      <td>1400</td>\n",
       "      <td>1</td>\n",
       "    </tr>\n",
       "    <tr>\n",
       "      <th>31</th>\n",
       "      <td>1500</td>\n",
       "      <td>3</td>\n",
       "    </tr>\n",
       "    <tr>\n",
       "      <th>48</th>\n",
       "      <td>1600</td>\n",
       "      <td>2</td>\n",
       "    </tr>\n",
       "    <tr>\n",
       "      <th>59</th>\n",
       "      <td>1602</td>\n",
       "      <td>1</td>\n",
       "    </tr>\n",
       "    <tr>\n",
       "      <th>19</th>\n",
       "      <td>1800</td>\n",
       "      <td>5</td>\n",
       "    </tr>\n",
       "    <tr>\n",
       "      <th>0</th>\n",
       "      <td>1910</td>\n",
       "      <td>56</td>\n",
       "    </tr>\n",
       "    <tr>\n",
       "      <th>32</th>\n",
       "      <td>1923</td>\n",
       "      <td>2</td>\n",
       "    </tr>\n",
       "    <tr>\n",
       "      <th>79</th>\n",
       "      <td>1925</td>\n",
       "      <td>1</td>\n",
       "    </tr>\n",
       "  </tbody>\n",
       "</table>\n",
       "</div>"
      ],
      "text/plain": [
       "    registration_year  count\n",
       "1                1000     31\n",
       "80               1001      1\n",
       "57               1039      1\n",
       "60               1111      1\n",
       "24               1234      4\n",
       "70               1255      1\n",
       "45               1300      2\n",
       "78               1400      1\n",
       "31               1500      3\n",
       "48               1600      2\n",
       "59               1602      1\n",
       "19               1800      5\n",
       "0                1910     56\n",
       "32               1923      2\n",
       "79               1925      1"
      ]
     },
     "metadata": {},
     "output_type": "display_data"
    },
    {
     "data": {
      "text/html": [
       "<div>\n",
       "<style scoped>\n",
       "    .dataframe tbody tr th:only-of-type {\n",
       "        vertical-align: middle;\n",
       "    }\n",
       "\n",
       "    .dataframe tbody tr th {\n",
       "        vertical-align: top;\n",
       "    }\n",
       "\n",
       "    .dataframe thead th {\n",
       "        text-align: right;\n",
       "    }\n",
       "</style>\n",
       "<table border=\"1\" class=\"dataframe\">\n",
       "  <thead>\n",
       "    <tr style=\"text-align: right;\">\n",
       "      <th></th>\n",
       "      <th>registration_year</th>\n",
       "      <th>count</th>\n",
       "    </tr>\n",
       "  </thead>\n",
       "  <tbody>\n",
       "    <tr>\n",
       "      <th>7</th>\n",
       "      <td>2019</td>\n",
       "      <td>16</td>\n",
       "    </tr>\n",
       "    <tr>\n",
       "      <th>58</th>\n",
       "      <td>2066</td>\n",
       "      <td>1</td>\n",
       "    </tr>\n",
       "    <tr>\n",
       "      <th>64</th>\n",
       "      <td>2200</td>\n",
       "      <td>1</td>\n",
       "    </tr>\n",
       "    <tr>\n",
       "      <th>65</th>\n",
       "      <td>2222</td>\n",
       "      <td>1</td>\n",
       "    </tr>\n",
       "    <tr>\n",
       "      <th>73</th>\n",
       "      <td>2290</td>\n",
       "      <td>1</td>\n",
       "    </tr>\n",
       "    <tr>\n",
       "      <th>30</th>\n",
       "      <td>2500</td>\n",
       "      <td>3</td>\n",
       "    </tr>\n",
       "    <tr>\n",
       "      <th>72</th>\n",
       "      <td>2800</td>\n",
       "      <td>1</td>\n",
       "    </tr>\n",
       "    <tr>\n",
       "      <th>76</th>\n",
       "      <td>2900</td>\n",
       "      <td>1</td>\n",
       "    </tr>\n",
       "    <tr>\n",
       "      <th>18</th>\n",
       "      <td>3000</td>\n",
       "      <td>6</td>\n",
       "    </tr>\n",
       "    <tr>\n",
       "      <th>63</th>\n",
       "      <td>3200</td>\n",
       "      <td>1</td>\n",
       "    </tr>\n",
       "    <tr>\n",
       "      <th>61</th>\n",
       "      <td>3700</td>\n",
       "      <td>1</td>\n",
       "    </tr>\n",
       "    <tr>\n",
       "      <th>69</th>\n",
       "      <td>3800</td>\n",
       "      <td>1</td>\n",
       "    </tr>\n",
       "    <tr>\n",
       "      <th>25</th>\n",
       "      <td>4000</td>\n",
       "      <td>3</td>\n",
       "    </tr>\n",
       "    <tr>\n",
       "      <th>53</th>\n",
       "      <td>4100</td>\n",
       "      <td>1</td>\n",
       "    </tr>\n",
       "    <tr>\n",
       "      <th>47</th>\n",
       "      <td>4500</td>\n",
       "      <td>2</td>\n",
       "    </tr>\n",
       "    <tr>\n",
       "      <th>68</th>\n",
       "      <td>4800</td>\n",
       "      <td>1</td>\n",
       "    </tr>\n",
       "    <tr>\n",
       "      <th>8</th>\n",
       "      <td>5000</td>\n",
       "      <td>16</td>\n",
       "    </tr>\n",
       "    <tr>\n",
       "      <th>66</th>\n",
       "      <td>5300</td>\n",
       "      <td>1</td>\n",
       "    </tr>\n",
       "    <tr>\n",
       "      <th>46</th>\n",
       "      <td>5555</td>\n",
       "      <td>2</td>\n",
       "    </tr>\n",
       "    <tr>\n",
       "      <th>52</th>\n",
       "      <td>5600</td>\n",
       "      <td>1</td>\n",
       "    </tr>\n",
       "    <tr>\n",
       "      <th>74</th>\n",
       "      <td>5900</td>\n",
       "      <td>1</td>\n",
       "    </tr>\n",
       "    <tr>\n",
       "      <th>37</th>\n",
       "      <td>5911</td>\n",
       "      <td>2</td>\n",
       "    </tr>\n",
       "    <tr>\n",
       "      <th>20</th>\n",
       "      <td>6000</td>\n",
       "      <td>5</td>\n",
       "    </tr>\n",
       "    <tr>\n",
       "      <th>77</th>\n",
       "      <td>6500</td>\n",
       "      <td>1</td>\n",
       "    </tr>\n",
       "    <tr>\n",
       "      <th>22</th>\n",
       "      <td>7000</td>\n",
       "      <td>4</td>\n",
       "    </tr>\n",
       "    <tr>\n",
       "      <th>51</th>\n",
       "      <td>7100</td>\n",
       "      <td>1</td>\n",
       "    </tr>\n",
       "    <tr>\n",
       "      <th>62</th>\n",
       "      <td>7800</td>\n",
       "      <td>1</td>\n",
       "    </tr>\n",
       "    <tr>\n",
       "      <th>42</th>\n",
       "      <td>8000</td>\n",
       "      <td>2</td>\n",
       "    </tr>\n",
       "    <tr>\n",
       "      <th>56</th>\n",
       "      <td>8200</td>\n",
       "      <td>1</td>\n",
       "    </tr>\n",
       "    <tr>\n",
       "      <th>75</th>\n",
       "      <td>8500</td>\n",
       "      <td>1</td>\n",
       "    </tr>\n",
       "    <tr>\n",
       "      <th>67</th>\n",
       "      <td>8888</td>\n",
       "      <td>1</td>\n",
       "    </tr>\n",
       "    <tr>\n",
       "      <th>43</th>\n",
       "      <td>9000</td>\n",
       "      <td>2</td>\n",
       "    </tr>\n",
       "    <tr>\n",
       "      <th>71</th>\n",
       "      <td>9450</td>\n",
       "      <td>1</td>\n",
       "    </tr>\n",
       "    <tr>\n",
       "      <th>5</th>\n",
       "      <td>9999</td>\n",
       "      <td>18</td>\n",
       "    </tr>\n",
       "  </tbody>\n",
       "</table>\n",
       "</div>"
      ],
      "text/plain": [
       "    registration_year  count\n",
       "7                2019     16\n",
       "58               2066      1\n",
       "64               2200      1\n",
       "65               2222      1\n",
       "73               2290      1\n",
       "30               2500      3\n",
       "72               2800      1\n",
       "76               2900      1\n",
       "18               3000      6\n",
       "63               3200      1\n",
       "61               3700      1\n",
       "69               3800      1\n",
       "25               4000      3\n",
       "53               4100      1\n",
       "47               4500      2\n",
       "68               4800      1\n",
       "8                5000     16\n",
       "66               5300      1\n",
       "46               5555      2\n",
       "52               5600      1\n",
       "74               5900      1\n",
       "37               5911      2\n",
       "20               6000      5\n",
       "77               6500      1\n",
       "22               7000      4\n",
       "51               7100      1\n",
       "62               7800      1\n",
       "42               8000      2\n",
       "56               8200      1\n",
       "75               8500      1\n",
       "67               8888      1\n",
       "43               9000      2\n",
       "71               9450      1\n",
       "5                9999     18"
      ]
     },
     "metadata": {},
     "output_type": "display_data"
    }
   ],
   "source": [
    "max_year = data['date_crawled'].max().year\n",
    "display(outlier_year.head(15))\n",
    "display(outlier_year.query('registration_year > @max_year'))"
   ]
  },
  {
   "cell_type": "markdown",
   "metadata": {},
   "source": [
    "Уберём выбросы. С помощью гугла узнаём: первая в мире регистрация автотранспортного средства случилась в 1893. "
   ]
  },
  {
   "cell_type": "code",
   "execution_count": 29,
   "metadata": {},
   "outputs": [
    {
     "data": {
      "text/plain": [
       "343593"
      ]
     },
     "metadata": {},
     "output_type": "display_data"
    },
    {
     "data": {
      "text/plain": [
       "329761"
      ]
     },
     "metadata": {},
     "output_type": "display_data"
    }
   ],
   "source": [
    "data = drop_by_query(data,'registration_year > 1893 and registration_year <= @max_year')"
   ]
  },
  {
   "cell_type": "markdown",
   "metadata": {},
   "source": [
    "Посмотрим, сколько у нас нулевых значений мощности."
   ]
  },
  {
   "cell_type": "code",
   "execution_count": 30,
   "metadata": {},
   "outputs": [
    {
     "data": {
      "text/plain": [
       "0.09966612182762667"
      ]
     },
     "execution_count": 30,
     "metadata": {},
     "output_type": "execute_result"
    }
   ],
   "source": [
    "data['power'].value_counts(normalize = True)[0]"
   ]
  },
  {
   "cell_type": "code",
   "execution_count": 31,
   "metadata": {},
   "outputs": [
    {
     "data": {
      "text/plain": [
       "'Значений-выбросов: 299'"
      ]
     },
     "metadata": {},
     "output_type": "display_data"
    }
   ],
   "source": [
    "outlier_power = outlier_frame(data, 'power', lower = 12)"
   ]
  },
  {
   "cell_type": "markdown",
   "metadata": {},
   "source": [
    "Посмотрим на эти выбросы."
   ]
  },
  {
   "cell_type": "code",
   "execution_count": 32,
   "metadata": {},
   "outputs": [
    {
     "data": {
      "text/html": [
       "<div>\n",
       "<style scoped>\n",
       "    .dataframe tbody tr th:only-of-type {\n",
       "        vertical-align: middle;\n",
       "    }\n",
       "\n",
       "    .dataframe tbody tr th {\n",
       "        vertical-align: top;\n",
       "    }\n",
       "\n",
       "    .dataframe thead th {\n",
       "        text-align: right;\n",
       "    }\n",
       "</style>\n",
       "<table border=\"1\" class=\"dataframe\">\n",
       "  <thead>\n",
       "    <tr style=\"text-align: right;\">\n",
       "      <th></th>\n",
       "      <th>power</th>\n",
       "      <th>count</th>\n",
       "    </tr>\n",
       "  </thead>\n",
       "  <tbody>\n",
       "    <tr>\n",
       "      <th>0</th>\n",
       "      <td>0</td>\n",
       "      <td>32866</td>\n",
       "    </tr>\n",
       "    <tr>\n",
       "      <th>24</th>\n",
       "      <td>1</td>\n",
       "      <td>26</td>\n",
       "    </tr>\n",
       "    <tr>\n",
       "      <th>37</th>\n",
       "      <td>2</td>\n",
       "      <td>9</td>\n",
       "    </tr>\n",
       "    <tr>\n",
       "      <th>39</th>\n",
       "      <td>3</td>\n",
       "      <td>8</td>\n",
       "    </tr>\n",
       "    <tr>\n",
       "      <th>20</th>\n",
       "      <td>4</td>\n",
       "      <td>30</td>\n",
       "    </tr>\n",
       "    <tr>\n",
       "      <th>9</th>\n",
       "      <td>5</td>\n",
       "      <td>101</td>\n",
       "    </tr>\n",
       "    <tr>\n",
       "      <th>34</th>\n",
       "      <td>6</td>\n",
       "      <td>11</td>\n",
       "    </tr>\n",
       "    <tr>\n",
       "      <th>36</th>\n",
       "      <td>7</td>\n",
       "      <td>10</td>\n",
       "    </tr>\n",
       "    <tr>\n",
       "      <th>43</th>\n",
       "      <td>8</td>\n",
       "      <td>7</td>\n",
       "    </tr>\n",
       "    <tr>\n",
       "      <th>48</th>\n",
       "      <td>9</td>\n",
       "      <td>5</td>\n",
       "    </tr>\n",
       "    <tr>\n",
       "      <th>33</th>\n",
       "      <td>10</td>\n",
       "      <td>12</td>\n",
       "    </tr>\n",
       "    <tr>\n",
       "      <th>23</th>\n",
       "      <td>11</td>\n",
       "      <td>28</td>\n",
       "    </tr>\n",
       "    <tr>\n",
       "      <th>30</th>\n",
       "      <td>12</td>\n",
       "      <td>17</td>\n",
       "    </tr>\n",
       "    <tr>\n",
       "      <th>44</th>\n",
       "      <td>13</td>\n",
       "      <td>6</td>\n",
       "    </tr>\n",
       "    <tr>\n",
       "      <th>29</th>\n",
       "      <td>14</td>\n",
       "      <td>19</td>\n",
       "    </tr>\n",
       "  </tbody>\n",
       "</table>\n",
       "</div>"
      ],
      "text/plain": [
       "    power  count\n",
       "0       0  32866\n",
       "24      1     26\n",
       "37      2      9\n",
       "39      3      8\n",
       "20      4     30\n",
       "9       5    101\n",
       "34      6     11\n",
       "36      7     10\n",
       "43      8      7\n",
       "48      9      5\n",
       "33     10     12\n",
       "23     11     28\n",
       "30     12     17\n",
       "44     13      6\n",
       "29     14     19"
      ]
     },
     "metadata": {},
     "output_type": "display_data"
    },
    {
     "data": {
      "text/html": [
       "<div>\n",
       "<style scoped>\n",
       "    .dataframe tbody tr th:only-of-type {\n",
       "        vertical-align: middle;\n",
       "    }\n",
       "\n",
       "    .dataframe tbody tr th {\n",
       "        vertical-align: top;\n",
       "    }\n",
       "\n",
       "    .dataframe thead th {\n",
       "        text-align: right;\n",
       "    }\n",
       "</style>\n",
       "<table border=\"1\" class=\"dataframe\">\n",
       "  <thead>\n",
       "    <tr style=\"text-align: right;\">\n",
       "      <th></th>\n",
       "      <th>power</th>\n",
       "      <th>count</th>\n",
       "    </tr>\n",
       "  </thead>\n",
       "  <tbody>\n",
       "    <tr>\n",
       "      <th>170</th>\n",
       "      <td>1501</td>\n",
       "      <td>1</td>\n",
       "    </tr>\n",
       "    <tr>\n",
       "      <th>157</th>\n",
       "      <td>1502</td>\n",
       "      <td>1</td>\n",
       "    </tr>\n",
       "    <tr>\n",
       "      <th>69</th>\n",
       "      <td>1503</td>\n",
       "      <td>2</td>\n",
       "    </tr>\n",
       "    <tr>\n",
       "      <th>102</th>\n",
       "      <td>1506</td>\n",
       "      <td>1</td>\n",
       "    </tr>\n",
       "    <tr>\n",
       "      <th>276</th>\n",
       "      <td>1521</td>\n",
       "      <td>1</td>\n",
       "    </tr>\n",
       "    <tr>\n",
       "      <th>...</th>\n",
       "      <td>...</td>\n",
       "      <td>...</td>\n",
       "    </tr>\n",
       "    <tr>\n",
       "      <th>128</th>\n",
       "      <td>17932</td>\n",
       "      <td>1</td>\n",
       "    </tr>\n",
       "    <tr>\n",
       "      <th>191</th>\n",
       "      <td>19208</td>\n",
       "      <td>1</td>\n",
       "    </tr>\n",
       "    <tr>\n",
       "      <th>121</th>\n",
       "      <td>19211</td>\n",
       "      <td>1</td>\n",
       "    </tr>\n",
       "    <tr>\n",
       "      <th>105</th>\n",
       "      <td>19312</td>\n",
       "      <td>1</td>\n",
       "    </tr>\n",
       "    <tr>\n",
       "      <th>227</th>\n",
       "      <td>20000</td>\n",
       "      <td>1</td>\n",
       "    </tr>\n",
       "  </tbody>\n",
       "</table>\n",
       "<p>141 rows × 2 columns</p>\n",
       "</div>"
      ],
      "text/plain": [
       "     power  count\n",
       "170   1501      1\n",
       "157   1502      1\n",
       "69    1503      2\n",
       "102   1506      1\n",
       "276   1521      1\n",
       "..     ...    ...\n",
       "128  17932      1\n",
       "191  19208      1\n",
       "121  19211      1\n",
       "105  19312      1\n",
       "227  20000      1\n",
       "\n",
       "[141 rows x 2 columns]"
      ]
     },
     "metadata": {},
     "output_type": "display_data"
    }
   ],
   "source": [
    "display(outlier_power.head(15))\n",
    "display(outlier_power.query('power > 1500'))"
   ]
  },
  {
   "cell_type": "markdown",
   "metadata": {},
   "source": [
    "В гугле узнаём: максимальная мощность авто, которое выходило в свободную продажу - 1914 л.с. Остальное уберём."
   ]
  },
  {
   "cell_type": "code",
   "execution_count": 33,
   "metadata": {
    "scrolled": true
   },
   "outputs": [
    {
     "data": {
      "text/plain": [
       "329761"
      ]
     },
     "metadata": {},
     "output_type": "display_data"
    },
    {
     "data": {
      "text/plain": [
       "296777"
      ]
     },
     "metadata": {},
     "output_type": "display_data"
    }
   ],
   "source": [
    "data = drop_by_query(data,'power > 0 and power <= 1914')"
   ]
  },
  {
   "cell_type": "markdown",
   "metadata": {},
   "source": [
    "Посмотрим, как теперь распределены наши признаки."
   ]
  },
  {
   "cell_type": "code",
   "execution_count": 34,
   "metadata": {
    "scrolled": false
   },
   "outputs": [
    {
     "data": {
      "text/html": [
       "<div>\n",
       "<style scoped>\n",
       "    .dataframe tbody tr th:only-of-type {\n",
       "        vertical-align: middle;\n",
       "    }\n",
       "\n",
       "    .dataframe tbody tr th {\n",
       "        vertical-align: top;\n",
       "    }\n",
       "\n",
       "    .dataframe thead th {\n",
       "        text-align: right;\n",
       "    }\n",
       "</style>\n",
       "<table border=\"1\" class=\"dataframe\">\n",
       "  <thead>\n",
       "    <tr style=\"text-align: right;\">\n",
       "      <th></th>\n",
       "      <th>price</th>\n",
       "      <th>registration_year</th>\n",
       "      <th>power</th>\n",
       "      <th>kilometer</th>\n",
       "      <th>registration_month</th>\n",
       "      <th>postal_code</th>\n",
       "    </tr>\n",
       "  </thead>\n",
       "  <tbody>\n",
       "    <tr>\n",
       "      <th>count</th>\n",
       "      <td>296777.000000</td>\n",
       "      <td>296777.000000</td>\n",
       "      <td>296777.000000</td>\n",
       "      <td>296777.000000</td>\n",
       "      <td>296777.000000</td>\n",
       "      <td>296777.000000</td>\n",
       "    </tr>\n",
       "    <tr>\n",
       "      <th>mean</th>\n",
       "      <td>4853.628836</td>\n",
       "      <td>2002.814366</td>\n",
       "      <td>121.347463</td>\n",
       "      <td>128261.101770</td>\n",
       "      <td>6.380609</td>\n",
       "      <td>51233.282377</td>\n",
       "    </tr>\n",
       "    <tr>\n",
       "      <th>std</th>\n",
       "      <td>4611.745992</td>\n",
       "      <td>6.559101</td>\n",
       "      <td>61.934574</td>\n",
       "      <td>36810.512771</td>\n",
       "      <td>3.347692</td>\n",
       "      <td>25783.138618</td>\n",
       "    </tr>\n",
       "    <tr>\n",
       "      <th>min</th>\n",
       "      <td>1.000000</td>\n",
       "      <td>1910.000000</td>\n",
       "      <td>1.000000</td>\n",
       "      <td>5000.000000</td>\n",
       "      <td>1.000000</td>\n",
       "      <td>1067.000000</td>\n",
       "    </tr>\n",
       "    <tr>\n",
       "      <th>25%</th>\n",
       "      <td>1349.000000</td>\n",
       "      <td>1999.000000</td>\n",
       "      <td>75.000000</td>\n",
       "      <td>125000.000000</td>\n",
       "      <td>4.000000</td>\n",
       "      <td>30926.000000</td>\n",
       "    </tr>\n",
       "    <tr>\n",
       "      <th>50%</th>\n",
       "      <td>3200.000000</td>\n",
       "      <td>2003.000000</td>\n",
       "      <td>111.000000</td>\n",
       "      <td>150000.000000</td>\n",
       "      <td>6.000000</td>\n",
       "      <td>50259.000000</td>\n",
       "    </tr>\n",
       "    <tr>\n",
       "      <th>75%</th>\n",
       "      <td>6999.000000</td>\n",
       "      <td>2007.000000</td>\n",
       "      <td>150.000000</td>\n",
       "      <td>150000.000000</td>\n",
       "      <td>9.000000</td>\n",
       "      <td>72108.000000</td>\n",
       "    </tr>\n",
       "    <tr>\n",
       "      <th>90%</th>\n",
       "      <td>12000.000000</td>\n",
       "      <td>2011.000000</td>\n",
       "      <td>190.000000</td>\n",
       "      <td>150000.000000</td>\n",
       "      <td>11.000000</td>\n",
       "      <td>88212.000000</td>\n",
       "    </tr>\n",
       "    <tr>\n",
       "      <th>95%</th>\n",
       "      <td>14999.000000</td>\n",
       "      <td>2012.000000</td>\n",
       "      <td>224.000000</td>\n",
       "      <td>150000.000000</td>\n",
       "      <td>12.000000</td>\n",
       "      <td>93158.000000</td>\n",
       "    </tr>\n",
       "    <tr>\n",
       "      <th>99%</th>\n",
       "      <td>18900.000000</td>\n",
       "      <td>2016.000000</td>\n",
       "      <td>306.000000</td>\n",
       "      <td>150000.000000</td>\n",
       "      <td>12.000000</td>\n",
       "      <td>98593.000000</td>\n",
       "    </tr>\n",
       "    <tr>\n",
       "      <th>max</th>\n",
       "      <td>20000.000000</td>\n",
       "      <td>2016.000000</td>\n",
       "      <td>1900.000000</td>\n",
       "      <td>150000.000000</td>\n",
       "      <td>12.000000</td>\n",
       "      <td>99998.000000</td>\n",
       "    </tr>\n",
       "  </tbody>\n",
       "</table>\n",
       "</div>"
      ],
      "text/plain": [
       "               price  registration_year          power      kilometer  \\\n",
       "count  296777.000000      296777.000000  296777.000000  296777.000000   \n",
       "mean     4853.628836        2002.814366     121.347463  128261.101770   \n",
       "std      4611.745992           6.559101      61.934574   36810.512771   \n",
       "min         1.000000        1910.000000       1.000000    5000.000000   \n",
       "25%      1349.000000        1999.000000      75.000000  125000.000000   \n",
       "50%      3200.000000        2003.000000     111.000000  150000.000000   \n",
       "75%      6999.000000        2007.000000     150.000000  150000.000000   \n",
       "90%     12000.000000        2011.000000     190.000000  150000.000000   \n",
       "95%     14999.000000        2012.000000     224.000000  150000.000000   \n",
       "99%     18900.000000        2016.000000     306.000000  150000.000000   \n",
       "max     20000.000000        2016.000000    1900.000000  150000.000000   \n",
       "\n",
       "       registration_month    postal_code  \n",
       "count       296777.000000  296777.000000  \n",
       "mean             6.380609   51233.282377  \n",
       "std              3.347692   25783.138618  \n",
       "min              1.000000    1067.000000  \n",
       "25%              4.000000   30926.000000  \n",
       "50%              6.000000   50259.000000  \n",
       "75%              9.000000   72108.000000  \n",
       "90%             11.000000   88212.000000  \n",
       "95%             12.000000   93158.000000  \n",
       "99%             12.000000   98593.000000  \n",
       "max             12.000000   99998.000000  "
      ]
     },
     "execution_count": 34,
     "metadata": {},
     "output_type": "execute_result"
    },
    {
     "data": {
      "image/png": "[encoded data removed]",
      "text/plain": [
       "<Figure size 1296x864 with 9 Axes>"
      ]
     },
     "metadata": {
      "needs_background": "light"
     },
     "output_type": "display_data"
    }
   ],
   "source": [
    "data.hist(figsize = (18,12));\n",
    "data.describe(percentiles = [0.25,0.5,0.75,0.9,0.95,0.99])"
   ]
  },
  {
   "cell_type": "markdown",
   "metadata": {},
   "source": [
    "Теперь гораздо адекватнее."
   ]
  },
  {
   "cell_type": "markdown",
   "metadata": {},
   "source": [
    "### Вывод:\n",
    "\n",
    "- Исключены дубликаты, выбросы, устранены пропуски в категориальных переменных."
   ]
  },
  {
   "cell_type": "markdown",
   "metadata": {},
   "source": [
    "## Обучение моделей"
   ]
  },
  {
   "cell_type": "markdown",
   "metadata": {},
   "source": [
    "### Подготовка признаков"
   ]
  },
  {
   "cell_type": "markdown",
   "metadata": {},
   "source": [
    "Сначала отбросим признаки, которые используются для идентификации каждого объявления, затем проверим, нет ли дубликатов, и разделим признаки на обучающие и целевой, затем разделим на тренировочную, валидационную и тестовую выборки.  \n",
    "\n",
    "Затем закодируем категориальные признаки с помощью BinaryEncoder, раздельно на каждой выборке для исключения утечки информации из тренировочных данных в тестовые. "
   ]
  },
  {
   "cell_type": "code",
   "execution_count": 35,
   "metadata": {},
   "outputs": [
    {
     "data": {
      "text/plain": [
       "(296777, 11)"
      ]
     },
     "metadata": {},
     "output_type": "display_data"
    },
    {
     "data": {
      "text/plain": [
       "(296777,)"
      ]
     },
     "metadata": {},
     "output_type": "display_data"
    }
   ],
   "source": [
    "features = data.drop(columns = ['price','date_crawled', 'date_created', 'last_seen'])\n",
    "target = data['price']\n",
    "\n",
    "for feature in [features,target]:\n",
    "    display(feature.shape)"
   ]
  },
  {
   "cell_type": "code",
   "execution_count": 36,
   "metadata": {},
   "outputs": [
    {
     "data": {
      "text/plain": [
       "29413"
      ]
     },
     "execution_count": 36,
     "metadata": {},
     "output_type": "execute_result"
    }
   ],
   "source": [
    "features.duplicated().sum()"
   ]
  },
  {
   "cell_type": "code",
   "execution_count": 37,
   "metadata": {},
   "outputs": [
    {
     "name": "stdout",
     "output_type": "stream",
     "text": [
      "features:\n",
      "(267364, 11)\n",
      "target:\n",
      "(267364,)\n"
     ]
    }
   ],
   "source": [
    "target = target.drop(index = features[features.duplicated() == True].index)\n",
    "features = features.drop_duplicates().reset_index(drop=True)\n",
    "\n",
    "for element in ['features','target']:\n",
    "    print(f\"{element}:\")\n",
    "    print(eval(element).shape)"
   ]
  },
  {
   "cell_type": "code",
   "execution_count": 38,
   "metadata": {},
   "outputs": [
    {
     "name": "stdout",
     "output_type": "stream",
     "text": [
      "Length of features_train: 160418 \n",
      "\n",
      "Length of target_train: 160418 \n",
      "\n",
      "Length of features_valid: 53473 \n",
      "\n",
      "Length of target_valid: 53473 \n",
      "\n",
      "Length of features_test: 53473 \n",
      "\n",
      "Length of target_test: 53473 \n",
      "\n"
     ]
    }
   ],
   "source": [
    "features_train, features_test, target_train, target_test = train_test_split(features, target,\\\n",
    "                                                                                    test_size=0.2,random_state=1234)\n",
    "features_train, features_valid, target_train, target_valid = train_test_split(features_train, target_train,\\\n",
    "                                                                                    test_size=0.25,random_state=1234)\n",
    "\n",
    "sample_list = ['train','valid','test']\n",
    "split_list = ['features', 'target']\n",
    "\n",
    "for sample in sample_list:\n",
    "    for split in split_list:\n",
    "        print (f'Length of {split}_{sample}:', len(eval(''.join([split,'_',sample]))),'\\n')"
   ]
  },
  {
   "cell_type": "code",
   "execution_count": 39,
   "metadata": {},
   "outputs": [
    {
     "data": {
      "text/plain": [
       "(160418, 45)"
      ]
     },
     "execution_count": 39,
     "metadata": {},
     "output_type": "execute_result"
    }
   ],
   "source": [
    "be = BinaryEncoder(cols = cat_features, \n",
    "                   handle_unknown = 'indicator', \n",
    "                   handle_missing ='indicator')\n",
    "\n",
    "features_train = be.fit_transform(features_train)\n",
    "features_train.shape"
   ]
  },
  {
   "cell_type": "code",
   "execution_count": 40,
   "metadata": {
    "scrolled": true
   },
   "outputs": [
    {
     "name": "stdout",
     "output_type": "stream",
     "text": [
      "(53473, 45)\n",
      "(53473, 45)\n"
     ]
    }
   ],
   "source": [
    "features_valid = be.transform(features_valid)\n",
    "features_test = be.transform(features_test)\n",
    "\n",
    "for f in [features_valid,features_test]:\n",
    "    print(f.shape)"
   ]
  },
  {
   "cell_type": "markdown",
   "metadata": {},
   "source": [
    "С помощью BinaryEncoder мы закодировали все наши уникальные значения всего 45 столбцами вместо 8450! "
   ]
  },
  {
   "cell_type": "markdown",
   "metadata": {},
   "source": [
    "Теперь приступим к обучению моделей. Перебирать значения гиперпараметров будем с помощью BayesSearchCV, для этого впоследствии объединим валидационную и тренировочную выборки."
   ]
  },
  {
   "cell_type": "markdown",
   "metadata": {},
   "source": [
    "Также создадим датафрейм для сохранения результатов каждой модели. "
   ]
  },
  {
   "cell_type": "markdown",
   "metadata": {},
   "source": [
    "### Линейная регрессия \n",
    "Первой опробуем модель линейной регрессии."
   ]
  },
  {
   "cell_type": "code",
   "execution_count": 41,
   "metadata": {},
   "outputs": [
    {
     "name": "stdout",
     "output_type": "stream",
     "text": [
      "Для модели линейной регрессии RMSE = 3075.12 за 1.31 сек.\n"
     ]
    }
   ],
   "source": [
    "model = LinearRegression()\n",
    "\n",
    "start = time.time()\n",
    "model.fit(features_train, target_train)\n",
    "stop = time.time()\n",
    "\n",
    "fit_time = stop-start\n",
    "\n",
    "prediction = model.predict(features_valid)\n",
    "score = mse(target_valid, prediction)**0.5\n",
    "lin_dict= {'score':score,'learn_time':fit_time,'fit_time':fit_time,'params':'', 'model':model}\n",
    "print (f\"Для модели линейной регрессии RMSE = {score:0.2f} за {fit_time:0.2f} сек.\")"
   ]
  },
  {
   "cell_type": "markdown",
   "metadata": {},
   "source": [
    "Теперь, как и планировалось, объединяем тренировочную и валидационную выборку обратно для кросс-валидации."
   ]
  },
  {
   "cell_type": "code",
   "execution_count": 42,
   "metadata": {},
   "outputs": [],
   "source": [
    "features_train =  pd.concat([features_train, features_valid])\n",
    "target_train = pd.concat([target_train, target_valid])"
   ]
  },
  {
   "cell_type": "markdown",
   "metadata": {},
   "source": [
    "Используем callback для ограничения времени работы функции подбора гиперпараметров (когда дельта между лучшими результатами будет не больше заданного значения - функция остановит работу)\n",
    "\n",
    "Также напишем собственно рабочую функцию *search-time-save* - она будет искать гиперпараметры, мерить время подбора и обучения и сохранять всё это."
   ]
  },
  {
   "cell_type": "code",
   "execution_count": 53,
   "metadata": {},
   "outputs": [],
   "source": [
    "callback = DeltaYStopper(delta=200)  "
   ]
  },
  {
   "cell_type": "code",
   "execution_count": 51,
   "metadata": {},
   "outputs": [],
   "source": [
    "def search_time_save(model, parameters, features = features_train,target = target_train):\n",
    "    grid = BayesSearchCV(model, parameters, \n",
    "                         scoring = 'neg_root_mean_squared_error', cv=3, verbose = 1)\n",
    "    start = time.time()\n",
    "    grid.fit(features, target, callback = callback)\n",
    "    stop = time.time()\n",
    "    \n",
    "    learn_time = stop-start\n",
    "    \n",
    "    score = abs(grid.best_score_)\n",
    "    print()\n",
    "    print (f\"Для выбранной модели наилучший результат = {score:0.2f} за {learn_time:0.2f} сек.\")\n",
    "    model_dict = {'score':score,\n",
    "                  'learn_time':learn_time,\n",
    "                  'fit_time':grid.refit_time_,\n",
    "                  'params':grid.best_params_,\n",
    "                  'model':grid.best_estimator_}\n",
    "    return model_dict"
   ]
  },
  {
   "cell_type": "markdown",
   "metadata": {},
   "source": [
    "### Случайное дерево"
   ]
  },
  {
   "cell_type": "code",
   "execution_count": 54,
   "metadata": {
    "scrolled": true
   },
   "outputs": [
    {
     "name": "stdout",
     "output_type": "stream",
     "text": [
      "Fitting 3 folds for each of 1 candidates, totalling 3 fits\n",
      "Fitting 3 folds for each of 1 candidates, totalling 3 fits\n",
      "Fitting 3 folds for each of 1 candidates, totalling 3 fits\n",
      "Fitting 3 folds for each of 1 candidates, totalling 3 fits\n",
      "Fitting 3 folds for each of 1 candidates, totalling 3 fits\n",
      "Fitting 3 folds for each of 1 candidates, totalling 3 fits\n",
      "\n",
      "Для выбранной модели наилучший результат = 1991.43 за 22.75 сек.\n"
     ]
    }
   ],
   "source": [
    "model = DecisionTreeRegressor()\n",
    "\n",
    "parameters = {'max_depth': [*range (1,31)],\n",
    "             'random_state': [STATE]}\n",
    "\n",
    "tree_dict  = search_time_save(model, parameters)"
   ]
  },
  {
   "cell_type": "markdown",
   "metadata": {},
   "source": [
    "### Случайный лес"
   ]
  },
  {
   "cell_type": "code",
   "execution_count": 55,
   "metadata": {
    "scrolled": true
   },
   "outputs": [
    {
     "name": "stdout",
     "output_type": "stream",
     "text": [
      "Fitting 3 folds for each of 1 candidates, totalling 3 fits\n",
      "Fitting 3 folds for each of 1 candidates, totalling 3 fits\n",
      "Fitting 3 folds for each of 1 candidates, totalling 3 fits\n",
      "Fitting 3 folds for each of 1 candidates, totalling 3 fits\n",
      "Fitting 3 folds for each of 1 candidates, totalling 3 fits\n",
      "\n",
      "Для выбранной модели наилучший результат = 1843.80 за 982.25 сек.\n"
     ]
    }
   ],
   "source": [
    "model = RandomForestRegressor()\n",
    "\n",
    "parameters = {'n_estimators': [*range(50,150,10)],\n",
    "             'max_depth': [*range (8,12)],\n",
    "             'random_state': [STATE]}\n",
    "\n",
    "forest_dict = search_time_save(model, parameters)"
   ]
  },
  {
   "cell_type": "code",
   "execution_count": 56,
   "metadata": {
    "scrolled": true
   },
   "outputs": [
    {
     "name": "stdout",
     "output_type": "stream",
     "text": [
      "Fitting 3 folds for each of 1 candidates, totalling 3 fits\n",
      "Fitting 3 folds for each of 1 candidates, totalling 3 fits\n",
      "Fitting 3 folds for each of 1 candidates, totalling 3 fits\n",
      "Fitting 3 folds for each of 1 candidates, totalling 3 fits\n",
      "Fitting 3 folds for each of 1 candidates, totalling 3 fits\n",
      "\n",
      "Для выбранной модели наилучший результат = 1694.33 за 93.60 сек.\n"
     ]
    }
   ],
   "source": [
    "model = lgb.LGBMRegressor(boosting_type='gbdt', objective = 'regression', metric = 'RMSE')\n",
    "\n",
    "parameters =  {'learning_rate':[0.05,0.1,0.15],\n",
    "              'random_state': [STATE],\n",
    "              'n_estimators':[*range(50,150,10)],\n",
    "              'min_child_samples':[*range(20,50,10)]\n",
    "}\n",
    "\n",
    "lgb_dict = search_time_save(model, parameters)"
   ]
  },
  {
   "cell_type": "markdown",
   "metadata": {},
   "source": [
    "Сведём всё в один датафрейм."
   ]
  },
  {
   "cell_type": "code",
   "execution_count": 60,
   "metadata": {
    "scrolled": true
   },
   "outputs": [
    {
     "data": {
      "text/html": [
       "<div>\n",
       "<style scoped>\n",
       "    .dataframe tbody tr th:only-of-type {\n",
       "        vertical-align: middle;\n",
       "    }\n",
       "\n",
       "    .dataframe tbody tr th {\n",
       "        vertical-align: top;\n",
       "    }\n",
       "\n",
       "    .dataframe thead th {\n",
       "        text-align: right;\n",
       "    }\n",
       "</style>\n",
       "<table border=\"1\" class=\"dataframe\">\n",
       "  <thead>\n",
       "    <tr style=\"text-align: right;\">\n",
       "      <th></th>\n",
       "      <th>score</th>\n",
       "      <th>learn_time</th>\n",
       "      <th>fit_time</th>\n",
       "    </tr>\n",
       "  </thead>\n",
       "  <tbody>\n",
       "    <tr>\n",
       "      <th>lgb</th>\n",
       "      <td>1694.333106</td>\n",
       "      <td>93.597274</td>\n",
       "      <td>6.206894</td>\n",
       "    </tr>\n",
       "    <tr>\n",
       "      <th>forest</th>\n",
       "      <td>1843.800662</td>\n",
       "      <td>982.254012</td>\n",
       "      <td>104.429643</td>\n",
       "    </tr>\n",
       "    <tr>\n",
       "      <th>tree</th>\n",
       "      <td>1991.430966</td>\n",
       "      <td>22.753519</td>\n",
       "      <td>1.401616</td>\n",
       "    </tr>\n",
       "    <tr>\n",
       "      <th>lin</th>\n",
       "      <td>3075.116825</td>\n",
       "      <td>1.312763</td>\n",
       "      <td>1.312763</td>\n",
       "    </tr>\n",
       "  </tbody>\n",
       "</table>\n",
       "</div>"
      ],
      "text/plain": [
       "              score  learn_time    fit_time\n",
       "lgb     1694.333106   93.597274    6.206894\n",
       "forest  1843.800662  982.254012  104.429643\n",
       "tree    1991.430966   22.753519    1.401616\n",
       "lin     3075.116825    1.312763    1.312763"
      ]
     },
     "execution_count": 60,
     "metadata": {},
     "output_type": "execute_result"
    }
   ],
   "source": [
    "dict_list = [lin_dict, tree_dict, forest_dict, lgb_dict]\n",
    "\n",
    "model_scores = pd.DataFrame(dict_list, index = ['lin','tree','forest','lgb']).drop(columns=['params','model'])\\\n",
    ".sort_values(by='score')\n",
    "model_scores"
   ]
  },
  {
   "cell_type": "markdown",
   "metadata": {},
   "source": [
    "\n",
    "Лучшие результаты по сочетанию точности и скорости подбора параметров показала модель LightGBM. Попробуем отдельно посмотреть на время предсказания моделей с наилучшими параметрами. Хорошо, что мы их сохранили."
   ]
  },
  {
   "cell_type": "code",
   "execution_count": 58,
   "metadata": {},
   "outputs": [
    {
     "data": {
      "application/vnd.jupyter.widget-view+json": {
       "model_id": "681e89b856c44ef39e060e75f9adb4fd",
       "version_major": 2,
       "version_minor": 0
      },
      "text/plain": [
       "  0%|          | 0/4 [00:00<?, ?it/s]"
      ]
     },
     "metadata": {},
     "output_type": "display_data"
    },
    {
     "data": {
      "text/html": [
       "<div>\n",
       "<style scoped>\n",
       "    .dataframe tbody tr th:only-of-type {\n",
       "        vertical-align: middle;\n",
       "    }\n",
       "\n",
       "    .dataframe tbody tr th {\n",
       "        vertical-align: top;\n",
       "    }\n",
       "\n",
       "    .dataframe thead th {\n",
       "        text-align: right;\n",
       "    }\n",
       "</style>\n",
       "<table border=\"1\" class=\"dataframe\">\n",
       "  <thead>\n",
       "    <tr style=\"text-align: right;\">\n",
       "      <th></th>\n",
       "      <th>score</th>\n",
       "      <th>learn_time</th>\n",
       "      <th>fit_time</th>\n",
       "      <th>best_model_predict_time</th>\n",
       "    </tr>\n",
       "  </thead>\n",
       "  <tbody>\n",
       "    <tr>\n",
       "      <th>lgb</th>\n",
       "      <td>1694.333106</td>\n",
       "      <td>93.597274</td>\n",
       "      <td>6.206894</td>\n",
       "      <td>0.362877</td>\n",
       "    </tr>\n",
       "    <tr>\n",
       "      <th>forest</th>\n",
       "      <td>1843.800662</td>\n",
       "      <td>982.254012</td>\n",
       "      <td>104.429643</td>\n",
       "      <td>0.687753</td>\n",
       "    </tr>\n",
       "    <tr>\n",
       "      <th>tree</th>\n",
       "      <td>1991.430966</td>\n",
       "      <td>22.753519</td>\n",
       "      <td>1.401616</td>\n",
       "      <td>0.014453</td>\n",
       "    </tr>\n",
       "    <tr>\n",
       "      <th>lin</th>\n",
       "      <td>3075.116825</td>\n",
       "      <td>1.312763</td>\n",
       "      <td>1.312763</td>\n",
       "      <td>0.010465</td>\n",
       "    </tr>\n",
       "  </tbody>\n",
       "</table>\n",
       "</div>"
      ],
      "text/plain": [
       "              score  learn_time    fit_time  best_model_predict_time\n",
       "lgb     1694.333106   93.597274    6.206894                 0.362877\n",
       "forest  1843.800662  982.254012  104.429643                 0.687753\n",
       "tree    1991.430966   22.753519    1.401616                 0.014453\n",
       "lin     3075.116825    1.312763    1.312763                 0.010465"
      ]
     },
     "execution_count": 58,
     "metadata": {},
     "output_type": "execute_result"
    }
   ],
   "source": [
    "predict_time_list = []\n",
    "\n",
    "for model in tqdm(model_scores.index):\n",
    "    model = eval('_'.join([model,\"dict['model']\"]))\n",
    "    start = time.time()\n",
    "    \n",
    "    # мы здесь используем валидационную выборку, которую ранее, до кросс-валидации, присовокупили к тренировочной.\n",
    "    # мне это не нравится, но поскольку цель не получить оценку точности модели, а просто замерить время её работы,\n",
    "    # закрыл на это глаза. \n",
    "    \n",
    "    prediction = model.predict(features_valid)\n",
    "    stop = time.time()\n",
    "    predict_time_list.append(stop-start)\n",
    "\n",
    "model_scores['best_model_predict_time'] = predict_time_list\n",
    "model_scores"
   ]
  },
  {
   "cell_type": "markdown",
   "metadata": {},
   "source": [
    "Этого достаточно для вывода."
   ]
  },
  {
   "cell_type": "code",
   "execution_count": 77,
   "metadata": {},
   "outputs": [],
   "source": [
    "best_model = lgb_dict['model']"
   ]
  },
  {
   "cell_type": "markdown",
   "metadata": {},
   "source": [
    "### Вывод:\n",
    "\n",
    "- Были изучены четыре модели: линейная регрессия, случайное дерево, случайный лес и LGBM. \n",
    "- Наилучшая точность предсказаний - у LGBM. \n",
    "- Лучшее время обучения и предсказания - у модели случайного дерева.\n",
    "- По соотношению точности и скорости лучший результат - у LGBM."
   ]
  },
  {
   "cell_type": "markdown",
   "metadata": {},
   "source": [
    "## Анализ моделей"
   ]
  },
  {
   "cell_type": "markdown",
   "metadata": {},
   "source": [
    "Теперь проверим выбранную модель на тестовой выборке."
   ]
  },
  {
   "cell_type": "code",
   "execution_count": 78,
   "metadata": {},
   "outputs": [
    {
     "name": "stdout",
     "output_type": "stream",
     "text": [
      "На тестовой выборке результат наилучшей модели = 1682.24\n"
     ]
    }
   ],
   "source": [
    "test_predictions = best_model.predict(features_test)\n",
    "test_score = mse(target_test,test_predictions)**0.5\n",
    "print(f'На тестовой выборке результат наилучшей модели = {test_score:.2f}')"
   ]
  },
  {
   "cell_type": "markdown",
   "metadata": {},
   "source": [
    "Сравним с Dummy:"
   ]
  },
  {
   "cell_type": "code",
   "execution_count": 79,
   "metadata": {},
   "outputs": [
    {
     "name": "stdout",
     "output_type": "stream",
     "text": [
      "На тестовой выборке результат Dummy Regressor = 4602.77\n"
     ]
    }
   ],
   "source": [
    "dummy_regr = DummyRegressor(strategy=\"mean\")\n",
    "dummy_regr.fit(features_train, target_train)\n",
    "predicted_dummy = dummy_regr.predict(features_test)\n",
    "test_score = mse(target_test,predicted_dummy)**0.5\n",
    "print(f'На тестовой выборке результат Dummy Regressor = {test_score:.2f}')"
   ]
  },
  {
   "cell_type": "markdown",
   "metadata": {},
   "source": [
    "### Вывод:\n",
    "- Результат LGBM подтверждён на тестовой выборке."
   ]
  },
  {
   "cell_type": "markdown",
   "metadata": {},
   "source": [
    "## Общий вывод\n",
    "\n",
    "- Были проанализированы и обработаны данные.\n",
    "- Были обучены и сопоставлены модели.\n",
    "- Наилучшие результаты по соотношению скорости и времени показала модель LGBM"
   ]
  }
 ],
 "metadata": {
  "ExecuteTimeLog": [
   {
    "duration": 393,
    "start_time": "2023-02-21T23:22:50.891Z"
   },
   {
    "duration": 3174,
    "start_time": "2023-02-21T23:23:00.432Z"
   },
   {
    "duration": 970,
    "start_time": "2023-02-21T23:23:07.189Z"
   },
   {
    "duration": 47,
    "start_time": "2023-02-22T11:43:42.266Z"
   },
   {
    "duration": 395,
    "start_time": "2023-02-22T11:43:47.063Z"
   },
   {
    "duration": 2950,
    "start_time": "2023-02-22T11:43:47.460Z"
   },
   {
    "duration": 35,
    "start_time": "2023-02-22T11:43:54.266Z"
   },
   {
    "duration": 33,
    "start_time": "2023-02-22T11:44:21.736Z"
   },
   {
    "duration": 124,
    "start_time": "2023-02-22T12:03:09.580Z"
   },
   {
    "duration": 412,
    "start_time": "2023-02-22T12:04:59.222Z"
   },
   {
    "duration": 544,
    "start_time": "2023-02-22T12:05:23.180Z"
   },
   {
    "duration": 114,
    "start_time": "2023-02-22T12:05:34.407Z"
   },
   {
    "duration": 42,
    "start_time": "2023-02-22T12:06:15.127Z"
   },
   {
    "duration": 990,
    "start_time": "2023-02-22T12:09:54.924Z"
   },
   {
    "duration": 29,
    "start_time": "2023-02-22T12:10:20.085Z"
   },
   {
    "duration": 39,
    "start_time": "2023-02-22T12:10:28.684Z"
   },
   {
    "duration": 35,
    "start_time": "2023-02-22T12:10:36.422Z"
   },
   {
    "duration": 44,
    "start_time": "2023-02-22T12:10:42.347Z"
   },
   {
    "duration": 58,
    "start_time": "2023-02-22T12:12:41.604Z"
   },
   {
    "duration": 72,
    "start_time": "2023-02-22T12:12:46.245Z"
   },
   {
    "duration": 68,
    "start_time": "2023-02-22T12:13:02.768Z"
   },
   {
    "duration": 64,
    "start_time": "2023-02-22T12:13:36.529Z"
   },
   {
    "duration": 81,
    "start_time": "2023-02-22T12:13:46.459Z"
   },
   {
    "duration": 19,
    "start_time": "2023-02-22T12:15:21.359Z"
   },
   {
    "duration": 58,
    "start_time": "2023-02-22T12:15:25.961Z"
   },
   {
    "duration": 782,
    "start_time": "2023-02-22T12:16:13.360Z"
   },
   {
    "duration": 48,
    "start_time": "2023-02-22T12:16:33.512Z"
   },
   {
    "duration": 4,
    "start_time": "2023-02-22T13:58:29.119Z"
   },
   {
    "duration": 383,
    "start_time": "2023-02-22T13:58:45.253Z"
   },
   {
    "duration": 988,
    "start_time": "2023-02-22T13:58:45.638Z"
   },
   {
    "duration": 4,
    "start_time": "2023-02-22T13:58:46.628Z"
   },
   {
    "duration": 452,
    "start_time": "2023-02-22T13:58:46.634Z"
   },
   {
    "duration": 538,
    "start_time": "2023-02-22T13:58:47.088Z"
   },
   {
    "duration": 122,
    "start_time": "2023-02-22T13:58:47.628Z"
   },
   {
    "duration": 966,
    "start_time": "2023-02-22T13:58:47.752Z"
   },
   {
    "duration": 0,
    "start_time": "2023-02-22T13:58:48.719Z"
   },
   {
    "duration": 0,
    "start_time": "2023-02-22T13:58:48.721Z"
   },
   {
    "duration": 0,
    "start_time": "2023-02-22T13:58:48.722Z"
   },
   {
    "duration": 5,
    "start_time": "2023-02-22T13:59:02.762Z"
   },
   {
    "duration": 50,
    "start_time": "2023-02-22T13:59:45.995Z"
   },
   {
    "duration": 62,
    "start_time": "2023-02-22T13:59:52.327Z"
   },
   {
    "duration": 379,
    "start_time": "2023-02-22T14:00:53.212Z"
   },
   {
    "duration": 924,
    "start_time": "2023-02-22T14:00:53.594Z"
   },
   {
    "duration": 5,
    "start_time": "2023-02-22T14:00:54.519Z"
   },
   {
    "duration": 69,
    "start_time": "2023-02-22T14:00:54.526Z"
   },
   {
    "duration": 441,
    "start_time": "2023-02-22T14:00:54.597Z"
   },
   {
    "duration": 551,
    "start_time": "2023-02-22T14:00:55.040Z"
   },
   {
    "duration": 118,
    "start_time": "2023-02-22T14:00:55.593Z"
   },
   {
    "duration": 46,
    "start_time": "2023-02-22T14:00:55.712Z"
   },
   {
    "duration": 74,
    "start_time": "2023-02-22T14:00:55.760Z"
   },
   {
    "duration": 40,
    "start_time": "2023-02-22T14:00:55.836Z"
   },
   {
    "duration": 72,
    "start_time": "2023-02-22T14:00:55.878Z"
   },
   {
    "duration": 219,
    "start_time": "2023-02-22T14:06:33.209Z"
   },
   {
    "duration": 458,
    "start_time": "2023-02-22T14:07:10.413Z"
   },
   {
    "duration": 296,
    "start_time": "2023-02-22T14:07:15.426Z"
   },
   {
    "duration": 674,
    "start_time": "2023-02-22T14:10:20.570Z"
   },
   {
    "duration": 700,
    "start_time": "2023-02-22T14:10:24.597Z"
   },
   {
    "duration": 61,
    "start_time": "2023-02-22T14:11:22.588Z"
   },
   {
    "duration": 600,
    "start_time": "2023-02-22T14:11:30.024Z"
   },
   {
    "duration": 383,
    "start_time": "2023-02-22T14:12:17.920Z"
   },
   {
    "duration": 927,
    "start_time": "2023-02-22T14:12:18.306Z"
   },
   {
    "duration": 4,
    "start_time": "2023-02-22T14:12:19.235Z"
   },
   {
    "duration": 63,
    "start_time": "2023-02-22T14:12:19.240Z"
   },
   {
    "duration": 453,
    "start_time": "2023-02-22T14:12:19.305Z"
   },
   {
    "duration": 564,
    "start_time": "2023-02-22T14:12:19.759Z"
   },
   {
    "duration": 123,
    "start_time": "2023-02-22T14:12:20.325Z"
   },
   {
    "duration": 48,
    "start_time": "2023-02-22T14:12:20.449Z"
   },
   {
    "duration": 248,
    "start_time": "2023-02-22T14:12:20.499Z"
   },
   {
    "duration": 233,
    "start_time": "2023-02-22T14:12:20.749Z"
   },
   {
    "duration": 66,
    "start_time": "2023-02-22T14:12:20.984Z"
   },
   {
    "duration": 719,
    "start_time": "2023-02-22T14:12:21.052Z"
   },
   {
    "duration": 0,
    "start_time": "2023-02-22T14:12:21.772Z"
   },
   {
    "duration": 418,
    "start_time": "2023-02-22T14:13:07.619Z"
   },
   {
    "duration": 937,
    "start_time": "2023-02-22T14:13:08.039Z"
   },
   {
    "duration": 5,
    "start_time": "2023-02-22T14:13:08.977Z"
   },
   {
    "duration": 58,
    "start_time": "2023-02-22T14:13:08.992Z"
   },
   {
    "duration": 440,
    "start_time": "2023-02-22T14:13:09.052Z"
   },
   {
    "duration": 513,
    "start_time": "2023-02-22T14:13:09.494Z"
   },
   {
    "duration": 123,
    "start_time": "2023-02-22T14:13:10.009Z"
   },
   {
    "duration": 252,
    "start_time": "2023-02-22T14:13:10.134Z"
   },
   {
    "duration": 35,
    "start_time": "2023-02-22T14:13:10.387Z"
   },
   {
    "duration": 3453,
    "start_time": "2023-02-22T14:13:10.425Z"
   },
   {
    "duration": 247,
    "start_time": "2023-02-22T14:13:13.879Z"
   },
   {
    "duration": 77,
    "start_time": "2023-02-22T14:13:14.128Z"
   },
   {
    "duration": 609,
    "start_time": "2023-02-22T14:13:14.207Z"
   },
   {
    "duration": 407,
    "start_time": "2023-02-22T14:13:39.470Z"
   },
   {
    "duration": 1035,
    "start_time": "2023-02-22T14:13:39.879Z"
   },
   {
    "duration": 4,
    "start_time": "2023-02-22T14:13:40.916Z"
   },
   {
    "duration": 77,
    "start_time": "2023-02-22T14:13:40.921Z"
   },
   {
    "duration": 435,
    "start_time": "2023-02-22T14:13:41.000Z"
   },
   {
    "duration": 520,
    "start_time": "2023-02-22T14:13:41.437Z"
   },
   {
    "duration": 119,
    "start_time": "2023-02-22T14:13:41.959Z"
   },
   {
    "duration": 319,
    "start_time": "2023-02-22T14:13:42.080Z"
   },
   {
    "duration": 33,
    "start_time": "2023-02-22T14:13:42.400Z"
   },
   {
    "duration": 3247,
    "start_time": "2023-02-22T14:13:42.435Z"
   },
   {
    "duration": 240,
    "start_time": "2023-02-22T14:13:45.691Z"
   },
   {
    "duration": 75,
    "start_time": "2023-02-22T14:13:45.933Z"
   },
   {
    "duration": 587,
    "start_time": "2023-02-22T14:13:46.011Z"
   },
   {
    "duration": 57,
    "start_time": "2023-02-22T14:16:32.857Z"
   },
   {
    "duration": 62,
    "start_time": "2023-02-22T14:16:34.915Z"
   },
   {
    "duration": 10,
    "start_time": "2023-02-22T14:16:43.360Z"
   },
   {
    "duration": 43,
    "start_time": "2023-02-22T14:16:49.499Z"
   },
   {
    "duration": 11,
    "start_time": "2023-02-22T14:16:52.284Z"
   },
   {
    "duration": 6,
    "start_time": "2023-02-22T14:16:59.973Z"
   },
   {
    "duration": 23,
    "start_time": "2023-02-22T14:17:04.117Z"
   },
   {
    "duration": 38,
    "start_time": "2023-02-22T14:17:07.709Z"
   },
   {
    "duration": 27,
    "start_time": "2023-02-22T14:17:11.656Z"
   },
   {
    "duration": 22,
    "start_time": "2023-02-22T14:17:25.767Z"
   },
   {
    "duration": 397,
    "start_time": "2023-02-22T14:19:35.687Z"
   },
   {
    "duration": 1014,
    "start_time": "2023-02-22T14:19:36.086Z"
   },
   {
    "duration": 6,
    "start_time": "2023-02-22T14:19:37.103Z"
   },
   {
    "duration": 107,
    "start_time": "2023-02-22T14:19:37.112Z"
   },
   {
    "duration": 441,
    "start_time": "2023-02-22T14:19:37.220Z"
   },
   {
    "duration": 555,
    "start_time": "2023-02-22T14:19:37.662Z"
   },
   {
    "duration": 328,
    "start_time": "2023-02-22T14:19:38.219Z"
   },
   {
    "duration": 86,
    "start_time": "2023-02-22T14:19:38.548Z"
   },
   {
    "duration": 39,
    "start_time": "2023-02-22T14:19:38.636Z"
   },
   {
    "duration": 3256,
    "start_time": "2023-02-22T14:19:38.678Z"
   },
   {
    "duration": 242,
    "start_time": "2023-02-22T14:19:41.936Z"
   },
   {
    "duration": 68,
    "start_time": "2023-02-22T14:19:42.180Z"
   },
   {
    "duration": 46,
    "start_time": "2023-02-22T14:22:22.832Z"
   },
   {
    "duration": 426,
    "start_time": "2023-02-22T14:22:32.897Z"
   },
   {
    "duration": 909,
    "start_time": "2023-02-22T14:22:33.325Z"
   },
   {
    "duration": 4,
    "start_time": "2023-02-22T14:22:34.235Z"
   },
   {
    "duration": 70,
    "start_time": "2023-02-22T14:22:34.241Z"
   },
   {
    "duration": 443,
    "start_time": "2023-02-22T14:22:34.313Z"
   },
   {
    "duration": 566,
    "start_time": "2023-02-22T14:22:34.757Z"
   },
   {
    "duration": 335,
    "start_time": "2023-02-22T14:22:35.325Z"
   },
   {
    "duration": 85,
    "start_time": "2023-02-22T14:22:35.662Z"
   },
   {
    "duration": 44,
    "start_time": "2023-02-22T14:22:35.749Z"
   },
   {
    "duration": 3319,
    "start_time": "2023-02-22T14:22:35.795Z"
   },
   {
    "duration": 249,
    "start_time": "2023-02-22T14:22:39.116Z"
   },
   {
    "duration": 83,
    "start_time": "2023-02-22T14:22:39.367Z"
   },
   {
    "duration": 60,
    "start_time": "2023-02-22T14:22:39.451Z"
   },
   {
    "duration": 368,
    "start_time": "2023-02-22T14:22:58.816Z"
   },
   {
    "duration": 925,
    "start_time": "2023-02-22T14:22:59.186Z"
   },
   {
    "duration": 4,
    "start_time": "2023-02-22T14:23:00.113Z"
   },
   {
    "duration": 58,
    "start_time": "2023-02-22T14:23:00.119Z"
   },
   {
    "duration": 458,
    "start_time": "2023-02-22T14:23:00.180Z"
   },
   {
    "duration": 552,
    "start_time": "2023-02-22T14:23:00.640Z"
   },
   {
    "duration": 339,
    "start_time": "2023-02-22T14:23:01.194Z"
   },
   {
    "duration": 87,
    "start_time": "2023-02-22T14:23:01.535Z"
   },
   {
    "duration": 36,
    "start_time": "2023-02-22T14:23:01.623Z"
   },
   {
    "duration": 79,
    "start_time": "2023-02-22T14:23:01.660Z"
   },
   {
    "duration": 52,
    "start_time": "2023-02-22T14:23:01.741Z"
   },
   {
    "duration": 83,
    "start_time": "2023-02-22T14:23:01.795Z"
   },
   {
    "duration": 14,
    "start_time": "2023-02-22T14:23:01.892Z"
   },
   {
    "duration": 390,
    "start_time": "2023-02-22T14:23:42.398Z"
   },
   {
    "duration": 1005,
    "start_time": "2023-02-22T14:23:42.790Z"
   },
   {
    "duration": 5,
    "start_time": "2023-02-22T14:23:43.797Z"
   },
   {
    "duration": 68,
    "start_time": "2023-02-22T14:23:43.804Z"
   },
   {
    "duration": 533,
    "start_time": "2023-02-22T14:23:43.874Z"
   },
   {
    "duration": 561,
    "start_time": "2023-02-22T14:23:44.409Z"
   },
   {
    "duration": 328,
    "start_time": "2023-02-22T14:23:44.972Z"
   },
   {
    "duration": 93,
    "start_time": "2023-02-22T14:23:45.302Z"
   },
   {
    "duration": 34,
    "start_time": "2023-02-22T14:23:45.397Z"
   },
   {
    "duration": 69,
    "start_time": "2023-02-22T14:23:45.433Z"
   },
   {
    "duration": 49,
    "start_time": "2023-02-22T14:23:45.504Z"
   },
   {
    "duration": 74,
    "start_time": "2023-02-22T14:23:45.555Z"
   },
   {
    "duration": 12,
    "start_time": "2023-02-22T14:23:45.631Z"
   },
   {
    "duration": 128,
    "start_time": "2023-02-22T14:25:20.513Z"
   },
   {
    "duration": 130,
    "start_time": "2023-02-22T14:25:23.783Z"
   },
   {
    "duration": 202,
    "start_time": "2023-02-22T14:25:32.785Z"
   },
   {
    "duration": 3,
    "start_time": "2023-02-22T14:27:28.359Z"
   },
   {
    "duration": 3,
    "start_time": "2023-02-22T14:28:12.263Z"
   },
   {
    "duration": 1632,
    "start_time": "2023-02-22T14:28:39.610Z"
   },
   {
    "duration": 1277,
    "start_time": "2023-02-22T14:28:43.561Z"
   },
   {
    "duration": 1340,
    "start_time": "2023-02-22T14:28:49.957Z"
   },
   {
    "duration": 1368,
    "start_time": "2023-02-22T14:28:58.856Z"
   },
   {
    "duration": 1529,
    "start_time": "2023-02-22T14:29:41.380Z"
   },
   {
    "duration": 1584,
    "start_time": "2023-02-22T14:29:50.627Z"
   },
   {
    "duration": 7,
    "start_time": "2023-02-22T14:30:59.097Z"
   },
   {
    "duration": 27,
    "start_time": "2023-02-22T14:58:00.901Z"
   },
   {
    "duration": 362,
    "start_time": "2023-02-23T12:39:54.453Z"
   },
   {
    "duration": 2973,
    "start_time": "2023-02-23T12:39:54.817Z"
   },
   {
    "duration": 4,
    "start_time": "2023-02-23T12:39:57.792Z"
   },
   {
    "duration": 73,
    "start_time": "2023-02-23T12:39:57.798Z"
   },
   {
    "duration": 433,
    "start_time": "2023-02-23T12:39:57.872Z"
   },
   {
    "duration": 509,
    "start_time": "2023-02-23T12:39:58.306Z"
   },
   {
    "duration": 351,
    "start_time": "2023-02-23T12:39:58.817Z"
   },
   {
    "duration": 86,
    "start_time": "2023-02-23T12:39:59.170Z"
   },
   {
    "duration": 31,
    "start_time": "2023-02-23T12:39:59.258Z"
   },
   {
    "duration": 53,
    "start_time": "2023-02-23T12:39:59.307Z"
   },
   {
    "duration": 47,
    "start_time": "2023-02-23T12:39:59.361Z"
   },
   {
    "duration": 49,
    "start_time": "2023-02-23T12:39:59.410Z"
   },
   {
    "duration": 190,
    "start_time": "2023-02-23T12:39:59.460Z"
   },
   {
    "duration": 3,
    "start_time": "2023-02-23T12:39:59.651Z"
   },
   {
    "duration": 2093,
    "start_time": "2023-02-23T12:39:59.655Z"
   },
   {
    "duration": 28,
    "start_time": "2023-02-23T12:40:01.750Z"
   },
   {
    "duration": 10,
    "start_time": "2023-02-23T12:40:14.966Z"
   },
   {
    "duration": 74,
    "start_time": "2023-02-23T12:40:55.451Z"
   },
   {
    "duration": 13,
    "start_time": "2023-02-23T12:40:58.869Z"
   },
   {
    "duration": 14,
    "start_time": "2023-02-23T12:41:45.720Z"
   },
   {
    "duration": 42,
    "start_time": "2023-02-23T12:41:56.390Z"
   },
   {
    "duration": 12,
    "start_time": "2023-02-23T12:42:22.889Z"
   },
   {
    "duration": 37,
    "start_time": "2023-02-23T12:42:29.803Z"
   },
   {
    "duration": 44,
    "start_time": "2023-02-23T12:43:53.203Z"
   },
   {
    "duration": 28,
    "start_time": "2023-02-23T12:43:57.347Z"
   },
   {
    "duration": 8,
    "start_time": "2023-02-23T12:44:50.943Z"
   },
   {
    "duration": 8,
    "start_time": "2023-02-23T12:44:55.912Z"
   },
   {
    "duration": 697,
    "start_time": "2023-02-23T12:45:12.527Z"
   },
   {
    "duration": 569,
    "start_time": "2023-02-23T12:45:21.287Z"
   },
   {
    "duration": 9,
    "start_time": "2023-02-23T12:45:24.447Z"
   },
   {
    "duration": 11,
    "start_time": "2023-02-23T12:45:30.581Z"
   },
   {
    "duration": 10,
    "start_time": "2023-02-23T12:45:38.375Z"
   },
   {
    "duration": 13,
    "start_time": "2023-02-23T12:45:41.746Z"
   },
   {
    "duration": 11,
    "start_time": "2023-02-23T12:45:57.451Z"
   },
   {
    "duration": 11,
    "start_time": "2023-02-23T12:46:00.185Z"
   },
   {
    "duration": 14,
    "start_time": "2023-02-23T12:46:21.240Z"
   },
   {
    "duration": 11,
    "start_time": "2023-02-23T12:46:51.723Z"
   },
   {
    "duration": 19,
    "start_time": "2023-02-23T12:47:45.500Z"
   },
   {
    "duration": 12,
    "start_time": "2023-02-23T12:47:50.931Z"
   },
   {
    "duration": 11,
    "start_time": "2023-02-23T12:48:33.346Z"
   },
   {
    "duration": 14,
    "start_time": "2023-02-23T12:50:07.134Z"
   },
   {
    "duration": 13,
    "start_time": "2023-02-23T12:50:18.927Z"
   },
   {
    "duration": 370,
    "start_time": "2023-02-23T12:50:51.353Z"
   },
   {
    "duration": 987,
    "start_time": "2023-02-23T12:50:51.725Z"
   },
   {
    "duration": 8,
    "start_time": "2023-02-23T12:50:52.714Z"
   },
   {
    "duration": 68,
    "start_time": "2023-02-23T12:50:52.723Z"
   },
   {
    "duration": 481,
    "start_time": "2023-02-23T12:50:52.794Z"
   },
   {
    "duration": 566,
    "start_time": "2023-02-23T12:50:53.276Z"
   },
   {
    "duration": 331,
    "start_time": "2023-02-23T12:50:53.844Z"
   },
   {
    "duration": 87,
    "start_time": "2023-02-23T12:50:54.177Z"
   },
   {
    "duration": 42,
    "start_time": "2023-02-23T12:50:54.265Z"
   },
   {
    "duration": 56,
    "start_time": "2023-02-23T12:50:54.308Z"
   },
   {
    "duration": 57,
    "start_time": "2023-02-23T12:50:54.365Z"
   },
   {
    "duration": 51,
    "start_time": "2023-02-23T12:50:54.424Z"
   },
   {
    "duration": 210,
    "start_time": "2023-02-23T12:50:54.476Z"
   },
   {
    "duration": 3,
    "start_time": "2023-02-23T12:50:54.688Z"
   },
   {
    "duration": 1877,
    "start_time": "2023-02-23T12:50:54.692Z"
   },
   {
    "duration": 36,
    "start_time": "2023-02-23T12:50:56.571Z"
   },
   {
    "duration": 9,
    "start_time": "2023-02-23T12:51:22.512Z"
   },
   {
    "duration": 9,
    "start_time": "2023-02-23T12:51:59.003Z"
   },
   {
    "duration": 9,
    "start_time": "2023-02-23T12:52:14.808Z"
   },
   {
    "duration": 41,
    "start_time": "2023-02-23T12:52:14.820Z"
   },
   {
    "duration": 929,
    "start_time": "2023-02-23T12:52:44.385Z"
   },
   {
    "duration": 414,
    "start_time": "2023-02-23T12:53:34.770Z"
   },
   {
    "duration": 964,
    "start_time": "2023-02-23T12:53:35.186Z"
   },
   {
    "duration": 4,
    "start_time": "2023-02-23T12:53:36.152Z"
   },
   {
    "duration": 68,
    "start_time": "2023-02-23T12:53:36.158Z"
   },
   {
    "duration": 516,
    "start_time": "2023-02-23T12:53:36.228Z"
   },
   {
    "duration": 601,
    "start_time": "2023-02-23T12:53:36.747Z"
   },
   {
    "duration": 342,
    "start_time": "2023-02-23T12:53:37.350Z"
   },
   {
    "duration": 87,
    "start_time": "2023-02-23T12:53:37.693Z"
   },
   {
    "duration": 49,
    "start_time": "2023-02-23T12:53:37.782Z"
   },
   {
    "duration": 72,
    "start_time": "2023-02-23T12:53:37.833Z"
   },
   {
    "duration": 47,
    "start_time": "2023-02-23T12:53:37.907Z"
   },
   {
    "duration": 70,
    "start_time": "2023-02-23T12:53:37.956Z"
   },
   {
    "duration": 203,
    "start_time": "2023-02-23T12:53:38.028Z"
   },
   {
    "duration": 2,
    "start_time": "2023-02-23T12:53:38.233Z"
   },
   {
    "duration": 1930,
    "start_time": "2023-02-23T12:53:38.237Z"
   },
   {
    "duration": 27,
    "start_time": "2023-02-23T12:54:05.666Z"
   },
   {
    "duration": 8,
    "start_time": "2023-02-23T12:54:09.220Z"
   },
   {
    "duration": 66,
    "start_time": "2023-02-23T12:56:23.214Z"
   },
   {
    "duration": 72,
    "start_time": "2023-02-23T12:57:00.085Z"
   },
   {
    "duration": 6,
    "start_time": "2023-02-23T12:57:05.605Z"
   },
   {
    "duration": 1544,
    "start_time": "2023-02-23T12:59:17.624Z"
   },
   {
    "duration": 417,
    "start_time": "2023-02-23T12:59:39.599Z"
   },
   {
    "duration": 943,
    "start_time": "2023-02-23T12:59:40.018Z"
   },
   {
    "duration": 4,
    "start_time": "2023-02-23T12:59:40.962Z"
   },
   {
    "duration": 61,
    "start_time": "2023-02-23T12:59:40.968Z"
   },
   {
    "duration": 501,
    "start_time": "2023-02-23T12:59:41.032Z"
   },
   {
    "duration": 531,
    "start_time": "2023-02-23T12:59:41.535Z"
   },
   {
    "duration": 344,
    "start_time": "2023-02-23T12:59:42.067Z"
   },
   {
    "duration": 93,
    "start_time": "2023-02-23T12:59:42.412Z"
   },
   {
    "duration": 34,
    "start_time": "2023-02-23T12:59:42.506Z"
   },
   {
    "duration": 66,
    "start_time": "2023-02-23T12:59:42.541Z"
   },
   {
    "duration": 45,
    "start_time": "2023-02-23T12:59:42.608Z"
   },
   {
    "duration": 65,
    "start_time": "2023-02-23T12:59:42.655Z"
   },
   {
    "duration": 186,
    "start_time": "2023-02-23T12:59:42.721Z"
   },
   {
    "duration": 3,
    "start_time": "2023-02-23T12:59:42.910Z"
   },
   {
    "duration": 1867,
    "start_time": "2023-02-23T12:59:42.914Z"
   },
   {
    "duration": 8,
    "start_time": "2023-02-23T12:59:44.783Z"
   },
   {
    "duration": 68,
    "start_time": "2023-02-23T12:59:44.792Z"
   },
   {
    "duration": 5,
    "start_time": "2023-02-23T12:59:44.862Z"
   },
   {
    "duration": 1448,
    "start_time": "2023-02-23T13:00:23.036Z"
   },
   {
    "duration": 344,
    "start_time": "2023-02-23T13:00:29.154Z"
   },
   {
    "duration": 937,
    "start_time": "2023-02-23T13:00:29.500Z"
   },
   {
    "duration": 4,
    "start_time": "2023-02-23T13:00:30.438Z"
   },
   {
    "duration": 91,
    "start_time": "2023-02-23T13:00:30.444Z"
   },
   {
    "duration": 484,
    "start_time": "2023-02-23T13:00:30.537Z"
   },
   {
    "duration": 599,
    "start_time": "2023-02-23T13:00:31.023Z"
   },
   {
    "duration": 347,
    "start_time": "2023-02-23T13:00:31.624Z"
   },
   {
    "duration": 95,
    "start_time": "2023-02-23T13:00:31.972Z"
   },
   {
    "duration": 48,
    "start_time": "2023-02-23T13:00:32.068Z"
   },
   {
    "duration": 56,
    "start_time": "2023-02-23T13:00:32.119Z"
   },
   {
    "duration": 54,
    "start_time": "2023-02-23T13:00:32.177Z"
   },
   {
    "duration": 59,
    "start_time": "2023-02-23T13:00:32.233Z"
   },
   {
    "duration": 219,
    "start_time": "2023-02-23T13:00:32.305Z"
   },
   {
    "duration": 3,
    "start_time": "2023-02-23T13:00:32.526Z"
   },
   {
    "duration": 1913,
    "start_time": "2023-02-23T13:00:32.531Z"
   },
   {
    "duration": 9,
    "start_time": "2023-02-23T13:00:34.446Z"
   },
   {
    "duration": 72,
    "start_time": "2023-02-23T13:00:34.457Z"
   },
   {
    "duration": 6,
    "start_time": "2023-02-23T13:00:34.531Z"
   },
   {
    "duration": 2,
    "start_time": "2023-02-23T13:02:02.537Z"
   },
   {
    "duration": 779,
    "start_time": "2023-02-23T13:03:11.639Z"
   },
   {
    "duration": 3,
    "start_time": "2023-02-23T13:04:49.229Z"
   },
   {
    "duration": 4,
    "start_time": "2023-02-23T13:06:57.889Z"
   },
   {
    "duration": 4,
    "start_time": "2023-02-23T13:07:00.978Z"
   },
   {
    "duration": 5,
    "start_time": "2023-02-23T13:07:03.165Z"
   },
   {
    "duration": 4,
    "start_time": "2023-02-23T13:07:04.952Z"
   },
   {
    "duration": 5,
    "start_time": "2023-02-23T13:07:06.583Z"
   },
   {
    "duration": 4,
    "start_time": "2023-02-23T13:07:08.748Z"
   },
   {
    "duration": 817,
    "start_time": "2023-02-23T13:07:15.930Z"
   },
   {
    "duration": 691,
    "start_time": "2023-02-23T13:07:21.972Z"
   },
   {
    "duration": 868,
    "start_time": "2023-02-23T13:07:30.002Z"
   },
   {
    "duration": 798,
    "start_time": "2023-02-23T13:07:51.174Z"
   },
   {
    "duration": 8,
    "start_time": "2023-02-23T13:08:41.116Z"
   },
   {
    "duration": 185,
    "start_time": "2023-02-23T13:09:01.902Z"
   },
   {
    "duration": 422,
    "start_time": "2023-02-23T13:09:23.117Z"
   },
   {
    "duration": 971,
    "start_time": "2023-02-23T13:09:23.541Z"
   },
   {
    "duration": 5,
    "start_time": "2023-02-23T13:09:24.514Z"
   },
   {
    "duration": 59,
    "start_time": "2023-02-23T13:09:24.520Z"
   },
   {
    "duration": 469,
    "start_time": "2023-02-23T13:09:24.581Z"
   },
   {
    "duration": 603,
    "start_time": "2023-02-23T13:09:25.052Z"
   },
   {
    "duration": 344,
    "start_time": "2023-02-23T13:09:25.657Z"
   },
   {
    "duration": 85,
    "start_time": "2023-02-23T13:09:26.003Z"
   },
   {
    "duration": 43,
    "start_time": "2023-02-23T13:09:26.090Z"
   },
   {
    "duration": 50,
    "start_time": "2023-02-23T13:09:26.136Z"
   },
   {
    "duration": 46,
    "start_time": "2023-02-23T13:09:26.203Z"
   },
   {
    "duration": 68,
    "start_time": "2023-02-23T13:09:26.250Z"
   },
   {
    "duration": 201,
    "start_time": "2023-02-23T13:09:26.319Z"
   },
   {
    "duration": 3,
    "start_time": "2023-02-23T13:09:26.521Z"
   },
   {
    "duration": 1928,
    "start_time": "2023-02-23T13:09:26.525Z"
   },
   {
    "duration": 8,
    "start_time": "2023-02-23T13:09:28.455Z"
   },
   {
    "duration": 71,
    "start_time": "2023-02-23T13:09:28.465Z"
   },
   {
    "duration": 5,
    "start_time": "2023-02-23T13:09:28.538Z"
   },
   {
    "duration": 183,
    "start_time": "2023-02-23T13:09:28.544Z"
   },
   {
    "duration": 202,
    "start_time": "2023-02-23T13:09:36.581Z"
   },
   {
    "duration": 6,
    "start_time": "2023-02-23T13:11:16.689Z"
   },
   {
    "duration": 380,
    "start_time": "2023-02-23T13:11:29.142Z"
   },
   {
    "duration": 931,
    "start_time": "2023-02-23T13:11:29.524Z"
   },
   {
    "duration": 5,
    "start_time": "2023-02-23T13:11:30.456Z"
   },
   {
    "duration": 79,
    "start_time": "2023-02-23T13:11:30.462Z"
   },
   {
    "duration": 454,
    "start_time": "2023-02-23T13:11:30.543Z"
   },
   {
    "duration": 556,
    "start_time": "2023-02-23T13:11:30.999Z"
   },
   {
    "duration": 353,
    "start_time": "2023-02-23T13:11:31.557Z"
   },
   {
    "duration": 93,
    "start_time": "2023-02-23T13:11:31.912Z"
   },
   {
    "duration": 37,
    "start_time": "2023-02-23T13:11:32.007Z"
   },
   {
    "duration": 64,
    "start_time": "2023-02-23T13:11:32.047Z"
   },
   {
    "duration": 45,
    "start_time": "2023-02-23T13:11:32.113Z"
   },
   {
    "duration": 72,
    "start_time": "2023-02-23T13:11:32.160Z"
   },
   {
    "duration": 201,
    "start_time": "2023-02-23T13:11:32.234Z"
   },
   {
    "duration": 2,
    "start_time": "2023-02-23T13:11:32.437Z"
   },
   {
    "duration": 1862,
    "start_time": "2023-02-23T13:11:32.441Z"
   },
   {
    "duration": 9,
    "start_time": "2023-02-23T13:11:34.305Z"
   },
   {
    "duration": 70,
    "start_time": "2023-02-23T13:11:34.315Z"
   },
   {
    "duration": 19,
    "start_time": "2023-02-23T13:11:34.386Z"
   },
   {
    "duration": 12,
    "start_time": "2023-02-23T13:11:34.406Z"
   },
   {
    "duration": 21,
    "start_time": "2023-02-23T13:11:44.837Z"
   },
   {
    "duration": 49,
    "start_time": "2023-02-23T13:13:27.008Z"
   },
   {
    "duration": 6059,
    "start_time": "2023-02-23T13:13:35.097Z"
   },
   {
    "duration": 6222,
    "start_time": "2023-02-23T13:13:43.872Z"
   },
   {
    "duration": 6017,
    "start_time": "2023-02-23T13:15:34.837Z"
   },
   {
    "duration": 6090,
    "start_time": "2023-02-23T13:16:41.574Z"
   },
   {
    "duration": 6152,
    "start_time": "2023-02-23T13:18:31.190Z"
   },
   {
    "duration": 30291,
    "start_time": "2023-02-23T13:20:20.085Z"
   },
   {
    "duration": 51,
    "start_time": "2023-02-23T13:21:58.184Z"
   },
   {
    "duration": 41,
    "start_time": "2023-02-23T13:22:01.790Z"
   },
   {
    "duration": 48,
    "start_time": "2023-02-23T13:22:18.185Z"
   },
   {
    "duration": 53,
    "start_time": "2023-02-23T13:23:31.190Z"
   },
   {
    "duration": 53,
    "start_time": "2023-02-23T13:25:30.638Z"
   },
   {
    "duration": 5489,
    "start_time": "2023-02-23T13:25:34.183Z"
   },
   {
    "duration": 4746,
    "start_time": "2023-02-23T13:25:53.570Z"
   },
   {
    "duration": 313,
    "start_time": "2023-02-23T13:27:58.929Z"
   },
   {
    "duration": 32279,
    "start_time": "2023-02-23T13:29:05.976Z"
   },
   {
    "duration": 167,
    "start_time": "2023-02-23T13:29:46.804Z"
   },
   {
    "duration": 154,
    "start_time": "2023-02-23T13:29:49.571Z"
   },
   {
    "duration": 1742,
    "start_time": "2023-02-23T13:30:35.898Z"
   },
   {
    "duration": 49,
    "start_time": "2023-02-23T13:31:36.900Z"
   },
   {
    "duration": 435,
    "start_time": "2023-02-23T13:32:47.973Z"
   },
   {
    "duration": 37,
    "start_time": "2023-02-23T13:34:41.163Z"
   },
   {
    "duration": 48,
    "start_time": "2023-02-23T13:34:48.190Z"
   },
   {
    "duration": 7,
    "start_time": "2023-02-23T13:35:26.216Z"
   },
   {
    "duration": 6,
    "start_time": "2023-02-23T13:35:32.624Z"
   },
   {
    "duration": 6,
    "start_time": "2023-02-23T13:35:35.257Z"
   },
   {
    "duration": 8,
    "start_time": "2023-02-23T13:35:38.605Z"
   },
   {
    "duration": 10,
    "start_time": "2023-02-23T13:36:01.848Z"
   },
   {
    "duration": 9,
    "start_time": "2023-02-23T13:36:16.119Z"
   },
   {
    "duration": 137,
    "start_time": "2023-02-23T13:36:31.922Z"
   },
   {
    "duration": 10,
    "start_time": "2023-02-23T13:36:44.836Z"
   },
   {
    "duration": 10,
    "start_time": "2023-02-23T13:36:51.535Z"
   },
   {
    "duration": 15,
    "start_time": "2023-02-23T13:37:58.977Z"
   },
   {
    "duration": 14,
    "start_time": "2023-02-23T13:38:12.548Z"
   },
   {
    "duration": 14,
    "start_time": "2023-02-23T13:38:23.251Z"
   },
   {
    "duration": 19,
    "start_time": "2023-02-23T13:45:41.326Z"
   },
   {
    "duration": 20,
    "start_time": "2023-02-23T13:46:36.210Z"
   },
   {
    "duration": 21,
    "start_time": "2023-02-23T13:47:39.867Z"
   },
   {
    "duration": 23,
    "start_time": "2023-02-23T13:47:53.840Z"
   },
   {
    "duration": 48,
    "start_time": "2023-02-23T13:48:15.480Z"
   },
   {
    "duration": 46,
    "start_time": "2023-02-23T13:48:56.949Z"
   },
   {
    "duration": 48,
    "start_time": "2023-02-23T13:49:01.210Z"
   },
   {
    "duration": 24,
    "start_time": "2023-02-23T13:49:04.334Z"
   },
   {
    "duration": 42,
    "start_time": "2023-02-23T13:49:28.239Z"
   },
   {
    "duration": 26,
    "start_time": "2023-02-23T13:49:31.407Z"
   },
   {
    "duration": 24,
    "start_time": "2023-02-23T13:49:43.048Z"
   },
   {
    "duration": 25,
    "start_time": "2023-02-23T13:49:48.154Z"
   },
   {
    "duration": 26,
    "start_time": "2023-02-23T13:51:14.886Z"
   },
   {
    "duration": 21,
    "start_time": "2023-02-23T13:51:41.863Z"
   },
   {
    "duration": 28,
    "start_time": "2023-02-23T13:51:46.565Z"
   },
   {
    "duration": 874,
    "start_time": "2023-02-23T13:52:09.473Z"
   },
   {
    "duration": 947,
    "start_time": "2023-02-23T13:52:10.349Z"
   },
   {
    "duration": 5,
    "start_time": "2023-02-23T13:52:11.298Z"
   },
   {
    "duration": 70,
    "start_time": "2023-02-23T13:52:11.305Z"
   },
   {
    "duration": 467,
    "start_time": "2023-02-23T13:52:11.377Z"
   },
   {
    "duration": 555,
    "start_time": "2023-02-23T13:52:11.845Z"
   },
   {
    "duration": 327,
    "start_time": "2023-02-23T13:52:12.402Z"
   },
   {
    "duration": 84,
    "start_time": "2023-02-23T13:52:12.731Z"
   },
   {
    "duration": 41,
    "start_time": "2023-02-23T13:52:12.816Z"
   },
   {
    "duration": 65,
    "start_time": "2023-02-23T13:52:12.860Z"
   },
   {
    "duration": 49,
    "start_time": "2023-02-23T13:52:12.927Z"
   },
   {
    "duration": 65,
    "start_time": "2023-02-23T13:52:12.977Z"
   },
   {
    "duration": 204,
    "start_time": "2023-02-23T13:52:13.043Z"
   },
   {
    "duration": 2,
    "start_time": "2023-02-23T13:52:13.249Z"
   },
   {
    "duration": 1854,
    "start_time": "2023-02-23T13:52:13.253Z"
   },
   {
    "duration": 9,
    "start_time": "2023-02-23T13:52:15.109Z"
   },
   {
    "duration": 61,
    "start_time": "2023-02-23T13:52:15.119Z"
   },
   {
    "duration": 23,
    "start_time": "2023-02-23T13:52:15.181Z"
   },
   {
    "duration": 33172,
    "start_time": "2023-02-23T13:52:15.205Z"
   },
   {
    "duration": 26,
    "start_time": "2023-02-23T13:52:48.378Z"
   },
   {
    "duration": 34,
    "start_time": "2023-02-23T13:52:48.406Z"
   },
   {
    "duration": 138,
    "start_time": "2023-02-23T13:59:18.474Z"
   },
   {
    "duration": 25,
    "start_time": "2023-02-23T13:59:25.543Z"
   },
   {
    "duration": 26,
    "start_time": "2023-02-23T13:59:37.947Z"
   },
   {
    "duration": 14,
    "start_time": "2023-02-23T14:00:05.092Z"
   },
   {
    "duration": 13,
    "start_time": "2023-02-23T14:00:13.492Z"
   },
   {
    "duration": 39,
    "start_time": "2023-02-23T14:00:33.281Z"
   },
   {
    "duration": 12,
    "start_time": "2023-02-23T14:00:56.305Z"
   },
   {
    "duration": 36,
    "start_time": "2023-02-23T14:00:59.384Z"
   },
   {
    "duration": 11,
    "start_time": "2023-02-23T14:01:47.195Z"
   },
   {
    "duration": 35,
    "start_time": "2023-02-23T14:02:24.713Z"
   },
   {
    "duration": 19,
    "start_time": "2023-02-23T14:02:26.344Z"
   },
   {
    "duration": 24,
    "start_time": "2023-02-23T14:03:29.473Z"
   },
   {
    "duration": 23,
    "start_time": "2023-02-23T14:03:53.977Z"
   },
   {
    "duration": 18,
    "start_time": "2023-02-23T14:04:29.572Z"
   },
   {
    "duration": 14,
    "start_time": "2023-02-23T14:04:37.253Z"
   },
   {
    "duration": 13,
    "start_time": "2023-02-23T14:04:58.918Z"
   },
   {
    "duration": 13,
    "start_time": "2023-02-23T14:05:15.230Z"
   },
   {
    "duration": 39,
    "start_time": "2023-02-23T14:05:28.024Z"
   },
   {
    "duration": 35,
    "start_time": "2023-02-23T14:05:51.087Z"
   },
   {
    "duration": 28,
    "start_time": "2023-02-23T14:05:53.327Z"
   },
   {
    "duration": 30,
    "start_time": "2023-02-23T14:05:58.703Z"
   },
   {
    "duration": 4,
    "start_time": "2023-02-23T14:08:17.111Z"
   },
   {
    "duration": 14,
    "start_time": "2023-02-23T14:09:03.521Z"
   },
   {
    "duration": 832,
    "start_time": "2023-02-23T14:09:22.613Z"
   },
   {
    "duration": 955,
    "start_time": "2023-02-23T14:09:23.448Z"
   },
   {
    "duration": 4,
    "start_time": "2023-02-23T14:09:24.405Z"
   },
   {
    "duration": 67,
    "start_time": "2023-02-23T14:09:24.411Z"
   },
   {
    "duration": 486,
    "start_time": "2023-02-23T14:09:24.481Z"
   },
   {
    "duration": 630,
    "start_time": "2023-02-23T14:09:24.969Z"
   },
   {
    "duration": 350,
    "start_time": "2023-02-23T14:09:25.600Z"
   },
   {
    "duration": 91,
    "start_time": "2023-02-23T14:09:25.952Z"
   },
   {
    "duration": 34,
    "start_time": "2023-02-23T14:09:26.044Z"
   },
   {
    "duration": 70,
    "start_time": "2023-02-23T14:09:26.079Z"
   },
   {
    "duration": 57,
    "start_time": "2023-02-23T14:09:26.151Z"
   },
   {
    "duration": 60,
    "start_time": "2023-02-23T14:09:26.210Z"
   },
   {
    "duration": 229,
    "start_time": "2023-02-23T14:09:26.272Z"
   },
   {
    "duration": 2,
    "start_time": "2023-02-23T14:09:26.505Z"
   },
   {
    "duration": 1993,
    "start_time": "2023-02-23T14:09:26.509Z"
   },
   {
    "duration": 9,
    "start_time": "2023-02-23T14:09:28.504Z"
   },
   {
    "duration": 4,
    "start_time": "2023-02-23T14:09:32.368Z"
   },
   {
    "duration": 48,
    "start_time": "2023-02-23T14:09:34.032Z"
   },
   {
    "duration": 8,
    "start_time": "2023-02-23T14:09:38.291Z"
   },
   {
    "duration": 32867,
    "start_time": "2023-02-23T14:09:39.759Z"
   },
   {
    "duration": 27,
    "start_time": "2023-02-23T14:10:12.628Z"
   },
   {
    "duration": 35,
    "start_time": "2023-02-23T14:10:41.755Z"
   },
   {
    "duration": 7,
    "start_time": "2023-02-23T14:10:44.285Z"
   },
   {
    "duration": 29,
    "start_time": "2023-02-23T14:10:45.555Z"
   },
   {
    "duration": 844,
    "start_time": "2023-02-23T14:11:04.756Z"
   },
   {
    "duration": 956,
    "start_time": "2023-02-23T14:11:05.602Z"
   },
   {
    "duration": 4,
    "start_time": "2023-02-23T14:11:06.560Z"
   },
   {
    "duration": 74,
    "start_time": "2023-02-23T14:11:06.566Z"
   },
   {
    "duration": 504,
    "start_time": "2023-02-23T14:11:06.642Z"
   },
   {
    "duration": 544,
    "start_time": "2023-02-23T14:11:07.147Z"
   },
   {
    "duration": 369,
    "start_time": "2023-02-23T14:11:07.693Z"
   },
   {
    "duration": 82,
    "start_time": "2023-02-23T14:11:08.064Z"
   },
   {
    "duration": 32,
    "start_time": "2023-02-23T14:11:08.148Z"
   },
   {
    "duration": 65,
    "start_time": "2023-02-23T14:11:08.182Z"
   },
   {
    "duration": 56,
    "start_time": "2023-02-23T14:11:08.248Z"
   },
   {
    "duration": 50,
    "start_time": "2023-02-23T14:11:08.306Z"
   },
   {
    "duration": 197,
    "start_time": "2023-02-23T14:11:08.357Z"
   },
   {
    "duration": 2,
    "start_time": "2023-02-23T14:11:08.557Z"
   },
   {
    "duration": 1871,
    "start_time": "2023-02-23T14:11:08.561Z"
   },
   {
    "duration": 9,
    "start_time": "2023-02-23T14:11:10.434Z"
   },
   {
    "duration": 12,
    "start_time": "2023-02-23T14:11:10.444Z"
   },
   {
    "duration": 60,
    "start_time": "2023-02-23T14:11:10.459Z"
   },
   {
    "duration": 5,
    "start_time": "2023-02-23T14:11:10.521Z"
   },
   {
    "duration": 32671,
    "start_time": "2023-02-23T14:11:10.527Z"
   },
   {
    "duration": 24,
    "start_time": "2023-02-23T14:11:43.199Z"
   },
   {
    "duration": 30,
    "start_time": "2023-02-23T14:11:43.225Z"
   },
   {
    "duration": 7,
    "start_time": "2023-02-23T14:11:43.257Z"
   },
   {
    "duration": 30,
    "start_time": "2023-02-23T14:12:03.239Z"
   },
   {
    "duration": 13,
    "start_time": "2023-02-23T14:12:08.739Z"
   },
   {
    "duration": 31,
    "start_time": "2023-02-23T14:12:37.155Z"
   },
   {
    "duration": 1745,
    "start_time": "2023-02-23T14:20:57.383Z"
   },
   {
    "duration": 139,
    "start_time": "2023-02-23T14:22:57.215Z"
   },
   {
    "duration": 170,
    "start_time": "2023-02-23T14:23:02.104Z"
   },
   {
    "duration": 152,
    "start_time": "2023-02-23T14:23:11.078Z"
   },
   {
    "duration": 141,
    "start_time": "2023-02-23T14:23:25.682Z"
   },
   {
    "duration": 139,
    "start_time": "2023-02-23T14:23:29.438Z"
   },
   {
    "duration": 10,
    "start_time": "2023-02-23T14:23:45.987Z"
   },
   {
    "duration": 28,
    "start_time": "2023-02-23T14:24:17.214Z"
   },
   {
    "duration": 109,
    "start_time": "2023-02-23T14:25:45.809Z"
   },
   {
    "duration": 758,
    "start_time": "2023-02-23T14:25:56.478Z"
   },
   {
    "duration": 892,
    "start_time": "2023-02-23T14:26:27.334Z"
   },
   {
    "duration": 958,
    "start_time": "2023-02-23T14:26:28.228Z"
   },
   {
    "duration": 4,
    "start_time": "2023-02-23T14:26:29.188Z"
   },
   {
    "duration": 67,
    "start_time": "2023-02-23T14:26:29.194Z"
   },
   {
    "duration": 474,
    "start_time": "2023-02-23T14:26:29.263Z"
   },
   {
    "duration": 594,
    "start_time": "2023-02-23T14:26:29.739Z"
   },
   {
    "duration": 361,
    "start_time": "2023-02-23T14:26:30.335Z"
   },
   {
    "duration": 90,
    "start_time": "2023-02-23T14:26:30.697Z"
   },
   {
    "duration": 83,
    "start_time": "2023-02-23T14:26:30.788Z"
   },
   {
    "duration": 89,
    "start_time": "2023-02-23T14:26:30.873Z"
   },
   {
    "duration": 55,
    "start_time": "2023-02-23T14:26:30.964Z"
   },
   {
    "duration": 55,
    "start_time": "2023-02-23T14:26:31.021Z"
   },
   {
    "duration": 235,
    "start_time": "2023-02-23T14:26:31.078Z"
   },
   {
    "duration": 3,
    "start_time": "2023-02-23T14:26:31.316Z"
   },
   {
    "duration": 1985,
    "start_time": "2023-02-23T14:26:31.321Z"
   },
   {
    "duration": 15,
    "start_time": "2023-02-23T14:26:36.624Z"
   },
   {
    "duration": 4,
    "start_time": "2023-02-23T14:26:42.820Z"
   },
   {
    "duration": 22,
    "start_time": "2023-02-23T14:27:18.618Z"
   },
   {
    "duration": 16,
    "start_time": "2023-02-23T14:27:28.117Z"
   },
   {
    "duration": 900,
    "start_time": "2023-02-23T14:28:46.736Z"
   },
   {
    "duration": 938,
    "start_time": "2023-02-23T14:28:47.638Z"
   },
   {
    "duration": 5,
    "start_time": "2023-02-23T14:28:48.578Z"
   },
   {
    "duration": 67,
    "start_time": "2023-02-23T14:28:48.585Z"
   },
   {
    "duration": 503,
    "start_time": "2023-02-23T14:28:48.656Z"
   },
   {
    "duration": 596,
    "start_time": "2023-02-23T14:28:49.161Z"
   },
   {
    "duration": 330,
    "start_time": "2023-02-23T14:28:49.758Z"
   },
   {
    "duration": 87,
    "start_time": "2023-02-23T14:28:50.090Z"
   },
   {
    "duration": 49,
    "start_time": "2023-02-23T14:28:50.179Z"
   },
   {
    "duration": 73,
    "start_time": "2023-02-23T14:28:50.230Z"
   },
   {
    "duration": 45,
    "start_time": "2023-02-23T14:28:50.305Z"
   },
   {
    "duration": 72,
    "start_time": "2023-02-23T14:28:50.352Z"
   },
   {
    "duration": 207,
    "start_time": "2023-02-23T14:28:50.426Z"
   },
   {
    "duration": 3,
    "start_time": "2023-02-23T14:28:50.636Z"
   },
   {
    "duration": 1992,
    "start_time": "2023-02-23T14:28:50.641Z"
   },
   {
    "duration": 14,
    "start_time": "2023-02-23T14:28:52.636Z"
   },
   {
    "duration": 4,
    "start_time": "2023-02-23T14:28:52.653Z"
   },
   {
    "duration": 23,
    "start_time": "2023-02-23T14:28:52.659Z"
   },
   {
    "duration": 32,
    "start_time": "2023-02-23T14:29:11.985Z"
   },
   {
    "duration": 33,
    "start_time": "2023-02-23T14:29:18.681Z"
   },
   {
    "duration": 8,
    "start_time": "2023-02-23T14:29:20.851Z"
   },
   {
    "duration": 34132,
    "start_time": "2023-02-23T14:29:22.170Z"
   },
   {
    "duration": 3,
    "start_time": "2023-02-23T14:36:40.553Z"
   },
   {
    "duration": 116,
    "start_time": "2023-02-23T14:37:07.079Z"
   },
   {
    "duration": 19,
    "start_time": "2023-02-23T14:37:57.978Z"
   },
   {
    "duration": 20,
    "start_time": "2023-02-23T14:38:00.127Z"
   },
   {
    "duration": 20,
    "start_time": "2023-02-23T14:38:17.812Z"
   },
   {
    "duration": 5,
    "start_time": "2023-02-23T14:38:37.893Z"
   },
   {
    "duration": 25,
    "start_time": "2023-02-23T14:38:39.460Z"
   },
   {
    "duration": 19,
    "start_time": "2023-02-23T14:38:50.371Z"
   },
   {
    "duration": 3,
    "start_time": "2023-02-23T14:38:51.647Z"
   },
   {
    "duration": 18,
    "start_time": "2023-02-23T14:38:52.583Z"
   },
   {
    "duration": 3,
    "start_time": "2023-02-23T14:39:02.140Z"
   },
   {
    "duration": 18,
    "start_time": "2023-02-23T14:39:02.708Z"
   },
   {
    "duration": 5,
    "start_time": "2023-02-23T14:40:59.464Z"
   },
   {
    "duration": 17,
    "start_time": "2023-02-23T14:41:00.128Z"
   },
   {
    "duration": 42,
    "start_time": "2023-02-23T14:41:03.372Z"
   },
   {
    "duration": 4,
    "start_time": "2023-02-23T14:41:59.278Z"
   },
   {
    "duration": 26,
    "start_time": "2023-02-23T14:42:12.757Z"
   },
   {
    "duration": 26,
    "start_time": "2023-02-23T14:42:29.338Z"
   },
   {
    "duration": 16,
    "start_time": "2023-02-23T14:42:36.243Z"
   },
   {
    "duration": 13,
    "start_time": "2023-02-23T14:42:40.491Z"
   },
   {
    "duration": 30,
    "start_time": "2023-02-23T14:42:52.379Z"
   },
   {
    "duration": 11,
    "start_time": "2023-02-23T14:43:23.053Z"
   },
   {
    "duration": 16,
    "start_time": "2023-02-23T14:43:42.880Z"
   },
   {
    "duration": 14,
    "start_time": "2023-02-23T14:43:58.215Z"
   },
   {
    "duration": 15,
    "start_time": "2023-02-23T14:44:13.449Z"
   },
   {
    "duration": 14,
    "start_time": "2023-02-23T14:44:47.393Z"
   },
   {
    "duration": 53,
    "start_time": "2023-02-23T14:44:52.985Z"
   },
   {
    "duration": 1708,
    "start_time": "2023-02-23T14:44:55.608Z"
   },
   {
    "duration": 884,
    "start_time": "2023-02-23T14:45:15.915Z"
   },
   {
    "duration": 974,
    "start_time": "2023-02-23T14:45:16.804Z"
   },
   {
    "duration": 5,
    "start_time": "2023-02-23T14:45:17.779Z"
   },
   {
    "duration": 68,
    "start_time": "2023-02-23T14:45:17.785Z"
   },
   {
    "duration": 487,
    "start_time": "2023-02-23T14:45:17.855Z"
   },
   {
    "duration": 586,
    "start_time": "2023-02-23T14:45:18.344Z"
   },
   {
    "duration": 358,
    "start_time": "2023-02-23T14:45:18.932Z"
   },
   {
    "duration": 93,
    "start_time": "2023-02-23T14:45:19.291Z"
   },
   {
    "duration": 45,
    "start_time": "2023-02-23T14:45:19.385Z"
   },
   {
    "duration": 75,
    "start_time": "2023-02-23T14:45:19.432Z"
   },
   {
    "duration": 45,
    "start_time": "2023-02-23T14:45:19.508Z"
   },
   {
    "duration": 68,
    "start_time": "2023-02-23T14:45:19.555Z"
   },
   {
    "duration": 211,
    "start_time": "2023-02-23T14:45:19.624Z"
   },
   {
    "duration": 2,
    "start_time": "2023-02-23T14:45:19.838Z"
   },
   {
    "duration": 1992,
    "start_time": "2023-02-23T14:45:19.842Z"
   },
   {
    "duration": 10,
    "start_time": "2023-02-23T14:45:21.836Z"
   },
   {
    "duration": 3,
    "start_time": "2023-02-23T14:45:21.847Z"
   },
   {
    "duration": 23,
    "start_time": "2023-02-23T14:45:21.852Z"
   },
   {
    "duration": 52,
    "start_time": "2023-02-23T14:45:21.877Z"
   },
   {
    "duration": 6,
    "start_time": "2023-02-23T14:45:21.931Z"
   },
   {
    "duration": 31530,
    "start_time": "2023-02-23T14:45:21.938Z"
   },
   {
    "duration": 3,
    "start_time": "2023-02-23T14:45:53.470Z"
   },
   {
    "duration": 21,
    "start_time": "2023-02-23T14:45:53.475Z"
   },
   {
    "duration": 16,
    "start_time": "2023-02-23T14:45:53.498Z"
   },
   {
    "duration": 31,
    "start_time": "2023-02-23T14:45:53.515Z"
   },
   {
    "duration": 7,
    "start_time": "2023-02-23T14:45:53.548Z"
   },
   {
    "duration": 16,
    "start_time": "2023-02-23T14:45:53.556Z"
   },
   {
    "duration": 12,
    "start_time": "2023-02-23T14:45:53.604Z"
   },
   {
    "duration": 28,
    "start_time": "2023-02-23T14:45:53.618Z"
   },
   {
    "duration": 1732,
    "start_time": "2023-02-23T14:45:53.648Z"
   },
   {
    "duration": 906,
    "start_time": "2023-02-23T14:47:21.271Z"
   },
   {
    "duration": 1001,
    "start_time": "2023-02-23T14:47:22.179Z"
   },
   {
    "duration": 5,
    "start_time": "2023-02-23T14:47:23.182Z"
   },
   {
    "duration": 65,
    "start_time": "2023-02-23T14:47:23.188Z"
   },
   {
    "duration": 490,
    "start_time": "2023-02-23T14:47:23.255Z"
   },
   {
    "duration": 540,
    "start_time": "2023-02-23T14:47:23.747Z"
   },
   {
    "duration": 382,
    "start_time": "2023-02-23T14:47:24.289Z"
   },
   {
    "duration": 95,
    "start_time": "2023-02-23T14:47:24.673Z"
   },
   {
    "duration": 43,
    "start_time": "2023-02-23T14:47:24.770Z"
   },
   {
    "duration": 53,
    "start_time": "2023-02-23T14:47:24.815Z"
   },
   {
    "duration": 63,
    "start_time": "2023-02-23T14:47:24.870Z"
   },
   {
    "duration": 56,
    "start_time": "2023-02-23T14:47:24.934Z"
   },
   {
    "duration": 236,
    "start_time": "2023-02-23T14:47:24.991Z"
   },
   {
    "duration": 3,
    "start_time": "2023-02-23T14:47:25.229Z"
   },
   {
    "duration": 1972,
    "start_time": "2023-02-23T14:47:25.233Z"
   },
   {
    "duration": 9,
    "start_time": "2023-02-23T14:47:27.207Z"
   },
   {
    "duration": 12,
    "start_time": "2023-02-23T14:47:27.218Z"
   },
   {
    "duration": 24,
    "start_time": "2023-02-23T14:47:27.231Z"
   },
   {
    "duration": 47,
    "start_time": "2023-02-23T14:47:27.257Z"
   },
   {
    "duration": 7,
    "start_time": "2023-02-23T14:47:27.305Z"
   },
   {
    "duration": 33109,
    "start_time": "2023-02-23T14:47:27.313Z"
   },
   {
    "duration": 3,
    "start_time": "2023-02-23T14:48:00.423Z"
   },
   {
    "duration": 31,
    "start_time": "2023-02-23T14:48:00.428Z"
   },
   {
    "duration": 20,
    "start_time": "2023-02-23T14:48:00.461Z"
   },
   {
    "duration": 50,
    "start_time": "2023-02-23T14:48:00.482Z"
   },
   {
    "duration": 17,
    "start_time": "2023-02-23T14:48:00.534Z"
   },
   {
    "duration": 47,
    "start_time": "2023-02-23T14:48:00.553Z"
   },
   {
    "duration": 26,
    "start_time": "2023-02-23T14:48:00.602Z"
   },
   {
    "duration": 39,
    "start_time": "2023-02-23T14:48:00.629Z"
   },
   {
    "duration": 43,
    "start_time": "2023-02-23T14:48:00.670Z"
   },
   {
    "duration": 1737,
    "start_time": "2023-02-23T14:48:00.715Z"
   },
   {
    "duration": 61,
    "start_time": "2023-02-23T14:48:37.123Z"
   },
   {
    "duration": 4,
    "start_time": "2023-02-23T14:48:52.590Z"
   },
   {
    "duration": 3,
    "start_time": "2023-02-23T14:49:48.860Z"
   },
   {
    "duration": 782,
    "start_time": "2023-02-23T14:50:25.157Z"
   },
   {
    "duration": 959,
    "start_time": "2023-02-23T14:50:25.941Z"
   },
   {
    "duration": 5,
    "start_time": "2023-02-23T14:50:26.902Z"
   },
   {
    "duration": 68,
    "start_time": "2023-02-23T14:50:26.909Z"
   },
   {
    "duration": 478,
    "start_time": "2023-02-23T14:50:26.982Z"
   },
   {
    "duration": 592,
    "start_time": "2023-02-23T14:50:27.462Z"
   },
   {
    "duration": 334,
    "start_time": "2023-02-23T14:50:28.055Z"
   },
   {
    "duration": 88,
    "start_time": "2023-02-23T14:50:28.390Z"
   },
   {
    "duration": 41,
    "start_time": "2023-02-23T14:50:28.480Z"
   },
   {
    "duration": 52,
    "start_time": "2023-02-23T14:50:28.522Z"
   },
   {
    "duration": 57,
    "start_time": "2023-02-23T14:50:28.575Z"
   },
   {
    "duration": 51,
    "start_time": "2023-02-23T14:50:28.634Z"
   },
   {
    "duration": 223,
    "start_time": "2023-02-23T14:50:28.687Z"
   },
   {
    "duration": 2,
    "start_time": "2023-02-23T14:50:28.913Z"
   },
   {
    "duration": 1880,
    "start_time": "2023-02-23T14:50:28.916Z"
   },
   {
    "duration": 12,
    "start_time": "2023-02-23T14:50:30.798Z"
   },
   {
    "duration": 31,
    "start_time": "2023-02-23T14:50:30.811Z"
   },
   {
    "duration": 69,
    "start_time": "2023-02-23T14:50:30.844Z"
   },
   {
    "duration": 70,
    "start_time": "2023-02-23T14:50:30.915Z"
   },
   {
    "duration": 6,
    "start_time": "2023-02-23T14:50:30.988Z"
   },
   {
    "duration": 16689,
    "start_time": "2023-02-23T14:50:30.996Z"
   },
   {
    "duration": 0,
    "start_time": "2023-02-23T14:50:47.687Z"
   },
   {
    "duration": 0,
    "start_time": "2023-02-23T14:50:47.688Z"
   },
   {
    "duration": 0,
    "start_time": "2023-02-23T14:50:47.690Z"
   },
   {
    "duration": 0,
    "start_time": "2023-02-23T14:50:47.704Z"
   },
   {
    "duration": 0,
    "start_time": "2023-02-23T14:50:47.705Z"
   },
   {
    "duration": 0,
    "start_time": "2023-02-23T14:50:47.706Z"
   },
   {
    "duration": 0,
    "start_time": "2023-02-23T14:50:47.708Z"
   },
   {
    "duration": 0,
    "start_time": "2023-02-23T14:50:47.709Z"
   },
   {
    "duration": 0,
    "start_time": "2023-02-23T14:50:47.710Z"
   },
   {
    "duration": 831,
    "start_time": "2023-02-23T14:51:05.419Z"
   },
   {
    "duration": 1054,
    "start_time": "2023-02-23T14:51:06.252Z"
   },
   {
    "duration": 4,
    "start_time": "2023-02-23T14:51:07.307Z"
   },
   {
    "duration": 56,
    "start_time": "2023-02-23T14:51:07.313Z"
   },
   {
    "duration": 463,
    "start_time": "2023-02-23T14:51:07.371Z"
   },
   {
    "duration": 552,
    "start_time": "2023-02-23T14:51:07.836Z"
   },
   {
    "duration": 355,
    "start_time": "2023-02-23T14:51:08.390Z"
   },
   {
    "duration": 88,
    "start_time": "2023-02-23T14:51:08.746Z"
   },
   {
    "duration": 35,
    "start_time": "2023-02-23T14:51:08.836Z"
   },
   {
    "duration": 70,
    "start_time": "2023-02-23T14:51:08.873Z"
   },
   {
    "duration": 60,
    "start_time": "2023-02-23T14:51:08.945Z"
   },
   {
    "duration": 60,
    "start_time": "2023-02-23T14:51:09.007Z"
   },
   {
    "duration": 206,
    "start_time": "2023-02-23T14:51:09.068Z"
   },
   {
    "duration": 3,
    "start_time": "2023-02-23T14:51:09.276Z"
   },
   {
    "duration": 1899,
    "start_time": "2023-02-23T14:51:09.281Z"
   },
   {
    "duration": 21,
    "start_time": "2023-02-23T14:51:11.183Z"
   },
   {
    "duration": 3,
    "start_time": "2023-02-23T14:51:11.207Z"
   },
   {
    "duration": 32,
    "start_time": "2023-02-23T14:51:11.212Z"
   },
   {
    "duration": 41,
    "start_time": "2023-02-23T14:51:11.246Z"
   },
   {
    "duration": 16,
    "start_time": "2023-02-23T14:51:11.288Z"
   },
   {
    "duration": 32150,
    "start_time": "2023-02-23T14:51:11.306Z"
   },
   {
    "duration": 6,
    "start_time": "2023-02-23T14:51:43.457Z"
   },
   {
    "duration": 41,
    "start_time": "2023-02-23T14:51:43.464Z"
   },
   {
    "duration": 12,
    "start_time": "2023-02-23T14:51:43.507Z"
   },
   {
    "duration": 37,
    "start_time": "2023-02-23T14:51:43.521Z"
   },
   {
    "duration": 10,
    "start_time": "2023-02-23T14:51:43.560Z"
   },
   {
    "duration": 22,
    "start_time": "2023-02-23T14:52:03.602Z"
   },
   {
    "duration": 14,
    "start_time": "2023-02-23T14:52:04.633Z"
   },
   {
    "duration": 44,
    "start_time": "2023-02-23T14:52:11.882Z"
   },
   {
    "duration": 1574,
    "start_time": "2023-02-23T14:52:12.762Z"
   },
   {
    "duration": 929,
    "start_time": "2023-02-23T14:53:06.181Z"
   },
   {
    "duration": 940,
    "start_time": "2023-02-23T14:53:07.114Z"
   },
   {
    "duration": 4,
    "start_time": "2023-02-23T14:53:08.056Z"
   },
   {
    "duration": 66,
    "start_time": "2023-02-23T14:53:08.062Z"
   },
   {
    "duration": 499,
    "start_time": "2023-02-23T14:53:08.132Z"
   },
   {
    "duration": 607,
    "start_time": "2023-02-23T14:53:08.633Z"
   },
   {
    "duration": 347,
    "start_time": "2023-02-23T14:53:09.241Z"
   },
   {
    "duration": 89,
    "start_time": "2023-02-23T14:53:09.589Z"
   },
   {
    "duration": 41,
    "start_time": "2023-02-23T14:53:09.679Z"
   },
   {
    "duration": 56,
    "start_time": "2023-02-23T14:53:09.722Z"
   },
   {
    "duration": 63,
    "start_time": "2023-02-23T14:53:09.781Z"
   },
   {
    "duration": 64,
    "start_time": "2023-02-23T14:53:09.845Z"
   },
   {
    "duration": 199,
    "start_time": "2023-02-23T14:53:09.910Z"
   },
   {
    "duration": 2,
    "start_time": "2023-02-23T14:53:10.112Z"
   },
   {
    "duration": 1885,
    "start_time": "2023-02-23T14:53:10.116Z"
   },
   {
    "duration": 10,
    "start_time": "2023-02-23T14:53:12.003Z"
   },
   {
    "duration": 4,
    "start_time": "2023-02-23T14:53:12.014Z"
   },
   {
    "duration": 106,
    "start_time": "2023-02-23T14:53:17.564Z"
   },
   {
    "duration": 25,
    "start_time": "2023-02-23T14:53:26.681Z"
   },
   {
    "duration": 839,
    "start_time": "2023-02-23T14:53:42.955Z"
   },
   {
    "duration": 919,
    "start_time": "2023-02-23T14:53:43.796Z"
   },
   {
    "duration": 5,
    "start_time": "2023-02-23T14:53:44.717Z"
   },
   {
    "duration": 60,
    "start_time": "2023-02-23T14:53:44.724Z"
   },
   {
    "duration": 483,
    "start_time": "2023-02-23T14:53:44.787Z"
   },
   {
    "duration": 610,
    "start_time": "2023-02-23T14:53:45.271Z"
   },
   {
    "duration": 364,
    "start_time": "2023-02-23T14:53:45.883Z"
   },
   {
    "duration": 98,
    "start_time": "2023-02-23T14:53:46.249Z"
   },
   {
    "duration": 40,
    "start_time": "2023-02-23T14:53:46.349Z"
   },
   {
    "duration": 75,
    "start_time": "2023-02-23T14:53:46.393Z"
   },
   {
    "duration": 47,
    "start_time": "2023-02-23T14:53:46.470Z"
   },
   {
    "duration": 51,
    "start_time": "2023-02-23T14:53:46.519Z"
   },
   {
    "duration": 286,
    "start_time": "2023-02-23T14:53:46.572Z"
   },
   {
    "duration": 4,
    "start_time": "2023-02-23T14:53:46.861Z"
   },
   {
    "duration": 2056,
    "start_time": "2023-02-23T14:53:46.867Z"
   },
   {
    "duration": 9,
    "start_time": "2023-02-23T14:53:48.925Z"
   },
   {
    "duration": 34,
    "start_time": "2023-02-23T14:53:48.936Z"
   },
   {
    "duration": 20,
    "start_time": "2023-02-23T14:53:54.516Z"
   },
   {
    "duration": 3,
    "start_time": "2023-02-23T14:54:05.014Z"
   },
   {
    "duration": 968,
    "start_time": "2023-02-23T14:54:05.019Z"
   },
   {
    "duration": 4,
    "start_time": "2023-02-23T14:54:05.989Z"
   },
   {
    "duration": 39,
    "start_time": "2023-02-23T14:54:06.004Z"
   },
   {
    "duration": 399,
    "start_time": "2023-02-23T14:54:06.046Z"
   },
   {
    "duration": 581,
    "start_time": "2023-02-23T14:54:06.446Z"
   },
   {
    "duration": 302,
    "start_time": "2023-02-23T14:54:07.029Z"
   },
   {
    "duration": 88,
    "start_time": "2023-02-23T14:54:07.333Z"
   },
   {
    "duration": 33,
    "start_time": "2023-02-23T14:54:07.422Z"
   },
   {
    "duration": 72,
    "start_time": "2023-02-23T14:54:07.457Z"
   },
   {
    "duration": 45,
    "start_time": "2023-02-23T14:54:07.531Z"
   },
   {
    "duration": 68,
    "start_time": "2023-02-23T14:54:07.578Z"
   },
   {
    "duration": 190,
    "start_time": "2023-02-23T14:54:07.647Z"
   },
   {
    "duration": 3,
    "start_time": "2023-02-23T14:54:07.840Z"
   },
   {
    "duration": 1660,
    "start_time": "2023-02-23T14:54:07.844Z"
   },
   {
    "duration": 10,
    "start_time": "2023-02-23T14:54:09.506Z"
   },
   {
    "duration": 5,
    "start_time": "2023-02-23T14:54:09.518Z"
   },
   {
    "duration": 32,
    "start_time": "2023-02-23T14:54:09.525Z"
   },
   {
    "duration": 7,
    "start_time": "2023-02-23T14:54:09.559Z"
   },
   {
    "duration": 33684,
    "start_time": "2023-02-23T14:54:09.567Z"
   },
   {
    "duration": 5,
    "start_time": "2023-02-23T14:54:43.253Z"
   },
   {
    "duration": 27,
    "start_time": "2023-02-23T14:54:43.259Z"
   },
   {
    "duration": 23,
    "start_time": "2023-02-23T14:54:43.288Z"
   },
   {
    "duration": 37,
    "start_time": "2023-02-23T14:54:43.313Z"
   },
   {
    "duration": 11,
    "start_time": "2023-02-23T14:54:43.352Z"
   },
   {
    "duration": 41,
    "start_time": "2023-02-23T14:54:43.365Z"
   },
   {
    "duration": 12,
    "start_time": "2023-02-23T14:54:43.408Z"
   },
   {
    "duration": 37,
    "start_time": "2023-02-23T14:54:43.422Z"
   },
   {
    "duration": 840,
    "start_time": "2023-02-23T14:54:53.043Z"
   },
   {
    "duration": 950,
    "start_time": "2023-02-23T14:54:53.885Z"
   },
   {
    "duration": 4,
    "start_time": "2023-02-23T14:54:54.837Z"
   },
   {
    "duration": 67,
    "start_time": "2023-02-23T14:54:54.842Z"
   },
   {
    "duration": 515,
    "start_time": "2023-02-23T14:54:54.911Z"
   },
   {
    "duration": 578,
    "start_time": "2023-02-23T14:54:55.427Z"
   },
   {
    "duration": 353,
    "start_time": "2023-02-23T14:54:56.007Z"
   },
   {
    "duration": 89,
    "start_time": "2023-02-23T14:54:56.362Z"
   },
   {
    "duration": 34,
    "start_time": "2023-02-23T14:54:56.453Z"
   },
   {
    "duration": 63,
    "start_time": "2023-02-23T14:54:56.489Z"
   },
   {
    "duration": 71,
    "start_time": "2023-02-23T14:54:56.553Z"
   },
   {
    "duration": 83,
    "start_time": "2023-02-23T14:54:56.625Z"
   },
   {
    "duration": 236,
    "start_time": "2023-02-23T14:54:56.709Z"
   },
   {
    "duration": 3,
    "start_time": "2023-02-23T14:54:56.948Z"
   },
   {
    "duration": 1859,
    "start_time": "2023-02-23T14:54:56.952Z"
   },
   {
    "duration": 21,
    "start_time": "2023-02-23T14:54:58.812Z"
   },
   {
    "duration": 12,
    "start_time": "2023-02-23T14:54:58.835Z"
   },
   {
    "duration": 3,
    "start_time": "2023-02-23T14:54:58.848Z"
   },
   {
    "duration": 57,
    "start_time": "2023-02-23T14:54:58.853Z"
   },
   {
    "duration": 6,
    "start_time": "2023-02-23T14:54:58.911Z"
   },
   {
    "duration": 32826,
    "start_time": "2023-02-23T14:54:58.919Z"
   },
   {
    "duration": 4,
    "start_time": "2023-02-23T14:55:31.747Z"
   },
   {
    "duration": 24,
    "start_time": "2023-02-23T14:55:31.752Z"
   },
   {
    "duration": 11,
    "start_time": "2023-02-23T14:55:31.778Z"
   },
   {
    "duration": 41,
    "start_time": "2023-02-23T14:55:31.791Z"
   },
   {
    "duration": 10,
    "start_time": "2023-02-23T14:55:31.833Z"
   },
   {
    "duration": 20,
    "start_time": "2023-02-23T14:55:31.844Z"
   },
   {
    "duration": 11,
    "start_time": "2023-02-23T14:55:31.865Z"
   },
   {
    "duration": 53,
    "start_time": "2023-02-23T14:55:31.904Z"
   },
   {
    "duration": 1653,
    "start_time": "2023-02-23T14:55:31.959Z"
   },
   {
    "duration": 823,
    "start_time": "2023-02-23T14:58:14.121Z"
   },
   {
    "duration": 974,
    "start_time": "2023-02-23T14:58:14.947Z"
   },
   {
    "duration": 8,
    "start_time": "2023-02-23T14:58:15.923Z"
   },
   {
    "duration": 64,
    "start_time": "2023-02-23T14:58:15.932Z"
   },
   {
    "duration": 456,
    "start_time": "2023-02-23T14:58:16.003Z"
   },
   {
    "duration": 661,
    "start_time": "2023-02-23T14:58:16.461Z"
   },
   {
    "duration": 353,
    "start_time": "2023-02-23T14:58:17.124Z"
   },
   {
    "duration": 87,
    "start_time": "2023-02-23T14:58:17.479Z"
   },
   {
    "duration": 44,
    "start_time": "2023-02-23T14:58:17.567Z"
   },
   {
    "duration": 53,
    "start_time": "2023-02-23T14:58:17.612Z"
   },
   {
    "duration": 65,
    "start_time": "2023-02-23T14:58:17.666Z"
   },
   {
    "duration": 54,
    "start_time": "2023-02-23T14:58:17.733Z"
   },
   {
    "duration": 221,
    "start_time": "2023-02-23T14:58:17.789Z"
   },
   {
    "duration": 2,
    "start_time": "2023-02-23T14:58:18.013Z"
   },
   {
    "duration": 1877,
    "start_time": "2023-02-23T14:58:18.017Z"
   },
   {
    "duration": 26,
    "start_time": "2023-02-23T14:58:19.895Z"
   },
   {
    "duration": 9,
    "start_time": "2023-02-23T14:58:19.922Z"
   },
   {
    "duration": 3,
    "start_time": "2023-02-23T14:58:19.933Z"
   },
   {
    "duration": 38,
    "start_time": "2023-02-23T14:58:19.937Z"
   },
   {
    "duration": 31,
    "start_time": "2023-02-23T14:58:19.977Z"
   },
   {
    "duration": 31997,
    "start_time": "2023-02-23T14:58:20.010Z"
   },
   {
    "duration": 5,
    "start_time": "2023-02-23T14:58:52.009Z"
   },
   {
    "duration": 25,
    "start_time": "2023-02-23T14:58:52.016Z"
   },
   {
    "duration": 19,
    "start_time": "2023-02-23T14:58:52.043Z"
   },
   {
    "duration": 52,
    "start_time": "2023-02-23T14:58:52.063Z"
   },
   {
    "duration": 10,
    "start_time": "2023-02-23T14:58:52.117Z"
   },
   {
    "duration": 28,
    "start_time": "2023-02-23T14:58:52.129Z"
   },
   {
    "duration": 17,
    "start_time": "2023-02-23T14:58:52.159Z"
   },
   {
    "duration": 54,
    "start_time": "2023-02-23T14:58:52.178Z"
   },
   {
    "duration": 1814,
    "start_time": "2023-02-23T14:58:52.234Z"
   },
   {
    "duration": 900,
    "start_time": "2023-02-23T14:59:53.595Z"
   },
   {
    "duration": 1010,
    "start_time": "2023-02-23T14:59:54.497Z"
   },
   {
    "duration": 4,
    "start_time": "2023-02-23T14:59:55.509Z"
   },
   {
    "duration": 64,
    "start_time": "2023-02-23T14:59:55.515Z"
   },
   {
    "duration": 493,
    "start_time": "2023-02-23T14:59:55.581Z"
   },
   {
    "duration": 571,
    "start_time": "2023-02-23T14:59:56.076Z"
   },
   {
    "duration": 386,
    "start_time": "2023-02-23T14:59:56.649Z"
   },
   {
    "duration": 95,
    "start_time": "2023-02-23T14:59:57.037Z"
   },
   {
    "duration": 64,
    "start_time": "2023-02-23T14:59:57.134Z"
   },
   {
    "duration": 56,
    "start_time": "2023-02-23T14:59:57.205Z"
   },
   {
    "duration": 77,
    "start_time": "2023-02-23T14:59:57.263Z"
   },
   {
    "duration": 63,
    "start_time": "2023-02-23T14:59:57.342Z"
   },
   {
    "duration": 260,
    "start_time": "2023-02-23T14:59:57.407Z"
   },
   {
    "duration": 4,
    "start_time": "2023-02-23T14:59:57.669Z"
   },
   {
    "duration": 1910,
    "start_time": "2023-02-23T14:59:57.675Z"
   },
   {
    "duration": 26,
    "start_time": "2023-02-23T14:59:59.587Z"
   },
   {
    "duration": 10,
    "start_time": "2023-02-23T14:59:59.614Z"
   },
   {
    "duration": 4,
    "start_time": "2023-02-23T14:59:59.625Z"
   },
   {
    "duration": 8,
    "start_time": "2023-02-23T14:59:59.630Z"
   },
   {
    "duration": 20,
    "start_time": "2023-02-23T14:59:59.640Z"
   },
   {
    "duration": 6,
    "start_time": "2023-02-23T15:00:20.434Z"
   },
   {
    "duration": 13,
    "start_time": "2023-02-23T15:01:38.288Z"
   },
   {
    "duration": 13,
    "start_time": "2023-02-23T15:01:41.796Z"
   },
   {
    "duration": 14,
    "start_time": "2023-02-23T15:01:45.347Z"
   },
   {
    "duration": 31,
    "start_time": "2023-02-23T15:01:49.129Z"
   },
   {
    "duration": 12,
    "start_time": "2023-02-23T15:01:58.114Z"
   },
   {
    "duration": 16,
    "start_time": "2023-02-23T15:02:01.725Z"
   },
   {
    "duration": 30,
    "start_time": "2023-02-23T15:02:05.423Z"
   },
   {
    "duration": 863,
    "start_time": "2023-02-23T15:02:40.270Z"
   },
   {
    "duration": 952,
    "start_time": "2023-02-23T15:02:41.135Z"
   },
   {
    "duration": 5,
    "start_time": "2023-02-23T15:02:42.089Z"
   },
   {
    "duration": 58,
    "start_time": "2023-02-23T15:02:42.104Z"
   },
   {
    "duration": 477,
    "start_time": "2023-02-23T15:02:42.164Z"
   },
   {
    "duration": 603,
    "start_time": "2023-02-23T15:02:42.643Z"
   },
   {
    "duration": 340,
    "start_time": "2023-02-23T15:02:43.248Z"
   },
   {
    "duration": 86,
    "start_time": "2023-02-23T15:02:43.590Z"
   },
   {
    "duration": 47,
    "start_time": "2023-02-23T15:02:43.678Z"
   },
   {
    "duration": 50,
    "start_time": "2023-02-23T15:02:43.728Z"
   },
   {
    "duration": 60,
    "start_time": "2023-02-23T15:02:43.780Z"
   },
   {
    "duration": 65,
    "start_time": "2023-02-23T15:02:43.842Z"
   },
   {
    "duration": 189,
    "start_time": "2023-02-23T15:02:43.909Z"
   },
   {
    "duration": 4,
    "start_time": "2023-02-23T15:02:44.100Z"
   },
   {
    "duration": 1936,
    "start_time": "2023-02-23T15:02:44.106Z"
   },
   {
    "duration": 24,
    "start_time": "2023-02-23T15:02:46.044Z"
   },
   {
    "duration": 11,
    "start_time": "2023-02-23T15:02:46.071Z"
   },
   {
    "duration": 4,
    "start_time": "2023-02-23T15:02:46.104Z"
   },
   {
    "duration": 40,
    "start_time": "2023-02-23T15:02:46.110Z"
   },
   {
    "duration": 7,
    "start_time": "2023-02-23T15:02:46.152Z"
   },
   {
    "duration": 33787,
    "start_time": "2023-02-23T15:02:46.160Z"
   },
   {
    "duration": 3,
    "start_time": "2023-02-23T15:03:19.949Z"
   },
   {
    "duration": 18,
    "start_time": "2023-02-23T15:03:19.953Z"
   },
   {
    "duration": 12,
    "start_time": "2023-02-23T15:03:19.972Z"
   },
   {
    "duration": 49,
    "start_time": "2023-02-23T15:03:19.985Z"
   },
   {
    "duration": 8,
    "start_time": "2023-02-23T15:03:20.036Z"
   },
   {
    "duration": 31,
    "start_time": "2023-02-23T15:03:20.046Z"
   },
   {
    "duration": 30,
    "start_time": "2023-02-23T15:03:20.080Z"
   },
   {
    "duration": 30,
    "start_time": "2023-02-23T15:03:20.111Z"
   },
   {
    "duration": 1661,
    "start_time": "2023-02-23T15:03:20.143Z"
   },
   {
    "duration": 45,
    "start_time": "2023-02-23T15:16:52.875Z"
   },
   {
    "duration": 56,
    "start_time": "2023-02-23T15:20:11.110Z"
   },
   {
    "duration": 43,
    "start_time": "2023-02-23T15:21:08.870Z"
   },
   {
    "duration": 292,
    "start_time": "2023-02-23T15:30:04.952Z"
   },
   {
    "duration": 15,
    "start_time": "2023-02-23T15:30:42.999Z"
   },
   {
    "duration": 21,
    "start_time": "2023-02-23T15:31:43.625Z"
   },
   {
    "duration": 110,
    "start_time": "2023-02-23T15:34:16.252Z"
   },
   {
    "duration": 77,
    "start_time": "2023-02-23T15:34:37.969Z"
   },
   {
    "duration": 205,
    "start_time": "2023-02-23T15:34:46.029Z"
   },
   {
    "duration": 126,
    "start_time": "2023-02-23T15:34:51.935Z"
   },
   {
    "duration": 4,
    "start_time": "2023-02-23T15:38:52.943Z"
   },
   {
    "duration": 14,
    "start_time": "2023-02-23T15:41:02.719Z"
   },
   {
    "duration": 14,
    "start_time": "2023-02-23T15:43:55.877Z"
   },
   {
    "duration": 6,
    "start_time": "2023-02-23T15:45:16.505Z"
   },
   {
    "duration": 69,
    "start_time": "2023-02-23T15:47:42.747Z"
   },
   {
    "duration": 417,
    "start_time": "2023-02-23T15:47:49.060Z"
   },
   {
    "duration": 460,
    "start_time": "2023-02-23T15:50:05.720Z"
   },
   {
    "duration": 410,
    "start_time": "2023-02-23T15:53:43.498Z"
   },
   {
    "duration": 427,
    "start_time": "2023-02-23T15:53:48.386Z"
   },
   {
    "duration": 1182,
    "start_time": "2023-02-23T15:56:26.689Z"
   },
   {
    "duration": 965,
    "start_time": "2023-02-23T15:56:27.872Z"
   },
   {
    "duration": 3,
    "start_time": "2023-02-23T15:56:28.839Z"
   },
   {
    "duration": 65,
    "start_time": "2023-02-23T15:56:28.844Z"
   },
   {
    "duration": 458,
    "start_time": "2023-02-23T15:56:28.911Z"
   },
   {
    "duration": 547,
    "start_time": "2023-02-23T15:56:29.370Z"
   },
   {
    "duration": 347,
    "start_time": "2023-02-23T15:56:29.919Z"
   },
   {
    "duration": 90,
    "start_time": "2023-02-23T15:56:30.270Z"
   },
   {
    "duration": 100,
    "start_time": "2023-02-23T15:56:30.362Z"
   },
   {
    "duration": 55,
    "start_time": "2023-02-23T15:56:30.464Z"
   },
   {
    "duration": 48,
    "start_time": "2023-02-23T15:56:30.520Z"
   },
   {
    "duration": 68,
    "start_time": "2023-02-23T15:56:30.570Z"
   },
   {
    "duration": 202,
    "start_time": "2023-02-23T15:56:30.639Z"
   },
   {
    "duration": 3,
    "start_time": "2023-02-23T15:56:30.843Z"
   },
   {
    "duration": 1863,
    "start_time": "2023-02-23T15:56:30.847Z"
   },
   {
    "duration": 22,
    "start_time": "2023-02-23T15:56:32.711Z"
   },
   {
    "duration": 12,
    "start_time": "2023-02-23T15:56:32.734Z"
   },
   {
    "duration": 5,
    "start_time": "2023-02-23T15:56:32.747Z"
   },
   {
    "duration": 54,
    "start_time": "2023-02-23T15:56:32.753Z"
   },
   {
    "duration": 6,
    "start_time": "2023-02-23T15:56:32.809Z"
   },
   {
    "duration": 31307,
    "start_time": "2023-02-23T15:56:32.816Z"
   },
   {
    "duration": 4,
    "start_time": "2023-02-23T15:57:04.124Z"
   },
   {
    "duration": 32,
    "start_time": "2023-02-23T15:57:04.129Z"
   },
   {
    "duration": 14,
    "start_time": "2023-02-23T15:57:04.163Z"
   },
   {
    "duration": 40,
    "start_time": "2023-02-23T15:57:04.178Z"
   },
   {
    "duration": 7,
    "start_time": "2023-02-23T15:57:04.220Z"
   },
   {
    "duration": 29,
    "start_time": "2023-02-23T15:57:04.229Z"
   },
   {
    "duration": 56,
    "start_time": "2023-02-23T15:57:04.260Z"
   },
   {
    "duration": 0,
    "start_time": "2023-02-23T15:57:04.318Z"
   },
   {
    "duration": 0,
    "start_time": "2023-02-23T15:57:04.319Z"
   },
   {
    "duration": 0,
    "start_time": "2023-02-23T15:57:04.320Z"
   },
   {
    "duration": 0,
    "start_time": "2023-02-23T15:57:04.321Z"
   },
   {
    "duration": 0,
    "start_time": "2023-02-23T15:57:04.322Z"
   },
   {
    "duration": 4,
    "start_time": "2023-02-23T15:57:22.170Z"
   },
   {
    "duration": 911,
    "start_time": "2023-02-23T15:57:22.176Z"
   },
   {
    "duration": 5,
    "start_time": "2023-02-23T15:57:23.089Z"
   },
   {
    "duration": 26,
    "start_time": "2023-02-23T15:57:23.103Z"
   },
   {
    "duration": 418,
    "start_time": "2023-02-23T15:57:23.132Z"
   },
   {
    "duration": 511,
    "start_time": "2023-02-23T15:57:23.552Z"
   },
   {
    "duration": 310,
    "start_time": "2023-02-23T15:57:24.065Z"
   },
   {
    "duration": 87,
    "start_time": "2023-02-23T15:57:24.376Z"
   },
   {
    "duration": 47,
    "start_time": "2023-02-23T15:57:24.464Z"
   },
   {
    "duration": 64,
    "start_time": "2023-02-23T15:57:24.512Z"
   },
   {
    "duration": 48,
    "start_time": "2023-02-23T15:57:24.578Z"
   },
   {
    "duration": 51,
    "start_time": "2023-02-23T15:57:24.628Z"
   },
   {
    "duration": 189,
    "start_time": "2023-02-23T15:57:24.681Z"
   },
   {
    "duration": 2,
    "start_time": "2023-02-23T15:57:24.873Z"
   },
   {
    "duration": 1619,
    "start_time": "2023-02-23T15:57:24.877Z"
   },
   {
    "duration": 22,
    "start_time": "2023-02-23T15:57:26.498Z"
   },
   {
    "duration": 9,
    "start_time": "2023-02-23T15:57:26.522Z"
   },
   {
    "duration": 9,
    "start_time": "2023-02-23T15:57:26.533Z"
   },
   {
    "duration": 33,
    "start_time": "2023-02-23T15:57:26.543Z"
   },
   {
    "duration": 27,
    "start_time": "2023-02-23T15:57:26.578Z"
   },
   {
    "duration": 1121,
    "start_time": "2023-02-23T15:57:39.551Z"
   },
   {
    "duration": 976,
    "start_time": "2023-02-23T15:57:40.674Z"
   },
   {
    "duration": 4,
    "start_time": "2023-02-23T15:57:41.652Z"
   },
   {
    "duration": 72,
    "start_time": "2023-02-23T15:57:41.658Z"
   },
   {
    "duration": 461,
    "start_time": "2023-02-23T15:57:41.732Z"
   },
   {
    "duration": 569,
    "start_time": "2023-02-23T15:57:42.195Z"
   },
   {
    "duration": 333,
    "start_time": "2023-02-23T15:57:42.766Z"
   },
   {
    "duration": 86,
    "start_time": "2023-02-23T15:57:43.101Z"
   },
   {
    "duration": 92,
    "start_time": "2023-02-23T15:57:43.188Z"
   },
   {
    "duration": 59,
    "start_time": "2023-02-23T15:57:43.283Z"
   },
   {
    "duration": 46,
    "start_time": "2023-02-23T15:57:43.344Z"
   },
   {
    "duration": 50,
    "start_time": "2023-02-23T15:57:43.404Z"
   },
   {
    "duration": 214,
    "start_time": "2023-02-23T15:57:43.455Z"
   },
   {
    "duration": 2,
    "start_time": "2023-02-23T15:57:43.671Z"
   },
   {
    "duration": 1879,
    "start_time": "2023-02-23T15:57:43.675Z"
   },
   {
    "duration": 22,
    "start_time": "2023-02-23T15:57:45.556Z"
   },
   {
    "duration": 10,
    "start_time": "2023-02-23T15:57:45.580Z"
   },
   {
    "duration": 3,
    "start_time": "2023-02-23T15:57:45.604Z"
   },
   {
    "duration": 40,
    "start_time": "2023-02-23T15:57:45.609Z"
   },
   {
    "duration": 7,
    "start_time": "2023-02-23T15:57:45.651Z"
   },
   {
    "duration": 33265,
    "start_time": "2023-02-23T15:57:45.659Z"
   },
   {
    "duration": 4,
    "start_time": "2023-02-23T15:58:18.926Z"
   },
   {
    "duration": 24,
    "start_time": "2023-02-23T15:58:18.931Z"
   },
   {
    "duration": 13,
    "start_time": "2023-02-23T15:58:18.956Z"
   },
   {
    "duration": 52,
    "start_time": "2023-02-23T15:58:18.970Z"
   },
   {
    "duration": 9,
    "start_time": "2023-02-23T15:58:19.024Z"
   },
   {
    "duration": 25,
    "start_time": "2023-02-23T15:58:19.035Z"
   },
   {
    "duration": 14,
    "start_time": "2023-02-23T15:58:19.063Z"
   },
   {
    "duration": 33,
    "start_time": "2023-02-23T15:58:19.106Z"
   },
   {
    "duration": 1582,
    "start_time": "2023-02-23T15:58:19.141Z"
   },
   {
    "duration": 17,
    "start_time": "2023-02-23T15:58:20.725Z"
   },
   {
    "duration": 127,
    "start_time": "2023-02-23T15:58:20.743Z"
   },
   {
    "duration": 424,
    "start_time": "2023-02-23T15:58:28.474Z"
   },
   {
    "duration": 59,
    "start_time": "2023-02-23T16:01:39.099Z"
   },
   {
    "duration": 197,
    "start_time": "2023-02-23T16:02:12.764Z"
   },
   {
    "duration": 1100,
    "start_time": "2023-02-23T16:02:54.542Z"
   },
   {
    "duration": 917,
    "start_time": "2023-02-23T16:02:55.644Z"
   },
   {
    "duration": 3,
    "start_time": "2023-02-23T16:02:56.563Z"
   },
   {
    "duration": 66,
    "start_time": "2023-02-23T16:02:56.568Z"
   },
   {
    "duration": 510,
    "start_time": "2023-02-23T16:02:56.636Z"
   },
   {
    "duration": 574,
    "start_time": "2023-02-23T16:02:57.148Z"
   },
   {
    "duration": 353,
    "start_time": "2023-02-23T16:02:57.725Z"
   },
   {
    "duration": 81,
    "start_time": "2023-02-23T16:02:58.079Z"
   },
   {
    "duration": 90,
    "start_time": "2023-02-23T16:02:58.161Z"
   },
   {
    "duration": 61,
    "start_time": "2023-02-23T16:02:58.253Z"
   },
   {
    "duration": 51,
    "start_time": "2023-02-23T16:02:58.315Z"
   },
   {
    "duration": 78,
    "start_time": "2023-02-23T16:02:58.368Z"
   },
   {
    "duration": 209,
    "start_time": "2023-02-23T16:02:58.448Z"
   },
   {
    "duration": 3,
    "start_time": "2023-02-23T16:02:58.659Z"
   },
   {
    "duration": 1883,
    "start_time": "2023-02-23T16:02:58.663Z"
   },
   {
    "duration": 22,
    "start_time": "2023-02-23T16:03:00.548Z"
   },
   {
    "duration": 30,
    "start_time": "2023-02-23T16:03:00.572Z"
   },
   {
    "duration": 21,
    "start_time": "2023-02-23T16:03:00.604Z"
   },
   {
    "duration": 60,
    "start_time": "2023-02-23T16:03:00.627Z"
   },
   {
    "duration": 6,
    "start_time": "2023-02-23T16:03:00.689Z"
   },
   {
    "duration": 33531,
    "start_time": "2023-02-23T16:03:00.696Z"
   },
   {
    "duration": 4,
    "start_time": "2023-02-23T16:03:34.229Z"
   },
   {
    "duration": 21,
    "start_time": "2023-02-23T16:03:34.234Z"
   },
   {
    "duration": 13,
    "start_time": "2023-02-23T16:03:34.257Z"
   },
   {
    "duration": 53,
    "start_time": "2023-02-23T16:03:34.272Z"
   },
   {
    "duration": 7,
    "start_time": "2023-02-23T16:03:34.327Z"
   },
   {
    "duration": 23,
    "start_time": "2023-02-23T16:03:34.335Z"
   },
   {
    "duration": 13,
    "start_time": "2023-02-23T16:03:34.361Z"
   },
   {
    "duration": 56,
    "start_time": "2023-02-23T16:03:34.375Z"
   },
   {
    "duration": 1543,
    "start_time": "2023-02-23T16:03:34.433Z"
   },
   {
    "duration": 17,
    "start_time": "2023-02-23T16:03:35.977Z"
   },
   {
    "duration": 110,
    "start_time": "2023-02-23T16:03:35.995Z"
   },
   {
    "duration": 384,
    "start_time": "2023-02-23T16:03:36.107Z"
   },
   {
    "duration": 46,
    "start_time": "2023-02-23T16:03:36.492Z"
   },
   {
    "duration": 111,
    "start_time": "2023-02-23T16:04:22.687Z"
   },
   {
    "duration": 111,
    "start_time": "2023-02-23T16:04:57.708Z"
   },
   {
    "duration": 1151,
    "start_time": "2023-02-23T16:05:13.713Z"
   },
   {
    "duration": 964,
    "start_time": "2023-02-23T16:05:14.866Z"
   },
   {
    "duration": 4,
    "start_time": "2023-02-23T16:05:15.831Z"
   },
   {
    "duration": 67,
    "start_time": "2023-02-23T16:05:15.837Z"
   },
   {
    "duration": 470,
    "start_time": "2023-02-23T16:05:15.906Z"
   },
   {
    "duration": 589,
    "start_time": "2023-02-23T16:05:16.377Z"
   },
   {
    "duration": 405,
    "start_time": "2023-02-23T16:05:16.968Z"
   },
   {
    "duration": 111,
    "start_time": "2023-02-23T16:05:17.375Z"
   },
   {
    "duration": 100,
    "start_time": "2023-02-23T16:05:17.488Z"
   },
   {
    "duration": 62,
    "start_time": "2023-02-23T16:05:17.591Z"
   },
   {
    "duration": 62,
    "start_time": "2023-02-23T16:05:17.654Z"
   },
   {
    "duration": 54,
    "start_time": "2023-02-23T16:05:17.718Z"
   },
   {
    "duration": 230,
    "start_time": "2023-02-23T16:05:17.774Z"
   },
   {
    "duration": 2,
    "start_time": "2023-02-23T16:05:18.006Z"
   },
   {
    "duration": 1923,
    "start_time": "2023-02-23T16:05:18.009Z"
   },
   {
    "duration": 21,
    "start_time": "2023-02-23T16:05:19.934Z"
   },
   {
    "duration": 9,
    "start_time": "2023-02-23T16:05:19.957Z"
   },
   {
    "duration": 3,
    "start_time": "2023-02-23T16:05:19.968Z"
   },
   {
    "duration": 63,
    "start_time": "2023-02-23T16:05:19.973Z"
   },
   {
    "duration": 8,
    "start_time": "2023-02-23T16:05:20.038Z"
   },
   {
    "duration": 31883,
    "start_time": "2023-02-23T16:05:20.060Z"
   },
   {
    "duration": 4,
    "start_time": "2023-02-23T16:05:51.944Z"
   },
   {
    "duration": 18,
    "start_time": "2023-02-23T16:05:51.950Z"
   },
   {
    "duration": 14,
    "start_time": "2023-02-23T16:05:51.970Z"
   },
   {
    "duration": 55,
    "start_time": "2023-02-23T16:05:51.986Z"
   },
   {
    "duration": 9,
    "start_time": "2023-02-23T16:05:52.043Z"
   },
   {
    "duration": 22,
    "start_time": "2023-02-23T16:05:52.054Z"
   },
   {
    "duration": 35,
    "start_time": "2023-02-23T16:05:52.078Z"
   },
   {
    "duration": 32,
    "start_time": "2023-02-23T16:05:52.114Z"
   },
   {
    "duration": 1559,
    "start_time": "2023-02-23T16:05:52.149Z"
   },
   {
    "duration": 18,
    "start_time": "2023-02-23T16:05:53.710Z"
   },
   {
    "duration": 129,
    "start_time": "2023-02-23T16:05:53.730Z"
   },
   {
    "duration": 0,
    "start_time": "2023-02-23T16:05:54.450Z"
   },
   {
    "duration": 14,
    "start_time": "2023-02-23T16:05:59.979Z"
   },
   {
    "duration": 1135,
    "start_time": "2023-02-23T16:06:19.948Z"
   },
   {
    "duration": 964,
    "start_time": "2023-02-23T16:06:21.085Z"
   },
   {
    "duration": 6,
    "start_time": "2023-02-23T16:06:22.052Z"
   },
   {
    "duration": 73,
    "start_time": "2023-02-23T16:06:22.059Z"
   },
   {
    "duration": 475,
    "start_time": "2023-02-23T16:06:22.134Z"
   },
   {
    "duration": 588,
    "start_time": "2023-02-23T16:06:22.611Z"
   },
   {
    "duration": 344,
    "start_time": "2023-02-23T16:06:23.201Z"
   },
   {
    "duration": 84,
    "start_time": "2023-02-23T16:06:23.547Z"
   },
   {
    "duration": 103,
    "start_time": "2023-02-23T16:06:23.633Z"
   },
   {
    "duration": 52,
    "start_time": "2023-02-23T16:06:23.738Z"
   },
   {
    "duration": 53,
    "start_time": "2023-02-23T16:06:23.791Z"
   },
   {
    "duration": 63,
    "start_time": "2023-02-23T16:06:23.845Z"
   },
   {
    "duration": 204,
    "start_time": "2023-02-23T16:06:23.910Z"
   },
   {
    "duration": 2,
    "start_time": "2023-02-23T16:06:24.117Z"
   },
   {
    "duration": 1863,
    "start_time": "2023-02-23T16:06:24.121Z"
   },
   {
    "duration": 26,
    "start_time": "2023-02-23T16:06:25.985Z"
   },
   {
    "duration": 9,
    "start_time": "2023-02-23T16:06:26.013Z"
   },
   {
    "duration": 5,
    "start_time": "2023-02-23T16:06:26.024Z"
   },
   {
    "duration": 34,
    "start_time": "2023-02-23T16:06:26.030Z"
   },
   {
    "duration": 6,
    "start_time": "2023-02-23T16:06:26.065Z"
   },
   {
    "duration": 33126,
    "start_time": "2023-02-23T16:06:26.073Z"
   },
   {
    "duration": 5,
    "start_time": "2023-02-23T16:06:59.200Z"
   },
   {
    "duration": 17,
    "start_time": "2023-02-23T16:06:59.206Z"
   },
   {
    "duration": 13,
    "start_time": "2023-02-23T16:06:59.224Z"
   },
   {
    "duration": 31,
    "start_time": "2023-02-23T16:06:59.238Z"
   },
   {
    "duration": 33,
    "start_time": "2023-02-23T16:06:59.271Z"
   },
   {
    "duration": 23,
    "start_time": "2023-02-23T16:06:59.306Z"
   },
   {
    "duration": 16,
    "start_time": "2023-02-23T16:06:59.330Z"
   },
   {
    "duration": 30,
    "start_time": "2023-02-23T16:06:59.347Z"
   },
   {
    "duration": 1517,
    "start_time": "2023-02-23T16:06:59.403Z"
   },
   {
    "duration": 19,
    "start_time": "2023-02-23T16:07:00.921Z"
   },
   {
    "duration": 154,
    "start_time": "2023-02-23T16:07:00.942Z"
   },
   {
    "duration": 625,
    "start_time": "2023-02-23T16:07:01.099Z"
   },
   {
    "duration": 1187,
    "start_time": "2023-02-23T16:09:37.981Z"
   },
   {
    "duration": 972,
    "start_time": "2023-02-23T16:09:39.170Z"
   },
   {
    "duration": 6,
    "start_time": "2023-02-23T16:09:40.143Z"
   },
   {
    "duration": 85,
    "start_time": "2023-02-23T16:09:40.151Z"
   },
   {
    "duration": 457,
    "start_time": "2023-02-23T16:09:40.237Z"
   },
   {
    "duration": 582,
    "start_time": "2023-02-23T16:09:40.696Z"
   },
   {
    "duration": 360,
    "start_time": "2023-02-23T16:09:41.279Z"
   },
   {
    "duration": 144,
    "start_time": "2023-02-23T16:09:41.640Z"
   },
   {
    "duration": 38,
    "start_time": "2023-02-23T16:09:41.785Z"
   },
   {
    "duration": 52,
    "start_time": "2023-02-23T16:09:41.826Z"
   },
   {
    "duration": 62,
    "start_time": "2023-02-23T16:09:41.880Z"
   },
   {
    "duration": 60,
    "start_time": "2023-02-23T16:09:41.944Z"
   },
   {
    "duration": 210,
    "start_time": "2023-02-23T16:09:42.006Z"
   },
   {
    "duration": 2,
    "start_time": "2023-02-23T16:09:42.218Z"
   },
   {
    "duration": 1897,
    "start_time": "2023-02-23T16:09:42.222Z"
   },
   {
    "duration": 27,
    "start_time": "2023-02-23T16:09:44.120Z"
   },
   {
    "duration": 10,
    "start_time": "2023-02-23T16:09:44.149Z"
   },
   {
    "duration": 3,
    "start_time": "2023-02-23T16:09:44.160Z"
   },
   {
    "duration": 56,
    "start_time": "2023-02-23T16:09:44.164Z"
   },
   {
    "duration": 6,
    "start_time": "2023-02-23T16:09:44.222Z"
   },
   {
    "duration": 34660,
    "start_time": "2023-02-23T16:09:44.230Z"
   },
   {
    "duration": 7,
    "start_time": "2023-02-23T16:10:18.891Z"
   },
   {
    "duration": 18,
    "start_time": "2023-02-23T16:10:18.904Z"
   },
   {
    "duration": 15,
    "start_time": "2023-02-23T16:10:18.923Z"
   },
   {
    "duration": 64,
    "start_time": "2023-02-23T16:10:18.940Z"
   },
   {
    "duration": 8,
    "start_time": "2023-02-23T16:10:19.006Z"
   },
   {
    "duration": 28,
    "start_time": "2023-02-23T16:10:19.016Z"
   },
   {
    "duration": 16,
    "start_time": "2023-02-23T16:10:19.047Z"
   },
   {
    "duration": 75,
    "start_time": "2023-02-23T16:10:19.065Z"
   },
   {
    "duration": 1706,
    "start_time": "2023-02-23T16:10:19.142Z"
   },
   {
    "duration": 23,
    "start_time": "2023-02-23T16:10:20.850Z"
   },
   {
    "duration": 129,
    "start_time": "2023-02-23T16:10:20.875Z"
   },
   {
    "duration": 59,
    "start_time": "2023-02-23T16:10:21.006Z"
   },
   {
    "duration": 60,
    "start_time": "2023-02-23T16:10:29.591Z"
   },
   {
    "duration": 78,
    "start_time": "2023-02-23T16:11:30.650Z"
   },
   {
    "duration": 502,
    "start_time": "2023-02-23T16:11:37.671Z"
   },
   {
    "duration": 18,
    "start_time": "2023-02-23T16:11:43.798Z"
   },
   {
    "duration": 1192,
    "start_time": "2023-02-23T16:11:49.668Z"
   },
   {
    "duration": 961,
    "start_time": "2023-02-23T16:11:50.862Z"
   },
   {
    "duration": 4,
    "start_time": "2023-02-23T16:11:51.825Z"
   },
   {
    "duration": 66,
    "start_time": "2023-02-23T16:11:51.831Z"
   },
   {
    "duration": 479,
    "start_time": "2023-02-23T16:11:51.903Z"
   },
   {
    "duration": 597,
    "start_time": "2023-02-23T16:11:52.383Z"
   },
   {
    "duration": 345,
    "start_time": "2023-02-23T16:11:52.981Z"
   },
   {
    "duration": 90,
    "start_time": "2023-02-23T16:11:53.328Z"
   },
   {
    "duration": 99,
    "start_time": "2023-02-23T16:11:53.420Z"
   },
   {
    "duration": 52,
    "start_time": "2023-02-23T16:11:53.522Z"
   },
   {
    "duration": 53,
    "start_time": "2023-02-23T16:11:53.576Z"
   },
   {
    "duration": 53,
    "start_time": "2023-02-23T16:11:53.631Z"
   },
   {
    "duration": 222,
    "start_time": "2023-02-23T16:11:53.685Z"
   },
   {
    "duration": 3,
    "start_time": "2023-02-23T16:11:53.908Z"
   },
   {
    "duration": 1850,
    "start_time": "2023-02-23T16:11:53.912Z"
   },
   {
    "duration": 22,
    "start_time": "2023-02-23T16:11:55.763Z"
   },
   {
    "duration": 23,
    "start_time": "2023-02-23T16:11:55.786Z"
   },
   {
    "duration": 3,
    "start_time": "2023-02-23T16:11:55.810Z"
   },
   {
    "duration": 41,
    "start_time": "2023-02-23T16:11:55.814Z"
   },
   {
    "duration": 7,
    "start_time": "2023-02-23T16:11:55.857Z"
   },
   {
    "duration": 31963,
    "start_time": "2023-02-23T16:11:55.865Z"
   },
   {
    "duration": 4,
    "start_time": "2023-02-23T16:12:27.830Z"
   },
   {
    "duration": 19,
    "start_time": "2023-02-23T16:12:27.835Z"
   },
   {
    "duration": 13,
    "start_time": "2023-02-23T16:12:27.855Z"
   },
   {
    "duration": 51,
    "start_time": "2023-02-23T16:12:27.870Z"
   },
   {
    "duration": 11,
    "start_time": "2023-02-23T16:12:27.923Z"
   },
   {
    "duration": 27,
    "start_time": "2023-02-23T16:12:27.935Z"
   },
   {
    "duration": 13,
    "start_time": "2023-02-23T16:12:27.965Z"
   },
   {
    "duration": 29,
    "start_time": "2023-02-23T16:12:28.004Z"
   },
   {
    "duration": 1536,
    "start_time": "2023-02-23T16:12:28.036Z"
   },
   {
    "duration": 18,
    "start_time": "2023-02-23T16:12:29.574Z"
   },
   {
    "duration": 121,
    "start_time": "2023-02-23T16:12:29.593Z"
   },
   {
    "duration": 663,
    "start_time": "2023-02-23T16:12:29.716Z"
   },
   {
    "duration": 1238,
    "start_time": "2023-02-23T16:13:45.704Z"
   },
   {
    "duration": 1037,
    "start_time": "2023-02-23T16:13:46.945Z"
   },
   {
    "duration": 4,
    "start_time": "2023-02-23T16:13:47.983Z"
   },
   {
    "duration": 78,
    "start_time": "2023-02-23T16:13:47.989Z"
   },
   {
    "duration": 486,
    "start_time": "2023-02-23T16:13:48.068Z"
   },
   {
    "duration": 606,
    "start_time": "2023-02-23T16:13:48.556Z"
   },
   {
    "duration": 351,
    "start_time": "2023-02-23T16:13:49.164Z"
   },
   {
    "duration": 91,
    "start_time": "2023-02-23T16:13:49.516Z"
   },
   {
    "duration": 82,
    "start_time": "2023-02-23T16:13:49.608Z"
   },
   {
    "duration": 56,
    "start_time": "2023-02-23T16:13:49.705Z"
   },
   {
    "duration": 62,
    "start_time": "2023-02-23T16:13:49.762Z"
   },
   {
    "duration": 51,
    "start_time": "2023-02-23T16:13:49.826Z"
   },
   {
    "duration": 213,
    "start_time": "2023-02-23T16:13:49.879Z"
   },
   {
    "duration": 3,
    "start_time": "2023-02-23T16:13:50.093Z"
   },
   {
    "duration": 1939,
    "start_time": "2023-02-23T16:13:50.097Z"
   },
   {
    "duration": 21,
    "start_time": "2023-02-23T16:13:52.038Z"
   },
   {
    "duration": 17,
    "start_time": "2023-02-23T16:13:52.061Z"
   },
   {
    "duration": 9,
    "start_time": "2023-02-23T16:13:52.080Z"
   },
   {
    "duration": 51,
    "start_time": "2023-02-23T16:13:52.090Z"
   },
   {
    "duration": 5,
    "start_time": "2023-02-23T16:13:52.143Z"
   },
   {
    "duration": 34389,
    "start_time": "2023-02-23T16:13:52.150Z"
   },
   {
    "duration": 4,
    "start_time": "2023-02-23T16:14:26.541Z"
   },
   {
    "duration": 22,
    "start_time": "2023-02-23T16:14:26.547Z"
   },
   {
    "duration": 14,
    "start_time": "2023-02-23T16:14:26.571Z"
   },
   {
    "duration": 46,
    "start_time": "2023-02-23T16:14:26.587Z"
   },
   {
    "duration": 8,
    "start_time": "2023-02-23T16:14:26.635Z"
   },
   {
    "duration": 24,
    "start_time": "2023-02-23T16:14:26.644Z"
   },
   {
    "duration": 34,
    "start_time": "2023-02-23T16:14:26.671Z"
   },
   {
    "duration": 37,
    "start_time": "2023-02-23T16:14:26.708Z"
   },
   {
    "duration": 1593,
    "start_time": "2023-02-23T16:14:26.747Z"
   },
   {
    "duration": 19,
    "start_time": "2023-02-23T16:14:28.342Z"
   },
   {
    "duration": 115,
    "start_time": "2023-02-23T16:14:28.363Z"
   },
   {
    "duration": 601,
    "start_time": "2023-02-23T16:14:28.479Z"
   },
   {
    "duration": 4,
    "start_time": "2023-02-23T16:18:38.100Z"
   },
   {
    "duration": 4,
    "start_time": "2023-02-23T16:19:13.393Z"
   },
   {
    "duration": 2,
    "start_time": "2023-02-23T16:21:29.362Z"
   },
   {
    "duration": 2,
    "start_time": "2023-02-23T16:21:56.187Z"
   },
   {
    "duration": 1031,
    "start_time": "2023-02-23T16:30:12.510Z"
   },
   {
    "duration": 1559,
    "start_time": "2023-02-23T16:30:24.365Z"
   },
   {
    "duration": 5,
    "start_time": "2023-02-23T16:33:52.079Z"
   },
   {
    "duration": 1432,
    "start_time": "2023-02-23T16:34:08.896Z"
   },
   {
    "duration": 14,
    "start_time": "2023-02-23T16:35:04.511Z"
   },
   {
    "duration": 1188,
    "start_time": "2023-02-23T16:35:12.600Z"
   },
   {
    "duration": 928,
    "start_time": "2023-02-23T16:35:13.790Z"
   },
   {
    "duration": 4,
    "start_time": "2023-02-23T16:35:14.720Z"
   },
   {
    "duration": 62,
    "start_time": "2023-02-23T16:35:14.726Z"
   },
   {
    "duration": 507,
    "start_time": "2023-02-23T16:35:14.789Z"
   },
   {
    "duration": 596,
    "start_time": "2023-02-23T16:35:15.297Z"
   },
   {
    "duration": 347,
    "start_time": "2023-02-23T16:35:15.894Z"
   },
   {
    "duration": 84,
    "start_time": "2023-02-23T16:35:16.243Z"
   },
   {
    "duration": 101,
    "start_time": "2023-02-23T16:35:16.329Z"
   },
   {
    "duration": 54,
    "start_time": "2023-02-23T16:35:16.432Z"
   },
   {
    "duration": 58,
    "start_time": "2023-02-23T16:35:16.488Z"
   },
   {
    "duration": 67,
    "start_time": "2023-02-23T16:35:16.548Z"
   },
   {
    "duration": 282,
    "start_time": "2023-02-23T16:35:16.616Z"
   },
   {
    "duration": 3,
    "start_time": "2023-02-23T16:35:16.903Z"
   },
   {
    "duration": 1952,
    "start_time": "2023-02-23T16:35:16.908Z"
   },
   {
    "duration": 22,
    "start_time": "2023-02-23T16:35:18.863Z"
   },
   {
    "duration": 23,
    "start_time": "2023-02-23T16:35:18.886Z"
   },
   {
    "duration": 3,
    "start_time": "2023-02-23T16:35:18.911Z"
   },
   {
    "duration": 37,
    "start_time": "2023-02-23T16:35:18.915Z"
   },
   {
    "duration": 7,
    "start_time": "2023-02-23T16:35:18.953Z"
   },
   {
    "duration": 33073,
    "start_time": "2023-02-23T16:35:18.961Z"
   },
   {
    "duration": 4,
    "start_time": "2023-02-23T16:35:52.036Z"
   },
   {
    "duration": 20,
    "start_time": "2023-02-23T16:35:52.041Z"
   },
   {
    "duration": 13,
    "start_time": "2023-02-23T16:35:52.063Z"
   },
   {
    "duration": 57,
    "start_time": "2023-02-23T16:35:52.078Z"
   },
   {
    "duration": 10,
    "start_time": "2023-02-23T16:35:52.136Z"
   },
   {
    "duration": 24,
    "start_time": "2023-02-23T16:35:52.148Z"
   },
   {
    "duration": 36,
    "start_time": "2023-02-23T16:35:52.176Z"
   },
   {
    "duration": 29,
    "start_time": "2023-02-23T16:35:52.214Z"
   },
   {
    "duration": 1583,
    "start_time": "2023-02-23T16:35:52.245Z"
   },
   {
    "duration": 18,
    "start_time": "2023-02-23T16:35:53.829Z"
   },
   {
    "duration": 112,
    "start_time": "2023-02-23T16:35:53.848Z"
   },
   {
    "duration": 585,
    "start_time": "2023-02-23T16:35:53.962Z"
   },
   {
    "duration": 0,
    "start_time": "2023-02-23T16:35:54.549Z"
   },
   {
    "duration": 0,
    "start_time": "2023-02-23T16:35:54.550Z"
   },
   {
    "duration": 0,
    "start_time": "2023-02-23T16:35:54.551Z"
   },
   {
    "duration": 0,
    "start_time": "2023-02-23T16:35:54.552Z"
   },
   {
    "duration": 1097,
    "start_time": "2023-02-23T16:37:07.751Z"
   },
   {
    "duration": 969,
    "start_time": "2023-02-23T16:37:08.850Z"
   },
   {
    "duration": 5,
    "start_time": "2023-02-23T16:37:09.821Z"
   },
   {
    "duration": 76,
    "start_time": "2023-02-23T16:37:09.828Z"
   },
   {
    "duration": 482,
    "start_time": "2023-02-23T16:37:09.907Z"
   },
   {
    "duration": 581,
    "start_time": "2023-02-23T16:37:10.391Z"
   },
   {
    "duration": 378,
    "start_time": "2023-02-23T16:37:10.974Z"
   },
   {
    "duration": 89,
    "start_time": "2023-02-23T16:37:11.355Z"
   },
   {
    "duration": 105,
    "start_time": "2023-02-23T16:37:11.446Z"
   },
   {
    "duration": 108,
    "start_time": "2023-02-23T16:37:11.552Z"
   },
   {
    "duration": 70,
    "start_time": "2023-02-23T16:37:11.663Z"
   },
   {
    "duration": 67,
    "start_time": "2023-02-23T16:37:11.736Z"
   },
   {
    "duration": 217,
    "start_time": "2023-02-23T16:37:11.805Z"
   },
   {
    "duration": 3,
    "start_time": "2023-02-23T16:37:12.026Z"
   },
   {
    "duration": 1948,
    "start_time": "2023-02-23T16:37:12.031Z"
   },
   {
    "duration": 32,
    "start_time": "2023-02-23T16:37:13.981Z"
   },
   {
    "duration": 13,
    "start_time": "2023-02-23T16:37:14.014Z"
   },
   {
    "duration": 6,
    "start_time": "2023-02-23T16:37:14.029Z"
   },
   {
    "duration": 34,
    "start_time": "2023-02-23T16:37:14.037Z"
   },
   {
    "duration": 6,
    "start_time": "2023-02-23T16:37:14.073Z"
   },
   {
    "duration": 35314,
    "start_time": "2023-02-23T16:37:14.081Z"
   },
   {
    "duration": 6,
    "start_time": "2023-02-23T16:37:49.397Z"
   },
   {
    "duration": 31,
    "start_time": "2023-02-23T16:37:49.405Z"
   },
   {
    "duration": 16,
    "start_time": "2023-02-23T16:37:49.438Z"
   },
   {
    "duration": 52,
    "start_time": "2023-02-23T16:37:49.456Z"
   },
   {
    "duration": 9,
    "start_time": "2023-02-23T16:37:49.510Z"
   },
   {
    "duration": 23,
    "start_time": "2023-02-23T16:37:49.521Z"
   },
   {
    "duration": 13,
    "start_time": "2023-02-23T16:37:49.546Z"
   },
   {
    "duration": 63,
    "start_time": "2023-02-23T16:37:49.561Z"
   },
   {
    "duration": 1650,
    "start_time": "2023-02-23T16:37:49.626Z"
   },
   {
    "duration": 17,
    "start_time": "2023-02-23T16:37:51.278Z"
   },
   {
    "duration": 121,
    "start_time": "2023-02-23T16:37:51.296Z"
   },
   {
    "duration": 5,
    "start_time": "2023-02-23T16:37:59.982Z"
   },
   {
    "duration": 953,
    "start_time": "2023-02-23T16:37:59.989Z"
   },
   {
    "duration": 5,
    "start_time": "2023-02-23T16:38:00.944Z"
   },
   {
    "duration": 48,
    "start_time": "2023-02-23T16:38:00.950Z"
   },
   {
    "duration": 454,
    "start_time": "2023-02-23T16:38:01.000Z"
   },
   {
    "duration": 504,
    "start_time": "2023-02-23T16:38:01.456Z"
   },
   {
    "duration": 319,
    "start_time": "2023-02-23T16:38:01.962Z"
   },
   {
    "duration": 91,
    "start_time": "2023-02-23T16:38:02.282Z"
   },
   {
    "duration": 49,
    "start_time": "2023-02-23T16:38:02.375Z"
   },
   {
    "duration": 65,
    "start_time": "2023-02-23T16:38:02.426Z"
   },
   {
    "duration": 54,
    "start_time": "2023-02-23T16:38:02.493Z"
   },
   {
    "duration": 75,
    "start_time": "2023-02-23T16:38:02.549Z"
   },
   {
    "duration": 179,
    "start_time": "2023-02-23T16:38:02.626Z"
   },
   {
    "duration": 3,
    "start_time": "2023-02-23T16:38:02.808Z"
   },
   {
    "duration": 1706,
    "start_time": "2023-02-23T16:38:02.812Z"
   },
   {
    "duration": 23,
    "start_time": "2023-02-23T16:38:04.520Z"
   },
   {
    "duration": 10,
    "start_time": "2023-02-23T16:38:04.545Z"
   },
   {
    "duration": 3,
    "start_time": "2023-02-23T16:38:04.556Z"
   },
   {
    "duration": 53,
    "start_time": "2023-02-23T16:38:04.561Z"
   },
   {
    "duration": 6,
    "start_time": "2023-02-23T16:38:04.616Z"
   },
   {
    "duration": 35830,
    "start_time": "2023-02-23T16:38:04.623Z"
   },
   {
    "duration": 3,
    "start_time": "2023-02-23T16:38:40.455Z"
   },
   {
    "duration": 22,
    "start_time": "2023-02-23T16:38:40.460Z"
   },
   {
    "duration": 22,
    "start_time": "2023-02-23T16:38:40.484Z"
   },
   {
    "duration": 32,
    "start_time": "2023-02-23T16:38:40.508Z"
   },
   {
    "duration": 8,
    "start_time": "2023-02-23T16:38:40.542Z"
   },
   {
    "duration": 23,
    "start_time": "2023-02-23T16:38:40.551Z"
   },
   {
    "duration": 13,
    "start_time": "2023-02-23T16:38:40.604Z"
   },
   {
    "duration": 40,
    "start_time": "2023-02-23T16:38:40.618Z"
   },
   {
    "duration": 1630,
    "start_time": "2023-02-23T16:38:40.660Z"
   },
   {
    "duration": 23,
    "start_time": "2023-02-23T16:38:42.292Z"
   },
   {
    "duration": 124,
    "start_time": "2023-02-23T16:38:42.317Z"
   },
   {
    "duration": 618,
    "start_time": "2023-02-23T16:38:42.442Z"
   },
   {
    "duration": 3,
    "start_time": "2023-02-23T16:38:43.062Z"
   },
   {
    "duration": 6,
    "start_time": "2023-02-23T16:38:43.066Z"
   },
   {
    "duration": 9,
    "start_time": "2023-02-23T16:38:43.073Z"
   },
   {
    "duration": 1161,
    "start_time": "2023-02-23T16:38:56.067Z"
   },
   {
    "duration": 1186,
    "start_time": "2023-02-23T16:39:35.177Z"
   },
   {
    "duration": 1061,
    "start_time": "2023-02-23T16:39:36.365Z"
   },
   {
    "duration": 4,
    "start_time": "2023-02-23T16:39:37.427Z"
   },
   {
    "duration": 71,
    "start_time": "2023-02-23T16:39:37.433Z"
   },
   {
    "duration": 492,
    "start_time": "2023-02-23T16:39:37.506Z"
   },
   {
    "duration": 578,
    "start_time": "2023-02-23T16:39:38.000Z"
   },
   {
    "duration": 343,
    "start_time": "2023-02-23T16:39:38.579Z"
   },
   {
    "duration": 91,
    "start_time": "2023-02-23T16:39:38.924Z"
   },
   {
    "duration": 107,
    "start_time": "2023-02-23T16:39:39.017Z"
   },
   {
    "duration": 60,
    "start_time": "2023-02-23T16:39:39.127Z"
   },
   {
    "duration": 58,
    "start_time": "2023-02-23T16:39:39.190Z"
   },
   {
    "duration": 70,
    "start_time": "2023-02-23T16:39:39.250Z"
   },
   {
    "duration": 210,
    "start_time": "2023-02-23T16:39:39.322Z"
   },
   {
    "duration": 3,
    "start_time": "2023-02-23T16:39:39.536Z"
   },
   {
    "duration": 1902,
    "start_time": "2023-02-23T16:39:39.540Z"
   },
   {
    "duration": 22,
    "start_time": "2023-02-23T16:39:41.444Z"
   },
   {
    "duration": 12,
    "start_time": "2023-02-23T16:39:41.468Z"
   },
   {
    "duration": 4,
    "start_time": "2023-02-23T16:39:41.503Z"
   },
   {
    "duration": 54,
    "start_time": "2023-02-23T16:39:41.508Z"
   },
   {
    "duration": 6,
    "start_time": "2023-02-23T16:39:41.564Z"
   },
   {
    "duration": 32771,
    "start_time": "2023-02-23T16:39:41.571Z"
   },
   {
    "duration": 4,
    "start_time": "2023-02-23T16:40:14.344Z"
   },
   {
    "duration": 36,
    "start_time": "2023-02-23T16:40:14.350Z"
   },
   {
    "duration": 13,
    "start_time": "2023-02-23T16:40:14.387Z"
   },
   {
    "duration": 34,
    "start_time": "2023-02-23T16:40:14.401Z"
   },
   {
    "duration": 8,
    "start_time": "2023-02-23T16:40:14.437Z"
   },
   {
    "duration": 35,
    "start_time": "2023-02-23T16:40:14.446Z"
   },
   {
    "duration": 25,
    "start_time": "2023-02-23T16:40:14.482Z"
   },
   {
    "duration": 30,
    "start_time": "2023-02-23T16:40:14.509Z"
   },
   {
    "duration": 1592,
    "start_time": "2023-02-23T16:40:14.540Z"
   },
   {
    "duration": 18,
    "start_time": "2023-02-23T16:40:16.134Z"
   },
   {
    "duration": 124,
    "start_time": "2023-02-23T16:40:16.155Z"
   },
   {
    "duration": 1213,
    "start_time": "2023-02-23T16:45:57.267Z"
   },
   {
    "duration": 994,
    "start_time": "2023-02-23T16:45:58.483Z"
   },
   {
    "duration": 7,
    "start_time": "2023-02-23T16:45:59.479Z"
   },
   {
    "duration": 80,
    "start_time": "2023-02-23T16:45:59.489Z"
   },
   {
    "duration": 468,
    "start_time": "2023-02-23T16:45:59.571Z"
   },
   {
    "duration": 599,
    "start_time": "2023-02-23T16:46:00.041Z"
   },
   {
    "duration": 357,
    "start_time": "2023-02-23T16:46:00.641Z"
   },
   {
    "duration": 127,
    "start_time": "2023-02-23T16:46:01.000Z"
   },
   {
    "duration": 143,
    "start_time": "2023-02-23T16:46:01.129Z"
   },
   {
    "duration": 51,
    "start_time": "2023-02-23T16:46:01.275Z"
   },
   {
    "duration": 50,
    "start_time": "2023-02-23T16:46:01.327Z"
   },
   {
    "duration": 71,
    "start_time": "2023-02-23T16:46:01.379Z"
   },
   {
    "duration": 218,
    "start_time": "2023-02-23T16:46:01.452Z"
   },
   {
    "duration": 3,
    "start_time": "2023-02-23T16:46:01.672Z"
   },
   {
    "duration": 2041,
    "start_time": "2023-02-23T16:46:01.677Z"
   },
   {
    "duration": 27,
    "start_time": "2023-02-23T16:46:03.720Z"
   },
   {
    "duration": 13,
    "start_time": "2023-02-23T16:46:03.749Z"
   },
   {
    "duration": 6,
    "start_time": "2023-02-23T16:46:03.764Z"
   },
   {
    "duration": 57,
    "start_time": "2023-02-23T16:46:03.772Z"
   },
   {
    "duration": 6,
    "start_time": "2023-02-23T16:46:03.831Z"
   },
   {
    "duration": 34520,
    "start_time": "2023-02-23T16:46:03.838Z"
   },
   {
    "duration": 4,
    "start_time": "2023-02-23T16:46:38.359Z"
   },
   {
    "duration": 33,
    "start_time": "2023-02-23T16:46:38.365Z"
   },
   {
    "duration": 14,
    "start_time": "2023-02-23T16:46:38.399Z"
   },
   {
    "duration": 39,
    "start_time": "2023-02-23T16:46:38.414Z"
   },
   {
    "duration": 11,
    "start_time": "2023-02-23T16:46:38.454Z"
   },
   {
    "duration": 56,
    "start_time": "2023-02-23T16:46:38.467Z"
   },
   {
    "duration": 14,
    "start_time": "2023-02-23T16:46:38.526Z"
   },
   {
    "duration": 34,
    "start_time": "2023-02-23T16:46:38.542Z"
   },
   {
    "duration": 1586,
    "start_time": "2023-02-23T16:46:38.578Z"
   },
   {
    "duration": 20,
    "start_time": "2023-02-23T16:46:40.166Z"
   },
   {
    "duration": 131,
    "start_time": "2023-02-23T16:46:40.188Z"
   },
   {
    "duration": 491,
    "start_time": "2023-02-23T16:47:27.925Z"
   },
   {
    "duration": 375,
    "start_time": "2023-02-23T16:47:42.822Z"
   },
   {
    "duration": 467,
    "start_time": "2023-02-23T16:48:19.194Z"
   },
   {
    "duration": 16,
    "start_time": "2023-02-23T16:48:37.914Z"
   },
   {
    "duration": 1218,
    "start_time": "2023-02-23T16:48:50.203Z"
   },
   {
    "duration": 1009,
    "start_time": "2023-02-23T16:48:51.423Z"
   },
   {
    "duration": 5,
    "start_time": "2023-02-23T16:48:52.434Z"
   },
   {
    "duration": 74,
    "start_time": "2023-02-23T16:48:52.441Z"
   },
   {
    "duration": 524,
    "start_time": "2023-02-23T16:48:52.518Z"
   },
   {
    "duration": 597,
    "start_time": "2023-02-23T16:48:53.044Z"
   },
   {
    "duration": 355,
    "start_time": "2023-02-23T16:48:53.643Z"
   },
   {
    "duration": 105,
    "start_time": "2023-02-23T16:48:54.001Z"
   },
   {
    "duration": 99,
    "start_time": "2023-02-23T16:48:54.108Z"
   },
   {
    "duration": 53,
    "start_time": "2023-02-23T16:48:54.209Z"
   },
   {
    "duration": 64,
    "start_time": "2023-02-23T16:48:54.263Z"
   },
   {
    "duration": 86,
    "start_time": "2023-02-23T16:48:54.329Z"
   },
   {
    "duration": 215,
    "start_time": "2023-02-23T16:48:54.417Z"
   },
   {
    "duration": 3,
    "start_time": "2023-02-23T16:48:54.635Z"
   },
   {
    "duration": 2027,
    "start_time": "2023-02-23T16:48:54.641Z"
   },
   {
    "duration": 28,
    "start_time": "2023-02-23T16:48:56.670Z"
   },
   {
    "duration": 28,
    "start_time": "2023-02-23T16:48:56.705Z"
   },
   {
    "duration": 4,
    "start_time": "2023-02-23T16:48:56.735Z"
   },
   {
    "duration": 69,
    "start_time": "2023-02-23T16:48:56.740Z"
   },
   {
    "duration": 9,
    "start_time": "2023-02-23T16:48:56.811Z"
   },
   {
    "duration": 33027,
    "start_time": "2023-02-23T16:48:56.823Z"
   },
   {
    "duration": 4,
    "start_time": "2023-02-23T16:49:29.851Z"
   },
   {
    "duration": 19,
    "start_time": "2023-02-23T16:49:29.857Z"
   },
   {
    "duration": 28,
    "start_time": "2023-02-23T16:49:29.878Z"
   },
   {
    "duration": 35,
    "start_time": "2023-02-23T16:49:29.908Z"
   },
   {
    "duration": 8,
    "start_time": "2023-02-23T16:49:29.945Z"
   },
   {
    "duration": 52,
    "start_time": "2023-02-23T16:49:29.954Z"
   },
   {
    "duration": 17,
    "start_time": "2023-02-23T16:49:30.009Z"
   },
   {
    "duration": 48,
    "start_time": "2023-02-23T16:49:30.028Z"
   },
   {
    "duration": 1662,
    "start_time": "2023-02-23T16:49:30.078Z"
   },
   {
    "duration": 17,
    "start_time": "2023-02-23T16:49:31.741Z"
   },
   {
    "duration": 149,
    "start_time": "2023-02-23T16:49:31.761Z"
   },
   {
    "duration": 1573,
    "start_time": "2023-02-23T16:49:37.923Z"
   },
   {
    "duration": 3,
    "start_time": "2023-02-23T16:49:42.062Z"
   },
   {
    "duration": 4,
    "start_time": "2023-02-23T16:49:42.964Z"
   },
   {
    "duration": 5,
    "start_time": "2023-02-23T16:49:44.370Z"
   },
   {
    "duration": 25300,
    "start_time": "2023-02-23T16:49:45.938Z"
   },
   {
    "duration": 1175,
    "start_time": "2023-02-23T16:54:50.411Z"
   },
   {
    "duration": 955,
    "start_time": "2023-02-23T16:54:51.588Z"
   },
   {
    "duration": 4,
    "start_time": "2023-02-23T16:54:52.544Z"
   },
   {
    "duration": 65,
    "start_time": "2023-02-23T16:54:52.550Z"
   },
   {
    "duration": 454,
    "start_time": "2023-02-23T16:54:52.617Z"
   },
   {
    "duration": 596,
    "start_time": "2023-02-23T16:54:53.072Z"
   },
   {
    "duration": 341,
    "start_time": "2023-02-23T16:54:53.669Z"
   },
   {
    "duration": 92,
    "start_time": "2023-02-23T16:54:54.012Z"
   },
   {
    "duration": 89,
    "start_time": "2023-02-23T16:54:54.105Z"
   },
   {
    "duration": 54,
    "start_time": "2023-02-23T16:54:54.196Z"
   },
   {
    "duration": 60,
    "start_time": "2023-02-23T16:54:54.252Z"
   },
   {
    "duration": 54,
    "start_time": "2023-02-23T16:54:54.313Z"
   },
   {
    "duration": 212,
    "start_time": "2023-02-23T16:54:54.368Z"
   },
   {
    "duration": 3,
    "start_time": "2023-02-23T16:54:54.582Z"
   },
   {
    "duration": 1777,
    "start_time": "2023-02-23T16:54:54.586Z"
   },
   {
    "duration": 21,
    "start_time": "2023-02-23T16:54:56.364Z"
   },
   {
    "duration": 19,
    "start_time": "2023-02-23T16:54:56.387Z"
   },
   {
    "duration": 3,
    "start_time": "2023-02-23T16:54:56.407Z"
   },
   {
    "duration": 36,
    "start_time": "2023-02-23T16:54:56.411Z"
   },
   {
    "duration": 5,
    "start_time": "2023-02-23T16:54:56.449Z"
   },
   {
    "duration": 32841,
    "start_time": "2023-02-23T16:54:56.455Z"
   },
   {
    "duration": 6,
    "start_time": "2023-02-23T16:55:29.298Z"
   },
   {
    "duration": 17,
    "start_time": "2023-02-23T16:55:29.306Z"
   },
   {
    "duration": 13,
    "start_time": "2023-02-23T16:55:29.325Z"
   },
   {
    "duration": 41,
    "start_time": "2023-02-23T16:55:29.340Z"
   },
   {
    "duration": 27,
    "start_time": "2023-02-23T16:55:29.383Z"
   },
   {
    "duration": 22,
    "start_time": "2023-02-23T16:55:29.411Z"
   },
   {
    "duration": 14,
    "start_time": "2023-02-23T16:55:29.435Z"
   },
   {
    "duration": 54,
    "start_time": "2023-02-23T16:55:29.450Z"
   },
   {
    "duration": 1597,
    "start_time": "2023-02-23T16:55:29.506Z"
   },
   {
    "duration": 20,
    "start_time": "2023-02-23T16:55:31.127Z"
   },
   {
    "duration": 146,
    "start_time": "2023-02-23T16:55:31.149Z"
   },
   {
    "duration": 7,
    "start_time": "2023-02-23T17:03:21.093Z"
   },
   {
    "duration": 924,
    "start_time": "2023-02-23T17:03:21.103Z"
   },
   {
    "duration": 5,
    "start_time": "2023-02-23T17:03:22.029Z"
   },
   {
    "duration": 29,
    "start_time": "2023-02-23T17:03:22.035Z"
   },
   {
    "duration": 444,
    "start_time": "2023-02-23T17:03:22.067Z"
   },
   {
    "duration": 539,
    "start_time": "2023-02-23T17:03:22.512Z"
   },
   {
    "duration": 298,
    "start_time": "2023-02-23T17:03:23.053Z"
   },
   {
    "duration": 89,
    "start_time": "2023-02-23T17:03:23.353Z"
   },
   {
    "duration": 31,
    "start_time": "2023-02-23T17:03:23.444Z"
   },
   {
    "duration": 68,
    "start_time": "2023-02-23T17:03:23.477Z"
   },
   {
    "duration": 44,
    "start_time": "2023-02-23T17:03:23.546Z"
   },
   {
    "duration": 58,
    "start_time": "2023-02-23T17:03:23.592Z"
   },
   {
    "duration": 192,
    "start_time": "2023-02-23T17:03:23.652Z"
   },
   {
    "duration": 4,
    "start_time": "2023-02-23T17:03:23.848Z"
   },
   {
    "duration": 1756,
    "start_time": "2023-02-23T17:03:23.854Z"
   },
   {
    "duration": 21,
    "start_time": "2023-02-23T17:03:25.611Z"
   },
   {
    "duration": 14,
    "start_time": "2023-02-23T17:03:25.633Z"
   },
   {
    "duration": 8,
    "start_time": "2023-02-23T17:03:25.649Z"
   },
   {
    "duration": 50,
    "start_time": "2023-02-23T17:03:25.658Z"
   },
   {
    "duration": 6,
    "start_time": "2023-02-23T17:03:25.710Z"
   },
   {
    "duration": 34225,
    "start_time": "2023-02-23T17:03:25.717Z"
   },
   {
    "duration": 4,
    "start_time": "2023-02-23T17:03:59.944Z"
   },
   {
    "duration": 20,
    "start_time": "2023-02-23T17:03:59.950Z"
   },
   {
    "duration": 13,
    "start_time": "2023-02-23T17:03:59.971Z"
   },
   {
    "duration": 66,
    "start_time": "2023-02-23T17:03:59.986Z"
   },
   {
    "duration": 8,
    "start_time": "2023-02-23T17:04:00.054Z"
   },
   {
    "duration": 24,
    "start_time": "2023-02-23T17:04:00.063Z"
   },
   {
    "duration": 26,
    "start_time": "2023-02-23T17:04:00.088Z"
   },
   {
    "duration": 53,
    "start_time": "2023-02-23T17:04:00.115Z"
   },
   {
    "duration": 1625,
    "start_time": "2023-02-23T17:04:00.171Z"
   },
   {
    "duration": 17,
    "start_time": "2023-02-23T17:04:05.975Z"
   },
   {
    "duration": 712,
    "start_time": "2023-02-23T17:04:21.168Z"
   },
   {
    "duration": 564,
    "start_time": "2023-02-23T17:04:24.069Z"
   },
   {
    "duration": 3,
    "start_time": "2023-02-23T17:04:31.051Z"
   },
   {
    "duration": 3,
    "start_time": "2023-02-23T17:04:31.653Z"
   },
   {
    "duration": 5,
    "start_time": "2023-02-23T17:04:33.732Z"
   },
   {
    "duration": 30812,
    "start_time": "2023-02-23T17:04:35.200Z"
   },
   {
    "duration": 3,
    "start_time": "2023-02-23T17:05:19.645Z"
   },
   {
    "duration": 4,
    "start_time": "2023-02-23T17:05:41.724Z"
   },
   {
    "duration": 24475,
    "start_time": "2023-02-23T17:05:43.238Z"
   },
   {
    "duration": 4,
    "start_time": "2023-02-23T17:06:09.038Z"
   },
   {
    "duration": 4,
    "start_time": "2023-02-23T17:08:05.108Z"
   },
   {
    "duration": 49,
    "start_time": "2023-02-23T17:12:59.187Z"
   },
   {
    "duration": 10,
    "start_time": "2023-02-23T17:13:06.310Z"
   },
   {
    "duration": 1162,
    "start_time": "2023-02-23T17:14:04.812Z"
   },
   {
    "duration": 974,
    "start_time": "2023-02-23T17:14:05.976Z"
   },
   {
    "duration": 4,
    "start_time": "2023-02-23T17:14:06.952Z"
   },
   {
    "duration": 65,
    "start_time": "2023-02-23T17:14:06.957Z"
   },
   {
    "duration": 460,
    "start_time": "2023-02-23T17:14:07.024Z"
   },
   {
    "duration": 557,
    "start_time": "2023-02-23T17:14:07.486Z"
   },
   {
    "duration": 337,
    "start_time": "2023-02-23T17:14:08.045Z"
   },
   {
    "duration": 86,
    "start_time": "2023-02-23T17:14:08.383Z"
   },
   {
    "duration": 88,
    "start_time": "2023-02-23T17:14:08.471Z"
   },
   {
    "duration": 68,
    "start_time": "2023-02-23T17:14:08.560Z"
   },
   {
    "duration": 45,
    "start_time": "2023-02-23T17:14:08.630Z"
   },
   {
    "duration": 58,
    "start_time": "2023-02-23T17:14:08.676Z"
   },
   {
    "duration": 208,
    "start_time": "2023-02-23T17:14:08.736Z"
   },
   {
    "duration": 3,
    "start_time": "2023-02-23T17:14:08.947Z"
   },
   {
    "duration": 1844,
    "start_time": "2023-02-23T17:14:08.951Z"
   },
   {
    "duration": 35,
    "start_time": "2023-02-23T17:14:10.796Z"
   },
   {
    "duration": 11,
    "start_time": "2023-02-23T17:14:10.833Z"
   },
   {
    "duration": 22,
    "start_time": "2023-02-23T17:14:10.845Z"
   },
   {
    "duration": 43,
    "start_time": "2023-02-23T17:14:10.869Z"
   },
   {
    "duration": 5,
    "start_time": "2023-02-23T17:14:10.914Z"
   },
   {
    "duration": 35316,
    "start_time": "2023-02-23T17:14:10.920Z"
   },
   {
    "duration": 3,
    "start_time": "2023-02-23T17:14:46.238Z"
   },
   {
    "duration": 22,
    "start_time": "2023-02-23T17:14:46.243Z"
   },
   {
    "duration": 14,
    "start_time": "2023-02-23T17:14:46.268Z"
   },
   {
    "duration": 52,
    "start_time": "2023-02-23T17:14:46.283Z"
   },
   {
    "duration": 9,
    "start_time": "2023-02-23T17:14:46.337Z"
   },
   {
    "duration": 25,
    "start_time": "2023-02-23T17:14:46.348Z"
   },
   {
    "duration": 40,
    "start_time": "2023-02-23T17:14:46.375Z"
   },
   {
    "duration": 32,
    "start_time": "2023-02-23T17:14:46.417Z"
   },
   {
    "duration": 1652,
    "start_time": "2023-02-23T17:14:46.451Z"
   },
   {
    "duration": 666,
    "start_time": "2023-02-23T17:14:48.105Z"
   },
   {
    "duration": 595,
    "start_time": "2023-02-23T17:14:48.773Z"
   },
   {
    "duration": 2,
    "start_time": "2023-02-23T17:14:49.370Z"
   },
   {
    "duration": 7,
    "start_time": "2023-02-23T17:14:49.374Z"
   },
   {
    "duration": 8,
    "start_time": "2023-02-23T17:14:49.382Z"
   },
   {
    "duration": 114,
    "start_time": "2023-02-23T17:14:49.392Z"
   },
   {
    "duration": 26010,
    "start_time": "2023-02-23T17:16:47.099Z"
   },
   {
    "duration": 38,
    "start_time": "2023-02-23T17:29:42.081Z"
   },
   {
    "duration": 10,
    "start_time": "2023-02-23T17:36:33.745Z"
   },
   {
    "duration": 5,
    "start_time": "2023-02-23T17:37:01.457Z"
   },
   {
    "duration": 4,
    "start_time": "2023-02-23T17:38:43.033Z"
   },
   {
    "duration": 10,
    "start_time": "2023-02-23T17:40:01.288Z"
   },
   {
    "duration": 4,
    "start_time": "2023-02-23T17:40:39.714Z"
   },
   {
    "duration": 9,
    "start_time": "2023-02-23T17:40:41.839Z"
   },
   {
    "duration": 104034,
    "start_time": "2023-02-23T17:40:47.023Z"
   },
   {
    "duration": 4,
    "start_time": "2023-02-23T17:43:10.082Z"
   },
   {
    "duration": 3,
    "start_time": "2023-02-23T17:43:11.253Z"
   },
   {
    "duration": 106953,
    "start_time": "2023-02-23T17:43:12.446Z"
   },
   {
    "duration": 4,
    "start_time": "2023-02-23T17:45:34.547Z"
   },
   {
    "duration": 106563,
    "start_time": "2023-02-23T17:45:37.069Z"
   },
   {
    "duration": 4,
    "start_time": "2023-02-23T17:48:13.846Z"
   },
   {
    "duration": 106537,
    "start_time": "2023-02-23T17:48:16.469Z"
   },
   {
    "duration": 4,
    "start_time": "2023-02-23T17:50:15.225Z"
   },
   {
    "duration": 4,
    "start_time": "2023-02-23T17:50:37.462Z"
   },
   {
    "duration": 3,
    "start_time": "2023-02-23T17:50:38.147Z"
   },
   {
    "duration": 104597,
    "start_time": "2023-02-23T17:50:40.829Z"
   },
   {
    "duration": 104646,
    "start_time": "2023-02-23T17:53:32.817Z"
   },
   {
    "duration": 9226708,
    "start_time": "2023-02-23T17:55:51.182Z"
   },
   {
    "duration": 13,
    "start_time": "2023-02-23T20:30:40.022Z"
   },
   {
    "duration": 831865,
    "start_time": "2023-02-23T20:31:03.580Z"
   },
   {
    "duration": 4,
    "start_time": "2023-02-23T20:45:04.554Z"
   },
   {
    "duration": 7992,
    "start_time": "2023-02-23T20:45:11.036Z"
   },
   {
    "duration": 5,
    "start_time": "2023-02-23T20:45:21.490Z"
   },
   {
    "duration": 13235,
    "start_time": "2023-02-23T20:45:25.983Z"
   },
   {
    "duration": 4,
    "start_time": "2023-02-23T20:45:42.615Z"
   },
   {
    "duration": 3,
    "start_time": "2023-02-23T20:45:44.754Z"
   },
   {
    "duration": 410222,
    "start_time": "2023-02-23T20:45:49.912Z"
   },
   {
    "duration": 38266,
    "start_time": "2023-02-23T20:54:41.965Z"
   },
   {
    "duration": 253322,
    "start_time": "2023-02-23T20:55:33.891Z"
   },
   {
    "duration": 68440,
    "start_time": "2023-02-23T21:00:56.490Z"
   },
   {
    "duration": 0,
    "start_time": "2023-02-23T21:02:37.436Z"
   },
   {
    "duration": 101766,
    "start_time": "2023-02-23T21:02:39.268Z"
   },
   {
    "duration": 5,
    "start_time": "2023-02-23T21:04:29.036Z"
   },
   {
    "duration": 202033,
    "start_time": "2023-02-23T21:04:33.480Z"
   },
   {
    "duration": 5,
    "start_time": "2023-02-23T21:08:09.852Z"
   },
   {
    "duration": 41,
    "start_time": "2023-02-23T21:08:12.240Z"
   },
   {
    "duration": 45,
    "start_time": "2023-02-23T21:08:24.482Z"
   },
   {
    "duration": 45,
    "start_time": "2023-02-23T21:08:39.334Z"
   },
   {
    "duration": 39,
    "start_time": "2023-02-23T21:08:57.534Z"
   },
   {
    "duration": 40,
    "start_time": "2023-02-23T21:09:15.749Z"
   },
   {
    "duration": 42865,
    "start_time": "2023-02-23T21:09:24.794Z"
   },
   {
    "duration": 9,
    "start_time": "2023-02-23T21:10:40.366Z"
   },
   {
    "duration": 41,
    "start_time": "2023-02-23T21:11:05.460Z"
   },
   {
    "duration": 1159,
    "start_time": "2023-02-23T21:11:19.790Z"
   },
   {
    "duration": 933,
    "start_time": "2023-02-23T21:11:20.951Z"
   },
   {
    "duration": 5,
    "start_time": "2023-02-23T21:11:21.886Z"
   },
   {
    "duration": 63,
    "start_time": "2023-02-23T21:11:21.892Z"
   },
   {
    "duration": 460,
    "start_time": "2023-02-23T21:11:21.957Z"
   },
   {
    "duration": 557,
    "start_time": "2023-02-23T21:11:22.419Z"
   },
   {
    "duration": 338,
    "start_time": "2023-02-23T21:11:22.977Z"
   },
   {
    "duration": 89,
    "start_time": "2023-02-23T21:11:23.317Z"
   },
   {
    "duration": 80,
    "start_time": "2023-02-23T21:11:23.407Z"
   },
   {
    "duration": 61,
    "start_time": "2023-02-23T21:11:23.488Z"
   },
   {
    "duration": 43,
    "start_time": "2023-02-23T21:11:23.550Z"
   },
   {
    "duration": 51,
    "start_time": "2023-02-23T21:11:23.604Z"
   },
   {
    "duration": 200,
    "start_time": "2023-02-23T21:11:23.656Z"
   },
   {
    "duration": 3,
    "start_time": "2023-02-23T21:11:23.858Z"
   },
   {
    "duration": 1765,
    "start_time": "2023-02-23T21:11:23.862Z"
   },
   {
    "duration": 21,
    "start_time": "2023-02-23T21:11:25.628Z"
   },
   {
    "duration": 9,
    "start_time": "2023-02-23T21:11:25.650Z"
   },
   {
    "duration": 3,
    "start_time": "2023-02-23T21:11:25.660Z"
   },
   {
    "duration": 54,
    "start_time": "2023-02-23T21:11:25.664Z"
   },
   {
    "duration": 7,
    "start_time": "2023-02-23T21:11:25.719Z"
   },
   {
    "duration": 32255,
    "start_time": "2023-02-23T21:11:25.727Z"
   },
   {
    "duration": 4,
    "start_time": "2023-02-23T21:11:57.983Z"
   },
   {
    "duration": 24,
    "start_time": "2023-02-23T21:11:57.988Z"
   },
   {
    "duration": 11,
    "start_time": "2023-02-23T21:11:58.013Z"
   },
   {
    "duration": 33,
    "start_time": "2023-02-23T21:11:58.025Z"
   },
   {
    "duration": 8,
    "start_time": "2023-02-23T21:11:58.060Z"
   },
   {
    "duration": 51,
    "start_time": "2023-02-23T21:11:58.069Z"
   },
   {
    "duration": 11,
    "start_time": "2023-02-23T21:11:58.122Z"
   },
   {
    "duration": 35,
    "start_time": "2023-02-23T21:11:58.134Z"
   },
   {
    "duration": 1553,
    "start_time": "2023-02-23T21:11:58.170Z"
   },
   {
    "duration": 612,
    "start_time": "2023-02-23T21:11:59.725Z"
   },
   {
    "duration": 565,
    "start_time": "2023-02-23T21:12:00.339Z"
   },
   {
    "duration": 2,
    "start_time": "2023-02-23T21:12:00.906Z"
   },
   {
    "duration": 21,
    "start_time": "2023-02-23T21:12:00.910Z"
   },
   {
    "duration": 20,
    "start_time": "2023-02-23T21:12:00.933Z"
   },
   {
    "duration": 15555,
    "start_time": "2023-02-23T21:12:00.954Z"
   },
   {
    "duration": 221,
    "start_time": "2023-02-23T21:12:16.512Z"
   },
   {
    "duration": 5,
    "start_time": "2023-02-23T21:12:16.736Z"
   },
   {
    "duration": 11,
    "start_time": "2023-02-23T21:12:16.743Z"
   },
   {
    "duration": 146,
    "start_time": "2023-02-23T21:12:16.756Z"
   },
   {
    "duration": 0,
    "start_time": "2023-02-23T21:12:16.903Z"
   },
   {
    "duration": 0,
    "start_time": "2023-02-23T21:12:16.904Z"
   },
   {
    "duration": 5,
    "start_time": "2023-02-23T21:12:31.773Z"
   },
   {
    "duration": 3,
    "start_time": "2023-02-23T21:12:33.088Z"
   },
   {
    "duration": 54264,
    "start_time": "2023-02-23T21:12:40.283Z"
   },
   {
    "duration": 9169,
    "start_time": "2023-02-23T21:13:44.839Z"
   },
   {
    "duration": 62897,
    "start_time": "2023-02-23T21:14:00.134Z"
   },
   {
    "duration": 4,
    "start_time": "2023-02-23T21:15:08.439Z"
   },
   {
    "duration": 6279390,
    "start_time": "2023-02-23T21:15:11.215Z"
   },
   {
    "duration": 168408,
    "start_time": "2023-02-23T23:00:16.805Z"
   },
   {
    "duration": 10,
    "start_time": "2023-02-23T23:06:58.093Z"
   },
   {
    "duration": 2,
    "start_time": "2023-02-23T23:11:51.836Z"
   },
   {
    "duration": 3,
    "start_time": "2023-02-23T23:12:06.843Z"
   },
   {
    "duration": 11,
    "start_time": "2023-02-23T23:14:45.076Z"
   },
   {
    "duration": 10,
    "start_time": "2023-02-23T23:14:55.881Z"
   },
   {
    "duration": 11,
    "start_time": "2023-02-23T23:15:18.777Z"
   },
   {
    "duration": 12,
    "start_time": "2023-02-23T23:27:31.455Z"
   },
   {
    "duration": 20943,
    "start_time": "2023-02-23T23:27:37.162Z"
   },
   {
    "duration": 11,
    "start_time": "2023-02-23T23:38:44.325Z"
   },
   {
    "duration": 10,
    "start_time": "2023-02-23T23:38:53.888Z"
   },
   {
    "duration": 21639,
    "start_time": "2023-02-23T23:39:03.375Z"
   },
   {
    "duration": 62,
    "start_time": "2023-02-24T12:20:21.311Z"
   },
   {
    "duration": 1224,
    "start_time": "2023-02-24T12:20:27.872Z"
   },
   {
    "duration": 1145,
    "start_time": "2023-02-24T12:20:29.098Z"
   },
   {
    "duration": 4,
    "start_time": "2023-02-24T12:20:30.245Z"
   },
   {
    "duration": 73,
    "start_time": "2023-02-24T12:20:30.251Z"
   },
   {
    "duration": 448,
    "start_time": "2023-02-24T12:20:30.327Z"
   },
   {
    "duration": 607,
    "start_time": "2023-02-24T12:20:30.777Z"
   },
   {
    "duration": 312,
    "start_time": "2023-02-24T12:20:31.387Z"
   },
   {
    "duration": 86,
    "start_time": "2023-02-24T12:20:31.701Z"
   },
   {
    "duration": 80,
    "start_time": "2023-02-24T12:20:31.789Z"
   },
   {
    "duration": 64,
    "start_time": "2023-02-24T12:20:31.870Z"
   },
   {
    "duration": 63,
    "start_time": "2023-02-24T12:20:31.936Z"
   },
   {
    "duration": 51,
    "start_time": "2023-02-24T12:20:32.001Z"
   },
   {
    "duration": 191,
    "start_time": "2023-02-24T12:20:32.055Z"
   },
   {
    "duration": 2,
    "start_time": "2023-02-24T12:20:32.249Z"
   },
   {
    "duration": 2256,
    "start_time": "2023-02-24T12:20:32.253Z"
   },
   {
    "duration": 22,
    "start_time": "2023-02-24T12:20:34.511Z"
   },
   {
    "duration": 10,
    "start_time": "2023-02-24T12:20:34.535Z"
   },
   {
    "duration": 4,
    "start_time": "2023-02-24T12:20:34.547Z"
   },
   {
    "duration": 62,
    "start_time": "2023-02-24T12:20:34.552Z"
   },
   {
    "duration": 5,
    "start_time": "2023-02-24T12:20:34.616Z"
   },
   {
    "duration": 31734,
    "start_time": "2023-02-24T12:20:34.623Z"
   },
   {
    "duration": 4,
    "start_time": "2023-02-24T12:21:06.359Z"
   },
   {
    "duration": 34,
    "start_time": "2023-02-24T12:21:06.364Z"
   },
   {
    "duration": 12,
    "start_time": "2023-02-24T12:21:06.400Z"
   },
   {
    "duration": 43,
    "start_time": "2023-02-24T12:21:06.413Z"
   },
   {
    "duration": 9,
    "start_time": "2023-02-24T12:21:06.457Z"
   },
   {
    "duration": 37,
    "start_time": "2023-02-24T12:21:06.467Z"
   },
   {
    "duration": 13,
    "start_time": "2023-02-24T12:21:06.506Z"
   },
   {
    "duration": 29,
    "start_time": "2023-02-24T12:21:06.521Z"
   },
   {
    "duration": 1481,
    "start_time": "2023-02-24T12:21:06.552Z"
   },
   {
    "duration": 590,
    "start_time": "2023-02-24T12:21:08.034Z"
   },
   {
    "duration": 562,
    "start_time": "2023-02-24T12:21:08.626Z"
   },
   {
    "duration": 3,
    "start_time": "2023-02-24T12:21:09.192Z"
   },
   {
    "duration": 10,
    "start_time": "2023-02-24T12:21:09.196Z"
   },
   {
    "duration": 21489,
    "start_time": "2023-02-24T12:21:09.208Z"
   },
   {
    "duration": 125,
    "start_time": "2023-02-24T12:21:30.787Z"
   },
   {
    "duration": 5,
    "start_time": "2023-02-24T12:21:30.914Z"
   },
   {
    "duration": 22,
    "start_time": "2023-02-24T12:21:30.920Z"
   },
   {
    "duration": 42891,
    "start_time": "2023-02-24T12:21:30.944Z"
   },
   {
    "duration": 0,
    "start_time": "2023-02-24T12:22:13.837Z"
   },
   {
    "duration": 0,
    "start_time": "2023-02-24T12:22:13.839Z"
   },
   {
    "duration": 0,
    "start_time": "2023-02-24T12:22:13.840Z"
   },
   {
    "duration": 0,
    "start_time": "2023-02-24T12:22:13.841Z"
   },
   {
    "duration": 54417,
    "start_time": "2023-02-24T12:22:25.016Z"
   },
   {
    "duration": 7023132,
    "start_time": "2023-02-24T12:23:28.096Z"
   },
   {
    "duration": 85,
    "start_time": "2023-02-24T14:23:38.472Z"
   },
   {
    "duration": 1155205,
    "start_time": "2023-02-24T14:23:42.922Z"
   },
   {
    "duration": 176270,
    "start_time": "2023-02-24T14:43:00.847Z"
   },
   {
    "duration": 84,
    "start_time": "2023-02-24T14:46:17.045Z"
   },
   {
    "duration": 83313,
    "start_time": "2023-02-24T14:46:21.099Z"
   },
   {
    "duration": 250135,
    "start_time": "2023-02-24T14:50:10.486Z"
   },
   {
    "duration": 1907438,
    "start_time": "2023-02-24T14:54:39.361Z"
   },
   {
    "duration": 10,
    "start_time": "2023-02-24T15:43:45.755Z"
   },
   {
    "duration": 11,
    "start_time": "2023-02-24T15:50:43.782Z"
   },
   {
    "duration": 4,
    "start_time": "2023-02-24T15:51:09.206Z"
   },
   {
    "duration": 11,
    "start_time": "2023-02-24T15:51:23.659Z"
   },
   {
    "duration": 10,
    "start_time": "2023-02-24T15:51:29.921Z"
   },
   {
    "duration": 3,
    "start_time": "2023-02-24T15:51:38.772Z"
   },
   {
    "duration": 3,
    "start_time": "2023-02-24T15:51:49.094Z"
   },
   {
    "duration": 10,
    "start_time": "2023-02-24T15:52:17.776Z"
   },
   {
    "duration": 100,
    "start_time": "2023-02-24T15:52:49.633Z"
   },
   {
    "duration": 6,
    "start_time": "2023-02-24T15:52:52.677Z"
   },
   {
    "duration": 76,
    "start_time": "2023-02-24T15:53:29.476Z"
   },
   {
    "duration": 12,
    "start_time": "2023-02-24T15:53:39.546Z"
   },
   {
    "duration": 8,
    "start_time": "2023-02-24T15:53:47.522Z"
   },
   {
    "duration": 61,
    "start_time": "2023-02-24T20:02:26.661Z"
   },
   {
    "duration": 1236,
    "start_time": "2023-02-24T20:02:40.380Z"
   },
   {
    "duration": 1178,
    "start_time": "2023-02-24T20:02:41.618Z"
   },
   {
    "duration": 5,
    "start_time": "2023-02-24T20:02:42.798Z"
   },
   {
    "duration": 59,
    "start_time": "2023-02-24T20:02:42.805Z"
   },
   {
    "duration": 455,
    "start_time": "2023-02-24T20:02:42.866Z"
   },
   {
    "duration": 515,
    "start_time": "2023-02-24T20:02:43.322Z"
   },
   {
    "duration": 310,
    "start_time": "2023-02-24T20:02:43.838Z"
   },
   {
    "duration": 74,
    "start_time": "2023-02-24T20:02:44.150Z"
   },
   {
    "duration": 115,
    "start_time": "2023-02-24T20:02:44.226Z"
   },
   {
    "duration": 49,
    "start_time": "2023-02-24T20:02:44.343Z"
   },
   {
    "duration": 43,
    "start_time": "2023-02-24T20:02:44.393Z"
   },
   {
    "duration": 62,
    "start_time": "2023-02-24T20:02:44.438Z"
   },
   {
    "duration": 170,
    "start_time": "2023-02-24T20:02:44.502Z"
   },
   {
    "duration": 2,
    "start_time": "2023-02-24T20:02:44.675Z"
   },
   {
    "duration": 2031,
    "start_time": "2023-02-24T20:02:44.679Z"
   },
   {
    "duration": 45,
    "start_time": "2023-02-24T20:02:46.713Z"
   },
   {
    "duration": 39,
    "start_time": "2023-02-24T20:02:46.761Z"
   },
   {
    "duration": 5,
    "start_time": "2023-02-24T20:02:46.802Z"
   },
   {
    "duration": 43,
    "start_time": "2023-02-24T20:02:46.809Z"
   },
   {
    "duration": 5,
    "start_time": "2023-02-24T20:02:46.854Z"
   },
   {
    "duration": 32275,
    "start_time": "2023-02-24T20:02:46.861Z"
   },
   {
    "duration": 4,
    "start_time": "2023-02-24T20:03:19.137Z"
   },
   {
    "duration": 19,
    "start_time": "2023-02-24T20:03:19.143Z"
   },
   {
    "duration": 23,
    "start_time": "2023-02-24T20:03:19.164Z"
   },
   {
    "duration": 34,
    "start_time": "2023-02-24T20:03:19.188Z"
   },
   {
    "duration": 7,
    "start_time": "2023-02-24T20:03:19.223Z"
   },
   {
    "duration": 22,
    "start_time": "2023-02-24T20:03:19.231Z"
   },
   {
    "duration": 34,
    "start_time": "2023-02-24T20:03:19.255Z"
   },
   {
    "duration": 29,
    "start_time": "2023-02-24T20:03:19.290Z"
   },
   {
    "duration": 1515,
    "start_time": "2023-02-24T20:03:19.321Z"
   },
   {
    "duration": 667,
    "start_time": "2023-02-24T20:03:20.838Z"
   },
   {
    "duration": 593,
    "start_time": "2023-02-24T20:03:21.507Z"
   },
   {
    "duration": 2,
    "start_time": "2023-02-24T20:03:22.102Z"
   },
   {
    "duration": 6,
    "start_time": "2023-02-24T20:03:22.106Z"
   },
   {
    "duration": 15973,
    "start_time": "2023-02-24T20:03:22.113Z"
   },
   {
    "duration": 128,
    "start_time": "2023-02-24T20:03:38.088Z"
   },
   {
    "duration": 4,
    "start_time": "2023-02-24T20:03:38.217Z"
   },
   {
    "duration": 5,
    "start_time": "2023-02-24T20:03:38.223Z"
   },
   {
    "duration": 56761,
    "start_time": "2023-02-24T20:03:38.229Z"
   },
   {
    "duration": 6865177,
    "start_time": "2023-02-24T20:04:34.992Z"
   },
   {
    "duration": 0,
    "start_time": "2023-02-24T21:59:00.171Z"
   },
   {
    "duration": 0,
    "start_time": "2023-02-24T21:59:00.172Z"
   },
   {
    "duration": 6588,
    "start_time": "2023-02-24T21:59:01.889Z"
   },
   {
    "duration": 72661,
    "start_time": "2023-02-24T21:59:15.599Z"
   },
   {
    "duration": 99012,
    "start_time": "2023-02-24T22:00:48.800Z"
   },
   {
    "duration": 9,
    "start_time": "2023-02-24T22:02:32.567Z"
   },
   {
    "duration": 4067668,
    "start_time": "2023-02-24T22:02:42.280Z"
   },
   {
    "duration": 53,
    "start_time": "2023-02-24T23:10:29.950Z"
   },
   {
    "duration": 14,
    "start_time": "2023-02-24T23:23:24.131Z"
   },
   {
    "duration": 4,
    "start_time": "2023-02-24T23:24:12.859Z"
   },
   {
    "duration": 4,
    "start_time": "2023-02-24T23:24:31.554Z"
   },
   {
    "duration": 9050,
    "start_time": "2023-02-24T23:24:37.593Z"
   },
   {
    "duration": 5006,
    "start_time": "2023-02-24T23:24:58.872Z"
   },
   {
    "duration": 3,
    "start_time": "2023-02-24T23:26:32.818Z"
   },
   {
    "duration": 8789,
    "start_time": "2023-02-24T23:26:37.738Z"
   },
   {
    "duration": 4,
    "start_time": "2023-02-24T23:26:46.528Z"
   },
   {
    "duration": 54757,
    "start_time": "2023-02-24T23:26:49.757Z"
   },
   {
    "duration": 4,
    "start_time": "2023-02-24T23:28:03.558Z"
   },
   {
    "duration": 53863,
    "start_time": "2023-02-24T23:28:04.719Z"
   },
   {
    "duration": 81308,
    "start_time": "2023-02-24T23:29:41.385Z"
   },
   {
    "duration": 145208,
    "start_time": "2023-02-24T23:31:16.395Z"
   },
   {
    "duration": 8,
    "start_time": "2023-02-24T23:33:50.805Z"
   },
   {
    "duration": 8,
    "start_time": "2023-02-24T23:34:02.786Z"
   },
   {
    "duration": 4,
    "start_time": "2023-02-24T23:34:43.845Z"
   },
   {
    "duration": 898269,
    "start_time": "2023-02-24T23:36:34.940Z"
   },
   {
    "duration": 8,
    "start_time": "2023-02-24T23:54:02.633Z"
   },
   {
    "duration": 3,
    "start_time": "2023-02-24T23:58:14.276Z"
   },
   {
    "duration": 3,
    "start_time": "2023-02-24T23:58:17.943Z"
   },
   {
    "duration": 11,
    "start_time": "2023-02-25T00:00:24.806Z"
   },
   {
    "duration": 7882,
    "start_time": "2023-02-25T00:00:59.404Z"
   },
   {
    "duration": 1116,
    "start_time": "2023-02-25T00:08:49.407Z"
   },
   {
    "duration": 0,
    "start_time": "2023-02-25T00:08:50.526Z"
   },
   {
    "duration": 0,
    "start_time": "2023-02-25T00:08:50.528Z"
   },
   {
    "duration": 0,
    "start_time": "2023-02-25T00:08:50.529Z"
   },
   {
    "duration": 0,
    "start_time": "2023-02-25T00:08:50.530Z"
   },
   {
    "duration": 0,
    "start_time": "2023-02-25T00:08:50.531Z"
   },
   {
    "duration": 0,
    "start_time": "2023-02-25T00:08:50.532Z"
   },
   {
    "duration": 0,
    "start_time": "2023-02-25T00:08:50.533Z"
   },
   {
    "duration": 0,
    "start_time": "2023-02-25T00:08:50.534Z"
   },
   {
    "duration": 0,
    "start_time": "2023-02-25T00:08:50.536Z"
   },
   {
    "duration": 0,
    "start_time": "2023-02-25T00:08:50.537Z"
   },
   {
    "duration": 0,
    "start_time": "2023-02-25T00:08:50.538Z"
   },
   {
    "duration": 0,
    "start_time": "2023-02-25T00:08:50.539Z"
   },
   {
    "duration": 0,
    "start_time": "2023-02-25T00:08:50.540Z"
   },
   {
    "duration": 0,
    "start_time": "2023-02-25T00:08:50.541Z"
   },
   {
    "duration": 0,
    "start_time": "2023-02-25T00:08:50.542Z"
   },
   {
    "duration": 0,
    "start_time": "2023-02-25T00:08:50.543Z"
   },
   {
    "duration": 0,
    "start_time": "2023-02-25T00:08:50.543Z"
   },
   {
    "duration": 0,
    "start_time": "2023-02-25T00:08:50.544Z"
   },
   {
    "duration": 0,
    "start_time": "2023-02-25T00:08:50.545Z"
   },
   {
    "duration": 0,
    "start_time": "2023-02-25T00:08:50.546Z"
   },
   {
    "duration": 0,
    "start_time": "2023-02-25T00:08:50.547Z"
   },
   {
    "duration": 0,
    "start_time": "2023-02-25T00:08:50.548Z"
   },
   {
    "duration": 0,
    "start_time": "2023-02-25T00:08:50.549Z"
   },
   {
    "duration": 0,
    "start_time": "2023-02-25T00:08:50.586Z"
   },
   {
    "duration": 0,
    "start_time": "2023-02-25T00:08:50.587Z"
   },
   {
    "duration": 0,
    "start_time": "2023-02-25T00:08:50.588Z"
   },
   {
    "duration": 0,
    "start_time": "2023-02-25T00:08:50.589Z"
   },
   {
    "duration": 0,
    "start_time": "2023-02-25T00:08:50.590Z"
   },
   {
    "duration": 0,
    "start_time": "2023-02-25T00:08:50.591Z"
   },
   {
    "duration": 0,
    "start_time": "2023-02-25T00:08:50.592Z"
   },
   {
    "duration": 0,
    "start_time": "2023-02-25T00:08:50.593Z"
   },
   {
    "duration": 0,
    "start_time": "2023-02-25T00:08:50.594Z"
   },
   {
    "duration": 0,
    "start_time": "2023-02-25T00:08:50.595Z"
   },
   {
    "duration": 0,
    "start_time": "2023-02-25T00:08:50.597Z"
   },
   {
    "duration": 0,
    "start_time": "2023-02-25T00:08:50.598Z"
   },
   {
    "duration": 0,
    "start_time": "2023-02-25T00:08:50.599Z"
   },
   {
    "duration": 0,
    "start_time": "2023-02-25T00:08:50.600Z"
   },
   {
    "duration": 0,
    "start_time": "2023-02-25T00:08:50.601Z"
   },
   {
    "duration": 0,
    "start_time": "2023-02-25T00:08:50.602Z"
   },
   {
    "duration": 0,
    "start_time": "2023-02-25T00:08:50.603Z"
   },
   {
    "duration": 0,
    "start_time": "2023-02-25T00:08:50.604Z"
   },
   {
    "duration": 0,
    "start_time": "2023-02-25T00:08:50.605Z"
   },
   {
    "duration": 0,
    "start_time": "2023-02-25T00:08:50.606Z"
   },
   {
    "duration": 0,
    "start_time": "2023-02-25T00:08:50.606Z"
   },
   {
    "duration": 0,
    "start_time": "2023-02-25T00:08:50.607Z"
   },
   {
    "duration": 0,
    "start_time": "2023-02-25T00:08:50.608Z"
   },
   {
    "duration": 175,
    "start_time": "2023-02-25T00:09:40.607Z"
   },
   {
    "duration": 1208,
    "start_time": "2023-02-25T00:09:46.358Z"
   },
   {
    "duration": 840,
    "start_time": "2023-02-25T00:09:47.568Z"
   },
   {
    "duration": 5,
    "start_time": "2023-02-25T00:09:48.410Z"
   },
   {
    "duration": 56,
    "start_time": "2023-02-25T00:09:48.417Z"
   },
   {
    "duration": 456,
    "start_time": "2023-02-25T00:09:48.487Z"
   },
   {
    "duration": 567,
    "start_time": "2023-02-25T00:09:48.945Z"
   },
   {
    "duration": 325,
    "start_time": "2023-02-25T00:09:49.513Z"
   },
   {
    "duration": 68,
    "start_time": "2023-02-25T00:09:49.840Z"
   },
   {
    "duration": 28,
    "start_time": "2023-02-25T00:09:49.910Z"
   },
   {
    "duration": 59,
    "start_time": "2023-02-25T00:09:49.940Z"
   },
   {
    "duration": 43,
    "start_time": "2023-02-25T00:09:50.001Z"
   },
   {
    "duration": 71,
    "start_time": "2023-02-25T00:09:50.046Z"
   },
   {
    "duration": 178,
    "start_time": "2023-02-25T00:09:50.119Z"
   },
   {
    "duration": 3,
    "start_time": "2023-02-25T00:09:50.301Z"
   },
   {
    "duration": 1788,
    "start_time": "2023-02-25T00:09:50.306Z"
   },
   {
    "duration": 23,
    "start_time": "2023-02-25T00:09:52.096Z"
   },
   {
    "duration": 10,
    "start_time": "2023-02-25T00:09:52.121Z"
   },
   {
    "duration": 4,
    "start_time": "2023-02-25T00:09:52.132Z"
   },
   {
    "duration": 58,
    "start_time": "2023-02-25T00:09:52.137Z"
   },
   {
    "duration": 6,
    "start_time": "2023-02-25T00:09:52.198Z"
   },
   {
    "duration": 36350,
    "start_time": "2023-02-25T00:09:52.206Z"
   },
   {
    "duration": 4,
    "start_time": "2023-02-25T00:10:28.558Z"
   },
   {
    "duration": 32,
    "start_time": "2023-02-25T00:10:28.564Z"
   },
   {
    "duration": 11,
    "start_time": "2023-02-25T00:10:28.598Z"
   },
   {
    "duration": 30,
    "start_time": "2023-02-25T00:10:28.611Z"
   },
   {
    "duration": 7,
    "start_time": "2023-02-25T00:10:28.643Z"
   },
   {
    "duration": 53,
    "start_time": "2023-02-25T00:10:28.651Z"
   },
   {
    "duration": 13,
    "start_time": "2023-02-25T00:10:28.706Z"
   },
   {
    "duration": 31,
    "start_time": "2023-02-25T00:10:28.720Z"
   },
   {
    "duration": 1539,
    "start_time": "2023-02-25T00:10:28.754Z"
   },
   {
    "duration": 716,
    "start_time": "2023-02-25T00:10:30.294Z"
   },
   {
    "duration": 589,
    "start_time": "2023-02-25T00:10:31.011Z"
   },
   {
    "duration": 3,
    "start_time": "2023-02-25T00:10:31.602Z"
   },
   {
    "duration": 36,
    "start_time": "2023-02-25T00:10:31.606Z"
   },
   {
    "duration": 15447,
    "start_time": "2023-02-25T00:10:31.644Z"
   },
   {
    "duration": 121,
    "start_time": "2023-02-25T00:10:47.093Z"
   },
   {
    "duration": 3,
    "start_time": "2023-02-25T00:10:47.216Z"
   },
   {
    "duration": 8,
    "start_time": "2023-02-25T00:10:47.221Z"
   },
   {
    "duration": 55377,
    "start_time": "2023-02-25T00:10:47.231Z"
   },
   {
    "duration": 1764307,
    "start_time": "2023-02-25T00:11:42.611Z"
   },
   {
    "duration": 0,
    "start_time": "2023-02-25T00:41:06.920Z"
   },
   {
    "duration": 0,
    "start_time": "2023-02-25T00:41:06.921Z"
   },
   {
    "duration": 0,
    "start_time": "2023-02-25T00:41:06.922Z"
   },
   {
    "duration": 0,
    "start_time": "2023-02-25T00:41:06.923Z"
   },
   {
    "duration": 0,
    "start_time": "2023-02-25T00:41:06.925Z"
   },
   {
    "duration": 0,
    "start_time": "2023-02-25T00:41:06.926Z"
   },
   {
    "duration": 0,
    "start_time": "2023-02-25T00:41:06.928Z"
   },
   {
    "duration": 2980820,
    "start_time": "2023-02-25T00:41:24.226Z"
   },
   {
    "duration": 149145,
    "start_time": "2023-02-25T01:31:05.048Z"
   },
   {
    "duration": 9,
    "start_time": "2023-02-25T01:35:39.927Z"
   },
   {
    "duration": 9,
    "start_time": "2023-02-25T01:36:20.334Z"
   },
   {
    "duration": 10,
    "start_time": "2023-02-25T01:37:42.480Z"
   },
   {
    "duration": 510695,
    "start_time": "2023-02-25T01:38:03.603Z"
   },
   {
    "duration": 46,
    "start_time": "2023-02-26T11:15:47.449Z"
   },
   {
    "duration": 3561,
    "start_time": "2023-02-26T11:27:29.903Z"
   },
   {
    "duration": 937,
    "start_time": "2023-02-26T11:27:33.466Z"
   },
   {
    "duration": 6,
    "start_time": "2023-02-26T11:27:34.405Z"
   },
   {
    "duration": 55,
    "start_time": "2023-02-26T11:27:34.422Z"
   },
   {
    "duration": 498,
    "start_time": "2023-02-26T11:27:34.480Z"
   },
   {
    "duration": 586,
    "start_time": "2023-02-26T11:27:34.979Z"
   },
   {
    "duration": 319,
    "start_time": "2023-02-26T11:27:35.567Z"
   },
   {
    "duration": 87,
    "start_time": "2023-02-26T11:27:35.887Z"
   },
   {
    "duration": 49,
    "start_time": "2023-02-26T11:27:35.976Z"
   },
   {
    "duration": 62,
    "start_time": "2023-02-26T11:27:36.030Z"
   },
   {
    "duration": 56,
    "start_time": "2023-02-26T11:27:36.094Z"
   },
   {
    "duration": 50,
    "start_time": "2023-02-26T11:27:36.151Z"
   },
   {
    "duration": 212,
    "start_time": "2023-02-26T11:27:36.220Z"
   },
   {
    "duration": 3,
    "start_time": "2023-02-26T11:27:36.434Z"
   },
   {
    "duration": 1887,
    "start_time": "2023-02-26T11:27:36.438Z"
   },
   {
    "duration": 21,
    "start_time": "2023-02-26T11:27:38.327Z"
   },
   {
    "duration": 12,
    "start_time": "2023-02-26T11:27:38.349Z"
   },
   {
    "duration": 5,
    "start_time": "2023-02-26T11:27:38.363Z"
   },
   {
    "duration": 62,
    "start_time": "2023-02-26T11:27:38.369Z"
   },
   {
    "duration": 7,
    "start_time": "2023-02-26T11:27:38.433Z"
   },
   {
    "duration": 34308,
    "start_time": "2023-02-26T11:27:38.441Z"
   },
   {
    "duration": 4,
    "start_time": "2023-02-26T11:28:12.751Z"
   },
   {
    "duration": 23,
    "start_time": "2023-02-26T11:28:12.758Z"
   },
   {
    "duration": 12,
    "start_time": "2023-02-26T11:28:12.782Z"
   },
   {
    "duration": 30,
    "start_time": "2023-02-26T11:28:12.820Z"
   },
   {
    "duration": 7,
    "start_time": "2023-02-26T11:28:12.852Z"
   },
   {
    "duration": 21,
    "start_time": "2023-02-26T11:28:12.861Z"
   },
   {
    "duration": 43,
    "start_time": "2023-02-26T11:28:12.886Z"
   },
   {
    "duration": 30,
    "start_time": "2023-02-26T11:28:12.930Z"
   },
   {
    "duration": 1568,
    "start_time": "2023-02-26T11:28:12.961Z"
   },
   {
    "duration": 807,
    "start_time": "2023-02-26T11:28:14.531Z"
   },
   {
    "duration": 570,
    "start_time": "2023-02-26T11:28:15.340Z"
   },
   {
    "duration": 3,
    "start_time": "2023-02-26T11:28:15.912Z"
   },
   {
    "duration": 3,
    "start_time": "2023-02-26T11:28:15.921Z"
   },
   {
    "duration": 114,
    "start_time": "2023-02-26T11:28:45.259Z"
   },
   {
    "duration": 72,
    "start_time": "2023-02-26T11:30:17.451Z"
   },
   {
    "duration": 5,
    "start_time": "2023-02-26T11:30:28.635Z"
   },
   {
    "duration": 10,
    "start_time": "2023-02-26T11:30:58.358Z"
   },
   {
    "duration": 3,
    "start_time": "2023-02-26T11:31:31.836Z"
   },
   {
    "duration": 3,
    "start_time": "2023-02-26T11:31:39.480Z"
   },
   {
    "duration": 347,
    "start_time": "2023-02-26T11:31:44.362Z"
   },
   {
    "duration": 3,
    "start_time": "2023-02-26T11:32:59.789Z"
   },
   {
    "duration": 340,
    "start_time": "2023-02-26T11:33:02.249Z"
   },
   {
    "duration": 3,
    "start_time": "2023-02-26T11:34:23.849Z"
   },
   {
    "duration": 332,
    "start_time": "2023-02-26T11:34:26.853Z"
   },
   {
    "duration": 10,
    "start_time": "2023-02-26T11:35:16.596Z"
   },
   {
    "duration": 3,
    "start_time": "2023-02-26T11:35:59.611Z"
   },
   {
    "duration": 359998,
    "start_time": "2023-02-26T11:36:03.448Z"
   },
   {
    "duration": 1341,
    "start_time": "2023-02-26T15:39:41.881Z"
   },
   {
    "duration": 1192,
    "start_time": "2023-02-26T15:39:49.473Z"
   },
   {
    "duration": 5,
    "start_time": "2023-02-26T15:39:57.463Z"
   },
   {
    "duration": 52,
    "start_time": "2023-02-26T15:39:58.547Z"
   },
   {
    "duration": 450,
    "start_time": "2023-02-26T15:40:01.228Z"
   },
   {
    "duration": 543,
    "start_time": "2023-02-26T15:40:03.133Z"
   },
   {
    "duration": 348,
    "start_time": "2023-02-26T15:40:05.525Z"
   },
   {
    "duration": 77,
    "start_time": "2023-02-26T15:40:09.254Z"
   },
   {
    "duration": 33,
    "start_time": "2023-02-26T15:40:11.408Z"
   },
   {
    "duration": 51,
    "start_time": "2023-02-26T15:40:16.643Z"
   },
   {
    "duration": 46,
    "start_time": "2023-02-26T15:40:20.769Z"
   },
   {
    "duration": 51,
    "start_time": "2023-02-26T15:40:23.540Z"
   },
   {
    "duration": 168,
    "start_time": "2023-02-26T15:40:26.729Z"
   },
   {
    "duration": 3,
    "start_time": "2023-02-26T15:40:31.727Z"
   },
   {
    "duration": 2130,
    "start_time": "2023-02-26T15:40:34.440Z"
   },
   {
    "duration": 26,
    "start_time": "2023-02-26T15:40:40.451Z"
   },
   {
    "duration": 11,
    "start_time": "2023-02-26T15:40:44.454Z"
   },
   {
    "duration": 3,
    "start_time": "2023-02-26T15:40:47.917Z"
   },
   {
    "duration": 40,
    "start_time": "2023-02-26T15:40:51.423Z"
   },
   {
    "duration": 5,
    "start_time": "2023-02-26T15:40:55.870Z"
   },
   {
    "duration": 36942,
    "start_time": "2023-02-26T15:40:58.897Z"
   },
   {
    "duration": 4,
    "start_time": "2023-02-26T15:41:40.260Z"
   },
   {
    "duration": 18,
    "start_time": "2023-02-26T15:41:40.916Z"
   },
   {
    "duration": 5,
    "start_time": "2023-02-26T15:43:18.268Z"
   },
   {
    "duration": 6,
    "start_time": "2023-02-26T15:43:22.042Z"
   },
   {
    "duration": 16,
    "start_time": "2023-02-26T15:43:51.677Z"
   },
   {
    "duration": 36,
    "start_time": "2023-02-26T15:44:15.454Z"
   },
   {
    "duration": 8,
    "start_time": "2023-02-26T15:44:31.999Z"
   },
   {
    "duration": 23,
    "start_time": "2023-02-26T15:44:33.896Z"
   },
   {
    "duration": 13,
    "start_time": "2023-02-26T15:44:35.869Z"
   },
   {
    "duration": 30,
    "start_time": "2023-02-26T15:44:40.635Z"
   },
   {
    "duration": 210,
    "start_time": "2023-02-26T15:45:31.181Z"
   },
   {
    "duration": 637,
    "start_time": "2023-02-26T15:45:40.340Z"
   },
   {
    "duration": 587,
    "start_time": "2023-02-26T15:56:19.884Z"
   },
   {
    "duration": 1284,
    "start_time": "2023-02-26T16:22:12.693Z"
   },
   {
    "duration": 936,
    "start_time": "2023-02-26T16:22:13.979Z"
   },
   {
    "duration": 5,
    "start_time": "2023-02-26T16:22:14.917Z"
   },
   {
    "duration": 60,
    "start_time": "2023-02-26T16:22:14.924Z"
   },
   {
    "duration": 454,
    "start_time": "2023-02-26T16:22:14.986Z"
   },
   {
    "duration": 545,
    "start_time": "2023-02-26T16:22:15.442Z"
   },
   {
    "duration": 318,
    "start_time": "2023-02-26T16:22:15.988Z"
   },
   {
    "duration": 67,
    "start_time": "2023-02-26T16:22:16.308Z"
   },
   {
    "duration": 43,
    "start_time": "2023-02-26T16:22:16.376Z"
   },
   {
    "duration": 47,
    "start_time": "2023-02-26T16:22:16.421Z"
   },
   {
    "duration": 59,
    "start_time": "2023-02-26T16:22:16.469Z"
   },
   {
    "duration": 49,
    "start_time": "2023-02-26T16:22:16.530Z"
   },
   {
    "duration": 179,
    "start_time": "2023-02-26T16:22:16.581Z"
   },
   {
    "duration": 3,
    "start_time": "2023-02-26T16:22:16.762Z"
   },
   {
    "duration": 1914,
    "start_time": "2023-02-26T16:22:16.767Z"
   },
   {
    "duration": 33,
    "start_time": "2023-02-26T16:22:18.683Z"
   },
   {
    "duration": 11,
    "start_time": "2023-02-26T16:22:18.718Z"
   },
   {
    "duration": 4,
    "start_time": "2023-02-26T16:22:18.731Z"
   },
   {
    "duration": 35,
    "start_time": "2023-02-26T16:22:18.736Z"
   },
   {
    "duration": 34,
    "start_time": "2023-02-26T16:22:18.772Z"
   },
   {
    "duration": 35611,
    "start_time": "2023-02-26T16:22:18.807Z"
   },
   {
    "duration": 3,
    "start_time": "2023-02-26T16:22:54.420Z"
   },
   {
    "duration": 27,
    "start_time": "2023-02-26T16:22:54.425Z"
   },
   {
    "duration": 23,
    "start_time": "2023-02-26T16:22:54.454Z"
   },
   {
    "duration": 40,
    "start_time": "2023-02-26T16:22:54.479Z"
   },
   {
    "duration": 8,
    "start_time": "2023-02-26T16:22:54.521Z"
   },
   {
    "duration": 24,
    "start_time": "2023-02-26T16:22:54.530Z"
   },
   {
    "duration": 14,
    "start_time": "2023-02-26T16:22:54.555Z"
   },
   {
    "duration": 57,
    "start_time": "2023-02-26T16:22:54.570Z"
   },
   {
    "duration": 1535,
    "start_time": "2023-02-26T16:22:54.629Z"
   },
   {
    "duration": 196,
    "start_time": "2023-02-26T16:22:56.166Z"
   },
   {
    "duration": 16,
    "start_time": "2023-02-26T16:23:19.831Z"
   },
   {
    "duration": 132,
    "start_time": "2023-02-26T16:23:44.405Z"
   },
   {
    "duration": 17,
    "start_time": "2023-02-26T16:23:46.694Z"
   },
   {
    "duration": 1333,
    "start_time": "2023-02-26T18:54:33.074Z"
   },
   {
    "duration": 209,
    "start_time": "2023-02-26T18:54:39.219Z"
   },
   {
    "duration": 34,
    "start_time": "2023-02-26T18:59:32.113Z"
   },
   {
    "duration": 6,
    "start_time": "2023-02-26T18:59:36.415Z"
   },
   {
    "duration": 3145,
    "start_time": "2023-02-26T19:09:15.499Z"
   },
   {
    "duration": 1462,
    "start_time": "2023-02-26T19:09:51.440Z"
   },
   {
    "duration": 5,
    "start_time": "2023-02-26T19:12:42.085Z"
   },
   {
    "duration": 2193,
    "start_time": "2023-02-26T19:13:04.906Z"
   },
   {
    "duration": 6,
    "start_time": "2023-02-26T19:13:07.102Z"
   },
   {
    "duration": 1383,
    "start_time": "2023-02-26T19:13:07.109Z"
   },
   {
    "duration": 5,
    "start_time": "2023-02-26T19:13:08.496Z"
   },
   {
    "duration": 64,
    "start_time": "2023-02-26T19:13:08.503Z"
   },
   {
    "duration": 517,
    "start_time": "2023-02-26T19:13:08.569Z"
   },
   {
    "duration": 586,
    "start_time": "2023-02-26T19:13:09.088Z"
   },
   {
    "duration": 346,
    "start_time": "2023-02-26T19:13:09.675Z"
   },
   {
    "duration": 83,
    "start_time": "2023-02-26T19:13:10.027Z"
   },
   {
    "duration": 50,
    "start_time": "2023-02-26T19:13:10.113Z"
   },
   {
    "duration": 64,
    "start_time": "2023-02-26T19:13:10.164Z"
   },
   {
    "duration": 73,
    "start_time": "2023-02-26T19:13:10.232Z"
   },
   {
    "duration": 73,
    "start_time": "2023-02-26T19:13:10.307Z"
   },
   {
    "duration": 289,
    "start_time": "2023-02-26T19:13:10.382Z"
   },
   {
    "duration": 3,
    "start_time": "2023-02-26T19:13:10.673Z"
   },
   {
    "duration": 2232,
    "start_time": "2023-02-26T19:13:10.678Z"
   },
   {
    "duration": 33,
    "start_time": "2023-02-26T19:13:12.912Z"
   },
   {
    "duration": 11,
    "start_time": "2023-02-26T19:13:12.946Z"
   },
   {
    "duration": 3,
    "start_time": "2023-02-26T19:13:12.959Z"
   },
   {
    "duration": 38,
    "start_time": "2023-02-26T19:13:12.964Z"
   },
   {
    "duration": 32,
    "start_time": "2023-02-26T19:13:13.003Z"
   },
   {
    "duration": 36797,
    "start_time": "2023-02-26T19:13:13.042Z"
   },
   {
    "duration": 6,
    "start_time": "2023-02-26T19:13:49.842Z"
   },
   {
    "duration": 21,
    "start_time": "2023-02-26T19:13:49.850Z"
   },
   {
    "duration": 15,
    "start_time": "2023-02-26T19:13:49.873Z"
   },
   {
    "duration": 66,
    "start_time": "2023-02-26T19:13:49.890Z"
   },
   {
    "duration": 8,
    "start_time": "2023-02-26T19:13:49.958Z"
   },
   {
    "duration": 22,
    "start_time": "2023-02-26T19:13:49.969Z"
   },
   {
    "duration": 52,
    "start_time": "2023-02-26T19:13:49.993Z"
   },
   {
    "duration": 29,
    "start_time": "2023-02-26T19:13:50.047Z"
   },
   {
    "duration": 1801,
    "start_time": "2023-02-26T19:13:50.078Z"
   },
   {
    "duration": 202,
    "start_time": "2023-02-26T19:13:51.881Z"
   },
   {
    "duration": 16,
    "start_time": "2023-02-26T19:13:52.085Z"
   },
   {
    "duration": 122,
    "start_time": "2023-02-26T19:14:23.472Z"
   },
   {
    "duration": 3,
    "start_time": "2023-02-26T19:16:38.463Z"
   },
   {
    "duration": 7,
    "start_time": "2023-02-26T19:18:35.574Z"
   },
   {
    "duration": 1433,
    "start_time": "2023-02-26T19:18:46.617Z"
   },
   {
    "duration": 7,
    "start_time": "2023-02-26T19:19:40.654Z"
   },
   {
    "duration": 6,
    "start_time": "2023-02-26T19:19:55.844Z"
   },
   {
    "duration": 1009,
    "start_time": "2023-02-26T19:19:55.852Z"
   },
   {
    "duration": 7,
    "start_time": "2023-02-26T19:19:56.863Z"
   },
   {
    "duration": 82,
    "start_time": "2023-02-26T19:19:56.871Z"
   },
   {
    "duration": 490,
    "start_time": "2023-02-26T19:19:56.955Z"
   },
   {
    "duration": 577,
    "start_time": "2023-02-26T19:19:57.448Z"
   },
   {
    "duration": 357,
    "start_time": "2023-02-26T19:19:58.029Z"
   },
   {
    "duration": 85,
    "start_time": "2023-02-26T19:19:58.388Z"
   },
   {
    "duration": 33,
    "start_time": "2023-02-26T19:19:58.475Z"
   },
   {
    "duration": 87,
    "start_time": "2023-02-26T19:19:58.510Z"
   },
   {
    "duration": 64,
    "start_time": "2023-02-26T19:19:58.600Z"
   },
   {
    "duration": 79,
    "start_time": "2023-02-26T19:19:58.665Z"
   },
   {
    "duration": 187,
    "start_time": "2023-02-26T19:19:58.747Z"
   },
   {
    "duration": 9,
    "start_time": "2023-02-26T19:19:58.937Z"
   },
   {
    "duration": 2147,
    "start_time": "2023-02-26T19:19:58.949Z"
   },
   {
    "duration": 34,
    "start_time": "2023-02-26T19:20:01.098Z"
   },
   {
    "duration": 18,
    "start_time": "2023-02-26T19:20:01.133Z"
   },
   {
    "duration": 20,
    "start_time": "2023-02-26T19:20:01.153Z"
   },
   {
    "duration": 48,
    "start_time": "2023-02-26T19:20:01.175Z"
   },
   {
    "duration": 20,
    "start_time": "2023-02-26T19:20:01.226Z"
   },
   {
    "duration": 36806,
    "start_time": "2023-02-26T19:20:01.248Z"
   },
   {
    "duration": 4,
    "start_time": "2023-02-26T19:20:38.056Z"
   },
   {
    "duration": 18,
    "start_time": "2023-02-26T19:20:38.061Z"
   },
   {
    "duration": 15,
    "start_time": "2023-02-26T19:20:38.080Z"
   },
   {
    "duration": 62,
    "start_time": "2023-02-26T19:20:38.097Z"
   },
   {
    "duration": 8,
    "start_time": "2023-02-26T19:20:38.161Z"
   },
   {
    "duration": 22,
    "start_time": "2023-02-26T19:20:38.171Z"
   },
   {
    "duration": 53,
    "start_time": "2023-02-26T19:20:38.195Z"
   },
   {
    "duration": 36,
    "start_time": "2023-02-26T19:20:38.253Z"
   },
   {
    "duration": 1696,
    "start_time": "2023-02-26T19:20:38.291Z"
   },
   {
    "duration": 209,
    "start_time": "2023-02-26T19:20:39.989Z"
   },
   {
    "duration": 28,
    "start_time": "2023-02-26T19:20:40.200Z"
   },
   {
    "duration": 197,
    "start_time": "2023-02-26T19:20:40.237Z"
   },
   {
    "duration": 127,
    "start_time": "2023-02-26T19:21:23.769Z"
   },
   {
    "duration": 99,
    "start_time": "2023-02-26T19:21:33.508Z"
   },
   {
    "duration": 98,
    "start_time": "2023-02-26T19:21:52.260Z"
   },
   {
    "duration": 120,
    "start_time": "2023-02-26T19:22:08.852Z"
   },
   {
    "duration": 232,
    "start_time": "2023-02-26T19:24:59.847Z"
   },
   {
    "duration": 252,
    "start_time": "2023-02-26T19:25:03.492Z"
   },
   {
    "duration": 202,
    "start_time": "2023-02-26T19:25:17.480Z"
   },
   {
    "duration": 185,
    "start_time": "2023-02-26T19:26:03.770Z"
   },
   {
    "duration": 199,
    "start_time": "2023-02-26T19:26:10.626Z"
   },
   {
    "duration": 186,
    "start_time": "2023-02-26T19:26:25.861Z"
   },
   {
    "duration": 210,
    "start_time": "2023-02-26T19:26:47.273Z"
   },
   {
    "duration": 10,
    "start_time": "2023-02-26T19:32:18.184Z"
   },
   {
    "duration": 10,
    "start_time": "2023-02-26T19:32:42.152Z"
   },
   {
    "duration": 211,
    "start_time": "2023-02-26T19:32:46.851Z"
   },
   {
    "duration": 9,
    "start_time": "2023-02-26T19:32:48.964Z"
   },
   {
    "duration": 9,
    "start_time": "2023-02-26T19:32:58.087Z"
   },
   {
    "duration": 193,
    "start_time": "2023-02-26T19:33:03.868Z"
   },
   {
    "duration": 5,
    "start_time": "2023-02-26T19:33:14.897Z"
   },
   {
    "duration": 200,
    "start_time": "2023-02-26T19:33:22.897Z"
   },
   {
    "duration": 4,
    "start_time": "2023-02-26T19:33:29.581Z"
   },
   {
    "duration": 20,
    "start_time": "2023-02-26T19:37:27.526Z"
   },
   {
    "duration": 11,
    "start_time": "2023-02-26T19:41:49.223Z"
   },
   {
    "duration": 5,
    "start_time": "2023-02-26T19:42:26.707Z"
   },
   {
    "duration": 12,
    "start_time": "2023-02-26T19:42:35.759Z"
   },
   {
    "duration": 5,
    "start_time": "2023-02-26T19:43:13.984Z"
   },
   {
    "duration": 10,
    "start_time": "2023-02-26T19:44:32.316Z"
   },
   {
    "duration": 17,
    "start_time": "2023-02-26T19:44:35.540Z"
   },
   {
    "duration": 20,
    "start_time": "2023-02-26T19:45:02.448Z"
   },
   {
    "duration": 19,
    "start_time": "2023-02-26T19:45:10.815Z"
   },
   {
    "duration": 12,
    "start_time": "2023-02-26T19:45:14.250Z"
   },
   {
    "duration": 11,
    "start_time": "2023-02-26T19:45:23.059Z"
   },
   {
    "duration": 11,
    "start_time": "2023-02-26T19:45:27.981Z"
   },
   {
    "duration": 5,
    "start_time": "2023-02-26T19:46:07.706Z"
   },
   {
    "duration": 11,
    "start_time": "2023-02-26T19:46:11.978Z"
   },
   {
    "duration": 14,
    "start_time": "2023-02-26T19:46:27.030Z"
   },
   {
    "duration": 3,
    "start_time": "2023-02-26T19:46:35.539Z"
   },
   {
    "duration": 1189,
    "start_time": "2023-02-26T19:47:52.850Z"
   },
   {
    "duration": 5,
    "start_time": "2023-02-26T19:48:42.027Z"
   },
   {
    "duration": 18,
    "start_time": "2023-02-26T19:48:56.354Z"
   },
   {
    "duration": 118,
    "start_time": "2023-02-26T19:48:57.795Z"
   },
   {
    "duration": 20,
    "start_time": "2023-02-26T19:48:59.283Z"
   },
   {
    "duration": 3,
    "start_time": "2023-02-26T19:49:01.003Z"
   },
   {
    "duration": 34,
    "start_time": "2023-02-26T19:49:02.783Z"
   },
   {
    "duration": 3,
    "start_time": "2023-02-26T19:49:24.782Z"
   },
   {
    "duration": 29,
    "start_time": "2023-02-26T19:49:25.910Z"
   },
   {
    "duration": 3,
    "start_time": "2023-02-26T19:50:04.108Z"
   },
   {
    "duration": 1062,
    "start_time": "2023-02-26T19:50:05.471Z"
   },
   {
    "duration": 2053,
    "start_time": "2023-02-26T19:53:23.820Z"
   },
   {
    "duration": 2006,
    "start_time": "2023-02-26T19:53:33.966Z"
   },
   {
    "duration": 1904,
    "start_time": "2023-02-26T19:53:44.649Z"
   },
   {
    "duration": 1884,
    "start_time": "2023-02-26T19:53:49.504Z"
   },
   {
    "duration": 11,
    "start_time": "2023-02-26T19:55:18.574Z"
   },
   {
    "duration": 1712,
    "start_time": "2023-02-26T19:55:26.605Z"
   },
   {
    "duration": 203,
    "start_time": "2023-02-26T19:56:09.216Z"
   },
   {
    "duration": 197,
    "start_time": "2023-02-26T19:56:58.310Z"
   },
   {
    "duration": 11,
    "start_time": "2023-02-26T19:59:05.501Z"
   },
   {
    "duration": 1829,
    "start_time": "2023-02-26T19:59:30.212Z"
   },
   {
    "duration": 1396,
    "start_time": "2023-02-26T20:01:38.736Z"
   },
   {
    "duration": 990,
    "start_time": "2023-02-26T20:01:40.134Z"
   },
   {
    "duration": 4,
    "start_time": "2023-02-26T20:01:41.125Z"
   },
   {
    "duration": 60,
    "start_time": "2023-02-26T20:01:41.131Z"
   },
   {
    "duration": 470,
    "start_time": "2023-02-26T20:01:41.193Z"
   },
   {
    "duration": 601,
    "start_time": "2023-02-26T20:01:41.664Z"
   },
   {
    "duration": 332,
    "start_time": "2023-02-26T20:01:42.267Z"
   },
   {
    "duration": 88,
    "start_time": "2023-02-26T20:01:42.600Z"
   },
   {
    "duration": 42,
    "start_time": "2023-02-26T20:01:42.690Z"
   },
   {
    "duration": 46,
    "start_time": "2023-02-26T20:01:42.736Z"
   },
   {
    "duration": 65,
    "start_time": "2023-02-26T20:01:42.784Z"
   },
   {
    "duration": 48,
    "start_time": "2023-02-26T20:01:42.851Z"
   },
   {
    "duration": 190,
    "start_time": "2023-02-26T20:01:42.901Z"
   },
   {
    "duration": 218,
    "start_time": "2023-02-26T20:01:43.093Z"
   },
   {
    "duration": 46,
    "start_time": "2023-02-26T20:01:43.313Z"
   },
   {
    "duration": 1840,
    "start_time": "2023-02-26T20:01:43.360Z"
   },
   {
    "duration": 35,
    "start_time": "2023-02-26T20:01:45.202Z"
   },
   {
    "duration": 5,
    "start_time": "2023-02-26T20:01:56.894Z"
   },
   {
    "duration": 124,
    "start_time": "2023-02-26T20:02:41.308Z"
   },
   {
    "duration": 1376,
    "start_time": "2023-02-26T20:03:14.059Z"
   },
   {
    "duration": 931,
    "start_time": "2023-02-26T20:03:15.438Z"
   },
   {
    "duration": 5,
    "start_time": "2023-02-26T20:03:16.371Z"
   },
   {
    "duration": 74,
    "start_time": "2023-02-26T20:03:16.378Z"
   },
   {
    "duration": 483,
    "start_time": "2023-02-26T20:03:16.455Z"
   },
   {
    "duration": 598,
    "start_time": "2023-02-26T20:03:16.940Z"
   },
   {
    "duration": 330,
    "start_time": "2023-02-26T20:03:17.540Z"
   },
   {
    "duration": 80,
    "start_time": "2023-02-26T20:03:17.872Z"
   },
   {
    "duration": 32,
    "start_time": "2023-02-26T20:03:17.954Z"
   },
   {
    "duration": 62,
    "start_time": "2023-02-26T20:03:17.988Z"
   },
   {
    "duration": 47,
    "start_time": "2023-02-26T20:03:18.052Z"
   },
   {
    "duration": 62,
    "start_time": "2023-02-26T20:03:18.100Z"
   },
   {
    "duration": 189,
    "start_time": "2023-02-26T20:03:18.163Z"
   },
   {
    "duration": 233,
    "start_time": "2023-02-26T20:03:18.355Z"
   },
   {
    "duration": 47,
    "start_time": "2023-02-26T20:03:18.590Z"
   },
   {
    "duration": 1914,
    "start_time": "2023-02-26T20:03:18.639Z"
   },
   {
    "duration": 22,
    "start_time": "2023-02-26T20:03:20.555Z"
   },
   {
    "duration": 4,
    "start_time": "2023-02-26T20:03:20.579Z"
   },
   {
    "duration": 5,
    "start_time": "2023-02-26T20:08:56.480Z"
   },
   {
    "duration": 968,
    "start_time": "2023-02-26T20:08:56.490Z"
   },
   {
    "duration": 6,
    "start_time": "2023-02-26T20:08:57.461Z"
   },
   {
    "duration": 32,
    "start_time": "2023-02-26T20:08:57.469Z"
   },
   {
    "duration": 447,
    "start_time": "2023-02-26T20:08:57.503Z"
   },
   {
    "duration": 503,
    "start_time": "2023-02-26T20:08:57.953Z"
   },
   {
    "duration": 307,
    "start_time": "2023-02-26T20:08:58.458Z"
   },
   {
    "duration": 72,
    "start_time": "2023-02-26T20:08:58.767Z"
   },
   {
    "duration": 44,
    "start_time": "2023-02-26T20:08:58.840Z"
   },
   {
    "duration": 101,
    "start_time": "2023-02-26T20:08:58.887Z"
   },
   {
    "duration": 71,
    "start_time": "2023-02-26T20:08:58.990Z"
   },
   {
    "duration": 51,
    "start_time": "2023-02-26T20:08:59.063Z"
   },
   {
    "duration": 170,
    "start_time": "2023-02-26T20:08:59.116Z"
   },
   {
    "duration": 245,
    "start_time": "2023-02-26T20:08:59.288Z"
   },
   {
    "duration": 36,
    "start_time": "2023-02-26T20:08:59.536Z"
   },
   {
    "duration": 1878,
    "start_time": "2023-02-26T20:08:59.575Z"
   },
   {
    "duration": 24,
    "start_time": "2023-02-26T20:09:01.455Z"
   },
   {
    "duration": 17,
    "start_time": "2023-02-26T20:09:01.481Z"
   },
   {
    "duration": 31,
    "start_time": "2023-02-26T20:09:01.500Z"
   },
   {
    "duration": 205,
    "start_time": "2023-02-26T20:09:01.534Z"
   },
   {
    "duration": 7,
    "start_time": "2023-02-26T20:09:01.741Z"
   },
   {
    "duration": 38964,
    "start_time": "2023-02-26T20:09:01.750Z"
   },
   {
    "duration": 5,
    "start_time": "2023-02-26T20:09:40.726Z"
   },
   {
    "duration": 26,
    "start_time": "2023-02-26T20:09:40.733Z"
   },
   {
    "duration": 17,
    "start_time": "2023-02-26T20:09:40.761Z"
   },
   {
    "duration": 51,
    "start_time": "2023-02-26T20:09:40.780Z"
   },
   {
    "duration": 8,
    "start_time": "2023-02-26T20:09:40.833Z"
   },
   {
    "duration": 30,
    "start_time": "2023-02-26T20:09:40.844Z"
   },
   {
    "duration": 13,
    "start_time": "2023-02-26T20:09:40.876Z"
   },
   {
    "duration": 60,
    "start_time": "2023-02-26T20:09:40.891Z"
   },
   {
    "duration": 1741,
    "start_time": "2023-02-26T20:09:40.954Z"
   },
   {
    "duration": 239,
    "start_time": "2023-02-26T20:09:42.698Z"
   },
   {
    "duration": 18,
    "start_time": "2023-02-26T20:09:42.939Z"
   },
   {
    "duration": 130,
    "start_time": "2023-02-26T20:09:42.959Z"
   },
   {
    "duration": 1888,
    "start_time": "2023-02-26T20:09:48.691Z"
   },
   {
    "duration": 119,
    "start_time": "2023-02-26T20:11:12.354Z"
   },
   {
    "duration": 245,
    "start_time": "2023-02-26T20:11:29.028Z"
   },
   {
    "duration": 380,
    "start_time": "2023-02-26T20:11:34.947Z"
   },
   {
    "duration": 14,
    "start_time": "2023-02-26T20:11:47.697Z"
   },
   {
    "duration": 11,
    "start_time": "2023-02-26T20:11:51.152Z"
   },
   {
    "duration": 1352,
    "start_time": "2023-02-26T20:12:23.058Z"
   },
   {
    "duration": 962,
    "start_time": "2023-02-26T20:12:24.412Z"
   },
   {
    "duration": 4,
    "start_time": "2023-02-26T20:12:25.375Z"
   },
   {
    "duration": 64,
    "start_time": "2023-02-26T20:12:25.381Z"
   },
   {
    "duration": 484,
    "start_time": "2023-02-26T20:12:25.448Z"
   },
   {
    "duration": 638,
    "start_time": "2023-02-26T20:12:25.933Z"
   },
   {
    "duration": 354,
    "start_time": "2023-02-26T20:12:26.573Z"
   },
   {
    "duration": 73,
    "start_time": "2023-02-26T20:12:26.929Z"
   },
   {
    "duration": 45,
    "start_time": "2023-02-26T20:12:27.004Z"
   },
   {
    "duration": 51,
    "start_time": "2023-02-26T20:12:27.051Z"
   },
   {
    "duration": 64,
    "start_time": "2023-02-26T20:12:27.103Z"
   },
   {
    "duration": 77,
    "start_time": "2023-02-26T20:12:27.168Z"
   },
   {
    "duration": 197,
    "start_time": "2023-02-26T20:12:27.248Z"
   },
   {
    "duration": 228,
    "start_time": "2023-02-26T20:12:27.449Z"
   },
   {
    "duration": 57,
    "start_time": "2023-02-26T20:12:27.679Z"
   },
   {
    "duration": 1858,
    "start_time": "2023-02-26T20:12:27.738Z"
   },
   {
    "duration": 29,
    "start_time": "2023-02-26T20:12:29.598Z"
   },
   {
    "duration": 10,
    "start_time": "2023-02-26T20:12:29.629Z"
   },
   {
    "duration": 5,
    "start_time": "2023-02-26T20:12:29.641Z"
   },
   {
    "duration": 43,
    "start_time": "2023-02-26T20:12:29.647Z"
   },
   {
    "duration": 6,
    "start_time": "2023-02-26T20:12:29.692Z"
   },
   {
    "duration": 37670,
    "start_time": "2023-02-26T20:12:29.699Z"
   },
   {
    "duration": 3,
    "start_time": "2023-02-26T20:13:07.371Z"
   },
   {
    "duration": 20,
    "start_time": "2023-02-26T20:13:07.376Z"
   },
   {
    "duration": 36,
    "start_time": "2023-02-26T20:13:07.397Z"
   },
   {
    "duration": 33,
    "start_time": "2023-02-26T20:13:07.434Z"
   },
   {
    "duration": 8,
    "start_time": "2023-02-26T20:13:07.468Z"
   },
   {
    "duration": 50,
    "start_time": "2023-02-26T20:13:07.478Z"
   },
   {
    "duration": 13,
    "start_time": "2023-02-26T20:13:07.530Z"
   },
   {
    "duration": 29,
    "start_time": "2023-02-26T20:13:07.545Z"
   },
   {
    "duration": 1594,
    "start_time": "2023-02-26T20:13:07.576Z"
   },
   {
    "duration": 203,
    "start_time": "2023-02-26T20:13:09.172Z"
   },
   {
    "duration": 17,
    "start_time": "2023-02-26T20:13:09.377Z"
   },
   {
    "duration": 135,
    "start_time": "2023-02-26T20:13:09.396Z"
   },
   {
    "duration": 1978,
    "start_time": "2023-02-26T20:13:09.532Z"
   },
   {
    "duration": 427,
    "start_time": "2023-02-26T20:13:11.512Z"
   },
   {
    "duration": 224,
    "start_time": "2023-02-26T20:13:11.942Z"
   },
   {
    "duration": 1227,
    "start_time": "2023-02-26T20:14:15.260Z"
   },
   {
    "duration": 4,
    "start_time": "2023-02-26T20:15:09.451Z"
   },
   {
    "duration": 4,
    "start_time": "2023-02-26T20:15:20.189Z"
   },
   {
    "duration": 207,
    "start_time": "2023-02-26T20:16:15.675Z"
   },
   {
    "duration": 1415,
    "start_time": "2023-02-26T20:16:46.299Z"
   },
   {
    "duration": 947,
    "start_time": "2023-02-26T20:16:47.716Z"
   },
   {
    "duration": 5,
    "start_time": "2023-02-26T20:16:48.665Z"
   },
   {
    "duration": 66,
    "start_time": "2023-02-26T20:16:48.672Z"
   },
   {
    "duration": 476,
    "start_time": "2023-02-26T20:16:48.741Z"
   },
   {
    "duration": 581,
    "start_time": "2023-02-26T20:16:49.218Z"
   },
   {
    "duration": 342,
    "start_time": "2023-02-26T20:16:49.801Z"
   },
   {
    "duration": 88,
    "start_time": "2023-02-26T20:16:50.145Z"
   },
   {
    "duration": 48,
    "start_time": "2023-02-26T20:16:50.235Z"
   },
   {
    "duration": 81,
    "start_time": "2023-02-26T20:16:50.285Z"
   },
   {
    "duration": 68,
    "start_time": "2023-02-26T20:16:50.368Z"
   },
   {
    "duration": 71,
    "start_time": "2023-02-26T20:16:50.438Z"
   },
   {
    "duration": 196,
    "start_time": "2023-02-26T20:16:50.511Z"
   },
   {
    "duration": 222,
    "start_time": "2023-02-26T20:16:50.709Z"
   },
   {
    "duration": 43,
    "start_time": "2023-02-26T20:16:50.933Z"
   },
   {
    "duration": 1891,
    "start_time": "2023-02-26T20:16:50.978Z"
   },
   {
    "duration": 22,
    "start_time": "2023-02-26T20:16:52.870Z"
   },
   {
    "duration": 9,
    "start_time": "2023-02-26T20:16:52.894Z"
   },
   {
    "duration": 3,
    "start_time": "2023-02-26T20:16:52.904Z"
   },
   {
    "duration": 53,
    "start_time": "2023-02-26T20:16:52.908Z"
   },
   {
    "duration": 5,
    "start_time": "2023-02-26T20:16:52.963Z"
   },
   {
    "duration": 36767,
    "start_time": "2023-02-26T20:16:52.970Z"
   },
   {
    "duration": 4,
    "start_time": "2023-02-26T20:17:29.739Z"
   },
   {
    "duration": 26,
    "start_time": "2023-02-26T20:17:29.745Z"
   },
   {
    "duration": 15,
    "start_time": "2023-02-26T20:17:29.773Z"
   },
   {
    "duration": 55,
    "start_time": "2023-02-26T20:17:29.791Z"
   },
   {
    "duration": 10,
    "start_time": "2023-02-26T20:17:29.848Z"
   },
   {
    "duration": 22,
    "start_time": "2023-02-26T20:17:29.860Z"
   },
   {
    "duration": 13,
    "start_time": "2023-02-26T20:17:29.883Z"
   },
   {
    "duration": 57,
    "start_time": "2023-02-26T20:17:29.898Z"
   },
   {
    "duration": 1677,
    "start_time": "2023-02-26T20:17:29.957Z"
   },
   {
    "duration": 197,
    "start_time": "2023-02-26T20:17:31.635Z"
   },
   {
    "duration": 17,
    "start_time": "2023-02-26T20:17:31.834Z"
   },
   {
    "duration": 147,
    "start_time": "2023-02-26T20:17:31.853Z"
   },
   {
    "duration": 2020,
    "start_time": "2023-02-26T20:17:32.002Z"
   },
   {
    "duration": 337,
    "start_time": "2023-02-26T20:17:34.024Z"
   },
   {
    "duration": 16,
    "start_time": "2023-02-26T20:17:48.351Z"
   },
   {
    "duration": 1454,
    "start_time": "2023-02-26T20:18:21.426Z"
   },
   {
    "duration": 976,
    "start_time": "2023-02-26T20:18:22.882Z"
   },
   {
    "duration": 5,
    "start_time": "2023-02-26T20:18:23.859Z"
   },
   {
    "duration": 69,
    "start_time": "2023-02-26T20:18:23.865Z"
   },
   {
    "duration": 495,
    "start_time": "2023-02-26T20:18:23.937Z"
   },
   {
    "duration": 637,
    "start_time": "2023-02-26T20:18:24.434Z"
   },
   {
    "duration": 349,
    "start_time": "2023-02-26T20:18:25.073Z"
   },
   {
    "duration": 73,
    "start_time": "2023-02-26T20:18:25.424Z"
   },
   {
    "duration": 43,
    "start_time": "2023-02-26T20:18:25.498Z"
   },
   {
    "duration": 45,
    "start_time": "2023-02-26T20:18:25.543Z"
   },
   {
    "duration": 66,
    "start_time": "2023-02-26T20:18:25.590Z"
   },
   {
    "duration": 53,
    "start_time": "2023-02-26T20:18:25.658Z"
   },
   {
    "duration": 204,
    "start_time": "2023-02-26T20:18:25.713Z"
   },
   {
    "duration": 244,
    "start_time": "2023-02-26T20:18:25.919Z"
   },
   {
    "duration": 48,
    "start_time": "2023-02-26T20:18:26.165Z"
   },
   {
    "duration": 2000,
    "start_time": "2023-02-26T20:18:26.215Z"
   },
   {
    "duration": 25,
    "start_time": "2023-02-26T20:18:28.217Z"
   },
   {
    "duration": 12,
    "start_time": "2023-02-26T20:18:28.244Z"
   },
   {
    "duration": 3,
    "start_time": "2023-02-26T20:18:28.258Z"
   },
   {
    "duration": 65,
    "start_time": "2023-02-26T20:18:28.262Z"
   },
   {
    "duration": 6,
    "start_time": "2023-02-26T20:18:28.329Z"
   },
   {
    "duration": 37448,
    "start_time": "2023-02-26T20:18:28.337Z"
   },
   {
    "duration": 5,
    "start_time": "2023-02-26T20:19:05.787Z"
   },
   {
    "duration": 35,
    "start_time": "2023-02-26T20:19:05.794Z"
   },
   {
    "duration": 16,
    "start_time": "2023-02-26T20:19:05.831Z"
   },
   {
    "duration": 38,
    "start_time": "2023-02-26T20:19:05.851Z"
   },
   {
    "duration": 11,
    "start_time": "2023-02-26T20:19:05.890Z"
   },
   {
    "duration": 53,
    "start_time": "2023-02-26T20:19:05.903Z"
   },
   {
    "duration": 17,
    "start_time": "2023-02-26T20:19:05.958Z"
   },
   {
    "duration": 64,
    "start_time": "2023-02-26T20:19:05.977Z"
   },
   {
    "duration": 1871,
    "start_time": "2023-02-26T20:19:06.044Z"
   },
   {
    "duration": 260,
    "start_time": "2023-02-26T20:19:07.917Z"
   },
   {
    "duration": 18,
    "start_time": "2023-02-26T20:19:08.179Z"
   },
   {
    "duration": 141,
    "start_time": "2023-02-26T20:19:08.198Z"
   },
   {
    "duration": 2050,
    "start_time": "2023-02-26T20:19:08.340Z"
   },
   {
    "duration": 565,
    "start_time": "2023-02-26T20:19:10.393Z"
   },
   {
    "duration": 1551,
    "start_time": "2023-02-26T20:19:35.973Z"
   },
   {
    "duration": 1068,
    "start_time": "2023-02-26T20:19:37.527Z"
   },
   {
    "duration": 5,
    "start_time": "2023-02-26T20:19:38.597Z"
   },
   {
    "duration": 72,
    "start_time": "2023-02-26T20:19:38.604Z"
   },
   {
    "duration": 528,
    "start_time": "2023-02-26T20:19:38.677Z"
   },
   {
    "duration": 639,
    "start_time": "2023-02-26T20:19:39.207Z"
   },
   {
    "duration": 376,
    "start_time": "2023-02-26T20:19:39.849Z"
   },
   {
    "duration": 107,
    "start_time": "2023-02-26T20:19:40.227Z"
   },
   {
    "duration": 59,
    "start_time": "2023-02-26T20:19:40.336Z"
   },
   {
    "duration": 76,
    "start_time": "2023-02-26T20:19:40.398Z"
   },
   {
    "duration": 68,
    "start_time": "2023-02-26T20:19:40.476Z"
   },
   {
    "duration": 94,
    "start_time": "2023-02-26T20:19:40.546Z"
   },
   {
    "duration": 183,
    "start_time": "2023-02-26T20:19:40.642Z"
   },
   {
    "duration": 256,
    "start_time": "2023-02-26T20:19:40.827Z"
   },
   {
    "duration": 48,
    "start_time": "2023-02-26T20:19:41.084Z"
   },
   {
    "duration": 2050,
    "start_time": "2023-02-26T20:19:41.134Z"
   },
   {
    "duration": 33,
    "start_time": "2023-02-26T20:19:43.186Z"
   },
   {
    "duration": 15,
    "start_time": "2023-02-26T20:19:43.235Z"
   },
   {
    "duration": 8,
    "start_time": "2023-02-26T20:19:43.252Z"
   },
   {
    "duration": 43,
    "start_time": "2023-02-26T20:19:43.262Z"
   },
   {
    "duration": 6,
    "start_time": "2023-02-26T20:19:43.307Z"
   },
   {
    "duration": 38323,
    "start_time": "2023-02-26T20:19:43.315Z"
   },
   {
    "duration": 5,
    "start_time": "2023-02-26T20:20:21.639Z"
   },
   {
    "duration": 21,
    "start_time": "2023-02-26T20:20:21.646Z"
   },
   {
    "duration": 15,
    "start_time": "2023-02-26T20:20:21.668Z"
   },
   {
    "duration": 67,
    "start_time": "2023-02-26T20:20:21.685Z"
   },
   {
    "duration": 8,
    "start_time": "2023-02-26T20:20:21.754Z"
   },
   {
    "duration": 28,
    "start_time": "2023-02-26T20:20:21.765Z"
   },
   {
    "duration": 36,
    "start_time": "2023-02-26T20:20:21.795Z"
   },
   {
    "duration": 33,
    "start_time": "2023-02-26T20:20:21.833Z"
   },
   {
    "duration": 1616,
    "start_time": "2023-02-26T20:20:21.867Z"
   },
   {
    "duration": 211,
    "start_time": "2023-02-26T20:20:23.485Z"
   },
   {
    "duration": 31,
    "start_time": "2023-02-26T20:20:23.698Z"
   },
   {
    "duration": 129,
    "start_time": "2023-02-26T20:20:23.731Z"
   },
   {
    "duration": 1897,
    "start_time": "2023-02-26T20:20:23.862Z"
   },
   {
    "duration": 435,
    "start_time": "2023-02-26T20:20:25.761Z"
   },
   {
    "duration": 1108,
    "start_time": "2023-02-26T20:20:35.041Z"
   },
   {
    "duration": 11,
    "start_time": "2023-02-26T20:21:03.998Z"
   },
   {
    "duration": 12,
    "start_time": "2023-02-26T20:21:21.453Z"
   },
   {
    "duration": 107,
    "start_time": "2023-02-26T20:22:28.110Z"
   },
   {
    "duration": 466,
    "start_time": "2023-02-26T20:22:30.363Z"
   },
   {
    "duration": 23,
    "start_time": "2023-02-26T20:22:40.192Z"
   },
   {
    "duration": 111,
    "start_time": "2023-02-26T20:22:44.151Z"
   },
   {
    "duration": 406,
    "start_time": "2023-02-26T20:22:47.711Z"
   },
   {
    "duration": 1932,
    "start_time": "2023-02-26T20:22:58.486Z"
   },
   {
    "duration": 448,
    "start_time": "2023-02-26T20:23:04.162Z"
   },
   {
    "duration": 9,
    "start_time": "2023-02-26T20:23:07.089Z"
   },
   {
    "duration": 931,
    "start_time": "2023-02-26T20:23:15.900Z"
   },
   {
    "duration": 39,
    "start_time": "2023-02-26T20:23:25.018Z"
   },
   {
    "duration": 4,
    "start_time": "2023-02-26T20:23:28.690Z"
   },
   {
    "duration": 4,
    "start_time": "2023-02-26T20:23:56.413Z"
   },
   {
    "duration": 15,
    "start_time": "2023-02-26T20:24:13.447Z"
   },
   {
    "duration": 4,
    "start_time": "2023-02-26T20:24:31.788Z"
   },
   {
    "duration": 18244,
    "start_time": "2023-02-26T20:24:33.854Z"
   },
   {
    "duration": 1097639,
    "start_time": "2023-02-26T20:25:12.778Z"
   },
   {
    "duration": 93,
    "start_time": "2023-02-26T20:51:29.424Z"
   },
   {
    "duration": 5,
    "start_time": "2023-02-26T20:51:40.559Z"
   },
   {
    "duration": 383765,
    "start_time": "2023-02-26T20:52:06.371Z"
   },
   {
    "duration": 17689,
    "start_time": "2023-02-26T20:59:31.635Z"
   },
   {
    "duration": 5,
    "start_time": "2023-02-26T21:00:31.702Z"
   },
   {
    "duration": 17941,
    "start_time": "2023-02-26T21:00:35.428Z"
   },
   {
    "duration": 5,
    "start_time": "2023-02-26T21:01:42.006Z"
   },
   {
    "duration": 17968,
    "start_time": "2023-02-26T21:01:46.168Z"
   },
   {
    "duration": 5,
    "start_time": "2023-02-26T21:02:12.980Z"
   },
   {
    "duration": 16902,
    "start_time": "2023-02-26T21:02:15.639Z"
   },
   {
    "duration": 5,
    "start_time": "2023-02-26T21:02:47.040Z"
   },
   {
    "duration": 158977,
    "start_time": "2023-02-26T21:03:13.951Z"
   },
   {
    "duration": 4,
    "start_time": "2023-02-26T21:05:57.731Z"
   },
   {
    "duration": 10,
    "start_time": "2023-02-26T21:07:07.013Z"
   },
   {
    "duration": 3,
    "start_time": "2023-02-26T21:07:24.323Z"
   },
   {
    "duration": 4,
    "start_time": "2023-02-26T21:07:34.995Z"
   },
   {
    "duration": 42753,
    "start_time": "2023-02-26T21:08:50.472Z"
   },
   {
    "duration": 0,
    "start_time": "2023-02-26T21:09:33.227Z"
   },
   {
    "duration": 1104805,
    "start_time": "2023-02-26T21:09:41.955Z"
   },
   {
    "duration": 12,
    "start_time": "2023-02-26T21:28:39.393Z"
   },
   {
    "duration": 5,
    "start_time": "2023-02-26T21:30:49.890Z"
   },
   {
    "duration": 5,
    "start_time": "2023-02-26T21:31:45.598Z"
   },
   {
    "duration": 1477,
    "start_time": "2023-02-26T21:32:48.250Z"
   },
   {
    "duration": 1686,
    "start_time": "2023-02-26T21:33:00.144Z"
   },
   {
    "duration": 13,
    "start_time": "2023-02-26T21:33:08.896Z"
   },
   {
    "duration": 10,
    "start_time": "2023-02-26T21:33:24.295Z"
   },
   {
    "duration": 11,
    "start_time": "2023-02-26T21:34:05.392Z"
   },
   {
    "duration": 169600,
    "start_time": "2023-02-26T21:35:17.544Z"
   },
   {
    "duration": 3,
    "start_time": "2023-02-26T21:38:46.248Z"
   },
   {
    "duration": 8039,
    "start_time": "2023-02-26T21:38:51.900Z"
   },
   {
    "duration": 8147,
    "start_time": "2023-02-26T21:39:14.085Z"
   },
   {
    "duration": 5,
    "start_time": "2023-02-26T21:40:33.524Z"
   },
   {
    "duration": 6,
    "start_time": "2023-02-26T21:41:45.688Z"
   },
   {
    "duration": 6,
    "start_time": "2023-02-26T21:41:59.306Z"
   },
   {
    "duration": 171,
    "start_time": "2023-02-26T21:42:44.723Z"
   },
   {
    "duration": 19,
    "start_time": "2023-02-26T21:43:18.190Z"
   },
   {
    "duration": 108,
    "start_time": "2023-02-26T21:43:19.787Z"
   },
   {
    "duration": 1480,
    "start_time": "2023-02-26T21:43:21.523Z"
   },
   {
    "duration": 327,
    "start_time": "2023-02-26T21:43:25.314Z"
   },
   {
    "duration": 643,
    "start_time": "2023-02-26T21:43:47.485Z"
   },
   {
    "duration": 30,
    "start_time": "2023-02-26T21:43:57.366Z"
   },
   {
    "duration": 17908,
    "start_time": "2023-02-26T21:44:08.821Z"
   },
   {
    "duration": 1092040,
    "start_time": "2023-02-26T21:44:47.084Z"
   },
   {
    "duration": 9,
    "start_time": "2023-02-26T22:02:59.127Z"
   },
   {
    "duration": 124,
    "start_time": "2023-02-26T22:03:28.148Z"
   },
   {
    "duration": 18,
    "start_time": "2023-02-26T22:03:38.357Z"
   },
   {
    "duration": 125,
    "start_time": "2023-02-26T22:04:24.673Z"
   },
   {
    "duration": 115,
    "start_time": "2023-02-26T22:04:52.338Z"
   },
   {
    "duration": 150,
    "start_time": "2023-02-26T22:05:30.680Z"
   },
   {
    "duration": 141,
    "start_time": "2023-02-26T22:05:44.289Z"
   },
   {
    "duration": 19,
    "start_time": "2023-02-26T22:05:46.696Z"
   },
   {
    "duration": 16,
    "start_time": "2023-02-26T22:05:54.057Z"
   },
   {
    "duration": 127,
    "start_time": "2023-02-26T22:07:18.649Z"
   },
   {
    "duration": 122,
    "start_time": "2023-02-26T22:07:24.660Z"
   },
   {
    "duration": 130,
    "start_time": "2023-02-26T22:07:45.712Z"
   },
   {
    "duration": 126,
    "start_time": "2023-02-26T22:08:16.781Z"
   },
   {
    "duration": 125,
    "start_time": "2023-02-26T22:08:25.321Z"
   },
   {
    "duration": 135,
    "start_time": "2023-02-26T22:08:28.181Z"
   },
   {
    "duration": 79,
    "start_time": "2023-02-26T22:09:14.033Z"
   },
   {
    "duration": 74,
    "start_time": "2023-02-26T22:09:25.752Z"
   },
   {
    "duration": 123,
    "start_time": "2023-02-26T22:09:35.464Z"
   },
   {
    "duration": 14,
    "start_time": "2023-02-26T22:09:37.985Z"
   },
   {
    "duration": 130,
    "start_time": "2023-02-26T22:09:50.137Z"
   },
   {
    "duration": 119,
    "start_time": "2023-02-26T22:09:54.727Z"
   },
   {
    "duration": 20,
    "start_time": "2023-02-26T22:10:05.608Z"
   },
   {
    "duration": 104,
    "start_time": "2023-02-26T22:10:12.724Z"
   },
   {
    "duration": 1049,
    "start_time": "2023-02-26T22:10:20.372Z"
   },
   {
    "duration": 232,
    "start_time": "2023-02-26T22:10:23.190Z"
   },
   {
    "duration": 439,
    "start_time": "2023-02-26T22:10:27.091Z"
   },
   {
    "duration": 23,
    "start_time": "2023-02-26T22:10:41.365Z"
   },
   {
    "duration": 4,
    "start_time": "2023-02-26T22:10:42.812Z"
   },
   {
    "duration": 9225,
    "start_time": "2023-02-26T22:10:45.516Z"
   },
   {
    "duration": 521100,
    "start_time": "2023-02-26T22:11:11.279Z"
   },
   {
    "duration": 97,
    "start_time": "2023-02-26T22:20:18.786Z"
   },
   {
    "duration": 0,
    "start_time": "2023-02-26T22:30:51.837Z"
   },
   {
    "duration": 960418,
    "start_time": "2023-02-26T22:30:54.343Z"
   },
   {
    "duration": 5,
    "start_time": "2023-02-26T22:47:01.787Z"
   },
   {
    "duration": 4,
    "start_time": "2023-02-26T22:48:26.284Z"
   },
   {
    "duration": 72,
    "start_time": "2023-02-26T22:48:54.847Z"
   },
   {
    "duration": 69,
    "start_time": "2023-02-26T22:49:01.609Z"
   },
   {
    "duration": 0,
    "start_time": "2023-02-26T22:49:41.249Z"
   },
   {
    "duration": 26297,
    "start_time": "2023-02-26T22:49:59.856Z"
   },
   {
    "duration": 17536,
    "start_time": "2023-02-26T22:50:30.618Z"
   },
   {
    "duration": 74,
    "start_time": "2023-02-26T22:50:59.180Z"
   },
   {
    "duration": 13881,
    "start_time": "2023-02-26T22:51:07.563Z"
   },
   {
    "duration": 347134,
    "start_time": "2023-02-26T22:51:23.422Z"
   },
   {
    "duration": 51,
    "start_time": "2023-02-26T22:57:50.908Z"
   },
   {
    "duration": 76,
    "start_time": "2023-02-26T22:58:28.645Z"
   },
   {
    "duration": 69,
    "start_time": "2023-02-26T22:58:31.943Z"
   },
   {
    "duration": 68,
    "start_time": "2023-02-26T22:58:42.118Z"
   },
   {
    "duration": 73,
    "start_time": "2023-02-26T22:58:58.581Z"
   },
   {
    "duration": 69,
    "start_time": "2023-02-26T22:59:25.963Z"
   },
   {
    "duration": 66,
    "start_time": "2023-02-26T22:59:49.539Z"
   },
   {
    "duration": 1386,
    "start_time": "2023-02-26T22:59:58.027Z"
   },
   {
    "duration": 2881,
    "start_time": "2023-02-26T23:01:08.908Z"
   },
   {
    "duration": 69,
    "start_time": "2023-02-26T23:01:30.802Z"
   },
   {
    "duration": 6,
    "start_time": "2023-02-26T23:02:08.767Z"
   },
   {
    "duration": 963,
    "start_time": "2023-02-26T23:02:08.775Z"
   },
   {
    "duration": 4,
    "start_time": "2023-02-26T23:02:09.739Z"
   },
   {
    "duration": 57,
    "start_time": "2023-02-26T23:02:09.745Z"
   },
   {
    "duration": 531,
    "start_time": "2023-02-26T23:02:09.804Z"
   },
   {
    "duration": 622,
    "start_time": "2023-02-26T23:02:10.338Z"
   },
   {
    "duration": 336,
    "start_time": "2023-02-26T23:02:10.961Z"
   },
   {
    "duration": 73,
    "start_time": "2023-02-26T23:02:11.299Z"
   },
   {
    "duration": 42,
    "start_time": "2023-02-26T23:02:11.375Z"
   },
   {
    "duration": 47,
    "start_time": "2023-02-26T23:02:11.427Z"
   },
   {
    "duration": 68,
    "start_time": "2023-02-26T23:02:11.476Z"
   },
   {
    "duration": 49,
    "start_time": "2023-02-26T23:02:11.546Z"
   },
   {
    "duration": 189,
    "start_time": "2023-02-26T23:02:11.596Z"
   },
   {
    "duration": 220,
    "start_time": "2023-02-26T23:02:11.787Z"
   },
   {
    "duration": 1921,
    "start_time": "2023-02-26T23:02:12.008Z"
   },
   {
    "duration": 148,
    "start_time": "2023-02-26T23:02:13.931Z"
   },
   {
    "duration": 0,
    "start_time": "2023-02-26T23:02:14.081Z"
   },
   {
    "duration": 0,
    "start_time": "2023-02-26T23:02:14.083Z"
   },
   {
    "duration": 0,
    "start_time": "2023-02-26T23:02:14.084Z"
   },
   {
    "duration": 0,
    "start_time": "2023-02-26T23:02:14.085Z"
   },
   {
    "duration": 0,
    "start_time": "2023-02-26T23:02:14.086Z"
   },
   {
    "duration": 0,
    "start_time": "2023-02-26T23:02:14.087Z"
   },
   {
    "duration": 0,
    "start_time": "2023-02-26T23:02:14.088Z"
   },
   {
    "duration": 0,
    "start_time": "2023-02-26T23:02:14.089Z"
   },
   {
    "duration": 0,
    "start_time": "2023-02-26T23:02:14.090Z"
   },
   {
    "duration": 0,
    "start_time": "2023-02-26T23:02:14.091Z"
   },
   {
    "duration": 0,
    "start_time": "2023-02-26T23:02:14.092Z"
   },
   {
    "duration": 0,
    "start_time": "2023-02-26T23:02:14.094Z"
   },
   {
    "duration": 0,
    "start_time": "2023-02-26T23:02:14.094Z"
   },
   {
    "duration": 0,
    "start_time": "2023-02-26T23:02:14.095Z"
   },
   {
    "duration": 0,
    "start_time": "2023-02-26T23:02:14.096Z"
   },
   {
    "duration": 0,
    "start_time": "2023-02-26T23:02:14.127Z"
   },
   {
    "duration": 0,
    "start_time": "2023-02-26T23:02:14.128Z"
   },
   {
    "duration": 0,
    "start_time": "2023-02-26T23:02:14.130Z"
   },
   {
    "duration": 1,
    "start_time": "2023-02-26T23:02:14.130Z"
   },
   {
    "duration": 19,
    "start_time": "2023-02-26T23:03:45.914Z"
   },
   {
    "duration": 10,
    "start_time": "2023-02-26T23:03:51.208Z"
   },
   {
    "duration": 3,
    "start_time": "2023-02-26T23:03:53.486Z"
   },
   {
    "duration": 36,
    "start_time": "2023-02-26T23:03:54.902Z"
   },
   {
    "duration": 6,
    "start_time": "2023-02-26T23:03:57.353Z"
   },
   {
    "duration": 39913,
    "start_time": "2023-02-26T23:03:59.005Z"
   },
   {
    "duration": 4,
    "start_time": "2023-02-26T23:04:49.719Z"
   },
   {
    "duration": 16,
    "start_time": "2023-02-26T23:04:51.407Z"
   },
   {
    "duration": 16,
    "start_time": "2023-02-26T23:04:53.965Z"
   },
   {
    "duration": 40,
    "start_time": "2023-02-26T23:05:06.402Z"
   },
   {
    "duration": 9,
    "start_time": "2023-02-26T23:05:09.619Z"
   },
   {
    "duration": 27,
    "start_time": "2023-02-26T23:05:10.369Z"
   },
   {
    "duration": 15,
    "start_time": "2023-02-26T23:05:12.824Z"
   },
   {
    "duration": 32,
    "start_time": "2023-02-26T23:05:14.735Z"
   },
   {
    "duration": 1612,
    "start_time": "2023-02-26T23:05:20.575Z"
   },
   {
    "duration": 17,
    "start_time": "2023-02-26T23:05:27.966Z"
   },
   {
    "duration": 147,
    "start_time": "2023-02-26T23:05:30.259Z"
   },
   {
    "duration": 145,
    "start_time": "2023-02-26T23:05:31.936Z"
   },
   {
    "duration": 145,
    "start_time": "2023-02-26T23:05:33.305Z"
   },
   {
    "duration": 32,
    "start_time": "2023-02-26T23:05:35.371Z"
   },
   {
    "duration": 77,
    "start_time": "2023-02-26T23:05:36.964Z"
   },
   {
    "duration": 1001,
    "start_time": "2023-02-26T23:05:39.100Z"
   },
   {
    "duration": 246,
    "start_time": "2023-02-26T23:05:41.329Z"
   },
   {
    "duration": 452,
    "start_time": "2023-02-26T23:05:46.480Z"
   },
   {
    "duration": 25,
    "start_time": "2023-02-26T23:05:50.021Z"
   },
   {
    "duration": 14,
    "start_time": "2023-02-26T23:08:29.124Z"
   },
   {
    "duration": 14,
    "start_time": "2023-02-26T23:09:03.468Z"
   },
   {
    "duration": 13,
    "start_time": "2023-02-26T23:09:09.187Z"
   },
   {
    "duration": 10,
    "start_time": "2023-02-26T23:09:32.950Z"
   },
   {
    "duration": 11,
    "start_time": "2023-02-26T23:09:38.225Z"
   },
   {
    "duration": 6,
    "start_time": "2023-02-26T23:10:06.063Z"
   },
   {
    "duration": 15474,
    "start_time": "2023-02-26T23:11:11.932Z"
   },
   {
    "duration": 62122,
    "start_time": "2023-02-26T23:11:33.507Z"
   },
   {
    "duration": 4,
    "start_time": "2023-02-26T23:13:13.167Z"
   },
   {
    "duration": 4,
    "start_time": "2023-02-26T23:13:23.969Z"
   },
   {
    "duration": 61384,
    "start_time": "2023-02-26T23:13:51.566Z"
   },
   {
    "duration": 3,
    "start_time": "2023-02-26T23:15:09.916Z"
   },
   {
    "duration": 4,
    "start_time": "2023-02-26T23:15:14.732Z"
   },
   {
    "duration": 4,
    "start_time": "2023-02-26T23:15:53.148Z"
   },
   {
    "duration": 225212,
    "start_time": "2023-02-26T23:16:22.250Z"
   },
   {
    "duration": 0,
    "start_time": "2023-02-26T23:20:07.464Z"
   },
   {
    "duration": 5,
    "start_time": "2023-02-26T23:20:10.601Z"
   },
   {
    "duration": 5,
    "start_time": "2023-02-26T23:20:15.964Z"
   },
   {
    "duration": 48010,
    "start_time": "2023-02-26T23:20:18.686Z"
   },
   {
    "duration": 266760,
    "start_time": "2023-02-26T23:24:30.732Z"
   },
   {
    "duration": 28,
    "start_time": "2023-02-26T23:29:15.973Z"
   },
   {
    "duration": 1742809,
    "start_time": "2023-02-26T23:29:29.570Z"
   },
   {
    "duration": 92,
    "start_time": "2023-02-27T00:02:28.364Z"
   },
   {
    "duration": 4,
    "start_time": "2023-02-27T00:02:38.624Z"
   },
   {
    "duration": 218323,
    "start_time": "2023-02-27T00:02:41.506Z"
   },
   {
    "duration": 4,
    "start_time": "2023-02-27T00:07:49.759Z"
   },
   {
    "duration": 14,
    "start_time": "2023-02-27T00:07:55.008Z"
   },
   {
    "duration": 4,
    "start_time": "2023-02-27T00:08:08.370Z"
   },
   {
    "duration": 21941,
    "start_time": "2023-02-27T00:08:10.229Z"
   },
   {
    "duration": 663654,
    "start_time": "2023-02-27T00:08:45.524Z"
   },
   {
    "duration": 136304,
    "start_time": "2023-02-27T00:20:28.126Z"
   },
   {
    "duration": 12,
    "start_time": "2023-02-27T00:22:52.868Z"
   },
   {
    "duration": 4,
    "start_time": "2023-02-27T00:25:27.070Z"
   },
   {
    "duration": 5,
    "start_time": "2023-02-27T00:25:42.207Z"
   },
   {
    "duration": 4,
    "start_time": "2023-02-27T00:25:53.093Z"
   },
   {
    "duration": 4,
    "start_time": "2023-02-27T00:25:58.382Z"
   },
   {
    "duration": 5,
    "start_time": "2023-02-27T00:26:03.729Z"
   },
   {
    "duration": 4,
    "start_time": "2023-02-27T00:26:13.509Z"
   },
   {
    "duration": 110,
    "start_time": "2023-02-27T00:26:23.937Z"
   },
   {
    "duration": 5,
    "start_time": "2023-02-27T00:26:38.703Z"
   },
   {
    "duration": 4,
    "start_time": "2023-02-27T00:27:08.809Z"
   },
   {
    "duration": 4,
    "start_time": "2023-02-27T00:27:54.720Z"
   },
   {
    "duration": 58119,
    "start_time": "2023-02-27T00:27:59.218Z"
   },
   {
    "duration": 5,
    "start_time": "2023-02-27T00:29:21.166Z"
   },
   {
    "duration": 4,
    "start_time": "2023-02-27T00:29:27.737Z"
   },
   {
    "duration": 4,
    "start_time": "2023-02-27T00:29:38.491Z"
   },
   {
    "duration": 5,
    "start_time": "2023-02-27T00:29:47.230Z"
   },
   {
    "duration": 4,
    "start_time": "2023-02-27T00:29:56.085Z"
   },
   {
    "duration": 4,
    "start_time": "2023-02-27T00:30:02.379Z"
   },
   {
    "duration": 4,
    "start_time": "2023-02-27T00:30:08.569Z"
   },
   {
    "duration": 4,
    "start_time": "2023-02-27T00:30:17.075Z"
   },
   {
    "duration": 4,
    "start_time": "2023-02-27T00:30:20.668Z"
   },
   {
    "duration": 133066,
    "start_time": "2023-02-27T00:30:42.173Z"
   },
   {
    "duration": 5,
    "start_time": "2023-02-27T00:34:03.163Z"
   },
   {
    "duration": 42838,
    "start_time": "2023-02-27T00:34:06.246Z"
   },
   {
    "duration": 1217426,
    "start_time": "2023-02-27T00:34:56.421Z"
   },
   {
    "duration": 99,
    "start_time": "2023-02-27T00:55:51.220Z"
   },
   {
    "duration": 58475,
    "start_time": "2023-02-27T00:56:01.032Z"
   },
   {
    "duration": 7632,
    "start_time": "2023-02-27T00:57:31.922Z"
   },
   {
    "duration": 236555,
    "start_time": "2023-02-27T00:57:43.573Z"
   },
   {
    "duration": 12,
    "start_time": "2023-02-27T01:02:01.643Z"
   },
   {
    "duration": 64379,
    "start_time": "2023-02-27T01:02:45.461Z"
   },
   {
    "duration": 3,
    "start_time": "2023-02-27T01:04:08.060Z"
   },
   {
    "duration": 12539,
    "start_time": "2023-02-27T01:04:11.097Z"
   },
   {
    "duration": 6,
    "start_time": "2023-02-27T01:04:25.811Z"
   },
   {
    "duration": 7,
    "start_time": "2023-02-27T01:04:35.371Z"
   },
   {
    "duration": 5,
    "start_time": "2023-02-27T01:04:38.879Z"
   },
   {
    "duration": 5,
    "start_time": "2023-02-27T01:05:32.605Z"
   },
   {
    "duration": 802,
    "start_time": "2023-02-27T01:05:37.314Z"
   },
   {
    "duration": 4,
    "start_time": "2023-02-27T01:05:44.138Z"
   },
   {
    "duration": 387,
    "start_time": "2023-02-27T01:05:59.594Z"
   },
   {
    "duration": 428,
    "start_time": "2023-02-27T01:06:01.329Z"
   },
   {
    "duration": 1126,
    "start_time": "2023-02-27T01:06:04.822Z"
   },
   {
    "duration": 1389,
    "start_time": "2023-02-27T01:06:25.265Z"
   },
   {
    "duration": 966,
    "start_time": "2023-02-27T01:06:26.657Z"
   },
   {
    "duration": 5,
    "start_time": "2023-02-27T01:06:27.624Z"
   },
   {
    "duration": 66,
    "start_time": "2023-02-27T01:06:27.631Z"
   },
   {
    "duration": 521,
    "start_time": "2023-02-27T01:06:27.698Z"
   },
   {
    "duration": 614,
    "start_time": "2023-02-27T01:06:28.220Z"
   },
   {
    "duration": 338,
    "start_time": "2023-02-27T01:06:28.836Z"
   },
   {
    "duration": 79,
    "start_time": "2023-02-27T01:06:29.175Z"
   },
   {
    "duration": 32,
    "start_time": "2023-02-27T01:06:29.255Z"
   },
   {
    "duration": 65,
    "start_time": "2023-02-27T01:06:29.289Z"
   },
   {
    "duration": 45,
    "start_time": "2023-02-27T01:06:29.356Z"
   },
   {
    "duration": 61,
    "start_time": "2023-02-27T01:06:29.403Z"
   },
   {
    "duration": 181,
    "start_time": "2023-02-27T01:06:29.466Z"
   },
   {
    "duration": 213,
    "start_time": "2023-02-27T01:06:29.649Z"
   },
   {
    "duration": 2034,
    "start_time": "2023-02-27T01:06:29.864Z"
   },
   {
    "duration": 27,
    "start_time": "2023-02-27T01:06:31.900Z"
   },
   {
    "duration": 10,
    "start_time": "2023-02-27T01:06:31.929Z"
   },
   {
    "duration": 6,
    "start_time": "2023-02-27T01:06:31.941Z"
   },
   {
    "duration": 46,
    "start_time": "2023-02-27T01:06:31.948Z"
   },
   {
    "duration": 6,
    "start_time": "2023-02-27T01:06:31.996Z"
   },
   {
    "duration": 6430,
    "start_time": "2023-02-27T01:06:32.003Z"
   },
   {
    "duration": 0,
    "start_time": "2023-02-27T01:06:38.435Z"
   },
   {
    "duration": 0,
    "start_time": "2023-02-27T01:06:38.436Z"
   },
   {
    "duration": 0,
    "start_time": "2023-02-27T01:06:38.437Z"
   },
   {
    "duration": 198,
    "start_time": "2023-02-27T01:06:50.793Z"
   },
   {
    "duration": 30710,
    "start_time": "2023-02-27T01:07:01.057Z"
   },
   {
    "duration": 4,
    "start_time": "2023-02-27T01:07:35.113Z"
   },
   {
    "duration": 16,
    "start_time": "2023-02-27T01:07:35.791Z"
   },
   {
    "duration": 15,
    "start_time": "2023-02-27T01:07:39.156Z"
   },
   {
    "duration": 37,
    "start_time": "2023-02-27T01:07:44.251Z"
   },
   {
    "duration": 11,
    "start_time": "2023-02-27T01:07:50.809Z"
   },
   {
    "duration": 23,
    "start_time": "2023-02-27T01:07:52.283Z"
   },
   {
    "duration": 16,
    "start_time": "2023-02-27T01:07:54.459Z"
   },
   {
    "duration": 47,
    "start_time": "2023-02-27T01:08:07.027Z"
   },
   {
    "duration": 1623,
    "start_time": "2023-02-27T01:08:10.843Z"
   },
   {
    "duration": 19,
    "start_time": "2023-02-27T01:08:33.760Z"
   },
   {
    "duration": 141,
    "start_time": "2023-02-27T01:08:35.466Z"
   },
   {
    "duration": 134,
    "start_time": "2023-02-27T01:08:38.300Z"
   },
   {
    "duration": 170,
    "start_time": "2023-02-27T01:08:39.859Z"
   },
   {
    "duration": 23,
    "start_time": "2023-02-27T01:08:51.831Z"
   },
   {
    "duration": 106,
    "start_time": "2023-02-27T01:08:56.830Z"
   },
   {
    "duration": 1807,
    "start_time": "2023-02-27T01:08:59.838Z"
   },
   {
    "duration": 367,
    "start_time": "2023-02-27T01:09:04.317Z"
   },
   {
    "duration": 854,
    "start_time": "2023-02-27T01:09:23.173Z"
   },
   {
    "duration": 37,
    "start_time": "2023-02-27T01:09:56.492Z"
   },
   {
    "duration": 4,
    "start_time": "2023-02-27T01:13:50.160Z"
   },
   {
    "duration": 10,
    "start_time": "2023-02-27T01:13:55.588Z"
   },
   {
    "duration": 72109,
    "start_time": "2023-02-27T01:14:04.140Z"
   },
   {
    "duration": 5,
    "start_time": "2023-02-27T01:15:42.160Z"
   },
   {
    "duration": 67063,
    "start_time": "2023-02-27T01:15:43.959Z"
   },
   {
    "duration": 5,
    "start_time": "2023-02-27T01:17:10.783Z"
   },
   {
    "duration": 5,
    "start_time": "2023-02-27T01:19:53.392Z"
   },
   {
    "duration": 59275,
    "start_time": "2023-02-27T01:19:56.790Z"
   },
   {
    "duration": 12,
    "start_time": "2023-02-27T01:21:21.760Z"
   },
   {
    "duration": 4,
    "start_time": "2023-02-27T01:21:50.574Z"
   },
   {
    "duration": 4,
    "start_time": "2023-02-27T01:22:09.565Z"
   },
   {
    "duration": 6,
    "start_time": "2023-02-27T01:32:58.554Z"
   },
   {
    "duration": 5,
    "start_time": "2023-02-27T01:33:53.347Z"
   },
   {
    "duration": 15,
    "start_time": "2023-02-27T01:33:58.148Z"
   },
   {
    "duration": 5,
    "start_time": "2023-02-27T01:34:09.013Z"
   },
   {
    "duration": 92638,
    "start_time": "2023-02-27T01:34:12.350Z"
   },
   {
    "duration": 183340,
    "start_time": "2023-02-27T01:37:21.149Z"
   },
   {
    "duration": 5,
    "start_time": "2023-02-27T01:40:38.436Z"
   },
   {
    "duration": 4926,
    "start_time": "2023-02-27T01:40:40.724Z"
   },
   {
    "duration": 6,
    "start_time": "2023-02-27T01:42:18.709Z"
   },
   {
    "duration": 4,
    "start_time": "2023-02-27T01:42:26.603Z"
   },
   {
    "duration": 58697,
    "start_time": "2023-02-27T01:42:29.130Z"
   },
   {
    "duration": 2443821,
    "start_time": "2023-02-27T01:43:39.909Z"
   },
   {
    "duration": 10,
    "start_time": "2023-02-27T02:29:42.906Z"
   },
   {
    "duration": 1271,
    "start_time": "2023-02-27T10:03:51.346Z"
   },
   {
    "duration": 3314,
    "start_time": "2023-02-27T10:04:39.314Z"
   },
   {
    "duration": 5360,
    "start_time": "2023-02-27T10:05:07.369Z"
   },
   {
    "duration": 4,
    "start_time": "2023-02-27T10:05:26.569Z"
   },
   {
    "duration": 1387,
    "start_time": "2023-02-27T10:05:40.599Z"
   },
   {
    "duration": 1263,
    "start_time": "2023-02-27T10:06:16.879Z"
   },
   {
    "duration": 4,
    "start_time": "2023-02-27T10:06:24.253Z"
   },
   {
    "duration": 56,
    "start_time": "2023-02-27T10:06:26.602Z"
   },
   {
    "duration": 471,
    "start_time": "2023-02-27T10:06:29.113Z"
   },
   {
    "duration": 584,
    "start_time": "2023-02-27T10:06:31.467Z"
   },
   {
    "duration": 362,
    "start_time": "2023-02-27T10:06:35.460Z"
   },
   {
    "duration": 91,
    "start_time": "2023-02-27T10:06:39.116Z"
   },
   {
    "duration": 36,
    "start_time": "2023-02-27T10:06:41.652Z"
   },
   {
    "duration": 60,
    "start_time": "2023-02-27T10:06:43.857Z"
   },
   {
    "duration": 51,
    "start_time": "2023-02-27T10:06:46.507Z"
   },
   {
    "duration": 55,
    "start_time": "2023-02-27T10:06:50.551Z"
   },
   {
    "duration": 209,
    "start_time": "2023-02-27T10:06:53.348Z"
   },
   {
    "duration": 233,
    "start_time": "2023-02-27T10:06:57.251Z"
   },
   {
    "duration": 2254,
    "start_time": "2023-02-27T10:07:01.105Z"
   },
   {
    "duration": 27,
    "start_time": "2023-02-27T10:07:08.194Z"
   },
   {
    "duration": 12,
    "start_time": "2023-02-27T10:07:11.504Z"
   },
   {
    "duration": 3,
    "start_time": "2023-02-27T10:07:13.556Z"
   },
   {
    "duration": 38,
    "start_time": "2023-02-27T10:07:17.276Z"
   },
   {
    "duration": 6,
    "start_time": "2023-02-27T10:07:20.858Z"
   },
   {
    "duration": 37515,
    "start_time": "2023-02-27T10:07:22.314Z"
   },
   {
    "duration": 4,
    "start_time": "2023-02-27T10:08:05.531Z"
   },
   {
    "duration": 18,
    "start_time": "2023-02-27T10:08:08.651Z"
   },
   {
    "duration": 17,
    "start_time": "2023-02-27T10:08:10.912Z"
   },
   {
    "duration": 36,
    "start_time": "2023-02-27T10:08:15.486Z"
   },
   {
    "duration": 7,
    "start_time": "2023-02-27T10:08:19.556Z"
   },
   {
    "duration": 23,
    "start_time": "2023-02-27T10:08:21.154Z"
   },
   {
    "duration": 15,
    "start_time": "2023-02-27T10:08:23.557Z"
   },
   {
    "duration": 31,
    "start_time": "2023-02-27T10:08:49.968Z"
   },
   {
    "duration": 1727,
    "start_time": "2023-02-27T10:08:51.770Z"
   },
   {
    "duration": 19,
    "start_time": "2023-02-27T10:09:08.027Z"
   },
   {
    "duration": 136,
    "start_time": "2023-02-27T10:09:09.567Z"
   },
   {
    "duration": 467,
    "start_time": "2023-02-27T10:09:11.182Z"
   },
   {
    "duration": 285,
    "start_time": "2023-02-27T10:09:32.725Z"
   },
   {
    "duration": 194,
    "start_time": "2023-02-27T10:09:44.117Z"
   },
   {
    "duration": 13,
    "start_time": "2023-02-27T10:09:46.523Z"
   },
   {
    "duration": 4,
    "start_time": "2023-02-27T10:10:06.732Z"
   },
   {
    "duration": 4,
    "start_time": "2023-02-27T10:10:12.252Z"
   },
   {
    "duration": 26,
    "start_time": "2023-02-27T10:10:47.651Z"
   },
   {
    "duration": 133,
    "start_time": "2023-02-27T10:10:48.817Z"
   },
   {
    "duration": 321,
    "start_time": "2023-02-27T10:10:50.099Z"
   },
   {
    "duration": 107,
    "start_time": "2023-02-27T10:10:52.065Z"
   },
   {
    "duration": 4,
    "start_time": "2023-02-27T10:10:53.967Z"
   },
   {
    "duration": 4,
    "start_time": "2023-02-27T10:10:55.505Z"
   },
   {
    "duration": 1906,
    "start_time": "2023-02-27T10:10:57.113Z"
   },
   {
    "duration": 429,
    "start_time": "2023-02-27T10:11:01.050Z"
   },
   {
    "duration": 982,
    "start_time": "2023-02-27T10:11:11.459Z"
   },
   {
    "duration": 39,
    "start_time": "2023-02-27T10:11:15.685Z"
   },
   {
    "duration": 5,
    "start_time": "2023-02-27T10:11:22.925Z"
   },
   {
    "duration": 65429,
    "start_time": "2023-02-27T10:11:27.298Z"
   },
   {
    "duration": 2670551,
    "start_time": "2023-02-27T10:13:05.869Z"
   },
   {
    "duration": 10,
    "start_time": "2023-02-27T10:57:52.661Z"
   },
   {
    "duration": 362349,
    "start_time": "2023-02-27T10:58:01.194Z"
   },
   {
    "duration": 12,
    "start_time": "2023-02-27T11:08:29.811Z"
   },
   {
    "duration": 1352,
    "start_time": "2023-02-27T11:09:49.192Z"
   },
   {
    "duration": 11,
    "start_time": "2023-02-27T11:09:56.847Z"
   },
   {
    "duration": 5,
    "start_time": "2023-02-27T11:13:15.897Z"
   },
   {
    "duration": 131243,
    "start_time": "2023-02-27T11:13:41.299Z"
   },
   {
    "duration": 3,
    "start_time": "2023-02-27T11:23:09.522Z"
   },
   {
    "duration": 435,
    "start_time": "2023-02-27T11:23:28.729Z"
   },
   {
    "duration": 6,
    "start_time": "2023-02-27T11:23:39.696Z"
   },
   {
    "duration": 3,
    "start_time": "2023-02-27T19:50:25.377Z"
   },
   {
    "duration": 7,
    "start_time": "2023-02-27T19:51:15.883Z"
   },
   {
    "duration": 3,
    "start_time": "2023-02-27T19:51:27.801Z"
   },
   {
    "duration": 2120,
    "start_time": "2023-02-27T19:51:27.806Z"
   },
   {
    "duration": 0,
    "start_time": "2023-02-27T19:51:29.929Z"
   },
   {
    "duration": 0,
    "start_time": "2023-02-27T19:51:29.930Z"
   },
   {
    "duration": 0,
    "start_time": "2023-02-27T19:51:29.931Z"
   },
   {
    "duration": 0,
    "start_time": "2023-02-27T19:51:29.932Z"
   },
   {
    "duration": 0,
    "start_time": "2023-02-27T19:51:29.933Z"
   },
   {
    "duration": 0,
    "start_time": "2023-02-27T19:51:29.934Z"
   },
   {
    "duration": 0,
    "start_time": "2023-02-27T19:51:29.935Z"
   },
   {
    "duration": 0,
    "start_time": "2023-02-27T19:51:29.936Z"
   },
   {
    "duration": 0,
    "start_time": "2023-02-27T19:51:29.937Z"
   },
   {
    "duration": 0,
    "start_time": "2023-02-27T19:51:29.938Z"
   },
   {
    "duration": 0,
    "start_time": "2023-02-27T19:51:29.938Z"
   },
   {
    "duration": 0,
    "start_time": "2023-02-27T19:51:29.940Z"
   },
   {
    "duration": 0,
    "start_time": "2023-02-27T19:51:29.941Z"
   },
   {
    "duration": 0,
    "start_time": "2023-02-27T19:51:29.942Z"
   },
   {
    "duration": 0,
    "start_time": "2023-02-27T19:51:29.943Z"
   },
   {
    "duration": 0,
    "start_time": "2023-02-27T19:51:29.944Z"
   },
   {
    "duration": 0,
    "start_time": "2023-02-27T19:51:29.945Z"
   },
   {
    "duration": 0,
    "start_time": "2023-02-27T19:51:29.945Z"
   },
   {
    "duration": 0,
    "start_time": "2023-02-27T19:51:29.946Z"
   },
   {
    "duration": 0,
    "start_time": "2023-02-27T19:51:29.947Z"
   },
   {
    "duration": 0,
    "start_time": "2023-02-27T19:51:29.948Z"
   },
   {
    "duration": 0,
    "start_time": "2023-02-27T19:51:29.949Z"
   },
   {
    "duration": 0,
    "start_time": "2023-02-27T19:51:29.950Z"
   },
   {
    "duration": 0,
    "start_time": "2023-02-27T19:51:29.950Z"
   },
   {
    "duration": 0,
    "start_time": "2023-02-27T19:51:29.951Z"
   },
   {
    "duration": 0,
    "start_time": "2023-02-27T19:51:29.952Z"
   },
   {
    "duration": 0,
    "start_time": "2023-02-27T19:51:29.953Z"
   },
   {
    "duration": 0,
    "start_time": "2023-02-27T19:51:29.953Z"
   },
   {
    "duration": 0,
    "start_time": "2023-02-27T19:51:29.954Z"
   },
   {
    "duration": 0,
    "start_time": "2023-02-27T19:51:29.956Z"
   },
   {
    "duration": 0,
    "start_time": "2023-02-27T19:51:29.956Z"
   },
   {
    "duration": 0,
    "start_time": "2023-02-27T19:51:29.958Z"
   },
   {
    "duration": 0,
    "start_time": "2023-02-27T19:51:29.958Z"
   },
   {
    "duration": 0,
    "start_time": "2023-02-27T19:51:29.959Z"
   },
   {
    "duration": 0,
    "start_time": "2023-02-27T19:51:29.960Z"
   },
   {
    "duration": 0,
    "start_time": "2023-02-27T19:51:29.961Z"
   },
   {
    "duration": 0,
    "start_time": "2023-02-27T19:51:29.961Z"
   },
   {
    "duration": 0,
    "start_time": "2023-02-27T19:51:30.011Z"
   },
   {
    "duration": 4,
    "start_time": "2023-02-27T19:53:11.787Z"
   },
   {
    "duration": 1571,
    "start_time": "2023-02-27T19:53:11.793Z"
   },
   {
    "duration": 1991,
    "start_time": "2023-02-27T19:53:13.365Z"
   },
   {
    "duration": 0,
    "start_time": "2023-02-27T19:53:15.358Z"
   },
   {
    "duration": 0,
    "start_time": "2023-02-27T19:53:15.359Z"
   },
   {
    "duration": 0,
    "start_time": "2023-02-27T19:53:15.360Z"
   },
   {
    "duration": 0,
    "start_time": "2023-02-27T19:53:15.361Z"
   },
   {
    "duration": 0,
    "start_time": "2023-02-27T19:53:15.361Z"
   },
   {
    "duration": 0,
    "start_time": "2023-02-27T19:53:15.362Z"
   },
   {
    "duration": 0,
    "start_time": "2023-02-27T19:53:15.363Z"
   },
   {
    "duration": 0,
    "start_time": "2023-02-27T19:53:15.364Z"
   },
   {
    "duration": 0,
    "start_time": "2023-02-27T19:53:15.364Z"
   },
   {
    "duration": 0,
    "start_time": "2023-02-27T19:53:15.365Z"
   },
   {
    "duration": 0,
    "start_time": "2023-02-27T19:53:15.366Z"
   },
   {
    "duration": 0,
    "start_time": "2023-02-27T19:53:15.366Z"
   },
   {
    "duration": 0,
    "start_time": "2023-02-27T19:53:15.367Z"
   },
   {
    "duration": 0,
    "start_time": "2023-02-27T19:53:15.368Z"
   },
   {
    "duration": 0,
    "start_time": "2023-02-27T19:53:15.369Z"
   },
   {
    "duration": 0,
    "start_time": "2023-02-27T19:53:15.369Z"
   },
   {
    "duration": 0,
    "start_time": "2023-02-27T19:53:15.370Z"
   },
   {
    "duration": 0,
    "start_time": "2023-02-27T19:53:15.371Z"
   },
   {
    "duration": 0,
    "start_time": "2023-02-27T19:53:15.372Z"
   },
   {
    "duration": 0,
    "start_time": "2023-02-27T19:53:15.373Z"
   },
   {
    "duration": 0,
    "start_time": "2023-02-27T19:53:15.374Z"
   },
   {
    "duration": 0,
    "start_time": "2023-02-27T19:53:15.375Z"
   },
   {
    "duration": 0,
    "start_time": "2023-02-27T19:53:15.376Z"
   },
   {
    "duration": 0,
    "start_time": "2023-02-27T19:53:15.376Z"
   },
   {
    "duration": 0,
    "start_time": "2023-02-27T19:53:15.377Z"
   },
   {
    "duration": 0,
    "start_time": "2023-02-27T19:53:15.378Z"
   },
   {
    "duration": 0,
    "start_time": "2023-02-27T19:53:15.410Z"
   },
   {
    "duration": 0,
    "start_time": "2023-02-27T19:53:15.411Z"
   },
   {
    "duration": 0,
    "start_time": "2023-02-27T19:53:15.412Z"
   },
   {
    "duration": 0,
    "start_time": "2023-02-27T19:53:15.412Z"
   },
   {
    "duration": 0,
    "start_time": "2023-02-27T19:53:15.413Z"
   },
   {
    "duration": 0,
    "start_time": "2023-02-27T19:53:15.414Z"
   },
   {
    "duration": 0,
    "start_time": "2023-02-27T19:53:15.415Z"
   },
   {
    "duration": 0,
    "start_time": "2023-02-27T19:53:15.416Z"
   },
   {
    "duration": 0,
    "start_time": "2023-02-27T19:53:15.417Z"
   },
   {
    "duration": 0,
    "start_time": "2023-02-27T19:53:15.418Z"
   },
   {
    "duration": 0,
    "start_time": "2023-02-27T19:53:15.419Z"
   },
   {
    "duration": 0,
    "start_time": "2023-02-27T19:53:15.420Z"
   },
   {
    "duration": 5827,
    "start_time": "2023-02-27T19:56:06.331Z"
   },
   {
    "duration": 4,
    "start_time": "2023-02-27T19:56:12.160Z"
   },
   {
    "duration": 2217,
    "start_time": "2023-02-27T19:56:12.166Z"
   },
   {
    "duration": 1144,
    "start_time": "2023-02-27T19:56:14.384Z"
   },
   {
    "duration": 4,
    "start_time": "2023-02-27T19:56:15.530Z"
   },
   {
    "duration": 56,
    "start_time": "2023-02-27T19:56:15.536Z"
   },
   {
    "duration": 407,
    "start_time": "2023-02-27T19:56:15.593Z"
   },
   {
    "duration": 503,
    "start_time": "2023-02-27T19:56:16.001Z"
   },
   {
    "duration": 385,
    "start_time": "2023-02-27T19:56:16.506Z"
   },
   {
    "duration": 73,
    "start_time": "2023-02-27T19:56:16.893Z"
   },
   {
    "duration": 42,
    "start_time": "2023-02-27T19:56:16.968Z"
   },
   {
    "duration": 55,
    "start_time": "2023-02-27T19:56:17.012Z"
   },
   {
    "duration": 52,
    "start_time": "2023-02-27T19:56:17.069Z"
   },
   {
    "duration": 49,
    "start_time": "2023-02-27T19:56:17.124Z"
   },
   {
    "duration": 200,
    "start_time": "2023-02-27T19:56:17.174Z"
   },
   {
    "duration": 241,
    "start_time": "2023-02-27T19:56:17.375Z"
   },
   {
    "duration": 1950,
    "start_time": "2023-02-27T19:56:17.618Z"
   },
   {
    "duration": 22,
    "start_time": "2023-02-27T19:56:19.569Z"
   },
   {
    "duration": 22,
    "start_time": "2023-02-27T19:56:19.593Z"
   },
   {
    "duration": 3,
    "start_time": "2023-02-27T19:56:19.616Z"
   },
   {
    "duration": 42,
    "start_time": "2023-02-27T19:56:19.620Z"
   },
   {
    "duration": 5,
    "start_time": "2023-02-27T19:56:19.664Z"
   },
   {
    "duration": 33831,
    "start_time": "2023-02-27T19:56:19.671Z"
   },
   {
    "duration": 4,
    "start_time": "2023-02-27T19:56:53.510Z"
   },
   {
    "duration": 19,
    "start_time": "2023-02-27T19:56:53.515Z"
   },
   {
    "duration": 14,
    "start_time": "2023-02-27T19:56:53.535Z"
   },
   {
    "duration": 62,
    "start_time": "2023-02-27T19:56:53.550Z"
   },
   {
    "duration": 8,
    "start_time": "2023-02-27T19:56:53.614Z"
   },
   {
    "duration": 22,
    "start_time": "2023-02-27T19:56:53.623Z"
   },
   {
    "duration": 13,
    "start_time": "2023-02-27T19:56:53.646Z"
   },
   {
    "duration": 58,
    "start_time": "2023-02-27T19:56:53.661Z"
   },
   {
    "duration": 1419,
    "start_time": "2023-02-27T19:56:53.721Z"
   },
   {
    "duration": 19,
    "start_time": "2023-02-27T19:56:55.142Z"
   },
   {
    "duration": 138,
    "start_time": "2023-02-27T19:56:55.162Z"
   },
   {
    "duration": 361,
    "start_time": "2023-02-27T19:56:55.302Z"
   },
   {
    "duration": 169,
    "start_time": "2023-02-27T19:56:55.664Z"
   },
   {
    "duration": 4,
    "start_time": "2023-02-27T19:56:55.835Z"
   },
   {
    "duration": 5,
    "start_time": "2023-02-27T19:56:55.840Z"
   },
   {
    "duration": 1529,
    "start_time": "2023-02-27T19:56:55.847Z"
   },
   {
    "duration": 333,
    "start_time": "2023-02-27T19:56:57.378Z"
   },
   {
    "duration": 12,
    "start_time": "2023-02-27T19:56:57.715Z"
   },
   {
    "duration": 6299,
    "start_time": "2023-03-27T23:54:41.960Z"
   },
   {
    "duration": 1182,
    "start_time": "2023-03-27T23:54:48.261Z"
   },
   {
    "duration": 3080,
    "start_time": "2023-03-27T23:54:49.444Z"
   },
   {
    "duration": 5,
    "start_time": "2023-03-27T23:54:52.526Z"
   },
   {
    "duration": 73,
    "start_time": "2023-03-27T23:54:52.533Z"
   },
   {
    "duration": 474,
    "start_time": "2023-03-27T23:54:52.608Z"
   },
   {
    "duration": 565,
    "start_time": "2023-03-27T23:54:53.084Z"
   },
   {
    "duration": 347,
    "start_time": "2023-03-27T23:54:53.651Z"
   },
   {
    "duration": 89,
    "start_time": "2023-03-27T23:54:54.000Z"
   },
   {
    "duration": 33,
    "start_time": "2023-03-27T23:54:54.091Z"
   },
   {
    "duration": 63,
    "start_time": "2023-03-27T23:54:54.126Z"
   },
   {
    "duration": 44,
    "start_time": "2023-03-27T23:54:54.191Z"
   },
   {
    "duration": 67,
    "start_time": "2023-03-27T23:54:54.237Z"
   },
   {
    "duration": 203,
    "start_time": "2023-03-27T23:54:54.307Z"
   },
   {
    "duration": 211,
    "start_time": "2023-03-27T23:54:54.512Z"
   },
   {
    "duration": 1733,
    "start_time": "2023-03-27T23:54:54.725Z"
   },
   {
    "duration": 33,
    "start_time": "2023-03-27T23:54:56.460Z"
   },
   {
    "duration": 10,
    "start_time": "2023-03-27T23:54:56.495Z"
   },
   {
    "duration": 8,
    "start_time": "2023-03-27T23:54:56.506Z"
   },
   {
    "duration": 40,
    "start_time": "2023-03-27T23:54:56.515Z"
   },
   {
    "duration": 6,
    "start_time": "2023-03-27T23:54:56.556Z"
   },
   {
    "duration": 35060,
    "start_time": "2023-03-27T23:54:56.563Z"
   },
   {
    "duration": 4,
    "start_time": "2023-03-27T23:55:31.624Z"
   },
   {
    "duration": 42,
    "start_time": "2023-03-27T23:55:31.630Z"
   },
   {
    "duration": 16,
    "start_time": "2023-03-27T23:55:31.673Z"
   },
   {
    "duration": 37,
    "start_time": "2023-03-27T23:55:31.690Z"
   },
   {
    "duration": 12,
    "start_time": "2023-03-27T23:55:31.729Z"
   },
   {
    "duration": 39,
    "start_time": "2023-03-27T23:55:31.743Z"
   },
   {
    "duration": 12,
    "start_time": "2023-03-27T23:55:31.783Z"
   },
   {
    "duration": 27,
    "start_time": "2023-03-27T23:55:31.796Z"
   },
   {
    "duration": 1416,
    "start_time": "2023-03-27T23:55:31.824Z"
   },
   {
    "duration": 16,
    "start_time": "2023-03-27T23:55:33.241Z"
   },
   {
    "duration": 127,
    "start_time": "2023-03-27T23:55:33.258Z"
   },
   {
    "duration": 291,
    "start_time": "2023-03-27T23:55:33.387Z"
   },
   {
    "duration": 71,
    "start_time": "2023-03-27T23:55:33.683Z"
   },
   {
    "duration": 140,
    "start_time": "2023-03-27T23:55:33.755Z"
   },
   {
    "duration": 0,
    "start_time": "2023-03-27T23:55:33.897Z"
   },
   {
    "duration": 0,
    "start_time": "2023-03-27T23:55:33.898Z"
   },
   {
    "duration": 0,
    "start_time": "2023-03-27T23:55:33.899Z"
   },
   {
    "duration": 0,
    "start_time": "2023-03-27T23:55:33.900Z"
   },
   {
    "duration": 0,
    "start_time": "2023-03-27T23:55:33.901Z"
   },
   {
    "duration": 0,
    "start_time": "2023-03-27T23:55:33.902Z"
   },
   {
    "duration": 0,
    "start_time": "2023-03-27T23:55:33.903Z"
   },
   {
    "duration": 0,
    "start_time": "2023-03-27T23:55:33.904Z"
   },
   {
    "duration": 0,
    "start_time": "2023-03-27T23:55:33.905Z"
   },
   {
    "duration": 0,
    "start_time": "2023-03-27T23:55:33.906Z"
   },
   {
    "duration": 0,
    "start_time": "2023-03-27T23:55:33.907Z"
   },
   {
    "duration": 0,
    "start_time": "2023-03-27T23:55:33.908Z"
   },
   {
    "duration": 4042,
    "start_time": "2023-03-27T23:56:20.108Z"
   },
   {
    "duration": 1632,
    "start_time": "2023-03-27T23:56:24.152Z"
   },
   {
    "duration": 1320,
    "start_time": "2023-03-27T23:56:25.786Z"
   },
   {
    "duration": 4,
    "start_time": "2023-03-27T23:56:27.107Z"
   },
   {
    "duration": 117,
    "start_time": "2023-03-27T23:56:27.113Z"
   },
   {
    "duration": 967,
    "start_time": "2023-03-27T23:56:27.231Z"
   },
   {
    "duration": 689,
    "start_time": "2023-03-27T23:56:28.199Z"
   },
   {
    "duration": 331,
    "start_time": "2023-03-27T23:56:28.890Z"
   },
   {
    "duration": 93,
    "start_time": "2023-03-27T23:56:29.223Z"
   },
   {
    "duration": 36,
    "start_time": "2023-03-27T23:56:29.318Z"
   },
   {
    "duration": 69,
    "start_time": "2023-03-27T23:56:29.356Z"
   },
   {
    "duration": 62,
    "start_time": "2023-03-27T23:56:29.427Z"
   },
   {
    "duration": 58,
    "start_time": "2023-03-27T23:56:29.491Z"
   },
   {
    "duration": 228,
    "start_time": "2023-03-27T23:56:29.552Z"
   },
   {
    "duration": 230,
    "start_time": "2023-03-27T23:56:29.782Z"
   },
   {
    "duration": 1787,
    "start_time": "2023-03-27T23:56:30.014Z"
   },
   {
    "duration": 22,
    "start_time": "2023-03-27T23:56:31.803Z"
   },
   {
    "duration": 25,
    "start_time": "2023-03-27T23:56:31.826Z"
   },
   {
    "duration": 11,
    "start_time": "2023-03-27T23:56:31.852Z"
   },
   {
    "duration": 40,
    "start_time": "2023-03-27T23:56:31.865Z"
   },
   {
    "duration": 6,
    "start_time": "2023-03-27T23:56:31.906Z"
   },
   {
    "duration": 35475,
    "start_time": "2023-03-27T23:56:31.913Z"
   },
   {
    "duration": 5,
    "start_time": "2023-03-27T23:57:07.390Z"
   },
   {
    "duration": 43,
    "start_time": "2023-03-27T23:57:07.396Z"
   },
   {
    "duration": 17,
    "start_time": "2023-03-27T23:57:07.440Z"
   },
   {
    "duration": 57,
    "start_time": "2023-03-27T23:57:07.459Z"
   },
   {
    "duration": 9,
    "start_time": "2023-03-27T23:57:07.517Z"
   },
   {
    "duration": 38,
    "start_time": "2023-03-27T23:57:07.527Z"
   },
   {
    "duration": 22,
    "start_time": "2023-03-27T23:57:07.566Z"
   },
   {
    "duration": 33,
    "start_time": "2023-03-27T23:57:07.590Z"
   },
   {
    "duration": 1572,
    "start_time": "2023-03-27T23:57:07.625Z"
   },
   {
    "duration": 18,
    "start_time": "2023-03-27T23:57:09.199Z"
   },
   {
    "duration": 150,
    "start_time": "2023-03-27T23:57:09.218Z"
   },
   {
    "duration": 317,
    "start_time": "2023-03-27T23:57:09.370Z"
   },
   {
    "duration": 119,
    "start_time": "2023-03-27T23:57:09.689Z"
   },
   {
    "duration": 2784,
    "start_time": "2023-03-27T23:57:09.810Z"
   },
   {
    "duration": 416,
    "start_time": "2023-03-27T23:57:12.596Z"
   },
   {
    "duration": 1083,
    "start_time": "2023-03-27T23:57:13.014Z"
   },
   {
    "duration": 207,
    "start_time": "2023-03-27T23:57:14.099Z"
   },
   {
    "duration": 5,
    "start_time": "2023-03-27T23:57:14.308Z"
   },
   {
    "duration": 66609,
    "start_time": "2023-03-27T23:57:14.316Z"
   },
   {
    "duration": 384135,
    "start_time": "2023-03-27T23:58:20.928Z"
   },
   {
    "duration": 0,
    "start_time": "2023-03-28T00:04:45.065Z"
   },
   {
    "duration": 0,
    "start_time": "2023-03-28T00:04:45.066Z"
   },
   {
    "duration": 0,
    "start_time": "2023-03-28T00:04:45.066Z"
   },
   {
    "duration": 0,
    "start_time": "2023-03-28T00:04:45.067Z"
   },
   {
    "duration": 0,
    "start_time": "2023-03-28T00:04:45.068Z"
   },
   {
    "duration": 0,
    "start_time": "2023-03-28T00:04:45.069Z"
   },
   {
    "duration": 7477,
    "start_time": "2023-03-28T00:04:52.085Z"
   },
   {
    "duration": 1503,
    "start_time": "2023-03-28T00:06:17.834Z"
   },
   {
    "duration": 7008,
    "start_time": "2023-03-28T00:06:50.979Z"
   },
   {
    "duration": 5,
    "start_time": "2023-03-28T00:06:57.989Z"
   },
   {
    "duration": 922,
    "start_time": "2023-03-28T00:06:57.995Z"
   },
   {
    "duration": 4,
    "start_time": "2023-03-28T00:06:58.919Z"
   },
   {
    "duration": 65,
    "start_time": "2023-03-28T00:06:58.925Z"
   },
   {
    "duration": 385,
    "start_time": "2023-03-28T00:06:58.992Z"
   },
   {
    "duration": 501,
    "start_time": "2023-03-28T00:06:59.378Z"
   },
   {
    "duration": 296,
    "start_time": "2023-03-28T00:06:59.880Z"
   },
   {
    "duration": 85,
    "start_time": "2023-03-28T00:07:00.178Z"
   },
   {
    "duration": 49,
    "start_time": "2023-03-28T00:07:00.264Z"
   },
   {
    "duration": 73,
    "start_time": "2023-03-28T00:07:00.315Z"
   },
   {
    "duration": 57,
    "start_time": "2023-03-28T00:07:00.390Z"
   },
   {
    "duration": 56,
    "start_time": "2023-03-28T00:07:00.448Z"
   },
   {
    "duration": 186,
    "start_time": "2023-03-28T00:07:00.508Z"
   },
   {
    "duration": 232,
    "start_time": "2023-03-28T00:07:00.697Z"
   },
   {
    "duration": 1579,
    "start_time": "2023-03-28T00:07:00.931Z"
   },
   {
    "duration": 24,
    "start_time": "2023-03-28T00:07:02.512Z"
   },
   {
    "duration": 11,
    "start_time": "2023-03-28T00:07:02.538Z"
   },
   {
    "duration": 13,
    "start_time": "2023-03-28T00:07:02.551Z"
   },
   {
    "duration": 45,
    "start_time": "2023-03-28T00:07:02.584Z"
   },
   {
    "duration": 54,
    "start_time": "2023-03-28T00:07:02.631Z"
   },
   {
    "duration": 6835,
    "start_time": "2023-03-28T00:07:21.597Z"
   },
   {
    "duration": 3525,
    "start_time": "2023-03-28T00:07:28.434Z"
   },
   {
    "duration": 953,
    "start_time": "2023-03-28T00:07:31.960Z"
   },
   {
    "duration": 4,
    "start_time": "2023-03-28T00:07:32.914Z"
   },
   {
    "duration": 89,
    "start_time": "2023-03-28T00:07:32.920Z"
   },
   {
    "duration": 454,
    "start_time": "2023-03-28T00:07:33.011Z"
   },
   {
    "duration": 538,
    "start_time": "2023-03-28T00:07:33.466Z"
   },
   {
    "duration": 328,
    "start_time": "2023-03-28T00:07:34.005Z"
   },
   {
    "duration": 80,
    "start_time": "2023-03-28T00:07:34.334Z"
   },
   {
    "duration": 31,
    "start_time": "2023-03-28T00:07:34.416Z"
   },
   {
    "duration": 67,
    "start_time": "2023-03-28T00:07:34.449Z"
   },
   {
    "duration": 42,
    "start_time": "2023-03-28T00:07:34.518Z"
   },
   {
    "duration": 60,
    "start_time": "2023-03-28T00:07:34.562Z"
   },
   {
    "duration": 227,
    "start_time": "2023-03-28T00:07:34.626Z"
   },
   {
    "duration": 223,
    "start_time": "2023-03-28T00:07:34.855Z"
   },
   {
    "duration": 1778,
    "start_time": "2023-03-28T00:07:35.083Z"
   },
   {
    "duration": 34,
    "start_time": "2023-03-28T00:07:36.862Z"
   },
   {
    "duration": 9,
    "start_time": "2023-03-28T00:07:36.898Z"
   },
   {
    "duration": 3,
    "start_time": "2023-03-28T00:07:36.909Z"
   },
   {
    "duration": 35,
    "start_time": "2023-03-28T00:07:36.913Z"
   },
   {
    "duration": 5,
    "start_time": "2023-03-28T00:07:36.949Z"
   },
   {
    "duration": 36081,
    "start_time": "2023-03-28T00:07:36.956Z"
   },
   {
    "duration": 3,
    "start_time": "2023-03-28T00:08:13.039Z"
   },
   {
    "duration": 19,
    "start_time": "2023-03-28T00:08:13.043Z"
   },
   {
    "duration": 28,
    "start_time": "2023-03-28T00:08:13.063Z"
   },
   {
    "duration": 32,
    "start_time": "2023-03-28T00:08:13.093Z"
   },
   {
    "duration": 7,
    "start_time": "2023-03-28T00:08:13.127Z"
   },
   {
    "duration": 21,
    "start_time": "2023-03-28T00:08:13.135Z"
   },
   {
    "duration": 37,
    "start_time": "2023-03-28T00:08:13.157Z"
   },
   {
    "duration": 40,
    "start_time": "2023-03-28T00:08:13.195Z"
   },
   {
    "duration": 1610,
    "start_time": "2023-03-28T00:08:13.237Z"
   },
   {
    "duration": 17,
    "start_time": "2023-03-28T00:08:14.849Z"
   },
   {
    "duration": 141,
    "start_time": "2023-03-28T00:08:14.867Z"
   },
   {
    "duration": 301,
    "start_time": "2023-03-28T00:08:15.010Z"
   },
   {
    "duration": 100,
    "start_time": "2023-03-28T00:08:15.313Z"
   },
   {
    "duration": 1704,
    "start_time": "2023-03-28T00:08:15.415Z"
   },
   {
    "duration": 398,
    "start_time": "2023-03-28T00:08:17.124Z"
   },
   {
    "duration": 1162,
    "start_time": "2023-03-28T00:08:17.523Z"
   },
   {
    "duration": 35,
    "start_time": "2023-03-28T00:09:23.392Z"
   },
   {
    "duration": 3,
    "start_time": "2023-03-28T00:11:54.595Z"
   },
   {
    "duration": 4,
    "start_time": "2023-03-28T00:13:18.329Z"
   },
   {
    "duration": 5053,
    "start_time": "2023-03-28T00:13:21.194Z"
   },
   {
    "duration": 5,
    "start_time": "2023-03-28T00:15:15.883Z"
   },
   {
    "duration": 5,
    "start_time": "2023-03-28T00:15:40.308Z"
   },
   {
    "duration": 25,
    "start_time": "2023-03-28T00:15:42.875Z"
   },
   {
    "duration": 5,
    "start_time": "2023-03-28T00:16:55.043Z"
   },
   {
    "duration": 3,
    "start_time": "2023-03-28T00:17:07.887Z"
   },
   {
    "duration": 4,
    "start_time": "2023-03-28T00:17:09.296Z"
   },
   {
    "duration": 4,
    "start_time": "2023-03-28T00:17:13.512Z"
   },
   {
    "duration": 26,
    "start_time": "2023-03-28T00:17:16.207Z"
   },
   {
    "duration": 6957,
    "start_time": "2023-03-28T00:17:32.759Z"
   },
   {
    "duration": 2644,
    "start_time": "2023-03-28T00:17:39.719Z"
   },
   {
    "duration": 959,
    "start_time": "2023-03-28T00:17:42.365Z"
   },
   {
    "duration": 4,
    "start_time": "2023-03-28T00:17:43.326Z"
   },
   {
    "duration": 88,
    "start_time": "2023-03-28T00:17:43.332Z"
   },
   {
    "duration": 498,
    "start_time": "2023-03-28T00:17:43.422Z"
   },
   {
    "duration": 566,
    "start_time": "2023-03-28T00:17:43.921Z"
   },
   {
    "duration": 353,
    "start_time": "2023-03-28T00:17:44.489Z"
   },
   {
    "duration": 85,
    "start_time": "2023-03-28T00:17:44.844Z"
   },
   {
    "duration": 41,
    "start_time": "2023-03-28T00:17:44.931Z"
   },
   {
    "duration": 77,
    "start_time": "2023-03-28T00:17:44.973Z"
   },
   {
    "duration": 49,
    "start_time": "2023-03-28T00:17:45.052Z"
   },
   {
    "duration": 55,
    "start_time": "2023-03-28T00:17:45.102Z"
   },
   {
    "duration": 218,
    "start_time": "2023-03-28T00:17:45.160Z"
   },
   {
    "duration": 237,
    "start_time": "2023-03-28T00:17:45.383Z"
   },
   {
    "duration": 1932,
    "start_time": "2023-03-28T00:17:45.622Z"
   },
   {
    "duration": 29,
    "start_time": "2023-03-28T00:17:47.558Z"
   },
   {
    "duration": 24,
    "start_time": "2023-03-28T00:17:47.589Z"
   },
   {
    "duration": 7,
    "start_time": "2023-03-28T00:17:47.614Z"
   },
   {
    "duration": 46,
    "start_time": "2023-03-28T00:17:47.623Z"
   },
   {
    "duration": 6,
    "start_time": "2023-03-28T00:17:47.671Z"
   },
   {
    "duration": 37219,
    "start_time": "2023-03-28T00:17:47.678Z"
   },
   {
    "duration": 4,
    "start_time": "2023-03-28T00:18:24.898Z"
   },
   {
    "duration": 20,
    "start_time": "2023-03-28T00:18:24.903Z"
   },
   {
    "duration": 16,
    "start_time": "2023-03-28T00:18:24.924Z"
   },
   {
    "duration": 52,
    "start_time": "2023-03-28T00:18:24.942Z"
   },
   {
    "duration": 8,
    "start_time": "2023-03-28T00:18:24.995Z"
   },
   {
    "duration": 22,
    "start_time": "2023-03-28T00:18:25.005Z"
   },
   {
    "duration": 14,
    "start_time": "2023-03-28T00:18:25.028Z"
   },
   {
    "duration": 61,
    "start_time": "2023-03-28T00:18:25.043Z"
   },
   {
    "duration": 1694,
    "start_time": "2023-03-28T00:18:25.108Z"
   },
   {
    "duration": 17,
    "start_time": "2023-03-28T00:18:26.804Z"
   },
   {
    "duration": 150,
    "start_time": "2023-03-28T00:18:26.823Z"
   },
   {
    "duration": 334,
    "start_time": "2023-03-28T00:18:26.975Z"
   },
   {
    "duration": 104,
    "start_time": "2023-03-28T00:18:27.311Z"
   },
   {
    "duration": 1794,
    "start_time": "2023-03-28T00:18:27.417Z"
   },
   {
    "duration": 372,
    "start_time": "2023-03-28T00:18:29.212Z"
   },
   {
    "duration": 1102,
    "start_time": "2023-03-28T00:18:29.586Z"
   },
   {
    "duration": 127,
    "start_time": "2023-03-28T00:18:30.691Z"
   },
   {
    "duration": 45,
    "start_time": "2023-03-28T00:18:30.820Z"
   },
   {
    "duration": 46,
    "start_time": "2023-03-28T00:18:30.868Z"
   },
   {
    "duration": 280,
    "start_time": "2023-03-28T00:19:23.498Z"
   },
   {
    "duration": 4,
    "start_time": "2023-03-28T00:19:39.504Z"
   },
   {
    "duration": 21,
    "start_time": "2023-03-28T00:19:41.753Z"
   },
   {
    "duration": 4,
    "start_time": "2023-03-28T00:20:46.190Z"
   },
   {
    "duration": 23,
    "start_time": "2023-03-28T00:20:48.175Z"
   },
   {
    "duration": 4,
    "start_time": "2023-03-28T00:21:06.728Z"
   },
   {
    "duration": 26,
    "start_time": "2023-03-28T00:21:08.620Z"
   },
   {
    "duration": 4,
    "start_time": "2023-03-28T00:22:01.011Z"
   },
   {
    "duration": 27,
    "start_time": "2023-03-28T00:22:02.687Z"
   },
   {
    "duration": 4,
    "start_time": "2023-03-28T00:22:17.667Z"
   },
   {
    "duration": 21,
    "start_time": "2023-03-28T00:22:19.446Z"
   },
   {
    "duration": 5,
    "start_time": "2023-03-28T00:22:51.537Z"
   },
   {
    "duration": 1450,
    "start_time": "2023-03-28T00:22:53.521Z"
   },
   {
    "duration": 5,
    "start_time": "2023-03-28T00:23:56.639Z"
   },
   {
    "duration": 5706,
    "start_time": "2023-03-28T00:23:58.648Z"
   },
   {
    "duration": 4,
    "start_time": "2023-03-28T00:24:14.994Z"
   },
   {
    "duration": 4293,
    "start_time": "2023-03-28T00:32:22.330Z"
   },
   {
    "duration": 5048,
    "start_time": "2023-03-28T00:32:33.741Z"
   },
   {
    "duration": 1148,
    "start_time": "2023-03-28T00:32:41.272Z"
   },
   {
    "duration": 904,
    "start_time": "2023-03-28T00:32:44.165Z"
   },
   {
    "duration": 4285,
    "start_time": "2023-03-28T00:33:46.288Z"
   },
   {
    "duration": 5,
    "start_time": "2023-03-28T00:33:50.576Z"
   },
   {
    "duration": 943,
    "start_time": "2023-03-28T00:33:50.582Z"
   },
   {
    "duration": 5,
    "start_time": "2023-03-28T00:33:51.527Z"
   },
   {
    "duration": 75,
    "start_time": "2023-03-28T00:33:51.534Z"
   },
   {
    "duration": 456,
    "start_time": "2023-03-28T00:33:51.611Z"
   },
   {
    "duration": 590,
    "start_time": "2023-03-28T00:33:52.068Z"
   },
   {
    "duration": 336,
    "start_time": "2023-03-28T00:33:52.660Z"
   },
   {
    "duration": 86,
    "start_time": "2023-03-28T00:33:52.998Z"
   },
   {
    "duration": 32,
    "start_time": "2023-03-28T00:33:53.086Z"
   },
   {
    "duration": 64,
    "start_time": "2023-03-28T00:33:53.120Z"
   },
   {
    "duration": 44,
    "start_time": "2023-03-28T00:33:53.186Z"
   },
   {
    "duration": 67,
    "start_time": "2023-03-28T00:33:53.231Z"
   },
   {
    "duration": 212,
    "start_time": "2023-03-28T00:33:53.301Z"
   },
   {
    "duration": 229,
    "start_time": "2023-03-28T00:33:53.514Z"
   },
   {
    "duration": 1904,
    "start_time": "2023-03-28T00:33:53.745Z"
   },
   {
    "duration": 34,
    "start_time": "2023-03-28T00:33:55.651Z"
   },
   {
    "duration": 10,
    "start_time": "2023-03-28T00:33:55.687Z"
   },
   {
    "duration": 3,
    "start_time": "2023-03-28T00:33:55.698Z"
   },
   {
    "duration": 40,
    "start_time": "2023-03-28T00:33:55.702Z"
   },
   {
    "duration": 5,
    "start_time": "2023-03-28T00:33:55.744Z"
   },
   {
    "duration": 36979,
    "start_time": "2023-03-28T00:33:55.750Z"
   },
   {
    "duration": 4,
    "start_time": "2023-03-28T00:34:32.731Z"
   },
   {
    "duration": 44,
    "start_time": "2023-03-28T00:34:32.736Z"
   },
   {
    "duration": 34,
    "start_time": "2023-03-28T00:34:32.782Z"
   },
   {
    "duration": 59,
    "start_time": "2023-03-28T00:34:32.818Z"
   },
   {
    "duration": 8,
    "start_time": "2023-03-28T00:34:32.878Z"
   },
   {
    "duration": 36,
    "start_time": "2023-03-28T00:34:32.887Z"
   },
   {
    "duration": 14,
    "start_time": "2023-03-28T00:34:32.925Z"
   },
   {
    "duration": 42,
    "start_time": "2023-03-28T00:34:32.941Z"
   },
   {
    "duration": 1509,
    "start_time": "2023-03-28T00:34:32.985Z"
   },
   {
    "duration": 16,
    "start_time": "2023-03-28T00:34:34.496Z"
   },
   {
    "duration": 161,
    "start_time": "2023-03-28T00:34:34.513Z"
   },
   {
    "duration": 328,
    "start_time": "2023-03-28T00:34:34.684Z"
   },
   {
    "duration": 104,
    "start_time": "2023-03-28T00:34:35.014Z"
   },
   {
    "duration": 3274,
    "start_time": "2023-03-28T00:34:35.119Z"
   },
   {
    "duration": 579,
    "start_time": "2023-03-28T00:34:38.395Z"
   },
   {
    "duration": 1415,
    "start_time": "2023-03-28T00:34:38.975Z"
   },
   {
    "duration": 198,
    "start_time": "2023-03-28T00:34:40.392Z"
   },
   {
    "duration": 220,
    "start_time": "2023-03-28T00:34:40.591Z"
   },
   {
    "duration": 0,
    "start_time": "2023-03-28T00:34:40.813Z"
   },
   {
    "duration": 2,
    "start_time": "2023-03-28T00:34:52.714Z"
   },
   {
    "duration": 4,
    "start_time": "2023-03-28T00:35:00.049Z"
   },
   {
    "duration": 23578,
    "start_time": "2023-03-28T00:35:02.188Z"
   },
   {
    "duration": 2,
    "start_time": "2023-03-28T00:36:05.190Z"
   },
   {
    "duration": 4,
    "start_time": "2023-03-28T00:36:06.366Z"
   },
   {
    "duration": 19391,
    "start_time": "2023-03-28T00:36:09.405Z"
   },
   {
    "duration": 3,
    "start_time": "2023-03-28T00:36:34.368Z"
   },
   {
    "duration": 4,
    "start_time": "2023-03-28T00:36:35.579Z"
   },
   {
    "duration": 43772,
    "start_time": "2023-03-28T00:36:37.920Z"
   },
   {
    "duration": 2,
    "start_time": "2023-03-28T00:37:49.856Z"
   },
   {
    "duration": 22759,
    "start_time": "2023-03-28T00:37:52.362Z"
   },
   {
    "duration": 982261,
    "start_time": "2023-03-28T00:38:21.327Z"
   },
   {
    "duration": 93692,
    "start_time": "2023-03-28T00:55:33.892Z"
   },
   {
    "duration": 10,
    "start_time": "2023-03-28T00:57:47.922Z"
   },
   {
    "duration": 1186,
    "start_time": "2023-03-28T00:57:53.103Z"
   },
   {
    "duration": 17,
    "start_time": "2023-03-28T00:58:45.017Z"
   },
   {
    "duration": 10,
    "start_time": "2023-03-28T00:59:04.963Z"
   },
   {
    "duration": 910,
    "start_time": "2023-03-28T01:00:09.940Z"
   },
   {
    "duration": 4,
    "start_time": "2023-03-28T01:00:29.930Z"
   },
   {
    "duration": 5,
    "start_time": "2023-03-28T01:00:34.451Z"
   },
   {
    "duration": 6,
    "start_time": "2023-03-28T01:00:41.500Z"
   },
   {
    "duration": 5,
    "start_time": "2023-03-28T01:00:49.049Z"
   },
   {
    "duration": 10,
    "start_time": "2023-03-28T01:02:01.620Z"
   },
   {
    "duration": 14,
    "start_time": "2023-03-28T01:02:06.018Z"
   },
   {
    "duration": 4,
    "start_time": "2023-03-28T01:03:11.972Z"
   },
   {
    "duration": 67,
    "start_time": "2023-03-28T01:03:20.757Z"
   },
   {
    "duration": 11,
    "start_time": "2023-03-28T01:03:28.352Z"
   },
   {
    "duration": 11,
    "start_time": "2023-03-28T01:03:43.564Z"
   },
   {
    "duration": 12,
    "start_time": "2023-03-28T01:03:49.208Z"
   },
   {
    "duration": 11,
    "start_time": "2023-03-28T01:03:55.721Z"
   },
   {
    "duration": 13,
    "start_time": "2023-03-28T01:04:03.666Z"
   },
   {
    "duration": 12,
    "start_time": "2023-03-28T01:04:07.523Z"
   },
   {
    "duration": 11,
    "start_time": "2023-03-28T01:04:15.323Z"
   },
   {
    "duration": 3,
    "start_time": "2023-03-28T01:04:27.634Z"
   },
   {
    "duration": 416,
    "start_time": "2023-03-28T01:04:36.871Z"
   },
   {
    "duration": 6,
    "start_time": "2023-03-28T01:04:42.083Z"
   }
  ],
  "kernelspec": {
   "display_name": "Python 3 (ipykernel)",
   "language": "python",
   "name": "python3"
  },
  "language_info": {
   "codemirror_mode": {
    "name": "ipython",
    "version": 3
   },
   "file_extension": ".py",
   "mimetype": "text/x-python",
   "name": "python",
   "nbconvert_exporter": "python",
   "pygments_lexer": "ipython3",
   "version": "3.9.5"
  },
  "toc": {
   "base_numbering": 1,
   "nav_menu": {},
   "number_sections": true,
   "sideBar": true,
   "skip_h1_title": false,
   "title_cell": "Table of Contents",
   "title_sidebar": "Contents",
   "toc_cell": false,
   "toc_position": {
    "height": "calc(100% - 180px)",
    "left": "10px",
    "top": "150px",
    "width": "182px"
   },
   "toc_section_display": true,
   "toc_window_display": true
  }
 },
 "nbformat": 4,
 "nbformat_minor": 2
}
