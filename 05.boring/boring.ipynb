{
 "cells": [
  {
   "cell_type": "markdown",
   "metadata": {},
   "source": [
    "# Выбор локации для скважины"
   ]
  },
  {
   "cell_type": "markdown",
   "metadata": {},
   "source": [
    "Допустим, вы работаете в добывающей компании «ГлавРосГосНефть». Нужно решить, где бурить новую скважину.\n",
    "\n",
    "Вам предоставлены пробы нефти в трёх регионах: в каждом 10 000 месторождений, где измерили качество нефти и объём её запасов. Постройте модель машинного обучения, которая поможет определить регион, где добыча принесёт наибольшую прибыль. Проанализируйте возможную прибыль и риски техникой *Bootstrap.*\n",
    "\n",
    "Шаги для выбора локации:\n",
    "\n",
    "- В избранном регионе ищут месторождения, для каждого определяют значения признаков;\n",
    "- Строят модель и оценивают объём запасов;\n",
    "- Выбирают месторождения с самым высокими оценками значений. Количество месторождений зависит от бюджета компании и стоимости разработки одной скважины;\n",
    "- Прибыль равна суммарной прибыли отобранных месторождений."
   ]
  },
  {
   "cell_type": "markdown",
   "metadata": {},
   "source": [
    "### План исследования"
   ]
  },
  {
   "cell_type": "markdown",
   "metadata": {},
   "source": [
    "- Загрузка и предобработка данных. \n",
    "- Обучение модели, проверка работоспособности.\n",
    "- Расчет потенциальной прибыли по регионам.\n",
    "- Расчет потенциальной прибыли с отбором скважин.\n",
    "- Оценка рисков."
   ]
  },
  {
   "cell_type": "markdown",
   "metadata": {},
   "source": [
    "### Сопроводительная информация о данных:\n",
    "\n",
    "- Данные геологоразведки трёх регионов находятся в файлах\n",
    "- id — уникальный идентификатор скважины;\n",
    "- f0, f1, f2 — три признака точек (неважно, что они означают, но сами признаки значимы);\n",
    "- product — объём запасов в скважине (тыс. баррелей)."
   ]
  },
  {
   "cell_type": "markdown",
   "metadata": {},
   "source": [
    "### Требования к расчёту прибыли:\n",
    "- Предпочтительная модель -  линейная регрессия.\n",
    "- При разведке региона исследуют 500 точек, из которых с помощью машинного обучения выбирают 200 лучших для разработки.\n",
    "- Бюджет на регион — 10 млрд рублей.\n",
    "- При нынешних ценах один баррель сырья приносит 450 рублей дохода. Доход с каждой единицы продукта составляет 450 тыс. рублей, поскольку объём указан в тысячах баррелей.\n",
    "- После оценки рисков нужно оставить лишь те регионы, в которых вероятность убытков меньше 2.5%. Среди них выбирают регион с наибольшей средней прибылью."
   ]
  },

  {
   "cell_type": "markdown",
   "metadata": {},
   "source": [
    "## Загрузка и подготовка данных"
   ]
  },
  {
   "cell_type": "markdown",
   "metadata": {},
   "source": [
    "Исходя из сопроводительной информации, данные по каждому региону находятся в отдельных файлах. Познакомимся с каждым, выясним, можно ли их объединять без предварительной подготовки данных."
   ]
  },
  {
   "cell_type": "code",
   "execution_count": 1,
   "metadata": {},
   "outputs": [],
   "source": [
    "import pandas as pd\n",
    "import numpy as np \n",
    "from sklearn.linear_model import LinearRegression\n",
    "from sklearn.metrics import mean_squared_error \n",
    "from sklearn.model_selection import train_test_split\n",
    "import matplotlib.pyplot as plt\n",
    "from sklearn.preprocessing import StandardScaler"
   ]
  },
  {
   "cell_type": "code",
   "execution_count": 2,
   "metadata": {},
   "outputs": [
    {
     "name": "stdout",
     "output_type": "stream",
     "text": [
      "data1 info:\n",
      "\n",
      "<class 'pandas.core.frame.DataFrame'>\n",
      "RangeIndex: 100000 entries, 0 to 99999\n",
      "Data columns (total 5 columns):\n",
      " #   Column   Non-Null Count   Dtype  \n",
      "---  ------   --------------   -----  \n",
      " 0   id       100000 non-null  object \n",
      " 1   f0       100000 non-null  float64\n",
      " 2   f1       100000 non-null  float64\n",
      " 3   f2       100000 non-null  float64\n",
      " 4   product  100000 non-null  float64\n",
      "dtypes: float64(4), object(1)\n",
      "memory usage: 3.8+ MB\n",
      "\n",
      " data1  head:\n",
      "\n",
      "      id        f0        f1        f2     product\n",
      "0  txEyH  0.705745 -0.497823  1.221170  105.280062\n",
      "1  2acmU  1.334711 -0.340164  4.365080   73.037750\n",
      "2  409Wp  1.022732  0.151990  1.419926   85.265647\n",
      "3  iJLyR -0.032172  0.139033  2.978566  168.620776\n",
      "4  Xdl7t  1.988431  0.155413  4.751769  154.036647 \n",
      "\n",
      "data2 info:\n",
      "\n",
      "<class 'pandas.core.frame.DataFrame'>\n",
      "RangeIndex: 100000 entries, 0 to 99999\n",
      "Data columns (total 5 columns):\n",
      " #   Column   Non-Null Count   Dtype  \n",
      "---  ------   --------------   -----  \n",
      " 0   id       100000 non-null  object \n",
      " 1   f0       100000 non-null  float64\n",
      " 2   f1       100000 non-null  float64\n",
      " 3   f2       100000 non-null  float64\n",
      " 4   product  100000 non-null  float64\n",
      "dtypes: float64(4), object(1)\n",
      "memory usage: 3.8+ MB\n",
      "\n",
      " data2  head:\n",
      "\n",
      "      id         f0         f1        f2     product\n",
      "0  kBEdx -15.001348  -8.276000 -0.005876    3.179103\n",
      "1  62mP7  14.272088  -3.475083  0.999183   26.953261\n",
      "2  vyE1P   6.263187  -5.948386  5.001160  134.766305\n",
      "3  KcrkZ -13.081196 -11.506057  4.999415  137.945408\n",
      "4  AHL4O  12.702195  -8.147433  5.004363  134.766305 \n",
      "\n",
      "data3 info:\n",
      "\n",
      "<class 'pandas.core.frame.DataFrame'>\n",
      "RangeIndex: 100000 entries, 0 to 99999\n",
      "Data columns (total 5 columns):\n",
      " #   Column   Non-Null Count   Dtype  \n",
      "---  ------   --------------   -----  \n",
      " 0   id       100000 non-null  object \n",
      " 1   f0       100000 non-null  float64\n",
      " 2   f1       100000 non-null  float64\n",
      " 3   f2       100000 non-null  float64\n",
      " 4   product  100000 non-null  float64\n",
      "dtypes: float64(4), object(1)\n",
      "memory usage: 3.8+ MB\n",
      "\n",
      " data3  head:\n",
      "\n",
      "      id        f0        f1        f2     product\n",
      "0  fwXo0 -1.146987  0.963328 -0.828965   27.758673\n",
      "1  WJtFt  0.262778  0.269839 -2.530187   56.069697\n",
      "2  ovLUW  0.194587  0.289035 -5.586433   62.871910\n",
      "3  q6cA6  2.236060 -0.553760  0.930038  114.572842\n",
      "4  WPMUX -0.515993  1.716266  5.899011  149.600746 \n",
      "\n"
     ]
    }
   ],
   "source": [
    "data1 = pd.read_csv(\"/datasets/geo_data_0.csv\")\n",
    "data2 = pd.read_csv(\"/datasets/geo_data_1.csv\")\n",
    "data3 = pd.read_csv(\"/datasets/geo_data_2.csv\")\n",
    "\n",
    "for i in range (1,4):\n",
    "    print(\"\".join(['data',str(i)]), 'info:\\n')\n",
    "    eval(\"\".join(['data',str(i)])).info()\n",
    "    print('\\n',\"\".join(['data',str(i)]),\" head:\\n\")\n",
    "    print(eval(\"\".join(['data',str(i)])).head(),'\\n')"
   ]
  },
  {
   "cell_type": "markdown",
   "metadata": {},
   "source": [
    "Данные однотипны. Пропусков нет. Типы данных приведены к соответствующим содержимому. Для целей знакомства с данными соединю в один датафрейм, присвоив индикатор региона соответствующим данным."
   ]
  },
  {
   "cell_type": "code",
   "execution_count": 3,
   "metadata": {},
   "outputs": [
    {
     "name": "stdout",
     "output_type": "stream",
     "text": [
      "1    100000\n",
      "2    100000\n",
      "3    100000\n",
      "Name: region, dtype: int64\n"
     ]
    },
    {
     "data": {
      "text/html": [
       "<div>\n",
       "<style scoped>\n",
       "    .dataframe tbody tr th:only-of-type {\n",
       "        vertical-align: middle;\n",
       "    }\n",
       "\n",
       "    .dataframe tbody tr th {\n",
       "        vertical-align: top;\n",
       "    }\n",
       "\n",
       "    .dataframe thead th {\n",
       "        text-align: right;\n",
       "    }\n",
       "</style>\n",
       "<table border=\"1\" class=\"dataframe\">\n",
       "  <thead>\n",
       "    <tr style=\"text-align: right;\">\n",
       "      <th></th>\n",
       "      <th>id</th>\n",
       "      <th>f0</th>\n",
       "      <th>f1</th>\n",
       "      <th>f2</th>\n",
       "      <th>product</th>\n",
       "      <th>region</th>\n",
       "    </tr>\n",
       "  </thead>\n",
       "  <tbody>\n",
       "    <tr>\n",
       "      <th>0</th>\n",
       "      <td>txEyH</td>\n",
       "      <td>0.705745</td>\n",
       "      <td>-0.497823</td>\n",
       "      <td>1.221170</td>\n",
       "      <td>105.280062</td>\n",
       "      <td>1</td>\n",
       "    </tr>\n",
       "    <tr>\n",
       "      <th>1</th>\n",
       "      <td>2acmU</td>\n",
       "      <td>1.334711</td>\n",
       "      <td>-0.340164</td>\n",
       "      <td>4.365080</td>\n",
       "      <td>73.037750</td>\n",
       "      <td>1</td>\n",
       "    </tr>\n",
       "    <tr>\n",
       "      <th>2</th>\n",
       "      <td>409Wp</td>\n",
       "      <td>1.022732</td>\n",
       "      <td>0.151990</td>\n",
       "      <td>1.419926</td>\n",
       "      <td>85.265647</td>\n",
       "      <td>1</td>\n",
       "    </tr>\n",
       "    <tr>\n",
       "      <th>3</th>\n",
       "      <td>iJLyR</td>\n",
       "      <td>-0.032172</td>\n",
       "      <td>0.139033</td>\n",
       "      <td>2.978566</td>\n",
       "      <td>168.620776</td>\n",
       "      <td>1</td>\n",
       "    </tr>\n",
       "    <tr>\n",
       "      <th>4</th>\n",
       "      <td>Xdl7t</td>\n",
       "      <td>1.988431</td>\n",
       "      <td>0.155413</td>\n",
       "      <td>4.751769</td>\n",
       "      <td>154.036647</td>\n",
       "      <td>1</td>\n",
       "    </tr>\n",
       "  </tbody>\n",
       "</table>\n",
       "</div>"
      ],
      "text/plain": [
       "      id        f0        f1        f2     product  region\n",
       "0  txEyH  0.705745 -0.497823  1.221170  105.280062       1\n",
       "1  2acmU  1.334711 -0.340164  4.365080   73.037750       1\n",
       "2  409Wp  1.022732  0.151990  1.419926   85.265647       1\n",
       "3  iJLyR -0.032172  0.139033  2.978566  168.620776       1\n",
       "4  Xdl7t  1.988431  0.155413  4.751769  154.036647       1"
      ]
     },
     "execution_count": 3,
     "metadata": {},
     "output_type": "execute_result"
    }
   ],
   "source": [
    "data = pd.DataFrame()\n",
    "\n",
    "for i in range (1,4):\n",
    "    eval(\"\".join(['data',str(i)]))['region'] = i\n",
    "    data = pd.concat([data, eval(\"\".join(['data',str(i)]))])\n",
    "print(data['region'].value_counts())\n",
    "data.head()"
   ]
  },
  {
   "cell_type": "markdown",
   "metadata": {},
   "source": [
    "Проверим на дубликаты."
   ]
  },
  {
   "cell_type": "code",
   "execution_count": 4,
   "metadata": {},
   "outputs": [
    {
     "data": {
      "text/plain": [
       "0"
      ]
     },
     "execution_count": 4,
     "metadata": {},
     "output_type": "execute_result"
    }
   ],
   "source": [
    "data.duplicated().sum()"
   ]
  },
  {
   "cell_type": "markdown",
   "metadata": {},
   "source": [
    "Полные дубликаты отсутствуют, но возможно, есть повторяющиеся значения в поле ID"
   ]
  },
  {
   "cell_type": "code",
   "execution_count": 5,
   "metadata": {},
   "outputs": [
    {
     "data": {
      "text/plain": [
       "299951"
      ]
     },
     "execution_count": 5,
     "metadata": {},
     "output_type": "execute_result"
    }
   ],
   "source": [
    "len(data['id'].unique())"
   ]
  },
  {
   "cell_type": "markdown",
   "metadata": {},
   "source": [
    "У нас есть 300 тысяч записей о скважинах, из них 49 неуникальны. Посмотрим на такие неуникальные строки: нужно ли их отбрасывать?"
   ]
  },
  {
   "cell_type": "code",
   "execution_count": 6,
   "metadata": {},
   "outputs": [
    {
     "data": {
      "text/html": [
       "<div>\n",
       "<style scoped>\n",
       "    .dataframe tbody tr th:only-of-type {\n",
       "        vertical-align: middle;\n",
       "    }\n",
       "\n",
       "    .dataframe tbody tr th {\n",
       "        vertical-align: top;\n",
       "    }\n",
       "\n",
       "    .dataframe thead th {\n",
       "        text-align: right;\n",
       "    }\n",
       "</style>\n",
       "<table border=\"1\" class=\"dataframe\">\n",
       "  <thead>\n",
       "    <tr style=\"text-align: right;\">\n",
       "      <th></th>\n",
       "      <th>id</th>\n",
       "      <th>f0</th>\n",
       "      <th>f1</th>\n",
       "      <th>f2</th>\n",
       "      <th>product</th>\n",
       "      <th>region</th>\n",
       "    </tr>\n",
       "  </thead>\n",
       "  <tbody>\n",
       "    <tr>\n",
       "      <th>27380</th>\n",
       "      <td>2tyMi</td>\n",
       "      <td>-1.789602</td>\n",
       "      <td>-1.359044</td>\n",
       "      <td>-4.840745</td>\n",
       "      <td>145.901447</td>\n",
       "      <td>3</td>\n",
       "    </tr>\n",
       "    <tr>\n",
       "      <th>45429</th>\n",
       "      <td>2tyMi</td>\n",
       "      <td>0.576679</td>\n",
       "      <td>-0.411140</td>\n",
       "      <td>-3.725859</td>\n",
       "      <td>69.292672</td>\n",
       "      <td>1</td>\n",
       "    </tr>\n",
       "    <tr>\n",
       "      <th>5849</th>\n",
       "      <td>5ltQ6</td>\n",
       "      <td>-3.435401</td>\n",
       "      <td>-12.296043</td>\n",
       "      <td>1.999796</td>\n",
       "      <td>57.085625</td>\n",
       "      <td>2</td>\n",
       "    </tr>\n",
       "    <tr>\n",
       "      <th>84461</th>\n",
       "      <td>5ltQ6</td>\n",
       "      <td>18.213839</td>\n",
       "      <td>2.191999</td>\n",
       "      <td>3.993869</td>\n",
       "      <td>107.813044</td>\n",
       "      <td>2</td>\n",
       "    </tr>\n",
       "    <tr>\n",
       "      <th>72896</th>\n",
       "      <td>5ssQt</td>\n",
       "      <td>-0.651825</td>\n",
       "      <td>0.782415</td>\n",
       "      <td>2.690636</td>\n",
       "      <td>120.108761</td>\n",
       "      <td>3</td>\n",
       "    </tr>\n",
       "    <tr>\n",
       "      <th>16753</th>\n",
       "      <td>5ssQt</td>\n",
       "      <td>-1.005117</td>\n",
       "      <td>0.268726</td>\n",
       "      <td>-0.407822</td>\n",
       "      <td>53.206029</td>\n",
       "      <td>1</td>\n",
       "    </tr>\n",
       "    <tr>\n",
       "      <th>66136</th>\n",
       "      <td>74z30</td>\n",
       "      <td>1.084962</td>\n",
       "      <td>-0.312358</td>\n",
       "      <td>6.990771</td>\n",
       "      <td>127.643327</td>\n",
       "      <td>1</td>\n",
       "    </tr>\n",
       "    <tr>\n",
       "      <th>64022</th>\n",
       "      <td>74z30</td>\n",
       "      <td>0.741456</td>\n",
       "      <td>0.459229</td>\n",
       "      <td>5.153109</td>\n",
       "      <td>140.771492</td>\n",
       "      <td>1</td>\n",
       "    </tr>\n",
       "    <tr>\n",
       "      <th>3389</th>\n",
       "      <td>A5aEY</td>\n",
       "      <td>-0.039949</td>\n",
       "      <td>0.156872</td>\n",
       "      <td>0.209861</td>\n",
       "      <td>89.249364</td>\n",
       "      <td>1</td>\n",
       "    </tr>\n",
       "    <tr>\n",
       "      <th>51970</th>\n",
       "      <td>A5aEY</td>\n",
       "      <td>-0.180335</td>\n",
       "      <td>0.935548</td>\n",
       "      <td>-2.094773</td>\n",
       "      <td>33.020205</td>\n",
       "      <td>1</td>\n",
       "    </tr>\n",
       "    <tr>\n",
       "      <th>69163</th>\n",
       "      <td>AGS9W</td>\n",
       "      <td>-0.933795</td>\n",
       "      <td>0.116194</td>\n",
       "      <td>-3.655896</td>\n",
       "      <td>19.230453</td>\n",
       "      <td>1</td>\n",
       "    </tr>\n",
       "    <tr>\n",
       "      <th>42529</th>\n",
       "      <td>AGS9W</td>\n",
       "      <td>1.454747</td>\n",
       "      <td>-0.479651</td>\n",
       "      <td>0.683380</td>\n",
       "      <td>126.370504</td>\n",
       "      <td>1</td>\n",
       "    </tr>\n",
       "    <tr>\n",
       "      <th>14777</th>\n",
       "      <td>CXJ2r</td>\n",
       "      <td>1.799663</td>\n",
       "      <td>0.152615</td>\n",
       "      <td>2.308270</td>\n",
       "      <td>124.783815</td>\n",
       "      <td>1</td>\n",
       "    </tr>\n",
       "    <tr>\n",
       "      <th>23086</th>\n",
       "      <td>CXJ2r</td>\n",
       "      <td>4.595329</td>\n",
       "      <td>-1.967882</td>\n",
       "      <td>4.000767</td>\n",
       "      <td>107.813044</td>\n",
       "      <td>2</td>\n",
       "    </tr>\n",
       "    <tr>\n",
       "      <th>61622</th>\n",
       "      <td>D8TNs</td>\n",
       "      <td>0.280382</td>\n",
       "      <td>0.061393</td>\n",
       "      <td>4.887870</td>\n",
       "      <td>114.943876</td>\n",
       "      <td>3</td>\n",
       "    </tr>\n",
       "    <tr>\n",
       "      <th>44738</th>\n",
       "      <td>D8TNs</td>\n",
       "      <td>-0.646266</td>\n",
       "      <td>3.667055</td>\n",
       "      <td>1.006161</td>\n",
       "      <td>30.132364</td>\n",
       "      <td>2</td>\n",
       "    </tr>\n",
       "  </tbody>\n",
       "</table>\n",
       "</div>"
      ],
      "text/plain": [
       "          id         f0         f1        f2     product  region\n",
       "27380  2tyMi  -1.789602  -1.359044 -4.840745  145.901447       3\n",
       "45429  2tyMi   0.576679  -0.411140 -3.725859   69.292672       1\n",
       "5849   5ltQ6  -3.435401 -12.296043  1.999796   57.085625       2\n",
       "84461  5ltQ6  18.213839   2.191999  3.993869  107.813044       2\n",
       "72896  5ssQt  -0.651825   0.782415  2.690636  120.108761       3\n",
       "16753  5ssQt  -1.005117   0.268726 -0.407822   53.206029       1\n",
       "66136  74z30   1.084962  -0.312358  6.990771  127.643327       1\n",
       "64022  74z30   0.741456   0.459229  5.153109  140.771492       1\n",
       "3389   A5aEY  -0.039949   0.156872  0.209861   89.249364       1\n",
       "51970  A5aEY  -0.180335   0.935548 -2.094773   33.020205       1\n",
       "69163  AGS9W  -0.933795   0.116194 -3.655896   19.230453       1\n",
       "42529  AGS9W   1.454747  -0.479651  0.683380  126.370504       1\n",
       "14777  CXJ2r   1.799663   0.152615  2.308270  124.783815       1\n",
       "23086  CXJ2r   4.595329  -1.967882  4.000767  107.813044       2\n",
       "61622  D8TNs   0.280382   0.061393  4.887870  114.943876       3\n",
       "44738  D8TNs  -0.646266   3.667055  1.006161   30.132364       2"
      ]
     },
     "execution_count": 6,
     "metadata": {},
     "output_type": "execute_result"
    }
   ],
   "source": [
    "id_data = data['id'].value_counts().to_frame('count').rename_axis('id').reset_index()\n",
    "non_unique = id_data[id_data['count'] > 1]['id'].tolist()\n",
    "\n",
    "data.query('id in @non_unique').sort_values(by = 'id').head(16)"
   ]
  },
  {
   "cell_type": "markdown",
   "metadata": {},
   "source": [
    "Видно, что:  \n",
    "\n",
    "а) одни и те же ID используются для разных регионов  \n",
    "б) если ID использован дважды в одном регионе, значения неизвестных нам по смыслу параметров f0-f2 значительно отличаются.\n",
    "\n",
    "Такие дубликаты не помешают анализу."
   ]
  },
  {
   "cell_type": "markdown",
   "metadata": {},
   "source": [
    "Посмотрим, видна ли наглядно корреляция объёма запасов в скважине с каким-либо из признаков f0-f2:"
   ]
  },
  {
   "cell_type": "code",
   "execution_count": 7,
   "metadata": {},
   "outputs": [
    {
     "data": {
      "text/plain": [
       "f0        -0.030439\n",
       "f1         0.137210\n",
       "f2         0.533554\n",
       "product    1.000000\n",
       "region     0.021940\n",
       "Name: product, dtype: float64"
      ]
     },
     "execution_count": 7,
     "metadata": {},
     "output_type": "execute_result"
    }
   ],
   "source": [
    "data.corr()['product']"
   ]
  },
  {
   "cell_type": "markdown",
   "metadata": {},
   "source": [
    "Видна заметная корреляция с показателем f2. Примем к сведению.  "
   ]
  },
  {
   "cell_type": "markdown",
   "metadata": {},
   "source": [
    "Вероятно, для каждого отдельного региона эта картинка может выглядеть иначе. Посмотрим на них в отдельности."
   ]
  },
  {
   "cell_type": "code",
   "execution_count": 8,
   "metadata": {},
   "outputs": [
    {
     "name": "stdout",
     "output_type": "stream",
     "text": [
      "Регион 1:\n",
      "f0    0.143536\n",
      "f1   -0.192356\n",
      "f2    0.483663\n",
      "Name: product, dtype: float64\n",
      "\n",
      "Регион 2:\n",
      "f0   -0.030491\n",
      "f1   -0.010155\n",
      "f2    0.999397\n",
      "Name: product, dtype: float64\n",
      "\n",
      "Регион 3:\n",
      "f0   -0.001987\n",
      "f1   -0.001012\n",
      "f2    0.445871\n",
      "Name: product, dtype: float64\n",
      "\n"
     ]
    }
   ],
   "source": [
    "for i in range (1,4):\n",
    "    print(f'Регион {i}:')\n",
    "    print(eval(\"\".join(['data',str(i)])).corr().drop(['region','product'], axis = 0)['product'])\n",
    "    print()"
   ]
  },
  {
   "cell_type": "markdown",
   "metadata": {},
   "source": [
    "И впрямь: показатель f2 в регионе 2 максимально сильно коррелирует с итоговой отдачей каждой скважины. В регионах 1 и 2 корреляция есть, но умеренно выраженная."
   ]
  },
  {
   "cell_type": "markdown",
   "metadata": {},
   "source": [
    "Теперь посмотрим на f0-f2 более внимательно: стандартизованы ли они?"
   ]
  },
  {
   "cell_type": "code",
   "execution_count": 9,
   "metadata": {},
   "outputs": [],
   "source": [
    "def feature_plot (data):\n",
    "    f0 = data['f0']\n",
    "    f1 = data['f1']\n",
    "    f2 = data['f2']\n",
    "    \n",
    "    plt.hist(f0, alpha=0.7, label = 'f0')\n",
    "    plt.hist(f1, alpha=0.7, label = 'f1')\n",
    "    plt.hist(f2, alpha=0.7, label = 'f2')\n",
    "    \n",
    "    plt.grid()\n",
    "    plt.legend(loc='upper right')"
   ]
  },
  {
   "cell_type": "code",
   "execution_count": 10,
   "metadata": {},
   "outputs": [
    {
     "data": {
      "image/png": "[encoded data removed]",
      "text/plain": [
       "<Figure size 432x288 with 1 Axes>"
      ]
     },
     "metadata": {
      "needs_background": "light"
     },
     "output_type": "display_data"
    },
    {
     "data": {
      "image/png": "[encoded data removed]",
      "text/plain": [
       "<Figure size 432x288 with 1 Axes>"
      ]
     },
     "metadata": {
      "needs_background": "light"
     },
     "output_type": "display_data"
    },
    {
     "data": {
      "image/png": "[encoded data removed]",
      "text/plain": [
       "<Figure size 432x288 with 1 Axes>"
      ]
     },
     "metadata": {
      "needs_background": "light"
     },
     "output_type": "display_data"
    }
   ],
   "source": [
    "for i in range (1,4):\n",
    "    feature_plot(eval(''.join(['data',str(i)])))\n",
    "    plt.title(f\"Распределение параметров, регион {i}\")\n",
    "    plt.show()"
   ]
  },
  {
   "cell_type": "markdown",
   "metadata": {},
   "source": [
    "Можно заметить, что параметр f2 у региона 2, который показал наибольшую корреляцию с итоговой производительностью скважины, распределён в наименьшем диапазоне по сравнению с этим же параметром в остальных регионах, и гораздо более дискретно.\n",
    "\n",
    "Теперь в рамках подготовки каждого из региональных датасетов к анализу отбросим колонки с id скважины и указателем региона, который мы добавляли для соединения данных в один массив. Признаки f0-f2 стоит привести к одному масштабу для устранения возможного влияния на модель."
   ]
  },
  {
   "cell_type": "code",
   "execution_count": 11,
   "metadata": {},
   "outputs": [
    {
     "name": "stdout",
     "output_type": "stream",
     "text": [
      "data1 info:\n",
      "\n",
      "<class 'pandas.core.frame.DataFrame'>\n",
      "RangeIndex: 100000 entries, 0 to 99999\n",
      "Data columns (total 4 columns):\n",
      " #   Column   Non-Null Count   Dtype  \n",
      "---  ------   --------------   -----  \n",
      " 0   f0       100000 non-null  float64\n",
      " 1   f1       100000 non-null  float64\n",
      " 2   f2       100000 non-null  float64\n",
      " 3   product  100000 non-null  float64\n",
      "dtypes: float64(4)\n",
      "memory usage: 3.1 MB\n",
      "\n",
      "\n"
     ]
    },
    {
     "data": {
      "image/png": "[encoded data removed]",
      "text/plain": [
       "<Figure size 432x288 with 1 Axes>"
      ]
     },
     "metadata": {
      "needs_background": "light"
     },
     "output_type": "display_data"
    },
    {
     "name": "stdout",
     "output_type": "stream",
     "text": [
      "data2 info:\n",
      "\n",
      "<class 'pandas.core.frame.DataFrame'>\n",
      "RangeIndex: 100000 entries, 0 to 99999\n",
      "Data columns (total 4 columns):\n",
      " #   Column   Non-Null Count   Dtype  \n",
      "---  ------   --------------   -----  \n",
      " 0   f0       100000 non-null  float64\n",
      " 1   f1       100000 non-null  float64\n",
      " 2   f2       100000 non-null  float64\n",
      " 3   product  100000 non-null  float64\n",
      "dtypes: float64(4)\n",
      "memory usage: 3.1 MB\n",
      "\n",
      "\n"
     ]
    },
    {
     "data": {
      "image/png": "[encoded data removed]",
      "text/plain": [
       "<Figure size 432x288 with 1 Axes>"
      ]
     },
     "metadata": {
      "needs_background": "light"
     },
     "output_type": "display_data"
    },
    {
     "name": "stdout",
     "output_type": "stream",
     "text": [
      "data3 info:\n",
      "\n",
      "<class 'pandas.core.frame.DataFrame'>\n",
      "RangeIndex: 100000 entries, 0 to 99999\n",
      "Data columns (total 4 columns):\n",
      " #   Column   Non-Null Count   Dtype  \n",
      "---  ------   --------------   -----  \n",
      " 0   f0       100000 non-null  float64\n",
      " 1   f1       100000 non-null  float64\n",
      " 2   f2       100000 non-null  float64\n",
      " 3   product  100000 non-null  float64\n",
      "dtypes: float64(4)\n",
      "memory usage: 3.1 MB\n",
      "\n",
      "\n"
     ]
    },
    {
     "data": {
      "image/png": "[encoded data removed]",
      "text/plain": [
       "<Figure size 432x288 with 1 Axes>"
      ]
     },
     "metadata": {
      "needs_background": "light"
     },
     "output_type": "display_data"
    }
   ],
   "source": [
    "data1 = data1.drop(columns = ['id', 'region'])\n",
    "data2 = data2.drop(columns = ['id', 'region'])\n",
    "data3 = data3.drop(columns = ['id', 'region'])\n",
    "\n",
    "features = ['f0','f1','f2']\n",
    "scaler = StandardScaler()\n",
    "\n",
    "for i in range (1,4):\n",
    "    scaler.fit(eval(''.join(['data',str(i)]))[features]) \n",
    "    eval(''.join(['data',str(i)]))[features] = scaler.transform(eval(''.join(['data',str(i)]))[features])\n",
    "    print(\"\".join(['data',str(i)]), 'info:\\n')\n",
    "    eval(\"\".join(['data',str(i)])).info()\n",
    "    print('\\n')\n",
    "    feature_plot(eval(''.join(['data',str(i)])))\n",
    "    plt.title(f\"Обновленное распределение параметров, регион {i}\")\n",
    "    plt.show()"
   ]
  },
  {
   "cell_type": "markdown",
   "metadata": {},
   "source": [
    "**Вывод:**  \n",
    "Данные корректно собраны, признаки f0-f2 стандартизованы, данные подготовлены к дальнейшей работе."
   ]
  },
  {
   "cell_type": "markdown",
   "metadata": {},
   "source": [
    "## Обучение и проверка модели"
   ]
  },
  {
   "cell_type": "markdown",
   "metadata": {},
   "source": [
    "Будем пользоваться только одной моделью, поэтому сразу сохраним её."
   ]
  },
  {
   "cell_type": "code",
   "execution_count": 11,
   "metadata": {},
   "outputs": [],
   "source": [
    "model = LinearRegression()"
   ]
  },
  {
   "cell_type": "markdown",
   "metadata": {},
   "source": [
    "Для обучения модели и проверки её на каждом из регионов напишу соответствующую функцию."
   ]
  },
  {
   "cell_type": "code",
   "execution_count": 12,
   "metadata": {},
   "outputs": [],
   "source": [
    "def region_model(df):\n",
    "    features = df.drop(columns = 'product')\n",
    "    target = df['product']\n",
    "\n",
    "    features_train, features_valid, target_train, target_valid = train_test_split(features,target,\\\n",
    "                                                                                  test_size=0.25,random_state=1234)\n",
    "\n",
    "    model.fit(features_train, target_train)\n",
    "    trained_model = model\n",
    "    predictions = model.predict(features_valid)\n",
    "\n",
    "    rmse_data = mean_squared_error(target_valid, predictions)** 0.5\n",
    "    \n",
    "    return target_valid, predictions, rmse_data, trained_model"
   ]
  },
  {
   "cell_type": "markdown",
   "metadata": {},
   "source": [
    "Теперь применим её к каждому региону."
   ]
  },
  {
   "cell_type": "code",
   "execution_count": 13,
   "metadata": {},
   "outputs": [
    {
     "name": "stdout",
     "output_type": "stream",
     "text": [
      "Регион 1:\n",
      "Средний рассчитанный объём добычи = 92.43, RMSE = 37.56\n",
      "\n",
      "Регион 2:\n",
      "Средний рассчитанный объём добычи = 68.80, RMSE = 0.89\n",
      "\n",
      "Регион 3:\n",
      "Средний рассчитанный объём добычи = 94.92, RMSE = 40.10\n",
      "\n"
     ]
    }
   ],
   "source": [
    "target1, prediction1, rmse1, model1 = region_model(data1)\n",
    "target2, prediction2, rmse2, model2 = region_model(data2)\n",
    "target3, prediction3, rmse3, model3 = region_model(data3)\n",
    "\n",
    "for i in range (1,4):\n",
    "    print(f\"Регион {i}:\")\n",
    "    print(f\"Средний рассчитанный объём добычи = {eval(''.join(['prediction',str(i)])).mean():.2f}, RMSE = {eval(''.join(['rmse',str(i)])):.2f}\\n\") "
   ]
  },
  {
   "cell_type": "markdown",
   "metadata": {},
   "source": [
    "**Вывод:**  \n",
    "Модель обучена, наиболее точные предсказания - для региона 2."
   ]
  },
  {
   "cell_type": "markdown",
   "metadata": {},
   "source": [
    "## Подготовка к расчёту прибыли"
   ]
  },
  {
   "cell_type": "markdown",
   "metadata": {},
   "source": [
    "Зафиксируем ключевые параметры для принятия решения о разработке."
   ]
  },
  {
   "cell_type": "code",
   "execution_count": 14,
   "metadata": {},
   "outputs": [],
   "source": [
    "EXPLORED = 500 \n",
    "DEVELOPED = 200\n",
    "BUDGET = 10_000 # в млн. руб.\n",
    "BARREL_PRICE = 0.45 # в млн. руб.\n",
    "ACCEPTABLE_RISK = 0.025"
   ]
  },
  {
   "cell_type": "markdown",
   "metadata": {},
   "source": [
    "Подсчитаем порог безубыточности."
   ]
  },
  {
   "cell_type": "code",
   "execution_count": 15,
   "metadata": {},
   "outputs": [
    {
     "name": "stdout",
     "output_type": "stream",
     "text": [
      "Минимальное пороговое значение для безубыточности добычи - 111.11 тыс. баррелей\n"
     ]
    }
   ],
   "source": [
    "BREAKEVEN_POINT = BUDGET/DEVELOPED/BARREL_PRICE\n",
    "print (f'Минимальное пороговое значение для безубыточности добычи - {BREAKEVEN_POINT:.2f} тыс. баррелей')"
   ]
  },
  {
   "cell_type": "markdown",
   "metadata": {},
   "source": [
    "Сравним с предполагаемым средним запасом в каждом из регионов."
   ]
  },
  {
   "cell_type": "code",
   "execution_count": 16,
   "metadata": {},
   "outputs": [
    {
     "name": "stdout",
     "output_type": "stream",
     "text": [
      "Регион 1:\n",
      "Средний рассчитанный объём добычи = 92.43, RMSE = 37.56\n",
      "Средний запас меньше, чем пороговое значение 111.11 \n",
      "\n",
      "Регион 2:\n",
      "Средний рассчитанный объём добычи = 68.80, RMSE = 0.89\n",
      "Средний запас меньше, чем пороговое значение 111.11 \n",
      "\n",
      "Регион 3:\n",
      "Средний рассчитанный объём добычи = 94.92, RMSE = 40.10\n",
      "Средний запас меньше, чем пороговое значение 111.11 \n",
      "\n"
     ]
    }
   ],
   "source": [
    "for i in range (1,4):\n",
    "    print(f\"Регион {i}:\")\n",
    "    print(f\"Средний рассчитанный объём добычи = {eval(''.join(['prediction',str(i)])).mean():.2f}, RMSE = {eval(''.join(['rmse',str(i)])):.2f}\")\n",
    "    if eval(''.join(['prediction',str(i)])).mean() < BREAKEVEN_POINT:\n",
    "        print (f\"Средний запас меньше, чем пороговое значение {BREAKEVEN_POINT:.2f} \\n\")\n",
    "    elif eval(''.join(['prediction',str(i)])).mean() > BREAKEVEN_POINT:\n",
    "        print (f\"Средний запас больше, чем пороговое значение {BREAKEVEN_POINT:.2f}\\n\")\n",
    "    else: \n",
    "        print (f\"Средний запас равен пороговому значению \\n\")"
   ]
  },
  {
   "cell_type": "markdown",
   "metadata": {},
   "source": [
    "**Вывод:**  \n",
    "Выбор 200 случайных скважин для разработки не подойдет ни в одном из регионов. Требуется более глубокий расчёт с учетом потенциальной отдачи каждой скважины."
   ]
  },
  {
   "cell_type": "markdown",
   "metadata": {},
   "source": [
    "## Расчёт прибыли и рисков "
   ]
  },
  {
   "cell_type": "markdown",
   "metadata": {},
   "source": [
    "Напишем функцию для подсчета прибыли при выборе N наиболее благоприятных скважин."
   ]
  },
  {
   "cell_type": "code",
   "execution_count": 17,
   "metadata": {},
   "outputs": [],
   "source": [
    "def profit (target, prediction, n, budget = BUDGET):\n",
    "    prediction_sorted = prediction.sort_values(ascending=False) \n",
    "    selected = target[prediction_sorted.index][:n]\n",
    "    revenue = BARREL_PRICE * selected.sum()\n",
    "    profit = revenue - budget\n",
    "    return profit"
   ]
  },
  {
   "cell_type": "markdown",
   "metadata": {},
   "source": [
    "Теперь напишем функцию, которая, применяя бутстрэп, будет считать прибыль по региону и определять риски."
   ]
  },
  {
   "cell_type": "code",
   "execution_count": 18,
   "metadata": {},
   "outputs": [],
   "source": [
    "def region_assessment(target, predictions):\n",
    "    predictions = pd.Series(predictions)\n",
    "    profit_values = []\n",
    "\n",
    "    state = np.random.RandomState(1234)\n",
    "    \n",
    "    for i in range(1000):\n",
    "        target_subs = target.reset_index(drop=True).sample(n=EXPLORED, replace=True, random_state=state)\n",
    "        pred_subs = predictions[target_subs.index]\n",
    "        value = profit(target_subs, pred_subs, DEVELOPED)\n",
    "        profit_values.append(value)\n",
    "        \n",
    "    profit_values = pd.Series(profit_values)\n",
    "    risk = profit_values.where(profit_values >= 0).isna().sum()/len(profit_values)\n",
    "\n",
    "    # считаем доверительный интервал\n",
    "    lower = profit_values .quantile(0.025)\n",
    "    upper = profit_values .quantile(0.975)\n",
    "\n",
    "    # выводим результат\n",
    "    print(f\"Средняя прибыль в регионе: {profit_values .mean():.2f} млн. руб\")\n",
    "    print(f\"95% доверительный интервал: {lower:.2f} - {upper:.2f} млн. руб. \")\n",
    "    print(f\"Риск убытков: {risk:.2%} vs. {ACCEPTABLE_RISK:.2%}\")\n",
    "\n",
    "    # сравниваем с необходимым риском\n",
    "    if risk <= ACCEPTABLE_RISK:\n",
    "          print('Риск убытков приемлем.')\n",
    "    else:\n",
    "          print('Риск убытков неприемлем.') \n",
    "    print(\"\")      "
   ]
  },
  {
   "cell_type": "markdown",
   "metadata": {},
   "source": [
    "Применим её на трёх наших регионах."
   ]
  },
  {
   "cell_type": "code",
   "execution_count": 19,
   "metadata": {},
   "outputs": [
    {
     "name": "stdout",
     "output_type": "stream",
     "text": [
      "Регион 1:\n",
      "Средняя прибыль в регионе: 408.94 млн. руб\n",
      "95% доверительный интервал: -116.36 - 961.05 млн. руб. \n",
      "Риск убытков: 6.20% vs. 2.50%\n",
      "Риск убытков неприемлем.\n",
      "\n",
      "Регион 2:\n",
      "Средняя прибыль в регионе: 489.60 млн. руб\n",
      "95% доверительный интервал: 57.43 - 940.07 млн. руб. \n",
      "Риск убытков: 1.20% vs. 2.50%\n",
      "Риск убытков приемлем.\n",
      "\n",
      "Регион 3:\n",
      "Средняя прибыль в регионе: 375.96 млн. руб\n",
      "95% доверительный интервал: -207.76 - 962.53 млн. руб. \n",
      "Риск убытков: 8.30% vs. 2.50%\n",
      "Риск убытков неприемлем.\n",
      "\n"
     ]
    }
   ],
   "source": [
    "for i in range (1,4):\n",
    "    print(f\"Регион {i}:\")\n",
    "    region_assessment(eval(''.join(['target',str(i)])),eval(''.join(['prediction',str(i)])))"
   ]
  },
  {
   "cell_type": "markdown",
   "metadata": {},
   "source": [
    "## Общий вывод.\n",
    "\n",
    "* Предоставленные данные были проанализированы.\n",
    "* Была обучена модель линейной регрессии, получены предсказания.\n",
    "* На основе предсказаний были оценены потенциальные перспективы по каждому из регионов.\n",
    "* Наиболее перспективный регион для разработки - регион 2: он единственный предполагает приемлемый уровень риска убытков."
   ]
  }
 ],
 "metadata": {
  "ExecuteTimeLog": [
   {
    "duration": 767,
    "start_time": "2023-01-24T17:00:22.034Z"
   },
   {
    "duration": 154,
    "start_time": "2023-01-24T17:00:26.751Z"
   },
   {
    "duration": 124,
    "start_time": "2023-01-24T17:00:38.680Z"
   },
   {
    "duration": 705,
    "start_time": "2023-01-24T17:00:49.638Z"
   },
   {
    "duration": 365,
    "start_time": "2023-01-24T17:00:55.695Z"
   },
   {
    "duration": 80,
    "start_time": "2023-01-24T17:01:53.076Z"
   },
   {
    "duration": 397,
    "start_time": "2023-01-24T17:02:10.731Z"
   },
   {
    "duration": 350,
    "start_time": "2023-01-24T17:02:21.557Z"
   },
   {
    "duration": 352,
    "start_time": "2023-01-24T17:03:40.078Z"
   },
   {
    "duration": 366,
    "start_time": "2023-01-24T17:03:44.310Z"
   },
   {
    "duration": 374,
    "start_time": "2023-01-24T17:03:49.739Z"
   },
   {
    "duration": 364,
    "start_time": "2023-01-24T17:05:44.448Z"
   },
   {
    "duration": 379,
    "start_time": "2023-01-24T17:05:49.014Z"
   },
   {
    "duration": 384,
    "start_time": "2023-01-24T17:05:52.167Z"
   },
   {
    "duration": 97,
    "start_time": "2023-01-24T17:06:02.404Z"
   },
   {
    "duration": 414,
    "start_time": "2023-01-24T17:06:05.893Z"
   },
   {
    "duration": 345,
    "start_time": "2023-01-24T17:06:21.818Z"
   },
   {
    "duration": 351,
    "start_time": "2023-01-24T17:06:37.191Z"
   },
   {
    "duration": 865,
    "start_time": "2023-01-24T17:14:05.962Z"
   },
   {
    "duration": 384,
    "start_time": "2023-01-24T17:14:59.184Z"
   },
   {
    "duration": 426,
    "start_time": "2023-01-24T17:15:03.508Z"
   },
   {
    "duration": 383,
    "start_time": "2023-01-24T17:16:46.062Z"
   },
   {
    "duration": 3,
    "start_time": "2023-01-24T17:17:20.565Z"
   },
   {
    "duration": 133,
    "start_time": "2023-01-24T17:19:35.291Z"
   },
   {
    "duration": 5,
    "start_time": "2023-01-24T17:19:43.184Z"
   },
   {
    "duration": 46,
    "start_time": "2023-01-24T17:19:47.175Z"
   },
   {
    "duration": 394,
    "start_time": "2023-01-24T17:20:01.459Z"
   },
   {
    "duration": 424,
    "start_time": "2023-01-24T17:23:00.013Z"
   },
   {
    "duration": 409,
    "start_time": "2023-01-24T17:23:05.446Z"
   },
   {
    "duration": 485,
    "start_time": "2023-01-24T17:23:14.903Z"
   },
   {
    "duration": 406,
    "start_time": "2023-01-24T17:23:31.338Z"
   },
   {
    "duration": 43,
    "start_time": "2023-01-24T17:23:48.616Z"
   },
   {
    "duration": 428,
    "start_time": "2023-01-24T17:24:00.471Z"
   },
   {
    "duration": 73,
    "start_time": "2023-01-24T17:25:21.922Z"
   },
   {
    "duration": 796,
    "start_time": "2023-01-24T17:25:29.005Z"
   },
   {
    "duration": 65,
    "start_time": "2023-01-24T17:25:29.803Z"
   },
   {
    "duration": 8,
    "start_time": "2023-01-24T17:25:46.108Z"
   },
   {
    "duration": 56,
    "start_time": "2023-01-24T17:26:53.244Z"
   },
   {
    "duration": 7,
    "start_time": "2023-01-24T17:30:41.677Z"
   },
   {
    "duration": 172,
    "start_time": "2023-01-24T17:30:46.157Z"
   },
   {
    "duration": 35,
    "start_time": "2023-01-24T17:31:07.027Z"
   },
   {
    "duration": 763,
    "start_time": "2023-01-24T17:31:15.795Z"
   },
   {
    "duration": 39,
    "start_time": "2023-01-24T17:31:20.639Z"
   },
   {
    "duration": 76,
    "start_time": "2023-01-24T17:34:35.840Z"
   },
   {
    "duration": 52,
    "start_time": "2023-01-24T17:34:42.365Z"
   },
   {
    "duration": 61,
    "start_time": "2023-01-24T17:34:55.781Z"
   },
   {
    "duration": 49,
    "start_time": "2023-01-24T17:35:10.843Z"
   },
   {
    "duration": 269,
    "start_time": "2023-01-24T17:42:28.262Z"
   },
   {
    "duration": 278,
    "start_time": "2023-01-24T17:42:48.937Z"
   },
   {
    "duration": 221,
    "start_time": "2023-01-24T17:42:57.149Z"
   },
   {
    "duration": 467,
    "start_time": "2023-01-24T17:44:27.592Z"
   },
   {
    "duration": 249,
    "start_time": "2023-01-24T17:44:30.760Z"
   },
   {
    "duration": 244,
    "start_time": "2023-01-24T17:44:42.584Z"
   },
   {
    "duration": 219,
    "start_time": "2023-01-24T17:44:51.163Z"
   },
   {
    "duration": 246,
    "start_time": "2023-01-24T17:45:00.986Z"
   },
   {
    "duration": 292,
    "start_time": "2023-01-24T17:45:27.866Z"
   },
   {
    "duration": 247,
    "start_time": "2023-01-24T17:45:39.369Z"
   },
   {
    "duration": 278,
    "start_time": "2023-01-24T17:46:07.489Z"
   },
   {
    "duration": 271,
    "start_time": "2023-01-24T17:46:57.672Z"
   },
   {
    "duration": 269,
    "start_time": "2023-01-24T17:47:12.278Z"
   },
   {
    "duration": 323,
    "start_time": "2023-01-24T17:48:14.913Z"
   },
   {
    "duration": 270,
    "start_time": "2023-01-24T17:48:25.130Z"
   },
   {
    "duration": 269,
    "start_time": "2023-01-24T17:48:27.073Z"
   },
   {
    "duration": 31,
    "start_time": "2023-01-24T17:51:15.020Z"
   },
   {
    "duration": 10,
    "start_time": "2023-01-24T17:56:59.767Z"
   },
   {
    "duration": 7,
    "start_time": "2023-01-24T17:57:04.734Z"
   },
   {
    "duration": 299,
    "start_time": "2023-01-24T17:57:09.006Z"
   },
   {
    "duration": 366,
    "start_time": "2023-01-24T17:57:38.670Z"
   },
   {
    "duration": 811,
    "start_time": "2023-01-24T18:01:44.221Z"
   },
   {
    "duration": 71,
    "start_time": "2023-01-24T18:01:45.035Z"
   },
   {
    "duration": 233,
    "start_time": "2023-01-24T18:01:45.108Z"
   },
   {
    "duration": 65,
    "start_time": "2023-01-24T18:01:45.344Z"
   },
   {
    "duration": 336,
    "start_time": "2023-01-24T18:01:45.410Z"
   },
   {
    "duration": 42,
    "start_time": "2023-01-24T18:01:45.748Z"
   },
   {
    "duration": 601,
    "start_time": "2023-01-24T18:01:45.792Z"
   },
   {
    "duration": 854,
    "start_time": "2023-01-24T18:02:03.686Z"
   },
   {
    "duration": 64,
    "start_time": "2023-01-24T18:02:04.542Z"
   },
   {
    "duration": 183,
    "start_time": "2023-01-24T18:02:04.608Z"
   },
   {
    "duration": 53,
    "start_time": "2023-01-24T18:02:04.793Z"
   },
   {
    "duration": 338,
    "start_time": "2023-01-24T18:02:04.849Z"
   },
   {
    "duration": 33,
    "start_time": "2023-01-24T18:02:05.189Z"
   },
   {
    "duration": 682,
    "start_time": "2023-01-24T18:02:05.224Z"
   },
   {
    "duration": 48,
    "start_time": "2023-01-24T18:03:12.104Z"
   },
   {
    "duration": 14,
    "start_time": "2023-01-24T18:03:36.958Z"
   },
   {
    "duration": 33,
    "start_time": "2023-01-24T18:03:55.205Z"
   },
   {
    "duration": 51,
    "start_time": "2023-01-24T18:04:14.199Z"
   },
   {
    "duration": 38,
    "start_time": "2023-01-24T18:05:33.743Z"
   },
   {
    "duration": 78,
    "start_time": "2023-01-24T18:05:49.324Z"
   },
   {
    "duration": 849,
    "start_time": "2023-01-24T18:05:57.063Z"
   },
   {
    "duration": 59,
    "start_time": "2023-01-24T18:05:57.913Z"
   },
   {
    "duration": 179,
    "start_time": "2023-01-24T18:05:57.973Z"
   },
   {
    "duration": 62,
    "start_time": "2023-01-24T18:05:58.154Z"
   },
   {
    "duration": 321,
    "start_time": "2023-01-24T18:05:58.218Z"
   },
   {
    "duration": 35,
    "start_time": "2023-01-24T18:05:58.540Z"
   },
   {
    "duration": 570,
    "start_time": "2023-01-24T18:05:58.576Z"
   },
   {
    "duration": 41,
    "start_time": "2023-01-24T18:05:59.147Z"
   },
   {
    "duration": 758,
    "start_time": "2023-01-24T18:06:53.621Z"
   },
   {
    "duration": 53,
    "start_time": "2023-01-24T18:06:54.381Z"
   },
   {
    "duration": 213,
    "start_time": "2023-01-24T18:06:54.436Z"
   },
   {
    "duration": 58,
    "start_time": "2023-01-24T18:06:54.651Z"
   },
   {
    "duration": 385,
    "start_time": "2023-01-24T18:06:54.711Z"
   },
   {
    "duration": 32,
    "start_time": "2023-01-24T18:06:55.098Z"
   },
   {
    "duration": 577,
    "start_time": "2023-01-24T18:06:55.132Z"
   },
   {
    "duration": 38,
    "start_time": "2023-01-24T18:06:55.711Z"
   },
   {
    "duration": 1494,
    "start_time": "2023-01-24T18:10:09.976Z"
   },
   {
    "duration": 54,
    "start_time": "2023-01-24T18:10:11.472Z"
   },
   {
    "duration": 187,
    "start_time": "2023-01-24T18:10:11.528Z"
   },
   {
    "duration": 68,
    "start_time": "2023-01-24T18:10:11.717Z"
   },
   {
    "duration": 319,
    "start_time": "2023-01-24T18:10:11.786Z"
   },
   {
    "duration": 34,
    "start_time": "2023-01-24T18:10:12.107Z"
   },
   {
    "duration": 623,
    "start_time": "2023-01-24T18:10:12.142Z"
   },
   {
    "duration": 41,
    "start_time": "2023-01-24T18:10:12.768Z"
   },
   {
    "duration": 47,
    "start_time": "2023-01-24T18:10:12.811Z"
   },
   {
    "duration": 165,
    "start_time": "2023-01-24T18:12:19.219Z"
   },
   {
    "duration": 2,
    "start_time": "2023-01-24T18:12:27.708Z"
   },
   {
    "duration": 4,
    "start_time": "2023-01-24T18:15:30.061Z"
   },
   {
    "duration": 5,
    "start_time": "2023-01-24T18:17:18.323Z"
   },
   {
    "duration": 140,
    "start_time": "2023-01-24T18:22:22.644Z"
   },
   {
    "duration": 272,
    "start_time": "2023-01-24T18:26:19.819Z"
   },
   {
    "duration": 261,
    "start_time": "2023-01-24T18:26:34.815Z"
   },
   {
    "duration": 4,
    "start_time": "2023-01-24T18:27:07.924Z"
   },
   {
    "duration": 174,
    "start_time": "2023-01-24T18:27:11.012Z"
   },
   {
    "duration": 400,
    "start_time": "2023-01-24T18:27:40.289Z"
   },
   {
    "duration": 252,
    "start_time": "2023-01-24T18:27:44.028Z"
   },
   {
    "duration": 329,
    "start_time": "2023-01-24T18:29:23.653Z"
   },
   {
    "duration": 299,
    "start_time": "2023-01-24T18:29:35.280Z"
   },
   {
    "duration": 363,
    "start_time": "2023-01-24T18:39:54.340Z"
   },
   {
    "duration": 7,
    "start_time": "2023-01-24T18:43:51.469Z"
   },
   {
    "duration": 3,
    "start_time": "2023-01-24T18:48:12.926Z"
   },
   {
    "duration": 9,
    "start_time": "2023-01-24T18:49:10.803Z"
   },
   {
    "duration": 7,
    "start_time": "2023-01-24T18:49:14.783Z"
   },
   {
    "duration": 3,
    "start_time": "2023-01-24T18:49:20.029Z"
   },
   {
    "duration": 5,
    "start_time": "2023-01-24T18:49:36.665Z"
   },
   {
    "duration": 4,
    "start_time": "2023-01-24T18:49:42.790Z"
   },
   {
    "duration": 53,
    "start_time": "2023-01-24T18:54:25.427Z"
   },
   {
    "duration": 9,
    "start_time": "2023-01-24T18:54:32.066Z"
   },
   {
    "duration": 6,
    "start_time": "2023-01-24T18:54:48.206Z"
   },
   {
    "duration": 6,
    "start_time": "2023-01-24T18:54:54.100Z"
   },
   {
    "duration": 3,
    "start_time": "2023-01-24T19:01:08.056Z"
   },
   {
    "duration": 4,
    "start_time": "2023-01-24T19:04:49.014Z"
   },
   {
    "duration": 71,
    "start_time": "2023-01-24T19:10:48.265Z"
   },
   {
    "duration": 6,
    "start_time": "2023-01-24T19:10:56.990Z"
   },
   {
    "duration": 6,
    "start_time": "2023-01-24T19:11:23.718Z"
   },
   {
    "duration": 5,
    "start_time": "2023-01-24T19:12:08.495Z"
   },
   {
    "duration": 15,
    "start_time": "2023-01-24T19:12:10.160Z"
   },
   {
    "duration": 439,
    "start_time": "2023-01-24T19:12:35.516Z"
   },
   {
    "duration": 16,
    "start_time": "2023-01-24T19:12:39.720Z"
   },
   {
    "duration": 4,
    "start_time": "2023-01-24T19:12:51.088Z"
   },
   {
    "duration": 5,
    "start_time": "2023-01-24T19:12:53.322Z"
   },
   {
    "duration": 12,
    "start_time": "2023-01-24T19:12:55.060Z"
   },
   {
    "duration": 1666,
    "start_time": "2023-01-24T19:12:56.624Z"
   },
   {
    "duration": 6,
    "start_time": "2023-01-24T19:13:31.759Z"
   },
   {
    "duration": 1651,
    "start_time": "2023-01-24T19:13:33.817Z"
   },
   {
    "duration": 6,
    "start_time": "2023-01-24T19:14:10.425Z"
   },
   {
    "duration": 11,
    "start_time": "2023-01-24T19:14:16.796Z"
   },
   {
    "duration": 1614,
    "start_time": "2023-01-24T19:14:17.984Z"
   },
   {
    "duration": 9,
    "start_time": "2023-01-24T19:14:27.392Z"
   },
   {
    "duration": 14,
    "start_time": "2023-01-24T19:21:39.879Z"
   },
   {
    "duration": 7,
    "start_time": "2023-01-24T19:21:58.320Z"
   },
   {
    "duration": 7,
    "start_time": "2023-01-24T19:22:15.426Z"
   },
   {
    "duration": 6,
    "start_time": "2023-01-24T19:22:34.609Z"
   },
   {
    "duration": 1680,
    "start_time": "2023-01-24T19:22:35.701Z"
   },
   {
    "duration": 7,
    "start_time": "2023-01-24T19:23:40.735Z"
   },
   {
    "duration": 6,
    "start_time": "2023-01-24T19:23:46.635Z"
   },
   {
    "duration": 7,
    "start_time": "2023-01-24T19:23:52.979Z"
   },
   {
    "duration": 7,
    "start_time": "2023-01-24T19:24:07.096Z"
   },
   {
    "duration": 6,
    "start_time": "2023-01-24T19:24:13.240Z"
   },
   {
    "duration": 7,
    "start_time": "2023-01-24T19:24:32.361Z"
   },
   {
    "duration": 8,
    "start_time": "2023-01-24T19:24:45.479Z"
   },
   {
    "duration": 9,
    "start_time": "2023-01-24T19:25:04.398Z"
   },
   {
    "duration": 10,
    "start_time": "2023-01-24T19:25:08.932Z"
   },
   {
    "duration": 8,
    "start_time": "2023-01-24T19:25:15.828Z"
   },
   {
    "duration": 1541,
    "start_time": "2023-01-24T19:25:18.458Z"
   },
   {
    "duration": 4,
    "start_time": "2023-01-24T19:25:51.917Z"
   },
   {
    "duration": 6,
    "start_time": "2023-01-24T19:26:23.014Z"
   },
   {
    "duration": 1646,
    "start_time": "2023-01-24T19:26:23.956Z"
   },
   {
    "duration": 6,
    "start_time": "2023-01-24T19:27:19.541Z"
   },
   {
    "duration": 1479,
    "start_time": "2023-01-24T19:27:20.689Z"
   },
   {
    "duration": 4,
    "start_time": "2023-01-24T19:28:38.730Z"
   },
   {
    "duration": 6,
    "start_time": "2023-01-24T19:28:40.860Z"
   },
   {
    "duration": 1707,
    "start_time": "2023-01-24T19:28:41.808Z"
   },
   {
    "duration": 1529,
    "start_time": "2023-01-24T19:28:48.781Z"
   },
   {
    "duration": 1577,
    "start_time": "2023-01-24T19:28:59.151Z"
   },
   {
    "duration": 6,
    "start_time": "2023-01-24T19:31:12.192Z"
   },
   {
    "duration": 1645,
    "start_time": "2023-01-24T19:31:13.112Z"
   },
   {
    "duration": 4645,
    "start_time": "2023-01-24T19:33:20.782Z"
   },
   {
    "duration": 5,
    "start_time": "2023-01-24T19:33:25.429Z"
   },
   {
    "duration": 4722,
    "start_time": "2023-01-24T19:33:26.694Z"
   },
   {
    "duration": 5,
    "start_time": "2023-01-24T19:33:51.032Z"
   },
   {
    "duration": 6,
    "start_time": "2023-01-24T19:35:20.520Z"
   },
   {
    "duration": 4942,
    "start_time": "2023-01-24T19:35:22.655Z"
   },
   {
    "duration": 6,
    "start_time": "2023-01-24T19:35:59.423Z"
   },
   {
    "duration": 4879,
    "start_time": "2023-01-24T19:36:01.860Z"
   },
   {
    "duration": 5,
    "start_time": "2023-01-24T19:36:07.649Z"
   },
   {
    "duration": 5,
    "start_time": "2023-01-24T19:36:11.784Z"
   },
   {
    "duration": 4853,
    "start_time": "2023-01-24T19:36:13.191Z"
   },
   {
    "duration": 1577,
    "start_time": "2023-01-24T19:36:47.283Z"
   },
   {
    "duration": 66,
    "start_time": "2023-01-24T19:36:48.874Z"
   },
   {
    "duration": 219,
    "start_time": "2023-01-24T19:36:48.942Z"
   },
   {
    "duration": 70,
    "start_time": "2023-01-24T19:36:49.166Z"
   },
   {
    "duration": 363,
    "start_time": "2023-01-24T19:36:49.238Z"
   },
   {
    "duration": 33,
    "start_time": "2023-01-24T19:36:49.602Z"
   },
   {
    "duration": 616,
    "start_time": "2023-01-24T19:36:49.636Z"
   },
   {
    "duration": 43,
    "start_time": "2023-01-24T19:36:50.254Z"
   },
   {
    "duration": 3,
    "start_time": "2023-01-24T19:36:50.299Z"
   },
   {
    "duration": 7,
    "start_time": "2023-01-24T19:36:50.304Z"
   },
   {
    "duration": 266,
    "start_time": "2023-01-24T19:36:50.312Z"
   },
   {
    "duration": 6,
    "start_time": "2023-01-24T19:36:50.582Z"
   },
   {
    "duration": 179,
    "start_time": "2023-01-24T19:36:50.591Z"
   },
   {
    "duration": 25,
    "start_time": "2023-01-24T19:36:50.779Z"
   },
   {
    "duration": 7,
    "start_time": "2023-01-24T19:36:50.805Z"
   },
   {
    "duration": 8,
    "start_time": "2023-01-24T19:36:50.814Z"
   },
   {
    "duration": 4502,
    "start_time": "2023-01-24T19:36:50.824Z"
   },
   {
    "duration": 5,
    "start_time": "2023-01-24T19:42:08.543Z"
   },
   {
    "duration": 4909,
    "start_time": "2023-01-24T19:42:11.420Z"
   },
   {
    "duration": 1675,
    "start_time": "2023-01-24T19:42:34.384Z"
   },
   {
    "duration": 59,
    "start_time": "2023-01-24T19:42:36.061Z"
   },
   {
    "duration": 191,
    "start_time": "2023-01-24T19:42:36.122Z"
   },
   {
    "duration": 69,
    "start_time": "2023-01-24T19:42:36.315Z"
   },
   {
    "duration": 366,
    "start_time": "2023-01-24T19:42:36.386Z"
   },
   {
    "duration": 55,
    "start_time": "2023-01-24T19:42:36.755Z"
   },
   {
    "duration": 685,
    "start_time": "2023-01-24T19:42:36.814Z"
   },
   {
    "duration": 32,
    "start_time": "2023-01-24T19:42:37.501Z"
   },
   {
    "duration": 2,
    "start_time": "2023-01-24T19:42:37.535Z"
   },
   {
    "duration": 30,
    "start_time": "2023-01-24T19:42:37.539Z"
   },
   {
    "duration": 302,
    "start_time": "2023-01-24T19:42:37.571Z"
   },
   {
    "duration": 5,
    "start_time": "2023-01-24T19:42:37.875Z"
   },
   {
    "duration": 197,
    "start_time": "2023-01-24T19:42:37.884Z"
   },
   {
    "duration": 9,
    "start_time": "2023-01-24T19:42:38.083Z"
   },
   {
    "duration": 3,
    "start_time": "2023-01-24T19:42:38.094Z"
   },
   {
    "duration": 6,
    "start_time": "2023-01-24T19:42:38.098Z"
   },
   {
    "duration": 4754,
    "start_time": "2023-01-24T19:42:38.106Z"
   },
   {
    "duration": 1600,
    "start_time": "2023-01-24T22:36:33.209Z"
   },
   {
    "duration": 57,
    "start_time": "2023-01-24T22:36:34.811Z"
   },
   {
    "duration": 221,
    "start_time": "2023-01-24T22:36:34.869Z"
   },
   {
    "duration": 65,
    "start_time": "2023-01-24T22:36:35.093Z"
   },
   {
    "duration": 338,
    "start_time": "2023-01-24T22:36:35.160Z"
   },
   {
    "duration": 44,
    "start_time": "2023-01-24T22:36:35.500Z"
   },
   {
    "duration": 581,
    "start_time": "2023-01-24T22:36:35.546Z"
   },
   {
    "duration": 34,
    "start_time": "2023-01-24T22:36:36.128Z"
   },
   {
    "duration": 3,
    "start_time": "2023-01-24T22:36:36.163Z"
   },
   {
    "duration": 4,
    "start_time": "2023-01-24T22:36:36.168Z"
   },
   {
    "duration": 353,
    "start_time": "2023-01-24T22:36:36.173Z"
   },
   {
    "duration": 97,
    "start_time": "2023-01-24T22:36:36.528Z"
   },
   {
    "duration": 100,
    "start_time": "2023-01-24T22:36:36.630Z"
   },
   {
    "duration": 6,
    "start_time": "2023-01-24T22:36:36.732Z"
   },
   {
    "duration": 8,
    "start_time": "2023-01-24T22:36:36.740Z"
   },
   {
    "duration": 6,
    "start_time": "2023-01-24T22:36:36.750Z"
   },
   {
    "duration": 4420,
    "start_time": "2023-01-24T22:36:36.757Z"
   },
   {
    "duration": 52,
    "start_time": "2023-01-25T11:58:24.534Z"
   },
   {
    "duration": 100,
    "start_time": "2023-01-25T11:58:44.182Z"
   },
   {
    "duration": 2618,
    "start_time": "2023-01-25T11:58:46.929Z"
   },
   {
    "duration": 59,
    "start_time": "2023-01-25T11:58:49.549Z"
   },
   {
    "duration": 183,
    "start_time": "2023-01-25T11:58:49.611Z"
   },
   {
    "duration": 59,
    "start_time": "2023-01-25T11:58:49.797Z"
   },
   {
    "duration": 363,
    "start_time": "2023-01-25T11:58:49.857Z"
   },
   {
    "duration": 33,
    "start_time": "2023-01-25T11:58:50.221Z"
   },
   {
    "duration": 52,
    "start_time": "2023-01-25T11:58:50.256Z"
   },
   {
    "duration": 32,
    "start_time": "2023-01-25T11:58:58.529Z"
   },
   {
    "duration": 86,
    "start_time": "2023-01-25T11:59:38.144Z"
   },
   {
    "duration": 88,
    "start_time": "2023-01-25T11:59:45.958Z"
   },
   {
    "duration": 25,
    "start_time": "2023-01-25T11:59:52.544Z"
   },
   {
    "duration": 38,
    "start_time": "2023-01-25T11:59:56.566Z"
   },
   {
    "duration": 54,
    "start_time": "2023-01-25T12:00:11.353Z"
   },
   {
    "duration": 68,
    "start_time": "2023-01-25T12:01:41.386Z"
   },
   {
    "duration": 978,
    "start_time": "2023-01-25T12:02:46.621Z"
   },
   {
    "duration": 366,
    "start_time": "2023-01-25T12:02:52.115Z"
   },
   {
    "duration": 364,
    "start_time": "2023-01-25T12:02:59.819Z"
   },
   {
    "duration": 66,
    "start_time": "2023-01-25T12:04:23.289Z"
   },
   {
    "duration": 51,
    "start_time": "2023-01-25T12:04:46.244Z"
   },
   {
    "duration": 56,
    "start_time": "2023-01-25T12:04:51.968Z"
   },
   {
    "duration": 671,
    "start_time": "2023-01-25T12:04:59.842Z"
   },
   {
    "duration": 293,
    "start_time": "2023-01-25T12:05:28.566Z"
   },
   {
    "duration": 591,
    "start_time": "2023-01-25T12:06:06.312Z"
   },
   {
    "duration": 50,
    "start_time": "2023-01-25T12:07:12.417Z"
   },
   {
    "duration": 60,
    "start_time": "2023-01-25T12:07:16.122Z"
   },
   {
    "duration": 38,
    "start_time": "2023-01-25T12:07:21.559Z"
   },
   {
    "duration": 1854,
    "start_time": "2023-01-25T12:07:33.515Z"
   },
   {
    "duration": 691,
    "start_time": "2023-01-25T12:08:11.686Z"
   },
   {
    "duration": 277,
    "start_time": "2023-01-25T12:08:29.438Z"
   },
   {
    "duration": 301,
    "start_time": "2023-01-25T12:09:04.887Z"
   },
   {
    "duration": 284,
    "start_time": "2023-01-25T12:09:13.056Z"
   },
   {
    "duration": 281,
    "start_time": "2023-01-25T12:09:19.484Z"
   },
   {
    "duration": 320,
    "start_time": "2023-01-25T12:09:24.589Z"
   },
   {
    "duration": 510,
    "start_time": "2023-01-25T12:10:25.948Z"
   },
   {
    "duration": 1984,
    "start_time": "2023-01-25T12:20:02.858Z"
   },
   {
    "duration": 1046,
    "start_time": "2023-01-25T12:20:14.415Z"
   },
   {
    "duration": 12,
    "start_time": "2023-01-25T12:20:33.134Z"
   },
   {
    "duration": 13,
    "start_time": "2023-01-25T12:20:45.028Z"
   },
   {
    "duration": 617,
    "start_time": "2023-01-25T12:20:55.882Z"
   },
   {
    "duration": 176,
    "start_time": "2023-01-25T12:21:31.043Z"
   },
   {
    "duration": 628,
    "start_time": "2023-01-25T12:21:42.934Z"
   },
   {
    "duration": 600,
    "start_time": "2023-01-25T12:22:17.282Z"
   },
   {
    "duration": 601,
    "start_time": "2023-01-25T12:22:30.477Z"
   },
   {
    "duration": 652,
    "start_time": "2023-01-25T12:23:34.296Z"
   },
   {
    "duration": 820,
    "start_time": "2023-01-25T12:24:45.439Z"
   },
   {
    "duration": 614,
    "start_time": "2023-01-25T12:25:10.857Z"
   },
   {
    "duration": 590,
    "start_time": "2023-01-25T12:25:57.068Z"
   },
   {
    "duration": 77,
    "start_time": "2023-01-25T12:31:59.253Z"
   },
   {
    "duration": 442,
    "start_time": "2023-01-25T12:32:10.730Z"
   },
   {
    "duration": 56,
    "start_time": "2023-01-25T12:32:11.174Z"
   },
   {
    "duration": 217,
    "start_time": "2023-01-25T12:32:11.232Z"
   },
   {
    "duration": 76,
    "start_time": "2023-01-25T12:32:11.451Z"
   },
   {
    "duration": 349,
    "start_time": "2023-01-25T12:32:11.529Z"
   },
   {
    "duration": 44,
    "start_time": "2023-01-25T12:32:11.880Z"
   },
   {
    "duration": 38,
    "start_time": "2023-01-25T12:32:11.926Z"
   },
   {
    "duration": 771,
    "start_time": "2023-01-25T12:32:11.965Z"
   },
   {
    "duration": 32,
    "start_time": "2023-01-25T12:32:12.737Z"
   },
   {
    "duration": 3,
    "start_time": "2023-01-25T12:32:12.772Z"
   },
   {
    "duration": 7,
    "start_time": "2023-01-25T12:32:12.792Z"
   },
   {
    "duration": 296,
    "start_time": "2023-01-25T12:32:12.803Z"
   },
   {
    "duration": 6,
    "start_time": "2023-01-25T12:32:13.108Z"
   },
   {
    "duration": 199,
    "start_time": "2023-01-25T12:32:13.117Z"
   },
   {
    "duration": 6,
    "start_time": "2023-01-25T12:33:59.510Z"
   },
   {
    "duration": 397,
    "start_time": "2023-01-25T12:40:56.611Z"
   },
   {
    "duration": 1732,
    "start_time": "2023-01-25T12:41:20.865Z"
   },
   {
    "duration": 51,
    "start_time": "2023-01-25T12:41:22.604Z"
   },
   {
    "duration": 201,
    "start_time": "2023-01-25T12:41:22.657Z"
   },
   {
    "duration": 67,
    "start_time": "2023-01-25T12:41:22.859Z"
   },
   {
    "duration": 334,
    "start_time": "2023-01-25T12:41:22.928Z"
   },
   {
    "duration": 47,
    "start_time": "2023-01-25T12:41:23.264Z"
   },
   {
    "duration": 36,
    "start_time": "2023-01-25T12:41:23.312Z"
   },
   {
    "duration": 631,
    "start_time": "2023-01-25T12:41:23.350Z"
   },
   {
    "duration": 668,
    "start_time": "2023-01-25T12:41:45.568Z"
   },
   {
    "duration": 4,
    "start_time": "2023-01-25T12:44:51.380Z"
   },
   {
    "duration": 5,
    "start_time": "2023-01-25T12:45:30.127Z"
   },
   {
    "duration": 3,
    "start_time": "2023-01-25T12:45:58.525Z"
   },
   {
    "duration": 728,
    "start_time": "2023-01-25T12:46:25.826Z"
   },
   {
    "duration": 726,
    "start_time": "2023-01-25T12:47:16.613Z"
   },
   {
    "duration": 3,
    "start_time": "2023-01-25T12:49:32.429Z"
   },
   {
    "duration": 6,
    "start_time": "2023-01-25T12:49:36.524Z"
   },
   {
    "duration": 350,
    "start_time": "2023-01-25T12:49:39.372Z"
   },
   {
    "duration": 3,
    "start_time": "2023-01-25T12:49:45.452Z"
   },
   {
    "duration": 4,
    "start_time": "2023-01-25T12:49:47.109Z"
   },
   {
    "duration": 8,
    "start_time": "2023-01-25T12:49:53.243Z"
   },
   {
    "duration": 3,
    "start_time": "2023-01-25T12:50:22.831Z"
   },
   {
    "duration": 5,
    "start_time": "2023-01-25T12:51:10.969Z"
   },
   {
    "duration": 4750,
    "start_time": "2023-01-25T12:51:25.437Z"
   },
   {
    "duration": 1743,
    "start_time": "2023-01-25T12:52:28.434Z"
   },
   {
    "duration": 56,
    "start_time": "2023-01-25T12:52:30.179Z"
   },
   {
    "duration": 199,
    "start_time": "2023-01-25T12:52:30.237Z"
   },
   {
    "duration": 70,
    "start_time": "2023-01-25T12:52:30.438Z"
   },
   {
    "duration": 343,
    "start_time": "2023-01-25T12:52:30.510Z"
   },
   {
    "duration": 51,
    "start_time": "2023-01-25T12:52:30.855Z"
   },
   {
    "duration": 36,
    "start_time": "2023-01-25T12:52:30.908Z"
   },
   {
    "duration": 4,
    "start_time": "2023-01-25T12:52:30.946Z"
   },
   {
    "duration": 622,
    "start_time": "2023-01-25T12:52:30.952Z"
   },
   {
    "duration": 783,
    "start_time": "2023-01-25T12:52:31.578Z"
   },
   {
    "duration": 3,
    "start_time": "2023-01-25T12:52:32.363Z"
   },
   {
    "duration": 6,
    "start_time": "2023-01-25T12:52:32.368Z"
   },
   {
    "duration": 228,
    "start_time": "2023-01-25T12:52:32.375Z"
   },
   {
    "duration": 3,
    "start_time": "2023-01-25T12:52:32.605Z"
   },
   {
    "duration": 113,
    "start_time": "2023-01-25T12:52:32.691Z"
   },
   {
    "duration": 18,
    "start_time": "2023-01-25T12:52:32.807Z"
   },
   {
    "duration": 5,
    "start_time": "2023-01-25T12:52:32.826Z"
   },
   {
    "duration": 6,
    "start_time": "2023-01-25T12:52:32.834Z"
   },
   {
    "duration": 4854,
    "start_time": "2023-01-25T12:52:32.842Z"
   },
   {
    "duration": 128,
    "start_time": "2023-01-25T12:56:04.017Z"
   },
   {
    "duration": 1831,
    "start_time": "2023-01-25T12:56:14.505Z"
   },
   {
    "duration": 64,
    "start_time": "2023-01-25T12:56:16.339Z"
   },
   {
    "duration": 216,
    "start_time": "2023-01-25T12:56:16.405Z"
   },
   {
    "duration": 54,
    "start_time": "2023-01-25T12:56:16.623Z"
   },
   {
    "duration": 373,
    "start_time": "2023-01-25T12:56:16.678Z"
   },
   {
    "duration": 70,
    "start_time": "2023-01-25T12:56:17.053Z"
   },
   {
    "duration": 36,
    "start_time": "2023-01-25T12:56:17.125Z"
   },
   {
    "duration": 4,
    "start_time": "2023-01-25T12:56:17.164Z"
   },
   {
    "duration": 653,
    "start_time": "2023-01-25T12:56:17.192Z"
   },
   {
    "duration": 720,
    "start_time": "2023-01-25T12:56:17.847Z"
   },
   {
    "duration": 3,
    "start_time": "2023-01-25T12:56:18.568Z"
   },
   {
    "duration": 24,
    "start_time": "2023-01-25T12:56:18.573Z"
   },
   {
    "duration": 211,
    "start_time": "2023-01-25T12:56:18.604Z"
   },
   {
    "duration": 76,
    "start_time": "2023-01-25T12:56:18.817Z"
   },
   {
    "duration": 101,
    "start_time": "2023-01-25T12:56:18.895Z"
   },
   {
    "duration": 32,
    "start_time": "2023-01-25T12:56:18.998Z"
   },
   {
    "duration": 9,
    "start_time": "2023-01-25T12:56:19.032Z"
   },
   {
    "duration": 13,
    "start_time": "2023-01-25T12:56:19.043Z"
   },
   {
    "duration": 4704,
    "start_time": "2023-01-25T12:56:19.058Z"
   },
   {
    "duration": 1176,
    "start_time": "2023-03-27T23:06:48.751Z"
   },
   {
    "duration": 1708,
    "start_time": "2023-03-27T23:06:57.772Z"
   },
   {
    "duration": 52,
    "start_time": "2023-03-27T23:07:28.929Z"
   },
   {
    "duration": 198,
    "start_time": "2023-03-27T23:07:48.839Z"
   },
   {
    "duration": 61,
    "start_time": "2023-03-27T23:07:50.902Z"
   },
   {
    "duration": 320,
    "start_time": "2023-03-27T23:08:05.088Z"
   },
   {
    "duration": 32,
    "start_time": "2023-03-27T23:08:18.897Z"
   },
   {
    "duration": 34,
    "start_time": "2023-03-27T23:08:24.427Z"
   },
   {
    "duration": 4,
    "start_time": "2023-03-27T23:08:33.997Z"
   },
   {
    "duration": 611,
    "start_time": "2023-03-27T23:08:37.459Z"
   },
   {
    "duration": 649,
    "start_time": "2023-03-27T23:08:56.143Z"
   }
  ],
  "kernelspec": {
   "display_name": "Python 3 (ipykernel)",
   "language": "python",
   "name": "python3"
  },
  "language_info": {
   "codemirror_mode": {
    "name": "ipython",
    "version": 3
   },
   "file_extension": ".py",
   "mimetype": "text/x-python",
   "name": "python",
   "nbconvert_exporter": "python",
   "pygments_lexer": "ipython3",
   "version": "3.9.5"
  },
  "toc": {
   "base_numbering": 1,
   "nav_menu": {},
   "number_sections": true,
   "sideBar": true,
   "skip_h1_title": true,
   "title_cell": "Table of Contents",
   "title_sidebar": "Contents",
   "toc_cell": false,
   "toc_position": {},
   "toc_section_display": true,
   "toc_window_display": false
  }
 },
 "nbformat": 4,
 "nbformat_minor": 2
}
