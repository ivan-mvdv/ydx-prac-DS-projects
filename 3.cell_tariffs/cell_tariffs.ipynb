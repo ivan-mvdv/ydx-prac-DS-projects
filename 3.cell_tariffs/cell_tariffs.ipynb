{
 "cells": [
  {
   "cell_type": "markdown",
   "metadata": {},
   "source": [
    "# Рекомендация тарифов"
   ]
  },
  {
   "cell_type": "markdown",
   "metadata": {},
   "source": [
    "В вашем распоряжении данные о поведении клиентов, которые уже перешли на эти тарифы (из проекта курса «Статистический анализ данных»). Нужно построить модель для задачи классификации, которая выберет подходящий тариф. Предобработка данных не понадобится — вы её уже сделали.\n",
    "\n",
    "Постройте модель с максимально большим значением *accuracy*. Чтобы сдать проект успешно, нужно довести долю правильных ответов по крайней мере до 0.75. Проверьте *accuracy* на тестовой выборке самостоятельно."
   ]
  },
  {
   "cell_type": "markdown",
   "metadata": {},
   "source": [
    "**План исследования:**\n",
    "\n",
    "* Ознакомиться с данными\n",
    "* Разбить данные на выборки (Обучающая, валидационная, тестовая)\n",
    "* Построить модель по методу случайного дерева, зафиксировать налучшие гиперпараметры\n",
    "* Построить модель по методу случайного леса,зафиксировать налучшие гиперпараметры\n",
    "* Построить модель по методу логистической регрессии\n",
    "* Сравнить точность предсказания самых эффективных имплементаций каждого из методов, определить наилучший\n",
    "* Проверить модели с наилучшими гиперпараметрами на тестовой выборке"
   ]
  },
  {
   "cell_type": "markdown",
   "metadata": {},
   "source": [
    "## Откройте и изучите файл"
   ]
  },
  {
   "cell_type": "code",
   "execution_count": 17,
   "metadata": {},
   "outputs": [],
   "source": [
    "# импорт библиотек и функций\n",
    "import pandas as pd\n",
    "from tqdm.auto import tqdm\n",
    "\n",
    "from sklearn.metrics import accuracy_score, classification_report, confusion_matrix\n",
    "from sklearn.model_selection import train_test_split\n",
    "\n",
    "from sklearn.tree import DecisionTreeClassifier \n",
    "from sklearn.ensemble import RandomForestClassifier\n",
    "from sklearn.linear_model import LogisticRegression"
   ]
  },
  {
   "cell_type": "code",
   "execution_count": 5,
   "metadata": {},
   "outputs": [
    {
     "name": "stdout",
     "output_type": "stream",
     "text": [
      "<class 'pandas.core.frame.DataFrame'>\n",
      "RangeIndex: 3214 entries, 0 to 3213\n",
      "Data columns (total 5 columns):\n",
      " #   Column    Non-Null Count  Dtype  \n",
      "---  ------    --------------  -----  \n",
      " 0   calls     3214 non-null   float64\n",
      " 1   minutes   3214 non-null   float64\n",
      " 2   messages  3214 non-null   float64\n",
      " 3   mb_used   3214 non-null   float64\n",
      " 4   is_ultra  3214 non-null   int64  \n",
      "dtypes: float64(4), int64(1)\n",
      "memory usage: 125.7 KB\n"
     ]
    },
    {
     "data": {
      "text/html": [
       "<div>\n",
       "<style scoped>\n",
       "    .dataframe tbody tr th:only-of-type {\n",
       "        vertical-align: middle;\n",
       "    }\n",
       "\n",
       "    .dataframe tbody tr th {\n",
       "        vertical-align: top;\n",
       "    }\n",
       "\n",
       "    .dataframe thead th {\n",
       "        text-align: right;\n",
       "    }\n",
       "</style>\n",
       "<table border=\"1\" class=\"dataframe\">\n",
       "  <thead>\n",
       "    <tr style=\"text-align: right;\">\n",
       "      <th></th>\n",
       "      <th>calls</th>\n",
       "      <th>minutes</th>\n",
       "      <th>messages</th>\n",
       "      <th>mb_used</th>\n",
       "      <th>is_ultra</th>\n",
       "    </tr>\n",
       "  </thead>\n",
       "  <tbody>\n",
       "    <tr>\n",
       "      <th>0</th>\n",
       "      <td>40.0</td>\n",
       "      <td>311.90</td>\n",
       "      <td>83.0</td>\n",
       "      <td>19915.42</td>\n",
       "      <td>0</td>\n",
       "    </tr>\n",
       "    <tr>\n",
       "      <th>1</th>\n",
       "      <td>85.0</td>\n",
       "      <td>516.75</td>\n",
       "      <td>56.0</td>\n",
       "      <td>22696.96</td>\n",
       "      <td>0</td>\n",
       "    </tr>\n",
       "    <tr>\n",
       "      <th>2</th>\n",
       "      <td>77.0</td>\n",
       "      <td>467.66</td>\n",
       "      <td>86.0</td>\n",
       "      <td>21060.45</td>\n",
       "      <td>0</td>\n",
       "    </tr>\n",
       "    <tr>\n",
       "      <th>3</th>\n",
       "      <td>106.0</td>\n",
       "      <td>745.53</td>\n",
       "      <td>81.0</td>\n",
       "      <td>8437.39</td>\n",
       "      <td>1</td>\n",
       "    </tr>\n",
       "    <tr>\n",
       "      <th>4</th>\n",
       "      <td>66.0</td>\n",
       "      <td>418.74</td>\n",
       "      <td>1.0</td>\n",
       "      <td>14502.75</td>\n",
       "      <td>0</td>\n",
       "    </tr>\n",
       "  </tbody>\n",
       "</table>\n",
       "</div>"
      ],
      "text/plain": [
       "   calls  minutes  messages   mb_used  is_ultra\n",
       "0   40.0   311.90      83.0  19915.42         0\n",
       "1   85.0   516.75      56.0  22696.96         0\n",
       "2   77.0   467.66      86.0  21060.45         0\n",
       "3  106.0   745.53      81.0   8437.39         1\n",
       "4   66.0   418.74       1.0  14502.75         0"
      ]
     },
     "execution_count": 5,
     "metadata": {},
     "output_type": "execute_result"
    }
   ],
   "source": [
    "#импорт файла\n",
    "df = pd.read_csv('/datasets/users_behavior.csv')\n",
    "df.info()\n",
    "df.head()"
   ]
  },
  {
   "cell_type": "code",
   "execution_count": 6,
   "metadata": {},
   "outputs": [
    {
     "data": {
      "text/plain": [
       "0.30647168637212197"
      ]
     },
     "execution_count": 6,
     "metadata": {},
     "output_type": "execute_result"
    }
   ],
   "source": [
    "df['is_ultra'].mean()"
   ]
  },
  {
   "cell_type": "markdown",
   "metadata": {},
   "source": [
    "**Выводы:**\n",
    "* Одна строка - один пользователь\n",
    "* Целевой параметр - is_ultra\n",
    "* Доля пользователей тарифа ultra - ~30%"
   ]
  },
  {
   "cell_type": "markdown",
   "metadata": {},
   "source": [
    "## Разбейте данные на выборки"
   ]
  },
  {
   "cell_type": "markdown",
   "metadata": {},
   "source": [
    "Разобью данные на  обучающую, валидационную и тестовую выборки в соотношении 3:1:1 со стратификацией по is_ultra.\n",
    "Сначала разделю датасет на параметры и целевой параметр, затем разобью каждый из наборов на выборки."
   ]
  },
  {
   "cell_type": "code",
   "execution_count": 7,
   "metadata": {},
   "outputs": [
    {
     "name": "stdout",
     "output_type": "stream",
     "text": [
      "   calls  minutes  messages   mb_used\n",
      "0   40.0   311.90      83.0  19915.42\n",
      "1   85.0   516.75      56.0  22696.96\n",
      "2   77.0   467.66      86.0  21060.45\n",
      "3  106.0   745.53      81.0   8437.39\n",
      "4   66.0   418.74       1.0  14502.75 \n",
      " \n",
      " 0    0\n",
      "1    0\n",
      "2    0\n",
      "3    1\n",
      "4    0\n",
      "Name: is_ultra, dtype: int64\n"
     ]
    }
   ],
   "source": [
    "df_features = df.drop(columns = 'is_ultra')\n",
    "df_target = df['is_ultra']\n",
    "print(df_features.head(),'\\n','\\n',df_target.head())"
   ]
  },
  {
   "cell_type": "code",
   "execution_count": 8,
   "metadata": {},
   "outputs": [],
   "source": [
    "features_train, features_test, target_train, target_test = train_test_split(df_features,\n",
    "                                                                df_target,     \n",
    "                                                                test_size=0.2,\n",
    "                                                                random_state=1234, \n",
    "                                                                stratify=df_target\n",
    "                                                                           )"
   ]
  },
  {
   "cell_type": "markdown",
   "metadata": {},
   "source": [
    "Далее \"отщипну\" валидационную выборку от \"обучающей\"."
   ]
  },
  {
   "cell_type": "code",
   "execution_count": 9,
   "metadata": {},
   "outputs": [],
   "source": [
    "features_train, features_valid, target_train, target_valid = train_test_split(features_train,\n",
    "                                                                target_train,     \n",
    "                                                                test_size=0.25,\n",
    "                                                                random_state=1234, \n",
    "                                                                stratify=target_train\n",
    "                                                                             )"
   ]
  },
  {
   "cell_type": "markdown",
   "metadata": {},
   "source": [
    "Проверю размеры выборок"
   ]
  },
  {
   "cell_type": "code",
   "execution_count": 10,
   "metadata": {},
   "outputs": [
    {
     "name": "stdout",
     "output_type": "stream",
     "text": [
      "Length of features_train: 1928 \n",
      "\n",
      "Length of target_train: 1928 \n",
      "\n",
      "Length of features_valid: 643 \n",
      "\n",
      "Length of target_valid: 643 \n",
      "\n",
      "Length of features_test: 643 \n",
      "\n",
      "Length of target_test: 643 \n",
      "\n"
     ]
    }
   ],
   "source": [
    "sample_list = ['train','valid','test']\n",
    "split_list = ['features', 'target']\n",
    "\n",
    "for sample in sample_list:\n",
    "    for split in split_list:\n",
    "        print (f'Length of {split}_{sample}:', len(eval(''.join([split,'_',sample]))),'\\n')"
   ]
  },
  {
   "cell_type": "markdown",
   "metadata": {},
   "source": [
    "**Вывод:**\n",
    "Данные разбиты в нужных соотношениях со стратификацией по is_ultra."
   ]
  },
  {
   "cell_type": "markdown",
   "metadata": {},
   "source": [
    "## Исследуйте модели"
   ]
  },
  {
   "cell_type": "markdown",
   "metadata": {},
   "source": [
    "### Случайное дерево"
   ]
  },
  {
   "cell_type": "markdown",
   "metadata": {},
   "source": [
    "Для начала построим модель по методу случайного дерева с переборкой глубины дерева, зафиксируем лучшие результаты."
   ]
  },
  {
   "cell_type": "code",
   "execution_count": 18,
   "metadata": {},
   "outputs": [
    {
     "data": {
      "application/vnd.jupyter.widget-view+json": {
       "model_id": "28b275a8cf27433683079e4e5755c392",
       "version_major": 2,
       "version_minor": 0
      },
      "text/plain": [
       "  0%|          | 0/10 [00:00<?, ?it/s]"
      ]
     },
     "metadata": {},
     "output_type": "display_data"
    },
    {
     "name": "stdout",
     "output_type": "stream",
     "text": [
      "Best accuracy = 0.7993779160186625 at depth = 3\n"
     ]
    },
    {
     "data": {
      "image/png": "[encoded data removed]",
      "text/plain": [
       "<Figure size 432x288 with 1 Axes>"
      ]
     },
     "metadata": {
      "needs_background": "light"
     },
     "output_type": "display_data"
    }
   ],
   "source": [
    "depth_accuracy = []\n",
    "depth_list = []\n",
    "\n",
    "# Осуществим перебор по глубине дерева\n",
    "\n",
    "for depth in tqdm(range(1,11)):\n",
    "    model = DecisionTreeClassifier(max_depth = depth, random_state = 1234)\n",
    "    model.fit(features_train, target_train)\n",
    "    predictions_valid = model.predict(features_valid)\n",
    "    accuracy = accuracy_score(target_valid, predictions_valid)\n",
    "    depth_list.append(depth)\n",
    "    depth_accuracy.append(accuracy)\n",
    "\n",
    "# Сохраним параметры наилучшей модели \n",
    "tree_parameters = {'depth': depth_list[depth_accuracy.index(max(depth_accuracy))],\\\n",
    "                   'accuracy':max(depth_accuracy)}\n",
    "\n",
    "# Сохраним саму наилучшую модель\n",
    "model_tree = DecisionTreeClassifier(max_depth = tree_parameters['depth'], random_state = 1234)\n",
    "\n",
    "# Выведем параметры модели для наглядности\n",
    "print(f\"Best accuracy = {tree_parameters['accuracy']} at depth = {tree_parameters['depth']}\")\n",
    "\n",
    "# Построим график\n",
    "pd.DataFrame(list(zip(depth_list,depth_accuracy)),columns = ['depth','accuracy'])\\\n",
    ".plot(grid = True, x = 'depth', y = 'accuracy', kind = 'bar', ylim=(0.7,1),\\\n",
    "      title = 'Random tree accuracy by depth');"
   ]
  },
  {
   "cell_type": "markdown",
   "metadata": {},
   "source": [
    "**Вывод:** \n",
    "При использовании метода случайного дерева наилучшая точность - 0,799 при глубине дерева = 3"
   ]
  },
  {
   "cell_type": "markdown",
   "metadata": {},
   "source": [
    "### Случайный лес"
   ]
  },
  {
   "cell_type": "markdown",
   "metadata": {},
   "source": [
    "Аналогично построим модель по методу случайного леса с переборкой количества эстиматоров и максимальной глубины дерева, зафиксируем лучшие результаты."
   ]
  },
  {
   "cell_type": "code",
   "execution_count": 19,
   "metadata": {},
   "outputs": [
    {
     "data": {
      "application/vnd.jupyter.widget-view+json": {
       "model_id": "705f4cbcf7784bf1a8378b959bb3abea",
       "version_major": 2,
       "version_minor": 0
      },
      "text/plain": [
       "  0%|          | 0/20 [00:00<?, ?it/s]"
      ]
     },
     "metadata": {},
     "output_type": "display_data"
    },
    {
     "data": {
      "application/vnd.jupyter.widget-view+json": {
       "model_id": "6c7b3e1502f64e29843cc140ea40ce3e",
       "version_major": 2,
       "version_minor": 0
      },
      "text/plain": [
       "  0%|          | 0/9 [00:00<?, ?it/s]"
      ]
     },
     "metadata": {},
     "output_type": "display_data"
    },
    {
     "data": {
      "application/vnd.jupyter.widget-view+json": {
       "model_id": "250a6205efcc4ccab8eb407fce7ba20a",
       "version_major": 2,
       "version_minor": 0
      },
      "text/plain": [
       "  0%|          | 0/9 [00:00<?, ?it/s]"
      ]
     },
     "metadata": {},
     "output_type": "display_data"
    },
    {
     "data": {
      "application/vnd.jupyter.widget-view+json": {
       "model_id": "b1747ea1ceed4b01adf368b6350780eb",
       "version_major": 2,
       "version_minor": 0
      },
      "text/plain": [
       "  0%|          | 0/9 [00:00<?, ?it/s]"
      ]
     },
     "metadata": {},
     "output_type": "display_data"
    },
    {
     "data": {
      "application/vnd.jupyter.widget-view+json": {
       "model_id": "fb51cbe9ae6a43878e9380e835ac2825",
       "version_major": 2,
       "version_minor": 0
      },
      "text/plain": [
       "  0%|          | 0/9 [00:00<?, ?it/s]"
      ]
     },
     "metadata": {},
     "output_type": "display_data"
    },
    {
     "data": {
      "application/vnd.jupyter.widget-view+json": {
       "model_id": "8b7f162a7d5e4ca6906b0636a1dd2793",
       "version_major": 2,
       "version_minor": 0
      },
      "text/plain": [
       "  0%|          | 0/9 [00:00<?, ?it/s]"
      ]
     },
     "metadata": {},
     "output_type": "display_data"
    },
    {
     "data": {
      "application/vnd.jupyter.widget-view+json": {
       "model_id": "1149fa173c61434e8420ffb8255f39f9",
       "version_major": 2,
       "version_minor": 0
      },
      "text/plain": [
       "  0%|          | 0/9 [00:00<?, ?it/s]"
      ]
     },
     "metadata": {},
     "output_type": "display_data"
    },
    {
     "data": {
      "application/vnd.jupyter.widget-view+json": {
       "model_id": "de018217be8742ca90acfdf5d0a966f4",
       "version_major": 2,
       "version_minor": 0
      },
      "text/plain": [
       "  0%|          | 0/9 [00:00<?, ?it/s]"
      ]
     },
     "metadata": {},
     "output_type": "display_data"
    },
    {
     "data": {
      "application/vnd.jupyter.widget-view+json": {
       "model_id": "ce12fa814be44a18b33f82e3fe468588",
       "version_major": 2,
       "version_minor": 0
      },
      "text/plain": [
       "  0%|          | 0/9 [00:00<?, ?it/s]"
      ]
     },
     "metadata": {},
     "output_type": "display_data"
    },
    {
     "data": {
      "application/vnd.jupyter.widget-view+json": {
       "model_id": "551e99deb4c2426bb05c9cfcfe2ce4d2",
       "version_major": 2,
       "version_minor": 0
      },
      "text/plain": [
       "  0%|          | 0/9 [00:00<?, ?it/s]"
      ]
     },
     "metadata": {},
     "output_type": "display_data"
    },
    {
     "data": {
      "application/vnd.jupyter.widget-view+json": {
       "model_id": "c250c0c0b86c46338efebce10414ffc4",
       "version_major": 2,
       "version_minor": 0
      },
      "text/plain": [
       "  0%|          | 0/9 [00:00<?, ?it/s]"
      ]
     },
     "metadata": {},
     "output_type": "display_data"
    },
    {
     "data": {
      "application/vnd.jupyter.widget-view+json": {
       "model_id": "e5ce97fd3516484dbb980e5a4f62225c",
       "version_major": 2,
       "version_minor": 0
      },
      "text/plain": [
       "  0%|          | 0/9 [00:00<?, ?it/s]"
      ]
     },
     "metadata": {},
     "output_type": "display_data"
    },
    {
     "data": {
      "application/vnd.jupyter.widget-view+json": {
       "model_id": "33dd325427594e5da658e1c9a53ce198",
       "version_major": 2,
       "version_minor": 0
      },
      "text/plain": [
       "  0%|          | 0/9 [00:00<?, ?it/s]"
      ]
     },
     "metadata": {},
     "output_type": "display_data"
    },
    {
     "data": {
      "application/vnd.jupyter.widget-view+json": {
       "model_id": "a2feb5cd3edc4eeb874f8233a3ad5e28",
       "version_major": 2,
       "version_minor": 0
      },
      "text/plain": [
       "  0%|          | 0/9 [00:00<?, ?it/s]"
      ]
     },
     "metadata": {},
     "output_type": "display_data"
    },
    {
     "data": {
      "application/vnd.jupyter.widget-view+json": {
       "model_id": "957a7bad340647b3b3216379aeda7817",
       "version_major": 2,
       "version_minor": 0
      },
      "text/plain": [
       "  0%|          | 0/9 [00:00<?, ?it/s]"
      ]
     },
     "metadata": {},
     "output_type": "display_data"
    },
    {
     "data": {
      "application/vnd.jupyter.widget-view+json": {
       "model_id": "af29220f57b44be6b378dc130c83e655",
       "version_major": 2,
       "version_minor": 0
      },
      "text/plain": [
       "  0%|          | 0/9 [00:00<?, ?it/s]"
      ]
     },
     "metadata": {},
     "output_type": "display_data"
    },
    {
     "data": {
      "application/vnd.jupyter.widget-view+json": {
       "model_id": "e0914ed7acf44fb283f9233ff5738899",
       "version_major": 2,
       "version_minor": 0
      },
      "text/plain": [
       "  0%|          | 0/9 [00:00<?, ?it/s]"
      ]
     },
     "metadata": {},
     "output_type": "display_data"
    },
    {
     "data": {
      "application/vnd.jupyter.widget-view+json": {
       "model_id": "bfc9fcbe468e48acb477db9a25dc926f",
       "version_major": 2,
       "version_minor": 0
      },
      "text/plain": [
       "  0%|          | 0/9 [00:00<?, ?it/s]"
      ]
     },
     "metadata": {},
     "output_type": "display_data"
    },
    {
     "data": {
      "application/vnd.jupyter.widget-view+json": {
       "model_id": "164d4c67b7ae429cb75112f8bb5d88f3",
       "version_major": 2,
       "version_minor": 0
      },
      "text/plain": [
       "  0%|          | 0/9 [00:00<?, ?it/s]"
      ]
     },
     "metadata": {},
     "output_type": "display_data"
    },
    {
     "data": {
      "application/vnd.jupyter.widget-view+json": {
       "model_id": "5c1ea0346b4542df843f0d4c35b732d4",
       "version_major": 2,
       "version_minor": 0
      },
      "text/plain": [
       "  0%|          | 0/9 [00:00<?, ?it/s]"
      ]
     },
     "metadata": {},
     "output_type": "display_data"
    },
    {
     "data": {
      "application/vnd.jupyter.widget-view+json": {
       "model_id": "402d4a542b974858b9aa3565c149bbdb",
       "version_major": 2,
       "version_minor": 0
      },
      "text/plain": [
       "  0%|          | 0/9 [00:00<?, ?it/s]"
      ]
     },
     "metadata": {},
     "output_type": "display_data"
    },
    {
     "name": "stdout",
     "output_type": "stream",
     "text": [
      "Best accuracy = 0.8133748055987559 at No. of estimators = 3 and max depth = 7\n"
     ]
    },
    {
     "data": {
      "image/png": "[encoded data removed]",
      "text/plain": [
       "<Figure size 432x288 with 1 Axes>"
      ]
     },
     "metadata": {
      "needs_background": "light"
     },
     "output_type": "display_data"
    }
   ],
   "source": [
    "est_accuracy = []\n",
    "est_list = []\n",
    "est_accuracy_depth = []\n",
    "\n",
    "# Осуществим перебор по количеству эстиматоров\n",
    "for est in tqdm(range(1, 21)):\n",
    "    depth_accuracy = []\n",
    "    depth_list = []\n",
    "    # Осуществим перебор по максимальной глубине дерева\n",
    "    for depth in tqdm(range (1,10)):\n",
    "        model = RandomForestClassifier(random_state=1234, n_estimators=est, max_depth = depth)\n",
    "        model.fit(features_train, target_train)\n",
    "        result = model.score(features_valid, target_valid)\n",
    "        depth_list.append(depth)\n",
    "        depth_accuracy.append(result)\n",
    "    est_list.append(est)\n",
    "    est_accuracy.append(max(depth_accuracy))\n",
    "    est_accuracy_depth.append(depth_list[depth_accuracy.index(max(depth_accuracy))])\n",
    "    \n",
    "# Сохраним параметры наилучшей модели\n",
    "forest_parameters = {'est':est_list[est_accuracy.index(max(est_accuracy))],\\\n",
    "                     'accuracy':max(est_accuracy),\\\n",
    "                     'depth':est_accuracy_depth[est_accuracy.index(max(est_accuracy))]} \n",
    "\n",
    "# Сохраним модель с налиучшими параметрами\n",
    "model_forest = RandomForestClassifier(random_state=1234, n_estimators=forest_parameters['est'],\\\n",
    "                                     max_depth=forest_parameters['depth'])\n",
    "\n",
    "# Выведем параметры модели для наглядности\n",
    "print(f\"Best accuracy = {forest_parameters['accuracy']} at No. of estimators = {forest_parameters['est']}\"\\\n",
    "      f\" and max depth = {forest_parameters['depth']}\")\n",
    "\n",
    "# Построим график\n",
    "pd.DataFrame(list(zip(est_list,est_accuracy)),columns=['est','accuracy'])\\\n",
    ".plot(grid = True, x = 'est', y = 'accuracy', kind = 'bar', ylim=(0.7,1),\\\n",
    "      title = 'Random Forest accuracy by No. of est.');"
   ]
  },
  {
   "cell_type": "markdown",
   "metadata": {},
   "source": [
    "**Вывод:** При использовании метода случайного леса наилучшая точность - 0,813 при количестве эстиматоров = 3 и максимальной глубине дерева = 7"
   ]
  },
  {
   "cell_type": "markdown",
   "metadata": {},
   "source": [
    "### Логистическая регрессия"
   ]
  },
  {
   "cell_type": "markdown",
   "metadata": {},
   "source": [
    "Теперь построим модель по методу логистической регрессии, зафиксируем результаты."
   ]
  },
  {
   "cell_type": "code",
   "execution_count": 20,
   "metadata": {},
   "outputs": [
    {
     "data": {
      "application/vnd.jupyter.widget-view+json": {
       "model_id": "1d8928dc52824982ab54fbacb637d08d",
       "version_major": 2,
       "version_minor": 0
      },
      "text/plain": [
       "  0%|          | 0/15 [00:00<?, ?it/s]"
      ]
     },
     "metadata": {},
     "output_type": "display_data"
    },
    {
     "name": "stdout",
     "output_type": "stream",
     "text": [
      "Best accuracy = 0.7371695178849145at No. of iterations = 100\n"
     ]
    },
    {
     "data": {
      "image/png": "[encoded data removed]",
      "text/plain": [
       "<Figure size 432x288 with 1 Axes>"
      ]
     },
     "metadata": {
      "needs_background": "light"
     },
     "output_type": "display_data"
    }
   ],
   "source": [
    "iter_accuracy = []\n",
    "iter_list = []\n",
    "\n",
    "# Осуществим перебор по количеству итераций с шагом 100\n",
    "for iters in tqdm(range(100,1501,100)):\n",
    "    model = LogisticRegression(random_state=1234, solver='lbfgs', max_iter = iters)\n",
    "    model.fit(features_train, target_train)\n",
    "    result = model.score(features_valid, target_valid)\n",
    "    iter_accuracy.append (result)\n",
    "    iter_list.append (iters)\n",
    "\n",
    "# Сохраним параметры наилучшей модели\n",
    "regression_parameters = {'iter':iter_list[iter_accuracy.index(max(iter_accuracy))],\\\n",
    "                        'accuracy':max(iter_accuracy)}\n",
    "\n",
    "# Выведем их для наглядности\n",
    "print(f\"Best accuracy = {regression_parameters['accuracy']}\"\\\n",
    "      f\"at No. of iterations = {regression_parameters['iter']}\")\n",
    "\n",
    "#Сохраним наилучшую модель \n",
    "model_regression = LogisticRegression(random_state=1234, solver='lbfgs',\n",
    "                                      max_iter = regression_parameters['iter'])\n",
    "\n",
    "#Построим график\n",
    "pd.DataFrame(list(zip(iter_list,iter_accuracy)),columns = ['iter_no','accuracy'])\\\n",
    ".plot(grid = True, x = 'iter_no', y = 'accuracy', kind = 'bar', ylim=(0.7,0.75),\\\n",
    "      title = 'Logistic Regression accuracy by No. of iterations');"
   ]
  },
  {
   "cell_type": "markdown",
   "metadata": {},
   "source": [
    "**Вывод:** При использовании метода логистической регрессии наилучшая точность - 0,737, количество итераций в интервале от 100 до 1500 не влияет на точность модели."
   ]
  },
  {
   "cell_type": "markdown",
   "metadata": {},
   "source": [
    "**Общий вывод:** Наилучшие результаты достигаются при использовании модели случайного леса. Сохранены все оптимизированные модели."
   ]
  },
  {
   "cell_type": "markdown",
   "metadata": {},
   "source": [
    "## Проверьте модель на тестовой выборке"
   ]
  },
  {
   "cell_type": "markdown",
   "metadata": {},
   "source": [
    "Проверим наилучшие имплементации каждого из методов на тестовой выборке."
   ]
  },
  {
   "cell_type": "code",
   "execution_count": 21,
   "metadata": {},
   "outputs": [
    {
     "data": {
      "text/html": [
       "<div>\n",
       "<style scoped>\n",
       "    .dataframe tbody tr th:only-of-type {\n",
       "        vertical-align: middle;\n",
       "    }\n",
       "\n",
       "    .dataframe tbody tr th {\n",
       "        vertical-align: top;\n",
       "    }\n",
       "\n",
       "    .dataframe thead th {\n",
       "        text-align: right;\n",
       "    }\n",
       "</style>\n",
       "<table border=\"1\" class=\"dataframe\">\n",
       "  <thead>\n",
       "    <tr style=\"text-align: right;\">\n",
       "      <th></th>\n",
       "      <th>method</th>\n",
       "      <th>accuracy</th>\n",
       "    </tr>\n",
       "  </thead>\n",
       "  <tbody>\n",
       "    <tr>\n",
       "      <th>0</th>\n",
       "      <td>tree</td>\n",
       "      <td>0.774495</td>\n",
       "    </tr>\n",
       "    <tr>\n",
       "      <th>1</th>\n",
       "      <td>forest</td>\n",
       "      <td>0.777605</td>\n",
       "    </tr>\n",
       "    <tr>\n",
       "      <th>2</th>\n",
       "      <td>regression</td>\n",
       "      <td>0.738725</td>\n",
       "    </tr>\n",
       "  </tbody>\n",
       "</table>\n",
       "</div>"
      ],
      "text/plain": [
       "       method  accuracy\n",
       "0        tree  0.774495\n",
       "1      forest  0.777605\n",
       "2  regression  0.738725"
      ]
     },
     "execution_count": 21,
     "metadata": {},
     "output_type": "execute_result"
    },
    {
     "data": {
      "image/png": "[encoded data removed]",
      "text/plain": [
       "<Figure size 432x288 with 1 Axes>"
      ]
     },
     "metadata": {
      "needs_background": "light"
     },
     "output_type": "display_data"
    }
   ],
   "source": [
    "method_list = ['tree','forest','regression']\n",
    "method_accuracy = []\n",
    "\n",
    "# Проверим наилучшие из моделей на тестовой выборке\n",
    "for method in method_list:\n",
    "    model = eval(''.join(['model_',method]))\n",
    "    model.fit(features_train, target_train)\n",
    "    predict = model.predict(features_test)\n",
    "    accuracy = accuracy_score(target_test, predict)\n",
    "    method_accuracy.append(accuracy)\n",
    "\n",
    "# Посмотрим, какая из моделей наиболее точная, визуализируем   \n",
    "method_comp = pd.DataFrame(list(zip(method_list,method_accuracy)),columns = ['method','accuracy'])\n",
    "method_comp.plot(grid = True, x = 'method', y = 'accuracy', kind = 'bar', ylim=(0.7,1),\\\n",
    "                 title = 'Accuracy by Model method')\n",
    "method_comp"
   ]
  },
  {
   "cell_type": "markdown",
   "metadata": {},
   "source": [
    "**Выводы:**  \n",
    "Налучшие показатели на тестовой выборке показала модель случайного леса (точность - 0,778).  \n",
    "Для предсказаний стоит пользоваться моделью случайного леса с параметрами:\n",
    "* Количество эстиматоров = 3\n",
    "* Максимальная глубина дерева = 7"
   ]
  },
  {
   "cell_type": "markdown",
   "metadata": {},
   "source": [
    "## Проверка моделей на адекватность."
   ]
  },
  {
   "cell_type": "markdown",
   "metadata": {},
   "source": [
    "Успешность решения задачи бинарной классификации можно оценить с помощью метрик чувствительности, специфичности и точности.\n",
    "Эти метрики высчитываются из оценок истинных и ложных положительных и негативных результатов классификации.  \n",
    "\n",
    "Построим матрицы запутанности для каждой модели."
   ]
  },
  {
   "cell_type": "code",
   "execution_count": 11,
   "metadata": {},
   "outputs": [
    {
     "name": "stdout",
     "output_type": "stream",
     "text": [
      "tree\n",
      "[[403  43]\n",
      " [102  95]] \n",
      "\n",
      "forest\n",
      "[[406  40]\n",
      " [103  94]] \n",
      "\n",
      "regression\n",
      "[[431  15]\n",
      " [153  44]] \n",
      "\n"
     ]
    }
   ],
   "source": [
    "for method in method_list:\n",
    "    model = eval(''.join(['model_',method]))\n",
    "    model.fit(features_train, target_train)\n",
    "    predict = model.predict(features_test)\n",
    "    print(method)\n",
    "    print(confusion_matrix(target_test, predict),'\\n')"
   ]
  },
  {
   "cell_type": "markdown",
   "metadata": {},
   "source": [
    "Каждая из моделей склонна к ложнопозитивной оценке - все обладают достаточно низкой чувствительностью.\n",
    "При этом вероятность пропустить истинно положительный результат минимальна: будет высокая оценка precision.  \n",
    "\n",
    "F1-score, который может оценить адекватность модели в целом, в каждом случае будет невелик.  \n",
    "В подтверждение этого построю classification_report для каждой модели."
   ]
  },
  {
   "cell_type": "code",
   "execution_count": 12,
   "metadata": {},
   "outputs": [
    {
     "name": "stdout",
     "output_type": "stream",
     "text": [
      "tree\n",
      "              precision    recall  f1-score   support\n",
      "\n",
      "           0       0.80      0.90      0.85       446\n",
      "           1       0.69      0.48      0.57       197\n",
      "\n",
      "    accuracy                           0.77       643\n",
      "   macro avg       0.74      0.69      0.71       643\n",
      "weighted avg       0.76      0.77      0.76       643\n",
      " \n",
      "\n",
      "forest\n",
      "              precision    recall  f1-score   support\n",
      "\n",
      "           0       0.80      0.91      0.85       446\n",
      "           1       0.70      0.48      0.57       197\n",
      "\n",
      "    accuracy                           0.78       643\n",
      "   macro avg       0.75      0.69      0.71       643\n",
      "weighted avg       0.77      0.78      0.76       643\n",
      " \n",
      "\n",
      "regression\n",
      "              precision    recall  f1-score   support\n",
      "\n",
      "           0       0.74      0.97      0.84       446\n",
      "           1       0.75      0.22      0.34       197\n",
      "\n",
      "    accuracy                           0.74       643\n",
      "   macro avg       0.74      0.59      0.59       643\n",
      "weighted avg       0.74      0.74      0.69       643\n",
      " \n",
      "\n"
     ]
    }
   ],
   "source": [
    "for method in method_list:\n",
    "    model = eval(''.join(['model_',method]))\n",
    "    model.fit(features_train, target_train)\n",
    "    predict = model.predict(features_test)\n",
    "    print(method)\n",
    "    print(classification_report(target_test, predict),'\\n')"
   ]
  },
  {
   "cell_type": "markdown",
   "metadata": {},
   "source": [
    "**Вывод:**  \n",
    "Адекватность модели на невысоком уровне. Причина, возможно, в выборке - она, вероятно, не очень сбалансирована."
   ]
  },
  {
   "cell_type": "markdown",
   "metadata": {},
   "source": [
    "## Общий вывод:\n",
    "* Данные были оценены и разбиты на выборки со стратификацией по тарифу.\n",
    "* Были построены предиктивные модели разных видов с подбором оптимальных гиперпараметров.\n",
    "* Наилучшие модели были проверены на тестовой выборке.  \n",
    "Определена лучшая - модель случайного леса с 3 эстиматорами и наибольшей глубиной дерева = 7. Точность модели на тестовой выборке составила 0,778\n",
    "* Проанализированы прочие метрики адекватности модели. Признана невысокой - вероятно, из-за несбалансированной выборки."
   ]
  }
 ],
 "metadata": {
  "ExecuteTimeLog": [
   {
    "duration": 1263,
    "start_time": "2023-01-11T10:35:37.781Z"
   },
   {
    "duration": 210,
    "start_time": "2023-01-11T10:37:08.095Z"
   },
   {
    "duration": 5,
    "start_time": "2023-01-11T10:38:54.436Z"
   },
   {
    "duration": 11,
    "start_time": "2023-01-11T10:43:12.990Z"
   },
   {
    "duration": 9,
    "start_time": "2023-01-11T10:43:26.315Z"
   },
   {
    "duration": 10,
    "start_time": "2023-01-11T10:43:47.494Z"
   },
   {
    "duration": 9,
    "start_time": "2023-01-11T10:47:38.239Z"
   },
   {
    "duration": 6,
    "start_time": "2023-01-11T10:47:45.193Z"
   },
   {
    "duration": 8,
    "start_time": "2023-01-11T10:47:49.074Z"
   },
   {
    "duration": 7,
    "start_time": "2023-01-11T10:49:26.233Z"
   },
   {
    "duration": 4,
    "start_time": "2023-01-11T10:54:07.888Z"
   },
   {
    "duration": 4,
    "start_time": "2023-01-11T10:54:20.826Z"
   },
   {
    "duration": 108,
    "start_time": "2023-01-11T10:56:51.502Z"
   },
   {
    "duration": 5,
    "start_time": "2023-01-11T10:57:17.463Z"
   },
   {
    "duration": 61,
    "start_time": "2023-01-11T11:01:50.780Z"
   },
   {
    "duration": 65,
    "start_time": "2023-01-11T11:02:19.811Z"
   },
   {
    "duration": 12,
    "start_time": "2023-01-11T11:03:50.429Z"
   },
   {
    "duration": 163,
    "start_time": "2023-01-11T11:04:24.355Z"
   },
   {
    "duration": 95,
    "start_time": "2023-01-11T11:04:49.037Z"
   },
   {
    "duration": 11,
    "start_time": "2023-01-11T11:05:18.861Z"
   },
   {
    "duration": 7,
    "start_time": "2023-01-11T11:06:13.408Z"
   },
   {
    "duration": 1312,
    "start_time": "2023-01-11T11:09:34.233Z"
   },
   {
    "duration": 5,
    "start_time": "2023-01-11T11:09:35.547Z"
   },
   {
    "duration": 28,
    "start_time": "2023-01-11T11:09:35.554Z"
   },
   {
    "duration": 49,
    "start_time": "2023-01-11T11:09:38.893Z"
   },
   {
    "duration": 110,
    "start_time": "2023-01-11T11:09:47.208Z"
   },
   {
    "duration": 7,
    "start_time": "2023-01-11T11:09:49.105Z"
   },
   {
    "duration": 6,
    "start_time": "2023-01-11T11:09:51.496Z"
   },
   {
    "duration": 5,
    "start_time": "2023-01-11T11:09:54.409Z"
   },
   {
    "duration": 1195,
    "start_time": "2023-01-11T11:11:04.519Z"
   },
   {
    "duration": 6,
    "start_time": "2023-01-11T11:11:05.716Z"
   },
   {
    "duration": 17,
    "start_time": "2023-01-11T11:11:05.724Z"
   },
   {
    "duration": 16,
    "start_time": "2023-01-11T11:11:05.743Z"
   },
   {
    "duration": 7,
    "start_time": "2023-01-11T11:11:09.658Z"
   },
   {
    "duration": 6,
    "start_time": "2023-01-11T11:11:11.801Z"
   },
   {
    "duration": 74,
    "start_time": "2023-01-11T11:16:11.463Z"
   },
   {
    "duration": 102,
    "start_time": "2023-01-11T11:16:20.120Z"
   },
   {
    "duration": 52,
    "start_time": "2023-01-11T11:17:53.910Z"
   },
   {
    "duration": 90,
    "start_time": "2023-01-11T11:17:59.783Z"
   },
   {
    "duration": 100,
    "start_time": "2023-01-11T11:18:04.791Z"
   },
   {
    "duration": 113,
    "start_time": "2023-01-11T11:19:13.638Z"
   },
   {
    "duration": 189,
    "start_time": "2023-01-11T11:19:21.556Z"
   },
   {
    "duration": 233,
    "start_time": "2023-01-11T11:19:28.778Z"
   },
   {
    "duration": 974,
    "start_time": "2023-01-11T11:24:32.685Z"
   },
   {
    "duration": 475,
    "start_time": "2023-01-11T11:24:49.224Z"
   },
   {
    "duration": 444,
    "start_time": "2023-01-11T11:24:55.173Z"
   },
   {
    "duration": 418,
    "start_time": "2023-01-11T11:25:55.769Z"
   },
   {
    "duration": 555,
    "start_time": "2023-01-11T11:28:03.509Z"
   },
   {
    "duration": 456,
    "start_time": "2023-01-11T11:28:17.276Z"
   },
   {
    "duration": 472,
    "start_time": "2023-01-11T11:28:55.677Z"
   },
   {
    "duration": 440,
    "start_time": "2023-01-11T11:29:37.557Z"
   },
   {
    "duration": 189,
    "start_time": "2023-01-11T11:29:42.345Z"
   },
   {
    "duration": 198,
    "start_time": "2023-01-11T11:30:05.981Z"
   },
   {
    "duration": 193,
    "start_time": "2023-01-11T11:30:10.542Z"
   },
   {
    "duration": 187,
    "start_time": "2023-01-11T11:30:53.964Z"
   },
   {
    "duration": 196,
    "start_time": "2023-01-11T11:32:12.547Z"
   },
   {
    "duration": 434,
    "start_time": "2023-01-11T11:32:17.182Z"
   },
   {
    "duration": 45,
    "start_time": "2023-01-11T11:35:55.643Z"
   },
   {
    "duration": 437,
    "start_time": "2023-01-11T11:36:44.241Z"
   },
   {
    "duration": 457,
    "start_time": "2023-01-11T11:36:49.942Z"
   },
   {
    "duration": 1891,
    "start_time": "2023-01-11T11:43:31.345Z"
   },
   {
    "duration": 1319,
    "start_time": "2023-01-11T11:43:39.870Z"
   },
   {
    "duration": 1419,
    "start_time": "2023-01-11T11:44:24.578Z"
   },
   {
    "duration": 1271,
    "start_time": "2023-01-11T11:48:13.416Z"
   },
   {
    "duration": 294,
    "start_time": "2023-01-11T12:05:53.248Z"
   },
   {
    "duration": 198,
    "start_time": "2023-01-11T12:06:44.053Z"
   },
   {
    "duration": 18010,
    "start_time": "2023-01-11T12:07:00.142Z"
   },
   {
    "duration": 16770,
    "start_time": "2023-01-11T12:08:19.318Z"
   },
   {
    "duration": 433,
    "start_time": "2023-01-11T12:13:36.691Z"
   },
   {
    "duration": 69,
    "start_time": "2023-01-11T12:15:28.665Z"
   },
   {
    "duration": 69,
    "start_time": "2023-01-11T12:15:56.760Z"
   },
   {
    "duration": 455,
    "start_time": "2023-01-11T12:15:59.972Z"
   },
   {
    "duration": 58,
    "start_time": "2023-01-11T12:16:33.670Z"
   },
   {
    "duration": 16655,
    "start_time": "2023-01-11T12:16:51.257Z"
   },
   {
    "duration": 65,
    "start_time": "2023-01-11T12:23:05.561Z"
   },
   {
    "duration": 51,
    "start_time": "2023-01-11T12:24:06.458Z"
   },
   {
    "duration": 54,
    "start_time": "2023-01-11T12:24:11.662Z"
   },
   {
    "duration": 142,
    "start_time": "2023-01-11T12:24:21.494Z"
   },
   {
    "duration": 4,
    "start_time": "2023-01-11T12:24:27.399Z"
   },
   {
    "duration": 6,
    "start_time": "2023-01-11T12:24:31.853Z"
   },
   {
    "duration": 593,
    "start_time": "2023-01-11T12:24:46.600Z"
   },
   {
    "duration": 555,
    "start_time": "2023-01-11T12:25:00.693Z"
   },
   {
    "duration": 536,
    "start_time": "2023-01-11T12:25:15.009Z"
   },
   {
    "duration": 1043,
    "start_time": "2023-01-11T12:25:25.110Z"
   },
   {
    "duration": 1336,
    "start_time": "2023-01-11T12:25:49.918Z"
   },
   {
    "duration": 6,
    "start_time": "2023-01-11T12:25:51.257Z"
   },
   {
    "duration": 49,
    "start_time": "2023-01-11T12:25:51.265Z"
   },
   {
    "duration": 47,
    "start_time": "2023-01-11T12:25:51.316Z"
   },
   {
    "duration": 29,
    "start_time": "2023-01-11T12:25:51.365Z"
   },
   {
    "duration": 57,
    "start_time": "2023-01-11T12:25:51.396Z"
   },
   {
    "duration": 347,
    "start_time": "2023-01-11T12:25:51.455Z"
   },
   {
    "duration": 0,
    "start_time": "2023-01-11T12:25:51.804Z"
   },
   {
    "duration": 0,
    "start_time": "2023-01-11T12:25:51.806Z"
   },
   {
    "duration": 1232,
    "start_time": "2023-01-11T12:26:04.174Z"
   },
   {
    "duration": 5,
    "start_time": "2023-01-11T12:26:05.409Z"
   },
   {
    "duration": 38,
    "start_time": "2023-01-11T12:26:05.416Z"
   },
   {
    "duration": 41,
    "start_time": "2023-01-11T12:26:05.456Z"
   },
   {
    "duration": 26,
    "start_time": "2023-01-11T12:26:05.500Z"
   },
   {
    "duration": 20,
    "start_time": "2023-01-11T12:26:05.529Z"
   },
   {
    "duration": 699,
    "start_time": "2023-01-11T12:29:12.907Z"
   },
   {
    "duration": 407,
    "start_time": "2023-01-11T12:29:24.715Z"
   },
   {
    "duration": 15827,
    "start_time": "2023-01-11T12:30:40.914Z"
   },
   {
    "duration": 59,
    "start_time": "2023-01-11T12:31:36.338Z"
   },
   {
    "duration": 49,
    "start_time": "2023-01-11T12:31:44.478Z"
   },
   {
    "duration": 1500,
    "start_time": "2023-01-11T12:31:51.996Z"
   },
   {
    "duration": 851,
    "start_time": "2023-01-11T12:32:12.256Z"
   },
   {
    "duration": 752,
    "start_time": "2023-01-11T12:32:32.361Z"
   },
   {
    "duration": 780,
    "start_time": "2023-01-11T12:33:55.132Z"
   },
   {
    "duration": 135,
    "start_time": "2023-01-11T12:35:12.956Z"
   },
   {
    "duration": 15321,
    "start_time": "2023-01-11T12:35:23.078Z"
   },
   {
    "duration": 259,
    "start_time": "2023-01-11T12:39:01.312Z"
   },
   {
    "duration": 6748,
    "start_time": "2023-01-11T12:39:03.973Z"
   },
   {
    "duration": 292,
    "start_time": "2023-01-11T12:40:48.718Z"
   },
   {
    "duration": 6733,
    "start_time": "2023-01-11T12:41:47.498Z"
   },
   {
    "duration": 836,
    "start_time": "2023-01-11T12:44:07.769Z"
   },
   {
    "duration": 3,
    "start_time": "2023-01-11T12:45:45.072Z"
   },
   {
    "duration": 66,
    "start_time": "2023-01-11T12:51:47.042Z"
   },
   {
    "duration": 236,
    "start_time": "2023-01-11T12:51:54.444Z"
   },
   {
    "duration": 14,
    "start_time": "2023-01-11T12:52:02.285Z"
   },
   {
    "duration": 17,
    "start_time": "2023-01-11T12:52:14.643Z"
   },
   {
    "duration": 1125,
    "start_time": "2023-01-11T12:52:32.617Z"
   },
   {
    "duration": 7,
    "start_time": "2023-01-11T12:52:33.745Z"
   },
   {
    "duration": 27,
    "start_time": "2023-01-11T12:52:33.754Z"
   },
   {
    "duration": 36,
    "start_time": "2023-01-11T12:52:33.784Z"
   },
   {
    "duration": 29,
    "start_time": "2023-01-11T12:52:33.823Z"
   },
   {
    "duration": 31,
    "start_time": "2023-01-11T12:52:33.855Z"
   },
   {
    "duration": 543,
    "start_time": "2023-01-11T12:52:33.888Z"
   },
   {
    "duration": 6427,
    "start_time": "2023-01-11T12:52:34.433Z"
   },
   {
    "duration": 758,
    "start_time": "2023-01-11T12:52:40.862Z"
   },
   {
    "duration": 131,
    "start_time": "2023-01-11T12:52:41.621Z"
   },
   {
    "duration": 785,
    "start_time": "2023-01-11T12:52:56.755Z"
   },
   {
    "duration": 276,
    "start_time": "2023-01-11T12:53:04.124Z"
   },
   {
    "duration": 189,
    "start_time": "2023-01-11T12:53:45.416Z"
   },
   {
    "duration": 6623,
    "start_time": "2023-01-11T12:55:19.123Z"
   },
   {
    "duration": 14283,
    "start_time": "2023-01-11T12:55:40.143Z"
   },
   {
    "duration": 6453,
    "start_time": "2023-01-11T12:56:05.897Z"
   },
   {
    "duration": 6528,
    "start_time": "2023-01-11T12:56:25.661Z"
   },
   {
    "duration": 69,
    "start_time": "2023-01-11T13:13:47.061Z"
   },
   {
    "duration": 18,
    "start_time": "2023-01-11T13:14:22.692Z"
   },
   {
    "duration": 203,
    "start_time": "2023-01-11T13:14:26.698Z"
   },
   {
    "duration": 1208,
    "start_time": "2023-01-11T13:16:57.992Z"
   },
   {
    "duration": 4,
    "start_time": "2023-01-11T13:16:59.202Z"
   },
   {
    "duration": 28,
    "start_time": "2023-01-11T13:16:59.208Z"
   },
   {
    "duration": 12,
    "start_time": "2023-01-11T13:16:59.238Z"
   },
   {
    "duration": 12,
    "start_time": "2023-01-11T13:16:59.252Z"
   },
   {
    "duration": 10,
    "start_time": "2023-01-11T13:16:59.265Z"
   },
   {
    "duration": 136,
    "start_time": "2023-01-11T13:16:59.277Z"
   },
   {
    "duration": 0,
    "start_time": "2023-01-11T13:16:59.414Z"
   },
   {
    "duration": 0,
    "start_time": "2023-01-11T13:16:59.416Z"
   },
   {
    "duration": 0,
    "start_time": "2023-01-11T13:16:59.417Z"
   },
   {
    "duration": 1187,
    "start_time": "2023-01-11T13:17:45.671Z"
   },
   {
    "duration": 4,
    "start_time": "2023-01-11T13:17:46.860Z"
   },
   {
    "duration": 24,
    "start_time": "2023-01-11T13:17:46.865Z"
   },
   {
    "duration": 9,
    "start_time": "2023-01-11T13:17:46.891Z"
   },
   {
    "duration": 6,
    "start_time": "2023-01-11T13:17:46.901Z"
   },
   {
    "duration": 10,
    "start_time": "2023-01-11T13:17:46.909Z"
   },
   {
    "duration": 555,
    "start_time": "2023-01-11T13:17:46.920Z"
   },
   {
    "duration": 6603,
    "start_time": "2023-01-11T13:17:47.488Z"
   },
   {
    "duration": 738,
    "start_time": "2023-01-11T13:17:54.095Z"
   },
   {
    "duration": 291,
    "start_time": "2023-01-11T13:17:54.835Z"
   },
   {
    "duration": 45,
    "start_time": "2023-01-11T13:19:11.498Z"
   },
   {
    "duration": 1231,
    "start_time": "2023-01-11T13:19:17.644Z"
   },
   {
    "duration": 17,
    "start_time": "2023-01-11T13:19:18.876Z"
   },
   {
    "duration": 25,
    "start_time": "2023-01-11T13:19:18.895Z"
   },
   {
    "duration": 27,
    "start_time": "2023-01-11T13:19:18.923Z"
   },
   {
    "duration": 40,
    "start_time": "2023-01-11T13:19:18.951Z"
   },
   {
    "duration": 22,
    "start_time": "2023-01-11T13:19:18.994Z"
   },
   {
    "duration": 547,
    "start_time": "2023-01-11T13:19:19.018Z"
   },
   {
    "duration": 6747,
    "start_time": "2023-01-11T13:19:19.568Z"
   },
   {
    "duration": 780,
    "start_time": "2023-01-11T13:19:26.317Z"
   },
   {
    "duration": 300,
    "start_time": "2023-01-11T13:19:27.099Z"
   },
   {
    "duration": 101,
    "start_time": "2023-01-11T13:22:54.426Z"
   },
   {
    "duration": 28,
    "start_time": "2023-01-11T13:23:02.370Z"
   },
   {
    "duration": 138,
    "start_time": "2023-01-11T13:23:17.509Z"
   },
   {
    "duration": 31,
    "start_time": "2023-01-11T13:24:12.489Z"
   },
   {
    "duration": 23,
    "start_time": "2023-01-11T13:24:36.549Z"
   },
   {
    "duration": 47,
    "start_time": "2023-01-11T13:26:55.004Z"
   },
   {
    "duration": 38,
    "start_time": "2023-01-11T13:27:07.862Z"
   },
   {
    "duration": 39,
    "start_time": "2023-01-11T13:27:20.258Z"
   },
   {
    "duration": 34,
    "start_time": "2023-01-11T13:27:34.659Z"
   },
   {
    "duration": 9,
    "start_time": "2023-01-11T13:29:14.966Z"
   },
   {
    "duration": 8,
    "start_time": "2023-01-11T13:29:20.509Z"
   },
   {
    "duration": 21,
    "start_time": "2023-01-11T13:29:58.023Z"
   },
   {
    "duration": 81,
    "start_time": "2023-01-11T13:30:36.926Z"
   },
   {
    "duration": 16,
    "start_time": "2023-01-11T13:30:59.721Z"
   },
   {
    "duration": 86,
    "start_time": "2023-01-11T13:31:09.801Z"
   },
   {
    "duration": 71,
    "start_time": "2023-01-11T13:31:39.798Z"
   },
   {
    "duration": 45,
    "start_time": "2023-01-11T13:32:23.692Z"
   },
   {
    "duration": 68,
    "start_time": "2023-01-11T13:32:35.037Z"
   },
   {
    "duration": 95,
    "start_time": "2023-01-11T13:34:33.847Z"
   },
   {
    "duration": 101,
    "start_time": "2023-01-11T13:39:57.321Z"
   },
   {
    "duration": 77,
    "start_time": "2023-01-11T13:42:01.618Z"
   },
   {
    "duration": 1223,
    "start_time": "2023-01-11T13:42:08.349Z"
   },
   {
    "duration": 8,
    "start_time": "2023-01-11T13:42:09.574Z"
   },
   {
    "duration": 33,
    "start_time": "2023-01-11T13:42:09.586Z"
   },
   {
    "duration": 26,
    "start_time": "2023-01-11T13:42:09.620Z"
   },
   {
    "duration": 24,
    "start_time": "2023-01-11T13:42:09.648Z"
   },
   {
    "duration": 36,
    "start_time": "2023-01-11T13:42:09.674Z"
   },
   {
    "duration": 592,
    "start_time": "2023-01-11T13:42:09.712Z"
   },
   {
    "duration": 6710,
    "start_time": "2023-01-11T13:42:10.308Z"
   },
   {
    "duration": 816,
    "start_time": "2023-01-11T13:42:17.020Z"
   },
   {
    "duration": 306,
    "start_time": "2023-01-11T13:42:17.838Z"
   },
   {
    "duration": 82,
    "start_time": "2023-01-11T13:42:18.146Z"
   },
   {
    "duration": 92,
    "start_time": "2023-01-11T13:42:18.230Z"
   },
   {
    "duration": 193,
    "start_time": "2023-01-11T13:48:57.111Z"
   },
   {
    "duration": 1142,
    "start_time": "2023-01-11T13:52:55.214Z"
   },
   {
    "duration": 5,
    "start_time": "2023-01-11T13:52:56.359Z"
   },
   {
    "duration": 20,
    "start_time": "2023-01-11T13:52:56.366Z"
   },
   {
    "duration": 11,
    "start_time": "2023-01-11T13:52:56.392Z"
   },
   {
    "duration": 6,
    "start_time": "2023-01-11T13:52:56.406Z"
   },
   {
    "duration": 11,
    "start_time": "2023-01-11T13:52:56.414Z"
   },
   {
    "duration": 566,
    "start_time": "2023-01-11T13:52:56.427Z"
   },
   {
    "duration": 6322,
    "start_time": "2023-01-11T13:52:56.995Z"
   },
   {
    "duration": 701,
    "start_time": "2023-01-11T13:53:03.318Z"
   },
   {
    "duration": 288,
    "start_time": "2023-01-11T13:53:04.020Z"
   },
   {
    "duration": 78,
    "start_time": "2023-01-11T13:53:04.310Z"
   },
   {
    "duration": 71,
    "start_time": "2023-01-11T13:53:04.390Z"
   },
   {
    "duration": 687,
    "start_time": "2023-01-11T14:38:59.572Z"
   },
   {
    "duration": 242,
    "start_time": "2023-01-11T14:47:11.338Z"
   },
   {
    "duration": 73,
    "start_time": "2023-01-11T14:51:01.606Z"
   },
   {
    "duration": 5992,
    "start_time": "2023-01-11T14:51:08.952Z"
   },
   {
    "duration": 6098,
    "start_time": "2023-01-11T14:53:26.707Z"
   },
   {
    "duration": 217,
    "start_time": "2023-01-11T14:54:27.587Z"
   },
   {
    "duration": 253,
    "start_time": "2023-01-11T14:54:30.739Z"
   },
   {
    "duration": 6349,
    "start_time": "2023-01-11T14:54:44.684Z"
   },
   {
    "duration": 60,
    "start_time": "2023-01-11T14:56:27.465Z"
   },
   {
    "duration": 659,
    "start_time": "2023-01-11T14:56:56.878Z"
   },
   {
    "duration": 75,
    "start_time": "2023-01-11T14:57:04.419Z"
   },
   {
    "duration": 705,
    "start_time": "2023-01-11T14:57:07.044Z"
   },
   {
    "duration": 786,
    "start_time": "2023-01-11T14:57:11.021Z"
   },
   {
    "duration": 6067,
    "start_time": "2023-01-11T14:59:14.677Z"
   },
   {
    "duration": 52,
    "start_time": "2023-01-11T14:59:43.013Z"
   },
   {
    "duration": 230,
    "start_time": "2023-01-11T14:59:54.570Z"
   },
   {
    "duration": 42,
    "start_time": "2023-01-11T15:00:25.234Z"
   },
   {
    "duration": 55,
    "start_time": "2023-01-11T15:00:39.318Z"
   },
   {
    "duration": 675,
    "start_time": "2023-01-11T15:00:46.643Z"
   },
   {
    "duration": 190,
    "start_time": "2023-01-11T15:01:13.134Z"
   },
   {
    "duration": 200,
    "start_time": "2023-01-11T15:01:17.729Z"
   },
   {
    "duration": 6269,
    "start_time": "2023-01-11T15:02:55.884Z"
   },
   {
    "duration": 5953,
    "start_time": "2023-01-11T15:04:30.612Z"
   },
   {
    "duration": 5877,
    "start_time": "2023-01-11T15:05:08.208Z"
   },
   {
    "duration": 108744,
    "start_time": "2023-01-11T15:05:36.653Z"
   },
   {
    "duration": 5118,
    "start_time": "2023-01-11T15:09:13.208Z"
   },
   {
    "duration": 5460,
    "start_time": "2023-01-11T15:09:30.180Z"
   },
   {
    "duration": 1145,
    "start_time": "2023-03-27T21:02:03.954Z"
   },
   {
    "duration": 4,
    "start_time": "2023-03-27T21:07:02.022Z"
   },
   {
    "duration": 44,
    "start_time": "2023-03-27T21:07:06.573Z"
   },
   {
    "duration": 3,
    "start_time": "2023-03-27T21:07:15.024Z"
   },
   {
    "duration": 46,
    "start_time": "2023-03-27T21:07:16.165Z"
   },
   {
    "duration": 5,
    "start_time": "2023-03-27T21:07:18.006Z"
   },
   {
    "duration": 10,
    "start_time": "2023-03-27T21:07:20.423Z"
   },
   {
    "duration": 6,
    "start_time": "2023-03-27T21:07:21.677Z"
   },
   {
    "duration": 6,
    "start_time": "2023-03-27T21:07:23.544Z"
   },
   {
    "duration": 4,
    "start_time": "2023-03-27T21:07:25.550Z"
   },
   {
    "duration": 469,
    "start_time": "2023-03-27T21:07:29.272Z"
   },
   {
    "duration": 5826,
    "start_time": "2023-03-27T21:07:39.498Z"
   },
   {
    "duration": 503,
    "start_time": "2023-03-27T21:07:50.685Z"
   },
   {
    "duration": 170,
    "start_time": "2023-03-27T21:08:03.426Z"
   },
   {
    "duration": 114,
    "start_time": "2023-03-27T21:09:21.428Z"
   },
   {
    "duration": 6,
    "start_time": "2023-03-27T21:09:29.884Z"
   },
   {
    "duration": 113,
    "start_time": "2023-03-27T21:10:13.783Z"
   },
   {
    "duration": 266,
    "start_time": "2023-03-27T21:10:33.393Z"
   },
   {
    "duration": 6814,
    "start_time": "2023-03-27T21:10:47.889Z"
   },
   {
    "duration": 634,
    "start_time": "2023-03-27T21:11:10.084Z"
   },
   {
    "duration": 173,
    "start_time": "2023-03-27T21:11:18.877Z"
   }
  ],
  "kernelspec": {
   "display_name": "Python 3 (ipykernel)",
   "language": "python",
   "name": "python3"
  },
  "language_info": {
   "codemirror_mode": {
    "name": "ipython",
    "version": 3
   },
   "file_extension": ".py",
   "mimetype": "text/x-python",
   "name": "python",
   "nbconvert_exporter": "python",
   "pygments_lexer": "ipython3",
   "version": "3.9.5"
  },
  "toc": {
   "base_numbering": 1,
   "nav_menu": {},
   "number_sections": true,
   "sideBar": true,
   "skip_h1_title": true,
   "title_cell": "Table of Contents",
   "title_sidebar": "Contents",
   "toc_cell": false,
   "toc_position": {},
   "toc_section_display": true,
   "toc_window_display": false
  }
 },
 "nbformat": 4,
 "nbformat_minor": 2
}
