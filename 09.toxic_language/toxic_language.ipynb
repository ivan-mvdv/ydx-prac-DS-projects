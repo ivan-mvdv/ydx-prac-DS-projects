{
 "cells": [
  {
   "cell_type": "markdown",
   "metadata": {
    "toc": true
   },
   "source": [
    "<h1>Содержание<span class=\"tocSkip\"></span></h1>\n",
    "<div class=\"toc\"><ul class=\"toc-item\"><li><span><a href=\"#Подготовка\" data-toc-modified-id=\"Подготовка-1\"><span class=\"toc-item-num\">1&nbsp;&nbsp;</span>Подготовка</a></span><ul class=\"toc-item\"><li><span><a href=\"#Вывод:\" data-toc-modified-id=\"Вывод:-1.1\"><span class=\"toc-item-num\">1.1&nbsp;&nbsp;</span>Вывод:</a></span></li></ul></li><li><span><a href=\"#Обучение\" data-toc-modified-id=\"Обучение-2\"><span class=\"toc-item-num\">2&nbsp;&nbsp;</span>Обучение</a></span></li><li><span><a href=\"#Выводы\" data-toc-modified-id=\"Выводы-3\"><span class=\"toc-item-num\">3&nbsp;&nbsp;</span>Выводы</a></span></li><li><span><a href=\"#Чек-лист-проверки\" data-toc-modified-id=\"Чек-лист-проверки-4\"><span class=\"toc-item-num\">4&nbsp;&nbsp;</span>Чек-лист проверки</a></span></li></ul></div>"
   ]
  },
  {
   "cell_type": "markdown",
   "metadata": {},
   "source": [
    "# Проект для «Викишоп»"
   ]
  },
  {
   "cell_type": "markdown",
   "metadata": {},
   "source": [
    "Интернет-магазин «Викишоп» запускает новый сервис. Теперь пользователи могут редактировать и дополнять описания товаров, как в вики-сообществах. То есть клиенты предлагают свои правки и комментируют изменения других. Магазину нужен инструмент, который будет искать токсичные комментарии и отправлять их на модерацию. \n",
    "\n",
    "Обучите модель классифицировать комментарии на позитивные и негативные. В вашем распоряжении набор данных с разметкой о токсичности правок.\n",
    "\n",
    "Постройте модель со значением метрики качества *F1* не меньше 0.75. \n",
    "\n",
    "**Инструкция по выполнению проекта**\n",
    "\n",
    "1. Загрузите и подготовьте данные.\n",
    "2. Обучите разные модели. \n",
    "3. Сделайте выводы.\n",
    "\n",
    "Для выполнения проекта применять *BERT* необязательно, но вы можете попробовать.\n",
    "\n",
    "**Описание данных**\n",
    "\n",
    "Данные находятся в файле `toxic_comments.csv`. Столбец *text* в нём содержит текст комментария, а *toxic* — целевой признак."
   ]
  },
  {
   "cell_type": "markdown",
   "metadata": {},
   "source": [
    "## Подготовка"
   ]
  },
  {
   "cell_type": "markdown",
   "metadata": {},
   "source": [
    "Начнём с установок и импортов библиотек и функций.\n",
    "\n",
    "Сначала установим библиотеку skopt, чтобы использовать их реализацию Байесовского подбора гиперпараметров."
   ]
  },
  {
   "cell_type": "code",
   "execution_count": 1,
   "metadata": {},
   "outputs": [
    {
     "name": "stdout",
     "output_type": "stream",
     "text": [
      "Requirement already satisfied: scikit-optimize in /opt/conda/lib/python3.9/site-packages (0.9.0)\n",
      "Requirement already satisfied: numpy>=1.13.3 in /opt/conda/lib/python3.9/site-packages (from scikit-optimize) (1.21.1)\n",
      "Requirement already satisfied: joblib>=0.11 in /opt/conda/lib/python3.9/site-packages (from scikit-optimize) (1.2.0)\n",
      "Requirement already satisfied: scikit-learn>=0.20.0 in /opt/conda/lib/python3.9/site-packages (from scikit-optimize) (1.2.2)\n",
      "Requirement already satisfied: scipy>=0.19.1 in /opt/conda/lib/python3.9/site-packages (from scikit-optimize) (1.9.1)\n",
      "Requirement already satisfied: pyaml>=16.9 in /opt/conda/lib/python3.9/site-packages (from scikit-optimize) (21.10.1)\n",
      "Requirement already satisfied: PyYAML in /opt/conda/lib/python3.9/site-packages (from pyaml>=16.9->scikit-optimize) (6.0)\n",
      "Requirement already satisfied: threadpoolctl>=2.0.0 in /opt/conda/lib/python3.9/site-packages (from scikit-learn>=0.20.0->scikit-optimize) (3.1.0)\n"
     ]
    }
   ],
   "source": [
    "!pip install scikit-optimize"
   ]
  },
  {
   "cell_type": "markdown",
   "metadata": {},
   "source": [
    "Дальше импортируем всё остальное."
   ]
  },
  {
   "cell_type": "code",
   "execution_count": 17,
   "metadata": {},
   "outputs": [
    {
     "name": "stderr",
     "output_type": "stream",
     "text": [
      "[nltk_data] Downloading package stopwords to /home/jovyan/nltk_data...\n",
      "[nltk_data]   Package stopwords is already up-to-date!\n"
     ]
    }
   ],
   "source": [
    "#импорт общих библиотек\n",
    "import pandas as pd\n",
    "import numpy as np\n",
    "import time\n",
    "\n",
    "#импорт библиотек для работы с естественным языком\n",
    "import re\n",
    "import spacy\n",
    "language_model = spacy.load('en_core_web_sm', disable=[\"parser\", \"ner\"])\n",
    "import nltk\n",
    "from nltk.corpus import stopwords\n",
    "nltk.download('stopwords')\n",
    "stopwords_set = stopwords.words('english')\n",
    "\n",
    "#импортируем целевую метрику\n",
    "from sklearn.metrics import f1_score\n",
    "\n",
    "#импортируем модели\n",
    "from sklearn.linear_model import LogisticRegression, RidgeClassifier\n",
    "from sklearn.tree import DecisionTreeClassifier\n",
    "\n",
    "#импортируем воспомогательные функции\n",
    "from sklearn.feature_extraction.text import TfidfVectorizer\n",
    "from sklearn.model_selection import train_test_split\n",
    "from skopt import BayesSearchCV\n",
    "from skopt.callbacks import DeltaYStopper\n",
    "\n",
    "#зададим случайное состояние\n",
    "STATE = np.random.RandomState(1234)\n",
    "\n",
    "pd.set_option('display.expand_frame_repr', False)\n",
    "pd.options.display.max_colwidth = 100\n"
   ]
  },
  {
   "cell_type": "markdown",
   "metadata": {},
   "source": [
    "Посмотрим на наши данные."
   ]
  },
  {
   "cell_type": "code",
   "execution_count": 3,
   "metadata": {},
   "outputs": [
    {
     "name": "stdout",
     "output_type": "stream",
     "text": [
      "<class 'pandas.core.frame.DataFrame'>\n",
      "RangeIndex: 159292 entries, 0 to 159291\n",
      "Data columns (total 3 columns):\n",
      " #   Column      Non-Null Count   Dtype \n",
      "---  ------      --------------   ----- \n",
      " 0   Unnamed: 0  159292 non-null  int64 \n",
      " 1   text        159292 non-null  object\n",
      " 2   toxic       159292 non-null  int64 \n",
      "dtypes: int64(2), object(1)\n",
      "memory usage: 3.6+ MB\n"
     ]
    },
    {
     "data": {
      "text/html": [
       "<div>\n",
       "<style scoped>\n",
       "    .dataframe tbody tr th:only-of-type {\n",
       "        vertical-align: middle;\n",
       "    }\n",
       "\n",
       "    .dataframe tbody tr th {\n",
       "        vertical-align: top;\n",
       "    }\n",
       "\n",
       "    .dataframe thead th {\n",
       "        text-align: right;\n",
       "    }\n",
       "</style>\n",
       "<table border=\"1\" class=\"dataframe\">\n",
       "  <thead>\n",
       "    <tr style=\"text-align: right;\">\n",
       "      <th></th>\n",
       "      <th>Unnamed: 0</th>\n",
       "      <th>text</th>\n",
       "      <th>toxic</th>\n",
       "    </tr>\n",
       "  </thead>\n",
       "  <tbody>\n",
       "    <tr>\n",
       "      <th>0</th>\n",
       "      <td>0</td>\n",
       "      <td>Explanation\\nWhy the edits made under my username Hardcore Metallica Fan were reverted? They wer...</td>\n",
       "      <td>0</td>\n",
       "    </tr>\n",
       "    <tr>\n",
       "      <th>1</th>\n",
       "      <td>1</td>\n",
       "      <td>D'aww! He matches this background colour I'm seemingly stuck with. Thanks.  (talk) 21:51, Januar...</td>\n",
       "      <td>0</td>\n",
       "    </tr>\n",
       "    <tr>\n",
       "      <th>2</th>\n",
       "      <td>2</td>\n",
       "      <td>Hey man, I'm really not trying to edit war. It's just that this guy is constantly removing relev...</td>\n",
       "      <td>0</td>\n",
       "    </tr>\n",
       "    <tr>\n",
       "      <th>3</th>\n",
       "      <td>3</td>\n",
       "      <td>\"\\nMore\\nI can't make any real suggestions on improvement - I wondered if the section statistics...</td>\n",
       "      <td>0</td>\n",
       "    </tr>\n",
       "    <tr>\n",
       "      <th>4</th>\n",
       "      <td>4</td>\n",
       "      <td>You, sir, are my hero. Any chance you remember what page that's on?</td>\n",
       "      <td>0</td>\n",
       "    </tr>\n",
       "  </tbody>\n",
       "</table>\n",
       "</div>"
      ],
      "text/plain": [
       "   Unnamed: 0                                                                                                 text  toxic\n",
       "0           0  Explanation\\nWhy the edits made under my username Hardcore Metallica Fan were reverted? They wer...      0\n",
       "1           1  D'aww! He matches this background colour I'm seemingly stuck with. Thanks.  (talk) 21:51, Januar...      0\n",
       "2           2  Hey man, I'm really not trying to edit war. It's just that this guy is constantly removing relev...      0\n",
       "3           3  \"\\nMore\\nI can't make any real suggestions on improvement - I wondered if the section statistics...      0\n",
       "4           4                                  You, sir, are my hero. Any chance you remember what page that's on?      0"
      ]
     },
     "execution_count": 3,
     "metadata": {},
     "output_type": "execute_result"
    }
   ],
   "source": [
    "data = pd.read_csv('/datasets/toxic_comments.csv')\n",
    "data.info()\n",
    "data.head()"
   ]
  },
  {
   "cell_type": "markdown",
   "metadata": {},
   "source": [
    "Уберём столбец Unnamed: 0 - явно дублирует индекс. Чьи-то шаловливые ручонки перезаписали датасет?"
   ]
  },
  {
   "cell_type": "code",
   "execution_count": 4,
   "metadata": {},
   "outputs": [
    {
     "name": "stdout",
     "output_type": "stream",
     "text": [
      "<class 'pandas.core.frame.DataFrame'>\n",
      "RangeIndex: 159292 entries, 0 to 159291\n",
      "Data columns (total 2 columns):\n",
      " #   Column  Non-Null Count   Dtype \n",
      "---  ------  --------------   ----- \n",
      " 0   text    159292 non-null  object\n",
      " 1   toxic   159292 non-null  int64 \n",
      "dtypes: int64(1), object(1)\n",
      "memory usage: 2.4+ MB\n"
     ]
    },
    {
     "data": {
      "text/html": [
       "<div>\n",
       "<style scoped>\n",
       "    .dataframe tbody tr th:only-of-type {\n",
       "        vertical-align: middle;\n",
       "    }\n",
       "\n",
       "    .dataframe tbody tr th {\n",
       "        vertical-align: top;\n",
       "    }\n",
       "\n",
       "    .dataframe thead th {\n",
       "        text-align: right;\n",
       "    }\n",
       "</style>\n",
       "<table border=\"1\" class=\"dataframe\">\n",
       "  <thead>\n",
       "    <tr style=\"text-align: right;\">\n",
       "      <th></th>\n",
       "      <th>text</th>\n",
       "      <th>toxic</th>\n",
       "    </tr>\n",
       "  </thead>\n",
       "  <tbody>\n",
       "    <tr>\n",
       "      <th>0</th>\n",
       "      <td>Explanation\\nWhy the edits made under my username Hardcore Metallica Fan were reverted? They wer...</td>\n",
       "      <td>0</td>\n",
       "    </tr>\n",
       "    <tr>\n",
       "      <th>1</th>\n",
       "      <td>D'aww! He matches this background colour I'm seemingly stuck with. Thanks.  (talk) 21:51, Januar...</td>\n",
       "      <td>0</td>\n",
       "    </tr>\n",
       "    <tr>\n",
       "      <th>2</th>\n",
       "      <td>Hey man, I'm really not trying to edit war. It's just that this guy is constantly removing relev...</td>\n",
       "      <td>0</td>\n",
       "    </tr>\n",
       "    <tr>\n",
       "      <th>3</th>\n",
       "      <td>\"\\nMore\\nI can't make any real suggestions on improvement - I wondered if the section statistics...</td>\n",
       "      <td>0</td>\n",
       "    </tr>\n",
       "    <tr>\n",
       "      <th>4</th>\n",
       "      <td>You, sir, are my hero. Any chance you remember what page that's on?</td>\n",
       "      <td>0</td>\n",
       "    </tr>\n",
       "  </tbody>\n",
       "</table>\n",
       "</div>"
      ],
      "text/plain": [
       "                                                                                                  text  toxic\n",
       "0  Explanation\\nWhy the edits made under my username Hardcore Metallica Fan were reverted? They wer...      0\n",
       "1  D'aww! He matches this background colour I'm seemingly stuck with. Thanks.  (talk) 21:51, Januar...      0\n",
       "2  Hey man, I'm really not trying to edit war. It's just that this guy is constantly removing relev...      0\n",
       "3  \"\\nMore\\nI can't make any real suggestions on improvement - I wondered if the section statistics...      0\n",
       "4                                  You, sir, are my hero. Any chance you remember what page that's on?      0"
      ]
     },
     "execution_count": 4,
     "metadata": {},
     "output_type": "execute_result"
    }
   ],
   "source": [
    "data = data.drop(columns = 'Unnamed: 0')\n",
    "data.info()\n",
    "data.head()"
   ]
  },
  {
   "cell_type": "markdown",
   "metadata": {},
   "source": [
    "Создадим функцию для очистки и лемматизации текста."
   ]
  },
  {
   "cell_type": "code",
   "execution_count": 5,
   "metadata": {},
   "outputs": [],
   "source": [
    "def lemm_and_clear(text):\n",
    "    doc = language_model(text.lower())\n",
    "    lemm = \" \".join([token.lemma_ for token in doc])\n",
    "    lemm = \" \".join(re.sub(r'[^a-zA-Z ]', ' ', lemm).split())\n",
    "    return lemm"
   ]
  },
  {
   "cell_type": "markdown",
   "metadata": {},
   "source": [
    "Применим её к нашему корпусу."
   ]
  },
  {
   "cell_type": "code",
   "execution_count": 6,
   "metadata": {
    "scrolled": true
   },
   "outputs": [
    {
     "data": {
      "text/html": [
       "<div>\n",
       "<style scoped>\n",
       "    .dataframe tbody tr th:only-of-type {\n",
       "        vertical-align: middle;\n",
       "    }\n",
       "\n",
       "    .dataframe tbody tr th {\n",
       "        vertical-align: top;\n",
       "    }\n",
       "\n",
       "    .dataframe thead th {\n",
       "        text-align: right;\n",
       "    }\n",
       "</style>\n",
       "<table border=\"1\" class=\"dataframe\">\n",
       "  <thead>\n",
       "    <tr style=\"text-align: right;\">\n",
       "      <th></th>\n",
       "      <th>text</th>\n",
       "      <th>toxic</th>\n",
       "      <th>lemm</th>\n",
       "    </tr>\n",
       "  </thead>\n",
       "  <tbody>\n",
       "    <tr>\n",
       "      <th>0</th>\n",
       "      <td>Explanation\\nWhy the edits made under my username Hardcore Metallica Fan were reverted? They wer...</td>\n",
       "      <td>0</td>\n",
       "      <td>explanation why the edit make under my username hardcore metallica fan be revert they be not van...</td>\n",
       "    </tr>\n",
       "    <tr>\n",
       "      <th>1</th>\n",
       "      <td>D'aww! He matches this background colour I'm seemingly stuck with. Thanks.  (talk) 21:51, Januar...</td>\n",
       "      <td>0</td>\n",
       "      <td>d aww he match this background colour I be seemingly stuck with thank talk january utc</td>\n",
       "    </tr>\n",
       "    <tr>\n",
       "      <th>2</th>\n",
       "      <td>Hey man, I'm really not trying to edit war. It's just that this guy is constantly removing relev...</td>\n",
       "      <td>0</td>\n",
       "      <td>hey man I be really not try to edit war it be just that this guy be constantly remove relevant i...</td>\n",
       "    </tr>\n",
       "    <tr>\n",
       "      <th>3</th>\n",
       "      <td>\"\\nMore\\nI can't make any real suggestions on improvement - I wondered if the section statistics...</td>\n",
       "      <td>0</td>\n",
       "      <td>more I can not make any real suggestion on improvement I wonder if the section statistic should ...</td>\n",
       "    </tr>\n",
       "    <tr>\n",
       "      <th>4</th>\n",
       "      <td>You, sir, are my hero. Any chance you remember what page that's on?</td>\n",
       "      <td>0</td>\n",
       "      <td>you sir be my hero any chance you remember what page that be on</td>\n",
       "    </tr>\n",
       "  </tbody>\n",
       "</table>\n",
       "</div>"
      ],
      "text/plain": [
       "                                                                                                  text  toxic                                                                                                 lemm\n",
       "0  Explanation\\nWhy the edits made under my username Hardcore Metallica Fan were reverted? They wer...      0  explanation why the edit make under my username hardcore metallica fan be revert they be not van...\n",
       "1  D'aww! He matches this background colour I'm seemingly stuck with. Thanks.  (talk) 21:51, Januar...      0               d aww he match this background colour I be seemingly stuck with thank talk january utc\n",
       "2  Hey man, I'm really not trying to edit war. It's just that this guy is constantly removing relev...      0  hey man I be really not try to edit war it be just that this guy be constantly remove relevant i...\n",
       "3  \"\\nMore\\nI can't make any real suggestions on improvement - I wondered if the section statistics...      0  more I can not make any real suggestion on improvement I wonder if the section statistic should ...\n",
       "4                                  You, sir, are my hero. Any chance you remember what page that's on?      0                                      you sir be my hero any chance you remember what page that be on"
      ]
     },
     "execution_count": 6,
     "metadata": {},
     "output_type": "execute_result"
    }
   ],
   "source": [
    "data['lemm'] = data['text'].apply(lemm_and_clear)\n",
    "data.head()"
   ]
  },
  {
   "cell_type": "markdown",
   "metadata": {},
   "source": [
    "Выведем на экран текст и его лемматизированный вариант для проверки качества лемматизации."
   ]
  },
  {
   "cell_type": "code",
   "execution_count": 7,
   "metadata": {
    "scrolled": true
   },
   "outputs": [
    {
     "data": {
      "text/html": [
       "<div>\n",
       "<style scoped>\n",
       "    .dataframe tbody tr th:only-of-type {\n",
       "        vertical-align: middle;\n",
       "    }\n",
       "\n",
       "    .dataframe tbody tr th {\n",
       "        vertical-align: top;\n",
       "    }\n",
       "\n",
       "    .dataframe thead th {\n",
       "        text-align: right;\n",
       "    }\n",
       "</style>\n",
       "<table border=\"1\" class=\"dataframe\">\n",
       "  <thead>\n",
       "    <tr style=\"text-align: right;\">\n",
       "      <th></th>\n",
       "      <th>text</th>\n",
       "      <th>lemm</th>\n",
       "    </tr>\n",
       "  </thead>\n",
       "  <tbody>\n",
       "    <tr>\n",
       "      <th>71267</th>\n",
       "      <td>\"Welcome\\n\\nHello, and welcome to Wikipedia! Thank you for your contributions. I hope you like t...</td>\n",
       "      <td>welcome hello and welcome to wikipedia thank you for your contribution I hope you like the place...</td>\n",
       "    </tr>\n",
       "  </tbody>\n",
       "</table>\n",
       "</div>"
      ],
      "text/plain": [
       "                                                                                                      text                                                                                                 lemm\n",
       "71267  \"Welcome\\n\\nHello, and welcome to Wikipedia! Thank you for your contributions. I hope you like t...  welcome hello and welcome to wikipedia thank you for your contribution I hope you like the place..."
      ]
     },
     "execution_count": 7,
     "metadata": {},
     "output_type": "execute_result"
    }
   ],
   "source": [
    "data[['text','lemm']].sample(n=1)"
   ]
  },
  {
   "cell_type": "markdown",
   "metadata": {},
   "source": [
    "Посмотрим, как распределены комментарии по токсичности."
   ]
  },
  {
   "cell_type": "code",
   "execution_count": 8,
   "metadata": {
    "scrolled": true
   },
   "outputs": [
    {
     "data": {
      "text/plain": [
       "0    0.898388\n",
       "1    0.101612\n",
       "Name: toxic, dtype: float64"
      ]
     },
     "execution_count": 8,
     "metadata": {},
     "output_type": "execute_result"
    }
   ],
   "source": [
    "data['toxic'].value_counts(normalize=True)"
   ]
  },
  {
   "cell_type": "markdown",
   "metadata": {},
   "source": [
    "Выборка несбалансирована. Попробуем учесть при разделении на тренировочную и тестовую выборки."
   ]
  },
  {
   "cell_type": "code",
   "execution_count": 9,
   "metadata": {},
   "outputs": [
    {
     "data": {
      "text/plain": [
       "49231     question I believe that I ve understand and correctly use explain most of the historical indian ...\n",
       "92758                                                               before return home and be disband in june\n",
       "138496    I have respectfully append a reassurance to my comment that it be not a legal threat no legal ac...\n",
       "2562      as I mention in the edit summary again do you even read it it be a personal communication hence ...\n",
       "6830      hi dutchbloke I say might give reason to presume and hence have not allege that you be rex howev...\n",
       "                                                         ...                                                 \n",
       "63098     one will undoubtedly come out as soon as the demurrage fractionalize and I get the money transfe...\n",
       "133901    I be reasonable with he they get a week s notice for an article that be be tag as unsourced for ...\n",
       "63078                                                                where the four grouping be actually find\n",
       "93821     can you source that like I do with mine because I ve honestly never hear that before if you sour...\n",
       "107884    I be joey s publicist I ask jason to make the change as I be not a member on wiki his last name ...\n",
       "Name: lemm, Length: 127433, dtype: object"
      ]
     },
     "execution_count": 9,
     "metadata": {},
     "output_type": "execute_result"
    }
   ],
   "source": [
    "features_train, features_test, target_train, target_test = train_test_split(\n",
    "    data.drop(columns = 'toxic', axis=1),\n",
    "    data['toxic'],\n",
    "    test_size=0.2,\n",
    "    random_state=STATE,\n",
    "    stratify=data['toxic'] \n",
    ")\n",
    "\n",
    "\n",
    "corpus_train = features_train['lemm']\n",
    "corpus_test = features_test['lemm']\n",
    "corpus_train"
   ]
  },
  {
   "cell_type": "markdown",
   "metadata": {},
   "source": [
    "Теперь рассчитаем TF-IDF для каждого из слов корпусов и векторизуем их на основе этой величины."
   ]
  },
  {
   "cell_type": "code",
   "execution_count": 18,
   "metadata": {
    "scrolled": true
   },
   "outputs": [
    {
     "name": "stdout",
     "output_type": "stream",
     "text": [
      "Размер матрицы TF-IDF для выборки train: (127433, 134531)\n",
      "Размер матрицы TF-IDF для выборки test: (31859, 134531)\n"
     ]
    }
   ],
   "source": [
    "count_tf_idf = TfidfVectorizer(stop_words=stopwords_set)\n",
    "tf_idf_train = count_tf_idf.fit_transform(corpus_train) \n",
    "tf_idf_test = count_tf_idf.transform(corpus_test) \n",
    "\n",
    "for stage in ['train','test']:\n",
    "    print(f\"Размер матрицы TF-IDF для выборки {stage}: {eval('_'.join(['tf_idf',stage])).shape}\")"
   ]
  },
  {
   "cell_type": "markdown",
   "metadata": {},
   "source": [
    "### Вывод:\n",
    "- Данные проанализированы, признаки подготовлены к анализу.\n",
    "- Ввиду количества фич фокус будет сделан на обучение и подбор параметров более простых моделей, ансамблевыми моделями пренебрежём по причине вычислительной сложности."
   ]
  },
  {
   "cell_type": "markdown",
   "metadata": {},
   "source": [
    "## Обучение"
   ]
  },
  {
   "cell_type": "markdown",
   "metadata": {},
   "source": [
    "Напишем функцию для перебора гиперпараметров и сохранения результатов в словарь."
   ]
  },
  {
   "cell_type": "code",
   "execution_count": 19,
   "metadata": {},
   "outputs": [],
   "source": [
    "callback = DeltaYStopper(delta=0.05) "
   ]
  },
  {
   "cell_type": "code",
   "execution_count": 20,
   "metadata": {},
   "outputs": [],
   "source": [
    "def search_time_save(model, parameters, features = tf_idf_train,target = target_train):\n",
    "    \n",
    "    grid = BayesSearchCV(model, parameters, \n",
    "                         scoring = 'f1', cv = 2, verbose = 3, n_iter = 10, random_state = STATE)\n",
    "    start = time.time()\n",
    "    grid.fit(features, target, callback = callback)\n",
    "    stop = time.time()\n",
    "    \n",
    "    learn_time = stop-start\n",
    "    \n",
    "    score = grid.best_score_\n",
    "    print()\n",
    "    print (f\"Для выбранной модели наилучший результат = {score:0.4f} за {learn_time:0.2f} сек.\")\n",
    "    model_dict = {'score':score,\n",
    "                  'learn_time':learn_time,\n",
    "                  'fit_time':grid.refit_time_,\n",
    "                  'params':grid.best_params_,\n",
    "                  'model':grid.best_estimator_}\n",
    "    \n",
    "    return model_dict"
   ]
  },
  {
   "cell_type": "markdown",
   "metadata": {},
   "source": [
    "Начнём с модели логистической регрессии, для которой будем перебирать параметр C. "
   ]
  },
  {
   "cell_type": "code",
   "execution_count": 21,
   "metadata": {},
   "outputs": [
    {
     "name": "stdout",
     "output_type": "stream",
     "text": [
      "Fitting 2 folds for each of 1 candidates, totalling 2 fits\n",
      "[CV 1/2] END C=41, max_iter=1000, random_state=RandomState(MT19937), solver=saga;, score=0.757 total time=   7.3s\n",
      "[CV 2/2] END C=41, max_iter=1000, random_state=RandomState(MT19937), solver=saga;, score=0.761 total time=   6.9s\n",
      "Fitting 2 folds for each of 1 candidates, totalling 2 fits\n",
      "[CV 1/2] END C=41, max_iter=1000, random_state=RandomState(MT19937), solver=saga;, score=0.757 total time=   6.6s\n",
      "[CV 2/2] END C=41, max_iter=1000, random_state=RandomState(MT19937), solver=saga;, score=0.761 total time=   6.5s\n",
      "Fitting 2 folds for each of 1 candidates, totalling 2 fits\n",
      "[CV 1/2] END C=31, max_iter=1000, random_state=RandomState(MT19937), solver=saga;, score=0.756 total time=   5.9s\n",
      "[CV 2/2] END C=31, max_iter=1000, random_state=RandomState(MT19937), solver=saga;, score=0.763 total time=   6.0s\n",
      "Fitting 2 folds for each of 1 candidates, totalling 2 fits\n",
      "[CV 1/2] END C=86, max_iter=1000, random_state=RandomState(MT19937), solver=saga;, score=0.751 total time=  10.4s\n",
      "[CV 2/2] END C=86, max_iter=1000, random_state=RandomState(MT19937), solver=saga;, score=0.755 total time=  12.6s\n",
      "Fitting 2 folds for each of 1 candidates, totalling 2 fits\n",
      "[CV 1/2] END C=31, max_iter=1000, random_state=RandomState(MT19937), solver=saga;, score=0.757 total time=   6.2s\n",
      "[CV 2/2] END C=31, max_iter=1000, random_state=RandomState(MT19937), solver=saga;, score=0.763 total time=   5.9s\n",
      "\n",
      "Для выбранной модели наилучший результат = 0.7595 за 88.18 сек.\n"
     ]
    }
   ],
   "source": [
    "model = LogisticRegression()\n",
    "\n",
    "parameters = {\n",
    "    'C': [*range(1,100,5)],\n",
    "    'solver':['saga'],\n",
    "    'max_iter':[1000],\n",
    "    'random_state': [STATE]\n",
    "}\n",
    "\n",
    "log_dict = search_time_save(model, parameters)"
   ]
  },
  {
   "cell_type": "markdown",
   "metadata": {},
   "source": [
    "Теперь попробуем модель Ridge. "
   ]
  },
  {
   "cell_type": "code",
   "execution_count": 22,
   "metadata": {},
   "outputs": [
    {
     "name": "stdout",
     "output_type": "stream",
     "text": [
      "Fitting 2 folds for each of 1 candidates, totalling 2 fits\n",
      "[CV 1/2] END alpha=0.385, fit_intercept=False, random_state=RandomState(MT19937), solver=sag;, score=0.678 total time=   4.1s\n",
      "[CV 2/2] END alpha=0.385, fit_intercept=False, random_state=RandomState(MT19937), solver=sag;, score=0.676 total time=   4.0s\n",
      "Fitting 2 folds for each of 1 candidates, totalling 2 fits\n",
      "[CV 1/2] END alpha=0.46, fit_intercept=False, random_state=RandomState(MT19937), solver=sag;, score=0.684 total time=   3.2s\n",
      "[CV 2/2] END alpha=0.46, fit_intercept=False, random_state=RandomState(MT19937), solver=sag;, score=0.683 total time=   3.3s\n",
      "Fitting 2 folds for each of 1 candidates, totalling 2 fits\n",
      "[CV 1/2] END alpha=0.23500000000000001, fit_intercept=False, random_state=RandomState(MT19937), solver=sag;, score=0.664 total time=   6.2s\n",
      "[CV 2/2] END alpha=0.23500000000000001, fit_intercept=False, random_state=RandomState(MT19937), solver=sag;, score=0.662 total time=   6.6s\n",
      "Fitting 2 folds for each of 1 candidates, totalling 2 fits\n",
      "[CV 1/2] END alpha=0.135, fit_intercept=False, random_state=RandomState(MT19937), solver=sag;, score=0.639 total time=  11.2s\n",
      "[CV 2/2] END alpha=0.135, fit_intercept=False, random_state=RandomState(MT19937), solver=sag;, score=0.640 total time=  10.4s\n",
      "Fitting 2 folds for each of 1 candidates, totalling 2 fits\n",
      "[CV 1/2] END alpha=0.76, fit_intercept=False, random_state=RandomState(MT19937), solver=sag;, score=0.698 total time=   2.3s\n",
      "[CV 2/2] END alpha=0.76, fit_intercept=False, random_state=RandomState(MT19937), solver=sag;, score=0.695 total time=   2.6s\n",
      "Fitting 2 folds for each of 1 candidates, totalling 2 fits\n",
      "[CV 1/2] END alpha=0.385, fit_intercept=False, random_state=RandomState(MT19937), solver=sag;, score=0.678 total time=   4.3s\n",
      "[CV 2/2] END alpha=0.385, fit_intercept=False, random_state=RandomState(MT19937), solver=sag;, score=0.676 total time=   4.2s\n",
      "\n",
      "Для выбранной модели наилучший результат = 0.6964 за 68.32 сек.\n"
     ]
    }
   ],
   "source": [
    "model = RidgeClassifier()\n",
    "\n",
    "parameters = {\n",
    "    'alpha': np.arange(0.01, 1.0, 0.025),\n",
    "    'solver':['sag'],\n",
    "    'fit_intercept':[False],\n",
    "    'random_state': [STATE]\n",
    "}\n",
    "\n",
    "ridge_dict = search_time_save(model,parameters)"
   ]
  },
  {
   "cell_type": "markdown",
   "metadata": {},
   "source": [
    "Теперь обучим случайное дерево. По причине большого количества признаков будем искать нужное дерево среди деревьев большой глубины."
   ]
  },
  {
   "cell_type": "code",
   "execution_count": 23,
   "metadata": {},
   "outputs": [
    {
     "name": "stdout",
     "output_type": "stream",
     "text": [
      "Fitting 2 folds for each of 1 candidates, totalling 2 fits\n",
      "[CV 1/2] END max_depth=110, random_state=RandomState(MT19937);, score=0.727 total time=  31.2s\n",
      "[CV 2/2] END max_depth=110, random_state=RandomState(MT19937);, score=0.725 total time=  29.6s\n",
      "Fitting 2 folds for each of 1 candidates, totalling 2 fits\n",
      "[CV 1/2] END max_depth=128, random_state=RandomState(MT19937);, score=0.730 total time=  32.5s\n",
      "[CV 2/2] END max_depth=128, random_state=RandomState(MT19937);, score=0.727 total time=  33.7s\n",
      "Fitting 2 folds for each of 1 candidates, totalling 2 fits\n",
      "[CV 1/2] END max_depth=74, random_state=RandomState(MT19937);, score=0.725 total time=  22.6s\n",
      "[CV 2/2] END max_depth=74, random_state=RandomState(MT19937);, score=0.718 total time=  22.3s\n",
      "Fitting 2 folds for each of 1 candidates, totalling 2 fits\n",
      "[CV 1/2] END max_depth=87, random_state=RandomState(MT19937);, score=0.726 total time=  25.3s\n",
      "[CV 2/2] END max_depth=87, random_state=RandomState(MT19937);, score=0.722 total time=  24.7s\n",
      "Fitting 2 folds for each of 1 candidates, totalling 2 fits\n",
      "[CV 1/2] END max_depth=57, random_state=RandomState(MT19937);, score=0.716 total time=  18.2s\n",
      "[CV 2/2] END max_depth=57, random_state=RandomState(MT19937);, score=0.712 total time=  18.0s\n",
      "\n",
      "Для выбранной модели наилучший результат = 0.7282 за 322.40 сек.\n"
     ]
    }
   ],
   "source": [
    "model =  DecisionTreeClassifier()\n",
    "\n",
    "parameters = {'max_depth': [*range (50,151)],\n",
    "             'random_state': [STATE]}\n",
    "\n",
    "tree_dict = search_time_save(model,parameters)"
   ]
  },
  {
   "cell_type": "markdown",
   "metadata": {},
   "source": [
    "Сведём все результаты в единую табличку для наглядности."
   ]
  },
  {
   "cell_type": "code",
   "execution_count": 24,
   "metadata": {},
   "outputs": [
    {
     "data": {
      "text/html": [
       "<div>\n",
       "<style scoped>\n",
       "    .dataframe tbody tr th:only-of-type {\n",
       "        vertical-align: middle;\n",
       "    }\n",
       "\n",
       "    .dataframe tbody tr th {\n",
       "        vertical-align: top;\n",
       "    }\n",
       "\n",
       "    .dataframe thead th {\n",
       "        text-align: right;\n",
       "    }\n",
       "</style>\n",
       "<table border=\"1\" class=\"dataframe\">\n",
       "  <thead>\n",
       "    <tr style=\"text-align: right;\">\n",
       "      <th></th>\n",
       "      <th>score</th>\n",
       "      <th>learn_time</th>\n",
       "      <th>fit_time</th>\n",
       "    </tr>\n",
       "  </thead>\n",
       "  <tbody>\n",
       "    <tr>\n",
       "      <th>log</th>\n",
       "      <td>0.759532</td>\n",
       "      <td>88.184498</td>\n",
       "      <td>14.046810</td>\n",
       "    </tr>\n",
       "    <tr>\n",
       "      <th>tree</th>\n",
       "      <td>0.728175</td>\n",
       "      <td>322.403913</td>\n",
       "      <td>64.245566</td>\n",
       "    </tr>\n",
       "    <tr>\n",
       "      <th>ridge</th>\n",
       "      <td>0.696389</td>\n",
       "      <td>68.322099</td>\n",
       "      <td>5.799469</td>\n",
       "    </tr>\n",
       "  </tbody>\n",
       "</table>\n",
       "</div>"
      ],
      "text/plain": [
       "          score  learn_time   fit_time\n",
       "log    0.759532   88.184498  14.046810\n",
       "tree   0.728175  322.403913  64.245566\n",
       "ridge  0.696389   68.322099   5.799469"
      ]
     },
     "execution_count": 24,
     "metadata": {},
     "output_type": "execute_result"
    }
   ],
   "source": [
    "dict_list = [log_dict, ridge_dict, tree_dict]\n",
    "\n",
    "model_scores = pd.DataFrame(dict_list, index = ['log', 'ridge','tree']).drop(columns=['params','model'])\\\n",
    ".sort_values(by='score', ascending = False)\n",
    "model_scores"
   ]
  },
  {
   "cell_type": "markdown",
   "metadata": {},
   "source": [
    "Выберем лучшую из моделей. По совокупности скорости и точности - это модель линейной регрессии. К тому же, она единственная показала требуемый f1-score."
   ]
  },
  {
   "cell_type": "code",
   "execution_count": 25,
   "metadata": {},
   "outputs": [],
   "source": [
    "best_model = eval('_'.join([model_scores[model_scores['score'] == model_scores['score'].max()].index.tolist()[0],\n",
    "                           'dict']))['model']"
   ]
  },
  {
   "cell_type": "markdown",
   "metadata": {},
   "source": [
    "Протестируем модель на тестовой выборке, чтобы проверить её на переобучение."
   ]
  },
  {
   "cell_type": "code",
   "execution_count": 26,
   "metadata": {},
   "outputs": [
    {
     "name": "stdout",
     "output_type": "stream",
     "text": [
      "F1-score на тестовой выборке = 0.7747\n"
     ]
    }
   ],
   "source": [
    "predict = best_model.predict(tf_idf_test)\n",
    "score = f1_score(target_test,predict)\n",
    "print(f\"F1-score на тестовой выборке = {score:0.4f}\")"
   ]
  },
  {
   "cell_type": "markdown",
   "metadata": {},
   "source": [
    "Результат на тестовой выборке также выше порогового значение (>0.75). Модель можно использовать.  \n",
    "\n",
    "Для наглядности выведем параметры модели."
   ]
  },
  {
   "cell_type": "code",
   "execution_count": 27,
   "metadata": {},
   "outputs": [
    {
     "data": {
      "text/plain": [
       "OrderedDict([('C', 31),\n",
       "             ('max_iter', 1000),\n",
       "             ('random_state', RandomState(MT19937) at 0x7F1561B27E40),\n",
       "             ('solver', 'saga')])"
      ]
     },
     "execution_count": 27,
     "metadata": {},
     "output_type": "execute_result"
    }
   ],
   "source": [
    "eval('_'.join([model_scores[model_scores['score'] == model_scores['score'].max()].index.tolist()[0],\n",
    "                           'dict']))['params']"
   ]
  },
  {
   "cell_type": "markdown",
   "metadata": {},
   "source": [
    "## Выводы"
   ]
  },
  {
   "cell_type": "markdown",
   "metadata": {},
   "source": [
    "- Были проанализированы исходные данные, отброшены лишние столбцы.\n",
    "- Исходные комментарии были очищены от знаков препинания и лемматизированы.\n",
    "- С помощью TF-IDF были подготовлены признаки для машинного обучения.\n",
    "- С помощью BayesSearchCV были подобраны гиперпараметры для трёх моделей.\n",
    "- Наилучшие результаты показала модель линейной регрессии c С = 26."
   ]
  }
 ],
 "metadata": {
  "ExecuteTimeLog": [
   {
    "duration": 374,
    "start_time": "2023-03-06T00:58:45.392Z"
   },
   {
    "duration": 45,
    "start_time": "2023-03-06T00:59:11.871Z"
   },
   {
    "duration": 94,
    "start_time": "2023-03-06T00:59:19.472Z"
   },
   {
    "duration": 2454,
    "start_time": "2023-03-06T00:59:28.960Z"
   },
   {
    "duration": 893,
    "start_time": "2023-03-06T00:59:45.492Z"
   },
   {
    "duration": 11,
    "start_time": "2023-03-06T01:00:23.365Z"
   },
   {
    "duration": 16,
    "start_time": "2023-03-06T01:00:35.132Z"
   },
   {
    "duration": 449,
    "start_time": "2023-03-06T01:00:47.120Z"
   },
   {
    "duration": 1009,
    "start_time": "2023-03-06T01:00:47.571Z"
   },
   {
    "duration": 45,
    "start_time": "2023-03-06T01:00:51.167Z"
   },
   {
    "duration": 2,
    "start_time": "2023-03-06T01:02:02.876Z"
   },
   {
    "duration": 965,
    "start_time": "2023-03-06T01:04:05.109Z"
   },
   {
    "duration": 210,
    "start_time": "2023-03-06T01:04:23.424Z"
   },
   {
    "duration": 128,
    "start_time": "2023-03-06T01:04:29.647Z"
   },
   {
    "duration": 1326,
    "start_time": "2023-03-06T01:04:43.713Z"
   },
   {
    "duration": 968,
    "start_time": "2023-03-06T01:04:45.041Z"
   },
   {
    "duration": 49,
    "start_time": "2023-03-06T01:04:46.011Z"
   },
   {
    "duration": 132,
    "start_time": "2023-03-06T01:04:48.664Z"
   },
   {
    "duration": 719,
    "start_time": "2023-03-06T01:07:12.007Z"
   },
   {
    "duration": 132,
    "start_time": "2023-03-06T01:07:46.984Z"
   },
   {
    "duration": 702,
    "start_time": "2023-03-06T01:08:44.107Z"
   },
   {
    "duration": 713,
    "start_time": "2023-03-06T01:08:54.415Z"
   },
   {
    "duration": 705,
    "start_time": "2023-03-06T01:10:28.968Z"
   },
   {
    "duration": 741,
    "start_time": "2023-03-06T01:10:31.950Z"
   },
   {
    "duration": 724,
    "start_time": "2023-03-06T01:10:43.826Z"
   },
   {
    "duration": 731,
    "start_time": "2023-03-06T01:10:52.722Z"
   },
   {
    "duration": 740,
    "start_time": "2023-03-06T01:11:34.905Z"
   },
   {
    "duration": 4,
    "start_time": "2023-03-06T01:12:00.079Z"
   },
   {
    "duration": 191473,
    "start_time": "2023-03-06T01:12:39.464Z"
   },
   {
    "duration": 4,
    "start_time": "2023-03-06T01:16:22.763Z"
   },
   {
    "duration": 176385,
    "start_time": "2023-03-06T01:16:53.212Z"
   },
   {
    "duration": 42,
    "start_time": "2023-03-06T01:20:17.150Z"
   },
   {
    "duration": 140376,
    "start_time": "2023-03-06T01:21:22.186Z"
   },
   {
    "duration": 3,
    "start_time": "2023-03-06T01:24:13.378Z"
   },
   {
    "duration": 3,
    "start_time": "2023-03-06T01:24:15.209Z"
   },
   {
    "duration": 3,
    "start_time": "2023-03-06T01:24:35.077Z"
   },
   {
    "duration": 3,
    "start_time": "2023-03-06T01:24:36.796Z"
   },
   {
    "duration": 1375,
    "start_time": "2023-03-06T01:24:46.305Z"
   },
   {
    "duration": 1019,
    "start_time": "2023-03-06T01:24:47.682Z"
   },
   {
    "duration": 58,
    "start_time": "2023-03-06T01:24:48.703Z"
   },
   {
    "duration": 210,
    "start_time": "2023-03-06T01:24:48.762Z"
   },
   {
    "duration": 3,
    "start_time": "2023-03-06T01:24:48.974Z"
   },
   {
    "duration": 7,
    "start_time": "2023-03-06T01:24:48.978Z"
   },
   {
    "duration": 311,
    "start_time": "2023-03-06T01:25:31.088Z"
   },
   {
    "duration": 3,
    "start_time": "2023-03-06T01:25:43.372Z"
   },
   {
    "duration": 2101,
    "start_time": "2023-03-06T01:25:44.185Z"
   },
   {
    "duration": 2112,
    "start_time": "2023-03-06T01:25:52.204Z"
   },
   {
    "duration": 67,
    "start_time": "2023-03-06T01:26:05.099Z"
   },
   {
    "duration": 57,
    "start_time": "2023-03-06T01:26:09.582Z"
   },
   {
    "duration": 98,
    "start_time": "2023-03-06T01:26:30.199Z"
   },
   {
    "duration": 71,
    "start_time": "2023-03-06T01:26:33.228Z"
   },
   {
    "duration": 78,
    "start_time": "2023-03-06T01:26:37.317Z"
   },
   {
    "duration": 3,
    "start_time": "2023-03-06T01:26:51.566Z"
   },
   {
    "duration": 335,
    "start_time": "2023-03-06T01:26:53.263Z"
   },
   {
    "duration": 1293,
    "start_time": "2023-03-06T01:27:07.958Z"
   },
   {
    "duration": 970,
    "start_time": "2023-03-06T01:27:09.252Z"
   },
   {
    "duration": 47,
    "start_time": "2023-03-06T01:27:10.223Z"
   },
   {
    "duration": 203,
    "start_time": "2023-03-06T01:27:10.271Z"
   },
   {
    "duration": 4,
    "start_time": "2023-03-06T01:27:10.477Z"
   },
   {
    "duration": 13,
    "start_time": "2023-03-06T01:27:10.483Z"
   },
   {
    "duration": 360,
    "start_time": "2023-03-06T01:27:10.499Z"
   },
   {
    "duration": 3,
    "start_time": "2023-03-06T01:27:14.798Z"
   },
   {
    "duration": 2263,
    "start_time": "2023-03-06T01:27:16.577Z"
   },
   {
    "duration": 3,
    "start_time": "2023-03-06T01:27:25.005Z"
   },
   {
    "duration": 90836,
    "start_time": "2023-03-06T01:27:43.471Z"
   },
   {
    "duration": 3,
    "start_time": "2023-03-06T01:29:25.361Z"
   },
   {
    "duration": 3,
    "start_time": "2023-03-06T01:29:30.740Z"
   },
   {
    "duration": 3,
    "start_time": "2023-03-06T01:29:31.605Z"
   },
   {
    "duration": 64722,
    "start_time": "2023-03-06T01:29:34.243Z"
   },
   {
    "duration": 1343,
    "start_time": "2023-03-06T01:31:58.046Z"
   },
   {
    "duration": 1009,
    "start_time": "2023-03-06T01:31:59.391Z"
   },
   {
    "duration": 60,
    "start_time": "2023-03-06T01:32:00.401Z"
   },
   {
    "duration": 188,
    "start_time": "2023-03-06T01:32:00.464Z"
   },
   {
    "duration": 4,
    "start_time": "2023-03-06T01:32:00.654Z"
   },
   {
    "duration": 154,
    "start_time": "2023-03-06T01:32:00.660Z"
   },
   {
    "duration": 1,
    "start_time": "2023-03-06T01:32:00.816Z"
   },
   {
    "duration": 57052,
    "start_time": "2023-03-06T01:32:12.584Z"
   },
   {
    "duration": 55,
    "start_time": "2023-03-06T01:33:38.588Z"
   },
   {
    "duration": 4,
    "start_time": "2023-03-06T01:33:50.481Z"
   },
   {
    "duration": 233,
    "start_time": "2023-03-06T01:33:52.894Z"
   },
   {
    "duration": 1463,
    "start_time": "2023-03-06T01:34:09.458Z"
   },
   {
    "duration": 980,
    "start_time": "2023-03-06T01:34:10.923Z"
   },
   {
    "duration": 51,
    "start_time": "2023-03-06T01:34:11.905Z"
   },
   {
    "duration": 151,
    "start_time": "2023-03-06T01:34:11.957Z"
   },
   {
    "duration": 3,
    "start_time": "2023-03-06T01:34:12.110Z"
   },
   {
    "duration": 70432,
    "start_time": "2023-03-06T01:34:12.115Z"
   },
   {
    "duration": 141,
    "start_time": "2023-03-06T01:37:22.123Z"
   },
   {
    "duration": 723,
    "start_time": "2023-03-06T01:37:50.057Z"
   },
   {
    "duration": 4,
    "start_time": "2023-03-06T01:39:13.189Z"
   },
   {
    "duration": 9,
    "start_time": "2023-03-06T01:40:04.587Z"
   },
   {
    "duration": 11,
    "start_time": "2023-03-06T01:40:39.027Z"
   },
   {
    "duration": 4,
    "start_time": "2023-03-06T01:40:57.872Z"
   },
   {
    "duration": 11,
    "start_time": "2023-03-06T01:41:02.618Z"
   },
   {
    "duration": 46,
    "start_time": "2023-03-06T01:41:11.969Z"
   },
   {
    "duration": 93,
    "start_time": "2023-03-06T01:41:16.393Z"
   },
   {
    "duration": 1195,
    "start_time": "2023-03-06T01:41:24.391Z"
   },
   {
    "duration": 90,
    "start_time": "2023-03-06T01:41:38.670Z"
   },
   {
    "duration": 92,
    "start_time": "2023-03-06T01:41:43.977Z"
   },
   {
    "duration": 16,
    "start_time": "2023-03-06T01:46:33.536Z"
   },
   {
    "duration": 14,
    "start_time": "2023-03-06T01:47:06.971Z"
   },
   {
    "duration": 15,
    "start_time": "2023-03-06T01:47:57.293Z"
   },
   {
    "duration": 14,
    "start_time": "2023-03-06T01:48:50.988Z"
   },
   {
    "duration": 4,
    "start_time": "2023-03-06T01:49:33.889Z"
   },
   {
    "duration": 8029,
    "start_time": "2023-03-06T01:49:45.176Z"
   },
   {
    "duration": 8308,
    "start_time": "2023-03-06T01:51:22.897Z"
   },
   {
    "duration": 7914,
    "start_time": "2023-03-06T01:51:47.912Z"
   },
   {
    "duration": 7911,
    "start_time": "2023-03-06T01:51:56.962Z"
   },
   {
    "duration": 5,
    "start_time": "2023-03-06T01:52:46.219Z"
   },
   {
    "duration": 107,
    "start_time": "2023-03-06T01:55:33.797Z"
   },
   {
    "duration": 5,
    "start_time": "2023-03-06T01:57:39.641Z"
   },
   {
    "duration": 4,
    "start_time": "2023-03-06T01:58:38.431Z"
   },
   {
    "duration": 22,
    "start_time": "2023-03-06T01:58:40.300Z"
   },
   {
    "duration": 5,
    "start_time": "2023-03-06T01:58:59.604Z"
   },
   {
    "duration": 24710,
    "start_time": "2023-03-06T01:59:04.262Z"
   },
   {
    "duration": 4,
    "start_time": "2023-03-06T01:59:32.280Z"
   },
   {
    "duration": 75115,
    "start_time": "2023-03-06T01:59:32.965Z"
   },
   {
    "duration": 1466,
    "start_time": "2023-03-06T02:04:31.291Z"
   },
   {
    "duration": 972,
    "start_time": "2023-03-06T02:04:32.759Z"
   },
   {
    "duration": 49,
    "start_time": "2023-03-06T02:04:33.732Z"
   },
   {
    "duration": 191,
    "start_time": "2023-03-06T02:04:33.783Z"
   },
   {
    "duration": 3,
    "start_time": "2023-03-06T02:04:33.977Z"
   },
   {
    "duration": 68057,
    "start_time": "2023-03-06T02:04:33.982Z"
   },
   {
    "duration": 9,
    "start_time": "2023-03-06T02:05:42.041Z"
   },
   {
    "duration": 121,
    "start_time": "2023-03-06T02:05:42.052Z"
   },
   {
    "duration": 7882,
    "start_time": "2023-03-06T02:05:42.175Z"
   },
   {
    "duration": 4,
    "start_time": "2023-03-06T02:05:50.060Z"
   },
   {
    "duration": 49,
    "start_time": "2023-03-06T02:06:07.039Z"
   },
   {
    "duration": 1451,
    "start_time": "2023-03-06T02:06:13.821Z"
   },
   {
    "duration": 2498,
    "start_time": "2023-03-06T02:06:15.274Z"
   },
   {
    "duration": 61,
    "start_time": "2023-03-06T02:06:17.773Z"
   },
   {
    "duration": 207,
    "start_time": "2023-03-06T02:06:17.836Z"
   },
   {
    "duration": 4,
    "start_time": "2023-03-06T02:06:18.046Z"
   },
   {
    "duration": 68345,
    "start_time": "2023-03-06T02:06:18.053Z"
   },
   {
    "duration": 8,
    "start_time": "2023-03-06T02:07:26.400Z"
   },
   {
    "duration": 126,
    "start_time": "2023-03-06T02:07:26.409Z"
   },
   {
    "duration": 7869,
    "start_time": "2023-03-06T02:07:26.536Z"
   },
   {
    "duration": 4,
    "start_time": "2023-03-06T02:07:34.407Z"
   },
   {
    "duration": 53,
    "start_time": "2023-03-06T02:08:08.198Z"
   },
   {
    "duration": 1481,
    "start_time": "2023-03-06T02:08:12.263Z"
   },
   {
    "duration": 2491,
    "start_time": "2023-03-06T02:08:13.747Z"
   },
   {
    "duration": 1493,
    "start_time": "2023-03-06T02:08:30.876Z"
   },
   {
    "duration": 999,
    "start_time": "2023-03-06T02:08:32.371Z"
   },
   {
    "duration": 47,
    "start_time": "2023-03-06T02:08:33.372Z"
   },
   {
    "duration": 168,
    "start_time": "2023-03-06T02:08:33.421Z"
   },
   {
    "duration": 3,
    "start_time": "2023-03-06T02:08:33.591Z"
   },
   {
    "duration": 68213,
    "start_time": "2023-03-06T02:08:33.596Z"
   },
   {
    "duration": 8,
    "start_time": "2023-03-06T02:09:41.810Z"
   },
   {
    "duration": 125,
    "start_time": "2023-03-06T02:09:41.820Z"
   },
   {
    "duration": 7859,
    "start_time": "2023-03-06T02:09:41.947Z"
   },
   {
    "duration": 5,
    "start_time": "2023-03-06T02:09:49.808Z"
   },
   {
    "duration": 53,
    "start_time": "2023-03-06T02:11:26.124Z"
   },
   {
    "duration": 1600,
    "start_time": "2023-03-06T02:11:30.552Z"
   },
   {
    "duration": 2468,
    "start_time": "2023-03-06T02:11:32.153Z"
   },
   {
    "duration": 44,
    "start_time": "2023-03-06T02:11:34.622Z"
   },
   {
    "duration": 121,
    "start_time": "2023-03-06T02:11:34.668Z"
   },
   {
    "duration": 3,
    "start_time": "2023-03-06T02:11:34.790Z"
   },
   {
    "duration": 68552,
    "start_time": "2023-03-06T02:11:34.795Z"
   },
   {
    "duration": 8,
    "start_time": "2023-03-06T02:12:43.349Z"
   },
   {
    "duration": 124,
    "start_time": "2023-03-06T02:12:43.359Z"
   },
   {
    "duration": 7917,
    "start_time": "2023-03-06T02:12:43.484Z"
   },
   {
    "duration": 4,
    "start_time": "2023-03-06T02:12:51.403Z"
   },
   {
    "duration": 5,
    "start_time": "2023-03-06T02:12:59.263Z"
   },
   {
    "duration": 1403,
    "start_time": "2023-03-06T02:14:55.253Z"
   },
   {
    "duration": 957,
    "start_time": "2023-03-06T02:14:56.657Z"
   },
   {
    "duration": 46,
    "start_time": "2023-03-06T02:14:57.616Z"
   },
   {
    "duration": 159,
    "start_time": "2023-03-06T02:14:57.664Z"
   },
   {
    "duration": 3,
    "start_time": "2023-03-06T02:14:57.826Z"
   },
   {
    "duration": 70022,
    "start_time": "2023-03-06T02:14:57.831Z"
   },
   {
    "duration": 12,
    "start_time": "2023-03-06T02:16:07.855Z"
   },
   {
    "duration": 124,
    "start_time": "2023-03-06T02:16:07.870Z"
   },
   {
    "duration": 5,
    "start_time": "2023-03-06T02:16:07.995Z"
   },
   {
    "duration": 7,
    "start_time": "2023-03-06T02:16:27.593Z"
   },
   {
    "duration": 8034,
    "start_time": "2023-03-06T02:16:41.704Z"
   },
   {
    "duration": 5,
    "start_time": "2023-03-06T02:17:32.657Z"
   },
   {
    "duration": 52,
    "start_time": "2023-03-06T02:21:09.353Z"
   },
   {
    "duration": 1440,
    "start_time": "2023-03-06T02:21:19.905Z"
   },
   {
    "duration": 984,
    "start_time": "2023-03-06T02:21:21.347Z"
   },
   {
    "duration": 49,
    "start_time": "2023-03-06T02:21:22.333Z"
   },
   {
    "duration": 211,
    "start_time": "2023-03-06T02:21:22.383Z"
   },
   {
    "duration": 4,
    "start_time": "2023-03-06T02:21:22.596Z"
   },
   {
    "duration": 68677,
    "start_time": "2023-03-06T02:21:22.601Z"
   },
   {
    "duration": 8,
    "start_time": "2023-03-06T02:22:31.280Z"
   },
   {
    "duration": 151,
    "start_time": "2023-03-06T02:22:31.290Z"
   },
   {
    "duration": 7865,
    "start_time": "2023-03-06T02:22:31.443Z"
   },
   {
    "duration": 4,
    "start_time": "2023-03-06T02:22:39.310Z"
   },
   {
    "duration": 4,
    "start_time": "2023-03-06T02:22:53.650Z"
   },
   {
    "duration": 48,
    "start_time": "2023-03-06T02:23:21.324Z"
   },
   {
    "duration": 4865,
    "start_time": "2023-03-06T02:23:24.392Z"
   },
   {
    "duration": 12,
    "start_time": "2023-03-06T02:23:37.278Z"
   },
   {
    "duration": 49669,
    "start_time": "2023-03-06T02:24:28.979Z"
   },
   {
    "duration": 50,
    "start_time": "2023-03-06T02:26:12.799Z"
   },
   {
    "duration": 29,
    "start_time": "2023-03-06T02:26:56.721Z"
   },
   {
    "duration": 19673,
    "start_time": "2023-03-06T02:27:34.409Z"
   },
   {
    "duration": 5,
    "start_time": "2023-03-06T02:28:50.476Z"
   },
   {
    "duration": 19506,
    "start_time": "2023-03-06T02:29:17.143Z"
   },
   {
    "duration": 4,
    "start_time": "2023-03-06T02:30:03.199Z"
   },
   {
    "duration": 4,
    "start_time": "2023-03-06T02:30:11.647Z"
   },
   {
    "duration": 67177,
    "start_time": "2023-03-06T02:30:12.475Z"
   },
   {
    "duration": 4,
    "start_time": "2023-03-06T02:31:37.481Z"
   },
   {
    "duration": 1632,
    "start_time": "2023-03-06T02:32:06.636Z"
   },
   {
    "duration": 2574,
    "start_time": "2023-03-06T02:32:08.270Z"
   },
   {
    "duration": 47,
    "start_time": "2023-03-06T02:32:10.845Z"
   },
   {
    "duration": 134,
    "start_time": "2023-03-06T02:32:10.894Z"
   },
   {
    "duration": 3,
    "start_time": "2023-03-06T02:32:11.031Z"
   },
   {
    "duration": 70664,
    "start_time": "2023-03-06T02:32:11.037Z"
   },
   {
    "duration": 8,
    "start_time": "2023-03-06T02:33:21.703Z"
   },
   {
    "duration": 134,
    "start_time": "2023-03-06T02:33:21.712Z"
   },
   {
    "duration": 7803,
    "start_time": "2023-03-06T02:33:21.847Z"
   },
   {
    "duration": 4,
    "start_time": "2023-03-06T02:33:29.652Z"
   },
   {
    "duration": 71787,
    "start_time": "2023-03-06T02:33:29.657Z"
   },
   {
    "duration": 4067,
    "start_time": "2023-03-06T02:35:01.841Z"
   },
   {
    "duration": 173173,
    "start_time": "2023-03-06T02:35:11.573Z"
   },
   {
    "duration": 1618,
    "start_time": "2023-03-06T02:41:49.725Z"
   },
   {
    "duration": 1069,
    "start_time": "2023-03-06T02:41:51.345Z"
   },
   {
    "duration": 50,
    "start_time": "2023-03-06T02:41:52.417Z"
   },
   {
    "duration": 154,
    "start_time": "2023-03-06T02:41:52.469Z"
   },
   {
    "duration": 3,
    "start_time": "2023-03-06T02:41:52.625Z"
   },
   {
    "duration": 70869,
    "start_time": "2023-03-06T02:41:52.630Z"
   },
   {
    "duration": 8,
    "start_time": "2023-03-06T02:43:03.501Z"
   },
   {
    "duration": 125,
    "start_time": "2023-03-06T02:43:03.511Z"
   },
   {
    "duration": 7749,
    "start_time": "2023-03-06T02:43:03.644Z"
   },
   {
    "duration": 5,
    "start_time": "2023-03-06T02:43:11.395Z"
   },
   {
    "duration": 129,
    "start_time": "2023-03-06T02:43:17.610Z"
   },
   {
    "duration": 853360,
    "start_time": "2023-03-06T02:43:26.187Z"
   },
   {
    "duration": 169157,
    "start_time": "2023-03-06T02:57:53.189Z"
   },
   {
    "duration": 369425,
    "start_time": "2023-03-06T03:06:34.162Z"
   },
   {
    "duration": 3,
    "start_time": "2023-03-06T03:13:14.917Z"
   },
   {
    "duration": 1472,
    "start_time": "2023-03-06T04:13:38.103Z"
   },
   {
    "duration": 1096,
    "start_time": "2023-03-06T04:13:39.577Z"
   },
   {
    "duration": 45,
    "start_time": "2023-03-06T04:13:40.675Z"
   },
   {
    "duration": 174,
    "start_time": "2023-03-06T04:13:40.724Z"
   },
   {
    "duration": 5,
    "start_time": "2023-03-06T04:13:40.901Z"
   },
   {
    "duration": 72681,
    "start_time": "2023-03-06T04:13:40.908Z"
   },
   {
    "duration": 8,
    "start_time": "2023-03-06T04:14:53.591Z"
   },
   {
    "duration": 132,
    "start_time": "2023-03-06T04:14:53.601Z"
   },
   {
    "duration": 8276,
    "start_time": "2023-03-06T04:14:53.734Z"
   },
   {
    "duration": 5,
    "start_time": "2023-03-06T04:15:02.012Z"
   },
   {
    "duration": 156,
    "start_time": "2023-03-06T04:15:02.019Z"
   },
   {
    "duration": 0,
    "start_time": "2023-03-06T04:15:02.176Z"
   },
   {
    "duration": 0,
    "start_time": "2023-03-06T04:15:02.178Z"
   },
   {
    "duration": 0,
    "start_time": "2023-03-06T04:15:02.179Z"
   },
   {
    "duration": 5,
    "start_time": "2023-03-06T04:15:09.129Z"
   },
   {
    "duration": 27,
    "start_time": "2023-03-06T04:15:10.491Z"
   },
   {
    "duration": 5,
    "start_time": "2023-03-06T04:15:38.121Z"
   },
   {
    "duration": 38374,
    "start_time": "2023-03-06T04:15:40.734Z"
   },
   {
    "duration": 64,
    "start_time": "2023-03-06T04:17:30.844Z"
   },
   {
    "duration": 54566,
    "start_time": "2023-03-06T04:17:36.079Z"
   },
   {
    "duration": 142198,
    "start_time": "2023-03-06T04:18:34.866Z"
   },
   {
    "duration": 224555,
    "start_time": "2023-03-06T04:23:49.223Z"
   },
   {
    "duration": 0,
    "start_time": "2023-03-06T04:30:43.874Z"
   },
   {
    "duration": 170799,
    "start_time": "2023-03-06T04:30:47.175Z"
   },
   {
    "duration": 6,
    "start_time": "2023-03-06T04:33:57.393Z"
   },
   {
    "duration": 237645,
    "start_time": "2023-03-06T04:34:13.305Z"
   },
   {
    "duration": 179343,
    "start_time": "2023-03-06T04:38:47.712Z"
   },
   {
    "duration": 0,
    "start_time": "2023-03-06T04:45:04.692Z"
   },
   {
    "duration": 46453,
    "start_time": "2023-03-06T04:45:05.411Z"
   },
   {
    "duration": 4,
    "start_time": "2023-03-06T04:47:47.289Z"
   },
   {
    "duration": 281336,
    "start_time": "2023-03-06T04:47:58.500Z"
   },
   {
    "duration": 5,
    "start_time": "2023-03-06T04:52:44.586Z"
   },
   {
    "duration": 3306,
    "start_time": "2023-03-06T04:53:36.861Z"
   },
   {
    "duration": 41,
    "start_time": "2023-03-06T04:54:22.795Z"
   },
   {
    "duration": 5,
    "start_time": "2023-03-06T04:54:43.260Z"
   },
   {
    "duration": 60,
    "start_time": "2023-03-06T04:54:47.558Z"
   },
   {
    "duration": 78201,
    "start_time": "2023-03-06T04:54:53.657Z"
   },
   {
    "duration": 5,
    "start_time": "2023-03-06T04:56:25.724Z"
   },
   {
    "duration": 118026,
    "start_time": "2023-03-06T04:56:46.546Z"
   },
   {
    "duration": 5,
    "start_time": "2023-03-06T04:59:02.486Z"
   },
   {
    "duration": 134269,
    "start_time": "2023-03-06T04:59:04.630Z"
   },
   {
    "duration": 5,
    "start_time": "2023-03-06T05:01:28.201Z"
   },
   {
    "duration": 52119,
    "start_time": "2023-03-06T05:01:44.328Z"
   },
   {
    "duration": 79,
    "start_time": "2023-03-06T05:02:46.573Z"
   },
   {
    "duration": 47413,
    "start_time": "2023-03-06T05:02:54.825Z"
   },
   {
    "duration": 75,
    "start_time": "2023-03-06T05:04:05.911Z"
   },
   {
    "duration": 7527,
    "start_time": "2023-03-06T05:04:17.403Z"
   },
   {
    "duration": 52,
    "start_time": "2023-03-06T05:04:39.595Z"
   },
   {
    "duration": 88621,
    "start_time": "2023-03-06T05:04:43.672Z"
   },
   {
    "duration": 94958,
    "start_time": "2023-03-06T05:06:27.883Z"
   },
   {
    "duration": 5,
    "start_time": "2023-03-06T05:08:15.337Z"
   },
   {
    "duration": 1,
    "start_time": "2023-03-06T05:09:17.777Z"
   },
   {
    "duration": 120601,
    "start_time": "2023-03-06T05:09:20.040Z"
   },
   {
    "duration": 4,
    "start_time": "2023-03-06T05:11:24.298Z"
   },
   {
    "duration": 0,
    "start_time": "2023-03-06T05:12:00.548Z"
   },
   {
    "duration": 680333,
    "start_time": "2023-03-06T05:12:02.143Z"
   },
   {
    "duration": 5,
    "start_time": "2023-03-06T05:23:31.251Z"
   },
   {
    "duration": 11,
    "start_time": "2023-03-06T05:24:10.753Z"
   },
   {
    "duration": 12,
    "start_time": "2023-03-06T05:24:41.741Z"
   },
   {
    "duration": 11,
    "start_time": "2023-03-06T05:25:02.837Z"
   },
   {
    "duration": 3,
    "start_time": "2023-03-06T05:25:42.468Z"
   },
   {
    "duration": 17,
    "start_time": "2023-03-06T05:27:32.099Z"
   },
   {
    "duration": 10,
    "start_time": "2023-03-06T05:27:40.296Z"
   },
   {
    "duration": 2,
    "start_time": "2023-03-06T05:27:49.350Z"
   },
   {
    "duration": 17,
    "start_time": "2023-03-06T05:27:51.120Z"
   },
   {
    "duration": 3,
    "start_time": "2023-03-06T05:27:58.733Z"
   },
   {
    "duration": 40,
    "start_time": "2023-03-06T05:27:59.151Z"
   },
   {
    "duration": 3,
    "start_time": "2023-03-06T05:28:05.375Z"
   },
   {
    "duration": 17,
    "start_time": "2023-03-06T05:28:05.782Z"
   },
   {
    "duration": 117342,
    "start_time": "2023-03-06T05:28:30.451Z"
   },
   {
    "duration": 3,
    "start_time": "2023-03-06T05:30:40.930Z"
   },
   {
    "duration": 19,
    "start_time": "2023-03-06T05:30:41.820Z"
   },
   {
    "duration": 131889,
    "start_time": "2023-03-06T05:30:53.756Z"
   },
   {
    "duration": 5,
    "start_time": "2023-03-06T05:33:09.994Z"
   },
   {
    "duration": 3,
    "start_time": "2023-03-06T05:33:15.492Z"
   },
   {
    "duration": 18,
    "start_time": "2023-03-06T05:33:16.199Z"
   },
   {
    "duration": 6,
    "start_time": "2023-03-06T05:33:43.875Z"
   },
   {
    "duration": 6,
    "start_time": "2023-03-06T05:35:04.061Z"
   },
   {
    "duration": 4,
    "start_time": "2023-03-06T05:36:44.151Z"
   },
   {
    "duration": 12,
    "start_time": "2023-03-06T05:36:54.764Z"
   },
   {
    "duration": 6,
    "start_time": "2023-03-06T05:36:58.828Z"
   },
   {
    "duration": 5,
    "start_time": "2023-03-06T05:37:02.339Z"
   },
   {
    "duration": 12,
    "start_time": "2023-03-06T05:37:05.148Z"
   },
   {
    "duration": 6,
    "start_time": "2023-03-06T05:37:14.875Z"
   },
   {
    "duration": 6,
    "start_time": "2023-03-06T05:37:27.293Z"
   },
   {
    "duration": 5,
    "start_time": "2023-03-06T05:38:14.631Z"
   },
   {
    "duration": 22,
    "start_time": "2023-03-06T05:38:15.680Z"
   },
   {
    "duration": 15,
    "start_time": "2023-03-06T05:38:51.548Z"
   },
   {
    "duration": 133766,
    "start_time": "2023-03-06T05:38:54.148Z"
   },
   {
    "duration": 15,
    "start_time": "2023-03-06T05:41:40.481Z"
   },
   {
    "duration": 5,
    "start_time": "2023-03-06T05:41:47.925Z"
   },
   {
    "duration": 16,
    "start_time": "2023-03-06T05:41:51.797Z"
   },
   {
    "duration": 3292,
    "start_time": "2023-03-06T11:03:13.495Z"
   },
   {
    "duration": 1795,
    "start_time": "2023-03-06T11:04:02.299Z"
   },
   {
    "duration": 2404,
    "start_time": "2023-03-06T11:04:25.690Z"
   },
   {
    "duration": 5,
    "start_time": "2023-03-06T11:04:36.842Z"
   },
   {
    "duration": 278,
    "start_time": "2023-03-06T11:07:06.343Z"
   },
   {
    "duration": 3,
    "start_time": "2023-03-06T11:07:19.790Z"
   },
   {
    "duration": 1013,
    "start_time": "2023-03-06T11:09:02.948Z"
   },
   {
    "duration": 67505,
    "start_time": "2023-03-06T11:09:11.942Z"
   },
   {
    "duration": 9,
    "start_time": "2023-03-06T11:11:07.949Z"
   },
   {
    "duration": 111,
    "start_time": "2023-03-06T11:11:10.229Z"
   },
   {
    "duration": 7713,
    "start_time": "2023-03-06T11:12:35.133Z"
   },
   {
    "duration": 13,
    "start_time": "2023-03-06T11:15:20.619Z"
   },
   {
    "duration": 4,
    "start_time": "2023-03-06T11:15:23.547Z"
   },
   {
    "duration": 119487,
    "start_time": "2023-03-06T11:15:25.146Z"
   },
   {
    "duration": 96819,
    "start_time": "2023-03-06T11:19:04.840Z"
   },
   {
    "duration": 3042,
    "start_time": "2023-03-06T12:49:02.991Z"
   },
   {
    "duration": 1533,
    "start_time": "2023-03-06T12:49:06.035Z"
   },
   {
    "duration": 4063,
    "start_time": "2023-03-06T12:49:07.570Z"
   },
   {
    "duration": 47,
    "start_time": "2023-03-06T12:49:11.635Z"
   },
   {
    "duration": 3,
    "start_time": "2023-03-06T12:49:11.684Z"
   },
   {
    "duration": 71289,
    "start_time": "2023-03-06T12:49:11.689Z"
   },
   {
    "duration": 7,
    "start_time": "2023-03-06T12:50:22.980Z"
   },
   {
    "duration": 109,
    "start_time": "2023-03-06T12:50:22.988Z"
   },
   {
    "duration": 7517,
    "start_time": "2023-03-06T12:50:23.099Z"
   },
   {
    "duration": 4,
    "start_time": "2023-03-06T12:50:30.618Z"
   },
   {
    "duration": 111282,
    "start_time": "2023-03-06T12:50:30.623Z"
   },
   {
    "duration": 83803,
    "start_time": "2023-03-06T12:52:21.906Z"
   },
   {
    "duration": 133413,
    "start_time": "2023-03-06T12:54:13.024Z"
   },
   {
    "duration": 687178,
    "start_time": "2023-03-06T12:57:25.515Z"
   },
   {
    "duration": 11,
    "start_time": "2023-03-06T13:08:56.209Z"
   },
   {
    "duration": 5,
    "start_time": "2023-03-06T13:09:22.663Z"
   },
   {
    "duration": 20,
    "start_time": "2023-03-06T13:10:27.127Z"
   },
   {
    "duration": 13,
    "start_time": "2023-03-06T13:13:53.586Z"
   },
   {
    "duration": 6,
    "start_time": "2023-03-06T13:14:05.362Z"
   },
   {
    "duration": 4624,
    "start_time": "2023-03-07T08:08:59.899Z"
   },
   {
    "duration": 3446,
    "start_time": "2023-03-07T08:09:09.419Z"
   },
   {
    "duration": 289,
    "start_time": "2023-03-07T08:09:14.448Z"
   },
   {
    "duration": 1489,
    "start_time": "2023-03-07T08:11:56.982Z"
   },
   {
    "duration": 694,
    "start_time": "2023-03-07T08:12:18.321Z"
   },
   {
    "duration": 3130,
    "start_time": "2023-03-07T08:12:31.524Z"
   },
   {
    "duration": 43,
    "start_time": "2023-03-07T08:12:36.982Z"
   },
   {
    "duration": 5,
    "start_time": "2023-03-07T08:13:25.090Z"
   },
   {
    "duration": 23,
    "start_time": "2023-03-07T08:13:43.096Z"
   },
   {
    "duration": 34,
    "start_time": "2023-03-07T08:13:47.687Z"
   },
   {
    "duration": 16,
    "start_time": "2023-03-07T08:13:52.260Z"
   },
   {
    "duration": 16,
    "start_time": "2023-03-07T08:14:12.386Z"
   },
   {
    "duration": 45,
    "start_time": "2023-03-07T08:14:41.110Z"
   },
   {
    "duration": 125,
    "start_time": "2023-03-07T08:14:49.131Z"
   },
   {
    "duration": 48,
    "start_time": "2023-03-07T08:14:58.624Z"
   },
   {
    "duration": 3,
    "start_time": "2023-03-07T08:18:07.760Z"
   },
   {
    "duration": 17,
    "start_time": "2023-03-07T08:18:22.403Z"
   },
   {
    "duration": 18,
    "start_time": "2023-03-07T08:18:53.882Z"
   },
   {
    "duration": 3,
    "start_time": "2023-03-07T08:18:58.388Z"
   },
   {
    "duration": 26,
    "start_time": "2023-03-07T08:18:59.764Z"
   },
   {
    "duration": 8,
    "start_time": "2023-03-07T08:19:31.761Z"
   },
   {
    "duration": 16,
    "start_time": "2023-03-07T08:19:33.186Z"
   },
   {
    "duration": 326740,
    "start_time": "2023-03-07T08:19:58.189Z"
   },
   {
    "duration": 5,
    "start_time": "2023-03-07T08:25:45.490Z"
   },
   {
    "duration": 27,
    "start_time": "2023-03-07T08:25:59.991Z"
   },
   {
    "duration": 341581,
    "start_time": "2023-03-07T08:26:14.387Z"
   },
   {
    "duration": 7,
    "start_time": "2023-03-07T08:32:55.756Z"
   },
   {
    "duration": 38152,
    "start_time": "2023-03-07T08:33:00.049Z"
   },
   {
    "duration": 576,
    "start_time": "2023-03-07T08:33:53.094Z"
   },
   {
    "duration": 10,
    "start_time": "2023-03-07T08:33:58.565Z"
   },
   {
    "duration": 1383599,
    "start_time": "2023-03-07T08:34:00.492Z"
   },
   {
    "duration": 2502,
    "start_time": "2023-03-07T08:58:29.824Z"
   },
   {
    "duration": 758,
    "start_time": "2023-03-07T08:58:32.329Z"
   },
   {
    "duration": 968,
    "start_time": "2023-03-07T08:58:33.095Z"
   },
   {
    "duration": 97,
    "start_time": "2023-03-07T08:58:34.074Z"
   },
   {
    "duration": 9,
    "start_time": "2023-03-07T08:58:34.181Z"
   },
   {
    "duration": 4428,
    "start_time": "2023-03-07T15:52:16.360Z"
   },
   {
    "duration": 6066,
    "start_time": "2023-03-07T15:52:22.649Z"
   },
   {
    "duration": 5300,
    "start_time": "2023-03-07T15:52:32.051Z"
   },
   {
    "duration": 68,
    "start_time": "2023-03-07T15:52:40.623Z"
   },
   {
    "duration": 5,
    "start_time": "2023-03-07T15:52:44.214Z"
   },
   {
    "duration": 1409663,
    "start_time": "2023-03-07T15:52:46.298Z"
   },
   {
    "duration": 11,
    "start_time": "2023-03-07T16:16:55.849Z"
   },
   {
    "duration": 816,
    "start_time": "2023-03-07T16:17:59.849Z"
   },
   {
    "duration": 13,
    "start_time": "2023-03-07T16:18:05.295Z"
   },
   {
    "duration": 10,
    "start_time": "2023-03-07T16:18:08.011Z"
   },
   {
    "duration": 544,
    "start_time": "2023-03-07T16:18:47.956Z"
   },
   {
    "duration": 10,
    "start_time": "2023-03-07T16:18:52.298Z"
   },
   {
    "duration": 9,
    "start_time": "2023-03-07T16:19:02.575Z"
   },
   {
    "duration": 53,
    "start_time": "2023-03-07T16:19:23.422Z"
   },
   {
    "duration": 42,
    "start_time": "2023-03-07T16:19:36.729Z"
   },
   {
    "duration": 29,
    "start_time": "2023-03-07T16:19:41.896Z"
   },
   {
    "duration": 37,
    "start_time": "2023-03-07T16:19:51.123Z"
   },
   {
    "duration": 31,
    "start_time": "2023-03-07T16:28:03.553Z"
   },
   {
    "duration": 12,
    "start_time": "2023-03-07T16:28:38.900Z"
   },
   {
    "duration": 126,
    "start_time": "2023-03-07T16:28:40.847Z"
   },
   {
    "duration": 9137,
    "start_time": "2023-03-07T16:30:53.298Z"
   },
   {
    "duration": 27,
    "start_time": "2023-03-07T16:31:50.689Z"
   },
   {
    "duration": 5,
    "start_time": "2023-03-07T16:33:43.408Z"
   },
   {
    "duration": 283878,
    "start_time": "2023-03-07T16:34:20.392Z"
   },
   {
    "duration": 117302,
    "start_time": "2023-03-07T16:39:41.082Z"
   },
   {
    "duration": 953881,
    "start_time": "2023-03-07T16:41:50.951Z"
   },
   {
    "duration": 23,
    "start_time": "2023-03-07T16:57:50.351Z"
   },
   {
    "duration": 4,
    "start_time": "2023-03-07T16:57:56.495Z"
   },
   {
    "duration": 20,
    "start_time": "2023-03-07T16:57:58.788Z"
   },
   {
    "duration": 8,
    "start_time": "2023-03-07T16:58:01.792Z"
   },
   {
    "duration": 7,
    "start_time": "2023-03-07T16:58:34.220Z"
   },
   {
    "duration": 47,
    "start_time": "2023-03-07T16:58:35.665Z"
   },
   {
    "duration": 6,
    "start_time": "2023-03-07T16:58:48.942Z"
   },
   {
    "duration": 5,
    "start_time": "2023-03-07T16:59:03.787Z"
   },
   {
    "duration": 26,
    "start_time": "2023-03-07T16:59:05.263Z"
   },
   {
    "duration": 8,
    "start_time": "2023-03-07T16:59:07.616Z"
   },
   {
    "duration": 2004,
    "start_time": "2023-03-28T01:40:40.129Z"
   },
   {
    "duration": 4329,
    "start_time": "2023-03-28T01:40:42.136Z"
   },
   {
    "duration": 2305,
    "start_time": "2023-03-28T01:40:46.467Z"
   },
   {
    "duration": 40,
    "start_time": "2023-03-28T01:40:48.774Z"
   },
   {
    "duration": 8,
    "start_time": "2023-03-28T01:40:48.816Z"
   },
   {
    "duration": 1005509,
    "start_time": "2023-03-28T01:40:48.825Z"
   },
   {
    "duration": 49,
    "start_time": "2023-03-28T01:57:34.335Z"
   },
   {
    "duration": 25,
    "start_time": "2023-03-28T01:57:34.386Z"
   },
   {
    "duration": 80,
    "start_time": "2023-03-28T01:57:34.412Z"
   },
   {
    "duration": 332,
    "start_time": "2023-03-28T01:57:34.494Z"
   },
   {
    "duration": 20,
    "start_time": "2023-03-28T01:57:55.036Z"
   },
   {
    "duration": 23,
    "start_time": "2023-03-28T01:58:08.502Z"
   },
   {
    "duration": 23,
    "start_time": "2023-03-28T01:58:43.793Z"
   },
   {
    "duration": 23,
    "start_time": "2023-03-28T02:00:06.263Z"
   },
   {
    "duration": 706,
    "start_time": "2023-03-28T02:00:18.409Z"
   },
   {
    "duration": 22,
    "start_time": "2023-03-28T02:00:22.287Z"
   },
   {
    "duration": 440,
    "start_time": "2023-03-28T02:01:05.804Z"
   },
   {
    "duration": 6362,
    "start_time": "2023-03-28T02:01:29.473Z"
   },
   {
    "duration": 3,
    "start_time": "2023-03-28T02:01:47.981Z"
   },
   {
    "duration": 4,
    "start_time": "2023-03-28T02:01:59.192Z"
   },
   {
    "duration": 88192,
    "start_time": "2023-03-28T02:02:02.944Z"
   },
   {
    "duration": 68330,
    "start_time": "2023-03-28T02:03:38.305Z"
   },
   {
    "duration": 322410,
    "start_time": "2023-03-28T02:04:54.206Z"
   },
   {
    "duration": 11,
    "start_time": "2023-03-28T02:10:32.829Z"
   },
   {
    "duration": 4,
    "start_time": "2023-03-28T02:10:39.494Z"
   },
   {
    "duration": 15,
    "start_time": "2023-03-28T02:10:41.572Z"
   },
   {
    "duration": 6,
    "start_time": "2023-03-28T02:10:46.230Z"
   }
  ],
  "kernelspec": {
   "display_name": "Python 3 (ipykernel)",
   "language": "python",
   "name": "python3"
  },
  "language_info": {
   "codemirror_mode": {
    "name": "ipython",
    "version": 3
   },
   "file_extension": ".py",
   "mimetype": "text/x-python",
   "name": "python",
   "nbconvert_exporter": "python",
   "pygments_lexer": "ipython3",
   "version": "3.9.5"
  },
  "toc": {
   "base_numbering": 1,
   "nav_menu": {},
   "number_sections": true,
   "sideBar": true,
   "skip_h1_title": true,
   "title_cell": "Содержание",
   "title_sidebar": "Contents",
   "toc_cell": true,
   "toc_position": {
    "height": "calc(100% - 180px)",
    "left": "10px",
    "top": "150px",
    "width": "302.391px"
   },
   "toc_section_display": true,
   "toc_window_display": false
  }
 },
 "nbformat": 4,
 "nbformat_minor": 2
}
